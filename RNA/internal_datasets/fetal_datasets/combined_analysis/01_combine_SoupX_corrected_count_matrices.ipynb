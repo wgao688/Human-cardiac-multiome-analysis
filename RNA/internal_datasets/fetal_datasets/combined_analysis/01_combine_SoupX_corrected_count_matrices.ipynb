{
 "cells": [
  {
   "cell_type": "markdown",
   "id": "a32f15ee-2abc-4ab7-bff6-656cd04c3642",
   "metadata": {},
   "source": [
    "### Combine the SoupX corrected count matrices and save as adata"
   ]
  },
  {
   "cell_type": "code",
   "execution_count": 1,
   "id": "dd55415c-5c0e-4afd-a523-1f339d758d1c",
   "metadata": {},
   "outputs": [],
   "source": [
    "# Load required libraries\n",
    "library(reticulate)\n",
    "library(Matrix)"
   ]
  },
  {
   "cell_type": "code",
   "execution_count": 11,
   "id": "bf7aeabf-4a15-4e65-90ba-ca7d794960cd",
   "metadata": {},
   "outputs": [
    {
     "data": {
      "text/html": [
       "<style>\n",
       ".list-inline {list-style: none; margin:0; padding: 0}\n",
       ".list-inline>li {display: inline-block}\n",
       ".list-inline>li:not(:last-child)::after {content: \"\\00b7\"; padding: 0 .5ex}\n",
       "</style>\n",
       "<ol class=list-inline><li>'../raw_data_Dropseq//Fetal_LV_18wk_e1-run1n2'</li><li>'../raw_data_Dropseq//Fetal-1st-LV-0315-1-run1n2'</li><li>'../raw_data_Dropseq//Fetal-1st-LV-0315-2-run1n2'</li><li>'../raw_data_Dropseq//Fetal-2nd-Atria-1'</li><li>'../raw_data_Dropseq//Fetal-2nd-Atria-2'</li><li>'../raw_data_Dropseq//Fetal-2nd-OFT-1'</li><li>'../raw_data_Dropseq//Fetal-2nd-OFT-2'</li><li>'../raw_data_Dropseq//Fetal-Atria-18wk'</li><li>'../raw_data_Dropseq//Fetal-LRV-18wk-male1-run1n2'</li><li>'../raw_data_Dropseq//Fetal-LRV-18wk-male2-run1n2'</li><li>'../raw_data_Dropseq//Fetal-LRV-18wk-male3-run1n2'</li><li>'../raw_data_Dropseq//Fetal-LRV-18wk-male4-run1n2'</li><li>'../raw_data_Dropseq//Fetal-LV-18wk-e2-run1n2'</li><li>'../raw_data_Dropseq//Fetal-LV-18wk-e3'</li></ol>\n"
      ],
      "text/latex": [
       "\\begin{enumerate*}\n",
       "\\item '../raw\\_data\\_Dropseq//Fetal\\_LV\\_18wk\\_e1-run1n2'\n",
       "\\item '../raw\\_data\\_Dropseq//Fetal-1st-LV-0315-1-run1n2'\n",
       "\\item '../raw\\_data\\_Dropseq//Fetal-1st-LV-0315-2-run1n2'\n",
       "\\item '../raw\\_data\\_Dropseq//Fetal-2nd-Atria-1'\n",
       "\\item '../raw\\_data\\_Dropseq//Fetal-2nd-Atria-2'\n",
       "\\item '../raw\\_data\\_Dropseq//Fetal-2nd-OFT-1'\n",
       "\\item '../raw\\_data\\_Dropseq//Fetal-2nd-OFT-2'\n",
       "\\item '../raw\\_data\\_Dropseq//Fetal-Atria-18wk'\n",
       "\\item '../raw\\_data\\_Dropseq//Fetal-LRV-18wk-male1-run1n2'\n",
       "\\item '../raw\\_data\\_Dropseq//Fetal-LRV-18wk-male2-run1n2'\n",
       "\\item '../raw\\_data\\_Dropseq//Fetal-LRV-18wk-male3-run1n2'\n",
       "\\item '../raw\\_data\\_Dropseq//Fetal-LRV-18wk-male4-run1n2'\n",
       "\\item '../raw\\_data\\_Dropseq//Fetal-LV-18wk-e2-run1n2'\n",
       "\\item '../raw\\_data\\_Dropseq//Fetal-LV-18wk-e3'\n",
       "\\end{enumerate*}\n"
      ],
      "text/markdown": [
       "1. '../raw_data_Dropseq//Fetal_LV_18wk_e1-run1n2'\n",
       "2. '../raw_data_Dropseq//Fetal-1st-LV-0315-1-run1n2'\n",
       "3. '../raw_data_Dropseq//Fetal-1st-LV-0315-2-run1n2'\n",
       "4. '../raw_data_Dropseq//Fetal-2nd-Atria-1'\n",
       "5. '../raw_data_Dropseq//Fetal-2nd-Atria-2'\n",
       "6. '../raw_data_Dropseq//Fetal-2nd-OFT-1'\n",
       "7. '../raw_data_Dropseq//Fetal-2nd-OFT-2'\n",
       "8. '../raw_data_Dropseq//Fetal-Atria-18wk'\n",
       "9. '../raw_data_Dropseq//Fetal-LRV-18wk-male1-run1n2'\n",
       "10. '../raw_data_Dropseq//Fetal-LRV-18wk-male2-run1n2'\n",
       "11. '../raw_data_Dropseq//Fetal-LRV-18wk-male3-run1n2'\n",
       "12. '../raw_data_Dropseq//Fetal-LRV-18wk-male4-run1n2'\n",
       "13. '../raw_data_Dropseq//Fetal-LV-18wk-e2-run1n2'\n",
       "14. '../raw_data_Dropseq//Fetal-LV-18wk-e3'\n",
       "\n",
       "\n"
      ],
      "text/plain": [
       " [1] \"../raw_data_Dropseq//Fetal_LV_18wk_e1-run1n2\"    \n",
       " [2] \"../raw_data_Dropseq//Fetal-1st-LV-0315-1-run1n2\" \n",
       " [3] \"../raw_data_Dropseq//Fetal-1st-LV-0315-2-run1n2\" \n",
       " [4] \"../raw_data_Dropseq//Fetal-2nd-Atria-1\"          \n",
       " [5] \"../raw_data_Dropseq//Fetal-2nd-Atria-2\"          \n",
       " [6] \"../raw_data_Dropseq//Fetal-2nd-OFT-1\"            \n",
       " [7] \"../raw_data_Dropseq//Fetal-2nd-OFT-2\"            \n",
       " [8] \"../raw_data_Dropseq//Fetal-Atria-18wk\"           \n",
       " [9] \"../raw_data_Dropseq//Fetal-LRV-18wk-male1-run1n2\"\n",
       "[10] \"../raw_data_Dropseq//Fetal-LRV-18wk-male2-run1n2\"\n",
       "[11] \"../raw_data_Dropseq//Fetal-LRV-18wk-male3-run1n2\"\n",
       "[12] \"../raw_data_Dropseq//Fetal-LRV-18wk-male4-run1n2\"\n",
       "[13] \"../raw_data_Dropseq//Fetal-LV-18wk-e2-run1n2\"    \n",
       "[14] \"../raw_data_Dropseq//Fetal-LV-18wk-e3\"           "
      ]
     },
     "metadata": {},
     "output_type": "display_data"
    }
   ],
   "source": [
    "# directories for each of the samples\n",
    "sample_dirs <- list.dirs(\"../raw_data_Dropseq/\", recursive=FALSE)\n",
    "sample_dirs"
   ]
  },
  {
   "cell_type": "code",
   "execution_count": 12,
   "id": "d35b03f4-a772-4452-9896-edef9ab379b2",
   "metadata": {},
   "outputs": [],
   "source": [
    "# extract the names of each of the samples\n",
    "sample_names <- basename(sample_dirs)"
   ]
  },
  {
   "cell_type": "code",
   "execution_count": 13,
   "id": "fbf82f48-f59a-43da-a07b-ece62d33da80",
   "metadata": {},
   "outputs": [],
   "source": [
    "# extract the paths to the SoupX corrected matrices\n",
    "SoupX_count_rds_paths <- paste0(sample_dirs, \"/STAR/Solo.out/GeneFullsoupX_corrected_counts.rds\")"
   ]
  },
  {
   "cell_type": "code",
   "execution_count": 14,
   "id": "c1e530c0-116f-4b82-8950-f7e3ca3be434",
   "metadata": {},
   "outputs": [],
   "source": [
    "# keep only those for which there was a stable contamination estimation (this drops one of the files)\n",
    "SoupX_count_rds_paths <- SoupX_count_rds_paths[file.exists(SoupX_count_rds_paths)]"
   ]
  },
  {
   "cell_type": "code",
   "execution_count": 15,
   "id": "fb94bc11-d1d7-401a-aecf-4031fd7563ec",
   "metadata": {},
   "outputs": [
    {
     "name": "stderr",
     "output_type": "stream",
     "text": [
      "Warning message in dir.create(output_adata_dir):\n",
      "“'adata_from_SoupX' already exists”\n"
     ]
    }
   ],
   "source": [
    "output_adata_dir <- \"adata_from_SoupX/\"\n",
    "dir.create(output_adata_dir)"
   ]
  },
  {
   "cell_type": "markdown",
   "id": "e480dac3-d0f5-4601-b01d-1970e4707128",
   "metadata": {},
   "source": [
    "Iterate through each of the SoupX rds files and create a corresponding adata file in the output_adata_dir"
   ]
  },
  {
   "cell_type": "code",
   "execution_count": 16,
   "id": "91a1412e-a830-491c-bf85-8ebe14d174fe",
   "metadata": {},
   "outputs": [
    {
     "name": "stdout",
     "output_type": "stream",
     "text": [
      "[1] 5\n",
      "[1] 10\n"
     ]
    }
   ],
   "source": [
    "num_SoupX_rds <- length(SoupX_count_rds_paths)\n",
    "\n",
    "for (i in 1:num_SoupX_rds) {\n",
    "\n",
    "    if (i %% 5 == 0) {\n",
    "        print(i)\n",
    "        flush.console()\n",
    "    }\n",
    "     \n",
    "    sample_name <- sample_names[i]\n",
    "\n",
    "    # load in the SoupX directory\n",
    "    SoupX_count <- readRDS(SoupX_count_rds_paths[i])\n",
    "    # transpose for adata format since the rows should correspond to the cells and the columns to the genes\n",
    "    sparse_matrix <- t(SoupX_count)\n",
    "    # Import the anndata module from Python\n",
    "    anndata <- import(\"anndata\")\n",
    "    # Create an adata object, with the adata.obs as the rownames of the transposed sparse matrix \n",
    "    # and adata.var as the colnames\n",
    "    adata <- anndata$AnnData(X = sparse_matrix, \n",
    "                            obs = data.frame(row.names = rownames(sparse_matrix)), \n",
    "                            var = data.frame(row.names = colnames(sparse_matrix)))\n",
    "    \n",
    "    # save the adata file\n",
    "    output_adata_path <- paste0(output_adata_dir, sample_name, \".h5ad\")\n",
    "    adata$write(output_adata_path)\n",
    "}"
   ]
  }
 ],
 "metadata": {
  "kernelspec": {
   "display_name": "R",
   "language": "R",
   "name": "ir"
  },
  "language_info": {
   "codemirror_mode": "r",
   "file_extension": ".r",
   "mimetype": "text/x-r-source",
   "name": "R",
   "pygments_lexer": "r",
   "version": "4.4.1"
  }
 },
 "nbformat": 4,
 "nbformat_minor": 5
}

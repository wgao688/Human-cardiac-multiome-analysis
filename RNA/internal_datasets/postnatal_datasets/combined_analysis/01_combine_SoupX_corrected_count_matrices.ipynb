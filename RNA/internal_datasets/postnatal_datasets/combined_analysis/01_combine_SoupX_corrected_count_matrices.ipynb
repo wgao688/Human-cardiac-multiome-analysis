{
 "cells": [
  {
   "cell_type": "markdown",
   "id": "a32f15ee-2abc-4ab7-bff6-656cd04c3642",
   "metadata": {},
   "source": [
    "### Combine the SoupX corrected count matrices and save as adata"
   ]
  },
  {
   "cell_type": "code",
   "execution_count": 1,
   "id": "dd55415c-5c0e-4afd-a523-1f339d758d1c",
   "metadata": {},
   "outputs": [],
   "source": [
    "# Load required libraries\n",
    "library(reticulate)\n",
    "library(Matrix)"
   ]
  },
  {
   "cell_type": "code",
   "execution_count": 2,
   "id": "bf7aeabf-4a15-4e65-90ba-ca7d794960cd",
   "metadata": {},
   "outputs": [
    {
     "data": {
      "text/html": [
       "<style>\n",
       ".list-inline {list-style: none; margin:0; padding: 0}\n",
       ".list-inline>li {display: inline-block}\n",
       ".list-inline>li:not(:last-child)::after {content: \"\\00b7\"; padding: 0 .5ex}\n",
       "</style>\n",
       "<ol class=list-inline><li>'../raw_data//K1430-LV'</li><li>'../raw_data//K1430-LV-2nd'</li><li>'../raw_data//K1430-LV-FACS'</li><li>'../raw_data//K1430-LV-FACS-KAPA'</li><li>'../raw_data//K1485-LV-FACS'</li><li>'../raw_data//K1485-LV-nonFACS'</li><li>'../raw_data//K1488-LV-FACS'</li><li>'../raw_data//K1488-LV-nonFACS'</li><li>'../raw_data//K1545-LV-FACS'</li><li>'../raw_data//K1545-LV-run123'</li><li>'../raw_data//K1549-LV-FACS'</li><li>'../raw_data//K1549-LV-nonFACS'</li><li>'../raw_data//K1561-LV-FACS'</li><li>'../raw_data//K1570-LV-FACS'</li><li>'../raw_data//K1570-LV-nonFACS'</li><li>'../raw_data//K1584-LV-FACS'</li><li>'../raw_data//K1584-LV-FACS-e2'</li><li>'../raw_data//K1584-LV-run1n2'</li><li>'../raw_data//K1617-LV'</li><li>'../raw_data//K1617-LV-2nd'</li><li>'../raw_data//K1617-LV-FACS'</li><li>'../raw_data//K1617-LV-FACS-KAPA'</li><li>'../raw_data//K1622-LV-FACS'</li><li>'../raw_data//K1622-LV-run123'</li><li>'../raw_data//K1647-LV-FACS'</li><li>'../raw_data//K1647-LV-nonFACS'</li><li>'../raw_data//K1702-LV-RE-FACS'</li><li>'../raw_data//K1702-LV-RE-nonFACS'</li><li>'../raw_data//K1718-LV-FACS'</li><li>'../raw_data//K1718-LV-nonFACS'</li><li>'../raw_data//K1727-LV-FACS'</li><li>'../raw_data//K1727-LV-nonFACS'</li><li>'../raw_data//K1739-LV-FACS'</li><li>'../raw_data//K1739-LV-nonFACS'</li><li>'../raw_data//K1783-LV-FACS'</li><li>'../raw_data//K1783-LV-nonFACS'</li><li>'../raw_data//K1783-LV-RE-FACS'</li><li>'../raw_data//K1783-LV-RE-nonFACS'</li><li>'../raw_data//ND15755-Atr-1st'</li><li>'../raw_data//ND15755-Atr-3rd'</li><li>'../raw_data//ND15755-LV-1st-run123'</li><li>'../raw_data//ND15755-LV-2nd-run1234'</li><li>'../raw_data//ND15755-RV-1st'</li><li>'../raw_data//ND15755-RV-2nd'</li><li>'../raw_data//ND15755-RV-3rd'</li><li>'../raw_data//ND15840-LV-1st-run1n2'</li><li>'../raw_data//ND15840-LV-2nd-run1n2'</li><li>'../raw_data//ND15840-LV-3rd'</li><li>'../raw_data//ND15840-RA-2nd-run1n2'</li><li>'../raw_data//ND15840-RA-3rd'</li><li>'../raw_data//ND15840-RA-4th'</li><li>'../raw_data//ND15840-RV-1st'</li><li>'../raw_data//ND15840-RV-2nd'</li><li>'../raw_data//ND15840-RV-3rd'</li></ol>\n"
      ],
      "text/latex": [
       "\\begin{enumerate*}\n",
       "\\item '../raw\\_data//K1430-LV'\n",
       "\\item '../raw\\_data//K1430-LV-2nd'\n",
       "\\item '../raw\\_data//K1430-LV-FACS'\n",
       "\\item '../raw\\_data//K1430-LV-FACS-KAPA'\n",
       "\\item '../raw\\_data//K1485-LV-FACS'\n",
       "\\item '../raw\\_data//K1485-LV-nonFACS'\n",
       "\\item '../raw\\_data//K1488-LV-FACS'\n",
       "\\item '../raw\\_data//K1488-LV-nonFACS'\n",
       "\\item '../raw\\_data//K1545-LV-FACS'\n",
       "\\item '../raw\\_data//K1545-LV-run123'\n",
       "\\item '../raw\\_data//K1549-LV-FACS'\n",
       "\\item '../raw\\_data//K1549-LV-nonFACS'\n",
       "\\item '../raw\\_data//K1561-LV-FACS'\n",
       "\\item '../raw\\_data//K1570-LV-FACS'\n",
       "\\item '../raw\\_data//K1570-LV-nonFACS'\n",
       "\\item '../raw\\_data//K1584-LV-FACS'\n",
       "\\item '../raw\\_data//K1584-LV-FACS-e2'\n",
       "\\item '../raw\\_data//K1584-LV-run1n2'\n",
       "\\item '../raw\\_data//K1617-LV'\n",
       "\\item '../raw\\_data//K1617-LV-2nd'\n",
       "\\item '../raw\\_data//K1617-LV-FACS'\n",
       "\\item '../raw\\_data//K1617-LV-FACS-KAPA'\n",
       "\\item '../raw\\_data//K1622-LV-FACS'\n",
       "\\item '../raw\\_data//K1622-LV-run123'\n",
       "\\item '../raw\\_data//K1647-LV-FACS'\n",
       "\\item '../raw\\_data//K1647-LV-nonFACS'\n",
       "\\item '../raw\\_data//K1702-LV-RE-FACS'\n",
       "\\item '../raw\\_data//K1702-LV-RE-nonFACS'\n",
       "\\item '../raw\\_data//K1718-LV-FACS'\n",
       "\\item '../raw\\_data//K1718-LV-nonFACS'\n",
       "\\item '../raw\\_data//K1727-LV-FACS'\n",
       "\\item '../raw\\_data//K1727-LV-nonFACS'\n",
       "\\item '../raw\\_data//K1739-LV-FACS'\n",
       "\\item '../raw\\_data//K1739-LV-nonFACS'\n",
       "\\item '../raw\\_data//K1783-LV-FACS'\n",
       "\\item '../raw\\_data//K1783-LV-nonFACS'\n",
       "\\item '../raw\\_data//K1783-LV-RE-FACS'\n",
       "\\item '../raw\\_data//K1783-LV-RE-nonFACS'\n",
       "\\item '../raw\\_data//ND15755-Atr-1st'\n",
       "\\item '../raw\\_data//ND15755-Atr-3rd'\n",
       "\\item '../raw\\_data//ND15755-LV-1st-run123'\n",
       "\\item '../raw\\_data//ND15755-LV-2nd-run1234'\n",
       "\\item '../raw\\_data//ND15755-RV-1st'\n",
       "\\item '../raw\\_data//ND15755-RV-2nd'\n",
       "\\item '../raw\\_data//ND15755-RV-3rd'\n",
       "\\item '../raw\\_data//ND15840-LV-1st-run1n2'\n",
       "\\item '../raw\\_data//ND15840-LV-2nd-run1n2'\n",
       "\\item '../raw\\_data//ND15840-LV-3rd'\n",
       "\\item '../raw\\_data//ND15840-RA-2nd-run1n2'\n",
       "\\item '../raw\\_data//ND15840-RA-3rd'\n",
       "\\item '../raw\\_data//ND15840-RA-4th'\n",
       "\\item '../raw\\_data//ND15840-RV-1st'\n",
       "\\item '../raw\\_data//ND15840-RV-2nd'\n",
       "\\item '../raw\\_data//ND15840-RV-3rd'\n",
       "\\end{enumerate*}\n"
      ],
      "text/markdown": [
       "1. '../raw_data//K1430-LV'\n",
       "2. '../raw_data//K1430-LV-2nd'\n",
       "3. '../raw_data//K1430-LV-FACS'\n",
       "4. '../raw_data//K1430-LV-FACS-KAPA'\n",
       "5. '../raw_data//K1485-LV-FACS'\n",
       "6. '../raw_data//K1485-LV-nonFACS'\n",
       "7. '../raw_data//K1488-LV-FACS'\n",
       "8. '../raw_data//K1488-LV-nonFACS'\n",
       "9. '../raw_data//K1545-LV-FACS'\n",
       "10. '../raw_data//K1545-LV-run123'\n",
       "11. '../raw_data//K1549-LV-FACS'\n",
       "12. '../raw_data//K1549-LV-nonFACS'\n",
       "13. '../raw_data//K1561-LV-FACS'\n",
       "14. '../raw_data//K1570-LV-FACS'\n",
       "15. '../raw_data//K1570-LV-nonFACS'\n",
       "16. '../raw_data//K1584-LV-FACS'\n",
       "17. '../raw_data//K1584-LV-FACS-e2'\n",
       "18. '../raw_data//K1584-LV-run1n2'\n",
       "19. '../raw_data//K1617-LV'\n",
       "20. '../raw_data//K1617-LV-2nd'\n",
       "21. '../raw_data//K1617-LV-FACS'\n",
       "22. '../raw_data//K1617-LV-FACS-KAPA'\n",
       "23. '../raw_data//K1622-LV-FACS'\n",
       "24. '../raw_data//K1622-LV-run123'\n",
       "25. '../raw_data//K1647-LV-FACS'\n",
       "26. '../raw_data//K1647-LV-nonFACS'\n",
       "27. '../raw_data//K1702-LV-RE-FACS'\n",
       "28. '../raw_data//K1702-LV-RE-nonFACS'\n",
       "29. '../raw_data//K1718-LV-FACS'\n",
       "30. '../raw_data//K1718-LV-nonFACS'\n",
       "31. '../raw_data//K1727-LV-FACS'\n",
       "32. '../raw_data//K1727-LV-nonFACS'\n",
       "33. '../raw_data//K1739-LV-FACS'\n",
       "34. '../raw_data//K1739-LV-nonFACS'\n",
       "35. '../raw_data//K1783-LV-FACS'\n",
       "36. '../raw_data//K1783-LV-nonFACS'\n",
       "37. '../raw_data//K1783-LV-RE-FACS'\n",
       "38. '../raw_data//K1783-LV-RE-nonFACS'\n",
       "39. '../raw_data//ND15755-Atr-1st'\n",
       "40. '../raw_data//ND15755-Atr-3rd'\n",
       "41. '../raw_data//ND15755-LV-1st-run123'\n",
       "42. '../raw_data//ND15755-LV-2nd-run1234'\n",
       "43. '../raw_data//ND15755-RV-1st'\n",
       "44. '../raw_data//ND15755-RV-2nd'\n",
       "45. '../raw_data//ND15755-RV-3rd'\n",
       "46. '../raw_data//ND15840-LV-1st-run1n2'\n",
       "47. '../raw_data//ND15840-LV-2nd-run1n2'\n",
       "48. '../raw_data//ND15840-LV-3rd'\n",
       "49. '../raw_data//ND15840-RA-2nd-run1n2'\n",
       "50. '../raw_data//ND15840-RA-3rd'\n",
       "51. '../raw_data//ND15840-RA-4th'\n",
       "52. '../raw_data//ND15840-RV-1st'\n",
       "53. '../raw_data//ND15840-RV-2nd'\n",
       "54. '../raw_data//ND15840-RV-3rd'\n",
       "\n",
       "\n"
      ],
      "text/plain": [
       " [1] \"../raw_data//K1430-LV\"               \"../raw_data//K1430-LV-2nd\"          \n",
       " [3] \"../raw_data//K1430-LV-FACS\"          \"../raw_data//K1430-LV-FACS-KAPA\"    \n",
       " [5] \"../raw_data//K1485-LV-FACS\"          \"../raw_data//K1485-LV-nonFACS\"      \n",
       " [7] \"../raw_data//K1488-LV-FACS\"          \"../raw_data//K1488-LV-nonFACS\"      \n",
       " [9] \"../raw_data//K1545-LV-FACS\"          \"../raw_data//K1545-LV-run123\"       \n",
       "[11] \"../raw_data//K1549-LV-FACS\"          \"../raw_data//K1549-LV-nonFACS\"      \n",
       "[13] \"../raw_data//K1561-LV-FACS\"          \"../raw_data//K1570-LV-FACS\"         \n",
       "[15] \"../raw_data//K1570-LV-nonFACS\"       \"../raw_data//K1584-LV-FACS\"         \n",
       "[17] \"../raw_data//K1584-LV-FACS-e2\"       \"../raw_data//K1584-LV-run1n2\"       \n",
       "[19] \"../raw_data//K1617-LV\"               \"../raw_data//K1617-LV-2nd\"          \n",
       "[21] \"../raw_data//K1617-LV-FACS\"          \"../raw_data//K1617-LV-FACS-KAPA\"    \n",
       "[23] \"../raw_data//K1622-LV-FACS\"          \"../raw_data//K1622-LV-run123\"       \n",
       "[25] \"../raw_data//K1647-LV-FACS\"          \"../raw_data//K1647-LV-nonFACS\"      \n",
       "[27] \"../raw_data//K1702-LV-RE-FACS\"       \"../raw_data//K1702-LV-RE-nonFACS\"   \n",
       "[29] \"../raw_data//K1718-LV-FACS\"          \"../raw_data//K1718-LV-nonFACS\"      \n",
       "[31] \"../raw_data//K1727-LV-FACS\"          \"../raw_data//K1727-LV-nonFACS\"      \n",
       "[33] \"../raw_data//K1739-LV-FACS\"          \"../raw_data//K1739-LV-nonFACS\"      \n",
       "[35] \"../raw_data//K1783-LV-FACS\"          \"../raw_data//K1783-LV-nonFACS\"      \n",
       "[37] \"../raw_data//K1783-LV-RE-FACS\"       \"../raw_data//K1783-LV-RE-nonFACS\"   \n",
       "[39] \"../raw_data//ND15755-Atr-1st\"        \"../raw_data//ND15755-Atr-3rd\"       \n",
       "[41] \"../raw_data//ND15755-LV-1st-run123\"  \"../raw_data//ND15755-LV-2nd-run1234\"\n",
       "[43] \"../raw_data//ND15755-RV-1st\"         \"../raw_data//ND15755-RV-2nd\"        \n",
       "[45] \"../raw_data//ND15755-RV-3rd\"         \"../raw_data//ND15840-LV-1st-run1n2\" \n",
       "[47] \"../raw_data//ND15840-LV-2nd-run1n2\"  \"../raw_data//ND15840-LV-3rd\"        \n",
       "[49] \"../raw_data//ND15840-RA-2nd-run1n2\"  \"../raw_data//ND15840-RA-3rd\"        \n",
       "[51] \"../raw_data//ND15840-RA-4th\"         \"../raw_data//ND15840-RV-1st\"        \n",
       "[53] \"../raw_data//ND15840-RV-2nd\"         \"../raw_data//ND15840-RV-3rd\"        "
      ]
     },
     "metadata": {},
     "output_type": "display_data"
    }
   ],
   "source": [
    "# directories for each of the samples\n",
    "sample_dirs <- list.dirs(\"../raw_data/\", recursive=FALSE)\n",
    "sample_dirs"
   ]
  },
  {
   "cell_type": "code",
   "execution_count": 3,
   "id": "d35b03f4-a772-4452-9896-edef9ab379b2",
   "metadata": {},
   "outputs": [],
   "source": [
    "# extract the names of each of the samples\n",
    "sample_names <- basename(sample_dirs)"
   ]
  },
  {
   "cell_type": "code",
   "execution_count": 4,
   "id": "fbf82f48-f59a-43da-a07b-ece62d33da80",
   "metadata": {},
   "outputs": [],
   "source": [
    "# extract the paths to the SoupX corrected matrices\n",
    "SoupX_count_rds_paths <- paste0(sample_dirs, \"/STAR/Solo.out/GeneFullsoupX_corrected_counts.rds\")"
   ]
  },
  {
   "cell_type": "code",
   "execution_count": 5,
   "id": "fb94bc11-d1d7-401a-aecf-4031fd7563ec",
   "metadata": {},
   "outputs": [
    {
     "name": "stderr",
     "output_type": "stream",
     "text": [
      "Warning message in dir.create(output_adata_dir):\n",
      "“'adata_from_SoupX' already exists”\n"
     ]
    }
   ],
   "source": [
    "output_adata_dir <- \"adata_from_SoupX/\"\n",
    "dir.create(output_adata_dir)"
   ]
  },
  {
   "cell_type": "markdown",
   "id": "e480dac3-d0f5-4601-b01d-1970e4707128",
   "metadata": {},
   "source": [
    "Iterate through each of the SoupX rds files and create a corresponding adata file in the output_adata_dir"
   ]
  },
  {
   "cell_type": "code",
   "execution_count": 6,
   "id": "91a1412e-a830-491c-bf85-8ebe14d174fe",
   "metadata": {},
   "outputs": [
    {
     "name": "stdout",
     "output_type": "stream",
     "text": [
      "[1] 5\n",
      "[1] 10\n",
      "[1] 15\n",
      "[1] 20\n",
      "[1] 25\n",
      "[1] 30\n",
      "[1] 35\n",
      "[1] 40\n",
      "[1] 45\n",
      "[1] 50\n"
     ]
    }
   ],
   "source": [
    "num_SoupX_rds <- length(SoupX_count_rds_paths)\n",
    "\n",
    "for (i in 1:num_SoupX_rds) {\n",
    "\n",
    "    if (i %% 5 == 0) {\n",
    "        print(i)\n",
    "        flush.console()\n",
    "    }\n",
    "     \n",
    "    sample_name <- sample_names[i]\n",
    "\n",
    "    # load in the SoupX directory\n",
    "    SoupX_count <- readRDS(SoupX_count_rds_paths[i])\n",
    "    # transpose for adata format since the rows should correspond to the cells and the columns to the genes\n",
    "    sparse_matrix <- t(SoupX_count)\n",
    "    # Import the anndata module from Python\n",
    "    anndata <- import(\"anndata\")\n",
    "    # Create an adata object, with the adata.obs as the rownames of the transposed sparse matrix \n",
    "    # and adata.var as the colnames\n",
    "    adata <- anndata$AnnData(X = sparse_matrix, \n",
    "                            obs = data.frame(row.names = rownames(sparse_matrix)), \n",
    "                            var = data.frame(row.names = colnames(sparse_matrix)))\n",
    "    \n",
    "    # save the adata file\n",
    "    output_adata_path <- paste0(output_adata_dir, sample_name, \".h5ad\")\n",
    "    adata$write(output_adata_path)\n",
    "}"
   ]
  }
 ],
 "metadata": {
  "kernelspec": {
   "display_name": "R",
   "language": "R",
   "name": "ir"
  },
  "language_info": {
   "codemirror_mode": "r",
   "file_extension": ".r",
   "mimetype": "text/x-r-source",
   "name": "R",
   "pygments_lexer": "r",
   "version": "4.4.1"
  }
 },
 "nbformat": 4,
 "nbformat_minor": 5
}

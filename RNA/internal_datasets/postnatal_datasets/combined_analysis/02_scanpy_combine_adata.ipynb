{
 "cells": [
  {
   "cell_type": "code",
   "execution_count": 1,
   "id": "3058661d-8fca-40d7-bf95-d4eb36359e1b",
   "metadata": {},
   "outputs": [],
   "source": [
    "import scanpy as sc \n",
    "import numpy as np\n",
    "import matplotlib.pyplot as plt\n",
    "import os\n",
    "import pandas as pd"
   ]
  },
  {
   "cell_type": "code",
   "execution_count": 2,
   "id": "d84a27b0-f1d8-48bd-9b92-71d2b47b6e66",
   "metadata": {},
   "outputs": [],
   "source": [
    "adata_folder =  \"adata_from_SoupX/\"\n",
    "adata_files = os.listdir(adata_folder)\n",
    "num_files = len(adata_files)"
   ]
  },
  {
   "cell_type": "code",
   "execution_count": 3,
   "id": "12f70176-17fd-4671-a0fc-1384cd71d933",
   "metadata": {},
   "outputs": [],
   "source": [
    "sample_names = [f.replace(\".h5ad\", \"\") for f in adata_files]"
   ]
  },
  {
   "cell_type": "code",
   "execution_count": 4,
   "id": "6f46ce86-aa96-4b34-b0b8-b9bbfa532653",
   "metadata": {},
   "outputs": [
    {
     "name": "stdout",
     "output_type": "stream",
     "text": [
      "CPU times: user 1.74 s, sys: 1.82 s, total: 3.56 s\n",
      "Wall time: 3.56 s\n"
     ]
    }
   ],
   "source": [
    "%%time \n",
    "adata_list = list()\n",
    "for i in np.arange(num_files):\n",
    "    adata_file_path = adata_folder + adata_files[i]\n",
    "    sample_name = sample_names[i]\n",
    "    adata = sc.read_h5ad(adata_file_path)\n",
    "    adata.obs['sample'] = sample_name\n",
    "    adata.obs_names = sample_name + \":\" + adata.obs_names\n",
    "    adata_list.append(adata)"
   ]
  },
  {
   "cell_type": "code",
   "execution_count": 5,
   "id": "1987f403-af6d-4ca3-a2d6-7d8d1847cc54",
   "metadata": {},
   "outputs": [],
   "source": [
    "# concatenate all of the adata\n",
    "adata = sc.concat(adata_list)"
   ]
  },
  {
   "cell_type": "code",
   "execution_count": 6,
   "id": "791c803b-7d6a-404c-9a7e-a9365878f6cb",
   "metadata": {},
   "outputs": [
    {
     "data": {
      "text/plain": [
       "AnnData object with n_obs × n_vars = 313849 × 38606\n",
       "    obs: 'sample'"
      ]
     },
     "execution_count": 6,
     "metadata": {},
     "output_type": "execute_result"
    }
   ],
   "source": [
    "adata"
   ]
  },
  {
   "cell_type": "markdown",
   "id": "16fe7c40-5c26-448b-bec8-9c361ff0ea8e",
   "metadata": {},
   "source": [
    "Add more metadata"
   ]
  },
  {
   "cell_type": "code",
   "execution_count": 7,
   "id": "d2278fed-b45b-400b-97d9-e6e37170259d",
   "metadata": {},
   "outputs": [],
   "source": [
    "donor_level_metadata = pd.read_csv(\"../01_metadata.txt\", delim_whitespace=True)\n",
    "donor_level_metadata = donor_level_metadata[[\"sample\", \"age_status\", \"disease_status\", \"age\", \"sex\", \"donor_id\", \"region\"]]"
   ]
  },
  {
   "cell_type": "code",
   "execution_count": 8,
   "id": "5e86c702-30cf-48ef-b591-35d1b4f8769f",
   "metadata": {},
   "outputs": [],
   "source": [
    "donor_metadata_set = set(donor_level_metadata['sample'])"
   ]
  },
  {
   "cell_type": "code",
   "execution_count": 9,
   "id": "c1d938df-59e6-4fef-b6d4-516873fae9ab",
   "metadata": {},
   "outputs": [
    {
     "name": "stderr",
     "output_type": "stream",
     "text": [
      "/home/william/anaconda3/envs/r-kernel/lib/python3.12/site-packages/anndata/_core/anndata.py:747: UserWarning: \n",
      "AnnData expects .obs.index to contain strings, but got values like:\n",
      "    [0, 1, 2, 3, 4]\n",
      "\n",
      "    Inferred to be: integer\n",
      "\n",
      "  value_idx = self._prep_dim_index(value.index, attr)\n"
     ]
    }
   ],
   "source": [
    "adata.obs = adata.obs.reset_index().merge(donor_level_metadata)"
   ]
  },
  {
   "cell_type": "code",
   "execution_count": 11,
   "id": "fa87a7f4-b982-4494-94b9-cc26aafd4870",
   "metadata": {},
   "outputs": [],
   "source": [
    "adata.obs_names = adata.obs['index']\n",
    "adata.obs = adata.obs.drop(columns = \"index\")"
   ]
  },
  {
   "cell_type": "code",
   "execution_count": 14,
   "id": "02e66719-ab86-4847-bc14-249a1cb8f9d3",
   "metadata": {},
   "outputs": [
    {
     "data": {
      "text/html": [
       "<div>\n",
       "<style scoped>\n",
       "    .dataframe tbody tr th:only-of-type {\n",
       "        vertical-align: middle;\n",
       "    }\n",
       "\n",
       "    .dataframe tbody tr th {\n",
       "        vertical-align: top;\n",
       "    }\n",
       "\n",
       "    .dataframe thead th {\n",
       "        text-align: right;\n",
       "    }\n",
       "</style>\n",
       "<table border=\"1\" class=\"dataframe\">\n",
       "  <thead>\n",
       "    <tr style=\"text-align: right;\">\n",
       "      <th></th>\n",
       "      <th>sample</th>\n",
       "      <th>age_status</th>\n",
       "      <th>disease_status</th>\n",
       "      <th>age</th>\n",
       "      <th>sex</th>\n",
       "      <th>donor_id</th>\n",
       "      <th>region</th>\n",
       "    </tr>\n",
       "    <tr>\n",
       "      <th>index</th>\n",
       "      <th></th>\n",
       "      <th></th>\n",
       "      <th></th>\n",
       "      <th></th>\n",
       "      <th></th>\n",
       "      <th></th>\n",
       "      <th></th>\n",
       "    </tr>\n",
       "  </thead>\n",
       "  <tbody>\n",
       "    <tr>\n",
       "      <th>ND15755-RV-1st:AAAAAGCTTGTC</th>\n",
       "      <td>ND15755-RV-1st</td>\n",
       "      <td>Postnatal</td>\n",
       "      <td>Healthy</td>\n",
       "      <td>65</td>\n",
       "      <td>M</td>\n",
       "      <td>ND15755</td>\n",
       "      <td>RV</td>\n",
       "    </tr>\n",
       "    <tr>\n",
       "      <th>ND15755-RV-1st:AAAAAGTACCTG</th>\n",
       "      <td>ND15755-RV-1st</td>\n",
       "      <td>Postnatal</td>\n",
       "      <td>Healthy</td>\n",
       "      <td>65</td>\n",
       "      <td>M</td>\n",
       "      <td>ND15755</td>\n",
       "      <td>RV</td>\n",
       "    </tr>\n",
       "    <tr>\n",
       "      <th>ND15755-RV-1st:AAAAATCGACAT</th>\n",
       "      <td>ND15755-RV-1st</td>\n",
       "      <td>Postnatal</td>\n",
       "      <td>Healthy</td>\n",
       "      <td>65</td>\n",
       "      <td>M</td>\n",
       "      <td>ND15755</td>\n",
       "      <td>RV</td>\n",
       "    </tr>\n",
       "    <tr>\n",
       "      <th>ND15755-RV-1st:AAAAATTGTCCA</th>\n",
       "      <td>ND15755-RV-1st</td>\n",
       "      <td>Postnatal</td>\n",
       "      <td>Healthy</td>\n",
       "      <td>65</td>\n",
       "      <td>M</td>\n",
       "      <td>ND15755</td>\n",
       "      <td>RV</td>\n",
       "    </tr>\n",
       "    <tr>\n",
       "      <th>ND15755-RV-1st:AAAACATATGGC</th>\n",
       "      <td>ND15755-RV-1st</td>\n",
       "      <td>Postnatal</td>\n",
       "      <td>Healthy</td>\n",
       "      <td>65</td>\n",
       "      <td>M</td>\n",
       "      <td>ND15755</td>\n",
       "      <td>RV</td>\n",
       "    </tr>\n",
       "    <tr>\n",
       "      <th>...</th>\n",
       "      <td>...</td>\n",
       "      <td>...</td>\n",
       "      <td>...</td>\n",
       "      <td>...</td>\n",
       "      <td>...</td>\n",
       "      <td>...</td>\n",
       "      <td>...</td>\n",
       "    </tr>\n",
       "    <tr>\n",
       "      <th>K1647-LV-nonFACS:TTTTGCTTCTTG</th>\n",
       "      <td>K1647-LV-nonFACS</td>\n",
       "      <td>Postnatal</td>\n",
       "      <td>Healthy</td>\n",
       "      <td>34</td>\n",
       "      <td>M</td>\n",
       "      <td>K1647</td>\n",
       "      <td>LV</td>\n",
       "    </tr>\n",
       "    <tr>\n",
       "      <th>K1647-LV-nonFACS:TTTTGTTCACTC</th>\n",
       "      <td>K1647-LV-nonFACS</td>\n",
       "      <td>Postnatal</td>\n",
       "      <td>Healthy</td>\n",
       "      <td>34</td>\n",
       "      <td>M</td>\n",
       "      <td>K1647</td>\n",
       "      <td>LV</td>\n",
       "    </tr>\n",
       "    <tr>\n",
       "      <th>K1647-LV-nonFACS:TTTTTCCTTGTC</th>\n",
       "      <td>K1647-LV-nonFACS</td>\n",
       "      <td>Postnatal</td>\n",
       "      <td>Healthy</td>\n",
       "      <td>34</td>\n",
       "      <td>M</td>\n",
       "      <td>K1647</td>\n",
       "      <td>LV</td>\n",
       "    </tr>\n",
       "    <tr>\n",
       "      <th>K1647-LV-nonFACS:TTTTTCTAACAG</th>\n",
       "      <td>K1647-LV-nonFACS</td>\n",
       "      <td>Postnatal</td>\n",
       "      <td>Healthy</td>\n",
       "      <td>34</td>\n",
       "      <td>M</td>\n",
       "      <td>K1647</td>\n",
       "      <td>LV</td>\n",
       "    </tr>\n",
       "    <tr>\n",
       "      <th>K1647-LV-nonFACS:TTTTTTTTTTTT</th>\n",
       "      <td>K1647-LV-nonFACS</td>\n",
       "      <td>Postnatal</td>\n",
       "      <td>Healthy</td>\n",
       "      <td>34</td>\n",
       "      <td>M</td>\n",
       "      <td>K1647</td>\n",
       "      <td>LV</td>\n",
       "    </tr>\n",
       "  </tbody>\n",
       "</table>\n",
       "<p>313849 rows × 7 columns</p>\n",
       "</div>"
      ],
      "text/plain": [
       "                                         sample age_status disease_status  \\\n",
       "index                                                                       \n",
       "ND15755-RV-1st:AAAAAGCTTGTC      ND15755-RV-1st  Postnatal        Healthy   \n",
       "ND15755-RV-1st:AAAAAGTACCTG      ND15755-RV-1st  Postnatal        Healthy   \n",
       "ND15755-RV-1st:AAAAATCGACAT      ND15755-RV-1st  Postnatal        Healthy   \n",
       "ND15755-RV-1st:AAAAATTGTCCA      ND15755-RV-1st  Postnatal        Healthy   \n",
       "ND15755-RV-1st:AAAACATATGGC      ND15755-RV-1st  Postnatal        Healthy   \n",
       "...                                         ...        ...            ...   \n",
       "K1647-LV-nonFACS:TTTTGCTTCTTG  K1647-LV-nonFACS  Postnatal        Healthy   \n",
       "K1647-LV-nonFACS:TTTTGTTCACTC  K1647-LV-nonFACS  Postnatal        Healthy   \n",
       "K1647-LV-nonFACS:TTTTTCCTTGTC  K1647-LV-nonFACS  Postnatal        Healthy   \n",
       "K1647-LV-nonFACS:TTTTTCTAACAG  K1647-LV-nonFACS  Postnatal        Healthy   \n",
       "K1647-LV-nonFACS:TTTTTTTTTTTT  K1647-LV-nonFACS  Postnatal        Healthy   \n",
       "\n",
       "                               age sex donor_id region  \n",
       "index                                                   \n",
       "ND15755-RV-1st:AAAAAGCTTGTC     65   M  ND15755     RV  \n",
       "ND15755-RV-1st:AAAAAGTACCTG     65   M  ND15755     RV  \n",
       "ND15755-RV-1st:AAAAATCGACAT     65   M  ND15755     RV  \n",
       "ND15755-RV-1st:AAAAATTGTCCA     65   M  ND15755     RV  \n",
       "ND15755-RV-1st:AAAACATATGGC     65   M  ND15755     RV  \n",
       "...                            ...  ..      ...    ...  \n",
       "K1647-LV-nonFACS:TTTTGCTTCTTG   34   M    K1647     LV  \n",
       "K1647-LV-nonFACS:TTTTGTTCACTC   34   M    K1647     LV  \n",
       "K1647-LV-nonFACS:TTTTTCCTTGTC   34   M    K1647     LV  \n",
       "K1647-LV-nonFACS:TTTTTCTAACAG   34   M    K1647     LV  \n",
       "K1647-LV-nonFACS:TTTTTTTTTTTT   34   M    K1647     LV  \n",
       "\n",
       "[313849 rows x 7 columns]"
      ]
     },
     "execution_count": 14,
     "metadata": {},
     "output_type": "execute_result"
    }
   ],
   "source": [
    "adata.obs "
   ]
  },
  {
   "cell_type": "code",
   "execution_count": 13,
   "id": "54564df7-4b89-4875-8014-1805646ab3c7",
   "metadata": {},
   "outputs": [],
   "source": [
    "adata.write(\"02_before_preprocessing.h5ad\")"
   ]
  }
 ],
 "metadata": {
  "kernelspec": {
   "display_name": "Python 3 (ipykernel)",
   "language": "python",
   "name": "python3"
  },
  "language_info": {
   "codemirror_mode": {
    "name": "ipython",
    "version": 3
   },
   "file_extension": ".py",
   "mimetype": "text/x-python",
   "name": "python",
   "nbconvert_exporter": "python",
   "pygments_lexer": "ipython3",
   "version": "3.12.5"
  }
 },
 "nbformat": 4,
 "nbformat_minor": 5
}

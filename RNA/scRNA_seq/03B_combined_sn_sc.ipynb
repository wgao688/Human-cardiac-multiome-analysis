{
 "cells": [
  {
   "cell_type": "markdown",
   "id": "eef6d3ff-0669-4064-9da8-a10c141d2c01",
   "metadata": {},
   "source": [
    "### Combine scRNA-seq and snRNA-seq datasets together and downsample snRNA-seq so that the number of cells/nuclei are the same"
   ]
  },
  {
   "cell_type": "code",
   "execution_count": 1,
   "id": "efcab84a-9910-4c62-bc2e-b253eb97857d",
   "metadata": {},
   "outputs": [],
   "source": [
    "import scanpy as sc \n",
    "from collections import Counter"
   ]
  },
  {
   "cell_type": "code",
   "execution_count": 2,
   "id": "4af5fb43-9e9b-4807-8dcb-7f69f4cc5e9e",
   "metadata": {},
   "outputs": [
    {
     "name": "stdout",
     "output_type": "stream",
     "text": [
      "CPU times: user 1.3 s, sys: 12.9 s, total: 14.2 s\n",
      "Wall time: 14.2 s\n"
     ]
    }
   ],
   "source": [
    "%%time\n",
    "scRNA_adata = sc.read_h5ad(\"03_scRNA_post_scvi.h5ad\")\n",
    "scRNA_adata.X = scRNA_adata.layers['counts']"
   ]
  },
  {
   "cell_type": "code",
   "execution_count": 3,
   "id": "5621f61b-1d15-433d-89b0-3bd09f470407",
   "metadata": {},
   "outputs": [
    {
     "name": "stdout",
     "output_type": "stream",
     "text": [
      "Number of scRNA-seq donors: ['D3-Cell_3prime-v2', 'D5-Cell_3prime-v2', 'D6-Cell_3prime-v2', 'D7-Cell_3prime-v2', 'D6-Cell_3prime-v3', ..., 'HDCM3', 'HDCM5', 'HDCM4', 'HDCM7', 'HDCM6']\n",
      "Length: 12\n",
      "Categories (12, object): ['D3-Cell_3prime-v2', 'D5-Cell_3prime-v2', 'D6-Cell_3prime-v2', 'D6-Cell_3prime-v3', ..., 'HDCM4', 'HDCM5', 'HDCM6', 'HDCM7']\n"
     ]
    }
   ],
   "source": [
    "num_donors = scRNA_adata.obs.donor_id.unique()\n",
    "print(f\"Number of scRNA-seq donors: {num_donors}\")"
   ]
  },
  {
   "cell_type": "code",
   "execution_count": 4,
   "id": "f400a678-7af8-4d02-ae52-9d51abd60aea",
   "metadata": {},
   "outputs": [
    {
     "name": "stdout",
     "output_type": "stream",
     "text": [
      "CPU times: user 1.91 s, sys: 7.91 s, total: 9.82 s\n",
      "Wall time: 14.8 s\n"
     ]
    }
   ],
   "source": [
    "%%time\n",
    "subsampled_snRNA_adata = sc.read_h5ad(\"../aggregated_analysis/07_subsampled_adata.h5ad\")\n",
    "subsampled_snRNA_adata.X = subsampled_snRNA_adata.layers['counts']"
   ]
  },
  {
   "cell_type": "code",
   "execution_count": 5,
   "id": "7a95713c-9a47-487e-a42a-1aa7096a606a",
   "metadata": {},
   "outputs": [],
   "source": [
    "# downsample snRNA to same number of cells\n",
    "further_subsampled_snRNA_adata = sc.pp.subsample(subsampled_snRNA_adata, n_obs = scRNA_adata.shape[0], copy=True)"
   ]
  },
  {
   "cell_type": "code",
   "execution_count": 6,
   "id": "e302aa9f-ad5a-4715-8562-8bd5c0e171a9",
   "metadata": {},
   "outputs": [],
   "source": [
    "adata = sc.concat([scRNA_adata, further_subsampled_snRNA_adata])"
   ]
  },
  {
   "cell_type": "code",
   "execution_count": 7,
   "id": "46f72154-5e14-4fd7-bf8a-3ab82227f8a5",
   "metadata": {},
   "outputs": [
    {
     "data": {
      "text/plain": [
       "Counter({'Cell': 60814, 'Nuclei': 60814})"
      ]
     },
     "execution_count": 7,
     "metadata": {},
     "output_type": "execute_result"
    }
   ],
   "source": [
    "Counter(adata.obs.cell_or_nuclei)"
   ]
  },
  {
   "cell_type": "markdown",
   "id": "84dbdacc-05b4-4393-a453-dd5f079de23e",
   "metadata": {},
   "source": [
    "### Save the adata"
   ]
  },
  {
   "cell_type": "code",
   "execution_count": 9,
   "id": "0952ba74-4ba3-42c5-a05f-34fe6f339e64",
   "metadata": {},
   "outputs": [
    {
     "data": {
      "text/plain": [
       "AnnData object with n_obs × n_vars = 121628 × 16115\n",
       "    obs: 'age', 'donor_id', 'sex', 'region', 'cell_type', 'consistent_cell_type', 'study', 'technology', 'cell_or_nuclei', 'tech_plus_study', '_scvi_batch', '_scvi_labels', 'leiden_scVI', 'scvi_cell_type'\n",
       "    obsm: 'X_scVI', 'X_umap', '_scvi_extra_categorical_covs'\n",
       "    layers: 'counts'"
      ]
     },
     "execution_count": 9,
     "metadata": {},
     "output_type": "execute_result"
    }
   ],
   "source": [
    "adata.write(\"03B_sc_sn_adata.h5ad\")\n",
    "adata"
   ]
  }
 ],
 "metadata": {
  "kernelspec": {
   "display_name": "Python 3 (ipykernel)",
   "language": "python",
   "name": "python3"
  },
  "language_info": {
   "codemirror_mode": {
    "name": "ipython",
    "version": 3
   },
   "file_extension": ".py",
   "mimetype": "text/x-python",
   "name": "python",
   "nbconvert_exporter": "python",
   "pygments_lexer": "ipython3",
   "version": "3.12.5"
  }
 },
 "nbformat": 4,
 "nbformat_minor": 5
}

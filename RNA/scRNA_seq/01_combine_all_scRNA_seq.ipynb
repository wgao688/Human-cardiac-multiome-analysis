{
 "cells": [
  {
   "cell_type": "markdown",
   "id": "6e96da21-dd23-4059-9acb-f6a65e7c9197",
   "metadata": {},
   "source": [
    "### Combine all of the scRNA-seq datasets"
   ]
  },
  {
   "cell_type": "code",
   "execution_count": 13,
   "id": "c4996777-d082-4b60-a1f7-1ab06eed9ca5",
   "metadata": {},
   "outputs": [],
   "source": [
    "import scanpy as sc \n",
    "import numpy as np\n",
    "import pandas as pd\n",
    "from collections import Counter"
   ]
  },
  {
   "cell_type": "code",
   "execution_count": 2,
   "id": "59af7995-ffff-4359-8a4d-b0093e94d69d",
   "metadata": {},
   "outputs": [],
   "source": [
    "metadata_to_keep = [\"age\", \n",
    "                    \"donor_id\", \n",
    "                    \"sex\", \n",
    "                    \"region\", \n",
    "                    \"cell_type\",\n",
    "                    \"consistent_cell_type\",\n",
    "                    \"study\", \n",
    "                    \"technology\", \n",
    "                    \"cell_or_nuclei\"]"
   ]
  },
  {
   "cell_type": "code",
   "execution_count": 3,
   "id": "cb5b6502-03da-45d6-8ad4-17d51e8b7955",
   "metadata": {},
   "outputs": [],
   "source": [
    "def confirm_raw_counts(adata):\n",
    "    \"\"\"\n",
    "    Check if every value in adata.X.sum(axis=1), the sum of counts across all genes per cell, is an integer.   \n",
    "\n",
    "    Parameters:\n",
    "    adata (AnnData): The AnnData object containing the data matrix (adata.X).\n",
    "\n",
    "    Returns:\n",
    "    bool: True if all sums are integers, False otherwise.\n",
    "    \"\"\"\n",
    "    # Sum across rows (axis=1), which correspond to the genes\n",
    "    sums = adata.X.sum(axis=1)\n",
    "    \n",
    "    # Check if all sums are integers by comparing them to their rounded versions\n",
    "    return np.all(np.equal(sums, np.round(sums)))"
   ]
  },
  {
   "cell_type": "markdown",
   "id": "396da319-3521-4196-8043-c8391befe40f",
   "metadata": {},
   "source": [
    "### Teichman dataset"
   ]
  },
  {
   "cell_type": "code",
   "execution_count": 5,
   "id": "90db5f0e-3ac5-4514-9e55-7ca319446a8d",
   "metadata": {},
   "outputs": [
    {
     "name": "stdout",
     "output_type": "stream",
     "text": [
      "All raw counts?: True\n"
     ]
    }
   ],
   "source": [
    "Teichman_adata = sc.read_h5ad(\"../external_datasets/Heart_Atlas_v2/Teichman_LV_cell.h5ad\")\n",
    "Teichman_adata.X = Teichman_adata.layers['counts']\n",
    "print(\"All raw counts?: \" + str (confirm_raw_counts(Teichman_adata)) )\n",
    "Teichman_adata.obs = Teichman_adata.obs[metadata_to_keep]"
   ]
  },
  {
   "cell_type": "markdown",
   "id": "bea2a6e2-6d11-414a-aa2a-01d776a3cc15",
   "metadata": {},
   "source": [
    "### Koenig dataset"
   ]
  },
  {
   "cell_type": "code",
   "execution_count": 7,
   "id": "3a094f2e-ab11-4439-8886-2574a9fb92b2",
   "metadata": {},
   "outputs": [
    {
     "name": "stdout",
     "output_type": "stream",
     "text": [
      "All raw counts?: True\n"
     ]
    }
   ],
   "source": [
    "Koenig_adata = sc.read_h5ad(\"../external_datasets/Koenig_et_al_2022/processed_Koenig_cell.h5ad\")\n",
    "Koenig_adata.X = Koenig_adata.layers['counts']\n",
    "print(\"All raw counts?: \" + str (confirm_raw_counts(Koenig_adata)) )\n",
    "Koenig_adata.obs = Koenig_adata.obs[metadata_to_keep]"
   ]
  },
  {
   "cell_type": "markdown",
   "id": "486b65e5-28d3-4484-9a46-26a3bd6e3796",
   "metadata": {},
   "source": [
    "### Combine these datasets together"
   ]
  },
  {
   "cell_type": "code",
   "execution_count": 8,
   "id": "14607fce-c691-4021-a629-52350c5764ff",
   "metadata": {},
   "outputs": [
    {
     "name": "stdout",
     "output_type": "stream",
     "text": [
      "CPU times: user 3.12 s, sys: 1.18 s, total: 4.29 s\n",
      "Wall time: 4.29 s\n"
     ]
    },
    {
     "data": {
      "text/plain": [
       "AnnData object with n_obs × n_vars = 60819 × 31846\n",
       "    obs: 'age', 'donor_id', 'sex', 'region', 'cell_type', 'consistent_cell_type', 'study', 'technology', 'cell_or_nuclei'\n",
       "    obsm: 'X_umap'\n",
       "    layers: 'counts'"
      ]
     },
     "execution_count": 8,
     "metadata": {},
     "output_type": "execute_result"
    }
   ],
   "source": [
    "%%time\n",
    "adata = sc.concat([Teichman_adata, Koenig_adata])\n",
    "adata"
   ]
  },
  {
   "cell_type": "markdown",
   "id": "086c57b9-f876-4030-a5fa-dcbab99b9b96",
   "metadata": {},
   "source": [
    "### Save this adata and perform scVI integration in the next script"
   ]
  },
  {
   "cell_type": "code",
   "execution_count": 14,
   "id": "16c9cf8b-d74e-42ee-962f-4c0938469e3a",
   "metadata": {},
   "outputs": [
    {
     "data": {
      "text/plain": [
       "Counter({'D11-Cell_3prime-v3': 11868,\n",
       "         'HDCM4': 6390,\n",
       "         'HDCM1': 6376,\n",
       "         'HDCM3': 6236,\n",
       "         'HDCM5': 5911,\n",
       "         'D6-Cell_3prime-v2': 5834,\n",
       "         'HDCM6': 5788,\n",
       "         'D6-Cell_3prime-v3': 4406,\n",
       "         'HDCM7': 4315,\n",
       "         'D7-Cell_3prime-v2': 1586,\n",
       "         'D5-Cell_3prime-v2': 1246,\n",
       "         'D3-Cell_3prime-v2': 858,\n",
       "         'D4-Cell_3prime-v2': 5})"
      ]
     },
     "execution_count": 14,
     "metadata": {},
     "output_type": "execute_result"
    }
   ],
   "source": [
    "Counter(adata.obs.donor_id)"
   ]
  },
  {
   "cell_type": "markdown",
   "id": "60600a2c-5d39-41fe-8097-d5d78d926e11",
   "metadata": {},
   "source": [
    "#### Drop the donors with less than 500 cells"
   ]
  },
  {
   "cell_type": "code",
   "execution_count": 16,
   "id": "73e80da0-f714-47c2-9e59-26338a3c8e2c",
   "metadata": {},
   "outputs": [
    {
     "name": "stdout",
     "output_type": "stream",
     "text": [
      "CPU times: user 863 ms, sys: 1.15 s, total: 2.01 s\n",
      "Wall time: 2.01 s\n"
     ]
    }
   ],
   "source": [
    "%%time\n",
    "# keep donors with > 500\n",
    "donor_counts = Counter(adata.obs['donor_id'])\n",
    "valid_donors = [donor for donor, count in donor_counts.items() if count >= 500]\n",
    "adata = adata[adata.obs['donor_id'].isin(valid_donors)].copy()"
   ]
  },
  {
   "cell_type": "code",
   "execution_count": 17,
   "id": "ad6dfb06-03b6-4d1f-9828-01d01125974e",
   "metadata": {},
   "outputs": [
    {
     "data": {
      "text/plain": [
       "Counter({'D11-Cell_3prime-v3': 11868,\n",
       "         'HDCM4': 6390,\n",
       "         'HDCM1': 6376,\n",
       "         'HDCM3': 6236,\n",
       "         'HDCM5': 5911,\n",
       "         'D6-Cell_3prime-v2': 5834,\n",
       "         'HDCM6': 5788,\n",
       "         'D6-Cell_3prime-v3': 4406,\n",
       "         'HDCM7': 4315,\n",
       "         'D7-Cell_3prime-v2': 1586,\n",
       "         'D5-Cell_3prime-v2': 1246,\n",
       "         'D3-Cell_3prime-v2': 858})"
      ]
     },
     "execution_count": 17,
     "metadata": {},
     "output_type": "execute_result"
    }
   ],
   "source": [
    "Counter(adata.obs.donor_id)"
   ]
  },
  {
   "cell_type": "markdown",
   "id": "5564f7a8-a635-4d37-92df-2eee393a2ecd",
   "metadata": {},
   "source": [
    "### Add additional metadata"
   ]
  },
  {
   "cell_type": "code",
   "execution_count": 20,
   "id": "8e35b37a-1aac-4406-ae88-13e2426ea16b",
   "metadata": {},
   "outputs": [],
   "source": [
    "adata.obs['tech_plus_study'] = adata.obs['technology'].astype(str) + \"_\" + adata.obs['study'].astype(str)"
   ]
  },
  {
   "cell_type": "code",
   "execution_count": 22,
   "id": "d0f9de28-d271-47df-8059-6f80310bcdb8",
   "metadata": {},
   "outputs": [
    {
     "data": {
      "text/plain": [
       "Counter({'5prime-v1_Koenig 2022': 35016,\n",
       "         '3prime-v3_Teichman': 16274,\n",
       "         '3prime-v2_Teichman': 9524})"
      ]
     },
     "execution_count": 22,
     "metadata": {},
     "output_type": "execute_result"
    }
   ],
   "source": [
    "Counter(adata.obs['tech_plus_study'])"
   ]
  },
  {
   "cell_type": "code",
   "execution_count": 21,
   "id": "95d162b8-b2c5-4206-9241-537a48f87eca",
   "metadata": {},
   "outputs": [
    {
     "name": "stdout",
     "output_type": "stream",
     "text": [
      "CPU times: user 382 ms, sys: 1.9 s, total: 2.28 s\n",
      "Wall time: 2.55 s\n"
     ]
    }
   ],
   "source": [
    "%%time\n",
    "adata.write(\"01_combined_scRNA.h5ad\")"
   ]
  }
 ],
 "metadata": {
  "kernelspec": {
   "display_name": "Python 3 (ipykernel)",
   "language": "python",
   "name": "python3"
  },
  "language_info": {
   "codemirror_mode": {
    "name": "ipython",
    "version": 3
   },
   "file_extension": ".py",
   "mimetype": "text/x-python",
   "name": "python",
   "nbconvert_exporter": "python",
   "pygments_lexer": "ipython3",
   "version": "3.12.5"
  }
 },
 "nbformat": 4,
 "nbformat_minor": 5
}

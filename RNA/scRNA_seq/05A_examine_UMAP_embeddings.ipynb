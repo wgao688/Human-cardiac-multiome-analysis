{
 "cells": [
  {
   "cell_type": "markdown",
   "id": "08c40d87-7f54-45eb-9ef2-984d51a17676",
   "metadata": {},
   "source": [
    "### Visualize the UMAP embeddings across the different integration methods and save file for calculating LISI integration metric"
   ]
  },
  {
   "cell_type": "code",
   "execution_count": 1,
   "id": "ac50cee1-4149-4650-b425-1a9957465028",
   "metadata": {},
   "outputs": [],
   "source": [
    "import scanpy as sc\n",
    "from collections import Counter\n",
    "import anndata as ad\n",
    "import numpy as np\n",
    "\n",
    "import matplotlib.pyplot as plt\n",
    "import matplotlib\n",
    "matplotlib.rcParams['pdf.fonttype'] = 42\n",
    "matplotlib.rcParams['ps.fonttype'] = 42\n",
    "import gc"
   ]
  },
  {
   "cell_type": "code",
   "execution_count": 2,
   "id": "c75c11ff-e79e-4271-92b2-c27dff260a80",
   "metadata": {},
   "outputs": [],
   "source": [
    "sc._settings.settings._vector_friendly=True"
   ]
  },
  {
   "cell_type": "markdown",
   "id": "a5aa7cb5-ea7e-4a4c-90aa-e73cb07f820f",
   "metadata": {},
   "source": [
    "### scVI"
   ]
  },
  {
   "cell_type": "code",
   "execution_count": 3,
   "id": "8d990fd3-b60f-4079-8edd-9946aea01132",
   "metadata": {},
   "outputs": [
    {
     "name": "stdout",
     "output_type": "stream",
     "text": [
      "CPU times: user 1.38 s, sys: 14.4 s, total: 15.8 s\n",
      "Wall time: 15.9 s\n"
     ]
    }
   ],
   "source": [
    "%%time\n",
    "scvi_adata = sc.read_h5ad(\"04A_scvi_sc_sn_combined.h5ad\")\n",
    "scvi_adata.obs['scvi_UMAP1'] = scvi_adata.obsm['X_umap'][:, 0]\n",
    "scvi_adata.obs['scvi_UMAP2'] = scvi_adata.obsm['X_umap'][:, 1]"
   ]
  },
  {
   "cell_type": "code",
   "execution_count": 4,
   "id": "2fcdf27b-06a4-40b8-a7d8-fdc03bf160ad",
   "metadata": {},
   "outputs": [],
   "source": [
    "scvi_adata_metadata = scvi_adata.obs.reset_index()"
   ]
  },
  {
   "cell_type": "markdown",
   "id": "76a7cd2f-8305-4f87-bade-3c66de59620f",
   "metadata": {},
   "source": [
    "### CellANOVA"
   ]
  },
  {
   "cell_type": "code",
   "execution_count": 5,
   "id": "743ae6af-9821-47ac-a677-1f9bf7a33eef",
   "metadata": {},
   "outputs": [],
   "source": [
    "CellANOVA_adata = sc.read_h5ad(\"04B_post_CellANOVA.h5ad\")"
   ]
  },
  {
   "cell_type": "code",
   "execution_count": 6,
   "id": "b91cc49d-f107-4eeb-b774-4ddd20e3d2af",
   "metadata": {},
   "outputs": [
    {
     "name": "stderr",
     "output_type": "stream",
     "text": [
      "/home/william/anaconda3/envs/r-kernel/lib/python3.12/site-packages/anndata/_core/anndata.py:402: FutureWarning: The dtype argument is deprecated and will be removed in late 2024.\n",
      "  warnings.warn(\n",
      "/home/william/anaconda3/envs/r-kernel/lib/python3.12/site-packages/scanpy/tools/_utils.py:41: UserWarning: You’re trying to run this on 3000 dimensions of `.X`, if you really want this, set `use_rep='X'`.\n",
      "         Falling back to preprocessing with `sc.pp.pca` and default params.\n",
      "  warnings.warn(\n"
     ]
    },
    {
     "name": "stdout",
     "output_type": "stream",
     "text": [
      "CPU times: user 16min 5s, sys: 31min 36s, total: 47min 41s\n",
      "Wall time: 4min 15s\n"
     ]
    }
   ],
   "source": [
    "%%time\n",
    "integrated = ad.AnnData(CellANOVA_adata.layers['denoised'], dtype=np.float32)\n",
    "integrated.obs = CellANOVA_adata.obs.copy()\n",
    "integrated.var_names = CellANOVA_adata.var_names\n",
    "sc.pp.neighbors(integrated, n_neighbors=15, n_pcs=30)\n",
    "sc.tl.umap(integrated)"
   ]
  },
  {
   "cell_type": "code",
   "execution_count": 7,
   "id": "f9176013-e6d6-4245-b106-eec05c9e2bec",
   "metadata": {},
   "outputs": [],
   "source": [
    "integrated.obs['CellANOVA_UMAP1'] = integrated.obsm['X_umap'][:, 0]\n",
    "integrated.obs['CellANOVA_UMAP2'] = integrated.obsm['X_umap'][:, 1]"
   ]
  },
  {
   "cell_type": "code",
   "execution_count": 8,
   "id": "0e74a5b4-97d6-4882-b870-534f9ea7b018",
   "metadata": {},
   "outputs": [],
   "source": [
    "CellANOVA_metadata = integrated.obs.reset_index()\n",
    "CellANOVA_metadata = CellANOVA_metadata[[\"index\", \"CellANOVA_UMAP1\", \"CellANOVA_UMAP2\"]]"
   ]
  },
  {
   "cell_type": "markdown",
   "id": "51cdb435-65b4-409c-b2fa-c471e66b6813",
   "metadata": {},
   "source": [
    "### Harmony "
   ]
  },
  {
   "cell_type": "code",
   "execution_count": 9,
   "id": "4363a8d6-1014-47d5-bd33-d349334a9b92",
   "metadata": {},
   "outputs": [],
   "source": [
    "harmony_adata = sc.read_h5ad(\"04C_harmony_integrated_adata.h5ad\")\n",
    "harmony_adata.obs['harmony_UMAP1'] = harmony_adata.obsm['X_umap'][:, 0]\n",
    "harmony_adata.obs['harmony_UMAP2'] = harmony_adata.obsm['X_umap'][:, 1]"
   ]
  },
  {
   "cell_type": "code",
   "execution_count": 10,
   "id": "71feeae2-0ab2-4f64-b8ee-be2738b0fa65",
   "metadata": {},
   "outputs": [],
   "source": [
    "harmony_metadata = harmony_adata.obs.reset_index()\n",
    "harmony_metadata = harmony_metadata[[\"index\", \"harmony_UMAP1\", \"harmony_UMAP2\"]]"
   ]
  },
  {
   "cell_type": "markdown",
   "id": "f04b8a23-77d3-4a51-86f0-6c4374e7ae37",
   "metadata": {},
   "source": [
    "### No integration"
   ]
  },
  {
   "cell_type": "code",
   "execution_count": 11,
   "id": "0f0cdd82-03f2-4220-9acb-b92eaf3decae",
   "metadata": {},
   "outputs": [
    {
     "data": {
      "text/plain": [
       "AnnData object with n_obs × n_vars = 121628 × 16115\n",
       "    obs: 'age', 'donor_id', 'sex', 'region', 'cell_type', 'consistent_cell_type', 'study', 'technology', 'cell_or_nuclei', 'tech_plus_study', '_scvi_batch', '_scvi_labels', 'leiden_scVI', 'scvi_cell_type', 'no_integration_UMAP1', 'no_integration_UMAP2'\n",
       "    var: 'highly_variable', 'means', 'dispersions', 'dispersions_norm', 'highly_variable_nbatches', 'highly_variable_intersection'\n",
       "    uns: 'cell_or_nuclei_colors', 'consistent_cell_type_colors', 'hvg', 'log1p', 'neighbors', 'pca', 'study_colors', 'technology_colors', 'umap'\n",
       "    obsm: 'X_pca', 'X_scVI', 'X_umap', '_scvi_extra_categorical_covs'\n",
       "    varm: 'PCs'\n",
       "    layers: 'counts'\n",
       "    obsp: 'connectivities', 'distances'"
      ]
     },
     "execution_count": 11,
     "metadata": {},
     "output_type": "execute_result"
    }
   ],
   "source": [
    "no_integration_adata = sc.read_h5ad(\"04D_adata_without_batch_correction.h5ad\")\n",
    "no_integration_adata.obs['no_integration_UMAP1'] = no_integration_adata.obsm['X_umap'][:, 0]\n",
    "no_integration_adata.obs['no_integration_UMAP2'] = no_integration_adata.obsm['X_umap'][:, 1]\n",
    "no_integration_adata"
   ]
  },
  {
   "cell_type": "code",
   "execution_count": 12,
   "id": "1753c01f-7e9b-4947-b936-a2a408e6a7be",
   "metadata": {},
   "outputs": [],
   "source": [
    "no_integration_metadata = no_integration_adata.obs.reset_index()\n",
    "no_integration_metadata = no_integration_metadata[[\"index\", \"no_integration_UMAP1\", \"no_integration_UMAP2\"]]"
   ]
  },
  {
   "cell_type": "markdown",
   "id": "45a24d3a-5942-42b0-b0c1-2c5ee4b44189",
   "metadata": {},
   "source": [
    "### Add the UMAP dimensions together and save metadata"
   ]
  },
  {
   "cell_type": "code",
   "execution_count": 13,
   "id": "2d6c38b2-d0a6-40a8-b292-a2a9a3445775",
   "metadata": {},
   "outputs": [],
   "source": [
    "all_metadata = scvi_adata_metadata.merge(CellANOVA_metadata, on = \"index\")\n",
    "all_metadata = all_metadata.merge(harmony_metadata, on = \"index\")\n",
    "all_metadata = all_metadata.merge(no_integration_metadata, on = \"index\")"
   ]
  },
  {
   "cell_type": "code",
   "execution_count": 14,
   "id": "490ca895-69fd-424b-b168-e2e2d13eaf3a",
   "metadata": {},
   "outputs": [],
   "source": [
    "all_metadata.to_csv(\"05_adata_metadata_for_LISI.csv\")"
   ]
  },
  {
   "cell_type": "code",
   "execution_count": 15,
   "id": "23eefeef-bc6f-4aaa-90d1-834bc1e4de5a",
   "metadata": {},
   "outputs": [
    {
     "data": {
      "text/plain": [
       "Index(['index', 'age', 'donor_id', 'sex', 'region', 'cell_type',\n",
       "       'consistent_cell_type', 'study', 'technology', 'cell_or_nuclei',\n",
       "       'tech_plus_study', '_scvi_batch', '_scvi_labels', 'leiden_scVI',\n",
       "       'scvi_cell_type', 'scvi_UMAP1', 'scvi_UMAP2', 'CellANOVA_UMAP1',\n",
       "       'CellANOVA_UMAP2', 'harmony_UMAP1', 'harmony_UMAP2',\n",
       "       'no_integration_UMAP1', 'no_integration_UMAP2'],\n",
       "      dtype='object')"
      ]
     },
     "execution_count": 15,
     "metadata": {},
     "output_type": "execute_result"
    }
   ],
   "source": [
    "all_metadata.columns"
   ]
  }
 ],
 "metadata": {
  "kernelspec": {
   "display_name": "Python 3 (ipykernel)",
   "language": "python",
   "name": "python3"
  },
  "language_info": {
   "codemirror_mode": {
    "name": "ipython",
    "version": 3
   },
   "file_extension": ".py",
   "mimetype": "text/x-python",
   "name": "python",
   "nbconvert_exporter": "python",
   "pygments_lexer": "ipython3",
   "version": "3.12.5"
  }
 },
 "nbformat": 4,
 "nbformat_minor": 5
}

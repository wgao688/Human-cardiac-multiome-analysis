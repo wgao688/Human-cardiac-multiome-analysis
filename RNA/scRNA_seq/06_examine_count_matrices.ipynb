{
 "cells": [
  {
   "cell_type": "markdown",
   "id": "2ac4f2a3-bf61-42b5-99be-a3473cb82063",
   "metadata": {},
   "source": [
    "### Examine the corrected or uncorrected counts"
   ]
  },
  {
   "cell_type": "code",
   "execution_count": 1,
   "id": "e0c7fb83-7a8d-42fb-ae1b-3d0a81a01a50",
   "metadata": {},
   "outputs": [],
   "source": [
    "import scanpy as sc \n",
    "import numpy as np"
   ]
  },
  {
   "cell_type": "markdown",
   "id": "02bf5fab-6cc3-4f7b-bfb5-403ebb72e434",
   "metadata": {},
   "source": [
    "### scVI adata"
   ]
  },
  {
   "cell_type": "code",
   "execution_count": 3,
   "id": "b5fb3b76-17fb-4fbc-9971-b0f5ff1b93e8",
   "metadata": {},
   "outputs": [],
   "source": [
    "%%time\n",
    "scvi_adata = sc.read_h5ad(\"04A_scvi_sc_sn_combined.h5ad\")\n",
    "scvi_adata"
   ]
  },
  {
   "cell_type": "code",
   "execution_count": 7,
   "id": "83dd2242-874c-40d1-9266-572d9435f61e",
   "metadata": {},
   "outputs": [
    {
     "data": {
      "text/plain": [
       "2.256144e-05"
      ]
     },
     "execution_count": 7,
     "metadata": {},
     "output_type": "execute_result"
    }
   ],
   "source": [
    "scvi_adata.layers['scvi_normalized'].min()"
   ]
  },
  {
   "cell_type": "code",
   "execution_count": 8,
   "id": "7299b1ac-a328-48cd-99ec-5fca32199930",
   "metadata": {},
   "outputs": [
    {
     "data": {
      "text/plain": [
       "array([100000.02, 100000.  , 100000.01, ...,  99999.99,  99999.99,\n",
       "       100000.02], dtype=float32)"
      ]
     },
     "execution_count": 8,
     "metadata": {},
     "output_type": "execute_result"
    }
   ],
   "source": [
    "scvi_adata.layers['scvi_normalized'].sum(axis = 1)"
   ]
  },
  {
   "cell_type": "markdown",
   "id": "ac61a36e-62e5-4226-98eb-9a4a1ddec1f7",
   "metadata": {},
   "source": [
    "### CellANOVA adata"
   ]
  },
  {
   "cell_type": "code",
   "execution_count": 4,
   "id": "64504d9c-75f4-459c-bff8-9182a5e10a84",
   "metadata": {},
   "outputs": [],
   "source": [
    "%%time\n",
    "CellANOVA_adata = sc.read_h5ad(\"04B_post_CellANOVA.h5ad\")\n",
    "CellANOVA_adata"
   ]
  },
  {
   "cell_type": "code",
   "execution_count": 13,
   "id": "6d458fff-d6e3-4ede-af89-906c4ccc14f4",
   "metadata": {},
   "outputs": [
    {
     "data": {
      "text/plain": [
       "-9.323021916899265"
      ]
     },
     "execution_count": 13,
     "metadata": {},
     "output_type": "execute_result"
    }
   ],
   "source": [
    "CellANOVA_adata.layers['denoised'].min()"
   ]
  },
  {
   "cell_type": "code",
   "execution_count": 16,
   "id": "e4dcf082-94f9-4072-8435-a49ad1d2679d",
   "metadata": {},
   "outputs": [
    {
     "data": {
      "text/plain": [
       "array([ 86.06459883, 895.16390228, 111.41285211, ...,  97.46871379,\n",
       "        92.13585961, -81.12126433])"
      ]
     },
     "execution_count": 16,
     "metadata": {},
     "output_type": "execute_result"
    }
   ],
   "source": [
    "CellANOVA_adata.layers['denoised'].sum(axis = 1)"
   ]
  },
  {
   "cell_type": "markdown",
   "id": "dd09ba77-beef-4ed6-815d-546fcf0bf4bf",
   "metadata": {},
   "source": [
    "### Harmony adata"
   ]
  },
  {
   "cell_type": "code",
   "execution_count": 22,
   "id": "2057ff6b-92aa-4a2f-92fc-6e783a0ce2fb",
   "metadata": {},
   "outputs": [
    {
     "data": {
      "text/plain": [
       "AnnData object with n_obs × n_vars = 121628 × 16115\n",
       "    obs: 'age', 'donor_id', 'sex', 'region', 'cell_type', 'consistent_cell_type', 'study', 'technology', 'cell_or_nuclei', 'tech_plus_study', '_scvi_batch', '_scvi_labels', 'leiden_scVI', 'scvi_cell_type'\n",
       "    obsm: 'X_scVI', 'X_umap', '_scvi_extra_categorical_covs'\n",
       "    layers: 'counts'"
      ]
     },
     "execution_count": 22,
     "metadata": {},
     "output_type": "execute_result"
    }
   ],
   "source": [
    "adata = sc.read_h5ad(\"03B_sc_sn_adata.h5ad\")\n",
    "adata"
   ]
  },
  {
   "cell_type": "code",
   "execution_count": 25,
   "id": "af04343d-b22c-41fb-a056-c2d4d209cb9f",
   "metadata": {},
   "outputs": [
    {
     "data": {
      "text/plain": [
       "matrix([[27470.],\n",
       "        [18516.],\n",
       "        [17130.],\n",
       "        ...,\n",
       "        [ 2826.],\n",
       "        [  874.],\n",
       "        [ 2055.]])"
      ]
     },
     "execution_count": 25,
     "metadata": {},
     "output_type": "execute_result"
    }
   ],
   "source": [
    "adata.X.sum(axis = 1)"
   ]
  },
  {
   "cell_type": "code",
   "execution_count": 17,
   "id": "acfe8778-b5c5-4bf0-829c-56ca80f39f66",
   "metadata": {},
   "outputs": [
    {
     "data": {
      "text/plain": [
       "AnnData object with n_obs × n_vars = 121628 × 16115\n",
       "    obs: 'age', 'donor_id', 'sex', 'region', 'cell_type', 'consistent_cell_type', 'study', 'technology', 'cell_or_nuclei', 'tech_plus_study', '_scvi_batch', '_scvi_labels', 'leiden_scVI', 'scvi_cell_type'\n",
       "    var: 'highly_variable', 'means', 'dispersions', 'dispersions_norm'\n",
       "    uns: 'cell_or_nuclei_colors', 'consistent_cell_type_colors', 'donor_id_colors', 'hvg', 'log1p', 'neighbors', 'pca', 'study_colors', 'technology_colors', 'umap'\n",
       "    obsm: 'X_pca', 'X_pca_harmony', 'X_scVI', 'X_umap', 'X_umap_harmony', '_scvi_extra_categorical_covs'\n",
       "    varm: 'PCs'\n",
       "    layers: 'counts'\n",
       "    obsp: 'connectivities', 'distances'"
      ]
     },
     "execution_count": 17,
     "metadata": {},
     "output_type": "execute_result"
    }
   ],
   "source": [
    "harmony_adata = sc.read_h5ad(\"04C_harmony_integrated_adata.h5ad\")\n",
    "harmony_adata"
   ]
  },
  {
   "cell_type": "code",
   "execution_count": 20,
   "id": "f064d6f9-1f2b-48e2-b64b-a7860f1dbf5f",
   "metadata": {},
   "outputs": [
    {
     "data": {
      "text/plain": [
       "matrix([[1337.50221222],\n",
       "        [1365.31669663],\n",
       "        [1251.22230417],\n",
       "        ...,\n",
       "        [1151.21556308],\n",
       "        [1024.29908227],\n",
       "        [1180.39597743]])"
      ]
     },
     "execution_count": 20,
     "metadata": {},
     "output_type": "execute_result"
    }
   ],
   "source": [
    "harmony_adata.X.sum(axis = 1)\n",
    "harmony_adata.X.sum(axis = 1)"
   ]
  }
 ],
 "metadata": {
  "kernelspec": {
   "display_name": "Python 3 (ipykernel)",
   "language": "python",
   "name": "python3"
  },
  "language_info": {
   "codemirror_mode": {
    "name": "ipython",
    "version": 3
   },
   "file_extension": ".py",
   "mimetype": "text/x-python",
   "name": "python",
   "nbconvert_exporter": "python",
   "pygments_lexer": "ipython3",
   "version": "3.11.7"
  }
 },
 "nbformat": 4,
 "nbformat_minor": 5
}

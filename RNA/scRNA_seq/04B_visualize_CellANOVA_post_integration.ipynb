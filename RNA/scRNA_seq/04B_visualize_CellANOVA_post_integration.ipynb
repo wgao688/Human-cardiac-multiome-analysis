{
 "cells": [
  {
   "cell_type": "code",
   "execution_count": 1,
   "id": "1bbc42cd-c624-463d-92fb-c794f65ba4d4",
   "metadata": {},
   "outputs": [],
   "source": [
    "import scanpy as sc\n",
    "import anndata as ad\n",
    "import numpy as np \n",
    "import matplotlib.pyplot as plt\n",
    "import matplotlib\n",
    "matplotlib.rcParams['pdf.fonttype'] = 42\n",
    "import os"
   ]
  },
  {
   "cell_type": "code",
   "execution_count": 2,
   "id": "f63b4537-d120-490e-97db-75c78d8efbe8",
   "metadata": {},
   "outputs": [],
   "source": [
    "sc._settings.settings._vector_friendly=True"
   ]
  },
  {
   "cell_type": "code",
   "execution_count": null,
   "id": "877204a4-289d-4f98-954c-0ba88ca9f215",
   "metadata": {},
   "outputs": [],
   "source": [
    "# load in the adata after CellANOVA\n",
    "adata_prep = sc.read_h5ad(\"04B_post_CellANOVA.h5ad\")"
   ]
  },
  {
   "cell_type": "code",
   "execution_count": null,
   "id": "bee05d32-3e03-4896-9290-d8f4f56988a6",
   "metadata": {},
   "outputs": [],
   "source": [
    "adata_prep.obs"
   ]
  },
  {
   "cell_type": "code",
   "execution_count": null,
   "id": "fa8999ae-09d1-479a-b679-c4c60a3b4bd4",
   "metadata": {},
   "outputs": [],
   "source": [
    "%%time\n",
    "integrated = ad.AnnData(adata_prep.layers['denoised'], dtype=np.float32)\n",
    "integrated.obs = adata_prep.obs.copy()\n",
    "integrated.var_names = adata_prep.var_names\n",
    "sc.pp.neighbors(integrated, n_neighbors=15, n_pcs=30)\n",
    "sc.tl.umap(integrated)"
   ]
  },
  {
   "cell_type": "markdown",
   "id": "f4c8f4d2-5591-4e9f-9e05-484c16ef5d60",
   "metadata": {},
   "source": [
    "### Examine the UMAP embedding with respect to several batch effects and biological effects:\n",
    "\n",
    "Batch effects\n",
    "- cell vs. nuclei (very large)\n",
    "- study (also quite substantial)\n",
    "\n",
    "Biological\n",
    "- cell type"
   ]
  },
  {
   "cell_type": "code",
   "execution_count": null,
   "id": "bea4bc45-49e0-41c7-9ccf-174ad1e57de1",
   "metadata": {},
   "outputs": [],
   "source": [
    "human_heart_sn_vs_sc_plots = \"CellANOVA_plots/\"\n",
    "os.makedirs(human_heart_sn_vs_sc_plots, exist_ok=True)"
   ]
  },
  {
   "cell_type": "code",
   "execution_count": null,
   "id": "2feb2e99-82da-46b5-ae7f-7c165d0d913b",
   "metadata": {},
   "outputs": [],
   "source": [
    "with plt.rc_context():\n",
    "    sc.pl.umap(integrated, color = \"cell_or_nuclei\", show=False)\n",
    "    plt.savefig(human_heart_sn_vs_sc_plots + \"UMAP_cell_vs_nuclei.pdf\")\n",
    "    plt.show()"
   ]
  },
  {
   "cell_type": "code",
   "execution_count": null,
   "id": "334974c8-648b-4813-81a1-48888a54c8ed",
   "metadata": {},
   "outputs": [],
   "source": [
    "with plt.rc_context():\n",
    "    sc.pl.umap(integrated, color = \"consistent_cell_type\", legend_loc = 'on data', show=False)\n",
    "    plt.savefig(human_heart_sn_vs_sc_plots + \"UMAP_cell_type.pdf\")\n",
    "    plt.show()"
   ]
  },
  {
   "cell_type": "code",
   "execution_count": null,
   "id": "c667febc-4cfc-490a-8772-79a5e2810b31",
   "metadata": {},
   "outputs": [],
   "source": [
    "with plt.rc_context():\n",
    "    sc.pl.umap(integrated, color = \"study\", show=False)\n",
    "    plt.savefig(human_heart_sn_vs_sc_plots + \"UMAP_study.pdf\")\n",
    "    plt.show()"
   ]
  },
  {
   "cell_type": "code",
   "execution_count": null,
   "id": "b11fd26b-eb49-4dc4-a48e-7665c5aff4b8",
   "metadata": {},
   "outputs": [],
   "source": [
    "with plt.rc_context():\n",
    "    sc.pl.umap(integrated, color = \"technology\", show=False)\n",
    "    plt.savefig(human_heart_sn_vs_sc_plots + \"UMAP_technology.pdf\")\n",
    "    plt.show()"
   ]
  }
 ],
 "metadata": {
  "kernelspec": {
   "display_name": "Python 3 (ipykernel)",
   "language": "python",
   "name": "python3"
  },
  "language_info": {
   "codemirror_mode": {
    "name": "ipython",
    "version": 3
   },
   "file_extension": ".py",
   "mimetype": "text/x-python",
   "name": "python",
   "nbconvert_exporter": "python",
   "pygments_lexer": "ipython3",
   "version": "3.12.5"
  }
 },
 "nbformat": 4,
 "nbformat_minor": 5
}

{
 "cells": [
  {
   "cell_type": "markdown",
   "id": "f1a1496f-b130-4255-a13c-c072af42dd3c",
   "metadata": {
    "jp-MarkdownHeadingCollapsed": true
   },
   "source": [
    "### Goal: Join all of the diseased single nucleus RNA-seq LV ventricle datasets\n",
    "\n",
    "The goal of this script is to join all of the external datasets and internal (Drop-seq) snRNA-seq datasets together. \n",
    "\n",
    "In each of their individual directories, we examined the processed data of each publication using a simple scanpy preprocessing procedure with Harmony integration. As the batch effects are quite significant between different datasets, we will use scVI integration eventually to harmonize the UMAP embedding.\n",
    "\n",
    "In addition to the in house Penn dataset, we will include the diseased donors from the following datasets: \n",
    "\n",
    "1. Koenig et al. 2022 - DCM\n",
    "2. Chaffin et al. 2022 - DCM, HCM\n",
    "3. Reichart et al. 2022 - DCM\n",
    "4. Simonson et al. 2023 - ICM\n",
    "5. Kuppe et al. 2022 - AMI, ICM\n",
    "6. Hill et al. 2022 - pediatric HF"
   ]
  },
  {
   "cell_type": "markdown",
   "id": "e1c0eb1a-445a-477c-bc6b-db447d42aa67",
   "metadata": {},
   "source": [
    "### Consistent metadata across studies\n",
    "\n",
    "We will keep the follow metadata (per cell) from each of the datasets\n",
    "\n",
    "1. Donor id\n",
    "2. Donor age\n",
    "3. Donor sex\n",
    "4. Disease\n",
    "5. Technology used for library generation \n",
    "6. Cell or nuclei (should all be nuclei only)\n",
    "7. Region (e.g. chamber such as LV)\n",
    "8. Study\n",
    "9. cell_type annotation (original annotation from each study, or our annotations for Penn and ENCODE v4 dataset)\n",
    "10. consistent_cell_type (annotation from each study, but made consistent across all studies)"
   ]
  },
  {
   "cell_type": "markdown",
   "id": "7b5e0b15-62e4-43d1-9ce5-36a786ea0dc1",
   "metadata": {},
   "source": [
    "#### Import libraries"
   ]
  },
  {
   "cell_type": "code",
   "execution_count": 1,
   "id": "9aa12ef2-de39-41b1-ab8f-7c3107408919",
   "metadata": {},
   "outputs": [],
   "source": [
    "import scanpy as sc\n",
    "import anndata as adata\n",
    "import matplotlib.pyplot as plt\n",
    "import pandas as pd\n",
    "import numpy as np\n",
    "import anndata as ad\n",
    "from collections import Counter\n",
    "import seaborn as sns\n",
    "from scipy import io\n",
    "from scipy.sparse import coo_matrix, csr_matrix\n",
    "import re\n",
    "import gc\n",
    "from adjustText import adjust_text\n",
    "from sklearn.mixture import GaussianMixture"
   ]
  },
  {
   "cell_type": "code",
   "execution_count": 2,
   "id": "9c9e512a-0fb5-4390-b925-02a423d8aa3b",
   "metadata": {},
   "outputs": [],
   "source": [
    "metadata_to_keep = [\"age\", \n",
    "                    \"donor_id\", \n",
    "                    \"sex\", \n",
    "                    \"region\", \n",
    "                    \"cell_type\",\n",
    "                    \"disease\",\n",
    "                    \"consistent_cell_type\",\n",
    "                    \"study\", \n",
    "                    \"technology\", \n",
    "                    \"cell_or_nuclei\"]"
   ]
  },
  {
   "cell_type": "markdown",
   "id": "6798cb38-3402-431a-af13-eae7f4b4a6bc",
   "metadata": {},
   "source": [
    "### Sequentially load each of the datasets \n",
    "1. Confirm that the counts are the RAW counts (not normalized)"
   ]
  },
  {
   "cell_type": "code",
   "execution_count": 3,
   "id": "d2f6e720-569b-4fbb-8338-0b354ab5f470",
   "metadata": {},
   "outputs": [],
   "source": [
    "def confirm_raw_counts(adata):\n",
    "    \"\"\"\n",
    "    Check if every value in adata.X.sum(axis=1), the sum of counts across all genes per cell, is an integer.   \n",
    "\n",
    "    Parameters:\n",
    "    adata (AnnData): The AnnData object containing the data matrix (adata.X).\n",
    "\n",
    "    Returns:\n",
    "    bool: True if all sums are integers, False otherwise.\n",
    "    \"\"\"\n",
    "    # Sum across rows (axis=1), which correspond to the genes\n",
    "    sums = adata.X.sum(axis=1)\n",
    "    \n",
    "    # Check if all sums are integers by comparing them to their rounded versions\n",
    "    return np.all(np.equal(sums, np.round(sums)))"
   ]
  },
  {
   "cell_type": "markdown",
   "id": "d5dc741d-a601-498a-b969-3d30cd4f62a0",
   "metadata": {},
   "source": [
    "### Penn"
   ]
  },
  {
   "cell_type": "code",
   "execution_count": 4,
   "id": "0eed2aac-115f-4e7b-b7b3-6950eb2642fe",
   "metadata": {},
   "outputs": [
    {
     "name": "stdout",
     "output_type": "stream",
     "text": [
      "All raw counts?: True\n",
      "CPU times: user 325 ms, sys: 319 ms, total: 643 ms\n",
      "Wall time: 1.21 s\n"
     ]
    }
   ],
   "source": [
    "%%time\n",
    "Penn_adata = sc.read_h5ad(\"../internal_datasets/postnatal_datasets/combined_analysis/processed_Penn_diseased.h5ad\")\n",
    "Penn_adata.X = Penn_adata.layers['counts']\n",
    "print(\"All raw counts?: \" + str (confirm_raw_counts(Penn_adata)) )\n",
    "Penn_adata.obs = Penn_adata.obs[metadata_to_keep]"
   ]
  },
  {
   "cell_type": "code",
   "execution_count": 5,
   "id": "4fe5100e-c519-4841-8958-a57578cfc9f3",
   "metadata": {},
   "outputs": [
    {
     "data": {
      "text/html": [
       "<div>\n",
       "<style scoped>\n",
       "    .dataframe tbody tr th:only-of-type {\n",
       "        vertical-align: middle;\n",
       "    }\n",
       "\n",
       "    .dataframe tbody tr th {\n",
       "        vertical-align: top;\n",
       "    }\n",
       "\n",
       "    .dataframe thead th {\n",
       "        text-align: right;\n",
       "    }\n",
       "</style>\n",
       "<table border=\"1\" class=\"dataframe\">\n",
       "  <thead>\n",
       "    <tr style=\"text-align: right;\">\n",
       "      <th></th>\n",
       "      <th>age</th>\n",
       "      <th>donor_id</th>\n",
       "      <th>sex</th>\n",
       "      <th>region</th>\n",
       "      <th>cell_type</th>\n",
       "      <th>disease</th>\n",
       "      <th>consistent_cell_type</th>\n",
       "      <th>study</th>\n",
       "      <th>technology</th>\n",
       "      <th>cell_or_nuclei</th>\n",
       "    </tr>\n",
       "    <tr>\n",
       "      <th>index</th>\n",
       "      <th></th>\n",
       "      <th></th>\n",
       "      <th></th>\n",
       "      <th></th>\n",
       "      <th></th>\n",
       "      <th></th>\n",
       "      <th></th>\n",
       "      <th></th>\n",
       "      <th></th>\n",
       "      <th></th>\n",
       "    </tr>\n",
       "  </thead>\n",
       "  <tbody>\n",
       "    <tr>\n",
       "      <th>K1617-LV-FACS:AAAAACCACGAT</th>\n",
       "      <td>64</td>\n",
       "      <td>K1617</td>\n",
       "      <td>male</td>\n",
       "      <td>LV</td>\n",
       "      <td>Endothelial</td>\n",
       "      <td>DCM</td>\n",
       "      <td>Endothelial</td>\n",
       "      <td>Penn</td>\n",
       "      <td>Dropseq</td>\n",
       "      <td>Nuclei</td>\n",
       "    </tr>\n",
       "    <tr>\n",
       "      <th>K1617-LV-FACS:AAAAATGTTCAA</th>\n",
       "      <td>64</td>\n",
       "      <td>K1617</td>\n",
       "      <td>male</td>\n",
       "      <td>LV</td>\n",
       "      <td>Endothelial</td>\n",
       "      <td>DCM</td>\n",
       "      <td>Endothelial</td>\n",
       "      <td>Penn</td>\n",
       "      <td>Dropseq</td>\n",
       "      <td>Nuclei</td>\n",
       "    </tr>\n",
       "    <tr>\n",
       "      <th>K1617-LV-FACS:AAAACAGCCCAC</th>\n",
       "      <td>64</td>\n",
       "      <td>K1617</td>\n",
       "      <td>male</td>\n",
       "      <td>LV</td>\n",
       "      <td>Cardiomyocyte</td>\n",
       "      <td>DCM</td>\n",
       "      <td>Cardiomyocyte</td>\n",
       "      <td>Penn</td>\n",
       "      <td>Dropseq</td>\n",
       "      <td>Nuclei</td>\n",
       "    </tr>\n",
       "    <tr>\n",
       "      <th>K1617-LV-FACS:AAAACCTCCATT</th>\n",
       "      <td>64</td>\n",
       "      <td>K1617</td>\n",
       "      <td>male</td>\n",
       "      <td>LV</td>\n",
       "      <td>Pericyte</td>\n",
       "      <td>DCM</td>\n",
       "      <td>Pericyte</td>\n",
       "      <td>Penn</td>\n",
       "      <td>Dropseq</td>\n",
       "      <td>Nuclei</td>\n",
       "    </tr>\n",
       "    <tr>\n",
       "      <th>K1617-LV-FACS:AAAAGCAGGTTG</th>\n",
       "      <td>64</td>\n",
       "      <td>K1617</td>\n",
       "      <td>male</td>\n",
       "      <td>LV</td>\n",
       "      <td>Fibroblast</td>\n",
       "      <td>DCM</td>\n",
       "      <td>Fibroblast</td>\n",
       "      <td>Penn</td>\n",
       "      <td>Dropseq</td>\n",
       "      <td>Nuclei</td>\n",
       "    </tr>\n",
       "  </tbody>\n",
       "</table>\n",
       "</div>"
      ],
      "text/plain": [
       "                            age donor_id   sex region      cell_type disease  \\\n",
       "index                                                                          \n",
       "K1617-LV-FACS:AAAAACCACGAT   64    K1617  male     LV    Endothelial     DCM   \n",
       "K1617-LV-FACS:AAAAATGTTCAA   64    K1617  male     LV    Endothelial     DCM   \n",
       "K1617-LV-FACS:AAAACAGCCCAC   64    K1617  male     LV  Cardiomyocyte     DCM   \n",
       "K1617-LV-FACS:AAAACCTCCATT   64    K1617  male     LV       Pericyte     DCM   \n",
       "K1617-LV-FACS:AAAAGCAGGTTG   64    K1617  male     LV     Fibroblast     DCM   \n",
       "\n",
       "                           consistent_cell_type study technology  \\\n",
       "index                                                              \n",
       "K1617-LV-FACS:AAAAACCACGAT          Endothelial  Penn    Dropseq   \n",
       "K1617-LV-FACS:AAAAATGTTCAA          Endothelial  Penn    Dropseq   \n",
       "K1617-LV-FACS:AAAACAGCCCAC        Cardiomyocyte  Penn    Dropseq   \n",
       "K1617-LV-FACS:AAAACCTCCATT             Pericyte  Penn    Dropseq   \n",
       "K1617-LV-FACS:AAAAGCAGGTTG           Fibroblast  Penn    Dropseq   \n",
       "\n",
       "                           cell_or_nuclei  \n",
       "index                                      \n",
       "K1617-LV-FACS:AAAAACCACGAT         Nuclei  \n",
       "K1617-LV-FACS:AAAAATGTTCAA         Nuclei  \n",
       "K1617-LV-FACS:AAAACAGCCCAC         Nuclei  \n",
       "K1617-LV-FACS:AAAACCTCCATT         Nuclei  \n",
       "K1617-LV-FACS:AAAAGCAGGTTG         Nuclei  "
      ]
     },
     "execution_count": 5,
     "metadata": {},
     "output_type": "execute_result"
    }
   ],
   "source": [
    "Penn_adata.obs.head()"
   ]
  },
  {
   "cell_type": "code",
   "execution_count": 6,
   "id": "04e49510-cb2d-42a6-895d-1250b77b5e5c",
   "metadata": {},
   "outputs": [],
   "source": [
    "# create a sample_id column, as donor_ids can have multiple sample_ids\n",
    "Penn_adata.obs['sample_id'] = Penn_adata.obs_names.str.split(\":\").str[0]\n",
    "Penn_adata.obs['barcode'] = Penn_adata.obs_names.str.split(\":\").str[1]"
   ]
  },
  {
   "cell_type": "code",
   "execution_count": 7,
   "id": "4bae1479-5dcc-46d4-8d3c-aceb91e3fbe1",
   "metadata": {},
   "outputs": [],
   "source": [
    "Penn_adata.obs_names = Penn_adata.obs['sample_id'].astype(str) + \":\" + Penn_adata.obs['barcode'].astype(str)"
   ]
  },
  {
   "cell_type": "code",
   "execution_count": 8,
   "id": "e6a5a0e6-3485-4e50-b3ed-1f169f0bb68d",
   "metadata": {},
   "outputs": [
    {
     "data": {
      "text/plain": [
       "('K1617-LV-FACS:AAAAACCACGAT', 1)"
      ]
     },
     "execution_count": 8,
     "metadata": {},
     "output_type": "execute_result"
    }
   ],
   "source": [
    "Counter(Penn_adata.obs_names).most_common(1)[0]"
   ]
  },
  {
   "cell_type": "code",
   "execution_count": 9,
   "id": "a99aeef9-15d2-4c4c-844f-57ffae6df4b8",
   "metadata": {},
   "outputs": [
    {
     "data": {
      "text/html": [
       "<div>\n",
       "<style scoped>\n",
       "    .dataframe tbody tr th:only-of-type {\n",
       "        vertical-align: middle;\n",
       "    }\n",
       "\n",
       "    .dataframe tbody tr th {\n",
       "        vertical-align: top;\n",
       "    }\n",
       "\n",
       "    .dataframe thead th {\n",
       "        text-align: right;\n",
       "    }\n",
       "</style>\n",
       "<table border=\"1\" class=\"dataframe\">\n",
       "  <thead>\n",
       "    <tr style=\"text-align: right;\">\n",
       "      <th></th>\n",
       "      <th>age</th>\n",
       "      <th>donor_id</th>\n",
       "      <th>sex</th>\n",
       "      <th>region</th>\n",
       "      <th>cell_type</th>\n",
       "      <th>disease</th>\n",
       "      <th>consistent_cell_type</th>\n",
       "      <th>study</th>\n",
       "      <th>technology</th>\n",
       "      <th>cell_or_nuclei</th>\n",
       "      <th>sample_id</th>\n",
       "      <th>barcode</th>\n",
       "    </tr>\n",
       "  </thead>\n",
       "  <tbody>\n",
       "    <tr>\n",
       "      <th>K1617-LV-FACS:AAAAACCACGAT</th>\n",
       "      <td>64</td>\n",
       "      <td>K1617</td>\n",
       "      <td>male</td>\n",
       "      <td>LV</td>\n",
       "      <td>Endothelial</td>\n",
       "      <td>DCM</td>\n",
       "      <td>Endothelial</td>\n",
       "      <td>Penn</td>\n",
       "      <td>Dropseq</td>\n",
       "      <td>Nuclei</td>\n",
       "      <td>K1617-LV-FACS</td>\n",
       "      <td>AAAAACCACGAT</td>\n",
       "    </tr>\n",
       "    <tr>\n",
       "      <th>K1617-LV-FACS:AAAAATGTTCAA</th>\n",
       "      <td>64</td>\n",
       "      <td>K1617</td>\n",
       "      <td>male</td>\n",
       "      <td>LV</td>\n",
       "      <td>Endothelial</td>\n",
       "      <td>DCM</td>\n",
       "      <td>Endothelial</td>\n",
       "      <td>Penn</td>\n",
       "      <td>Dropseq</td>\n",
       "      <td>Nuclei</td>\n",
       "      <td>K1617-LV-FACS</td>\n",
       "      <td>AAAAATGTTCAA</td>\n",
       "    </tr>\n",
       "    <tr>\n",
       "      <th>K1617-LV-FACS:AAAACAGCCCAC</th>\n",
       "      <td>64</td>\n",
       "      <td>K1617</td>\n",
       "      <td>male</td>\n",
       "      <td>LV</td>\n",
       "      <td>Cardiomyocyte</td>\n",
       "      <td>DCM</td>\n",
       "      <td>Cardiomyocyte</td>\n",
       "      <td>Penn</td>\n",
       "      <td>Dropseq</td>\n",
       "      <td>Nuclei</td>\n",
       "      <td>K1617-LV-FACS</td>\n",
       "      <td>AAAACAGCCCAC</td>\n",
       "    </tr>\n",
       "    <tr>\n",
       "      <th>K1617-LV-FACS:AAAACCTCCATT</th>\n",
       "      <td>64</td>\n",
       "      <td>K1617</td>\n",
       "      <td>male</td>\n",
       "      <td>LV</td>\n",
       "      <td>Pericyte</td>\n",
       "      <td>DCM</td>\n",
       "      <td>Pericyte</td>\n",
       "      <td>Penn</td>\n",
       "      <td>Dropseq</td>\n",
       "      <td>Nuclei</td>\n",
       "      <td>K1617-LV-FACS</td>\n",
       "      <td>AAAACCTCCATT</td>\n",
       "    </tr>\n",
       "    <tr>\n",
       "      <th>K1617-LV-FACS:AAAAGCAGGTTG</th>\n",
       "      <td>64</td>\n",
       "      <td>K1617</td>\n",
       "      <td>male</td>\n",
       "      <td>LV</td>\n",
       "      <td>Fibroblast</td>\n",
       "      <td>DCM</td>\n",
       "      <td>Fibroblast</td>\n",
       "      <td>Penn</td>\n",
       "      <td>Dropseq</td>\n",
       "      <td>Nuclei</td>\n",
       "      <td>K1617-LV-FACS</td>\n",
       "      <td>AAAAGCAGGTTG</td>\n",
       "    </tr>\n",
       "  </tbody>\n",
       "</table>\n",
       "</div>"
      ],
      "text/plain": [
       "                            age donor_id   sex region      cell_type disease  \\\n",
       "K1617-LV-FACS:AAAAACCACGAT   64    K1617  male     LV    Endothelial     DCM   \n",
       "K1617-LV-FACS:AAAAATGTTCAA   64    K1617  male     LV    Endothelial     DCM   \n",
       "K1617-LV-FACS:AAAACAGCCCAC   64    K1617  male     LV  Cardiomyocyte     DCM   \n",
       "K1617-LV-FACS:AAAACCTCCATT   64    K1617  male     LV       Pericyte     DCM   \n",
       "K1617-LV-FACS:AAAAGCAGGTTG   64    K1617  male     LV     Fibroblast     DCM   \n",
       "\n",
       "                           consistent_cell_type study technology  \\\n",
       "K1617-LV-FACS:AAAAACCACGAT          Endothelial  Penn    Dropseq   \n",
       "K1617-LV-FACS:AAAAATGTTCAA          Endothelial  Penn    Dropseq   \n",
       "K1617-LV-FACS:AAAACAGCCCAC        Cardiomyocyte  Penn    Dropseq   \n",
       "K1617-LV-FACS:AAAACCTCCATT             Pericyte  Penn    Dropseq   \n",
       "K1617-LV-FACS:AAAAGCAGGTTG           Fibroblast  Penn    Dropseq   \n",
       "\n",
       "                           cell_or_nuclei      sample_id       barcode  \n",
       "K1617-LV-FACS:AAAAACCACGAT         Nuclei  K1617-LV-FACS  AAAAACCACGAT  \n",
       "K1617-LV-FACS:AAAAATGTTCAA         Nuclei  K1617-LV-FACS  AAAAATGTTCAA  \n",
       "K1617-LV-FACS:AAAACAGCCCAC         Nuclei  K1617-LV-FACS  AAAACAGCCCAC  \n",
       "K1617-LV-FACS:AAAACCTCCATT         Nuclei  K1617-LV-FACS  AAAACCTCCATT  \n",
       "K1617-LV-FACS:AAAAGCAGGTTG         Nuclei  K1617-LV-FACS  AAAAGCAGGTTG  "
      ]
     },
     "execution_count": 9,
     "metadata": {},
     "output_type": "execute_result"
    }
   ],
   "source": [
    "Penn_adata.obs.head()"
   ]
  },
  {
   "cell_type": "markdown",
   "id": "7702dc9a-396b-4324-953e-b2d2b2cf4280",
   "metadata": {},
   "source": [
    "#### Chaffin et al. 2022 "
   ]
  },
  {
   "cell_type": "code",
   "execution_count": 10,
   "id": "d9f72758-2179-432d-a9d3-d81cae665e6f",
   "metadata": {},
   "outputs": [
    {
     "name": "stdout",
     "output_type": "stream",
     "text": [
      "All raw counts?: True\n",
      "CPU times: user 2.01 s, sys: 12.4 s, total: 14.4 s\n",
      "Wall time: 18 s\n"
     ]
    }
   ],
   "source": [
    "%%time\n",
    "Chaffin_adata = sc.read_h5ad(\"../external_datasets/Chaffin_et_al_2022/processed_Chaffin_diseased.h5ad\")\n",
    "Chaffin_adata.X = Chaffin_adata.layers['counts']\n",
    "print(\"All raw counts?: \" + str (confirm_raw_counts(Chaffin_adata)) )\n",
    "Chaffin_adata.obs = Chaffin_adata.obs[metadata_to_keep]"
   ]
  },
  {
   "cell_type": "code",
   "execution_count": 11,
   "id": "34cc7eb7-0e31-4717-ba91-de131b62c5ce",
   "metadata": {},
   "outputs": [
    {
     "data": {
      "text/html": [
       "<div>\n",
       "<style scoped>\n",
       "    .dataframe tbody tr th:only-of-type {\n",
       "        vertical-align: middle;\n",
       "    }\n",
       "\n",
       "    .dataframe tbody tr th {\n",
       "        vertical-align: top;\n",
       "    }\n",
       "\n",
       "    .dataframe thead th {\n",
       "        text-align: right;\n",
       "    }\n",
       "</style>\n",
       "<table border=\"1\" class=\"dataframe\">\n",
       "  <thead>\n",
       "    <tr style=\"text-align: right;\">\n",
       "      <th></th>\n",
       "      <th>age</th>\n",
       "      <th>donor_id</th>\n",
       "      <th>sex</th>\n",
       "      <th>region</th>\n",
       "      <th>cell_type</th>\n",
       "      <th>disease</th>\n",
       "      <th>consistent_cell_type</th>\n",
       "      <th>study</th>\n",
       "      <th>technology</th>\n",
       "      <th>cell_or_nuclei</th>\n",
       "    </tr>\n",
       "  </thead>\n",
       "  <tbody>\n",
       "    <tr>\n",
       "      <th>ACAGCCGCAAGCGAGT-1-1</th>\n",
       "      <td>54.0</td>\n",
       "      <td>P1422</td>\n",
       "      <td>male</td>\n",
       "      <td>LV</td>\n",
       "      <td>Cardiomyocyte_I</td>\n",
       "      <td>HCM</td>\n",
       "      <td>Cardiomyocyte</td>\n",
       "      <td>Chaffin 2022</td>\n",
       "      <td>3prime-v3</td>\n",
       "      <td>Nuclei</td>\n",
       "    </tr>\n",
       "    <tr>\n",
       "      <th>ATATCCTGTCCCTAAA-1-1</th>\n",
       "      <td>54.0</td>\n",
       "      <td>P1422</td>\n",
       "      <td>male</td>\n",
       "      <td>LV</td>\n",
       "      <td>Cardiomyocyte_I</td>\n",
       "      <td>HCM</td>\n",
       "      <td>Cardiomyocyte</td>\n",
       "      <td>Chaffin 2022</td>\n",
       "      <td>3prime-v3</td>\n",
       "      <td>Nuclei</td>\n",
       "    </tr>\n",
       "    <tr>\n",
       "      <th>CAATGACCAGTTGTCA-1-1</th>\n",
       "      <td>54.0</td>\n",
       "      <td>P1422</td>\n",
       "      <td>male</td>\n",
       "      <td>LV</td>\n",
       "      <td>Cardiomyocyte_I</td>\n",
       "      <td>HCM</td>\n",
       "      <td>Cardiomyocyte</td>\n",
       "      <td>Chaffin 2022</td>\n",
       "      <td>3prime-v3</td>\n",
       "      <td>Nuclei</td>\n",
       "    </tr>\n",
       "    <tr>\n",
       "      <th>CTAGACACAAGGTTGG-1-1</th>\n",
       "      <td>54.0</td>\n",
       "      <td>P1422</td>\n",
       "      <td>male</td>\n",
       "      <td>LV</td>\n",
       "      <td>Cardiomyocyte_I</td>\n",
       "      <td>HCM</td>\n",
       "      <td>Cardiomyocyte</td>\n",
       "      <td>Chaffin 2022</td>\n",
       "      <td>3prime-v3</td>\n",
       "      <td>Nuclei</td>\n",
       "    </tr>\n",
       "    <tr>\n",
       "      <th>ATCGTCCGTATTTCTC-1-1</th>\n",
       "      <td>54.0</td>\n",
       "      <td>P1422</td>\n",
       "      <td>male</td>\n",
       "      <td>LV</td>\n",
       "      <td>Cardiomyocyte_I</td>\n",
       "      <td>HCM</td>\n",
       "      <td>Cardiomyocyte</td>\n",
       "      <td>Chaffin 2022</td>\n",
       "      <td>3prime-v3</td>\n",
       "      <td>Nuclei</td>\n",
       "    </tr>\n",
       "  </tbody>\n",
       "</table>\n",
       "</div>"
      ],
      "text/plain": [
       "                       age donor_id   sex region        cell_type disease  \\\n",
       "ACAGCCGCAAGCGAGT-1-1  54.0    P1422  male     LV  Cardiomyocyte_I     HCM   \n",
       "ATATCCTGTCCCTAAA-1-1  54.0    P1422  male     LV  Cardiomyocyte_I     HCM   \n",
       "CAATGACCAGTTGTCA-1-1  54.0    P1422  male     LV  Cardiomyocyte_I     HCM   \n",
       "CTAGACACAAGGTTGG-1-1  54.0    P1422  male     LV  Cardiomyocyte_I     HCM   \n",
       "ATCGTCCGTATTTCTC-1-1  54.0    P1422  male     LV  Cardiomyocyte_I     HCM   \n",
       "\n",
       "                     consistent_cell_type         study technology  \\\n",
       "ACAGCCGCAAGCGAGT-1-1        Cardiomyocyte  Chaffin 2022  3prime-v3   \n",
       "ATATCCTGTCCCTAAA-1-1        Cardiomyocyte  Chaffin 2022  3prime-v3   \n",
       "CAATGACCAGTTGTCA-1-1        Cardiomyocyte  Chaffin 2022  3prime-v3   \n",
       "CTAGACACAAGGTTGG-1-1        Cardiomyocyte  Chaffin 2022  3prime-v3   \n",
       "ATCGTCCGTATTTCTC-1-1        Cardiomyocyte  Chaffin 2022  3prime-v3   \n",
       "\n",
       "                     cell_or_nuclei  \n",
       "ACAGCCGCAAGCGAGT-1-1         Nuclei  \n",
       "ATATCCTGTCCCTAAA-1-1         Nuclei  \n",
       "CAATGACCAGTTGTCA-1-1         Nuclei  \n",
       "CTAGACACAAGGTTGG-1-1         Nuclei  \n",
       "ATCGTCCGTATTTCTC-1-1         Nuclei  "
      ]
     },
     "execution_count": 11,
     "metadata": {},
     "output_type": "execute_result"
    }
   ],
   "source": [
    "Chaffin_adata.obs.head()"
   ]
  },
  {
   "cell_type": "code",
   "execution_count": 12,
   "id": "622ca0d9-63e7-4d1d-9344-966b9673500b",
   "metadata": {},
   "outputs": [],
   "source": [
    "Chaffin_adata.obs['barcode'] = Chaffin_adata.obs_names"
   ]
  },
  {
   "cell_type": "code",
   "execution_count": 13,
   "id": "bcd8d3a4-46b4-4f82-846e-c799238df836",
   "metadata": {},
   "outputs": [],
   "source": [
    "Chaffin_adata.obs_names = Chaffin_adata.obs['donor_id'].astype(str) + \":\" + Chaffin_adata.obs['barcode'].astype(str)"
   ]
  },
  {
   "cell_type": "code",
   "execution_count": 14,
   "id": "6cd7f820-3a36-4286-b7e0-4326f133e4a9",
   "metadata": {},
   "outputs": [],
   "source": [
    "Counter(Chaffin_adata.obs_names).most_common(1)[0]\n",
    "\n",
    "Chaffin_adata.obs['sample_id'] = Chaffin_adata.obs['donor_id']"
   ]
  },
  {
   "cell_type": "code",
   "execution_count": 15,
   "id": "397e45e4-ae99-4644-9817-d71044fb34c9",
   "metadata": {},
   "outputs": [
    {
     "data": {
      "text/html": [
       "<div>\n",
       "<style scoped>\n",
       "    .dataframe tbody tr th:only-of-type {\n",
       "        vertical-align: middle;\n",
       "    }\n",
       "\n",
       "    .dataframe tbody tr th {\n",
       "        vertical-align: top;\n",
       "    }\n",
       "\n",
       "    .dataframe thead th {\n",
       "        text-align: right;\n",
       "    }\n",
       "</style>\n",
       "<table border=\"1\" class=\"dataframe\">\n",
       "  <thead>\n",
       "    <tr style=\"text-align: right;\">\n",
       "      <th></th>\n",
       "      <th>age</th>\n",
       "      <th>donor_id</th>\n",
       "      <th>sex</th>\n",
       "      <th>region</th>\n",
       "      <th>cell_type</th>\n",
       "      <th>disease</th>\n",
       "      <th>consistent_cell_type</th>\n",
       "      <th>study</th>\n",
       "      <th>technology</th>\n",
       "      <th>cell_or_nuclei</th>\n",
       "      <th>barcode</th>\n",
       "      <th>sample_id</th>\n",
       "    </tr>\n",
       "  </thead>\n",
       "  <tbody>\n",
       "    <tr>\n",
       "      <th>P1422:ACAGCCGCAAGCGAGT-1-1</th>\n",
       "      <td>54.0</td>\n",
       "      <td>P1422</td>\n",
       "      <td>male</td>\n",
       "      <td>LV</td>\n",
       "      <td>Cardiomyocyte_I</td>\n",
       "      <td>HCM</td>\n",
       "      <td>Cardiomyocyte</td>\n",
       "      <td>Chaffin 2022</td>\n",
       "      <td>3prime-v3</td>\n",
       "      <td>Nuclei</td>\n",
       "      <td>ACAGCCGCAAGCGAGT-1-1</td>\n",
       "      <td>P1422</td>\n",
       "    </tr>\n",
       "    <tr>\n",
       "      <th>P1422:ATATCCTGTCCCTAAA-1-1</th>\n",
       "      <td>54.0</td>\n",
       "      <td>P1422</td>\n",
       "      <td>male</td>\n",
       "      <td>LV</td>\n",
       "      <td>Cardiomyocyte_I</td>\n",
       "      <td>HCM</td>\n",
       "      <td>Cardiomyocyte</td>\n",
       "      <td>Chaffin 2022</td>\n",
       "      <td>3prime-v3</td>\n",
       "      <td>Nuclei</td>\n",
       "      <td>ATATCCTGTCCCTAAA-1-1</td>\n",
       "      <td>P1422</td>\n",
       "    </tr>\n",
       "    <tr>\n",
       "      <th>P1422:CAATGACCAGTTGTCA-1-1</th>\n",
       "      <td>54.0</td>\n",
       "      <td>P1422</td>\n",
       "      <td>male</td>\n",
       "      <td>LV</td>\n",
       "      <td>Cardiomyocyte_I</td>\n",
       "      <td>HCM</td>\n",
       "      <td>Cardiomyocyte</td>\n",
       "      <td>Chaffin 2022</td>\n",
       "      <td>3prime-v3</td>\n",
       "      <td>Nuclei</td>\n",
       "      <td>CAATGACCAGTTGTCA-1-1</td>\n",
       "      <td>P1422</td>\n",
       "    </tr>\n",
       "    <tr>\n",
       "      <th>P1422:CTAGACACAAGGTTGG-1-1</th>\n",
       "      <td>54.0</td>\n",
       "      <td>P1422</td>\n",
       "      <td>male</td>\n",
       "      <td>LV</td>\n",
       "      <td>Cardiomyocyte_I</td>\n",
       "      <td>HCM</td>\n",
       "      <td>Cardiomyocyte</td>\n",
       "      <td>Chaffin 2022</td>\n",
       "      <td>3prime-v3</td>\n",
       "      <td>Nuclei</td>\n",
       "      <td>CTAGACACAAGGTTGG-1-1</td>\n",
       "      <td>P1422</td>\n",
       "    </tr>\n",
       "    <tr>\n",
       "      <th>P1422:ATCGTCCGTATTTCTC-1-1</th>\n",
       "      <td>54.0</td>\n",
       "      <td>P1422</td>\n",
       "      <td>male</td>\n",
       "      <td>LV</td>\n",
       "      <td>Cardiomyocyte_I</td>\n",
       "      <td>HCM</td>\n",
       "      <td>Cardiomyocyte</td>\n",
       "      <td>Chaffin 2022</td>\n",
       "      <td>3prime-v3</td>\n",
       "      <td>Nuclei</td>\n",
       "      <td>ATCGTCCGTATTTCTC-1-1</td>\n",
       "      <td>P1422</td>\n",
       "    </tr>\n",
       "  </tbody>\n",
       "</table>\n",
       "</div>"
      ],
      "text/plain": [
       "                             age donor_id   sex region        cell_type  \\\n",
       "P1422:ACAGCCGCAAGCGAGT-1-1  54.0    P1422  male     LV  Cardiomyocyte_I   \n",
       "P1422:ATATCCTGTCCCTAAA-1-1  54.0    P1422  male     LV  Cardiomyocyte_I   \n",
       "P1422:CAATGACCAGTTGTCA-1-1  54.0    P1422  male     LV  Cardiomyocyte_I   \n",
       "P1422:CTAGACACAAGGTTGG-1-1  54.0    P1422  male     LV  Cardiomyocyte_I   \n",
       "P1422:ATCGTCCGTATTTCTC-1-1  54.0    P1422  male     LV  Cardiomyocyte_I   \n",
       "\n",
       "                           disease consistent_cell_type         study  \\\n",
       "P1422:ACAGCCGCAAGCGAGT-1-1     HCM        Cardiomyocyte  Chaffin 2022   \n",
       "P1422:ATATCCTGTCCCTAAA-1-1     HCM        Cardiomyocyte  Chaffin 2022   \n",
       "P1422:CAATGACCAGTTGTCA-1-1     HCM        Cardiomyocyte  Chaffin 2022   \n",
       "P1422:CTAGACACAAGGTTGG-1-1     HCM        Cardiomyocyte  Chaffin 2022   \n",
       "P1422:ATCGTCCGTATTTCTC-1-1     HCM        Cardiomyocyte  Chaffin 2022   \n",
       "\n",
       "                           technology cell_or_nuclei               barcode  \\\n",
       "P1422:ACAGCCGCAAGCGAGT-1-1  3prime-v3         Nuclei  ACAGCCGCAAGCGAGT-1-1   \n",
       "P1422:ATATCCTGTCCCTAAA-1-1  3prime-v3         Nuclei  ATATCCTGTCCCTAAA-1-1   \n",
       "P1422:CAATGACCAGTTGTCA-1-1  3prime-v3         Nuclei  CAATGACCAGTTGTCA-1-1   \n",
       "P1422:CTAGACACAAGGTTGG-1-1  3prime-v3         Nuclei  CTAGACACAAGGTTGG-1-1   \n",
       "P1422:ATCGTCCGTATTTCTC-1-1  3prime-v3         Nuclei  ATCGTCCGTATTTCTC-1-1   \n",
       "\n",
       "                           sample_id  \n",
       "P1422:ACAGCCGCAAGCGAGT-1-1     P1422  \n",
       "P1422:ATATCCTGTCCCTAAA-1-1     P1422  \n",
       "P1422:CAATGACCAGTTGTCA-1-1     P1422  \n",
       "P1422:CTAGACACAAGGTTGG-1-1     P1422  \n",
       "P1422:ATCGTCCGTATTTCTC-1-1     P1422  "
      ]
     },
     "execution_count": 15,
     "metadata": {},
     "output_type": "execute_result"
    }
   ],
   "source": [
    "Chaffin_adata.obs.head()"
   ]
  },
  {
   "cell_type": "markdown",
   "id": "12d0e44c-abbe-42f6-8329-c3d79acc51ea",
   "metadata": {},
   "source": [
    "#### Simonson et al. 2023"
   ]
  },
  {
   "cell_type": "code",
   "execution_count": 16,
   "id": "6945bac2-0bd4-4cb0-9b81-9292d5ca1530",
   "metadata": {},
   "outputs": [
    {
     "name": "stdout",
     "output_type": "stream",
     "text": [
      "All raw counts?: True\n",
      "CPU times: user 352 ms, sys: 1 s, total: 1.35 s\n",
      "Wall time: 3.21 s\n"
     ]
    }
   ],
   "source": [
    "%%time\n",
    "# read in the entire dataset\n",
    "Simonson_adata = sc.read_h5ad(\"../external_datasets/Simonson_et_al_2023/processed_Simonson_diseased.h5ad\")\n",
    "Simonson_adata.X = Simonson_adata.layers['counts']\n",
    "print(\"All raw counts?: \" + str (confirm_raw_counts(Simonson_adata)) )\n",
    "Simonson_adata.obs = Simonson_adata.obs[metadata_to_keep]"
   ]
  },
  {
   "cell_type": "code",
   "execution_count": 17,
   "id": "0758cccc-1008-4c45-a8ad-543cd328c4b3",
   "metadata": {},
   "outputs": [
    {
     "data": {
      "text/html": [
       "<div>\n",
       "<style scoped>\n",
       "    .dataframe tbody tr th:only-of-type {\n",
       "        vertical-align: middle;\n",
       "    }\n",
       "\n",
       "    .dataframe tbody tr th {\n",
       "        vertical-align: top;\n",
       "    }\n",
       "\n",
       "    .dataframe thead th {\n",
       "        text-align: right;\n",
       "    }\n",
       "</style>\n",
       "<table border=\"1\" class=\"dataframe\">\n",
       "  <thead>\n",
       "    <tr style=\"text-align: right;\">\n",
       "      <th></th>\n",
       "      <th>age</th>\n",
       "      <th>donor_id</th>\n",
       "      <th>sex</th>\n",
       "      <th>region</th>\n",
       "      <th>cell_type</th>\n",
       "      <th>disease</th>\n",
       "      <th>consistent_cell_type</th>\n",
       "      <th>study</th>\n",
       "      <th>technology</th>\n",
       "      <th>cell_or_nuclei</th>\n",
       "    </tr>\n",
       "  </thead>\n",
       "  <tbody>\n",
       "    <tr>\n",
       "      <th>TCCCACACAATAGTGA-1-0</th>\n",
       "      <td>55</td>\n",
       "      <td>P1364</td>\n",
       "      <td>female</td>\n",
       "      <td>LV</td>\n",
       "      <td>Cardiomyocyte I</td>\n",
       "      <td>ICM</td>\n",
       "      <td>Cardiomyocyte</td>\n",
       "      <td>Simonson 2023</td>\n",
       "      <td>3prime-v3</td>\n",
       "      <td>Nuclei</td>\n",
       "    </tr>\n",
       "    <tr>\n",
       "      <th>AATGCCACAACTTCTT-1-0</th>\n",
       "      <td>55</td>\n",
       "      <td>P1364</td>\n",
       "      <td>female</td>\n",
       "      <td>LV</td>\n",
       "      <td>Cardiomyocyte I</td>\n",
       "      <td>ICM</td>\n",
       "      <td>Cardiomyocyte</td>\n",
       "      <td>Simonson 2023</td>\n",
       "      <td>3prime-v3</td>\n",
       "      <td>Nuclei</td>\n",
       "    </tr>\n",
       "    <tr>\n",
       "      <th>ATTACTCCAATAGTAG-1-0</th>\n",
       "      <td>55</td>\n",
       "      <td>P1364</td>\n",
       "      <td>female</td>\n",
       "      <td>LV</td>\n",
       "      <td>Cardiomyocyte I</td>\n",
       "      <td>ICM</td>\n",
       "      <td>Cardiomyocyte</td>\n",
       "      <td>Simonson 2023</td>\n",
       "      <td>3prime-v3</td>\n",
       "      <td>Nuclei</td>\n",
       "    </tr>\n",
       "    <tr>\n",
       "      <th>ATCGTGACACCTGTCT-1-0</th>\n",
       "      <td>55</td>\n",
       "      <td>P1364</td>\n",
       "      <td>female</td>\n",
       "      <td>LV</td>\n",
       "      <td>Cardiomyocyte I</td>\n",
       "      <td>ICM</td>\n",
       "      <td>Cardiomyocyte</td>\n",
       "      <td>Simonson 2023</td>\n",
       "      <td>3prime-v3</td>\n",
       "      <td>Nuclei</td>\n",
       "    </tr>\n",
       "    <tr>\n",
       "      <th>CAGTTAGCAACCGCTG-1-0</th>\n",
       "      <td>55</td>\n",
       "      <td>P1364</td>\n",
       "      <td>female</td>\n",
       "      <td>LV</td>\n",
       "      <td>Cardiomyocyte I</td>\n",
       "      <td>ICM</td>\n",
       "      <td>Cardiomyocyte</td>\n",
       "      <td>Simonson 2023</td>\n",
       "      <td>3prime-v3</td>\n",
       "      <td>Nuclei</td>\n",
       "    </tr>\n",
       "  </tbody>\n",
       "</table>\n",
       "</div>"
      ],
      "text/plain": [
       "                      age donor_id     sex region         cell_type disease  \\\n",
       "TCCCACACAATAGTGA-1-0   55    P1364  female     LV   Cardiomyocyte I     ICM   \n",
       "AATGCCACAACTTCTT-1-0   55    P1364  female     LV   Cardiomyocyte I     ICM   \n",
       "ATTACTCCAATAGTAG-1-0   55    P1364  female     LV   Cardiomyocyte I     ICM   \n",
       "ATCGTGACACCTGTCT-1-0   55    P1364  female     LV   Cardiomyocyte I     ICM   \n",
       "CAGTTAGCAACCGCTG-1-0   55    P1364  female     LV   Cardiomyocyte I     ICM   \n",
       "\n",
       "                     consistent_cell_type          study technology  \\\n",
       "TCCCACACAATAGTGA-1-0        Cardiomyocyte  Simonson 2023  3prime-v3   \n",
       "AATGCCACAACTTCTT-1-0        Cardiomyocyte  Simonson 2023  3prime-v3   \n",
       "ATTACTCCAATAGTAG-1-0        Cardiomyocyte  Simonson 2023  3prime-v3   \n",
       "ATCGTGACACCTGTCT-1-0        Cardiomyocyte  Simonson 2023  3prime-v3   \n",
       "CAGTTAGCAACCGCTG-1-0        Cardiomyocyte  Simonson 2023  3prime-v3   \n",
       "\n",
       "                     cell_or_nuclei  \n",
       "TCCCACACAATAGTGA-1-0         Nuclei  \n",
       "AATGCCACAACTTCTT-1-0         Nuclei  \n",
       "ATTACTCCAATAGTAG-1-0         Nuclei  \n",
       "ATCGTGACACCTGTCT-1-0         Nuclei  \n",
       "CAGTTAGCAACCGCTG-1-0         Nuclei  "
      ]
     },
     "execution_count": 17,
     "metadata": {},
     "output_type": "execute_result"
    }
   ],
   "source": [
    "Simonson_adata.obs.head()"
   ]
  },
  {
   "cell_type": "code",
   "execution_count": 18,
   "id": "01f044d7-92d2-421e-aa88-4cd536bacee3",
   "metadata": {},
   "outputs": [],
   "source": [
    "Simonson_adata.obs['barcode'] = Simonson_adata.obs_names"
   ]
  },
  {
   "cell_type": "code",
   "execution_count": 19,
   "id": "b1208f85-44a3-4fef-8413-bd651667171c",
   "metadata": {},
   "outputs": [],
   "source": [
    "Simonson_adata.obs_names = Simonson_adata.obs['donor_id'].astype(str) + \":\" + Simonson_adata.obs['barcode'].astype(str)"
   ]
  },
  {
   "cell_type": "code",
   "execution_count": 20,
   "id": "b9cb48c1-9dfc-4c7e-9001-d5157c7fbe59",
   "metadata": {},
   "outputs": [],
   "source": [
    "Counter(Simonson_adata.obs_names).most_common(1)[0]\n",
    "Simonson_adata.obs['sample_id'] = Simonson_adata.obs['donor_id']"
   ]
  },
  {
   "cell_type": "code",
   "execution_count": 21,
   "id": "df1e2e29-7513-42a6-8f4b-cdc16e432aa0",
   "metadata": {},
   "outputs": [
    {
     "data": {
      "text/html": [
       "<div>\n",
       "<style scoped>\n",
       "    .dataframe tbody tr th:only-of-type {\n",
       "        vertical-align: middle;\n",
       "    }\n",
       "\n",
       "    .dataframe tbody tr th {\n",
       "        vertical-align: top;\n",
       "    }\n",
       "\n",
       "    .dataframe thead th {\n",
       "        text-align: right;\n",
       "    }\n",
       "</style>\n",
       "<table border=\"1\" class=\"dataframe\">\n",
       "  <thead>\n",
       "    <tr style=\"text-align: right;\">\n",
       "      <th></th>\n",
       "      <th>age</th>\n",
       "      <th>donor_id</th>\n",
       "      <th>sex</th>\n",
       "      <th>region</th>\n",
       "      <th>cell_type</th>\n",
       "      <th>disease</th>\n",
       "      <th>consistent_cell_type</th>\n",
       "      <th>study</th>\n",
       "      <th>technology</th>\n",
       "      <th>cell_or_nuclei</th>\n",
       "      <th>barcode</th>\n",
       "      <th>sample_id</th>\n",
       "    </tr>\n",
       "  </thead>\n",
       "  <tbody>\n",
       "    <tr>\n",
       "      <th>P1364:TCCCACACAATAGTGA-1-0</th>\n",
       "      <td>55</td>\n",
       "      <td>P1364</td>\n",
       "      <td>female</td>\n",
       "      <td>LV</td>\n",
       "      <td>Cardiomyocyte I</td>\n",
       "      <td>ICM</td>\n",
       "      <td>Cardiomyocyte</td>\n",
       "      <td>Simonson 2023</td>\n",
       "      <td>3prime-v3</td>\n",
       "      <td>Nuclei</td>\n",
       "      <td>TCCCACACAATAGTGA-1-0</td>\n",
       "      <td>P1364</td>\n",
       "    </tr>\n",
       "    <tr>\n",
       "      <th>P1364:AATGCCACAACTTCTT-1-0</th>\n",
       "      <td>55</td>\n",
       "      <td>P1364</td>\n",
       "      <td>female</td>\n",
       "      <td>LV</td>\n",
       "      <td>Cardiomyocyte I</td>\n",
       "      <td>ICM</td>\n",
       "      <td>Cardiomyocyte</td>\n",
       "      <td>Simonson 2023</td>\n",
       "      <td>3prime-v3</td>\n",
       "      <td>Nuclei</td>\n",
       "      <td>AATGCCACAACTTCTT-1-0</td>\n",
       "      <td>P1364</td>\n",
       "    </tr>\n",
       "    <tr>\n",
       "      <th>P1364:ATTACTCCAATAGTAG-1-0</th>\n",
       "      <td>55</td>\n",
       "      <td>P1364</td>\n",
       "      <td>female</td>\n",
       "      <td>LV</td>\n",
       "      <td>Cardiomyocyte I</td>\n",
       "      <td>ICM</td>\n",
       "      <td>Cardiomyocyte</td>\n",
       "      <td>Simonson 2023</td>\n",
       "      <td>3prime-v3</td>\n",
       "      <td>Nuclei</td>\n",
       "      <td>ATTACTCCAATAGTAG-1-0</td>\n",
       "      <td>P1364</td>\n",
       "    </tr>\n",
       "    <tr>\n",
       "      <th>P1364:ATCGTGACACCTGTCT-1-0</th>\n",
       "      <td>55</td>\n",
       "      <td>P1364</td>\n",
       "      <td>female</td>\n",
       "      <td>LV</td>\n",
       "      <td>Cardiomyocyte I</td>\n",
       "      <td>ICM</td>\n",
       "      <td>Cardiomyocyte</td>\n",
       "      <td>Simonson 2023</td>\n",
       "      <td>3prime-v3</td>\n",
       "      <td>Nuclei</td>\n",
       "      <td>ATCGTGACACCTGTCT-1-0</td>\n",
       "      <td>P1364</td>\n",
       "    </tr>\n",
       "    <tr>\n",
       "      <th>P1364:CAGTTAGCAACCGCTG-1-0</th>\n",
       "      <td>55</td>\n",
       "      <td>P1364</td>\n",
       "      <td>female</td>\n",
       "      <td>LV</td>\n",
       "      <td>Cardiomyocyte I</td>\n",
       "      <td>ICM</td>\n",
       "      <td>Cardiomyocyte</td>\n",
       "      <td>Simonson 2023</td>\n",
       "      <td>3prime-v3</td>\n",
       "      <td>Nuclei</td>\n",
       "      <td>CAGTTAGCAACCGCTG-1-0</td>\n",
       "      <td>P1364</td>\n",
       "    </tr>\n",
       "  </tbody>\n",
       "</table>\n",
       "</div>"
      ],
      "text/plain": [
       "                            age donor_id     sex region         cell_type  \\\n",
       "P1364:TCCCACACAATAGTGA-1-0   55    P1364  female     LV   Cardiomyocyte I   \n",
       "P1364:AATGCCACAACTTCTT-1-0   55    P1364  female     LV   Cardiomyocyte I   \n",
       "P1364:ATTACTCCAATAGTAG-1-0   55    P1364  female     LV   Cardiomyocyte I   \n",
       "P1364:ATCGTGACACCTGTCT-1-0   55    P1364  female     LV   Cardiomyocyte I   \n",
       "P1364:CAGTTAGCAACCGCTG-1-0   55    P1364  female     LV   Cardiomyocyte I   \n",
       "\n",
       "                           disease consistent_cell_type          study  \\\n",
       "P1364:TCCCACACAATAGTGA-1-0     ICM        Cardiomyocyte  Simonson 2023   \n",
       "P1364:AATGCCACAACTTCTT-1-0     ICM        Cardiomyocyte  Simonson 2023   \n",
       "P1364:ATTACTCCAATAGTAG-1-0     ICM        Cardiomyocyte  Simonson 2023   \n",
       "P1364:ATCGTGACACCTGTCT-1-0     ICM        Cardiomyocyte  Simonson 2023   \n",
       "P1364:CAGTTAGCAACCGCTG-1-0     ICM        Cardiomyocyte  Simonson 2023   \n",
       "\n",
       "                           technology cell_or_nuclei               barcode  \\\n",
       "P1364:TCCCACACAATAGTGA-1-0  3prime-v3         Nuclei  TCCCACACAATAGTGA-1-0   \n",
       "P1364:AATGCCACAACTTCTT-1-0  3prime-v3         Nuclei  AATGCCACAACTTCTT-1-0   \n",
       "P1364:ATTACTCCAATAGTAG-1-0  3prime-v3         Nuclei  ATTACTCCAATAGTAG-1-0   \n",
       "P1364:ATCGTGACACCTGTCT-1-0  3prime-v3         Nuclei  ATCGTGACACCTGTCT-1-0   \n",
       "P1364:CAGTTAGCAACCGCTG-1-0  3prime-v3         Nuclei  CAGTTAGCAACCGCTG-1-0   \n",
       "\n",
       "                           sample_id  \n",
       "P1364:TCCCACACAATAGTGA-1-0     P1364  \n",
       "P1364:AATGCCACAACTTCTT-1-0     P1364  \n",
       "P1364:ATTACTCCAATAGTAG-1-0     P1364  \n",
       "P1364:ATCGTGACACCTGTCT-1-0     P1364  \n",
       "P1364:CAGTTAGCAACCGCTG-1-0     P1364  "
      ]
     },
     "execution_count": 21,
     "metadata": {},
     "output_type": "execute_result"
    }
   ],
   "source": [
    "Simonson_adata.obs.head()"
   ]
  },
  {
   "cell_type": "markdown",
   "id": "f182d3df-7165-47a5-8958-59bf7e92ef2d",
   "metadata": {},
   "source": [
    "#### Koenig et al. 2022 "
   ]
  },
  {
   "cell_type": "code",
   "execution_count": 22,
   "id": "e60952c5-4dc1-4459-9596-9586c3373450",
   "metadata": {},
   "outputs": [
    {
     "name": "stdout",
     "output_type": "stream",
     "text": [
      "All raw counts?: True\n",
      "CPU times: user 518 ms, sys: 2.16 s, total: 2.67 s\n",
      "Wall time: 3.6 s\n"
     ]
    }
   ],
   "source": [
    "%%time\n",
    "Koenig_adata = sc.read_h5ad(\"../external_datasets/Koenig_et_al_2022/processed_Koenig_diseased.h5ad\")\n",
    "Koenig_adata.X = Koenig_adata.layers['counts']\n",
    "print(\"All raw counts?: \" + str (confirm_raw_counts(Koenig_adata)) )\n",
    "Koenig_adata.obs = Koenig_adata.obs[metadata_to_keep]"
   ]
  },
  {
   "cell_type": "code",
   "execution_count": 23,
   "id": "a9f2f0e1-eda8-4b26-a39f-64c6cc34df4f",
   "metadata": {},
   "outputs": [
    {
     "data": {
      "text/html": [
       "<div>\n",
       "<style scoped>\n",
       "    .dataframe tbody tr th:only-of-type {\n",
       "        vertical-align: middle;\n",
       "    }\n",
       "\n",
       "    .dataframe tbody tr th {\n",
       "        vertical-align: top;\n",
       "    }\n",
       "\n",
       "    .dataframe thead th {\n",
       "        text-align: right;\n",
       "    }\n",
       "</style>\n",
       "<table border=\"1\" class=\"dataframe\">\n",
       "  <thead>\n",
       "    <tr style=\"text-align: right;\">\n",
       "      <th></th>\n",
       "      <th>age</th>\n",
       "      <th>donor_id</th>\n",
       "      <th>sex</th>\n",
       "      <th>region</th>\n",
       "      <th>cell_type</th>\n",
       "      <th>disease</th>\n",
       "      <th>consistent_cell_type</th>\n",
       "      <th>study</th>\n",
       "      <th>technology</th>\n",
       "      <th>cell_or_nuclei</th>\n",
       "    </tr>\n",
       "    <tr>\n",
       "      <th>index</th>\n",
       "      <th></th>\n",
       "      <th></th>\n",
       "      <th></th>\n",
       "      <th></th>\n",
       "      <th></th>\n",
       "      <th></th>\n",
       "      <th></th>\n",
       "      <th></th>\n",
       "      <th></th>\n",
       "      <th></th>\n",
       "    </tr>\n",
       "  </thead>\n",
       "  <tbody>\n",
       "    <tr>\n",
       "      <th>H_ZC-LVAD_CCTTCGATCCTAAGTG</th>\n",
       "      <td>58</td>\n",
       "      <td>H_ZC-LVAD</td>\n",
       "      <td>male</td>\n",
       "      <td>LV</td>\n",
       "      <td>Endocardium</td>\n",
       "      <td>DCM</td>\n",
       "      <td>Endocardial</td>\n",
       "      <td>Koenig 2022</td>\n",
       "      <td>5prime-v1</td>\n",
       "      <td>Nuclei</td>\n",
       "    </tr>\n",
       "    <tr>\n",
       "      <th>H_ZC-LVAD_CGATCGGAGTTGAGAT</th>\n",
       "      <td>58</td>\n",
       "      <td>H_ZC-LVAD</td>\n",
       "      <td>male</td>\n",
       "      <td>LV</td>\n",
       "      <td>Endocardium</td>\n",
       "      <td>DCM</td>\n",
       "      <td>Endocardial</td>\n",
       "      <td>Koenig 2022</td>\n",
       "      <td>5prime-v1</td>\n",
       "      <td>Nuclei</td>\n",
       "    </tr>\n",
       "    <tr>\n",
       "      <th>H_ZC-LVAD_AACTCAGGTCTGGAGA</th>\n",
       "      <td>58</td>\n",
       "      <td>H_ZC-LVAD</td>\n",
       "      <td>male</td>\n",
       "      <td>LV</td>\n",
       "      <td>Endocardium</td>\n",
       "      <td>DCM</td>\n",
       "      <td>Endocardial</td>\n",
       "      <td>Koenig 2022</td>\n",
       "      <td>5prime-v1</td>\n",
       "      <td>Nuclei</td>\n",
       "    </tr>\n",
       "    <tr>\n",
       "      <th>H_ZC-LVAD_CATCAGACACACGCTG</th>\n",
       "      <td>58</td>\n",
       "      <td>H_ZC-LVAD</td>\n",
       "      <td>male</td>\n",
       "      <td>LV</td>\n",
       "      <td>Endocardium</td>\n",
       "      <td>DCM</td>\n",
       "      <td>Endocardial</td>\n",
       "      <td>Koenig 2022</td>\n",
       "      <td>5prime-v1</td>\n",
       "      <td>Nuclei</td>\n",
       "    </tr>\n",
       "    <tr>\n",
       "      <th>H_ZC-LVAD_CTGAAACCAGTGAGTG</th>\n",
       "      <td>58</td>\n",
       "      <td>H_ZC-LVAD</td>\n",
       "      <td>male</td>\n",
       "      <td>LV</td>\n",
       "      <td>Endocardium</td>\n",
       "      <td>DCM</td>\n",
       "      <td>Endocardial</td>\n",
       "      <td>Koenig 2022</td>\n",
       "      <td>5prime-v1</td>\n",
       "      <td>Nuclei</td>\n",
       "    </tr>\n",
       "  </tbody>\n",
       "</table>\n",
       "</div>"
      ],
      "text/plain": [
       "                            age   donor_id   sex region    cell_type disease  \\\n",
       "index                                                                          \n",
       "H_ZC-LVAD_CCTTCGATCCTAAGTG   58  H_ZC-LVAD  male     LV  Endocardium     DCM   \n",
       "H_ZC-LVAD_CGATCGGAGTTGAGAT   58  H_ZC-LVAD  male     LV  Endocardium     DCM   \n",
       "H_ZC-LVAD_AACTCAGGTCTGGAGA   58  H_ZC-LVAD  male     LV  Endocardium     DCM   \n",
       "H_ZC-LVAD_CATCAGACACACGCTG   58  H_ZC-LVAD  male     LV  Endocardium     DCM   \n",
       "H_ZC-LVAD_CTGAAACCAGTGAGTG   58  H_ZC-LVAD  male     LV  Endocardium     DCM   \n",
       "\n",
       "                           consistent_cell_type        study technology  \\\n",
       "index                                                                     \n",
       "H_ZC-LVAD_CCTTCGATCCTAAGTG          Endocardial  Koenig 2022  5prime-v1   \n",
       "H_ZC-LVAD_CGATCGGAGTTGAGAT          Endocardial  Koenig 2022  5prime-v1   \n",
       "H_ZC-LVAD_AACTCAGGTCTGGAGA          Endocardial  Koenig 2022  5prime-v1   \n",
       "H_ZC-LVAD_CATCAGACACACGCTG          Endocardial  Koenig 2022  5prime-v1   \n",
       "H_ZC-LVAD_CTGAAACCAGTGAGTG          Endocardial  Koenig 2022  5prime-v1   \n",
       "\n",
       "                           cell_or_nuclei  \n",
       "index                                      \n",
       "H_ZC-LVAD_CCTTCGATCCTAAGTG         Nuclei  \n",
       "H_ZC-LVAD_CGATCGGAGTTGAGAT         Nuclei  \n",
       "H_ZC-LVAD_AACTCAGGTCTGGAGA         Nuclei  \n",
       "H_ZC-LVAD_CATCAGACACACGCTG         Nuclei  \n",
       "H_ZC-LVAD_CTGAAACCAGTGAGTG         Nuclei  "
      ]
     },
     "execution_count": 23,
     "metadata": {},
     "output_type": "execute_result"
    }
   ],
   "source": [
    "Koenig_adata.obs.head()"
   ]
  },
  {
   "cell_type": "code",
   "execution_count": 24,
   "id": "3f003809-758b-43df-8964-3164cddfa844",
   "metadata": {},
   "outputs": [],
   "source": [
    "Koenig_adata.obs['barcode'] = Koenig_adata.obs_names.str.split(\"_\").str[-1]"
   ]
  },
  {
   "cell_type": "code",
   "execution_count": 25,
   "id": "4d1a0290-50be-46c2-aa4d-37172c9bfcf1",
   "metadata": {},
   "outputs": [],
   "source": [
    "Koenig_adata.obs_names = Koenig_adata.obs['donor_id'].astype(str) + \":\" + Koenig_adata.obs['barcode'].astype(str)"
   ]
  },
  {
   "cell_type": "code",
   "execution_count": 26,
   "id": "053e3895-8192-49fb-b021-62e127ac9f33",
   "metadata": {},
   "outputs": [],
   "source": [
    "Counter(Koenig_adata.obs_names).most_common(1)[0]\n",
    "Koenig_adata.obs['sample_id'] = Koenig_adata.obs['donor_id']"
   ]
  },
  {
   "cell_type": "code",
   "execution_count": 27,
   "id": "166c1a39-92c3-47d7-b390-3c5820232a7e",
   "metadata": {},
   "outputs": [
    {
     "data": {
      "text/html": [
       "<div>\n",
       "<style scoped>\n",
       "    .dataframe tbody tr th:only-of-type {\n",
       "        vertical-align: middle;\n",
       "    }\n",
       "\n",
       "    .dataframe tbody tr th {\n",
       "        vertical-align: top;\n",
       "    }\n",
       "\n",
       "    .dataframe thead th {\n",
       "        text-align: right;\n",
       "    }\n",
       "</style>\n",
       "<table border=\"1\" class=\"dataframe\">\n",
       "  <thead>\n",
       "    <tr style=\"text-align: right;\">\n",
       "      <th></th>\n",
       "      <th>age</th>\n",
       "      <th>donor_id</th>\n",
       "      <th>sex</th>\n",
       "      <th>region</th>\n",
       "      <th>cell_type</th>\n",
       "      <th>disease</th>\n",
       "      <th>consistent_cell_type</th>\n",
       "      <th>study</th>\n",
       "      <th>technology</th>\n",
       "      <th>cell_or_nuclei</th>\n",
       "      <th>barcode</th>\n",
       "      <th>sample_id</th>\n",
       "    </tr>\n",
       "  </thead>\n",
       "  <tbody>\n",
       "    <tr>\n",
       "      <th>H_ZC-LVAD:CCTTCGATCCTAAGTG</th>\n",
       "      <td>58</td>\n",
       "      <td>H_ZC-LVAD</td>\n",
       "      <td>male</td>\n",
       "      <td>LV</td>\n",
       "      <td>Endocardium</td>\n",
       "      <td>DCM</td>\n",
       "      <td>Endocardial</td>\n",
       "      <td>Koenig 2022</td>\n",
       "      <td>5prime-v1</td>\n",
       "      <td>Nuclei</td>\n",
       "      <td>CCTTCGATCCTAAGTG</td>\n",
       "      <td>H_ZC-LVAD</td>\n",
       "    </tr>\n",
       "    <tr>\n",
       "      <th>H_ZC-LVAD:CGATCGGAGTTGAGAT</th>\n",
       "      <td>58</td>\n",
       "      <td>H_ZC-LVAD</td>\n",
       "      <td>male</td>\n",
       "      <td>LV</td>\n",
       "      <td>Endocardium</td>\n",
       "      <td>DCM</td>\n",
       "      <td>Endocardial</td>\n",
       "      <td>Koenig 2022</td>\n",
       "      <td>5prime-v1</td>\n",
       "      <td>Nuclei</td>\n",
       "      <td>CGATCGGAGTTGAGAT</td>\n",
       "      <td>H_ZC-LVAD</td>\n",
       "    </tr>\n",
       "    <tr>\n",
       "      <th>H_ZC-LVAD:AACTCAGGTCTGGAGA</th>\n",
       "      <td>58</td>\n",
       "      <td>H_ZC-LVAD</td>\n",
       "      <td>male</td>\n",
       "      <td>LV</td>\n",
       "      <td>Endocardium</td>\n",
       "      <td>DCM</td>\n",
       "      <td>Endocardial</td>\n",
       "      <td>Koenig 2022</td>\n",
       "      <td>5prime-v1</td>\n",
       "      <td>Nuclei</td>\n",
       "      <td>AACTCAGGTCTGGAGA</td>\n",
       "      <td>H_ZC-LVAD</td>\n",
       "    </tr>\n",
       "    <tr>\n",
       "      <th>H_ZC-LVAD:CATCAGACACACGCTG</th>\n",
       "      <td>58</td>\n",
       "      <td>H_ZC-LVAD</td>\n",
       "      <td>male</td>\n",
       "      <td>LV</td>\n",
       "      <td>Endocardium</td>\n",
       "      <td>DCM</td>\n",
       "      <td>Endocardial</td>\n",
       "      <td>Koenig 2022</td>\n",
       "      <td>5prime-v1</td>\n",
       "      <td>Nuclei</td>\n",
       "      <td>CATCAGACACACGCTG</td>\n",
       "      <td>H_ZC-LVAD</td>\n",
       "    </tr>\n",
       "    <tr>\n",
       "      <th>H_ZC-LVAD:CTGAAACCAGTGAGTG</th>\n",
       "      <td>58</td>\n",
       "      <td>H_ZC-LVAD</td>\n",
       "      <td>male</td>\n",
       "      <td>LV</td>\n",
       "      <td>Endocardium</td>\n",
       "      <td>DCM</td>\n",
       "      <td>Endocardial</td>\n",
       "      <td>Koenig 2022</td>\n",
       "      <td>5prime-v1</td>\n",
       "      <td>Nuclei</td>\n",
       "      <td>CTGAAACCAGTGAGTG</td>\n",
       "      <td>H_ZC-LVAD</td>\n",
       "    </tr>\n",
       "  </tbody>\n",
       "</table>\n",
       "</div>"
      ],
      "text/plain": [
       "                            age   donor_id   sex region    cell_type disease  \\\n",
       "H_ZC-LVAD:CCTTCGATCCTAAGTG   58  H_ZC-LVAD  male     LV  Endocardium     DCM   \n",
       "H_ZC-LVAD:CGATCGGAGTTGAGAT   58  H_ZC-LVAD  male     LV  Endocardium     DCM   \n",
       "H_ZC-LVAD:AACTCAGGTCTGGAGA   58  H_ZC-LVAD  male     LV  Endocardium     DCM   \n",
       "H_ZC-LVAD:CATCAGACACACGCTG   58  H_ZC-LVAD  male     LV  Endocardium     DCM   \n",
       "H_ZC-LVAD:CTGAAACCAGTGAGTG   58  H_ZC-LVAD  male     LV  Endocardium     DCM   \n",
       "\n",
       "                           consistent_cell_type        study technology  \\\n",
       "H_ZC-LVAD:CCTTCGATCCTAAGTG          Endocardial  Koenig 2022  5prime-v1   \n",
       "H_ZC-LVAD:CGATCGGAGTTGAGAT          Endocardial  Koenig 2022  5prime-v1   \n",
       "H_ZC-LVAD:AACTCAGGTCTGGAGA          Endocardial  Koenig 2022  5prime-v1   \n",
       "H_ZC-LVAD:CATCAGACACACGCTG          Endocardial  Koenig 2022  5prime-v1   \n",
       "H_ZC-LVAD:CTGAAACCAGTGAGTG          Endocardial  Koenig 2022  5prime-v1   \n",
       "\n",
       "                           cell_or_nuclei           barcode  sample_id  \n",
       "H_ZC-LVAD:CCTTCGATCCTAAGTG         Nuclei  CCTTCGATCCTAAGTG  H_ZC-LVAD  \n",
       "H_ZC-LVAD:CGATCGGAGTTGAGAT         Nuclei  CGATCGGAGTTGAGAT  H_ZC-LVAD  \n",
       "H_ZC-LVAD:AACTCAGGTCTGGAGA         Nuclei  AACTCAGGTCTGGAGA  H_ZC-LVAD  \n",
       "H_ZC-LVAD:CATCAGACACACGCTG         Nuclei  CATCAGACACACGCTG  H_ZC-LVAD  \n",
       "H_ZC-LVAD:CTGAAACCAGTGAGTG         Nuclei  CTGAAACCAGTGAGTG  H_ZC-LVAD  "
      ]
     },
     "execution_count": 27,
     "metadata": {},
     "output_type": "execute_result"
    }
   ],
   "source": [
    "Koenig_adata.obs.head()"
   ]
  },
  {
   "cell_type": "markdown",
   "id": "18bb4f57-7588-4bf7-bbc8-4422c1b95b33",
   "metadata": {},
   "source": [
    "#### Kuppe et al. 2022"
   ]
  },
  {
   "cell_type": "code",
   "execution_count": 28,
   "id": "dd961398-b31d-45a2-a5ff-e8c4438cbf71",
   "metadata": {},
   "outputs": [
    {
     "name": "stdout",
     "output_type": "stream",
     "text": [
      "All raw counts?: True\n"
     ]
    }
   ],
   "source": [
    "Kuppe_adata = sc.read_h5ad(\"../external_datasets/Kuppe_et_al_2022/02_processed_Kuppe_D.h5ad\")\n",
    "#Kuppe_adata.obs['disease'] = \"MI\"\n",
    "Kuppe_adata.X = Kuppe_adata.layers['counts']\n",
    "print(\"All raw counts?: \" + str (confirm_raw_counts(Kuppe_adata)) )\n",
    "Kuppe_adata.obs = Kuppe_adata.obs[metadata_to_keep]"
   ]
  },
  {
   "cell_type": "code",
   "execution_count": 29,
   "id": "2ce81152-e59b-4581-9145-48373ed6cb93",
   "metadata": {},
   "outputs": [
    {
     "data": {
      "text/html": [
       "<div>\n",
       "<style scoped>\n",
       "    .dataframe tbody tr th:only-of-type {\n",
       "        vertical-align: middle;\n",
       "    }\n",
       "\n",
       "    .dataframe tbody tr th {\n",
       "        vertical-align: top;\n",
       "    }\n",
       "\n",
       "    .dataframe thead th {\n",
       "        text-align: right;\n",
       "    }\n",
       "</style>\n",
       "<table border=\"1\" class=\"dataframe\">\n",
       "  <thead>\n",
       "    <tr style=\"text-align: right;\">\n",
       "      <th></th>\n",
       "      <th>age</th>\n",
       "      <th>donor_id</th>\n",
       "      <th>sex</th>\n",
       "      <th>region</th>\n",
       "      <th>cell_type</th>\n",
       "      <th>disease</th>\n",
       "      <th>consistent_cell_type</th>\n",
       "      <th>study</th>\n",
       "      <th>technology</th>\n",
       "      <th>cell_or_nuclei</th>\n",
       "    </tr>\n",
       "    <tr>\n",
       "      <th>index</th>\n",
       "      <th></th>\n",
       "      <th></th>\n",
       "      <th></th>\n",
       "      <th></th>\n",
       "      <th></th>\n",
       "      <th></th>\n",
       "      <th></th>\n",
       "      <th></th>\n",
       "      <th></th>\n",
       "      <th></th>\n",
       "    </tr>\n",
       "  </thead>\n",
       "  <tbody>\n",
       "    <tr>\n",
       "      <th>AAACCCAAGGAACGAA-1_1_1_1_1_1_1_1_1_1_1_1_1_1</th>\n",
       "      <td>57</td>\n",
       "      <td>P3</td>\n",
       "      <td>male</td>\n",
       "      <td>LV</td>\n",
       "      <td>Cardiomyocyte</td>\n",
       "      <td>AMI</td>\n",
       "      <td>Cardiomyocyte</td>\n",
       "      <td>Kuppe 2022</td>\n",
       "      <td>3prime-v3</td>\n",
       "      <td>Nuclei</td>\n",
       "    </tr>\n",
       "    <tr>\n",
       "      <th>AAACCCACAAGGGTCA-1_1_1_1_1_1_1_1_1_1_1_1_1_1</th>\n",
       "      <td>57</td>\n",
       "      <td>P3</td>\n",
       "      <td>male</td>\n",
       "      <td>LV</td>\n",
       "      <td>Fibroblast</td>\n",
       "      <td>AMI</td>\n",
       "      <td>Fibroblast</td>\n",
       "      <td>Kuppe 2022</td>\n",
       "      <td>3prime-v3</td>\n",
       "      <td>Nuclei</td>\n",
       "    </tr>\n",
       "    <tr>\n",
       "      <th>AAACCCACAGCTACTA-1_1_1_1_1_1_1_1_1_1_1_1_1_1</th>\n",
       "      <td>57</td>\n",
       "      <td>P3</td>\n",
       "      <td>male</td>\n",
       "      <td>LV</td>\n",
       "      <td>Cardiomyocyte</td>\n",
       "      <td>AMI</td>\n",
       "      <td>Cardiomyocyte</td>\n",
       "      <td>Kuppe 2022</td>\n",
       "      <td>3prime-v3</td>\n",
       "      <td>Nuclei</td>\n",
       "    </tr>\n",
       "    <tr>\n",
       "      <th>AAACCCACATGGAATA-1_1_1_1_1_1_1_1_1_1_1_1_1_1</th>\n",
       "      <td>57</td>\n",
       "      <td>P3</td>\n",
       "      <td>male</td>\n",
       "      <td>LV</td>\n",
       "      <td>Cycling cells</td>\n",
       "      <td>AMI</td>\n",
       "      <td>Myeloid</td>\n",
       "      <td>Kuppe 2022</td>\n",
       "      <td>3prime-v3</td>\n",
       "      <td>Nuclei</td>\n",
       "    </tr>\n",
       "    <tr>\n",
       "      <th>AAACCCAGTGCGACAA-1_1_1_1_1_1_1_1_1_1_1_1_1_1</th>\n",
       "      <td>57</td>\n",
       "      <td>P3</td>\n",
       "      <td>male</td>\n",
       "      <td>LV</td>\n",
       "      <td>Cardiomyocyte</td>\n",
       "      <td>AMI</td>\n",
       "      <td>Cardiomyocyte</td>\n",
       "      <td>Kuppe 2022</td>\n",
       "      <td>3prime-v3</td>\n",
       "      <td>Nuclei</td>\n",
       "    </tr>\n",
       "  </tbody>\n",
       "</table>\n",
       "</div>"
      ],
      "text/plain": [
       "                                              age donor_id   sex region  \\\n",
       "index                                                                     \n",
       "AAACCCAAGGAACGAA-1_1_1_1_1_1_1_1_1_1_1_1_1_1   57       P3  male     LV   \n",
       "AAACCCACAAGGGTCA-1_1_1_1_1_1_1_1_1_1_1_1_1_1   57       P3  male     LV   \n",
       "AAACCCACAGCTACTA-1_1_1_1_1_1_1_1_1_1_1_1_1_1   57       P3  male     LV   \n",
       "AAACCCACATGGAATA-1_1_1_1_1_1_1_1_1_1_1_1_1_1   57       P3  male     LV   \n",
       "AAACCCAGTGCGACAA-1_1_1_1_1_1_1_1_1_1_1_1_1_1   57       P3  male     LV   \n",
       "\n",
       "                                                  cell_type disease  \\\n",
       "index                                                                 \n",
       "AAACCCAAGGAACGAA-1_1_1_1_1_1_1_1_1_1_1_1_1_1  Cardiomyocyte     AMI   \n",
       "AAACCCACAAGGGTCA-1_1_1_1_1_1_1_1_1_1_1_1_1_1     Fibroblast     AMI   \n",
       "AAACCCACAGCTACTA-1_1_1_1_1_1_1_1_1_1_1_1_1_1  Cardiomyocyte     AMI   \n",
       "AAACCCACATGGAATA-1_1_1_1_1_1_1_1_1_1_1_1_1_1  Cycling cells     AMI   \n",
       "AAACCCAGTGCGACAA-1_1_1_1_1_1_1_1_1_1_1_1_1_1  Cardiomyocyte     AMI   \n",
       "\n",
       "                                             consistent_cell_type       study  \\\n",
       "index                                                                           \n",
       "AAACCCAAGGAACGAA-1_1_1_1_1_1_1_1_1_1_1_1_1_1        Cardiomyocyte  Kuppe 2022   \n",
       "AAACCCACAAGGGTCA-1_1_1_1_1_1_1_1_1_1_1_1_1_1           Fibroblast  Kuppe 2022   \n",
       "AAACCCACAGCTACTA-1_1_1_1_1_1_1_1_1_1_1_1_1_1        Cardiomyocyte  Kuppe 2022   \n",
       "AAACCCACATGGAATA-1_1_1_1_1_1_1_1_1_1_1_1_1_1              Myeloid  Kuppe 2022   \n",
       "AAACCCAGTGCGACAA-1_1_1_1_1_1_1_1_1_1_1_1_1_1        Cardiomyocyte  Kuppe 2022   \n",
       "\n",
       "                                             technology cell_or_nuclei  \n",
       "index                                                                   \n",
       "AAACCCAAGGAACGAA-1_1_1_1_1_1_1_1_1_1_1_1_1_1  3prime-v3         Nuclei  \n",
       "AAACCCACAAGGGTCA-1_1_1_1_1_1_1_1_1_1_1_1_1_1  3prime-v3         Nuclei  \n",
       "AAACCCACAGCTACTA-1_1_1_1_1_1_1_1_1_1_1_1_1_1  3prime-v3         Nuclei  \n",
       "AAACCCACATGGAATA-1_1_1_1_1_1_1_1_1_1_1_1_1_1  3prime-v3         Nuclei  \n",
       "AAACCCAGTGCGACAA-1_1_1_1_1_1_1_1_1_1_1_1_1_1  3prime-v3         Nuclei  "
      ]
     },
     "execution_count": 29,
     "metadata": {},
     "output_type": "execute_result"
    }
   ],
   "source": [
    "Kuppe_adata.obs.head()"
   ]
  },
  {
   "cell_type": "code",
   "execution_count": 30,
   "id": "a60d6d8e-06b1-422c-982a-e89e4332fee3",
   "metadata": {},
   "outputs": [],
   "source": [
    "#Kuppe_adata.obs_names = Kuppe_adata.obs_names.str.split(\"-\").str[0]"
   ]
  },
  {
   "cell_type": "code",
   "execution_count": 31,
   "id": "4b0db037-77da-4218-bbca-8822440ef32c",
   "metadata": {},
   "outputs": [],
   "source": [
    "Kuppe_adata.obs_names = Kuppe_adata.obs.donor_id.astype(str) + \":\" + Kuppe_adata.obs_names.astype(str)"
   ]
  },
  {
   "cell_type": "code",
   "execution_count": 32,
   "id": "40dac09c-2ec8-4445-bbfd-4cf180cf4601",
   "metadata": {},
   "outputs": [],
   "source": [
    "Kuppe_adata.obs['barcode'] = Kuppe_adata.obs_names.str.split(\":\").str[-1]"
   ]
  },
  {
   "cell_type": "code",
   "execution_count": 33,
   "id": "832a388f-4e9f-44e7-80b8-7cbc387c4ccb",
   "metadata": {},
   "outputs": [
    {
     "name": "stdout",
     "output_type": "stream",
     "text": [
      "('P3:AAACCCAAGGAACGAA-1_1_1_1_1_1_1_1_1_1_1_1_1_1', 1)\n"
     ]
    }
   ],
   "source": [
    "print(Counter(Kuppe_adata.obs_names).most_common(1)[0])\n",
    "Kuppe_adata.obs['sample_id'] = Kuppe_adata.obs['donor_id']"
   ]
  },
  {
   "cell_type": "code",
   "execution_count": 34,
   "id": "6daba09c-569c-4869-8ed3-2313dc495347",
   "metadata": {},
   "outputs": [
    {
     "data": {
      "text/html": [
       "<div>\n",
       "<style scoped>\n",
       "    .dataframe tbody tr th:only-of-type {\n",
       "        vertical-align: middle;\n",
       "    }\n",
       "\n",
       "    .dataframe tbody tr th {\n",
       "        vertical-align: top;\n",
       "    }\n",
       "\n",
       "    .dataframe thead th {\n",
       "        text-align: right;\n",
       "    }\n",
       "</style>\n",
       "<table border=\"1\" class=\"dataframe\">\n",
       "  <thead>\n",
       "    <tr style=\"text-align: right;\">\n",
       "      <th></th>\n",
       "      <th>age</th>\n",
       "      <th>donor_id</th>\n",
       "      <th>sex</th>\n",
       "      <th>region</th>\n",
       "      <th>cell_type</th>\n",
       "      <th>disease</th>\n",
       "      <th>consistent_cell_type</th>\n",
       "      <th>study</th>\n",
       "      <th>technology</th>\n",
       "      <th>cell_or_nuclei</th>\n",
       "      <th>barcode</th>\n",
       "      <th>sample_id</th>\n",
       "    </tr>\n",
       "  </thead>\n",
       "  <tbody>\n",
       "    <tr>\n",
       "      <th>P3:AAACCCAAGGAACGAA-1_1_1_1_1_1_1_1_1_1_1_1_1_1</th>\n",
       "      <td>57</td>\n",
       "      <td>P3</td>\n",
       "      <td>male</td>\n",
       "      <td>LV</td>\n",
       "      <td>Cardiomyocyte</td>\n",
       "      <td>AMI</td>\n",
       "      <td>Cardiomyocyte</td>\n",
       "      <td>Kuppe 2022</td>\n",
       "      <td>3prime-v3</td>\n",
       "      <td>Nuclei</td>\n",
       "      <td>AAACCCAAGGAACGAA-1_1_1_1_1_1_1_1_1_1_1_1_1_1</td>\n",
       "      <td>P3</td>\n",
       "    </tr>\n",
       "    <tr>\n",
       "      <th>P3:AAACCCACAAGGGTCA-1_1_1_1_1_1_1_1_1_1_1_1_1_1</th>\n",
       "      <td>57</td>\n",
       "      <td>P3</td>\n",
       "      <td>male</td>\n",
       "      <td>LV</td>\n",
       "      <td>Fibroblast</td>\n",
       "      <td>AMI</td>\n",
       "      <td>Fibroblast</td>\n",
       "      <td>Kuppe 2022</td>\n",
       "      <td>3prime-v3</td>\n",
       "      <td>Nuclei</td>\n",
       "      <td>AAACCCACAAGGGTCA-1_1_1_1_1_1_1_1_1_1_1_1_1_1</td>\n",
       "      <td>P3</td>\n",
       "    </tr>\n",
       "    <tr>\n",
       "      <th>P3:AAACCCACAGCTACTA-1_1_1_1_1_1_1_1_1_1_1_1_1_1</th>\n",
       "      <td>57</td>\n",
       "      <td>P3</td>\n",
       "      <td>male</td>\n",
       "      <td>LV</td>\n",
       "      <td>Cardiomyocyte</td>\n",
       "      <td>AMI</td>\n",
       "      <td>Cardiomyocyte</td>\n",
       "      <td>Kuppe 2022</td>\n",
       "      <td>3prime-v3</td>\n",
       "      <td>Nuclei</td>\n",
       "      <td>AAACCCACAGCTACTA-1_1_1_1_1_1_1_1_1_1_1_1_1_1</td>\n",
       "      <td>P3</td>\n",
       "    </tr>\n",
       "    <tr>\n",
       "      <th>P3:AAACCCACATGGAATA-1_1_1_1_1_1_1_1_1_1_1_1_1_1</th>\n",
       "      <td>57</td>\n",
       "      <td>P3</td>\n",
       "      <td>male</td>\n",
       "      <td>LV</td>\n",
       "      <td>Cycling cells</td>\n",
       "      <td>AMI</td>\n",
       "      <td>Myeloid</td>\n",
       "      <td>Kuppe 2022</td>\n",
       "      <td>3prime-v3</td>\n",
       "      <td>Nuclei</td>\n",
       "      <td>AAACCCACATGGAATA-1_1_1_1_1_1_1_1_1_1_1_1_1_1</td>\n",
       "      <td>P3</td>\n",
       "    </tr>\n",
       "    <tr>\n",
       "      <th>P3:AAACCCAGTGCGACAA-1_1_1_1_1_1_1_1_1_1_1_1_1_1</th>\n",
       "      <td>57</td>\n",
       "      <td>P3</td>\n",
       "      <td>male</td>\n",
       "      <td>LV</td>\n",
       "      <td>Cardiomyocyte</td>\n",
       "      <td>AMI</td>\n",
       "      <td>Cardiomyocyte</td>\n",
       "      <td>Kuppe 2022</td>\n",
       "      <td>3prime-v3</td>\n",
       "      <td>Nuclei</td>\n",
       "      <td>AAACCCAGTGCGACAA-1_1_1_1_1_1_1_1_1_1_1_1_1_1</td>\n",
       "      <td>P3</td>\n",
       "    </tr>\n",
       "  </tbody>\n",
       "</table>\n",
       "</div>"
      ],
      "text/plain": [
       "                                                 age donor_id   sex region  \\\n",
       "P3:AAACCCAAGGAACGAA-1_1_1_1_1_1_1_1_1_1_1_1_1_1   57       P3  male     LV   \n",
       "P3:AAACCCACAAGGGTCA-1_1_1_1_1_1_1_1_1_1_1_1_1_1   57       P3  male     LV   \n",
       "P3:AAACCCACAGCTACTA-1_1_1_1_1_1_1_1_1_1_1_1_1_1   57       P3  male     LV   \n",
       "P3:AAACCCACATGGAATA-1_1_1_1_1_1_1_1_1_1_1_1_1_1   57       P3  male     LV   \n",
       "P3:AAACCCAGTGCGACAA-1_1_1_1_1_1_1_1_1_1_1_1_1_1   57       P3  male     LV   \n",
       "\n",
       "                                                     cell_type disease  \\\n",
       "P3:AAACCCAAGGAACGAA-1_1_1_1_1_1_1_1_1_1_1_1_1_1  Cardiomyocyte     AMI   \n",
       "P3:AAACCCACAAGGGTCA-1_1_1_1_1_1_1_1_1_1_1_1_1_1     Fibroblast     AMI   \n",
       "P3:AAACCCACAGCTACTA-1_1_1_1_1_1_1_1_1_1_1_1_1_1  Cardiomyocyte     AMI   \n",
       "P3:AAACCCACATGGAATA-1_1_1_1_1_1_1_1_1_1_1_1_1_1  Cycling cells     AMI   \n",
       "P3:AAACCCAGTGCGACAA-1_1_1_1_1_1_1_1_1_1_1_1_1_1  Cardiomyocyte     AMI   \n",
       "\n",
       "                                                consistent_cell_type  \\\n",
       "P3:AAACCCAAGGAACGAA-1_1_1_1_1_1_1_1_1_1_1_1_1_1        Cardiomyocyte   \n",
       "P3:AAACCCACAAGGGTCA-1_1_1_1_1_1_1_1_1_1_1_1_1_1           Fibroblast   \n",
       "P3:AAACCCACAGCTACTA-1_1_1_1_1_1_1_1_1_1_1_1_1_1        Cardiomyocyte   \n",
       "P3:AAACCCACATGGAATA-1_1_1_1_1_1_1_1_1_1_1_1_1_1              Myeloid   \n",
       "P3:AAACCCAGTGCGACAA-1_1_1_1_1_1_1_1_1_1_1_1_1_1        Cardiomyocyte   \n",
       "\n",
       "                                                      study technology  \\\n",
       "P3:AAACCCAAGGAACGAA-1_1_1_1_1_1_1_1_1_1_1_1_1_1  Kuppe 2022  3prime-v3   \n",
       "P3:AAACCCACAAGGGTCA-1_1_1_1_1_1_1_1_1_1_1_1_1_1  Kuppe 2022  3prime-v3   \n",
       "P3:AAACCCACAGCTACTA-1_1_1_1_1_1_1_1_1_1_1_1_1_1  Kuppe 2022  3prime-v3   \n",
       "P3:AAACCCACATGGAATA-1_1_1_1_1_1_1_1_1_1_1_1_1_1  Kuppe 2022  3prime-v3   \n",
       "P3:AAACCCAGTGCGACAA-1_1_1_1_1_1_1_1_1_1_1_1_1_1  Kuppe 2022  3prime-v3   \n",
       "\n",
       "                                                cell_or_nuclei  \\\n",
       "P3:AAACCCAAGGAACGAA-1_1_1_1_1_1_1_1_1_1_1_1_1_1         Nuclei   \n",
       "P3:AAACCCACAAGGGTCA-1_1_1_1_1_1_1_1_1_1_1_1_1_1         Nuclei   \n",
       "P3:AAACCCACAGCTACTA-1_1_1_1_1_1_1_1_1_1_1_1_1_1         Nuclei   \n",
       "P3:AAACCCACATGGAATA-1_1_1_1_1_1_1_1_1_1_1_1_1_1         Nuclei   \n",
       "P3:AAACCCAGTGCGACAA-1_1_1_1_1_1_1_1_1_1_1_1_1_1         Nuclei   \n",
       "\n",
       "                                                                                      barcode  \\\n",
       "P3:AAACCCAAGGAACGAA-1_1_1_1_1_1_1_1_1_1_1_1_1_1  AAACCCAAGGAACGAA-1_1_1_1_1_1_1_1_1_1_1_1_1_1   \n",
       "P3:AAACCCACAAGGGTCA-1_1_1_1_1_1_1_1_1_1_1_1_1_1  AAACCCACAAGGGTCA-1_1_1_1_1_1_1_1_1_1_1_1_1_1   \n",
       "P3:AAACCCACAGCTACTA-1_1_1_1_1_1_1_1_1_1_1_1_1_1  AAACCCACAGCTACTA-1_1_1_1_1_1_1_1_1_1_1_1_1_1   \n",
       "P3:AAACCCACATGGAATA-1_1_1_1_1_1_1_1_1_1_1_1_1_1  AAACCCACATGGAATA-1_1_1_1_1_1_1_1_1_1_1_1_1_1   \n",
       "P3:AAACCCAGTGCGACAA-1_1_1_1_1_1_1_1_1_1_1_1_1_1  AAACCCAGTGCGACAA-1_1_1_1_1_1_1_1_1_1_1_1_1_1   \n",
       "\n",
       "                                                sample_id  \n",
       "P3:AAACCCAAGGAACGAA-1_1_1_1_1_1_1_1_1_1_1_1_1_1        P3  \n",
       "P3:AAACCCACAAGGGTCA-1_1_1_1_1_1_1_1_1_1_1_1_1_1        P3  \n",
       "P3:AAACCCACAGCTACTA-1_1_1_1_1_1_1_1_1_1_1_1_1_1        P3  \n",
       "P3:AAACCCACATGGAATA-1_1_1_1_1_1_1_1_1_1_1_1_1_1        P3  \n",
       "P3:AAACCCAGTGCGACAA-1_1_1_1_1_1_1_1_1_1_1_1_1_1        P3  "
      ]
     },
     "execution_count": 34,
     "metadata": {},
     "output_type": "execute_result"
    }
   ],
   "source": [
    "Kuppe_adata.obs.head()"
   ]
  },
  {
   "cell_type": "markdown",
   "id": "ec6706df-149c-47c8-bfca-ec0a46fa7d86",
   "metadata": {},
   "source": [
    "#### Reichart et al. 2022 (Seidman Lab)"
   ]
  },
  {
   "cell_type": "code",
   "execution_count": 35,
   "id": "7ec3946c-6470-4416-8ec8-0feefbc8d88d",
   "metadata": {},
   "outputs": [
    {
     "name": "stdout",
     "output_type": "stream",
     "text": [
      "All raw counts?: True\n",
      "CPU times: user 1.88 s, sys: 10.2 s, total: 12.1 s\n",
      "Wall time: 15.2 s\n"
     ]
    }
   ],
   "source": [
    "%%time\n",
    "Reichart_adata = sc.read_h5ad(\"../external_datasets/Reichart_et_al_2022/processed_Reichart_diseased.h5ad\")\n",
    "Reichart_adata.X = Reichart_adata.layers['counts']\n",
    "print(\"All raw counts?: \" + str (confirm_raw_counts(Reichart_adata)) )\n",
    "Reichart_adata.obs = Reichart_adata.obs[metadata_to_keep]"
   ]
  },
  {
   "cell_type": "code",
   "execution_count": 36,
   "id": "ef6a58a1-dcc9-4afa-bfab-d36d9f21a807",
   "metadata": {},
   "outputs": [
    {
     "data": {
      "text/html": [
       "<div>\n",
       "<style scoped>\n",
       "    .dataframe tbody tr th:only-of-type {\n",
       "        vertical-align: middle;\n",
       "    }\n",
       "\n",
       "    .dataframe tbody tr th {\n",
       "        vertical-align: top;\n",
       "    }\n",
       "\n",
       "    .dataframe thead th {\n",
       "        text-align: right;\n",
       "    }\n",
       "</style>\n",
       "<table border=\"1\" class=\"dataframe\">\n",
       "  <thead>\n",
       "    <tr style=\"text-align: right;\">\n",
       "      <th></th>\n",
       "      <th>age</th>\n",
       "      <th>donor_id</th>\n",
       "      <th>sex</th>\n",
       "      <th>region</th>\n",
       "      <th>cell_type</th>\n",
       "      <th>disease</th>\n",
       "      <th>consistent_cell_type</th>\n",
       "      <th>study</th>\n",
       "      <th>technology</th>\n",
       "      <th>cell_or_nuclei</th>\n",
       "    </tr>\n",
       "  </thead>\n",
       "  <tbody>\n",
       "    <tr>\n",
       "      <th>7466</th>\n",
       "      <td>74.5</td>\n",
       "      <td>ReichartDT4</td>\n",
       "      <td>male</td>\n",
       "      <td>LV</td>\n",
       "      <td>cardiac muscle cell</td>\n",
       "      <td>dilated cardiomyopathy</td>\n",
       "      <td>Cardiomyocyte</td>\n",
       "      <td>Reichart 2022</td>\n",
       "      <td>3prime-v3</td>\n",
       "      <td>Nuclei</td>\n",
       "    </tr>\n",
       "    <tr>\n",
       "      <th>7467</th>\n",
       "      <td>74.5</td>\n",
       "      <td>ReichartDT4</td>\n",
       "      <td>male</td>\n",
       "      <td>LV</td>\n",
       "      <td>cardiac muscle cell</td>\n",
       "      <td>dilated cardiomyopathy</td>\n",
       "      <td>Cardiomyocyte</td>\n",
       "      <td>Reichart 2022</td>\n",
       "      <td>3prime-v3</td>\n",
       "      <td>Nuclei</td>\n",
       "    </tr>\n",
       "    <tr>\n",
       "      <th>7468</th>\n",
       "      <td>74.5</td>\n",
       "      <td>ReichartDT4</td>\n",
       "      <td>male</td>\n",
       "      <td>LV</td>\n",
       "      <td>endothelial cell</td>\n",
       "      <td>dilated cardiomyopathy</td>\n",
       "      <td>Endothelial</td>\n",
       "      <td>Reichart 2022</td>\n",
       "      <td>3prime-v3</td>\n",
       "      <td>Nuclei</td>\n",
       "    </tr>\n",
       "    <tr>\n",
       "      <th>7470</th>\n",
       "      <td>74.5</td>\n",
       "      <td>ReichartDT4</td>\n",
       "      <td>male</td>\n",
       "      <td>LV</td>\n",
       "      <td>endothelial cell</td>\n",
       "      <td>dilated cardiomyopathy</td>\n",
       "      <td>Endothelial</td>\n",
       "      <td>Reichart 2022</td>\n",
       "      <td>3prime-v3</td>\n",
       "      <td>Nuclei</td>\n",
       "    </tr>\n",
       "    <tr>\n",
       "      <th>7471</th>\n",
       "      <td>74.5</td>\n",
       "      <td>ReichartDT4</td>\n",
       "      <td>male</td>\n",
       "      <td>LV</td>\n",
       "      <td>endothelial cell</td>\n",
       "      <td>dilated cardiomyopathy</td>\n",
       "      <td>Endothelial</td>\n",
       "      <td>Reichart 2022</td>\n",
       "      <td>3prime-v3</td>\n",
       "      <td>Nuclei</td>\n",
       "    </tr>\n",
       "  </tbody>\n",
       "</table>\n",
       "</div>"
      ],
      "text/plain": [
       "       age     donor_id   sex region            cell_type  \\\n",
       "7466  74.5  ReichartDT4  male     LV  cardiac muscle cell   \n",
       "7467  74.5  ReichartDT4  male     LV  cardiac muscle cell   \n",
       "7468  74.5  ReichartDT4  male     LV     endothelial cell   \n",
       "7470  74.5  ReichartDT4  male     LV     endothelial cell   \n",
       "7471  74.5  ReichartDT4  male     LV     endothelial cell   \n",
       "\n",
       "                     disease consistent_cell_type          study technology  \\\n",
       "7466  dilated cardiomyopathy        Cardiomyocyte  Reichart 2022  3prime-v3   \n",
       "7467  dilated cardiomyopathy        Cardiomyocyte  Reichart 2022  3prime-v3   \n",
       "7468  dilated cardiomyopathy          Endothelial  Reichart 2022  3prime-v3   \n",
       "7470  dilated cardiomyopathy          Endothelial  Reichart 2022  3prime-v3   \n",
       "7471  dilated cardiomyopathy          Endothelial  Reichart 2022  3prime-v3   \n",
       "\n",
       "     cell_or_nuclei  \n",
       "7466         Nuclei  \n",
       "7467         Nuclei  \n",
       "7468         Nuclei  \n",
       "7470         Nuclei  \n",
       "7471         Nuclei  "
      ]
     },
     "execution_count": 36,
     "metadata": {},
     "output_type": "execute_result"
    }
   ],
   "source": [
    "Reichart_adata.obs.head()"
   ]
  },
  {
   "cell_type": "code",
   "execution_count": 37,
   "id": "eaf0951e-221f-4990-b8e4-14c461f35511",
   "metadata": {},
   "outputs": [],
   "source": [
    "# not actually a barcode, seems that they dropped this information\n",
    "Reichart_adata.obs['barcode'] = Reichart_adata.obs_names\n",
    "Reichart_adata.obs_names = Reichart_adata.obs.donor_id.astype(str) + \":\" + Reichart_adata.obs_names.astype(str)"
   ]
  },
  {
   "cell_type": "code",
   "execution_count": 38,
   "id": "5072482e-f287-413e-a550-2121909b1fbd",
   "metadata": {},
   "outputs": [
    {
     "name": "stdout",
     "output_type": "stream",
     "text": [
      "('ReichartDT4:7466', 1)\n"
     ]
    }
   ],
   "source": [
    "print(Counter(Reichart_adata.obs_names).most_common(1)[0])\n",
    "Reichart_adata.obs['sample_id'] = Reichart_adata.obs['donor_id']"
   ]
  },
  {
   "cell_type": "code",
   "execution_count": 39,
   "id": "96a130f7-6618-4827-968f-7fb32e2a0aa6",
   "metadata": {},
   "outputs": [
    {
     "data": {
      "text/html": [
       "<div>\n",
       "<style scoped>\n",
       "    .dataframe tbody tr th:only-of-type {\n",
       "        vertical-align: middle;\n",
       "    }\n",
       "\n",
       "    .dataframe tbody tr th {\n",
       "        vertical-align: top;\n",
       "    }\n",
       "\n",
       "    .dataframe thead th {\n",
       "        text-align: right;\n",
       "    }\n",
       "</style>\n",
       "<table border=\"1\" class=\"dataframe\">\n",
       "  <thead>\n",
       "    <tr style=\"text-align: right;\">\n",
       "      <th></th>\n",
       "      <th>age</th>\n",
       "      <th>donor_id</th>\n",
       "      <th>sex</th>\n",
       "      <th>region</th>\n",
       "      <th>cell_type</th>\n",
       "      <th>disease</th>\n",
       "      <th>consistent_cell_type</th>\n",
       "      <th>study</th>\n",
       "      <th>technology</th>\n",
       "      <th>cell_or_nuclei</th>\n",
       "      <th>barcode</th>\n",
       "      <th>sample_id</th>\n",
       "    </tr>\n",
       "  </thead>\n",
       "  <tbody>\n",
       "    <tr>\n",
       "      <th>ReichartDT4:7466</th>\n",
       "      <td>74.5</td>\n",
       "      <td>ReichartDT4</td>\n",
       "      <td>male</td>\n",
       "      <td>LV</td>\n",
       "      <td>cardiac muscle cell</td>\n",
       "      <td>dilated cardiomyopathy</td>\n",
       "      <td>Cardiomyocyte</td>\n",
       "      <td>Reichart 2022</td>\n",
       "      <td>3prime-v3</td>\n",
       "      <td>Nuclei</td>\n",
       "      <td>7466</td>\n",
       "      <td>ReichartDT4</td>\n",
       "    </tr>\n",
       "    <tr>\n",
       "      <th>ReichartDT4:7467</th>\n",
       "      <td>74.5</td>\n",
       "      <td>ReichartDT4</td>\n",
       "      <td>male</td>\n",
       "      <td>LV</td>\n",
       "      <td>cardiac muscle cell</td>\n",
       "      <td>dilated cardiomyopathy</td>\n",
       "      <td>Cardiomyocyte</td>\n",
       "      <td>Reichart 2022</td>\n",
       "      <td>3prime-v3</td>\n",
       "      <td>Nuclei</td>\n",
       "      <td>7467</td>\n",
       "      <td>ReichartDT4</td>\n",
       "    </tr>\n",
       "    <tr>\n",
       "      <th>ReichartDT4:7468</th>\n",
       "      <td>74.5</td>\n",
       "      <td>ReichartDT4</td>\n",
       "      <td>male</td>\n",
       "      <td>LV</td>\n",
       "      <td>endothelial cell</td>\n",
       "      <td>dilated cardiomyopathy</td>\n",
       "      <td>Endothelial</td>\n",
       "      <td>Reichart 2022</td>\n",
       "      <td>3prime-v3</td>\n",
       "      <td>Nuclei</td>\n",
       "      <td>7468</td>\n",
       "      <td>ReichartDT4</td>\n",
       "    </tr>\n",
       "    <tr>\n",
       "      <th>ReichartDT4:7470</th>\n",
       "      <td>74.5</td>\n",
       "      <td>ReichartDT4</td>\n",
       "      <td>male</td>\n",
       "      <td>LV</td>\n",
       "      <td>endothelial cell</td>\n",
       "      <td>dilated cardiomyopathy</td>\n",
       "      <td>Endothelial</td>\n",
       "      <td>Reichart 2022</td>\n",
       "      <td>3prime-v3</td>\n",
       "      <td>Nuclei</td>\n",
       "      <td>7470</td>\n",
       "      <td>ReichartDT4</td>\n",
       "    </tr>\n",
       "    <tr>\n",
       "      <th>ReichartDT4:7471</th>\n",
       "      <td>74.5</td>\n",
       "      <td>ReichartDT4</td>\n",
       "      <td>male</td>\n",
       "      <td>LV</td>\n",
       "      <td>endothelial cell</td>\n",
       "      <td>dilated cardiomyopathy</td>\n",
       "      <td>Endothelial</td>\n",
       "      <td>Reichart 2022</td>\n",
       "      <td>3prime-v3</td>\n",
       "      <td>Nuclei</td>\n",
       "      <td>7471</td>\n",
       "      <td>ReichartDT4</td>\n",
       "    </tr>\n",
       "  </tbody>\n",
       "</table>\n",
       "</div>"
      ],
      "text/plain": [
       "                   age     donor_id   sex region            cell_type  \\\n",
       "ReichartDT4:7466  74.5  ReichartDT4  male     LV  cardiac muscle cell   \n",
       "ReichartDT4:7467  74.5  ReichartDT4  male     LV  cardiac muscle cell   \n",
       "ReichartDT4:7468  74.5  ReichartDT4  male     LV     endothelial cell   \n",
       "ReichartDT4:7470  74.5  ReichartDT4  male     LV     endothelial cell   \n",
       "ReichartDT4:7471  74.5  ReichartDT4  male     LV     endothelial cell   \n",
       "\n",
       "                                 disease consistent_cell_type          study  \\\n",
       "ReichartDT4:7466  dilated cardiomyopathy        Cardiomyocyte  Reichart 2022   \n",
       "ReichartDT4:7467  dilated cardiomyopathy        Cardiomyocyte  Reichart 2022   \n",
       "ReichartDT4:7468  dilated cardiomyopathy          Endothelial  Reichart 2022   \n",
       "ReichartDT4:7470  dilated cardiomyopathy          Endothelial  Reichart 2022   \n",
       "ReichartDT4:7471  dilated cardiomyopathy          Endothelial  Reichart 2022   \n",
       "\n",
       "                 technology cell_or_nuclei barcode    sample_id  \n",
       "ReichartDT4:7466  3prime-v3         Nuclei    7466  ReichartDT4  \n",
       "ReichartDT4:7467  3prime-v3         Nuclei    7467  ReichartDT4  \n",
       "ReichartDT4:7468  3prime-v3         Nuclei    7468  ReichartDT4  \n",
       "ReichartDT4:7470  3prime-v3         Nuclei    7470  ReichartDT4  \n",
       "ReichartDT4:7471  3prime-v3         Nuclei    7471  ReichartDT4  "
      ]
     },
     "execution_count": 39,
     "metadata": {},
     "output_type": "execute_result"
    }
   ],
   "source": [
    "Reichart_adata.obs.head()"
   ]
  },
  {
   "cell_type": "markdown",
   "id": "c0cd99ad-2828-40fa-827a-864d5ca17f86",
   "metadata": {},
   "source": [
    "#### Hill et al. 2022 "
   ]
  },
  {
   "cell_type": "code",
   "execution_count": 40,
   "id": "0d3fe127-caba-4844-80c0-990d2f4295bf",
   "metadata": {},
   "outputs": [
    {
     "name": "stdout",
     "output_type": "stream",
     "text": [
      "All raw counts?: True\n",
      "CPU times: user 850 ms, sys: 4.22 s, total: 5.07 s\n",
      "Wall time: 6.2 s\n"
     ]
    }
   ],
   "source": [
    "%%time\n",
    "# read in the entire dataset\n",
    "Hill_adata = sc.read_h5ad(\"../external_datasets/Hill_et_al_2022/02_processed_Hill_D.h5ad\")\n",
    "Hill_adata.X = Hill_adata.layers['counts']\n",
    "Hill_adata.obs['disease'] = \"pediatric HF\"\n",
    "print(\"All raw counts?: \" + str (confirm_raw_counts(Hill_adata)) )\n",
    "Hill_adata.obs = Hill_adata.obs[metadata_to_keep]"
   ]
  },
  {
   "cell_type": "code",
   "execution_count": 41,
   "id": "f800ca04-d02a-4d84-abc9-a42d9b7d0756",
   "metadata": {},
   "outputs": [
    {
     "data": {
      "text/html": [
       "<div>\n",
       "<style scoped>\n",
       "    .dataframe tbody tr th:only-of-type {\n",
       "        vertical-align: middle;\n",
       "    }\n",
       "\n",
       "    .dataframe tbody tr th {\n",
       "        vertical-align: top;\n",
       "    }\n",
       "\n",
       "    .dataframe thead th {\n",
       "        text-align: right;\n",
       "    }\n",
       "</style>\n",
       "<table border=\"1\" class=\"dataframe\">\n",
       "  <thead>\n",
       "    <tr style=\"text-align: right;\">\n",
       "      <th></th>\n",
       "      <th>age</th>\n",
       "      <th>donor_id</th>\n",
       "      <th>sex</th>\n",
       "      <th>region</th>\n",
       "      <th>cell_type</th>\n",
       "      <th>disease</th>\n",
       "      <th>consistent_cell_type</th>\n",
       "      <th>study</th>\n",
       "      <th>technology</th>\n",
       "      <th>cell_or_nuclei</th>\n",
       "    </tr>\n",
       "    <tr>\n",
       "      <th>NAME</th>\n",
       "      <th></th>\n",
       "      <th></th>\n",
       "      <th></th>\n",
       "      <th></th>\n",
       "      <th></th>\n",
       "      <th></th>\n",
       "      <th></th>\n",
       "      <th></th>\n",
       "      <th></th>\n",
       "      <th></th>\n",
       "    </tr>\n",
       "  </thead>\n",
       "  <tbody>\n",
       "    <tr>\n",
       "      <th>P8_1_AAGCCATGTCGGCTAC-1</th>\n",
       "      <td>0</td>\n",
       "      <td>P8</td>\n",
       "      <td>male</td>\n",
       "      <td>LV</td>\n",
       "      <td>CM</td>\n",
       "      <td>pediatric HF</td>\n",
       "      <td>Cardiomyocyte</td>\n",
       "      <td>Hill 2022</td>\n",
       "      <td>3prime-v3</td>\n",
       "      <td>Nuclei</td>\n",
       "    </tr>\n",
       "    <tr>\n",
       "      <th>P40_2_GTTGTGAAGCGCCATC-1</th>\n",
       "      <td>4</td>\n",
       "      <td>P40</td>\n",
       "      <td>male</td>\n",
       "      <td>LV</td>\n",
       "      <td>CM</td>\n",
       "      <td>pediatric HF</td>\n",
       "      <td>Cardiomyocyte</td>\n",
       "      <td>Hill 2022</td>\n",
       "      <td>3prime-v3</td>\n",
       "      <td>Nuclei</td>\n",
       "    </tr>\n",
       "    <tr>\n",
       "      <th>P26_1_AGTGCCGAGATAACGT-1</th>\n",
       "      <td>0</td>\n",
       "      <td>P26</td>\n",
       "      <td>male</td>\n",
       "      <td>LV</td>\n",
       "      <td>CM</td>\n",
       "      <td>pediatric HF</td>\n",
       "      <td>Cardiomyocyte</td>\n",
       "      <td>Hill 2022</td>\n",
       "      <td>3prime-v3</td>\n",
       "      <td>Nuclei</td>\n",
       "    </tr>\n",
       "    <tr>\n",
       "      <th>P26_1_TCGCACTCATATCGGT-1</th>\n",
       "      <td>0</td>\n",
       "      <td>P26</td>\n",
       "      <td>male</td>\n",
       "      <td>LV</td>\n",
       "      <td>CM</td>\n",
       "      <td>pediatric HF</td>\n",
       "      <td>Cardiomyocyte</td>\n",
       "      <td>Hill 2022</td>\n",
       "      <td>3prime-v3</td>\n",
       "      <td>Nuclei</td>\n",
       "    </tr>\n",
       "    <tr>\n",
       "      <th>P8_2_CTAGACATCCCATACC-1</th>\n",
       "      <td>0</td>\n",
       "      <td>P8</td>\n",
       "      <td>male</td>\n",
       "      <td>LV</td>\n",
       "      <td>CM</td>\n",
       "      <td>pediatric HF</td>\n",
       "      <td>Cardiomyocyte</td>\n",
       "      <td>Hill 2022</td>\n",
       "      <td>3prime-v3</td>\n",
       "      <td>Nuclei</td>\n",
       "    </tr>\n",
       "  </tbody>\n",
       "</table>\n",
       "</div>"
      ],
      "text/plain": [
       "                          age donor_id   sex region cell_type       disease  \\\n",
       "NAME                                                                          \n",
       "P8_1_AAGCCATGTCGGCTAC-1     0       P8  male     LV        CM  pediatric HF   \n",
       "P40_2_GTTGTGAAGCGCCATC-1    4      P40  male     LV        CM  pediatric HF   \n",
       "P26_1_AGTGCCGAGATAACGT-1    0      P26  male     LV        CM  pediatric HF   \n",
       "P26_1_TCGCACTCATATCGGT-1    0      P26  male     LV        CM  pediatric HF   \n",
       "P8_2_CTAGACATCCCATACC-1     0       P8  male     LV        CM  pediatric HF   \n",
       "\n",
       "                         consistent_cell_type      study technology  \\\n",
       "NAME                                                                  \n",
       "P8_1_AAGCCATGTCGGCTAC-1         Cardiomyocyte  Hill 2022  3prime-v3   \n",
       "P40_2_GTTGTGAAGCGCCATC-1        Cardiomyocyte  Hill 2022  3prime-v3   \n",
       "P26_1_AGTGCCGAGATAACGT-1        Cardiomyocyte  Hill 2022  3prime-v3   \n",
       "P26_1_TCGCACTCATATCGGT-1        Cardiomyocyte  Hill 2022  3prime-v3   \n",
       "P8_2_CTAGACATCCCATACC-1         Cardiomyocyte  Hill 2022  3prime-v3   \n",
       "\n",
       "                         cell_or_nuclei  \n",
       "NAME                                     \n",
       "P8_1_AAGCCATGTCGGCTAC-1          Nuclei  \n",
       "P40_2_GTTGTGAAGCGCCATC-1         Nuclei  \n",
       "P26_1_AGTGCCGAGATAACGT-1         Nuclei  \n",
       "P26_1_TCGCACTCATATCGGT-1         Nuclei  \n",
       "P8_2_CTAGACATCCCATACC-1          Nuclei  "
      ]
     },
     "execution_count": 41,
     "metadata": {},
     "output_type": "execute_result"
    }
   ],
   "source": [
    "Hill_adata.obs.head()"
   ]
  },
  {
   "cell_type": "code",
   "execution_count": 42,
   "id": "7aa36a97-6940-4db5-81cc-959c6f252c42",
   "metadata": {},
   "outputs": [
    {
     "name": "stdout",
     "output_type": "stream",
     "text": [
      "('P8_1_AAGCCATGTCGGCTAC-1', 1)\n"
     ]
    }
   ],
   "source": [
    "Hill_adata.obs['sample_id'] = Hill_adata.obs['donor_id']\n",
    "Hill_adata.obs['barcode'] = Hill_adata.obs_names.str.split(\"_\").str[-1]\n",
    "print(Counter(Hill_adata.obs_names).most_common(1)[0])"
   ]
  },
  {
   "cell_type": "code",
   "execution_count": 43,
   "id": "a1cd35c3-955c-414e-a550-e6409ae9cd33",
   "metadata": {},
   "outputs": [
    {
     "data": {
      "text/html": [
       "<div>\n",
       "<style scoped>\n",
       "    .dataframe tbody tr th:only-of-type {\n",
       "        vertical-align: middle;\n",
       "    }\n",
       "\n",
       "    .dataframe tbody tr th {\n",
       "        vertical-align: top;\n",
       "    }\n",
       "\n",
       "    .dataframe thead th {\n",
       "        text-align: right;\n",
       "    }\n",
       "</style>\n",
       "<table border=\"1\" class=\"dataframe\">\n",
       "  <thead>\n",
       "    <tr style=\"text-align: right;\">\n",
       "      <th></th>\n",
       "      <th>age</th>\n",
       "      <th>donor_id</th>\n",
       "      <th>sex</th>\n",
       "      <th>region</th>\n",
       "      <th>cell_type</th>\n",
       "      <th>disease</th>\n",
       "      <th>consistent_cell_type</th>\n",
       "      <th>study</th>\n",
       "      <th>technology</th>\n",
       "      <th>cell_or_nuclei</th>\n",
       "      <th>sample_id</th>\n",
       "      <th>barcode</th>\n",
       "    </tr>\n",
       "    <tr>\n",
       "      <th>NAME</th>\n",
       "      <th></th>\n",
       "      <th></th>\n",
       "      <th></th>\n",
       "      <th></th>\n",
       "      <th></th>\n",
       "      <th></th>\n",
       "      <th></th>\n",
       "      <th></th>\n",
       "      <th></th>\n",
       "      <th></th>\n",
       "      <th></th>\n",
       "      <th></th>\n",
       "    </tr>\n",
       "  </thead>\n",
       "  <tbody>\n",
       "    <tr>\n",
       "      <th>P8_1_AAGCCATGTCGGCTAC-1</th>\n",
       "      <td>0</td>\n",
       "      <td>P8</td>\n",
       "      <td>male</td>\n",
       "      <td>LV</td>\n",
       "      <td>CM</td>\n",
       "      <td>pediatric HF</td>\n",
       "      <td>Cardiomyocyte</td>\n",
       "      <td>Hill 2022</td>\n",
       "      <td>3prime-v3</td>\n",
       "      <td>Nuclei</td>\n",
       "      <td>P8</td>\n",
       "      <td>AAGCCATGTCGGCTAC-1</td>\n",
       "    </tr>\n",
       "    <tr>\n",
       "      <th>P40_2_GTTGTGAAGCGCCATC-1</th>\n",
       "      <td>4</td>\n",
       "      <td>P40</td>\n",
       "      <td>male</td>\n",
       "      <td>LV</td>\n",
       "      <td>CM</td>\n",
       "      <td>pediatric HF</td>\n",
       "      <td>Cardiomyocyte</td>\n",
       "      <td>Hill 2022</td>\n",
       "      <td>3prime-v3</td>\n",
       "      <td>Nuclei</td>\n",
       "      <td>P40</td>\n",
       "      <td>GTTGTGAAGCGCCATC-1</td>\n",
       "    </tr>\n",
       "    <tr>\n",
       "      <th>P26_1_AGTGCCGAGATAACGT-1</th>\n",
       "      <td>0</td>\n",
       "      <td>P26</td>\n",
       "      <td>male</td>\n",
       "      <td>LV</td>\n",
       "      <td>CM</td>\n",
       "      <td>pediatric HF</td>\n",
       "      <td>Cardiomyocyte</td>\n",
       "      <td>Hill 2022</td>\n",
       "      <td>3prime-v3</td>\n",
       "      <td>Nuclei</td>\n",
       "      <td>P26</td>\n",
       "      <td>AGTGCCGAGATAACGT-1</td>\n",
       "    </tr>\n",
       "    <tr>\n",
       "      <th>P26_1_TCGCACTCATATCGGT-1</th>\n",
       "      <td>0</td>\n",
       "      <td>P26</td>\n",
       "      <td>male</td>\n",
       "      <td>LV</td>\n",
       "      <td>CM</td>\n",
       "      <td>pediatric HF</td>\n",
       "      <td>Cardiomyocyte</td>\n",
       "      <td>Hill 2022</td>\n",
       "      <td>3prime-v3</td>\n",
       "      <td>Nuclei</td>\n",
       "      <td>P26</td>\n",
       "      <td>TCGCACTCATATCGGT-1</td>\n",
       "    </tr>\n",
       "    <tr>\n",
       "      <th>P8_2_CTAGACATCCCATACC-1</th>\n",
       "      <td>0</td>\n",
       "      <td>P8</td>\n",
       "      <td>male</td>\n",
       "      <td>LV</td>\n",
       "      <td>CM</td>\n",
       "      <td>pediatric HF</td>\n",
       "      <td>Cardiomyocyte</td>\n",
       "      <td>Hill 2022</td>\n",
       "      <td>3prime-v3</td>\n",
       "      <td>Nuclei</td>\n",
       "      <td>P8</td>\n",
       "      <td>CTAGACATCCCATACC-1</td>\n",
       "    </tr>\n",
       "  </tbody>\n",
       "</table>\n",
       "</div>"
      ],
      "text/plain": [
       "                          age donor_id   sex region cell_type       disease  \\\n",
       "NAME                                                                          \n",
       "P8_1_AAGCCATGTCGGCTAC-1     0       P8  male     LV        CM  pediatric HF   \n",
       "P40_2_GTTGTGAAGCGCCATC-1    4      P40  male     LV        CM  pediatric HF   \n",
       "P26_1_AGTGCCGAGATAACGT-1    0      P26  male     LV        CM  pediatric HF   \n",
       "P26_1_TCGCACTCATATCGGT-1    0      P26  male     LV        CM  pediatric HF   \n",
       "P8_2_CTAGACATCCCATACC-1     0       P8  male     LV        CM  pediatric HF   \n",
       "\n",
       "                         consistent_cell_type      study technology  \\\n",
       "NAME                                                                  \n",
       "P8_1_AAGCCATGTCGGCTAC-1         Cardiomyocyte  Hill 2022  3prime-v3   \n",
       "P40_2_GTTGTGAAGCGCCATC-1        Cardiomyocyte  Hill 2022  3prime-v3   \n",
       "P26_1_AGTGCCGAGATAACGT-1        Cardiomyocyte  Hill 2022  3prime-v3   \n",
       "P26_1_TCGCACTCATATCGGT-1        Cardiomyocyte  Hill 2022  3prime-v3   \n",
       "P8_2_CTAGACATCCCATACC-1         Cardiomyocyte  Hill 2022  3prime-v3   \n",
       "\n",
       "                         cell_or_nuclei sample_id             barcode  \n",
       "NAME                                                                   \n",
       "P8_1_AAGCCATGTCGGCTAC-1          Nuclei        P8  AAGCCATGTCGGCTAC-1  \n",
       "P40_2_GTTGTGAAGCGCCATC-1         Nuclei       P40  GTTGTGAAGCGCCATC-1  \n",
       "P26_1_AGTGCCGAGATAACGT-1         Nuclei       P26  AGTGCCGAGATAACGT-1  \n",
       "P26_1_TCGCACTCATATCGGT-1         Nuclei       P26  TCGCACTCATATCGGT-1  \n",
       "P8_2_CTAGACATCCCATACC-1          Nuclei        P8  CTAGACATCCCATACC-1  "
      ]
     },
     "execution_count": 43,
     "metadata": {},
     "output_type": "execute_result"
    }
   ],
   "source": [
    "Hill_adata.obs.head()"
   ]
  },
  {
   "cell_type": "code",
   "execution_count": 44,
   "id": "dc24348d-c3b0-4733-86a2-47a1e7d1c07f",
   "metadata": {},
   "outputs": [],
   "source": [
    "# run this so that adata won't complain\n",
    "def convert_indices_to_string(adata):\n",
    "    adata.obs.index = adata.obs.index.astype(str)\n",
    "    adata.var.index = adata.var.index.astype(str)\n",
    "    return adata"
   ]
  },
  {
   "cell_type": "code",
   "execution_count": 45,
   "id": "af2854fb-c434-4d7f-891b-5a821be5c70a",
   "metadata": {},
   "outputs": [],
   "source": [
    "# Convert indices for all adata\n",
    "Penn_adata = convert_indices_to_string(Penn_adata)\n",
    "Chaffin_adata = convert_indices_to_string(Chaffin_adata)\n",
    "Simonson_adata = convert_indices_to_string(Simonson_adata)\n",
    "Koenig_adata = convert_indices_to_string(Koenig_adata)\n",
    "Kuppe_adata = convert_indices_to_string(Kuppe_adata)\n",
    "Reichart_adata = convert_indices_to_string(Reichart_adata)\n",
    "Hill_adata = convert_indices_to_string(Hill_adata)"
   ]
  },
  {
   "cell_type": "markdown",
   "id": "c42ead03-5e02-4aa7-a511-5e312785978f",
   "metadata": {},
   "source": [
    "The inner join for features (genes), rather than outer join is more appropriate as many of the datasets removed mitochondrial transcripts entirely from their analysis."
   ]
  },
  {
   "cell_type": "code",
   "execution_count": 46,
   "id": "753e3b3c-799a-4485-892a-34e333e16703",
   "metadata": {},
   "outputs": [
    {
     "data": {
      "text/plain": [
       "AnnData object with n_obs × n_vars = 1165503 × 16512\n",
       "    obs: 'age', 'donor_id', 'sex', 'region', 'cell_type', 'disease', 'consistent_cell_type', 'study', 'technology', 'cell_or_nuclei', 'sample_id', 'barcode'\n",
       "    obsm: 'X_pca', 'X_pca_harmony', 'X_umap'\n",
       "    layers: 'counts'"
      ]
     },
     "execution_count": 46,
     "metadata": {},
     "output_type": "execute_result"
    }
   ],
   "source": [
    "# merge the adata together\n",
    "all_adata = ad.concat([Penn_adata,\n",
    "                       Chaffin_adata,\n",
    "                       Simonson_adata,\n",
    "                       Koenig_adata, \n",
    "                       Kuppe_adata, \n",
    "                       Reichart_adata,\n",
    "                       Hill_adata])\n",
    "all_adata"
   ]
  },
  {
   "cell_type": "code",
   "execution_count": 47,
   "id": "6f5cab06-a12a-4a2d-a71b-a53fb8ae3938",
   "metadata": {},
   "outputs": [
    {
     "data": {
      "text/html": [
       "<div>\n",
       "<style scoped>\n",
       "    .dataframe tbody tr th:only-of-type {\n",
       "        vertical-align: middle;\n",
       "    }\n",
       "\n",
       "    .dataframe tbody tr th {\n",
       "        vertical-align: top;\n",
       "    }\n",
       "\n",
       "    .dataframe thead th {\n",
       "        text-align: right;\n",
       "    }\n",
       "</style>\n",
       "<table border=\"1\" class=\"dataframe\">\n",
       "  <thead>\n",
       "    <tr style=\"text-align: right;\">\n",
       "      <th></th>\n",
       "      <th>age</th>\n",
       "      <th>donor_id</th>\n",
       "      <th>sex</th>\n",
       "      <th>region</th>\n",
       "      <th>cell_type</th>\n",
       "      <th>disease</th>\n",
       "      <th>consistent_cell_type</th>\n",
       "      <th>study</th>\n",
       "      <th>technology</th>\n",
       "      <th>cell_or_nuclei</th>\n",
       "      <th>sample_id</th>\n",
       "      <th>barcode</th>\n",
       "    </tr>\n",
       "  </thead>\n",
       "  <tbody>\n",
       "    <tr>\n",
       "      <th>K1617-LV-FACS:AAAAACCACGAT</th>\n",
       "      <td>64.0</td>\n",
       "      <td>K1617</td>\n",
       "      <td>male</td>\n",
       "      <td>LV</td>\n",
       "      <td>Endothelial</td>\n",
       "      <td>DCM</td>\n",
       "      <td>Endothelial</td>\n",
       "      <td>Penn</td>\n",
       "      <td>Dropseq</td>\n",
       "      <td>Nuclei</td>\n",
       "      <td>K1617-LV-FACS</td>\n",
       "      <td>AAAAACCACGAT</td>\n",
       "    </tr>\n",
       "    <tr>\n",
       "      <th>K1617-LV-FACS:AAAAATGTTCAA</th>\n",
       "      <td>64.0</td>\n",
       "      <td>K1617</td>\n",
       "      <td>male</td>\n",
       "      <td>LV</td>\n",
       "      <td>Endothelial</td>\n",
       "      <td>DCM</td>\n",
       "      <td>Endothelial</td>\n",
       "      <td>Penn</td>\n",
       "      <td>Dropseq</td>\n",
       "      <td>Nuclei</td>\n",
       "      <td>K1617-LV-FACS</td>\n",
       "      <td>AAAAATGTTCAA</td>\n",
       "    </tr>\n",
       "    <tr>\n",
       "      <th>K1617-LV-FACS:AAAACAGCCCAC</th>\n",
       "      <td>64.0</td>\n",
       "      <td>K1617</td>\n",
       "      <td>male</td>\n",
       "      <td>LV</td>\n",
       "      <td>Cardiomyocyte</td>\n",
       "      <td>DCM</td>\n",
       "      <td>Cardiomyocyte</td>\n",
       "      <td>Penn</td>\n",
       "      <td>Dropseq</td>\n",
       "      <td>Nuclei</td>\n",
       "      <td>K1617-LV-FACS</td>\n",
       "      <td>AAAACAGCCCAC</td>\n",
       "    </tr>\n",
       "    <tr>\n",
       "      <th>K1617-LV-FACS:AAAACCTCCATT</th>\n",
       "      <td>64.0</td>\n",
       "      <td>K1617</td>\n",
       "      <td>male</td>\n",
       "      <td>LV</td>\n",
       "      <td>Pericyte</td>\n",
       "      <td>DCM</td>\n",
       "      <td>Pericyte</td>\n",
       "      <td>Penn</td>\n",
       "      <td>Dropseq</td>\n",
       "      <td>Nuclei</td>\n",
       "      <td>K1617-LV-FACS</td>\n",
       "      <td>AAAACCTCCATT</td>\n",
       "    </tr>\n",
       "    <tr>\n",
       "      <th>K1617-LV-FACS:AAAAGCAGGTTG</th>\n",
       "      <td>64.0</td>\n",
       "      <td>K1617</td>\n",
       "      <td>male</td>\n",
       "      <td>LV</td>\n",
       "      <td>Fibroblast</td>\n",
       "      <td>DCM</td>\n",
       "      <td>Fibroblast</td>\n",
       "      <td>Penn</td>\n",
       "      <td>Dropseq</td>\n",
       "      <td>Nuclei</td>\n",
       "      <td>K1617-LV-FACS</td>\n",
       "      <td>AAAAGCAGGTTG</td>\n",
       "    </tr>\n",
       "  </tbody>\n",
       "</table>\n",
       "</div>"
      ],
      "text/plain": [
       "                             age donor_id   sex region      cell_type disease  \\\n",
       "K1617-LV-FACS:AAAAACCACGAT  64.0    K1617  male     LV    Endothelial     DCM   \n",
       "K1617-LV-FACS:AAAAATGTTCAA  64.0    K1617  male     LV    Endothelial     DCM   \n",
       "K1617-LV-FACS:AAAACAGCCCAC  64.0    K1617  male     LV  Cardiomyocyte     DCM   \n",
       "K1617-LV-FACS:AAAACCTCCATT  64.0    K1617  male     LV       Pericyte     DCM   \n",
       "K1617-LV-FACS:AAAAGCAGGTTG  64.0    K1617  male     LV     Fibroblast     DCM   \n",
       "\n",
       "                           consistent_cell_type study technology  \\\n",
       "K1617-LV-FACS:AAAAACCACGAT          Endothelial  Penn    Dropseq   \n",
       "K1617-LV-FACS:AAAAATGTTCAA          Endothelial  Penn    Dropseq   \n",
       "K1617-LV-FACS:AAAACAGCCCAC        Cardiomyocyte  Penn    Dropseq   \n",
       "K1617-LV-FACS:AAAACCTCCATT             Pericyte  Penn    Dropseq   \n",
       "K1617-LV-FACS:AAAAGCAGGTTG           Fibroblast  Penn    Dropseq   \n",
       "\n",
       "                           cell_or_nuclei      sample_id       barcode  \n",
       "K1617-LV-FACS:AAAAACCACGAT         Nuclei  K1617-LV-FACS  AAAAACCACGAT  \n",
       "K1617-LV-FACS:AAAAATGTTCAA         Nuclei  K1617-LV-FACS  AAAAATGTTCAA  \n",
       "K1617-LV-FACS:AAAACAGCCCAC         Nuclei  K1617-LV-FACS  AAAACAGCCCAC  \n",
       "K1617-LV-FACS:AAAACCTCCATT         Nuclei  K1617-LV-FACS  AAAACCTCCATT  \n",
       "K1617-LV-FACS:AAAAGCAGGTTG         Nuclei  K1617-LV-FACS  AAAAGCAGGTTG  "
      ]
     },
     "execution_count": 47,
     "metadata": {},
     "output_type": "execute_result"
    }
   ],
   "source": [
    "all_adata.obs.head()"
   ]
  },
  {
   "cell_type": "code",
   "execution_count": 48,
   "id": "e07b3986-efed-4b78-8e4f-5c0509080b2c",
   "metadata": {},
   "outputs": [
    {
     "data": {
      "text/plain": [
       "('K1617-LV-FACS:AAAAACCACGAT', 1)"
      ]
     },
     "execution_count": 48,
     "metadata": {},
     "output_type": "execute_result"
    }
   ],
   "source": [
    "Counter(all_adata.obs_names).most_common()[0]"
   ]
  },
  {
   "cell_type": "markdown",
   "id": "4a7346af-5237-463f-a215-c377e023530d",
   "metadata": {},
   "source": [
    "### Visualize information about the datasets\n",
    "\n",
    "This is also a way to check that the metadata is consistent"
   ]
  },
  {
   "cell_type": "markdown",
   "id": "0f407e9d-fb1d-422c-bb00-097bc994faa4",
   "metadata": {},
   "source": [
    "#### Age representation across all datasets"
   ]
  },
  {
   "cell_type": "code",
   "execution_count": 49,
   "id": "1af83803-a38d-4854-8e94-6ce83a329d07",
   "metadata": {},
   "outputs": [
    {
     "data": {
      "text/html": [
       "<div>\n",
       "<style scoped>\n",
       "    .dataframe tbody tr th:only-of-type {\n",
       "        vertical-align: middle;\n",
       "    }\n",
       "\n",
       "    .dataframe tbody tr th {\n",
       "        vertical-align: top;\n",
       "    }\n",
       "\n",
       "    .dataframe thead th {\n",
       "        text-align: right;\n",
       "    }\n",
       "</style>\n",
       "<table border=\"1\" class=\"dataframe\">\n",
       "  <thead>\n",
       "    <tr style=\"text-align: right;\">\n",
       "      <th></th>\n",
       "      <th>sex</th>\n",
       "      <th>donor_id</th>\n",
       "      <th>age</th>\n",
       "      <th>study</th>\n",
       "      <th>technology</th>\n",
       "    </tr>\n",
       "  </thead>\n",
       "  <tbody>\n",
       "    <tr>\n",
       "      <th>0</th>\n",
       "      <td>male</td>\n",
       "      <td>K1617</td>\n",
       "      <td>64.0</td>\n",
       "      <td>Penn</td>\n",
       "      <td>Dropseq</td>\n",
       "    </tr>\n",
       "    <tr>\n",
       "      <th>1</th>\n",
       "      <td>male</td>\n",
       "      <td>K1430</td>\n",
       "      <td>62.0</td>\n",
       "      <td>Penn</td>\n",
       "      <td>Dropseq</td>\n",
       "    </tr>\n",
       "    <tr>\n",
       "      <th>2</th>\n",
       "      <td>male</td>\n",
       "      <td>P1422</td>\n",
       "      <td>54.0</td>\n",
       "      <td>Chaffin 2022</td>\n",
       "      <td>3prime-v3</td>\n",
       "    </tr>\n",
       "    <tr>\n",
       "      <th>3</th>\n",
       "      <td>male</td>\n",
       "      <td>P1722</td>\n",
       "      <td>51.0</td>\n",
       "      <td>Chaffin 2022</td>\n",
       "      <td>3prime-v3</td>\n",
       "    </tr>\n",
       "    <tr>\n",
       "      <th>4</th>\n",
       "      <td>male</td>\n",
       "      <td>P1462</td>\n",
       "      <td>51.0</td>\n",
       "      <td>Chaffin 2022</td>\n",
       "      <td>3prime-v3</td>\n",
       "    </tr>\n",
       "    <tr>\n",
       "      <th>...</th>\n",
       "      <td>...</td>\n",
       "      <td>...</td>\n",
       "      <td>...</td>\n",
       "      <td>...</td>\n",
       "      <td>...</td>\n",
       "    </tr>\n",
       "    <tr>\n",
       "      <th>127</th>\n",
       "      <td>male</td>\n",
       "      <td>P36</td>\n",
       "      <td>17.0</td>\n",
       "      <td>Hill 2022</td>\n",
       "      <td>3prime-v3</td>\n",
       "    </tr>\n",
       "    <tr>\n",
       "      <th>128</th>\n",
       "      <td>male</td>\n",
       "      <td>P75</td>\n",
       "      <td>16.0</td>\n",
       "      <td>Hill 2022</td>\n",
       "      <td>3prime-v3</td>\n",
       "    </tr>\n",
       "    <tr>\n",
       "      <th>129</th>\n",
       "      <td>female</td>\n",
       "      <td>P86</td>\n",
       "      <td>11.0</td>\n",
       "      <td>Hill 2022</td>\n",
       "      <td>3prime-v3</td>\n",
       "    </tr>\n",
       "    <tr>\n",
       "      <th>130</th>\n",
       "      <td>female</td>\n",
       "      <td>P28</td>\n",
       "      <td>0.0</td>\n",
       "      <td>Hill 2022</td>\n",
       "      <td>3prime-v3</td>\n",
       "    </tr>\n",
       "    <tr>\n",
       "      <th>131</th>\n",
       "      <td>male</td>\n",
       "      <td>P64</td>\n",
       "      <td>3.0</td>\n",
       "      <td>Hill 2022</td>\n",
       "      <td>3prime-v3</td>\n",
       "    </tr>\n",
       "  </tbody>\n",
       "</table>\n",
       "<p>132 rows × 5 columns</p>\n",
       "</div>"
      ],
      "text/plain": [
       "        sex donor_id   age         study technology\n",
       "0      male    K1617  64.0          Penn    Dropseq\n",
       "1      male    K1430  62.0          Penn    Dropseq\n",
       "2      male    P1422  54.0  Chaffin 2022  3prime-v3\n",
       "3      male    P1722  51.0  Chaffin 2022  3prime-v3\n",
       "4      male    P1462  51.0  Chaffin 2022  3prime-v3\n",
       "..      ...      ...   ...           ...        ...\n",
       "127    male      P36  17.0     Hill 2022  3prime-v3\n",
       "128    male      P75  16.0     Hill 2022  3prime-v3\n",
       "129  female      P86  11.0     Hill 2022  3prime-v3\n",
       "130  female      P28   0.0     Hill 2022  3prime-v3\n",
       "131    male      P64   3.0     Hill 2022  3prime-v3\n",
       "\n",
       "[132 rows x 5 columns]"
      ]
     },
     "execution_count": 49,
     "metadata": {},
     "output_type": "execute_result"
    }
   ],
   "source": [
    "donor_information = ( all_adata.obs.reset_index(drop = True)[[\"sex\", \"donor_id\", \"age\", \"study\", \"technology\"]]\n",
    "                     .drop_duplicates()\n",
    "                     .reset_index(drop = True) )\n",
    "donor_information"
   ]
  },
  {
   "cell_type": "code",
   "execution_count": 50,
   "id": "433b64a9-1300-4dd8-b672-34e77b221fed",
   "metadata": {},
   "outputs": [
    {
     "data": {
      "image/png": "[encoded data removed]",
      "text/plain": [
       "<Figure size 640x480 with 1 Axes>"
      ]
     },
     "metadata": {},
     "output_type": "display_data"
    }
   ],
   "source": [
    "plt.hist(donor_information['age'], bins = 30)\n",
    "plt.xlabel(\"age\")\n",
    "plt.ylabel(\"count\")\n",
    "plt.show()"
   ]
  },
  {
   "cell_type": "code",
   "execution_count": 51,
   "id": "b0fb539d-1db8-4e9e-879e-abae09593d5a",
   "metadata": {},
   "outputs": [],
   "source": [
    "donor_information['study'] = pd.Categorical(donor_information['study'])\n",
    "donor_information['technology'] = pd.Categorical(donor_information['technology'])\n",
    "donor_information['sex'] = pd.Categorical(donor_information['sex'])"
   ]
  },
  {
   "cell_type": "code",
   "execution_count": 52,
   "id": "eeffa197-7688-40fa-ade8-8d34000a5fb9",
   "metadata": {},
   "outputs": [
    {
     "name": "stderr",
     "output_type": "stream",
     "text": [
      "/home/william/anaconda3/envs/r-kernel/lib/python3.12/site-packages/seaborn/categorical.py:3399: UserWarning: 27.9% of the points cannot be placed; you may want to decrease the size of the markers or use stripplot.\n",
      "  warnings.warn(msg, UserWarning)\n"
     ]
    },
    {
     "data": {
      "text/plain": [
       "<matplotlib.legend.Legend at 0x7fe95aebc0b0>"
      ]
     },
     "execution_count": 52,
     "metadata": {},
     "output_type": "execute_result"
    },
    {
     "name": "stderr",
     "output_type": "stream",
     "text": [
      "/home/william/anaconda3/envs/r-kernel/lib/python3.12/site-packages/seaborn/categorical.py:3399: UserWarning: 41.0% of the points cannot be placed; you may want to decrease the size of the markers or use stripplot.\n",
      "  warnings.warn(msg, UserWarning)\n"
     ]
    },
    {
     "data": {
      "image/png": "[encoded data removed]",
      "text/plain": [
       "<Figure size 640x480 with 1 Axes>"
      ]
     },
     "metadata": {},
     "output_type": "display_data"
    }
   ],
   "source": [
    "sns.swarmplot(data = donor_information, x='age', y='study', \n",
    "              hue = 'sex', alpha=1)\n",
    "\n",
    "plt.legend(bbox_to_anchor=(1.05, 1), loc='upper left')"
   ]
  },
  {
   "cell_type": "markdown",
   "id": "65696a52-c8d8-4645-bd68-f5bb15692f9b",
   "metadata": {},
   "source": [
    "#### Perform some initial preprocessing steps"
   ]
  },
  {
   "cell_type": "code",
   "execution_count": 53,
   "id": "e5fa8167-bdb5-43f4-ad63-1332a79a7b08",
   "metadata": {},
   "outputs": [
    {
     "data": {
      "text/plain": [
       "AnnData object with n_obs × n_vars = 1165503 × 16512\n",
       "    obs: 'age', 'donor_id', 'sex', 'region', 'cell_type', 'disease', 'consistent_cell_type', 'study', 'technology', 'cell_or_nuclei', 'sample_id', 'barcode'\n",
       "    obsm: 'X_pca', 'X_pca_harmony', 'X_umap'\n",
       "    layers: 'counts'"
      ]
     },
     "execution_count": 53,
     "metadata": {},
     "output_type": "execute_result"
    }
   ],
   "source": [
    "all_adata"
   ]
  },
  {
   "cell_type": "markdown",
   "id": "6c68315d-d5f5-476c-9e95-44df697d133b",
   "metadata": {},
   "source": [
    "### Examine sex-specific expression\n",
    "Based on the analysis of some sex-specific genes"
   ]
  },
  {
   "cell_type": "code",
   "execution_count": 54,
   "id": "2c600711-7f84-41d6-b40d-1bfce076bb86",
   "metadata": {},
   "outputs": [],
   "source": [
    "metadata_at_donor_level = all_adata.obs.reset_index(drop = True)[[\"age\", \"sex\", \"donor_id\"]].drop_duplicates()\n",
    "\n",
    "# pseudobulk\n",
    "pseudobulked_adata = sc.get.aggregate(all_adata, by=[\"donor_id\"], func=\"sum\")\n",
    "pseudobulked_adata.X = pseudobulked_adata.layers['sum']"
   ]
  },
  {
   "cell_type": "code",
   "execution_count": 55,
   "id": "8b287948-28c4-4bbd-9d1b-f613af71771d",
   "metadata": {},
   "outputs": [],
   "source": [
    "# These are genes that have strong sex-specific expression\n",
    "female_sex_specific_genes = ['TSIX', 'XIST']\n",
    "male_sex_specific_genes = ['DDX3Y', 'EIF1AY', 'KDM5D', 'LINC00278', 'RPS4Y1',\n",
    "                             'TMSB4Y', 'TTTY10', 'TTTY14', 'USP9Y', 'UTY', 'ZFY', 'ZFY-AS1']\n",
    "combined_sex_specific_genes = female_sex_specific_genes + male_sex_specific_genes"
   ]
  },
  {
   "cell_type": "code",
   "execution_count": 56,
   "id": "be958c94-9854-41a2-96c7-c9578d07b509",
   "metadata": {},
   "outputs": [],
   "source": [
    "pseudobulked_adata.X = pseudobulked_adata.layers['sum']"
   ]
  },
  {
   "cell_type": "code",
   "execution_count": 57,
   "id": "4faeec84-93e3-4c15-9563-6a977ad1cc0d",
   "metadata": {},
   "outputs": [
    {
     "name": "stderr",
     "output_type": "stream",
     "text": [
      "/home/william/anaconda3/envs/r-kernel/lib/python3.12/site-packages/anndata/_core/anndata.py:618: FutureWarning: You are attempting to set `X` to a matrix on a view which has non-unique indices. The resulting `adata.X` will likely not equal the value to which you set it. To avoid this potential issue, please make a copy of the data first. In the future, this operation will throw an error.\n",
      "  warnings.warn(msg, FutureWarning, stacklevel=1)\n"
     ]
    }
   ],
   "source": [
    "sex_specific_pseudobulked_adata = pseudobulked_adata[:, pseudobulked_adata.var.index.isin(combined_sex_specific_genes)]\n",
    "sex_specific_pseudobulked_adata.X = sex_specific_pseudobulked_adata.layers['sum']"
   ]
  },
  {
   "cell_type": "code",
   "execution_count": 58,
   "id": "d1371f5e-f710-4938-afe6-84c5ed7d112e",
   "metadata": {},
   "outputs": [
    {
     "name": "stdout",
     "output_type": "stream",
     "text": [
      "CPU times: user 17.2 ms, sys: 6.03 ms, total: 23.3 ms\n",
      "Wall time: 27.7 ms\n"
     ]
    },
    {
     "name": "stderr",
     "output_type": "stream",
     "text": [
      "/home/william/anaconda3/envs/r-kernel/lib/python3.12/site-packages/scanpy/preprocessing/_normalization.py:207: UserWarning: Received a view of an AnnData. Making a copy.\n",
      "  view_to_actual(adata)\n"
     ]
    }
   ],
   "source": [
    "%%time\n",
    "sc.pp.normalize_total(sex_specific_pseudobulked_adata)\n",
    "sc.pp.log1p(sex_specific_pseudobulked_adata)\n",
    "sc.pp.scale(sex_specific_pseudobulked_adata)\n",
    "sc.pp.highly_variable_genes(sex_specific_pseudobulked_adata, n_top_genes=100)\n",
    "sc.tl.pca(sex_specific_pseudobulked_adata)"
   ]
  },
  {
   "cell_type": "code",
   "execution_count": 59,
   "id": "f97ebafe-8981-40ec-ad0d-6663265212e1",
   "metadata": {},
   "outputs": [],
   "source": [
    "# add more metadata to the pseudobulked metadata\n",
    "sex_specific_pseudobulked_adata.obs = sex_specific_pseudobulked_adata.obs.merge(metadata_at_donor_level, on = \"donor_id\", how = \"inner\")"
   ]
  },
  {
   "cell_type": "markdown",
   "id": "024c7ec9-ac3c-40bd-9452-02338796dc67",
   "metadata": {},
   "source": [
    "#### Visualize PCA clusters in easier to edit format"
   ]
  },
  {
   "cell_type": "code",
   "execution_count": 60,
   "id": "6c68569d-dcc8-46e1-8781-ce250eceb629",
   "metadata": {},
   "outputs": [],
   "source": [
    "pseudobulked_metadata = sex_specific_pseudobulked_adata.obs"
   ]
  },
  {
   "cell_type": "code",
   "execution_count": 61,
   "id": "6502245a-59ef-4cf3-9253-bd0f20ca210d",
   "metadata": {},
   "outputs": [],
   "source": [
    "pseudobulked_metadata['PC1'] = sex_specific_pseudobulked_adata.obsm['X_pca'][:, 0]\n",
    "pseudobulked_metadata['PC2'] = sex_specific_pseudobulked_adata.obsm['X_pca'][:, 1]"
   ]
  },
  {
   "cell_type": "code",
   "execution_count": 62,
   "id": "6bbb9121-ecb6-418a-9de4-dad8903ed627",
   "metadata": {},
   "outputs": [
    {
     "data": {
      "text/plain": [
       "<matplotlib.legend.Legend at 0x7fe9a24fe6f0>"
      ]
     },
     "execution_count": 62,
     "metadata": {},
     "output_type": "execute_result"
    },
    {
     "data": {
      "image/png": "[encoded data removed]",
      "text/plain": [
       "<Figure size 640x480 with 1 Axes>"
      ]
     },
     "metadata": {},
     "output_type": "display_data"
    }
   ],
   "source": [
    "sns.scatterplot(data = pseudobulked_metadata,\n",
    "                x = \"PC1\", y = \"PC2\", hue = \"sex\")\n",
    "plt.legend(title='sex', bbox_to_anchor=(1.05, 1), loc='upper left')"
   ]
  },
  {
   "cell_type": "code",
   "execution_count": 63,
   "id": "176aedf1-aa1c-40af-92b9-f9aebe461468",
   "metadata": {},
   "outputs": [
    {
     "data": {
      "text/html": [
       "<div>\n",
       "<style scoped>\n",
       "    .dataframe tbody tr th:only-of-type {\n",
       "        vertical-align: middle;\n",
       "    }\n",
       "\n",
       "    .dataframe tbody tr th {\n",
       "        vertical-align: top;\n",
       "    }\n",
       "\n",
       "    .dataframe thead th {\n",
       "        text-align: right;\n",
       "    }\n",
       "</style>\n",
       "<table border=\"1\" class=\"dataframe\">\n",
       "  <thead>\n",
       "    <tr style=\"text-align: right;\">\n",
       "      <th></th>\n",
       "      <th>donor_id</th>\n",
       "      <th>age</th>\n",
       "      <th>sex</th>\n",
       "      <th>PC1</th>\n",
       "      <th>PC2</th>\n",
       "    </tr>\n",
       "  </thead>\n",
       "  <tbody>\n",
       "  </tbody>\n",
       "</table>\n",
       "</div>"
      ],
      "text/plain": [
       "Empty DataFrame\n",
       "Columns: [donor_id, age, sex, PC1, PC2]\n",
       "Index: []"
      ]
     },
     "execution_count": 63,
     "metadata": {},
     "output_type": "execute_result"
    }
   ],
   "source": [
    "pseudobulked_metadata[(pseudobulked_metadata['PC1'] > 0) & (pseudobulked_metadata['sex'] == \"male\")]"
   ]
  },
  {
   "cell_type": "code",
   "execution_count": 64,
   "id": "4654273a-bde5-4c34-aaae-e4fd5f962337",
   "metadata": {},
   "outputs": [
    {
     "data": {
      "text/html": [
       "<div>\n",
       "<style scoped>\n",
       "    .dataframe tbody tr th:only-of-type {\n",
       "        vertical-align: middle;\n",
       "    }\n",
       "\n",
       "    .dataframe tbody tr th {\n",
       "        vertical-align: top;\n",
       "    }\n",
       "\n",
       "    .dataframe thead th {\n",
       "        text-align: right;\n",
       "    }\n",
       "</style>\n",
       "<table border=\"1\" class=\"dataframe\">\n",
       "  <thead>\n",
       "    <tr style=\"text-align: right;\">\n",
       "      <th></th>\n",
       "      <th>donor_id</th>\n",
       "      <th>age</th>\n",
       "      <th>sex</th>\n",
       "      <th>PC1</th>\n",
       "      <th>PC2</th>\n",
       "    </tr>\n",
       "  </thead>\n",
       "  <tbody>\n",
       "  </tbody>\n",
       "</table>\n",
       "</div>"
      ],
      "text/plain": [
       "Empty DataFrame\n",
       "Columns: [donor_id, age, sex, PC1, PC2]\n",
       "Index: []"
      ]
     },
     "execution_count": 64,
     "metadata": {},
     "output_type": "execute_result"
    }
   ],
   "source": [
    "pseudobulked_metadata[(pseudobulked_metadata['PC1'] < 0) & (pseudobulked_metadata['sex'] == \"female\")]"
   ]
  },
  {
   "cell_type": "markdown",
   "id": "4efffd40-4c49-4721-af66-72f7e02fdf93",
   "metadata": {},
   "source": [
    "There seem to be no donors that are misannotated by sex"
   ]
  },
  {
   "cell_type": "markdown",
   "id": "d9108cb8-4869-4ba0-8b29-f6d246028d6a",
   "metadata": {},
   "source": [
    "#### Save the combined adata"
   ]
  },
  {
   "cell_type": "code",
   "execution_count": 65,
   "id": "78bd147c-b605-434c-967a-b9336b40f22c",
   "metadata": {},
   "outputs": [],
   "source": [
    "all_adata.obs['age'] = all_adata.obs['age'].astype('float')\n",
    "all_adata.var_names = all_adata.var_names.astype(str)"
   ]
  },
  {
   "cell_type": "markdown",
   "id": "5df7f242-babf-4dda-9d2f-311a91b72791",
   "metadata": {},
   "source": [
    "Add tech plus study as batch effect"
   ]
  },
  {
   "cell_type": "code",
   "execution_count": 66,
   "id": "3fab2347-26a7-46ce-92a9-5874984441a9",
   "metadata": {},
   "outputs": [],
   "source": [
    "all_adata.obs['tech_plus_study'] = all_adata.obs['technology'].astype(str) + \"_\" + all_adata.obs['study'].astype(str)"
   ]
  },
  {
   "cell_type": "code",
   "execution_count": 67,
   "id": "8fb30583-818f-48c6-8dcf-b21f0ab06619",
   "metadata": {},
   "outputs": [
    {
     "data": {
      "text/plain": [
       "{'3prime-v3_Chaffin 2022',\n",
       " '3prime-v3_Hill 2022',\n",
       " '3prime-v3_Kuppe 2022',\n",
       " '3prime-v3_Reichart 2022',\n",
       " '3prime-v3_Simonson 2023',\n",
       " '5prime-v1_Koenig 2022',\n",
       " 'Dropseq_Penn'}"
      ]
     },
     "execution_count": 67,
     "metadata": {},
     "output_type": "execute_result"
    }
   ],
   "source": [
    "set(all_adata.obs.tech_plus_study)"
   ]
  },
  {
   "cell_type": "code",
   "execution_count": 68,
   "id": "60ea04f6-110d-4526-a9e4-8d78bf279337",
   "metadata": {},
   "outputs": [
    {
     "data": {
      "text/plain": [
       "{'Adipocyte',\n",
       " 'Cardiomyocyte',\n",
       " 'Endocardial',\n",
       " 'Endothelial',\n",
       " 'Epicardial',\n",
       " 'Fibroblast',\n",
       " 'LEC',\n",
       " 'Lymphoid',\n",
       " 'Mast',\n",
       " 'Myeloid',\n",
       " 'Neuronal',\n",
       " 'Pericyte',\n",
       " 'Unclear',\n",
       " 'vSMC'}"
      ]
     },
     "execution_count": 68,
     "metadata": {},
     "output_type": "execute_result"
    }
   ],
   "source": [
    "set(all_adata.obs.consistent_cell_type)"
   ]
  },
  {
   "cell_type": "code",
   "execution_count": 69,
   "id": "e2a6488d-8417-4cb7-880a-fd46f27d7901",
   "metadata": {},
   "outputs": [
    {
     "data": {
      "text/plain": [
       "{'female', 'male'}"
      ]
     },
     "execution_count": 69,
     "metadata": {},
     "output_type": "execute_result"
    }
   ],
   "source": [
    "set(all_adata.obs.sex)"
   ]
  },
  {
   "cell_type": "code",
   "execution_count": 70,
   "id": "27e3325e-63ad-4bb5-9a1c-0df73849a716",
   "metadata": {},
   "outputs": [
    {
     "data": {
      "text/plain": [
       "{'3prime-v3', '5prime-v1', 'Dropseq'}"
      ]
     },
     "execution_count": 70,
     "metadata": {},
     "output_type": "execute_result"
    }
   ],
   "source": [
    "set(all_adata.obs.technology)"
   ]
  },
  {
   "cell_type": "code",
   "execution_count": 71,
   "id": "8539b423-5c65-4a5e-a57b-98f58d4682f0",
   "metadata": {},
   "outputs": [
    {
     "data": {
      "text/plain": [
       "{'AMI',\n",
       " 'DCM',\n",
       " 'HCM',\n",
       " 'ICM',\n",
       " 'arrhythmogenic right ventricular cardiomyopathy',\n",
       " 'dilated cardiomyopathy',\n",
       " 'non-compaction cardiomyopathy',\n",
       " 'pediatric HF'}"
      ]
     },
     "execution_count": 71,
     "metadata": {},
     "output_type": "execute_result"
    }
   ],
   "source": [
    "set(all_adata.obs.disease)"
   ]
  },
  {
   "cell_type": "code",
   "execution_count": 72,
   "id": "c2884a67-e682-44e8-aff4-af4095a0ea49",
   "metadata": {},
   "outputs": [],
   "source": [
    "all_adata.obs['age_status'] = \"postnatal\""
   ]
  },
  {
   "cell_type": "markdown",
   "id": "070d3090-0aed-4d4a-8dc9-4991135366b6",
   "metadata": {},
   "source": [
    "### Make the disease consistent"
   ]
  },
  {
   "cell_type": "code",
   "execution_count": 73,
   "id": "50dac2a2-f56c-4e01-9556-09ae6afd57e1",
   "metadata": {},
   "outputs": [],
   "source": [
    "all_adata.obs.disease = all_adata.obs.disease.astype(str)\n",
    "all_adata.obs.loc[all_adata.obs.disease == \"arrhythmogenic right ventricular cardiomyopathy\", 'disease'] = \"ARVC\"\n",
    "all_adata.obs.loc[all_adata.obs.disease == \"dilated cardiomyopathy\", 'disease'] = \"DCM\"\n",
    "all_adata.obs.loc[all_adata.obs.disease == \"non-compaction cardiomyopathy\", 'disease'] = \"NCCM\""
   ]
  },
  {
   "cell_type": "code",
   "execution_count": 74,
   "id": "7d429a33-239f-4620-92a9-ef6cd2db32dd",
   "metadata": {},
   "outputs": [
    {
     "data": {
      "text/plain": [
       "{'AMI', 'ARVC', 'DCM', 'HCM', 'ICM', 'NCCM', 'pediatric HF'}"
      ]
     },
     "execution_count": 74,
     "metadata": {},
     "output_type": "execute_result"
    }
   ],
   "source": [
    "set(all_adata.obs.disease)"
   ]
  },
  {
   "cell_type": "code",
   "execution_count": 75,
   "id": "dcd7e83b-97b0-450d-95c3-caf58cf37925",
   "metadata": {},
   "outputs": [
    {
     "data": {
      "text/plain": [
       "True"
      ]
     },
     "execution_count": 75,
     "metadata": {},
     "output_type": "execute_result"
    }
   ],
   "source": [
    "# finally, reconfirm that these are the raw counts\n",
    "confirm_raw_counts(all_adata)"
   ]
  },
  {
   "cell_type": "code",
   "execution_count": 76,
   "id": "ab3d4a91-6193-4d05-b245-e657c8ecfa43",
   "metadata": {},
   "outputs": [
    {
     "data": {
      "text/plain": [
       "4372"
      ]
     },
     "execution_count": 76,
     "metadata": {},
     "output_type": "execute_result"
    }
   ],
   "source": [
    "all_adata.write(\"01_combined_LV_diseased.h5ad\")\n",
    "gc.collect()"
   ]
  }
 ],
 "metadata": {
  "kernelspec": {
   "display_name": "Python 3 (ipykernel)",
   "language": "python",
   "name": "python3"
  },
  "language_info": {
   "codemirror_mode": {
    "name": "ipython",
    "version": 3
   },
   "file_extension": ".py",
   "mimetype": "text/x-python",
   "name": "python",
   "nbconvert_exporter": "python",
   "pygments_lexer": "ipython3",
   "version": "3.12.5"
  }
 },
 "nbformat": 4,
 "nbformat_minor": 5
}

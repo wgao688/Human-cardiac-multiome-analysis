{
 "cells": [
  {
   "cell_type": "markdown",
   "id": "cba28d63-52de-42ea-96a6-ab863aaab891",
   "metadata": {},
   "source": [
    "### Subsampled the entire adata to get a smaller "
   ]
  },
  {
   "cell_type": "code",
   "execution_count": 1,
   "id": "a52db49c-00ba-4b11-9e04-4ee426f8eb19",
   "metadata": {},
   "outputs": [],
   "source": [
    "import scanpy as sc\n",
    "from collections import Counter"
   ]
  },
  {
   "cell_type": "code",
   "execution_count": null,
   "id": "4136726d-607b-470a-9afd-c194d8d80c43",
   "metadata": {},
   "outputs": [],
   "source": [
    "%%time\n",
    "adata = sc.read_h5ad(\"07_final_RNA_without_scvi.h5ad\")\n",
    "adata"
   ]
  },
  {
   "cell_type": "markdown",
   "id": "f162c924-38d6-40f4-8f2f-59b43b926ff5",
   "metadata": {},
   "source": [
    "#### Create a function that can subsample the adata object based on cell type proportions, either proportionally or inversely proportional. This will be useful for operations that do not require all of the cell types such as cell type deconvolution of bulk RNA-seq datasets."
   ]
  },
  {
   "cell_type": "code",
   "execution_count": null,
   "id": "496c5d2a-d499-426b-b0ff-d7f37fbb4de7",
   "metadata": {},
   "outputs": [],
   "source": [
    "def sample_cells_proportionally_by_donor_id_and_cell_type(adata_metadata, \n",
    "                                                          target_cells,\n",
    "                                                          cell_type_key, \n",
    "                                                          donor_key,\n",
    "                                                          random_state = None,\n",
    "                                                          inverse_proportional=False):\n",
    "\n",
    "    '''Sample cells proportionally per cell type using the adata.obs metadata. The goal is to get roughly equal\n",
    "    sampling per donor (based on donor_key) and cell type (based on cell_type_key) and to obtain in (target_cells) number of cells'''\n",
    "\n",
    "    # determine number of cells to sample per cell type proportionally\n",
    "    total_cells = len(adata_metadata)\n",
    "    cell_type_counts = adata_metadata[cell_type_key].value_counts()\n",
    "\n",
    "    # if inversely proportional, then sample the adata.obs inversely to the overall cell count in the larger adata_metadata\n",
    "    if inverse_proportional:\n",
    "        inverse_counts = 1 / cell_type_counts\n",
    "        normalized_inverse_counts = inverse_counts / inverse_counts.sum()\n",
    "        cell_type_target_counts = (normalized_inverse_counts * target_cells).astype(int)\n",
    "    else:\n",
    "        cell_type_proportions = cell_type_counts / total_cells\n",
    "        cell_type_target_counts =  (cell_type_proportions * target_cells).astype(int)\n",
    "    \n",
    "    # create list to store sampled indices\n",
    "    sampled_indices = []\n",
    "    \n",
    "    # sample from each donor and cell type proportionally (or inversely)\n",
    "    for cell_type, count in cell_type_target_counts.items():\n",
    "        cell_type_df = adata_metadata[adata_metadata[cell_type_key] == cell_type]\n",
    "        donors = cell_type_df[donor_key].unique()\n",
    "        \n",
    "        # get roughly equal sampling per donor\n",
    "        cells_per_study = max(count // len(donors), 1)  # minimum of 1 cell per study\n",
    "        for donor in donors:\n",
    "            donor_df = cell_type_df[cell_type_df[donor_key] == donor]\n",
    "            sample_count = min(len(donor_df), cells_per_study)\n",
    "            \n",
    "            # randomly sample without replacement\n",
    "            sampled_indices.extend(donor_df.sample(n=sample_count, replace=False, random_state=random_state).index)\n",
    "    \n",
    "    # create sampled metadata df\n",
    "    sampled_metadata = adata_metadata.loc[sampled_indices]\n",
    "    \n",
    "    # final downsampling to target_cells if oversampled\n",
    "    if len(sampled_metadata) > target_cells:\n",
    "        sampled_metadata = sampled_metadata.sample(n=target_cells, replace=False)\n",
    "    \n",
    "    return sampled_metadata"
   ]
  },
  {
   "cell_type": "markdown",
   "id": "25e3e5d2-7e4d-43d1-b41b-f1ac8c4e26d8",
   "metadata": {},
   "source": [
    "### Subsample to about 5% the size of the original adata, inversely proportional to the cell type proportions in the overall adata object"
   ]
  },
  {
   "cell_type": "code",
   "execution_count": null,
   "id": "6e5d79ba-192a-4ca3-9fc1-6874d54d2e07",
   "metadata": {},
   "outputs": [],
   "source": [
    "%%time\n",
    "# subsample adata and use the random size 42\n",
    "subsampled_metadata = sample_cells_proportionally_by_donor_id_and_cell_type(adata_metadata = adata.obs, \n",
    "                                                                            donor_key = \"donor_id\",\n",
    "                                                                            cell_type_key = \"final_cell_type\",\n",
    "                                                                            target_cells = adata.obs.shape[0] * 0.05, \n",
    "                                                                            random_state = 42, \n",
    "                                                                           inverse_proportional=False).copy()"
   ]
  },
  {
   "cell_type": "code",
   "execution_count": null,
   "id": "033b55b8-8aac-44b1-9c93-d518e032e08e",
   "metadata": {},
   "outputs": [],
   "source": [
    "subsampled_metadata.shape"
   ]
  },
  {
   "cell_type": "code",
   "execution_count": null,
   "id": "7fe3aa50-1618-4fd5-ae50-1c23694763b7",
   "metadata": {},
   "outputs": [],
   "source": [
    "%%time\n",
    "subsampled_adata = adata[subsampled_metadata.index, :].copy()\n",
    "subsampled_adata"
   ]
  },
  {
   "cell_type": "code",
   "execution_count": null,
   "id": "d15d6e3a-4e53-43be-9026-5e948f00e752",
   "metadata": {},
   "outputs": [],
   "source": [
    "Counter(subsampled_adata.obs.donor_id)"
   ]
  },
  {
   "cell_type": "code",
   "execution_count": null,
   "id": "2c393958-b622-4d1e-bc0c-d1390fa117c9",
   "metadata": {},
   "outputs": [],
   "source": [
    "Counter(subsampled_adata.obs.v2_scvi_cell_type)"
   ]
  },
  {
   "cell_type": "code",
   "execution_count": null,
   "id": "559e12db-fb52-4b00-b8d5-0f5d5a9f396d",
   "metadata": {},
   "outputs": [],
   "source": [
    "sc.pl.umap(subsampled_adata, color = \"final_cell_type\", legend_loc = \"on data\")"
   ]
  },
  {
   "cell_type": "markdown",
   "id": "48458d3e-c01e-4a56-80b1-6394e424f856",
   "metadata": {},
   "source": [
    "### Save the subsampled adata"
   ]
  },
  {
   "cell_type": "code",
   "execution_count": null,
   "id": "57e64257-8a38-43b4-b52f-d33b5f945eac",
   "metadata": {},
   "outputs": [],
   "source": [
    "subsampled_adata.write(\"07_subsampled_adata.h5ad\")"
   ]
  }
 ],
 "metadata": {
  "kernelspec": {
   "display_name": "Python 3 (ipykernel)",
   "language": "python",
   "name": "python3"
  },
  "language_info": {
   "codemirror_mode": {
    "name": "ipython",
    "version": 3
   },
   "file_extension": ".py",
   "mimetype": "text/x-python",
   "name": "python",
   "nbconvert_exporter": "python",
   "pygments_lexer": "ipython3",
   "version": "3.12.5"
  }
 },
 "nbformat": 4,
 "nbformat_minor": 5
}

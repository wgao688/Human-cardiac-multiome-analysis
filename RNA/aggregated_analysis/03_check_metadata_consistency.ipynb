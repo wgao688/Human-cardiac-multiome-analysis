{
 "cells": [
  {
   "cell_type": "markdown",
   "id": "f1a1496f-b130-4255-a13c-c072af42dd3c",
   "metadata": {},
   "source": [
    "### Load the combined adata from `02_combine_all_datasets.py` and make sure that all of the metadata is consistent"
   ]
  },
  {
   "cell_type": "code",
   "execution_count": 1,
   "id": "9aa12ef2-de39-41b1-ab8f-7c3107408919",
   "metadata": {},
   "outputs": [],
   "source": [
    "import scanpy as sc\n",
    "import matplotlib.pyplot as plt\n",
    "import pandas as pd\n",
    "import numpy as np\n",
    "import anndata as ad\n",
    "from collections import Counter\n",
    "import seaborn as sns"
   ]
  },
  {
   "cell_type": "code",
   "execution_count": 2,
   "id": "bd0d8e23-5049-48e1-9aff-5b88c949b0a7",
   "metadata": {},
   "outputs": [
    {
     "name": "stdout",
     "output_type": "stream",
     "text": [
      "CPU times: user 12.3 s, sys: 1min 16s, total: 1min 28s\n",
      "Wall time: 1min 28s\n"
     ]
    },
    {
     "data": {
      "text/plain": [
       "AnnData object with n_obs × n_vars = 2923936 × 16115\n",
       "    obs: 'age', 'donor_id', 'sex', 'region', 'cell_type', 'disease', 'consistent_cell_type', 'study', 'technology', 'cell_or_nuclei', 'barcode', 'sample_id', 'age_status'\n",
       "    layers: 'counts'"
      ]
     },
     "execution_count": 2,
     "metadata": {},
     "output_type": "execute_result"
    }
   ],
   "source": [
    "%%time\n",
    "adata = sc.read_h5ad(\"02_combined_all_snRNA.h5ad\")\n",
    "adata"
   ]
  },
  {
   "cell_type": "markdown",
   "id": "3ffca9ff-9358-41d0-bb98-e3766502f4e2",
   "metadata": {},
   "source": [
    "### Check metadata"
   ]
  },
  {
   "cell_type": "code",
   "execution_count": 4,
   "id": "57f074a9-a8d6-44e0-a6b4-178f0911573d",
   "metadata": {},
   "outputs": [],
   "source": [
    "cell_level_metadata = adata.obs"
   ]
  },
  {
   "cell_type": "markdown",
   "id": "fc1fcab3-c440-4814-aa3c-501229474b8b",
   "metadata": {},
   "source": [
    "### Make the study names consistent"
   ]
  },
  {
   "cell_type": "code",
   "execution_count": 5,
   "id": "357d38b9-0147-4ea9-91fd-65df6c299a61",
   "metadata": {},
   "outputs": [
    {
     "data": {
      "text/plain": [
       "Counter({'ENCODE v4 (Snyder)': 883347,\n",
       "         'Chaffin 2022': 591161,\n",
       "         'Reichart 2022': 456757,\n",
       "         'Penn': 219120,\n",
       "         'Koenig 2022': 217552,\n",
       "         'Kuppe 2022': 181446,\n",
       "         'Hill 2022': 112443,\n",
       "         'Simonson 2023': 99049,\n",
       "         'Litvinukova 2020': 88413,\n",
       "         'Sim 2021': 42991,\n",
       "         'Kanemaru 2023': 31657})"
      ]
     },
     "execution_count": 5,
     "metadata": {},
     "output_type": "execute_result"
    }
   ],
   "source": [
    "Counter(cell_level_metadata.study)"
   ]
  },
  {
   "cell_type": "markdown",
   "id": "5ae4923e-7345-48b6-9c24-9e53ea265543",
   "metadata": {},
   "source": [
    "Confirm that this is all nuclei data"
   ]
  },
  {
   "cell_type": "code",
   "execution_count": 6,
   "id": "45a00d72-0dc7-4810-ab7e-1add7b7bbdf0",
   "metadata": {},
   "outputs": [
    {
     "data": {
      "text/plain": [
       "Counter({'Nuclei': 2923936})"
      ]
     },
     "execution_count": 6,
     "metadata": {},
     "output_type": "execute_result"
    }
   ],
   "source": [
    "Counter(cell_level_metadata.cell_or_nuclei)"
   ]
  },
  {
   "cell_type": "markdown",
   "id": "3dacc070-5539-43ea-9b88-ce19bf154e05",
   "metadata": {},
   "source": [
    "The majority of the cells are left ventricle, except for the fetal cells"
   ]
  },
  {
   "cell_type": "code",
   "execution_count": 7,
   "id": "da0e8270-ffeb-4f99-aa2f-6b061b62786f",
   "metadata": {},
   "outputs": [
    {
     "data": {
      "text/plain": [
       "Counter({'LV': 2816852,\n",
       "         'WH': 74029,\n",
       "         'OFT': 14613,\n",
       "         'Atria': 14423,\n",
       "         'LRV': 4019})"
      ]
     },
     "execution_count": 7,
     "metadata": {},
     "output_type": "execute_result"
    }
   ],
   "source": [
    "Counter(cell_level_metadata.region)"
   ]
  },
  {
   "cell_type": "code",
   "execution_count": 8,
   "id": "0881465f-fed5-47db-b331-33bc1f0e7650",
   "metadata": {},
   "outputs": [
    {
     "data": {
      "text/plain": [
       "Counter({'male': 1824513, 'female': 1099423})"
      ]
     },
     "execution_count": 8,
     "metadata": {},
     "output_type": "execute_result"
    }
   ],
   "source": [
    "Counter(cell_level_metadata.sex)"
   ]
  },
  {
   "cell_type": "code",
   "execution_count": 9,
   "id": "7fdef753-078a-4230-9398-8cd0d9a5366e",
   "metadata": {},
   "outputs": [
    {
     "data": {
      "text/plain": [
       "Counter({'ND': 1758433,\n",
       "         'DCM': 580093,\n",
       "         'HCM': 234347,\n",
       "         'AMI': 97848,\n",
       "         'pediatric HF': 95051,\n",
       "         'ICM': 81291,\n",
       "         'ARVC': 69639,\n",
       "         'NCCM': 7234})"
      ]
     },
     "execution_count": 9,
     "metadata": {},
     "output_type": "execute_result"
    }
   ],
   "source": [
    "Counter(cell_level_metadata.disease)"
   ]
  },
  {
   "cell_type": "code",
   "execution_count": 10,
   "id": "87db4459-25ec-44d1-a56a-020d2721b349",
   "metadata": {},
   "outputs": [
    {
     "data": {
      "text/plain": [
       "Counter({'3prime-v3': 1492811,\n",
       "         'Multiome-v1': 915004,\n",
       "         'Dropseq': 219120,\n",
       "         '5prime-v1': 217552,\n",
       "         '3prime-v1': 42991,\n",
       "         '3prime-v2': 36458})"
      ]
     },
     "execution_count": 10,
     "metadata": {},
     "output_type": "execute_result"
    }
   ],
   "source": [
    "Counter(cell_level_metadata.technology)"
   ]
  },
  {
   "cell_type": "code",
   "execution_count": 11,
   "id": "afbf15fa-1380-4416-a324-a261171c7176",
   "metadata": {},
   "outputs": [
    {
     "data": {
      "text/plain": [
       "Counter({'Cardiomyocyte': 1120289,\n",
       "         'Fibroblast': 579196,\n",
       "         'Endothelial': 432834,\n",
       "         'Pericyte': 321602,\n",
       "         'Myeloid': 259442,\n",
       "         'Lymphoid': 71406,\n",
       "         'Endocardial': 30145,\n",
       "         'vSMC': 28990,\n",
       "         'Neuronal': 27629,\n",
       "         'Adipocyte': 12650,\n",
       "         'Unclear': 12081,\n",
       "         'LEC': 11204,\n",
       "         'Mast': 10728,\n",
       "         'Epicardial': 5740})"
      ]
     },
     "execution_count": 11,
     "metadata": {},
     "output_type": "execute_result"
    }
   ],
   "source": [
    "Counter(cell_level_metadata.consistent_cell_type)"
   ]
  },
  {
   "cell_type": "markdown",
   "id": "8f047d13-5e4d-49e4-8078-8b19ba09e681",
   "metadata": {},
   "source": [
    "### To prevent the donor_id across studies from being duplicated across studies, add the study to the donor_id"
   ]
  },
  {
   "cell_type": "code",
   "execution_count": 12,
   "id": "637df20d-cdce-424c-8e00-9b17d4577377",
   "metadata": {},
   "outputs": [],
   "source": [
    "adata.obs['donor_id'] = adata.obs['study'].astype(str) + \":\" + adata.obs['donor_id'].astype(str) "
   ]
  },
  {
   "cell_type": "code",
   "execution_count": 13,
   "id": "e94f7aec-5e75-46e2-89d1-590bb98ccc1f",
   "metadata": {},
   "outputs": [
    {
     "data": {
      "text/plain": [
       "Counter({'Penn:Penn_F1': 28086,\n",
       "         'Penn:Penn_F2': 25610,\n",
       "         'ENCODE v4 (Snyder):ENCSR273JWD': 25423,\n",
       "         'ENCODE v4 (Snyder):ENCSR138JCM': 24650,\n",
       "         'Kuppe 2022:P9': 24407,\n",
       "         'ENCODE v4 (Snyder):ENCSR237HWJ': 24073,\n",
       "         'Chaffin 2022:P1358': 23960,\n",
       "         'ENCODE v4 (Snyder):ENCSR204RHR': 23568,\n",
       "         'ENCODE v4 (Snyder):ENCSR753YOZ': 23318,\n",
       "         'Chaffin 2022:P1422': 23282,\n",
       "         'Kuppe 2022:P2': 23128,\n",
       "         'ENCODE v4 (Snyder):ENCSR994VEG': 22883,\n",
       "         'Hill 2022:P86': 21846,\n",
       "         'Chaffin 2022:P1462': 21693,\n",
       "         'ENCODE v4 (Snyder):ENCSR002SMQ': 21660,\n",
       "         'Chaffin 2022:P1437': 21637,\n",
       "         'ENCODE v4 (Snyder):ENCSR328GTN': 21579,\n",
       "         'Chaffin 2022:P1722': 21411,\n",
       "         'ENCODE v4 (Snyder):ENCSR485GOL': 21389,\n",
       "         'ENCODE v4 (Snyder):ENCSR906MRL': 21387,\n",
       "         'ENCODE v4 (Snyder):ENCSR630LZS': 21299,\n",
       "         'ENCODE v4 (Snyder):ENCSR489URW': 21040,\n",
       "         'Kuppe 2022:P3': 20671,\n",
       "         'Chaffin 2022:P1508': 19909,\n",
       "         'ENCODE v4 (Snyder):ENCSR157FDD': 19741,\n",
       "         'Chaffin 2022:P1472': 19498,\n",
       "         'Chaffin 2022:P1479': 19117,\n",
       "         'Chaffin 2022:P1304': 19105,\n",
       "         'Chaffin 2022:P1582': 18789,\n",
       "         'ENCODE v4 (Snyder):ENCSR919ENI': 18233,\n",
       "         'ENCODE v4 (Snyder):ENCSR203YOV': 18082,\n",
       "         'Chaffin 2022:P1617': 17970,\n",
       "         'Chaffin 2022:P1630': 17586,\n",
       "         'ENCODE v4 (Snyder):ENCSR175TRJ': 17348,\n",
       "         'Chaffin 2022:P1300': 17285,\n",
       "         'ENCODE v4 (Snyder):ENCSR851JBE': 17238,\n",
       "         'ENCODE v4 (Snyder):ENCSR654MFX': 17232,\n",
       "         'Penn:ND15840': 16926,\n",
       "         'Penn:ND15755': 16821,\n",
       "         'ENCODE v4 (Snyder):ENCFF775ANN': 16642,\n",
       "         'Chaffin 2022:P1602': 16576,\n",
       "         'ENCODE v4 (Snyder):ENCSR762LML': 16466,\n",
       "         'Penn:K1584': 16318,\n",
       "         'Hill 2022:P40': 16314,\n",
       "         'ENCODE v4 (Snyder):ENCFF248EWR': 16230,\n",
       "         'Chaffin 2022:P1371': 16222,\n",
       "         'Kanemaru 2023:AH1-Nuclei_Multiome-v1': 16057,\n",
       "         'Penn:K1545': 15820,\n",
       "         'Reichart 2022:ReichartH08': 15586,\n",
       "         'ENCODE v4 (Snyder):ENCSR488UUT': 15373,\n",
       "         'Chaffin 2022:P1425': 15366,\n",
       "         'ENCODE v4 (Snyder):ENCSR084XKX': 15254,\n",
       "         'ENCODE v4 (Snyder):ENCSR727OYO': 15212,\n",
       "         'Hill 2022:P75': 15057,\n",
       "         'ENCODE v4 (Snyder):ENCSR763BII': 14957,\n",
       "         'Chaffin 2022:P1600': 14877,\n",
       "         'ENCODE v4 (Snyder):ENCSR008CVR': 14739,\n",
       "         'ENCODE v4 (Snyder):ENCSR455MGH': 14725,\n",
       "         'ENCODE v4 (Snyder):ENCSR788SNY': 14692,\n",
       "         'ENCODE v4 (Snyder):ENCSR755CIF': 14668,\n",
       "         'ENCODE v4 (Snyder):ENCSR190TRK': 14603,\n",
       "         'Chaffin 2022:P1515': 14500,\n",
       "         'ENCODE v4 (Snyder):ENCSR093GXF': 14498,\n",
       "         'ENCODE v4 (Snyder):ENCSR681GPY': 14344,\n",
       "         'Chaffin 2022:P1610': 13858,\n",
       "         'ENCODE v4 (Snyder):ENCSR540DHJ': 13755,\n",
       "         'Chaffin 2022:P1631': 13680,\n",
       "         'ENCODE v4 (Snyder):ENCSR176WWW': 13649,\n",
       "         'Reichart 2022:ReichartH03': 13555,\n",
       "         'Chaffin 2022:P1702': 13516,\n",
       "         'Hill 2022:P36': 12902,\n",
       "         'ENCODE v4 (Snyder):ENCSR398YBK': 12481,\n",
       "         'ENCODE v4 (Snyder):ENCSR439ZVQ': 12349,\n",
       "         'Chaffin 2022:P1726': 12333,\n",
       "         'ENCODE v4 (Snyder):ENCSR012APQ': 12321,\n",
       "         'ENCODE v4 (Snyder):ENCSR481QQR': 12256,\n",
       "         'ENCODE v4 (Snyder):ENCSR801DHT': 12238,\n",
       "         'Hill 2022:UK2': 12234,\n",
       "         'ENCODE v4 (Snyder):ENCSR814LMX': 12196,\n",
       "         'Chaffin 2022:P1735': 12004,\n",
       "         'Penn:K1702': 11935,\n",
       "         'Litvinukova 2020:H6-Nuclei_3prime-v3': 11888,\n",
       "         'Reichart 2022:ReichartH49': 11821,\n",
       "         'Koenig 2022:TWCM-11-78': 11788,\n",
       "         'ENCODE v4 (Snyder):ENCSR231FNL': 11769,\n",
       "         'ENCODE v4 (Snyder):ENCSR777RUZ': 11727,\n",
       "         'Chaffin 2022:P1549': 11703,\n",
       "         'Reichart 2022:ReichartH40': 11685,\n",
       "         'Reichart 2022:ReichartH02': 11619,\n",
       "         'Chaffin 2022:P1540': 11617,\n",
       "         'Reichart 2022:ReichartDP1': 11472,\n",
       "         'ENCODE v4 (Snyder):ENCSR076ZLE': 11437,\n",
       "         'Kuppe 2022:P1': 11397,\n",
       "         'Reichart 2022:ReichartH28': 11191,\n",
       "         'Kuppe 2022:P6': 11176,\n",
       "         'Penn:K1570': 11176,\n",
       "         'Chaffin 2022:P1447': 11150,\n",
       "         'Reichart 2022:ReichartH46': 11139,\n",
       "         'Chaffin 2022:P1430': 11124,\n",
       "         'Chaffin 2022:P1539': 11074,\n",
       "         'Simonson 2023:P1773': 11056,\n",
       "         'Reichart 2022:ReichartH80': 11048,\n",
       "         'Simonson 2023:P1650': 10886,\n",
       "         'Kuppe 2022:P8': 10818,\n",
       "         'Koenig 2022:TWCM-LVAD3': 10730,\n",
       "         'Koenig 2022:TWCM-13-181': 10724,\n",
       "         'Chaffin 2022:P1510': 10716,\n",
       "         'ENCODE v4 (Snyder):ENCSR067BOK': 10705,\n",
       "         'Reichart 2022:ReichartH13': 10688,\n",
       "         'Reichart 2022:ReichartH19': 10681,\n",
       "         'Chaffin 2022:P1603': 10588,\n",
       "         'Kuppe 2022:P7': 10576,\n",
       "         'Reichart 2022:ReichartH11': 10541,\n",
       "         'ENCODE v4 (Snyder):ENCSR751BHQ': 10499,\n",
       "         'Chaffin 2022:P1558': 10461,\n",
       "         'Reichart 2022:ReichartH31': 10334,\n",
       "         'Penn:K1617': 10247,\n",
       "         'Litvinukova 2020:H3-Nuclei_3prime-v3': 10042,\n",
       "         'Chaffin 2022:P1561': 10015,\n",
       "         'Chaffin 2022:P1685': 10012,\n",
       "         'Reichart 2022:ReichartH51': 10007,\n",
       "         'Chaffin 2022:P1678': 9980,\n",
       "         'Reichart 2022:ReichartDT4': 9969,\n",
       "         'Reichart 2022:ReichartH10': 9842,\n",
       "         'Reichart 2022:ReichartH79': 9816,\n",
       "         'ENCODE v4 (Snyder):ENCSR980OCK': 9622,\n",
       "         'ENCODE v4 (Snyder):ENCFF727JRO': 9524,\n",
       "         'Chaffin 2022:P1707': 9512,\n",
       "         'ENCODE v4 (Snyder):ENCSR056QLB': 9509,\n",
       "         'Penn:K1488': 9403,\n",
       "         'Kuppe 2022:P15': 9363,\n",
       "         'Reichart 2022:ReichartH07': 9348,\n",
       "         'Chaffin 2022:P1516': 9311,\n",
       "         'Chaffin 2022:P1718': 9272,\n",
       "         'Reichart 2022:ReichartH12': 9230,\n",
       "         'Litvinukova 2020:H5-Nuclei_3prime-v3': 9230,\n",
       "         'ENCODE v4 (Snyder):ENCSR405YKM': 9220,\n",
       "         'ENCODE v4 (Snyder):ENCSR085XEW': 9120,\n",
       "         'ENCODE v4 (Snyder):ENCSR259VOY': 9086,\n",
       "         'Penn:K1739': 9043,\n",
       "         'Reichart 2022:ReichartH33': 8868,\n",
       "         'ENCODE v4 (Snyder):ENCSR991LHO': 8864,\n",
       "         'ENCODE v4 (Snyder):ENCSR349AHE': 8862,\n",
       "         'Koenig 2022:TWCM-11-264': 8855,\n",
       "         'Reichart 2022:ReichartH06': 8792,\n",
       "         'Koenig 2022:TWCM-13-208': 8762,\n",
       "         'Koenig 2022:H_ZC-11-292': 8745,\n",
       "         'Penn:K1430': 8713,\n",
       "         'Reichart 2022:ReichartH25': 8702,\n",
       "         'Kuppe 2022:P17': 8649,\n",
       "         'Kuppe 2022:P14': 8533,\n",
       "         'Chaffin 2022:P1606': 8523,\n",
       "         'Sim 2021:GSM4742858_Fetal2_processed': 8405,\n",
       "         'Simonson 2023:P1785': 8388,\n",
       "         'ENCODE v4 (Snyder):ENCSR962JKS': 8377,\n",
       "         'Reichart 2022:ReichartH01': 8347,\n",
       "         'Chaffin 2022:P1290': 8346,\n",
       "         'Simonson 2023:P1716': 8334,\n",
       "         'Reichart 2022:ReichartH09': 8278,\n",
       "         'Reichart 2022:ReichartH14': 8268,\n",
       "         'Chaffin 2022:P1547': 8248,\n",
       "         'Reichart 2022:ReichartH35': 8218,\n",
       "         'Reichart 2022:ReichartH24': 8204,\n",
       "         'Chaffin 2022:P1504': 8132,\n",
       "         'Reichart 2022:ReichartH55': 8128,\n",
       "         'Koenig 2022:TWCM-13-235': 8045,\n",
       "         'Reichart 2022:ReichartH41': 8043,\n",
       "         'Koenig 2022:TWCM-13-198': 7946,\n",
       "         'Penn:K1549': 7907,\n",
       "         'Litvinukova 2020:D2-Nuclei_3prime-v2': 7856,\n",
       "         'Penn:K1485': 7800,\n",
       "         'ENCODE v4 (Snyder):ENCSR352DXB': 7791,\n",
       "         'Koenig 2022:TWCM-13-96': 7752,\n",
       "         'Koenig 2022:TWCM-13-192': 7750,\n",
       "         'ENCODE v4 (Snyder):ENCFF776DQR': 7612,\n",
       "         'Koenig 2022:TWCM-13-36': 7610,\n",
       "         'Simonson 2023:P1739': 7607,\n",
       "         'Litvinukova 2020:D1-Nuclei_3prime-v2': 7562,\n",
       "         'ENCODE v4 (Snyder):ENCFF684YRB': 7442,\n",
       "         'ENCODE v4 (Snyder):ENCFF849ALE': 7424,\n",
       "         'Reichart 2022:ReichartH53': 7393,\n",
       "         'Litvinukova 2020:H4-Nuclei_3prime-v3': 7376,\n",
       "         'Simonson 2023:P1763': 7306,\n",
       "         'Penn:K1622': 7300,\n",
       "         'Reichart 2022:ReichartH84': 7234,\n",
       "         'Hill 2022:P33': 7213,\n",
       "         'Chaffin 2022:P1622': 7203,\n",
       "         'Sim 2021:GSM4742857_Fetal1_processed': 7143,\n",
       "         'Reichart 2022:ReichartH05': 7111,\n",
       "         'Litvinukova 2020:H7-Nuclei_3prime-v3': 7110,\n",
       "         'Reichart 2022:ReichartH26': 7067,\n",
       "         'Reichart 2022:ReichartH37': 7062,\n",
       "         'Hill 2022:P8': 6992,\n",
       "         'Reichart 2022:ReichartH29': 6949,\n",
       "         'Reichart 2022:ReichartH42': 6933,\n",
       "         'Sim 2021:GSM4742859_Fetal3_processed': 6888,\n",
       "         'Reichart 2022:ReichartH27': 6833,\n",
       "         'ENCODE v4 (Snyder):ENCSR899GYX': 6764,\n",
       "         'Simonson 2023:P1364': 6752,\n",
       "         'Penn:K1718': 6752,\n",
       "         'Litvinukova 2020:D3-Nuclei_3prime-v2': 6750,\n",
       "         'Koenig 2022:TWCM-13-168': 6708,\n",
       "         'Kanemaru 2023:D8-Nuclei_Multiome-v1': 6610,\n",
       "         'Reichart 2022:ReichartDP2': 6606,\n",
       "         'Koenig 2022:TWCM-13-152': 6581,\n",
       "         'Simonson 2023:P1452': 6562,\n",
       "         'Kanemaru 2023:D7-Nuclei_Multiome-v1': 6333,\n",
       "         'Kuppe 2022:P12': 6271,\n",
       "         'Kuppe 2022:P11': 6204,\n",
       "         'Hill 2022:P28': 6194,\n",
       "         'Kuppe 2022:P19': 6133,\n",
       "         'Hill 2022:P64': 6106,\n",
       "         'Kuppe 2022:P10': 6036,\n",
       "         'Reichart 2022:ReichartH17': 6019,\n",
       "         'Reichart 2022:ReichartH22': 6010,\n",
       "         'Litvinukova 2020:H2-Nuclei_3prime-v3': 5966,\n",
       "         'Koenig 2022:TWCM-LVAD2': 5924,\n",
       "         'Koenig 2022:TWCM-11-256': 5896,\n",
       "         'Simonson 2023:P1690': 5871,\n",
       "         'Reichart 2022:ReichartH67': 5789,\n",
       "         'Simonson 2023:P1800': 5729,\n",
       "         'Koenig 2022:TWCM-11-103': 5682,\n",
       "         'Koenig 2022:TWCM-13-1': 5641,\n",
       "         'Koenig 2022:TWCM-11-104': 5534,\n",
       "         'Reichart 2022:ReichartIC_H02': 5473,\n",
       "         'Litvinukova 2020:D5-Nuclei_3prime-v2': 5419,\n",
       "         'Koenig 2022:H_ZC-LVAD': 5416,\n",
       "         'Koenig 2022:TWCM-11-42': 5379,\n",
       "         'Koenig 2022:TWCM-11-93': 5319,\n",
       "         'ENCODE v4 (Snyder):ENCFF805YRY': 5316,\n",
       "         'Kuppe 2022:P18': 5303,\n",
       "         'Koenig 2022:TWCM-14-173': 5296,\n",
       "         'Simonson 2023:P1703': 5235,\n",
       "         'Koenig 2022:TWCM-13-104': 5170,\n",
       "         'Hill 2022:UK1': 5158,\n",
       "         'ENCODE v4 (Snyder):ENCSR345CVL': 5047,\n",
       "         'Koenig 2022:TWCM-13-80': 5027,\n",
       "         'Reichart 2022:ReichartH16': 5017,\n",
       "         'Simonson 2023:P1801': 4962,\n",
       "         'Reichart 2022:ReichartH34': 4927,\n",
       "         'Sim 2021:GSM4742861_Young2_processed': 4747,\n",
       "         'Reichart 2022:ReichartH04': 4664,\n",
       "         'Koenig 2022:TWCM-11-192': 4635,\n",
       "         'Simonson 2023:P1733': 4528,\n",
       "         'Koenig 2022:TWCM-13-101': 4519,\n",
       "         'Penn:K1647': 4460,\n",
       "         'Litvinukova 2020:D4-Nuclei_3prime-v2': 4418,\n",
       "         'Reichart 2022:ReichartH18': 4367,\n",
       "         'Reichart 2022:ReichartH36': 4215,\n",
       "         'Sim 2021:GSM4742860_Young1_processed': 4200,\n",
       "         'Reichart 2022:ReichartH59': 4168,\n",
       "         'Koenig 2022:TWCM-13-102': 4126,\n",
       "         'Koenig 2022:TWCM-11-82': 3965,\n",
       "         'Sim 2021:GSM4742854_Adult1_processed': 3965,\n",
       "         'Koenig 2022:TWCM-11-41': 3960,\n",
       "         'Koenig 2022:TWCM-11-74': 3879,\n",
       "         'Reichart 2022:ReichartDL2': 3858,\n",
       "         'Koenig 2022:TWCM-10-68': 3848,\n",
       "         'ENCODE v4 (Snyder):ENCFF802AQC': 3839,\n",
       "         'Koenig 2022:TWCM-13-285': 3783,\n",
       "         'Reichart 2022:ReichartH78': 3692,\n",
       "         'Reichart 2022:ReichartH73': 3690,\n",
       "         'Kuppe 2022:P13': 3653,\n",
       "         'Koenig 2022:TWCM-13-132': 3617,\n",
       "         'Reichart 2022:ReichartH20': 3601,\n",
       "         'Kuppe 2022:P20': 3449,\n",
       "         'Simonson 2023:P1693': 3391,\n",
       "         'Reichart 2022:ReichartH15': 3334,\n",
       "         'Reichart 2022:ReichartH56': 3267,\n",
       "         'Sim 2021:GSM4742862_Young3_processed': 3171,\n",
       "         'Sim 2021:GSM4742855_Adult2_processed': 3159,\n",
       "         'Kuppe 2022:P16': 3067,\n",
       "         'Reichart 2022:ReichartH32': 2960,\n",
       "         'Reichart 2022:ReichartH39': 2910,\n",
       "         'Koenig 2022:TWCM-13-47': 2895,\n",
       "         'Reichart 2022:ReichartH81': 2870,\n",
       "         'Litvinukova 2020:D7-Nuclei_3prime-v2': 2835,\n",
       "         'Penn:K1727': 2673,\n",
       "         'Kanemaru 2023:D3-Nuclei_Multiome-v1': 2657,\n",
       "         'Kuppe 2022:P4': 2612,\n",
       "         'Reichart 2022:ReichartDS3': 2582,\n",
       "         'Reichart 2022:ReichartH21': 2579,\n",
       "         'Simonson 2023:P1579': 2442,\n",
       "         'Reichart 2022:ReichartDL3': 2435,\n",
       "         'Hill 2022:P26': 2427,\n",
       "         'Reichart 2022:ReichartIC_H01': 2318,\n",
       "         'Reichart 2022:ReichartH58': 2304,\n",
       "         'Koenig 2022:TWCM-13-84': 2224,\n",
       "         'Reichart 2022:ReichartH44': 2162,\n",
       "         'Penn:K1561': 2130,\n",
       "         'Reichart 2022:ReichartH57': 2126,\n",
       "         'Koenig 2022:TWCM-13-17': 2081,\n",
       "         'Koenig 2022:TWCM-10-5': 1740,\n",
       "         'Litvinukova 2020:D6-Nuclei_3prime-v2': 1618,\n",
       "         'Sim 2021:GSM4742856_Adult3_processed': 1313,\n",
       "         'Reichart 2022:ReichartDO1': 999,\n",
       "         'Reichart 2022:ReichartIC_H03': 972,\n",
       "         'Reichart 2022:ReichartIC_H04': 841,\n",
       "         'Litvinukova 2020:D11-Nuclei_3prime-v3': 343})"
      ]
     },
     "execution_count": 13,
     "metadata": {},
     "output_type": "execute_result"
    }
   ],
   "source": [
    "Counter(adata.obs['donor_id'])"
   ]
  },
  {
   "cell_type": "markdown",
   "id": "4a7346af-5237-463f-a215-c377e023530d",
   "metadata": {},
   "source": [
    "### Visualize information about the datasets"
   ]
  },
  {
   "cell_type": "code",
   "execution_count": 14,
   "id": "1af83803-a38d-4854-8e94-6ce83a329d07",
   "metadata": {},
   "outputs": [
    {
     "data": {
      "text/html": [
       "<div>\n",
       "<style scoped>\n",
       "    .dataframe tbody tr th:only-of-type {\n",
       "        vertical-align: middle;\n",
       "    }\n",
       "\n",
       "    .dataframe tbody tr th {\n",
       "        vertical-align: top;\n",
       "    }\n",
       "\n",
       "    .dataframe thead th {\n",
       "        text-align: right;\n",
       "    }\n",
       "</style>\n",
       "<table border=\"1\" class=\"dataframe\">\n",
       "  <thead>\n",
       "    <tr style=\"text-align: right;\">\n",
       "      <th></th>\n",
       "      <th>sex</th>\n",
       "      <th>donor_id</th>\n",
       "      <th>age</th>\n",
       "      <th>study</th>\n",
       "      <th>technology</th>\n",
       "      <th>age_status</th>\n",
       "    </tr>\n",
       "  </thead>\n",
       "  <tbody>\n",
       "    <tr>\n",
       "      <th>0</th>\n",
       "      <td>female</td>\n",
       "      <td>Penn:Penn_F1</td>\n",
       "      <td>18.0</td>\n",
       "      <td>Penn</td>\n",
       "      <td>Dropseq</td>\n",
       "      <td>fetal</td>\n",
       "    </tr>\n",
       "    <tr>\n",
       "      <th>1</th>\n",
       "      <td>male</td>\n",
       "      <td>Penn:Penn_F2</td>\n",
       "      <td>18.0</td>\n",
       "      <td>Penn</td>\n",
       "      <td>Dropseq</td>\n",
       "      <td>fetal</td>\n",
       "    </tr>\n",
       "    <tr>\n",
       "      <th>2</th>\n",
       "      <td>male</td>\n",
       "      <td>ENCODE v4 (Snyder):ENCFF802AQC</td>\n",
       "      <td>13.0</td>\n",
       "      <td>ENCODE v4 (Snyder)</td>\n",
       "      <td>Multiome-v1</td>\n",
       "      <td>fetal</td>\n",
       "    </tr>\n",
       "    <tr>\n",
       "      <th>3</th>\n",
       "      <td>male</td>\n",
       "      <td>ENCODE v4 (Snyder):ENCFF248EWR</td>\n",
       "      <td>15.0</td>\n",
       "      <td>ENCODE v4 (Snyder)</td>\n",
       "      <td>Multiome-v1</td>\n",
       "      <td>fetal</td>\n",
       "    </tr>\n",
       "    <tr>\n",
       "      <th>4</th>\n",
       "      <td>female</td>\n",
       "      <td>ENCODE v4 (Snyder):ENCFF849ALE</td>\n",
       "      <td>16.0</td>\n",
       "      <td>ENCODE v4 (Snyder)</td>\n",
       "      <td>Multiome-v1</td>\n",
       "      <td>fetal</td>\n",
       "    </tr>\n",
       "    <tr>\n",
       "      <th>...</th>\n",
       "      <td>...</td>\n",
       "      <td>...</td>\n",
       "      <td>...</td>\n",
       "      <td>...</td>\n",
       "      <td>...</td>\n",
       "      <td>...</td>\n",
       "    </tr>\n",
       "    <tr>\n",
       "      <th>294</th>\n",
       "      <td>male</td>\n",
       "      <td>Sim 2021:GSM4742862_Young3_processed</td>\n",
       "      <td>14.0</td>\n",
       "      <td>Sim 2021</td>\n",
       "      <td>3prime-v1</td>\n",
       "      <td>postnatal</td>\n",
       "    </tr>\n",
       "    <tr>\n",
       "      <th>295</th>\n",
       "      <td>male</td>\n",
       "      <td>Sim 2021:GSM4742860_Young1_processed</td>\n",
       "      <td>4.0</td>\n",
       "      <td>Sim 2021</td>\n",
       "      <td>3prime-v1</td>\n",
       "      <td>postnatal</td>\n",
       "    </tr>\n",
       "    <tr>\n",
       "      <th>296</th>\n",
       "      <td>male</td>\n",
       "      <td>Sim 2021:GSM4742856_Adult3_processed</td>\n",
       "      <td>42.0</td>\n",
       "      <td>Sim 2021</td>\n",
       "      <td>3prime-v1</td>\n",
       "      <td>postnatal</td>\n",
       "    </tr>\n",
       "    <tr>\n",
       "      <th>297</th>\n",
       "      <td>female</td>\n",
       "      <td>Sim 2021:GSM4742854_Adult1_processed</td>\n",
       "      <td>35.0</td>\n",
       "      <td>Sim 2021</td>\n",
       "      <td>3prime-v1</td>\n",
       "      <td>postnatal</td>\n",
       "    </tr>\n",
       "    <tr>\n",
       "      <th>298</th>\n",
       "      <td>female</td>\n",
       "      <td>Sim 2021:GSM4742861_Young2_processed</td>\n",
       "      <td>10.0</td>\n",
       "      <td>Sim 2021</td>\n",
       "      <td>3prime-v1</td>\n",
       "      <td>postnatal</td>\n",
       "    </tr>\n",
       "  </tbody>\n",
       "</table>\n",
       "<p>299 rows × 6 columns</p>\n",
       "</div>"
      ],
      "text/plain": [
       "        sex                              donor_id   age               study  \\\n",
       "0    female                          Penn:Penn_F1  18.0                Penn   \n",
       "1      male                          Penn:Penn_F2  18.0                Penn   \n",
       "2      male        ENCODE v4 (Snyder):ENCFF802AQC  13.0  ENCODE v4 (Snyder)   \n",
       "3      male        ENCODE v4 (Snyder):ENCFF248EWR  15.0  ENCODE v4 (Snyder)   \n",
       "4    female        ENCODE v4 (Snyder):ENCFF849ALE  16.0  ENCODE v4 (Snyder)   \n",
       "..      ...                                   ...   ...                 ...   \n",
       "294    male  Sim 2021:GSM4742862_Young3_processed  14.0            Sim 2021   \n",
       "295    male  Sim 2021:GSM4742860_Young1_processed   4.0            Sim 2021   \n",
       "296    male  Sim 2021:GSM4742856_Adult3_processed  42.0            Sim 2021   \n",
       "297  female  Sim 2021:GSM4742854_Adult1_processed  35.0            Sim 2021   \n",
       "298  female  Sim 2021:GSM4742861_Young2_processed  10.0            Sim 2021   \n",
       "\n",
       "      technology age_status  \n",
       "0        Dropseq      fetal  \n",
       "1        Dropseq      fetal  \n",
       "2    Multiome-v1      fetal  \n",
       "3    Multiome-v1      fetal  \n",
       "4    Multiome-v1      fetal  \n",
       "..           ...        ...  \n",
       "294    3prime-v1  postnatal  \n",
       "295    3prime-v1  postnatal  \n",
       "296    3prime-v1  postnatal  \n",
       "297    3prime-v1  postnatal  \n",
       "298    3prime-v1  postnatal  \n",
       "\n",
       "[299 rows x 6 columns]"
      ]
     },
     "execution_count": 14,
     "metadata": {},
     "output_type": "execute_result"
    }
   ],
   "source": [
    "donor_information = ( adata.obs.reset_index(drop = True)[[\"sex\", \"donor_id\", \"age\", \"study\", \"technology\",\n",
    "                                                          \"age_status\"]]\n",
    "                     .drop_duplicates()\n",
    "                     .reset_index(drop = True) )\n",
    "donor_information"
   ]
  },
  {
   "cell_type": "code",
   "execution_count": 16,
   "id": "433b64a9-1300-4dd8-b672-34e77b221fed",
   "metadata": {},
   "outputs": [
    {
     "data": {
      "image/png": "[encoded data removed]",
      "text/plain": [
       "<Figure size 640x480 with 1 Axes>"
      ]
     },
     "metadata": {},
     "output_type": "display_data"
    }
   ],
   "source": [
    "plt.hist(donor_information['age'], bins = 30)\n",
    "plt.xlabel(\"age\")\n",
    "plt.ylabel(\"count\")\n",
    "plt.show()"
   ]
  },
  {
   "cell_type": "code",
   "execution_count": 17,
   "id": "eeffa197-7688-40fa-ade8-8d34000a5fb9",
   "metadata": {},
   "outputs": [
    {
     "name": "stderr",
     "output_type": "stream",
     "text": [
      "/home/william/anaconda3/envs/r-kernel/lib/python3.12/site-packages/seaborn/categorical.py:3399: UserWarning: 9.1% of the points cannot be placed; you may want to decrease the size of the markers or use stripplot.\n",
      "  warnings.warn(msg, UserWarning)\n",
      "/home/william/anaconda3/envs/r-kernel/lib/python3.12/site-packages/seaborn/categorical.py:3399: UserWarning: 7.1% of the points cannot be placed; you may want to decrease the size of the markers or use stripplot.\n",
      "  warnings.warn(msg, UserWarning)\n",
      "/home/william/anaconda3/envs/r-kernel/lib/python3.12/site-packages/seaborn/categorical.py:3399: UserWarning: 62.7% of the points cannot be placed; you may want to decrease the size of the markers or use stripplot.\n",
      "  warnings.warn(msg, UserWarning)\n"
     ]
    },
    {
     "data": {
      "text/plain": [
       "<matplotlib.legend.Legend at 0x7f10faedf7d0>"
      ]
     },
     "execution_count": 17,
     "metadata": {},
     "output_type": "execute_result"
    },
    {
     "data": {
      "image/png": "[encoded data removed]",
      "text/plain": [
       "<Figure size 640x480 with 1 Axes>"
      ]
     },
     "metadata": {},
     "output_type": "display_data"
    }
   ],
   "source": [
    "sns.swarmplot(data = donor_information, x='age', y='study', hue = 'sex', alpha=1)\n",
    "plt.legend(bbox_to_anchor=(1.05, 1), loc='upper left')"
   ]
  },
  {
   "cell_type": "markdown",
   "id": "5df7f242-babf-4dda-9d2f-311a91b72791",
   "metadata": {},
   "source": [
    "#### Add metadata\n",
    "\n",
    "- tech_plus_study\n",
    "- disease_binary\n",
    "- age_group\n",
    "- decade"
   ]
  },
  {
   "cell_type": "code",
   "execution_count": 18,
   "id": "3fab2347-26a7-46ce-92a9-5874984441a9",
   "metadata": {},
   "outputs": [],
   "source": [
    "adata.obs['tech_plus_study'] = adata.obs['technology'].astype(str) + \"_\" + adata.obs['study'].astype(str)"
   ]
  },
  {
   "cell_type": "code",
   "execution_count": 19,
   "id": "24ec2c28-c1e6-45ad-9bdd-c43be25bbc06",
   "metadata": {},
   "outputs": [],
   "source": [
    "adata.obs['disease_binary'] = np.where(adata.obs['disease'] == \"ND\", \"N\", \"Y\")"
   ]
  },
  {
   "cell_type": "code",
   "execution_count": 20,
   "id": "20c3e06a-c950-4a84-99c3-8884cd265009",
   "metadata": {},
   "outputs": [],
   "source": [
    "adata.obs['decade'] = np.floor(adata.obs['age'])"
   ]
  },
  {
   "cell_type": "code",
   "execution_count": 21,
   "id": "e8cced45-7ff5-4a23-bb4b-10e4822967e2",
   "metadata": {},
   "outputs": [
    {
     "data": {
      "text/plain": [
       "Counter({'N': 1758433, 'Y': 1165503})"
      ]
     },
     "execution_count": 21,
     "metadata": {},
     "output_type": "execute_result"
    }
   ],
   "source": [
    "Counter(adata.obs['disease_binary'])"
   ]
  },
  {
   "cell_type": "code",
   "execution_count": 22,
   "id": "dd906906-2d4b-452a-9235-dd02129f7674",
   "metadata": {},
   "outputs": [],
   "source": [
    "def get_age_group(age):\n",
    "    '''\n",
    "    Add age group to categorize age into three discrete categories based on the decade of donor\n",
    "    '''\n",
    "    if age < 40:\n",
    "        age_group = \"young\"\n",
    "    elif (age >= 40) & (age < 60):\n",
    "        age_group = \"middle\"\n",
    "    elif (age >= 60):\n",
    "        age_group = \"old\"\n",
    "    return(age_group)"
   ]
  },
  {
   "cell_type": "code",
   "execution_count": 23,
   "id": "0897a9a5-d33b-4f5e-8426-0f464a866a68",
   "metadata": {},
   "outputs": [],
   "source": [
    "adata.obs['age_group'] = adata.obs['age'].apply(lambda x: get_age_group(x))\n",
    "\n",
    "# set fetal as an age group\n",
    "adata.obs.loc[adata.obs.age_status == \"fetal\", 'age_group'] = \"fetal\""
   ]
  },
  {
   "cell_type": "code",
   "execution_count": 24,
   "id": "e8b2261a-b8bb-45a6-997c-e2108267a595",
   "metadata": {},
   "outputs": [
    {
     "data": {
      "text/plain": [
       "Counter({'middle': 1336871, 'old': 925757, 'young': 511147, 'fetal': 150161})"
      ]
     },
     "execution_count": 24,
     "metadata": {},
     "output_type": "execute_result"
    }
   ],
   "source": [
    "Counter(adata.obs.age_group)"
   ]
  },
  {
   "cell_type": "code",
   "execution_count": 25,
   "id": "cd961899-deb9-4bfe-b881-9910a48d3136",
   "metadata": {},
   "outputs": [],
   "source": [
    "# set the adata.X as the raw counts\n",
    "adata.layers['counts'] = adata.X"
   ]
  },
  {
   "cell_type": "code",
   "execution_count": 26,
   "id": "c6de04d6-5343-42e1-bbc7-726b11b9a50b",
   "metadata": {},
   "outputs": [
    {
     "data": {
      "text/html": [
       "<div>\n",
       "<style scoped>\n",
       "    .dataframe tbody tr th:only-of-type {\n",
       "        vertical-align: middle;\n",
       "    }\n",
       "\n",
       "    .dataframe tbody tr th {\n",
       "        vertical-align: top;\n",
       "    }\n",
       "\n",
       "    .dataframe thead th {\n",
       "        text-align: right;\n",
       "    }\n",
       "</style>\n",
       "<table border=\"1\" class=\"dataframe\">\n",
       "  <thead>\n",
       "    <tr style=\"text-align: right;\">\n",
       "      <th></th>\n",
       "      <th>age</th>\n",
       "      <th>donor_id</th>\n",
       "      <th>sex</th>\n",
       "      <th>region</th>\n",
       "      <th>cell_type</th>\n",
       "      <th>disease</th>\n",
       "      <th>consistent_cell_type</th>\n",
       "      <th>study</th>\n",
       "      <th>technology</th>\n",
       "      <th>cell_or_nuclei</th>\n",
       "      <th>barcode</th>\n",
       "      <th>sample_id</th>\n",
       "      <th>age_status</th>\n",
       "      <th>tech_plus_study</th>\n",
       "      <th>disease_binary</th>\n",
       "      <th>decade</th>\n",
       "      <th>age_group</th>\n",
       "    </tr>\n",
       "  </thead>\n",
       "  <tbody>\n",
       "    <tr>\n",
       "      <th>Fetal-1st-LV-0315-2-run1n2:AAAAAAACTGGC</th>\n",
       "      <td>18.0</td>\n",
       "      <td>Penn:Penn_F1</td>\n",
       "      <td>female</td>\n",
       "      <td>LV</td>\n",
       "      <td>Cardiomyocyte</td>\n",
       "      <td>ND</td>\n",
       "      <td>Cardiomyocyte</td>\n",
       "      <td>Penn</td>\n",
       "      <td>Dropseq</td>\n",
       "      <td>Nuclei</td>\n",
       "      <td>AAAAAAACTGGC</td>\n",
       "      <td>Fetal-1st-LV-0315-2-run1n2</td>\n",
       "      <td>fetal</td>\n",
       "      <td>Dropseq_Penn</td>\n",
       "      <td>N</td>\n",
       "      <td>18.0</td>\n",
       "      <td>fetal</td>\n",
       "    </tr>\n",
       "    <tr>\n",
       "      <th>Fetal-1st-LV-0315-2-run1n2:AAAAAAGCCCCT</th>\n",
       "      <td>18.0</td>\n",
       "      <td>Penn:Penn_F1</td>\n",
       "      <td>female</td>\n",
       "      <td>LV</td>\n",
       "      <td>Cardiomyocyte</td>\n",
       "      <td>ND</td>\n",
       "      <td>Cardiomyocyte</td>\n",
       "      <td>Penn</td>\n",
       "      <td>Dropseq</td>\n",
       "      <td>Nuclei</td>\n",
       "      <td>AAAAAAGCCCCT</td>\n",
       "      <td>Fetal-1st-LV-0315-2-run1n2</td>\n",
       "      <td>fetal</td>\n",
       "      <td>Dropseq_Penn</td>\n",
       "      <td>N</td>\n",
       "      <td>18.0</td>\n",
       "      <td>fetal</td>\n",
       "    </tr>\n",
       "    <tr>\n",
       "      <th>Fetal-1st-LV-0315-2-run1n2:AAAAAAGGGCGG</th>\n",
       "      <td>18.0</td>\n",
       "      <td>Penn:Penn_F1</td>\n",
       "      <td>female</td>\n",
       "      <td>LV</td>\n",
       "      <td>Cardiomyocyte</td>\n",
       "      <td>ND</td>\n",
       "      <td>Cardiomyocyte</td>\n",
       "      <td>Penn</td>\n",
       "      <td>Dropseq</td>\n",
       "      <td>Nuclei</td>\n",
       "      <td>AAAAAAGGGCGG</td>\n",
       "      <td>Fetal-1st-LV-0315-2-run1n2</td>\n",
       "      <td>fetal</td>\n",
       "      <td>Dropseq_Penn</td>\n",
       "      <td>N</td>\n",
       "      <td>18.0</td>\n",
       "      <td>fetal</td>\n",
       "    </tr>\n",
       "    <tr>\n",
       "      <th>Fetal-1st-LV-0315-2-run1n2:AAAAAGAAATCC</th>\n",
       "      <td>18.0</td>\n",
       "      <td>Penn:Penn_F1</td>\n",
       "      <td>female</td>\n",
       "      <td>LV</td>\n",
       "      <td>Cardiomyocyte</td>\n",
       "      <td>ND</td>\n",
       "      <td>Cardiomyocyte</td>\n",
       "      <td>Penn</td>\n",
       "      <td>Dropseq</td>\n",
       "      <td>Nuclei</td>\n",
       "      <td>AAAAAGAAATCC</td>\n",
       "      <td>Fetal-1st-LV-0315-2-run1n2</td>\n",
       "      <td>fetal</td>\n",
       "      <td>Dropseq_Penn</td>\n",
       "      <td>N</td>\n",
       "      <td>18.0</td>\n",
       "      <td>fetal</td>\n",
       "    </tr>\n",
       "    <tr>\n",
       "      <th>Fetal-1st-LV-0315-2-run1n2:AAAAAGACTCTT</th>\n",
       "      <td>18.0</td>\n",
       "      <td>Penn:Penn_F1</td>\n",
       "      <td>female</td>\n",
       "      <td>LV</td>\n",
       "      <td>Endothelial</td>\n",
       "      <td>ND</td>\n",
       "      <td>Endothelial</td>\n",
       "      <td>Penn</td>\n",
       "      <td>Dropseq</td>\n",
       "      <td>Nuclei</td>\n",
       "      <td>AAAAAGACTCTT</td>\n",
       "      <td>Fetal-1st-LV-0315-2-run1n2</td>\n",
       "      <td>fetal</td>\n",
       "      <td>Dropseq_Penn</td>\n",
       "      <td>N</td>\n",
       "      <td>18.0</td>\n",
       "      <td>fetal</td>\n",
       "    </tr>\n",
       "  </tbody>\n",
       "</table>\n",
       "</div>"
      ],
      "text/plain": [
       "                                          age      donor_id     sex region  \\\n",
       "Fetal-1st-LV-0315-2-run1n2:AAAAAAACTGGC  18.0  Penn:Penn_F1  female     LV   \n",
       "Fetal-1st-LV-0315-2-run1n2:AAAAAAGCCCCT  18.0  Penn:Penn_F1  female     LV   \n",
       "Fetal-1st-LV-0315-2-run1n2:AAAAAAGGGCGG  18.0  Penn:Penn_F1  female     LV   \n",
       "Fetal-1st-LV-0315-2-run1n2:AAAAAGAAATCC  18.0  Penn:Penn_F1  female     LV   \n",
       "Fetal-1st-LV-0315-2-run1n2:AAAAAGACTCTT  18.0  Penn:Penn_F1  female     LV   \n",
       "\n",
       "                                             cell_type disease  \\\n",
       "Fetal-1st-LV-0315-2-run1n2:AAAAAAACTGGC  Cardiomyocyte      ND   \n",
       "Fetal-1st-LV-0315-2-run1n2:AAAAAAGCCCCT  Cardiomyocyte      ND   \n",
       "Fetal-1st-LV-0315-2-run1n2:AAAAAAGGGCGG  Cardiomyocyte      ND   \n",
       "Fetal-1st-LV-0315-2-run1n2:AAAAAGAAATCC  Cardiomyocyte      ND   \n",
       "Fetal-1st-LV-0315-2-run1n2:AAAAAGACTCTT    Endothelial      ND   \n",
       "\n",
       "                                        consistent_cell_type study technology  \\\n",
       "Fetal-1st-LV-0315-2-run1n2:AAAAAAACTGGC        Cardiomyocyte  Penn    Dropseq   \n",
       "Fetal-1st-LV-0315-2-run1n2:AAAAAAGCCCCT        Cardiomyocyte  Penn    Dropseq   \n",
       "Fetal-1st-LV-0315-2-run1n2:AAAAAAGGGCGG        Cardiomyocyte  Penn    Dropseq   \n",
       "Fetal-1st-LV-0315-2-run1n2:AAAAAGAAATCC        Cardiomyocyte  Penn    Dropseq   \n",
       "Fetal-1st-LV-0315-2-run1n2:AAAAAGACTCTT          Endothelial  Penn    Dropseq   \n",
       "\n",
       "                                        cell_or_nuclei       barcode  \\\n",
       "Fetal-1st-LV-0315-2-run1n2:AAAAAAACTGGC         Nuclei  AAAAAAACTGGC   \n",
       "Fetal-1st-LV-0315-2-run1n2:AAAAAAGCCCCT         Nuclei  AAAAAAGCCCCT   \n",
       "Fetal-1st-LV-0315-2-run1n2:AAAAAAGGGCGG         Nuclei  AAAAAAGGGCGG   \n",
       "Fetal-1st-LV-0315-2-run1n2:AAAAAGAAATCC         Nuclei  AAAAAGAAATCC   \n",
       "Fetal-1st-LV-0315-2-run1n2:AAAAAGACTCTT         Nuclei  AAAAAGACTCTT   \n",
       "\n",
       "                                                          sample_id  \\\n",
       "Fetal-1st-LV-0315-2-run1n2:AAAAAAACTGGC  Fetal-1st-LV-0315-2-run1n2   \n",
       "Fetal-1st-LV-0315-2-run1n2:AAAAAAGCCCCT  Fetal-1st-LV-0315-2-run1n2   \n",
       "Fetal-1st-LV-0315-2-run1n2:AAAAAAGGGCGG  Fetal-1st-LV-0315-2-run1n2   \n",
       "Fetal-1st-LV-0315-2-run1n2:AAAAAGAAATCC  Fetal-1st-LV-0315-2-run1n2   \n",
       "Fetal-1st-LV-0315-2-run1n2:AAAAAGACTCTT  Fetal-1st-LV-0315-2-run1n2   \n",
       "\n",
       "                                        age_status tech_plus_study  \\\n",
       "Fetal-1st-LV-0315-2-run1n2:AAAAAAACTGGC      fetal    Dropseq_Penn   \n",
       "Fetal-1st-LV-0315-2-run1n2:AAAAAAGCCCCT      fetal    Dropseq_Penn   \n",
       "Fetal-1st-LV-0315-2-run1n2:AAAAAAGGGCGG      fetal    Dropseq_Penn   \n",
       "Fetal-1st-LV-0315-2-run1n2:AAAAAGAAATCC      fetal    Dropseq_Penn   \n",
       "Fetal-1st-LV-0315-2-run1n2:AAAAAGACTCTT      fetal    Dropseq_Penn   \n",
       "\n",
       "                                        disease_binary  decade age_group  \n",
       "Fetal-1st-LV-0315-2-run1n2:AAAAAAACTGGC              N    18.0     fetal  \n",
       "Fetal-1st-LV-0315-2-run1n2:AAAAAAGCCCCT              N    18.0     fetal  \n",
       "Fetal-1st-LV-0315-2-run1n2:AAAAAAGGGCGG              N    18.0     fetal  \n",
       "Fetal-1st-LV-0315-2-run1n2:AAAAAGAAATCC              N    18.0     fetal  \n",
       "Fetal-1st-LV-0315-2-run1n2:AAAAAGACTCTT              N    18.0     fetal  "
      ]
     },
     "execution_count": 26,
     "metadata": {},
     "output_type": "execute_result"
    }
   ],
   "source": [
    "adata.obs.head()"
   ]
  },
  {
   "cell_type": "code",
   "execution_count": 27,
   "id": "ab3d4a91-6193-4d05-b245-e657c8ecfa43",
   "metadata": {},
   "outputs": [
    {
     "name": "stdout",
     "output_type": "stream",
     "text": [
      "CPU times: user 33.3 s, sys: 1min 36s, total: 2min 10s\n",
      "Wall time: 2min 16s\n"
     ]
    }
   ],
   "source": [
    "%%time\n",
    "adata.write(\"03_combined_all_snRNA.h5ad\")"
   ]
  }
 ],
 "metadata": {
  "kernelspec": {
   "display_name": "Python 3 (ipykernel)",
   "language": "python",
   "name": "python3"
  },
  "language_info": {
   "codemirror_mode": {
    "name": "ipython",
    "version": 3
   },
   "file_extension": ".py",
   "mimetype": "text/x-python",
   "name": "python",
   "nbconvert_exporter": "python",
   "pygments_lexer": "ipython3",
   "version": "3.12.5"
  }
 },
 "nbformat": 4,
 "nbformat_minor": 5
}

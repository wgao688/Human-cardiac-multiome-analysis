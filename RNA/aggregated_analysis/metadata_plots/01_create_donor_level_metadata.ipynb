{
 "cells": [
  {
   "cell_type": "markdown",
   "id": "26c1d92a-eef7-4c8d-8895-11fe01ed756b",
   "metadata": {},
   "source": [
    "### Get donor level metadata for plotting\n",
    "\n",
    "We will plot in ggplot() in `R` which has more aesthetic options"
   ]
  },
  {
   "cell_type": "code",
   "execution_count": 1,
   "id": "3fd45080-7872-4f57-9cad-1412420f40fa",
   "metadata": {},
   "outputs": [],
   "source": [
    "import pandas as pd\n",
    "import scanpy as sc \n",
    "import numpy as np"
   ]
  },
  {
   "cell_type": "code",
   "execution_count": null,
   "id": "9807a2e7-f204-4735-b204-97e3c63e1c58",
   "metadata": {},
   "outputs": [],
   "source": [
    "%%time\n",
    "adata = sc.read_h5ad(\"../07_final_RNA_without_scvi.h5ad\")\n",
    "adata"
   ]
  },
  {
   "cell_type": "code",
   "execution_count": null,
   "id": "a860ee1d-5c84-4e24-9892-cc52a6e9772b",
   "metadata": {},
   "outputs": [],
   "source": [
    "# extract the nuclei-level metadata\n",
    "adata_metadata = adata.obs"
   ]
  },
  {
   "cell_type": "code",
   "execution_count": null,
   "id": "377a0948-ac65-406d-baf7-86daa6b40bda",
   "metadata": {},
   "outputs": [],
   "source": [
    "adata_metadata.columns"
   ]
  },
  {
   "cell_type": "code",
   "execution_count": null,
   "id": "eede5bf3-40ec-4060-a9b4-6596e998bc19",
   "metadata": {},
   "outputs": [],
   "source": [
    "# get donor level metadata\n",
    "donor_level_metadata = adata_metadata[[\"age\", \"donor_id\", \"sex\",\n",
    "                                       \"study\", \"technology\", \"age_status\", \"age_group\", \"disease\",\n",
    "                                       \"tech_plus_study\", \"disease_binary\"]].drop_duplicates().reset_index(drop = True)"
   ]
  },
  {
   "cell_type": "code",
   "execution_count": null,
   "id": "a9b1c796-e2e6-4fca-9f13-b1e1079f8766",
   "metadata": {},
   "outputs": [],
   "source": [
    "donor_level_metadata.to_csv(\"01_donor_level_metadata.csv\")"
   ]
  }
 ],
 "metadata": {
  "kernelspec": {
   "display_name": "Python 3 (ipykernel)",
   "language": "python",
   "name": "python3"
  },
  "language_info": {
   "codemirror_mode": {
    "name": "ipython",
    "version": 3
   },
   "file_extension": ".py",
   "mimetype": "text/x-python",
   "name": "python",
   "nbconvert_exporter": "python",
   "pygments_lexer": "ipython3",
   "version": "3.12.5"
  }
 },
 "nbformat": 4,
 "nbformat_minor": 5
}

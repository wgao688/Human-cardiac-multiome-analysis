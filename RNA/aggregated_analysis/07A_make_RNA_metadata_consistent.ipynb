{
 "cells": [
  {
   "cell_type": "markdown",
   "id": "3a970f6e-9013-41e8-b40d-5944ab122ec6",
   "metadata": {},
   "source": [
    "### Make sure all of the metadata for RNA adata is correct"
   ]
  },
  {
   "cell_type": "code",
   "execution_count": 1,
   "id": "cf3a2263-1da2-4324-bc8e-6076171829ca",
   "metadata": {},
   "outputs": [],
   "source": [
    "import scanpy as sc \n",
    "import pandas as pd\n",
    "import numpy as np\n",
    "from collections import Counter"
   ]
  },
  {
   "cell_type": "code",
   "execution_count": 2,
   "id": "423cdb60-2cb6-401c-b9e9-7ae7d848ee5b",
   "metadata": {},
   "outputs": [
    {
     "name": "stdout",
     "output_type": "stream",
     "text": [
      "CPU times: user 24.3 s, sys: 2min 55s, total: 3min 20s\n",
      "Wall time: 5min 38s\n"
     ]
    },
    {
     "data": {
      "text/plain": [
       "AnnData object with n_obs × n_vars = 2305964 × 16115\n",
       "    obs: 'age', 'donor_id', 'sex', 'region', 'cell_type', 'disease', 'consistent_cell_type', 'study', 'technology', 'cell_or_nuclei', 'barcode', 'sample_id', 'age_status', 'tech_plus_study', 'disease_binary', 'decade', 'age_group', '_scvi_batch', '_scvi_labels', 'leiden_scVI', 'scvi_cell_type', 'redo_leiden_0.5', 'UMAP1', 'UMAP2', 'v2_scvi_cell_type'\n",
       "    obsm: 'X_scVI', 'X_umap', '_scvi_extra_categorical_covs'\n",
       "    layers: 'counts', 'scvi_normalized'"
      ]
     },
     "execution_count": 2,
     "metadata": {},
     "output_type": "execute_result"
    }
   ],
   "source": [
    "%%time\n",
    "adata = sc.read_h5ad(\"05E_all_snRNA_adata.h5ad\")\n",
    "adata"
   ]
  },
  {
   "cell_type": "markdown",
   "id": "8a358e0f-c529-4094-8eea-861ea2f604c2",
   "metadata": {},
   "source": [
    "#### Fix the decade column"
   ]
  },
  {
   "cell_type": "code",
   "execution_count": 3,
   "id": "35997d6e-a9c5-4714-9980-55b605e3cf6d",
   "metadata": {},
   "outputs": [],
   "source": [
    "adata.obs['decade'] = np.floor(adata.obs['age'] / 10)"
   ]
  },
  {
   "cell_type": "markdown",
   "id": "79376295-c8a0-48e7-847e-9aa0d9fb32bc",
   "metadata": {},
   "source": [
    "### Check other metadata columns"
   ]
  },
  {
   "cell_type": "code",
   "execution_count": 4,
   "id": "36c0b56a-9fe7-4864-b062-7eae8ff362f6",
   "metadata": {},
   "outputs": [
    {
     "data": {
      "text/plain": [
       "Counter({5.0: 621503,\n",
       "         6.0: 563720,\n",
       "         4.0: 465623,\n",
       "         1.0: 164857,\n",
       "         7.0: 137635,\n",
       "         2.0: 126231,\n",
       "         3.0: 113807,\n",
       "         0.0: 92942,\n",
       "         8.0: 10546,\n",
       "         9.0: 9100})"
      ]
     },
     "execution_count": 4,
     "metadata": {},
     "output_type": "execute_result"
    }
   ],
   "source": [
    "Counter(adata.obs.decade)"
   ]
  },
  {
   "cell_type": "code",
   "execution_count": 5,
   "id": "63342cf7-6ec4-488d-afc7-8fdc5983e3bc",
   "metadata": {},
   "outputs": [
    {
     "data": {
      "text/plain": [
       "Counter({'3prime-v3': 1417789,\n",
       "         'Multiome-v1': 510638,\n",
       "         '5prime-v1': 194772,\n",
       "         'Dropseq': 110943,\n",
       "         '3prime-v1': 40889,\n",
       "         '3prime-v2': 30933})"
      ]
     },
     "execution_count": 5,
     "metadata": {},
     "output_type": "execute_result"
    }
   ],
   "source": [
    "Counter(adata.obs.technology)"
   ]
  },
  {
   "cell_type": "code",
   "execution_count": 6,
   "id": "84625f7f-8561-4a8f-a6d2-5ca901967f61",
   "metadata": {},
   "outputs": [
    {
     "data": {
      "text/plain": [
       "Counter({'ND': 1212319,\n",
       "         'DCM': 564000,\n",
       "         'HCM': 225919,\n",
       "         'pediatric HF': 92121,\n",
       "         'ICM': 69611,\n",
       "         'ARVC': 67834,\n",
       "         'AMI': 66978,\n",
       "         'NCCM': 7182})"
      ]
     },
     "execution_count": 6,
     "metadata": {},
     "output_type": "execute_result"
    }
   ],
   "source": [
    "Counter(adata.obs.disease)"
   ]
  },
  {
   "cell_type": "code",
   "execution_count": 7,
   "id": "09dee180-d1a7-44b1-b12a-daa6b99db9ab",
   "metadata": {},
   "outputs": [
    {
     "data": {
      "text/plain": [
       "Counter({'N': 1212319, 'Y': 1093645})"
      ]
     },
     "execution_count": 7,
     "metadata": {},
     "output_type": "execute_result"
    }
   ],
   "source": [
    "Counter(adata.obs.disease_binary)"
   ]
  },
  {
   "cell_type": "code",
   "execution_count": 8,
   "id": "8dfc07ae-caf8-464f-a0a4-924be6801fee",
   "metadata": {},
   "outputs": [
    {
     "data": {
      "text/plain": [
       "Counter({'Chaffin 2022': 577886,\n",
       "         'ENCODE v4 (Snyder)': 484348,\n",
       "         'Reichart 2022': 444406,\n",
       "         'Koenig 2022': 194772,\n",
       "         'Kuppe 2022': 140044,\n",
       "         'Penn': 110943,\n",
       "         'Hill 2022': 109479,\n",
       "         'Simonson 2023': 94803,\n",
       "         'Litvinukova 2020': 82104,\n",
       "         'Sim 2021': 40889,\n",
       "         'Kanemaru 2023': 26290})"
      ]
     },
     "execution_count": 8,
     "metadata": {},
     "output_type": "execute_result"
    }
   ],
   "source": [
    "Counter(adata.obs.study)"
   ]
  },
  {
   "cell_type": "code",
   "execution_count": 9,
   "id": "4bb404f5-0302-41d3-9e1f-73ec4bb01e9a",
   "metadata": {},
   "outputs": [
    {
     "data": {
      "text/plain": [
       "Counter({'LV': 2262239, 'WH': 23325, 'OFT': 12392, 'Atria': 6887, 'LRV': 1121})"
      ]
     },
     "execution_count": 9,
     "metadata": {},
     "output_type": "execute_result"
    }
   ],
   "source": [
    "Counter(adata.obs.region)"
   ]
  },
  {
   "cell_type": "code",
   "execution_count": 10,
   "id": "7f3a2402-8d7a-40de-9a98-483bcc5d5e6b",
   "metadata": {},
   "outputs": [
    {
     "data": {
      "text/plain": [
       "Counter({'male': 1430372, 'female': 875592})"
      ]
     },
     "execution_count": 10,
     "metadata": {},
     "output_type": "execute_result"
    }
   ],
   "source": [
    "Counter(adata.obs.sex)"
   ]
  },
  {
   "cell_type": "code",
   "execution_count": 11,
   "id": "8c714d09-8fc5-4db9-b25c-3a266f2cc3af",
   "metadata": {},
   "outputs": [
    {
     "data": {
      "text/plain": [
       "Counter({'middle': 1087126, 'old': 721001, 'young': 426890, 'fetal': 70947})"
      ]
     },
     "execution_count": 11,
     "metadata": {},
     "output_type": "execute_result"
    }
   ],
   "source": [
    "Counter(adata.obs.age_group)"
   ]
  },
  {
   "cell_type": "code",
   "execution_count": 12,
   "id": "486704d6-d8ad-493d-acb6-8af9de68ec13",
   "metadata": {},
   "outputs": [
    {
     "data": {
      "text/plain": [
       "Counter({'3prime-v3_Chaffin 2022': 577886,\n",
       "         'Multiome-v1_ENCODE v4 (Snyder)': 484348,\n",
       "         '3prime-v3_Reichart 2022': 444406,\n",
       "         '5prime-v1_Koenig 2022': 194772,\n",
       "         '3prime-v3_Kuppe 2022': 140044,\n",
       "         'Dropseq_Penn': 110943,\n",
       "         '3prime-v3_Hill 2022': 109479,\n",
       "         '3prime-v3_Simonson 2023': 94803,\n",
       "         '3prime-v3_Litvinukova 2020': 51171,\n",
       "         '3prime-v1_Sim 2021': 40889,\n",
       "         '3prime-v2_Litvinukova 2020': 30933,\n",
       "         'Multiome-v1_Kanemaru 2023': 26290})"
      ]
     },
     "execution_count": 12,
     "metadata": {},
     "output_type": "execute_result"
    }
   ],
   "source": [
    "Counter(adata.obs.tech_plus_study)"
   ]
  },
  {
   "cell_type": "markdown",
   "id": "a68f49aa-2161-4c8d-a444-0624f8037878",
   "metadata": {},
   "source": [
    "#### Assign `v2_scvi_cell_type` as `final_cell_type`"
   ]
  },
  {
   "cell_type": "code",
   "execution_count": 13,
   "id": "beea6a18-538e-4942-8a3b-d2a9a013d792",
   "metadata": {},
   "outputs": [],
   "source": [
    "adata.obs['final_cell_type'] = adata.obs['v2_scvi_cell_type']"
   ]
  },
  {
   "cell_type": "code",
   "execution_count": 14,
   "id": "903ded73-4292-41e8-9a8a-8ff02fd2eb24",
   "metadata": {},
   "outputs": [
    {
     "data": {
      "text/plain": [
       "AnnData object with n_obs × n_vars = 2305964 × 16115\n",
       "    obs: 'age', 'donor_id', 'sex', 'region', 'cell_type', 'disease', 'consistent_cell_type', 'study', 'technology', 'cell_or_nuclei', 'barcode', 'sample_id', 'age_status', 'tech_plus_study', 'disease_binary', 'decade', 'age_group', '_scvi_batch', '_scvi_labels', 'leiden_scVI', 'scvi_cell_type', 'redo_leiden_0.5', 'UMAP1', 'UMAP2', 'v2_scvi_cell_type', 'final_cell_type'\n",
       "    obsm: 'X_scVI', 'X_umap', '_scvi_extra_categorical_covs'\n",
       "    layers: 'counts', 'scvi_normalized'"
      ]
     },
     "execution_count": 14,
     "metadata": {},
     "output_type": "execute_result"
    }
   ],
   "source": [
    "adata"
   ]
  },
  {
   "cell_type": "markdown",
   "id": "69e57c67-e0ab-48b2-9820-48062045a227",
   "metadata": {},
   "source": [
    "### Save this final adata, with and without scvi layer"
   ]
  },
  {
   "cell_type": "code",
   "execution_count": 15,
   "id": "8a7ccb52-195a-4a44-9b6e-e141f67e42c7",
   "metadata": {},
   "outputs": [
    {
     "name": "stdout",
     "output_type": "stream",
     "text": [
      "CPU times: user 47.4 s, sys: 2min 29s, total: 3min 17s\n",
      "Wall time: 3min 41s\n"
     ]
    }
   ],
   "source": [
    "%%time\n",
    "adata.write(\"07_final_RNA.h5ad\")"
   ]
  },
  {
   "cell_type": "code",
   "execution_count": 16,
   "id": "7f82b55c-b12d-42fa-8fff-c78b77fdc72b",
   "metadata": {},
   "outputs": [
    {
     "name": "stdout",
     "output_type": "stream",
     "text": [
      "CPU times: user 6.8 ms, sys: 2 s, total: 2.01 s\n",
      "Wall time: 1.98 s\n"
     ]
    }
   ],
   "source": [
    "%%time\n",
    "del adata.layers['scvi_normalized']"
   ]
  },
  {
   "cell_type": "code",
   "execution_count": 17,
   "id": "a8cd495f-2ff4-486e-b89c-e3bc691f44f8",
   "metadata": {},
   "outputs": [],
   "source": [
    "adata.write(\"07_final_RNA_without_scvi.h5ad\")"
   ]
  }
 ],
 "metadata": {
  "kernelspec": {
   "display_name": "Python 3 (ipykernel)",
   "language": "python",
   "name": "python3"
  },
  "language_info": {
   "codemirror_mode": {
    "name": "ipython",
    "version": 3
   },
   "file_extension": ".py",
   "mimetype": "text/x-python",
   "name": "python",
   "nbconvert_exporter": "python",
   "pygments_lexer": "ipython3",
   "version": "3.12.5"
  }
 },
 "nbformat": 4,
 "nbformat_minor": 5
}

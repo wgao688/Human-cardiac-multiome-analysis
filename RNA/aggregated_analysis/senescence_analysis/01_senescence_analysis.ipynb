{
 "cells": [
  {
   "cell_type": "markdown",
   "id": "81fb88af-c632-409c-93d1-e19394cbe668",
   "metadata": {},
   "source": [
    "#### Calculate SenMayo and R-HSA-2559583 score for genes\n",
    "\n",
    "SenMayo paper claims that their gene set is more robust for detecting senescent cells than R-HSA-2559583. We will calculate senescence scores for each individual cell type. We will then pseudobulk to get the mean senescence score at the donor level and perform covariate modeling to account for batch effects."
   ]
  },
  {
   "cell_type": "code",
   "execution_count": 1,
   "id": "56442755-4bae-49b8-bd6e-ab851739ea44",
   "metadata": {},
   "outputs": [],
   "source": [
    "import pandas as pd\n",
    "import numpy as np\n",
    "import scanpy as sc\n",
    "import seaborn as sns\n",
    "import matplotlib.pyplot as plt\n",
    "from scipy.stats import spearmanr\n",
    "import statsmodels.stats.multitest as smm\n",
    "from statsmodels.stats.multitest import multipletests\n",
    "import statsmodels.formula.api as smf"
   ]
  },
  {
   "cell_type": "code",
   "execution_count": 2,
   "id": "5c24f031-ce1b-40f5-9b0d-c816cda64b77",
   "metadata": {},
   "outputs": [
    {
     "name": "stdout",
     "output_type": "stream",
     "text": [
      "['ACVR1B', 'ANG', 'ANGPT1', 'ANGPTL4', 'AREG', 'AXL', 'BEX3', 'BMP2', 'BMP6', 'C3', 'CCL1', 'CCL13', 'CCL16', 'CCL2', 'CCL20', 'CCL24', 'CCL26', 'CCL3', 'CCL3L1', 'CCL4', 'CCL5', 'CCL7', 'CCL8', 'CD55', 'CD9', 'CSF1', 'CSF2', 'CSF2RB', 'CST4', 'CTNNB1', 'CTSB', 'CXCL1', 'CXCL10', 'CXCL12', 'CXCL16', 'CXCL2', 'CXCL3', 'CXCL8', 'CXCR2', 'DKK1', 'EDN1', 'EGF', 'EGFR', 'EREG', 'ESM1', 'ETS2', 'FAS', 'FGF1', 'FGF2', 'FGF7', 'GDF15', 'GEM', 'GMFG', 'HGF', 'HMGB1', 'ICAM1', 'ICAM3', 'IGF1', 'IGFBP1', 'IGFBP2', 'IGFBP3', 'IGFBP4', 'IGFBP5', 'IGFBP6', 'IGFBP7', 'IL10', 'IL13', 'IL15', 'IL18', 'IL1A', 'IL1B', 'IL2', 'IL32', 'IL6', 'IL6ST', 'IL7', 'INHA', 'IQGAP2', 'ITGA2', 'ITPKA', 'JUN', 'KITLG', 'LCP1', 'MIF', 'MMP1', 'MMP10', 'MMP12', 'MMP13', 'MMP14', 'MMP2', 'MMP3', 'MMP9', 'NAP1L4', 'NRG1', 'PAPPA', 'PECAM1', 'PGF', 'PIGF', 'PLAT', 'PLAU', 'PLAUR', 'PTBP1', 'PTGER2', 'PTGES', 'RPS6KA5', 'SCAMP4', 'SELPLG', 'SEMA3F', 'SERPINB4', 'SERPINE1', 'SERPINE2', 'SPP1', 'SPX', 'TIMP2', 'TNF', 'TNFRSF10C', 'TNFRSF11B', 'TNFRSF1A', 'TNFRSF1B', 'TUBGCP2', 'VEGFA', 'VEGFC', 'VGF', 'WNT16', 'WNT2']\n",
      "125\n"
     ]
    }
   ],
   "source": [
    "# open file with SenMayo gene set\n",
    "with open('SenMayo_list.txt', 'r') as file:\n",
    "    genes_string = file.read().strip()\n",
    "\n",
    "# split the string into a list for scanpy\n",
    "genes_list = genes_string.split(',')\n",
    "SenMayo_list = genes_list\n",
    "\n",
    "print(SenMayo_list)\n",
    "print(len(SenMayo_list))"
   ]
  },
  {
   "cell_type": "code",
   "execution_count": 3,
   "id": "c5e5aa12-f88e-43c1-a466-431cd0a8facf",
   "metadata": {},
   "outputs": [
    {
     "name": "stdout",
     "output_type": "stream",
     "text": [
      "['NBN', 'AGO1', 'H2BFS', 'RAD50', 'HIST2H2AC', 'TNRC6A', 'HIST1H2AJ', 'FOS', 'HIST1H2BJ', 'ANAPC7', 'IL1A', 'HMGA2', 'HIST1H2BK', 'RBBP4', 'PHC3', 'H2AFX', 'CDKN2A', 'ANAPC4', 'EHMT2', 'MIR24-2', 'EZH2', 'JUN', 'RBBP7', 'HIST1H1E', 'ACD', 'HIST1H2BC', 'MAPKAPK2', 'TERF1', 'TNIK', 'HIST1H1A', 'ANAPC2', 'CDKN1A', 'RPS6KA1', 'HIST2H3A', 'CCNA2', 'MAP2K4', 'CEBPB', 'UBE2C', 'FZR1', 'SP1', 'HIST1H2BA', 'MAPK3', 'MINK1', 'RING1', 'RELA', 'MAPK1', 'IGFBP7', 'HIST1H2BB', 'EP400', 'H3F3A', 'PHC2', 'CDC23', 'CXCL8', 'TNRC6B', 'MAPK14', 'MAP4K4', 'NFKB1', 'ERF', 'UBE2D1', 'MRE11A', 'HIST1H1C', 'CDC27', 'HIST2H2AA3', 'UBB', 'MAP2K3', 'H2AFZ', 'ETS1', 'RB1', 'CDKN1B', 'TP53', 'CDC16', 'ETS2', 'TERF2IP', 'EHMT1', 'ANAPC5', 'HIST1H2BM', 'CDK6', 'CBX4', 'LMNB1', 'UBE2E1', 'CDKN2C', 'MAPKAPK3', 'MAP2K6', 'MAP2K7', 'HIST1H2AD', 'CBX2', 'UBC', 'MOV10', 'HIST1H2BL', 'ANAPC11', 'E2F1', 'TINF2', 'HIST2H2BE', 'HIST1H2BD', 'H1F0', 'HIST1H2AB', 'CBX6', 'CDC26', 'CABIN1', 'BMI1', 'ATM', 'HIRA', 'RPS6KA3', 'IL6', 'TERF2', 'SCMH1', 'AGO3', 'MAPKAPK5', 'CCNA1', 'HIST1H2AC', 'MAPK9', 'MAP3K5', 'HIST3H3', 'POT1', 'PHC1', 'CCNE1', 'HIST1H1B', 'CDK4', 'ANAPC10', 'RPS27A', 'STAT3', 'UBA52', 'TNRC6C', 'ID1', 'MAPK8', 'HIST1H3A', 'HIST1H2BO', 'ASF1A', 'TXN', 'MIR24-1', 'HIST1H2BH', 'MDM2', 'MAPK11', 'CDKN2D', 'ANAPC1', 'H2AFB1', 'AGO4', 'MAPK10', 'E2F3', 'RNF2', 'RPS6KA2', 'CDKN2B', 'MAPK7', 'EED', 'HIST1H1D', 'UBN1', 'TFDP1', 'CCNE2', 'KDM6B', 'IFNB1', 'HIST3H2BB', 'CBX8', 'CDK2', 'HIST1H4A', 'E2F2', 'SUZ12', 'HIST1H2BN', 'HMGA1']\n"
     ]
    }
   ],
   "source": [
    "# load in the reactome senescence gene set\n",
    "reactome_senescence_list = list(pd.read_csv(\"R-HSA-2559583_list.txt\", index_col = 0)['symbol'])\n",
    "print(reactome_senescence_list)"
   ]
  },
  {
   "cell_type": "code",
   "execution_count": 4,
   "id": "a77b3b01-9182-421e-a4b2-f47595ddce15",
   "metadata": {},
   "outputs": [
    {
     "name": "stdout",
     "output_type": "stream",
     "text": [
      "CPU times: user 15.6 s, sys: 1min 12s, total: 1min 28s\n",
      "Wall time: 1min 28s\n"
     ]
    },
    {
     "data": {
      "text/plain": [
       "AnnData object with n_obs × n_vars = 2305964 × 16115\n",
       "    obs: 'age', 'donor_id', 'sex', 'region', 'cell_type', 'disease', 'consistent_cell_type', 'study', 'technology', 'cell_or_nuclei', 'barcode', 'sample_id', 'age_status', 'tech_plus_study', 'disease_binary', 'decade', 'age_group', '_scvi_batch', '_scvi_labels', 'leiden_scVI', 'scvi_cell_type', 'redo_leiden_0.5', 'UMAP1', 'UMAP2', 'v2_scvi_cell_type', 'final_cell_type'\n",
       "    obsm: 'X_scVI', 'X_umap', '_scvi_extra_categorical_covs'\n",
       "    layers: 'counts'"
      ]
     },
     "execution_count": 4,
     "metadata": {},
     "output_type": "execute_result"
    }
   ],
   "source": [
    "%%time\n",
    "adata = sc.read_h5ad(\"../07_final_RNA_without_scvi.h5ad\")\n",
    "adata"
   ]
  },
  {
   "cell_type": "markdown",
   "id": "3f3f3a84-f885-4a3d-8426-122c99c9bcb3",
   "metadata": {},
   "source": [
    "### Calculate 3 different senescence scores: \n",
    "\n",
    "- SenMayo gene set\n",
    "- p16/p21\n",
    "- R-HSA-2559583"
   ]
  },
  {
   "cell_type": "code",
   "execution_count": 5,
   "id": "65929a03-cb58-49ae-bf33-d16a19dc4221",
   "metadata": {},
   "outputs": [
    {
     "name": "stdout",
     "output_type": "stream",
     "text": [
      "WARNING: genes are not in var_names and ignored: Index(['ANG', 'BEX3', 'C3', 'CCL1', 'CCL3L1', 'CCL7', 'CSF2', 'CST4', 'CXCL8',\n",
      "       'IGFBP1', 'IL13', 'IL1A', 'IL2', 'MMP10', 'MMP12', 'MMP13', 'MMP3',\n",
      "       'PECAM1', 'SERPINB4', 'SPX', 'VGF'],\n",
      "      dtype='object')\n",
      "WARNING: genes are not in var_names and ignored: Index(['H2BFS', 'HIST2H2AC', 'HIST1H2AJ', 'HIST1H2BJ', 'IL1A', 'HIST1H2BK',\n",
      "       'H2AFX', 'MIR24-2', 'HIST1H1E', 'HIST1H2BC', 'HIST1H1A', 'HIST2H3A',\n",
      "       'HIST1H2BA', 'HIST1H2BB', 'H3F3A', 'CXCL8', 'ERF', 'MRE11A', 'HIST1H1C',\n",
      "       'HIST2H2AA3', 'H2AFZ', 'HIST1H2BM', 'HIST1H2AD', 'HIST1H2BL',\n",
      "       'HIST2H2BE', 'HIST1H2BD', 'H1F0', 'HIST1H2AB', 'HIST1H2AC', 'HIST3H3',\n",
      "       'HIST1H1B', 'HIST1H3A', 'HIST1H2BO', 'MIR24-1', 'HIST1H2BH', 'H2AFB1',\n",
      "       'HIST1H1D', 'IFNB1', 'HIST3H2BB', 'HIST1H4A', 'HIST1H2BN'],\n",
      "      dtype='object')\n",
      "CPU times: user 4min 26s, sys: 2min 56s, total: 7min 22s\n",
      "Wall time: 7min 22s\n"
     ]
    }
   ],
   "source": [
    "%%time\n",
    "sc.tl.score_genes(adata, SenMayo_list)\n",
    "adata.obs = adata.obs.rename(columns = {'score': 'SenMayo_score'})\n",
    "\n",
    "sc.tl.score_genes(adata, [\"CDKN1A\", \"CDKN2A\"])\n",
    "adata.obs = adata.obs.rename(columns = {'score': 'p16_21_score'})\n",
    "\n",
    "sc.tl.score_genes(adata, reactome_senescence_list)\n",
    "adata.obs = adata.obs.rename(columns = {'score': 'reactome_score'})"
   ]
  },
  {
   "cell_type": "code",
   "execution_count": 6,
   "id": "5d7fc7e4-3ea2-4408-9cd4-3b9f960ce647",
   "metadata": {},
   "outputs": [],
   "source": [
    "# save the adata scores\n",
    "adata_metadata = adata.obs"
   ]
  },
  {
   "cell_type": "code",
   "execution_count": 7,
   "id": "8e696a92-4a60-4148-a189-9c3157156eda",
   "metadata": {},
   "outputs": [],
   "source": [
    "#sc.pl.umap(adata, color = \"SenMayo_score\", cmap=sns.cubehelix_palette(dark=0, light=.9, as_cmap=True))"
   ]
  },
  {
   "cell_type": "code",
   "execution_count": 8,
   "id": "d82efa87-e4b4-406f-a651-d7ec3e05d92a",
   "metadata": {},
   "outputs": [],
   "source": [
    "def perform_score_regression(adata_metadata, cell_type_key, score_key, cell_type):\n",
    "    '''\n",
    "    Perform the linear regression of a senescence score (specified by score key) against the several covariates, specified by\n",
    "    covariates_list (e.g., [sex, age_group]) for a particular cell type. This function will obtain the mean senescence score \n",
    "    across all of the cells for that cell_type_key belonging to the same donor (donor_id).\n",
    "    All of these values are expected to be present within the adata_metadata (adata.obs).\n",
    "    '''\n",
    "\n",
    "    data = adata_metadata.copy()\n",
    "    data = data[data[cell_type_key] == cell_type]\n",
    "\n",
    "    # extract the relevant covariates\n",
    "    donor_level_metadata =  ( data[[\"donor_id\", \"sex\", \"tech_plus_study\", \n",
    "                                    \"age_group\", \"disease_binary\"]].drop_duplicates().reset_index(drop=True) )\n",
    "\n",
    "    # get the mean scores per donor for the senescence score, use observed=True to focus only on the donors present\n",
    "    mean_senescence_scores = data.groupby(\"donor_id\", observed=True)[score_key].mean().reset_index().rename(columns = {score_key : \"score\"})\n",
    "\n",
    "    # merge donor level metadata with the mean senescence scores for that donor\n",
    "    updated_df = donor_level_metadata.merge(mean_senescence_scores)\n",
    "    # make sure the order of the covariates is as desired; the first is the baseline \n",
    "    updated_df['sex'] = pd.Categorical(updated_df['sex'], categories=['female', 'male'], ordered=True)\n",
    "    updated_df['age_group'] = pd.Categorical(updated_df['age_group'], categories=['young', 'fetal', 'middle', 'old'], ordered=True)\n",
    "    updated_df['disease_binary'] = pd.Categorical(updated_df['disease_binary'], categories=['N', 'Y'], ordered=True)\n",
    "\n",
    "    # set up the linear regression model\n",
    "    model = smf.ols(\"score ~ sex + age_group + disease_binary + tech_plus_study\", data=updated_df)\n",
    "    result = model.fit()\n",
    "    \n",
    "    return result"
   ]
  },
  {
   "cell_type": "code",
   "execution_count": 9,
   "id": "a2d905bf-3bfb-4ca0-a2b7-810ded66eb30",
   "metadata": {},
   "outputs": [],
   "source": [
    "def extract_aging_and_disease_coefficients_and_pvalues(model_results):\n",
    "    '''Extract the coefficients for aging and disease from the model'''\n",
    "\n",
    "    # extract all coefficients and p-values\n",
    "    coefficients = model_results.params\n",
    "    pvalues = model_results.pvalues\n",
    "\n",
    "    # get the results for the desired contrasts\n",
    "    contrasts = ['age_group[T.old]', 'disease_binary[T.Y]']\n",
    "    regression_results = pd.DataFrame({\n",
    "        \"contrast\": contrasts,\n",
    "        \"coefficient\": [coefficients.get(contrast, None) for contrast in contrasts],\n",
    "        \"p_val\": [pvalues.get(contrast, None) for contrast in contrasts]\n",
    "    })\n",
    "\n",
    "    return regression_results"
   ]
  },
  {
   "cell_type": "markdown",
   "id": "8a54246e-68b1-4cff-be30-7d4de090e154",
   "metadata": {},
   "source": [
    "### Run an example for one cell type and one score"
   ]
  },
  {
   "cell_type": "code",
   "execution_count": 10,
   "id": "4ebcfc03-a1d3-4795-95d9-0b352b610457",
   "metadata": {},
   "outputs": [
    {
     "data": {
      "text/html": [
       "<div>\n",
       "<style scoped>\n",
       "    .dataframe tbody tr th:only-of-type {\n",
       "        vertical-align: middle;\n",
       "    }\n",
       "\n",
       "    .dataframe tbody tr th {\n",
       "        vertical-align: top;\n",
       "    }\n",
       "\n",
       "    .dataframe thead th {\n",
       "        text-align: right;\n",
       "    }\n",
       "</style>\n",
       "<table border=\"1\" class=\"dataframe\">\n",
       "  <thead>\n",
       "    <tr style=\"text-align: right;\">\n",
       "      <th></th>\n",
       "      <th>contrast</th>\n",
       "      <th>coefficient</th>\n",
       "      <th>p_val</th>\n",
       "    </tr>\n",
       "  </thead>\n",
       "  <tbody>\n",
       "    <tr>\n",
       "      <th>0</th>\n",
       "      <td>age_group[T.old]</td>\n",
       "      <td>0.006511</td>\n",
       "      <td>0.142509</td>\n",
       "    </tr>\n",
       "    <tr>\n",
       "      <th>1</th>\n",
       "      <td>disease_binary[T.Y]</td>\n",
       "      <td>0.003145</td>\n",
       "      <td>0.449163</td>\n",
       "    </tr>\n",
       "  </tbody>\n",
       "</table>\n",
       "</div>"
      ],
      "text/plain": [
       "              contrast  coefficient     p_val\n",
       "0     age_group[T.old]     0.006511  0.142509\n",
       "1  disease_binary[T.Y]     0.003145  0.449163"
      ]
     },
     "execution_count": 10,
     "metadata": {},
     "output_type": "execute_result"
    }
   ],
   "source": [
    "# perform regression\n",
    "cell_type_key = \"final_cell_type\"\n",
    "\n",
    "results = perform_score_regression(adata_metadata = adata_metadata, \n",
    "                         cell_type_key=cell_type_key, \n",
    "                         score_key = \"p16_21_score\",\n",
    "                         cell_type = \"Cardiomyocyte\")\n",
    "\n",
    "# extract the coefficents for aging and disease in a df\n",
    "\n",
    "extract_aging_and_disease_coefficients_and_pvalues(results)"
   ]
  },
  {
   "cell_type": "markdown",
   "id": "6f978774-8a0d-46db-abb7-a4c649b4de4d",
   "metadata": {},
   "source": [
    "### We will now iterate through all cell types and all scores"
   ]
  },
  {
   "cell_type": "code",
   "execution_count": 11,
   "id": "5df7a575-3c50-4de6-9059-b06dd2233cbc",
   "metadata": {},
   "outputs": [],
   "source": [
    "# list of all cell types\n",
    "cell_types = adata.obs[cell_type_key].unique()\n",
    "\n",
    "# list of all scores\n",
    "score_types = [\"SenMayo_score\", \"p16_21_score\", \"reactome_score\"]"
   ]
  },
  {
   "cell_type": "code",
   "execution_count": 12,
   "id": "7020436d-9407-43c5-9ebf-a4525ee303e1",
   "metadata": {},
   "outputs": [
    {
     "name": "stdout",
     "output_type": "stream",
     "text": [
      "CPU times: user 3.46 s, sys: 1.13 s, total: 4.59 s\n",
      "Wall time: 4.59 s\n"
     ]
    }
   ],
   "source": [
    "%%time \n",
    "\n",
    "# iterate through and append to growing list\n",
    "senescence_score_df_list = list()\n",
    "\n",
    "for cell_type_val in cell_types:\n",
    "    for score_type_val in score_types:\n",
    "\n",
    "        results = perform_score_regression(adata_metadata = adata_metadata, \n",
    "                         cell_type_key=cell_type_key, \n",
    "                         score_key = score_type_val,\n",
    "                         cell_type = cell_type_val)\n",
    "        \n",
    "        results_df = extract_aging_and_disease_coefficients_and_pvalues(results)\n",
    "\n",
    "        # add the cell type and score information to the df, then append it\n",
    "        results_df['cell_type'] = cell_type_val\n",
    "        results_df['score_type'] = score_type_val\n",
    "\n",
    "        senescence_score_df_list.append(results_df)"
   ]
  },
  {
   "cell_type": "code",
   "execution_count": 13,
   "id": "a6d212da-8d64-47c9-9885-ed111100eb75",
   "metadata": {},
   "outputs": [],
   "source": [
    "# combine the lists together\n",
    "senescence_score_df = pd.concat(senescence_score_df_list).reset_index(drop=True)"
   ]
  },
  {
   "cell_type": "markdown",
   "id": "9bce01dc-0348-46bd-ad2a-2deca8be89dc",
   "metadata": {},
   "source": [
    "### Perform BH correction and add this to the dataframe"
   ]
  },
  {
   "cell_type": "code",
   "execution_count": 14,
   "id": "5ee32d3f-ba9c-4fea-8546-5eedd8de2d99",
   "metadata": {},
   "outputs": [],
   "source": [
    "p_values = senescence_score_df['p_val']\n",
    "adjusted_pvals = multipletests(p_values, method='fdr_bh')[1]\n",
    "senescence_score_df['adjusted_p_val'] = adjusted_pvals"
   ]
  },
  {
   "cell_type": "code",
   "execution_count": 15,
   "id": "33c8b9af-371c-4863-8bba-c32c106950d7",
   "metadata": {},
   "outputs": [
    {
     "data": {
      "text/html": [
       "<div>\n",
       "<style scoped>\n",
       "    .dataframe tbody tr th:only-of-type {\n",
       "        vertical-align: middle;\n",
       "    }\n",
       "\n",
       "    .dataframe tbody tr th {\n",
       "        vertical-align: top;\n",
       "    }\n",
       "\n",
       "    .dataframe thead th {\n",
       "        text-align: right;\n",
       "    }\n",
       "</style>\n",
       "<table border=\"1\" class=\"dataframe\">\n",
       "  <thead>\n",
       "    <tr style=\"text-align: right;\">\n",
       "      <th></th>\n",
       "      <th>contrast</th>\n",
       "      <th>coefficient</th>\n",
       "      <th>p_val</th>\n",
       "      <th>cell_type</th>\n",
       "      <th>score_type</th>\n",
       "      <th>adjusted_p_val</th>\n",
       "    </tr>\n",
       "  </thead>\n",
       "  <tbody>\n",
       "    <tr>\n",
       "      <th>0</th>\n",
       "      <td>disease_binary[T.Y]</td>\n",
       "      <td>-0.009563</td>\n",
       "      <td>0.000118</td>\n",
       "      <td>Endothelial</td>\n",
       "      <td>SenMayo_score</td>\n",
       "      <td>0.004595</td>\n",
       "    </tr>\n",
       "    <tr>\n",
       "      <th>1</th>\n",
       "      <td>disease_binary[T.Y]</td>\n",
       "      <td>-0.034663</td>\n",
       "      <td>0.000026</td>\n",
       "      <td>vSMC</td>\n",
       "      <td>p16_21_score</td>\n",
       "      <td>0.001990</td>\n",
       "    </tr>\n",
       "    <tr>\n",
       "      <th>2</th>\n",
       "      <td>disease_binary[T.Y]</td>\n",
       "      <td>-0.009238</td>\n",
       "      <td>0.000290</td>\n",
       "      <td>Myeloid</td>\n",
       "      <td>reactome_score</td>\n",
       "      <td>0.007542</td>\n",
       "    </tr>\n",
       "  </tbody>\n",
       "</table>\n",
       "</div>"
      ],
      "text/plain": [
       "              contrast  coefficient     p_val    cell_type      score_type  \\\n",
       "0  disease_binary[T.Y]    -0.009563  0.000118  Endothelial   SenMayo_score   \n",
       "1  disease_binary[T.Y]    -0.034663  0.000026         vSMC    p16_21_score   \n",
       "2  disease_binary[T.Y]    -0.009238  0.000290      Myeloid  reactome_score   \n",
       "\n",
       "   adjusted_p_val  \n",
       "0        0.004595  \n",
       "1        0.001990  \n",
       "2        0.007542  "
      ]
     },
     "execution_count": 15,
     "metadata": {},
     "output_type": "execute_result"
    }
   ],
   "source": [
    "# visualize the significant p-values\n",
    "significant_senescence_df = senescence_score_df[senescence_score_df['adjusted_p_val'] < 0.05].reset_index(drop=True)\n",
    "significant_senescence_df.head()"
   ]
  },
  {
   "cell_type": "code",
   "execution_count": 16,
   "id": "074c4538-e2c5-481b-a8f1-f6d5f29e4f0e",
   "metadata": {},
   "outputs": [
    {
     "name": "stdout",
     "output_type": "stream",
     "text": [
      "(3, 6)\n"
     ]
    }
   ],
   "source": [
    "print(significant_senescence_df.shape)"
   ]
  },
  {
   "cell_type": "code",
   "execution_count": 17,
   "id": "05840e4a-d20d-46a8-bc94-bde93bf88591",
   "metadata": {},
   "outputs": [
    {
     "data": {
      "text/html": [
       "<div>\n",
       "<style scoped>\n",
       "    .dataframe tbody tr th:only-of-type {\n",
       "        vertical-align: middle;\n",
       "    }\n",
       "\n",
       "    .dataframe tbody tr th {\n",
       "        vertical-align: top;\n",
       "    }\n",
       "\n",
       "    .dataframe thead th {\n",
       "        text-align: right;\n",
       "    }\n",
       "</style>\n",
       "<table border=\"1\" class=\"dataframe\">\n",
       "  <thead>\n",
       "    <tr style=\"text-align: right;\">\n",
       "      <th></th>\n",
       "      <th>contrast</th>\n",
       "      <th>coefficient</th>\n",
       "      <th>p_val</th>\n",
       "      <th>cell_type</th>\n",
       "      <th>score_type</th>\n",
       "      <th>adjusted_p_val</th>\n",
       "    </tr>\n",
       "  </thead>\n",
       "  <tbody>\n",
       "    <tr>\n",
       "      <th>1</th>\n",
       "      <td>disease_binary[T.Y]</td>\n",
       "      <td>-0.034663</td>\n",
       "      <td>0.000026</td>\n",
       "      <td>vSMC</td>\n",
       "      <td>p16_21_score</td>\n",
       "      <td>0.001990</td>\n",
       "    </tr>\n",
       "    <tr>\n",
       "      <th>0</th>\n",
       "      <td>disease_binary[T.Y]</td>\n",
       "      <td>-0.009563</td>\n",
       "      <td>0.000118</td>\n",
       "      <td>Endothelial</td>\n",
       "      <td>SenMayo_score</td>\n",
       "      <td>0.004595</td>\n",
       "    </tr>\n",
       "    <tr>\n",
       "      <th>2</th>\n",
       "      <td>disease_binary[T.Y]</td>\n",
       "      <td>-0.009238</td>\n",
       "      <td>0.000290</td>\n",
       "      <td>Myeloid</td>\n",
       "      <td>reactome_score</td>\n",
       "      <td>0.007542</td>\n",
       "    </tr>\n",
       "  </tbody>\n",
       "</table>\n",
       "</div>"
      ],
      "text/plain": [
       "              contrast  coefficient     p_val    cell_type      score_type  \\\n",
       "1  disease_binary[T.Y]    -0.034663  0.000026         vSMC    p16_21_score   \n",
       "0  disease_binary[T.Y]    -0.009563  0.000118  Endothelial   SenMayo_score   \n",
       "2  disease_binary[T.Y]    -0.009238  0.000290      Myeloid  reactome_score   \n",
       "\n",
       "   adjusted_p_val  \n",
       "1        0.001990  \n",
       "0        0.004595  \n",
       "2        0.007542  "
      ]
     },
     "execution_count": 17,
     "metadata": {},
     "output_type": "execute_result"
    }
   ],
   "source": [
    "# filter to disease related, and sort by coefficient\n",
    "significant_senescence_df[significant_senescence_df['contrast'] == \"disease_binary[T.Y]\"].sort_values(by = \"coefficient\")"
   ]
  },
  {
   "cell_type": "code",
   "execution_count": 18,
   "id": "a0f7fa7c-6e1e-4196-b0ac-3d3c5dc2a67b",
   "metadata": {},
   "outputs": [
    {
     "data": {
      "text/html": [
       "<div>\n",
       "<style scoped>\n",
       "    .dataframe tbody tr th:only-of-type {\n",
       "        vertical-align: middle;\n",
       "    }\n",
       "\n",
       "    .dataframe tbody tr th {\n",
       "        vertical-align: top;\n",
       "    }\n",
       "\n",
       "    .dataframe thead th {\n",
       "        text-align: right;\n",
       "    }\n",
       "</style>\n",
       "<table border=\"1\" class=\"dataframe\">\n",
       "  <thead>\n",
       "    <tr style=\"text-align: right;\">\n",
       "      <th></th>\n",
       "      <th>contrast</th>\n",
       "      <th>coefficient</th>\n",
       "      <th>p_val</th>\n",
       "      <th>cell_type</th>\n",
       "      <th>score_type</th>\n",
       "      <th>adjusted_p_val</th>\n",
       "    </tr>\n",
       "  </thead>\n",
       "  <tbody>\n",
       "  </tbody>\n",
       "</table>\n",
       "</div>"
      ],
      "text/plain": [
       "Empty DataFrame\n",
       "Columns: [contrast, coefficient, p_val, cell_type, score_type, adjusted_p_val]\n",
       "Index: []"
      ]
     },
     "execution_count": 18,
     "metadata": {},
     "output_type": "execute_result"
    }
   ],
   "source": [
    "# filter to disease related, and sort by coefficient\n",
    "significant_senescence_df[significant_senescence_df['contrast'] == \"age_group[T.old]\"].sort_values(by = \"coefficient\")"
   ]
  },
  {
   "cell_type": "markdown",
   "id": "9391a903-103f-41bc-85b1-edd80106b7bf",
   "metadata": {},
   "source": [
    "### Conclusion: not many significant disease or aging associations across cell types. \n",
    "\n",
    "- There are no significant association with aging after multiple hypothesis correction. Surprisingly, disease is associated with decreased senescence scores in most cell types."
   ]
  },
  {
   "cell_type": "code",
   "execution_count": 19,
   "id": "6a3c029c-ac98-4490-a350-ac17ad7b0fca",
   "metadata": {},
   "outputs": [],
   "source": [
    "# save as file for next script to produce ggplots\n",
    "senescence_score_df.to_csv(\"01_senescence_results.csv\")"
   ]
  }
 ],
 "metadata": {
  "kernelspec": {
   "display_name": "Python 3 (ipykernel)",
   "language": "python",
   "name": "python3"
  },
  "language_info": {
   "codemirror_mode": {
    "name": "ipython",
    "version": 3
   },
   "file_extension": ".py",
   "mimetype": "text/x-python",
   "name": "python",
   "nbconvert_exporter": "python",
   "pygments_lexer": "ipython3",
   "version": "3.12.5"
  }
 },
 "nbformat": 4,
 "nbformat_minor": 5
}

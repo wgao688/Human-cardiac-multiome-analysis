{
 "cells": [
  {
   "cell_type": "markdown",
   "id": "f9ca8859-9f64-4651-8834-d5d36baa0645",
   "metadata": {},
   "source": [
    "### Obtain the senescence gene set from the Reactome pathway \n",
    "\n",
    "- Converts dictionary to list for https://maayanlab.cloud/Harmonizome/gene_set/Cellular+Senescence/Reactome+Pathways\n",
    "\thttp://www.reactome.org/PathwayBrowser/#/R-HSA-2559583"
   ]
  },
  {
   "cell_type": "code",
   "execution_count": 1,
   "id": "8cff7b46-09c8-4e3b-a8cc-fc10419e94b8",
   "metadata": {},
   "outputs": [],
   "source": [
    "import pandas as pd\n",
    "import json"
   ]
  },
  {
   "cell_type": "code",
   "execution_count": 2,
   "id": "709b0b34-0402-4252-a35e-30a192cc83cb",
   "metadata": {},
   "outputs": [],
   "source": [
    "# load in the json file, loading into dictionary\n",
    "file_path = \"Senescence_Gene_Set_dict.txt\"\n",
    "with open(file_path, 'r') as file:\n",
    "    data = json.load(file)"
   ]
  },
  {
   "cell_type": "code",
   "execution_count": 3,
   "id": "e800575d-48a9-4882-9494-c4c9965b1f66",
   "metadata": {},
   "outputs": [],
   "source": [
    "# extract the 'associations' part of this dictionary\n",
    "associations = data['associations']"
   ]
  },
  {
   "cell_type": "code",
   "execution_count": null,
   "id": "5a593bbe-f384-4ed9-8cfc-5ca495b1eefb",
   "metadata": {},
   "outputs": [],
   "source": [
    "# create df from the associations\n",
    "df = pd.DataFrame(associations)\n",
    "# expand the 'gene' column into separate columns\n",
    "gene_df = df['gene'].apply(pd.Series)"
   ]
  },
  {
   "cell_type": "code",
   "execution_count": null,
   "id": "2d4d74d7-ac10-4055-94cf-588f3f7fd13e",
   "metadata": {},
   "outputs": [],
   "source": [
    "# combine the expanded gene df with the original df\n",
    "df = pd.concat([df.drop('gene', axis=1), gene_df], axis=1)\n",
    "df['symbol'].to_csv(\"R-HSA-2559583_list.txt\")"
   ]
  }
 ],
 "metadata": {
  "kernelspec": {
   "display_name": "Python 3 (ipykernel)",
   "language": "python",
   "name": "python3"
  },
  "language_info": {
   "codemirror_mode": {
    "name": "ipython",
    "version": 3
   },
   "file_extension": ".py",
   "mimetype": "text/x-python",
   "name": "python",
   "nbconvert_exporter": "python",
   "pygments_lexer": "ipython3",
   "version": "3.12.5"
  }
 },
 "nbformat": 4,
 "nbformat_minor": 5
}

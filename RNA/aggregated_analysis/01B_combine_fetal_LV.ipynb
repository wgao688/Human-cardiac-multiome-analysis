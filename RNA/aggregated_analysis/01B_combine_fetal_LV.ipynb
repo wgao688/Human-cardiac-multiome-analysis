{
 "cells": [
  {
   "cell_type": "markdown",
   "id": "f1a1496f-b130-4255-a13c-c072af42dd3c",
   "metadata": {},
   "source": [
    "### Goal: Join all of the fetal single nucleus RNA-seq datasets\n",
    "\n",
    "The goal of this script is to join all of the external datasets and internal snRNA-seq datasets together. We will not include single cell datasets as they have significantly different transcript composition than nuclear data.\n",
    "\n",
    "In each of their individual directories, we examined the processed data of each publication using a simple scanpy preprocessing procedure with Harmony integration. As the batch effects are quite significant between different datasets, we will use scVI integration eventually to harmonize the UMAP embedding.\n",
    "\n",
    "We will combine the following datasets:\n",
    "1. Penn internal \n",
    "2. ENCODE v4 (Snyder), unpublished\n",
    "3. Sim et al. 2020"
   ]
  },
  {
   "cell_type": "markdown",
   "id": "e1c0eb1a-445a-477c-bc6b-db447d42aa67",
   "metadata": {},
   "source": [
    "### Consistent metadata across studies\n",
    "\n",
    "We will keep the follow metadata (per cell) from each of the datasets\n",
    "\n",
    "1. Donor id\n",
    "2. Donor age\n",
    "3. Donor sex\n",
    "4. Disease\n",
    "5. Technology used for library generation \n",
    "6. Cell or nuclei (should all be nuclei only)\n",
    "7. Region (e.g. chamber such as LV)\n",
    "8. Study\n",
    "9. cell_type annotation (original annotation from each study, or our annotations for Penn and ENCODE v4 dataset)\n",
    "10. consistent_cell_type (annotation from each study, but made consistent across all studies)"
   ]
  },
  {
   "cell_type": "markdown",
   "id": "7b5e0b15-62e4-43d1-9ce5-36a786ea0dc1",
   "metadata": {},
   "source": [
    "#### Import libraries"
   ]
  },
  {
   "cell_type": "code",
   "execution_count": 1,
   "id": "9aa12ef2-de39-41b1-ab8f-7c3107408919",
   "metadata": {},
   "outputs": [],
   "source": [
    "import scanpy as sc\n",
    "import anndata as adata\n",
    "import matplotlib.pyplot as plt\n",
    "import pandas as pd\n",
    "import numpy as np\n",
    "import anndata as ad\n",
    "from collections import Counter\n",
    "import seaborn as sns\n",
    "from scipy import io\n",
    "from scipy.sparse import coo_matrix, csr_matrix\n",
    "import re\n",
    "import gc\n",
    "from adjustText import adjust_text\n",
    "from sklearn.mixture import GaussianMixture"
   ]
  },
  {
   "cell_type": "code",
   "execution_count": 2,
   "id": "9c9e512a-0fb5-4390-b925-02a423d8aa3b",
   "metadata": {},
   "outputs": [],
   "source": [
    "metadata_to_keep = [\"age\", \n",
    "                    \"donor_id\", \n",
    "                    \"sex\", \n",
    "                    \"region\", \n",
    "                    \"cell_type\",\n",
    "                    \"disease\",\n",
    "                    \"consistent_cell_type\",\n",
    "                    \"study\", \n",
    "                    \"technology\", \n",
    "                    \"cell_or_nuclei\"]"
   ]
  },
  {
   "cell_type": "markdown",
   "id": "6798cb38-3402-431a-af13-eae7f4b4a6bc",
   "metadata": {},
   "source": [
    "### Sequentially load each of the datasets \n",
    "1. Confirm that the counts are the RAW counts (not normalized)"
   ]
  },
  {
   "cell_type": "code",
   "execution_count": 3,
   "id": "d2f6e720-569b-4fbb-8338-0b354ab5f470",
   "metadata": {},
   "outputs": [],
   "source": [
    "def confirm_raw_counts(adata):\n",
    "    \"\"\"\n",
    "    Check if every value in adata.X.sum(axis=1), the sum of counts across all genes per cell, is an integer.   \n",
    "\n",
    "    Parameters:\n",
    "    adata (AnnData): The AnnData object containing the data matrix (adata.X).\n",
    "\n",
    "    Returns:\n",
    "    bool: True if all sums are integers, False otherwise.\n",
    "    \"\"\"\n",
    "    # Sum across rows (axis=1), which correspond to the genes\n",
    "    sums = adata.X.sum(axis=1)\n",
    "    \n",
    "    # Check if all sums are integers by comparing them to their rounded versions\n",
    "    return np.all(np.equal(sums, np.round(sums)))"
   ]
  },
  {
   "cell_type": "markdown",
   "id": "3a620dbc-42a3-4e78-a7aa-c39927694c4e",
   "metadata": {},
   "source": [
    "#### Penn dataset"
   ]
  },
  {
   "cell_type": "code",
   "execution_count": 4,
   "id": "8b21ae59-0bde-4104-8366-3edc8354f396",
   "metadata": {},
   "outputs": [
    {
     "name": "stdout",
     "output_type": "stream",
     "text": [
      "All raw counts?: True\n",
      "CPU times: user 456 ms, sys: 716 ms, total: 1.17 s\n",
      "Wall time: 1.17 s\n"
     ]
    }
   ],
   "source": [
    "%%time\n",
    "Penn_adata = sc.read_h5ad(\"../internal_datasets/fetal_datasets/combined_analysis/03_processed_Penn_fetal.h5ad\")\n",
    "Penn_adata.X = Penn_adata.layers['counts']\n",
    "print(\"All raw counts?: \" + str (confirm_raw_counts(Penn_adata)) )\n",
    "\n",
    "# include sample_id\n",
    "Penn_adata.obs = Penn_adata.obs[metadata_to_keep + [\"sample_id\"]]"
   ]
  },
  {
   "cell_type": "code",
   "execution_count": 5,
   "id": "bec71669-ad89-45d3-a53c-89718a46a077",
   "metadata": {},
   "outputs": [
    {
     "data": {
      "text/plain": [
       "Index(['Fetal-1st-LV-0315-2-run1n2:AAAAAAACTGGC',\n",
       "       'Fetal-1st-LV-0315-2-run1n2:AAAAAAGCCCCT',\n",
       "       'Fetal-1st-LV-0315-2-run1n2:AAAAAAGGGCGG',\n",
       "       'Fetal-1st-LV-0315-2-run1n2:AAAAAGAAATCC',\n",
       "       'Fetal-1st-LV-0315-2-run1n2:AAAAAGACTCTT',\n",
       "       'Fetal-1st-LV-0315-2-run1n2:AAAAAGGGCTTA',\n",
       "       'Fetal-1st-LV-0315-2-run1n2:AAAAAGTTTTAA',\n",
       "       'Fetal-1st-LV-0315-2-run1n2:AAAACGATTTCT',\n",
       "       'Fetal-1st-LV-0315-2-run1n2:AAAACGCGAAGC',\n",
       "       'Fetal-1st-LV-0315-2-run1n2:AAAACTAGCAAT',\n",
       "       ...\n",
       "       'Fetal-2nd-OFT-2:TTTTGTCCGCCC', 'Fetal-2nd-OFT-2:TTTTGTTTACAC',\n",
       "       'Fetal-2nd-OFT-2:TTTTTAAGTGAG', 'Fetal-2nd-OFT-2:TTTTTACATAAA',\n",
       "       'Fetal-2nd-OFT-2:TTTTTACTATCT', 'Fetal-2nd-OFT-2:TTTTTAGTAGCT',\n",
       "       'Fetal-2nd-OFT-2:TTTTTATGGGTG', 'Fetal-2nd-OFT-2:TTTTTGCTTCTG',\n",
       "       'Fetal-2nd-OFT-2:TTTTTGGTTCAG', 'Fetal-2nd-OFT-2:TTTTTTGACTTG'],\n",
       "      dtype='object', name='index', length=53696)"
      ]
     },
     "execution_count": 5,
     "metadata": {},
     "output_type": "execute_result"
    }
   ],
   "source": [
    "Penn_adata.obs_names"
   ]
  },
  {
   "cell_type": "code",
   "execution_count": 6,
   "id": "733dc89f-5acf-4af1-8058-52de8881bb70",
   "metadata": {},
   "outputs": [],
   "source": [
    "Penn_adata.obs['barcode'] = Penn_adata.obs_names.str.split(\":\").str[-1]"
   ]
  },
  {
   "cell_type": "code",
   "execution_count": 7,
   "id": "19e648a5-1521-4e5f-a939-ae5ab3db146c",
   "metadata": {},
   "outputs": [],
   "source": [
    "Penn_adata.obs_names = Penn_adata.obs['sample_id'].astype(str) + \":\" + Penn_adata.obs['barcode'].astype(str)"
   ]
  },
  {
   "cell_type": "code",
   "execution_count": 8,
   "id": "6513d2d9-082c-4349-b622-515db8a92067",
   "metadata": {},
   "outputs": [
    {
     "data": {
      "text/plain": [
       "('Fetal-1st-LV-0315-2-run1n2:AAAAAAACTGGC', 1)"
      ]
     },
     "execution_count": 8,
     "metadata": {},
     "output_type": "execute_result"
    }
   ],
   "source": [
    "Counter(Penn_adata.obs_names).most_common()[0]"
   ]
  },
  {
   "cell_type": "code",
   "execution_count": 9,
   "id": "9f92b051-20c7-4c1d-9c71-1f41393e007c",
   "metadata": {},
   "outputs": [
    {
     "data": {
      "text/html": [
       "<div>\n",
       "<style scoped>\n",
       "    .dataframe tbody tr th:only-of-type {\n",
       "        vertical-align: middle;\n",
       "    }\n",
       "\n",
       "    .dataframe tbody tr th {\n",
       "        vertical-align: top;\n",
       "    }\n",
       "\n",
       "    .dataframe thead th {\n",
       "        text-align: right;\n",
       "    }\n",
       "</style>\n",
       "<table border=\"1\" class=\"dataframe\">\n",
       "  <thead>\n",
       "    <tr style=\"text-align: right;\">\n",
       "      <th></th>\n",
       "      <th>age</th>\n",
       "      <th>donor_id</th>\n",
       "      <th>sex</th>\n",
       "      <th>region</th>\n",
       "      <th>cell_type</th>\n",
       "      <th>disease</th>\n",
       "      <th>consistent_cell_type</th>\n",
       "      <th>study</th>\n",
       "      <th>technology</th>\n",
       "      <th>cell_or_nuclei</th>\n",
       "      <th>sample_id</th>\n",
       "      <th>barcode</th>\n",
       "    </tr>\n",
       "  </thead>\n",
       "  <tbody>\n",
       "    <tr>\n",
       "      <th>Fetal-1st-LV-0315-2-run1n2:AAAAAAACTGGC</th>\n",
       "      <td>18</td>\n",
       "      <td>Penn_F1</td>\n",
       "      <td>female</td>\n",
       "      <td>LV</td>\n",
       "      <td>Cardiomyocyte</td>\n",
       "      <td>ND</td>\n",
       "      <td>Cardiomyocyte</td>\n",
       "      <td>Penn</td>\n",
       "      <td>Dropseq</td>\n",
       "      <td>Nuclei</td>\n",
       "      <td>Fetal-1st-LV-0315-2-run1n2</td>\n",
       "      <td>AAAAAAACTGGC</td>\n",
       "    </tr>\n",
       "    <tr>\n",
       "      <th>Fetal-1st-LV-0315-2-run1n2:AAAAAAGCCCCT</th>\n",
       "      <td>18</td>\n",
       "      <td>Penn_F1</td>\n",
       "      <td>female</td>\n",
       "      <td>LV</td>\n",
       "      <td>Cardiomyocyte</td>\n",
       "      <td>ND</td>\n",
       "      <td>Cardiomyocyte</td>\n",
       "      <td>Penn</td>\n",
       "      <td>Dropseq</td>\n",
       "      <td>Nuclei</td>\n",
       "      <td>Fetal-1st-LV-0315-2-run1n2</td>\n",
       "      <td>AAAAAAGCCCCT</td>\n",
       "    </tr>\n",
       "    <tr>\n",
       "      <th>Fetal-1st-LV-0315-2-run1n2:AAAAAAGGGCGG</th>\n",
       "      <td>18</td>\n",
       "      <td>Penn_F1</td>\n",
       "      <td>female</td>\n",
       "      <td>LV</td>\n",
       "      <td>Cardiomyocyte</td>\n",
       "      <td>ND</td>\n",
       "      <td>Cardiomyocyte</td>\n",
       "      <td>Penn</td>\n",
       "      <td>Dropseq</td>\n",
       "      <td>Nuclei</td>\n",
       "      <td>Fetal-1st-LV-0315-2-run1n2</td>\n",
       "      <td>AAAAAAGGGCGG</td>\n",
       "    </tr>\n",
       "    <tr>\n",
       "      <th>Fetal-1st-LV-0315-2-run1n2:AAAAAGAAATCC</th>\n",
       "      <td>18</td>\n",
       "      <td>Penn_F1</td>\n",
       "      <td>female</td>\n",
       "      <td>LV</td>\n",
       "      <td>Cardiomyocyte</td>\n",
       "      <td>ND</td>\n",
       "      <td>Cardiomyocyte</td>\n",
       "      <td>Penn</td>\n",
       "      <td>Dropseq</td>\n",
       "      <td>Nuclei</td>\n",
       "      <td>Fetal-1st-LV-0315-2-run1n2</td>\n",
       "      <td>AAAAAGAAATCC</td>\n",
       "    </tr>\n",
       "    <tr>\n",
       "      <th>Fetal-1st-LV-0315-2-run1n2:AAAAAGACTCTT</th>\n",
       "      <td>18</td>\n",
       "      <td>Penn_F1</td>\n",
       "      <td>female</td>\n",
       "      <td>LV</td>\n",
       "      <td>Endothelial</td>\n",
       "      <td>ND</td>\n",
       "      <td>Endothelial</td>\n",
       "      <td>Penn</td>\n",
       "      <td>Dropseq</td>\n",
       "      <td>Nuclei</td>\n",
       "      <td>Fetal-1st-LV-0315-2-run1n2</td>\n",
       "      <td>AAAAAGACTCTT</td>\n",
       "    </tr>\n",
       "  </tbody>\n",
       "</table>\n",
       "</div>"
      ],
      "text/plain": [
       "                                         age donor_id     sex region  \\\n",
       "Fetal-1st-LV-0315-2-run1n2:AAAAAAACTGGC   18  Penn_F1  female     LV   \n",
       "Fetal-1st-LV-0315-2-run1n2:AAAAAAGCCCCT   18  Penn_F1  female     LV   \n",
       "Fetal-1st-LV-0315-2-run1n2:AAAAAAGGGCGG   18  Penn_F1  female     LV   \n",
       "Fetal-1st-LV-0315-2-run1n2:AAAAAGAAATCC   18  Penn_F1  female     LV   \n",
       "Fetal-1st-LV-0315-2-run1n2:AAAAAGACTCTT   18  Penn_F1  female     LV   \n",
       "\n",
       "                                             cell_type disease  \\\n",
       "Fetal-1st-LV-0315-2-run1n2:AAAAAAACTGGC  Cardiomyocyte      ND   \n",
       "Fetal-1st-LV-0315-2-run1n2:AAAAAAGCCCCT  Cardiomyocyte      ND   \n",
       "Fetal-1st-LV-0315-2-run1n2:AAAAAAGGGCGG  Cardiomyocyte      ND   \n",
       "Fetal-1st-LV-0315-2-run1n2:AAAAAGAAATCC  Cardiomyocyte      ND   \n",
       "Fetal-1st-LV-0315-2-run1n2:AAAAAGACTCTT    Endothelial      ND   \n",
       "\n",
       "                                        consistent_cell_type study technology  \\\n",
       "Fetal-1st-LV-0315-2-run1n2:AAAAAAACTGGC        Cardiomyocyte  Penn    Dropseq   \n",
       "Fetal-1st-LV-0315-2-run1n2:AAAAAAGCCCCT        Cardiomyocyte  Penn    Dropseq   \n",
       "Fetal-1st-LV-0315-2-run1n2:AAAAAAGGGCGG        Cardiomyocyte  Penn    Dropseq   \n",
       "Fetal-1st-LV-0315-2-run1n2:AAAAAGAAATCC        Cardiomyocyte  Penn    Dropseq   \n",
       "Fetal-1st-LV-0315-2-run1n2:AAAAAGACTCTT          Endothelial  Penn    Dropseq   \n",
       "\n",
       "                                        cell_or_nuclei  \\\n",
       "Fetal-1st-LV-0315-2-run1n2:AAAAAAACTGGC         Nuclei   \n",
       "Fetal-1st-LV-0315-2-run1n2:AAAAAAGCCCCT         Nuclei   \n",
       "Fetal-1st-LV-0315-2-run1n2:AAAAAAGGGCGG         Nuclei   \n",
       "Fetal-1st-LV-0315-2-run1n2:AAAAAGAAATCC         Nuclei   \n",
       "Fetal-1st-LV-0315-2-run1n2:AAAAAGACTCTT         Nuclei   \n",
       "\n",
       "                                                          sample_id  \\\n",
       "Fetal-1st-LV-0315-2-run1n2:AAAAAAACTGGC  Fetal-1st-LV-0315-2-run1n2   \n",
       "Fetal-1st-LV-0315-2-run1n2:AAAAAAGCCCCT  Fetal-1st-LV-0315-2-run1n2   \n",
       "Fetal-1st-LV-0315-2-run1n2:AAAAAAGGGCGG  Fetal-1st-LV-0315-2-run1n2   \n",
       "Fetal-1st-LV-0315-2-run1n2:AAAAAGAAATCC  Fetal-1st-LV-0315-2-run1n2   \n",
       "Fetal-1st-LV-0315-2-run1n2:AAAAAGACTCTT  Fetal-1st-LV-0315-2-run1n2   \n",
       "\n",
       "                                              barcode  \n",
       "Fetal-1st-LV-0315-2-run1n2:AAAAAAACTGGC  AAAAAAACTGGC  \n",
       "Fetal-1st-LV-0315-2-run1n2:AAAAAAGCCCCT  AAAAAAGCCCCT  \n",
       "Fetal-1st-LV-0315-2-run1n2:AAAAAAGGGCGG  AAAAAAGGGCGG  \n",
       "Fetal-1st-LV-0315-2-run1n2:AAAAAGAAATCC  AAAAAGAAATCC  \n",
       "Fetal-1st-LV-0315-2-run1n2:AAAAAGACTCTT  AAAAAGACTCTT  "
      ]
     },
     "execution_count": 9,
     "metadata": {},
     "output_type": "execute_result"
    }
   ],
   "source": [
    "Penn_adata.obs.head()"
   ]
  },
  {
   "cell_type": "code",
   "execution_count": 10,
   "id": "899d13ee-b014-4211-8ab1-45a971c019f7",
   "metadata": {},
   "outputs": [
    {
     "data": {
      "text/plain": [
       "Counter({'LV': 20641, 'OFT': 14613, 'Atria': 14423, 'LRV': 4019})"
      ]
     },
     "execution_count": 10,
     "metadata": {},
     "output_type": "execute_result"
    }
   ],
   "source": [
    "Counter(Penn_adata.obs.region)"
   ]
  },
  {
   "cell_type": "markdown",
   "id": "7702dc9a-396b-4324-953e-b2d2b2cf4280",
   "metadata": {},
   "source": [
    "#### ENCODE v4 (Snyder Lab)"
   ]
  },
  {
   "cell_type": "code",
   "execution_count": 11,
   "id": "d9f72758-2179-432d-a9d3-d81cae665e6f",
   "metadata": {},
   "outputs": [
    {
     "name": "stdout",
     "output_type": "stream",
     "text": [
      "All raw counts?: True\n",
      "CPU times: user 803 ms, sys: 1.48 s, total: 2.28 s\n",
      "Wall time: 2.28 s\n"
     ]
    }
   ],
   "source": [
    "%%time\n",
    "ENCODE_adata = sc.read_h5ad(\"../external_datasets/fetal_datasets/ENCODE_v4/03_reformatted_ENCODE_fetal.h5ad\")\n",
    "ENCODE_adata.X = ENCODE_adata.layers['counts']\n",
    "ENCODE_adata.obs['disease'] = \"ND\"\n",
    "print(\"All raw counts?: \" + str (confirm_raw_counts(ENCODE_adata)) )\n",
    "ENCODE_adata.obs = ENCODE_adata.obs[metadata_to_keep]"
   ]
  },
  {
   "cell_type": "code",
   "execution_count": 12,
   "id": "054abd2f-692c-491d-a35a-dabf1c44c93c",
   "metadata": {},
   "outputs": [
    {
     "data": {
      "text/html": [
       "<div>\n",
       "<style scoped>\n",
       "    .dataframe tbody tr th:only-of-type {\n",
       "        vertical-align: middle;\n",
       "    }\n",
       "\n",
       "    .dataframe tbody tr th {\n",
       "        vertical-align: top;\n",
       "    }\n",
       "\n",
       "    .dataframe thead th {\n",
       "        text-align: right;\n",
       "    }\n",
       "</style>\n",
       "<table border=\"1\" class=\"dataframe\">\n",
       "  <thead>\n",
       "    <tr style=\"text-align: right;\">\n",
       "      <th></th>\n",
       "      <th>age</th>\n",
       "      <th>donor_id</th>\n",
       "      <th>sex</th>\n",
       "      <th>region</th>\n",
       "      <th>cell_type</th>\n",
       "      <th>disease</th>\n",
       "      <th>consistent_cell_type</th>\n",
       "      <th>study</th>\n",
       "      <th>technology</th>\n",
       "      <th>cell_or_nuclei</th>\n",
       "    </tr>\n",
       "    <tr>\n",
       "      <th>index</th>\n",
       "      <th></th>\n",
       "      <th></th>\n",
       "      <th></th>\n",
       "      <th></th>\n",
       "      <th></th>\n",
       "      <th></th>\n",
       "      <th></th>\n",
       "      <th></th>\n",
       "      <th></th>\n",
       "      <th></th>\n",
       "    </tr>\n",
       "  </thead>\n",
       "  <tbody>\n",
       "    <tr>\n",
       "      <th>ENCFF802AQC:AAACAGCCAAGCTACC</th>\n",
       "      <td>13.0</td>\n",
       "      <td>ENCFF802AQC</td>\n",
       "      <td>male</td>\n",
       "      <td>WH</td>\n",
       "      <td>Cardiomyocyte</td>\n",
       "      <td>ND</td>\n",
       "      <td>Cardiomyocyte</td>\n",
       "      <td>ENCODE v4 (Snyder)</td>\n",
       "      <td>Multiome-v1</td>\n",
       "      <td>Nuclei</td>\n",
       "    </tr>\n",
       "    <tr>\n",
       "      <th>ENCFF802AQC:AAACAGCCACATTGCA</th>\n",
       "      <td>13.0</td>\n",
       "      <td>ENCFF802AQC</td>\n",
       "      <td>male</td>\n",
       "      <td>WH</td>\n",
       "      <td>Neuronal</td>\n",
       "      <td>ND</td>\n",
       "      <td>Neuronal</td>\n",
       "      <td>ENCODE v4 (Snyder)</td>\n",
       "      <td>Multiome-v1</td>\n",
       "      <td>Nuclei</td>\n",
       "    </tr>\n",
       "    <tr>\n",
       "      <th>ENCFF802AQC:AAACATGCAATCCCTT</th>\n",
       "      <td>13.0</td>\n",
       "      <td>ENCFF802AQC</td>\n",
       "      <td>male</td>\n",
       "      <td>WH</td>\n",
       "      <td>Endocardial</td>\n",
       "      <td>ND</td>\n",
       "      <td>Endocardial</td>\n",
       "      <td>ENCODE v4 (Snyder)</td>\n",
       "      <td>Multiome-v1</td>\n",
       "      <td>Nuclei</td>\n",
       "    </tr>\n",
       "    <tr>\n",
       "      <th>ENCFF802AQC:AAACATGCAGCAACAG</th>\n",
       "      <td>13.0</td>\n",
       "      <td>ENCFF802AQC</td>\n",
       "      <td>male</td>\n",
       "      <td>WH</td>\n",
       "      <td>Cardiomyocyte</td>\n",
       "      <td>ND</td>\n",
       "      <td>Cardiomyocyte</td>\n",
       "      <td>ENCODE v4 (Snyder)</td>\n",
       "      <td>Multiome-v1</td>\n",
       "      <td>Nuclei</td>\n",
       "    </tr>\n",
       "    <tr>\n",
       "      <th>ENCFF802AQC:AAACATGCAGGCGAGT</th>\n",
       "      <td>13.0</td>\n",
       "      <td>ENCFF802AQC</td>\n",
       "      <td>male</td>\n",
       "      <td>WH</td>\n",
       "      <td>Endocardial</td>\n",
       "      <td>ND</td>\n",
       "      <td>Endocardial</td>\n",
       "      <td>ENCODE v4 (Snyder)</td>\n",
       "      <td>Multiome-v1</td>\n",
       "      <td>Nuclei</td>\n",
       "    </tr>\n",
       "  </tbody>\n",
       "</table>\n",
       "</div>"
      ],
      "text/plain": [
       "                               age     donor_id   sex region      cell_type  \\\n",
       "index                                                                         \n",
       "ENCFF802AQC:AAACAGCCAAGCTACC  13.0  ENCFF802AQC  male     WH  Cardiomyocyte   \n",
       "ENCFF802AQC:AAACAGCCACATTGCA  13.0  ENCFF802AQC  male     WH       Neuronal   \n",
       "ENCFF802AQC:AAACATGCAATCCCTT  13.0  ENCFF802AQC  male     WH    Endocardial   \n",
       "ENCFF802AQC:AAACATGCAGCAACAG  13.0  ENCFF802AQC  male     WH  Cardiomyocyte   \n",
       "ENCFF802AQC:AAACATGCAGGCGAGT  13.0  ENCFF802AQC  male     WH    Endocardial   \n",
       "\n",
       "                             disease consistent_cell_type               study  \\\n",
       "index                                                                           \n",
       "ENCFF802AQC:AAACAGCCAAGCTACC      ND        Cardiomyocyte  ENCODE v4 (Snyder)   \n",
       "ENCFF802AQC:AAACAGCCACATTGCA      ND             Neuronal  ENCODE v4 (Snyder)   \n",
       "ENCFF802AQC:AAACATGCAATCCCTT      ND          Endocardial  ENCODE v4 (Snyder)   \n",
       "ENCFF802AQC:AAACATGCAGCAACAG      ND        Cardiomyocyte  ENCODE v4 (Snyder)   \n",
       "ENCFF802AQC:AAACATGCAGGCGAGT      ND          Endocardial  ENCODE v4 (Snyder)   \n",
       "\n",
       "                               technology cell_or_nuclei  \n",
       "index                                                     \n",
       "ENCFF802AQC:AAACAGCCAAGCTACC  Multiome-v1         Nuclei  \n",
       "ENCFF802AQC:AAACAGCCACATTGCA  Multiome-v1         Nuclei  \n",
       "ENCFF802AQC:AAACATGCAATCCCTT  Multiome-v1         Nuclei  \n",
       "ENCFF802AQC:AAACATGCAGCAACAG  Multiome-v1         Nuclei  \n",
       "ENCFF802AQC:AAACATGCAGGCGAGT  Multiome-v1         Nuclei  "
      ]
     },
     "execution_count": 12,
     "metadata": {},
     "output_type": "execute_result"
    }
   ],
   "source": [
    "ENCODE_adata.obs.head()"
   ]
  },
  {
   "cell_type": "code",
   "execution_count": 13,
   "id": "0d07ebdd-1df4-464b-b1ca-c7a737ca2424",
   "metadata": {},
   "outputs": [],
   "source": [
    "ENCODE_adata.obs['barcode'] = ENCODE_adata.obs_names.str.split(\":\").str[-1]\n",
    "ENCODE_adata.obs['sample_id'] = ENCODE_adata.obs['donor_id']"
   ]
  },
  {
   "cell_type": "code",
   "execution_count": 14,
   "id": "32c1c175-f0c9-4c7b-a7a8-9d1cb4326dd3",
   "metadata": {},
   "outputs": [
    {
     "data": {
      "text/plain": [
       "('ENCFF802AQC:AAACAGCCAAGCTACC', 1)"
      ]
     },
     "execution_count": 14,
     "metadata": {},
     "output_type": "execute_result"
    }
   ],
   "source": [
    "Counter(ENCODE_adata.obs_names).most_common()[0]"
   ]
  },
  {
   "cell_type": "code",
   "execution_count": 15,
   "id": "30aaa2c9-6579-44e2-bec9-79a74b0afc9c",
   "metadata": {},
   "outputs": [
    {
     "data": {
      "text/html": [
       "<div>\n",
       "<style scoped>\n",
       "    .dataframe tbody tr th:only-of-type {\n",
       "        vertical-align: middle;\n",
       "    }\n",
       "\n",
       "    .dataframe tbody tr th {\n",
       "        vertical-align: top;\n",
       "    }\n",
       "\n",
       "    .dataframe thead th {\n",
       "        text-align: right;\n",
       "    }\n",
       "</style>\n",
       "<table border=\"1\" class=\"dataframe\">\n",
       "  <thead>\n",
       "    <tr style=\"text-align: right;\">\n",
       "      <th></th>\n",
       "      <th>age</th>\n",
       "      <th>donor_id</th>\n",
       "      <th>sex</th>\n",
       "      <th>region</th>\n",
       "      <th>cell_type</th>\n",
       "      <th>disease</th>\n",
       "      <th>consistent_cell_type</th>\n",
       "      <th>study</th>\n",
       "      <th>technology</th>\n",
       "      <th>cell_or_nuclei</th>\n",
       "      <th>barcode</th>\n",
       "      <th>sample_id</th>\n",
       "    </tr>\n",
       "    <tr>\n",
       "      <th>index</th>\n",
       "      <th></th>\n",
       "      <th></th>\n",
       "      <th></th>\n",
       "      <th></th>\n",
       "      <th></th>\n",
       "      <th></th>\n",
       "      <th></th>\n",
       "      <th></th>\n",
       "      <th></th>\n",
       "      <th></th>\n",
       "      <th></th>\n",
       "      <th></th>\n",
       "    </tr>\n",
       "  </thead>\n",
       "  <tbody>\n",
       "    <tr>\n",
       "      <th>ENCFF802AQC:AAACAGCCAAGCTACC</th>\n",
       "      <td>13.0</td>\n",
       "      <td>ENCFF802AQC</td>\n",
       "      <td>male</td>\n",
       "      <td>WH</td>\n",
       "      <td>Cardiomyocyte</td>\n",
       "      <td>ND</td>\n",
       "      <td>Cardiomyocyte</td>\n",
       "      <td>ENCODE v4 (Snyder)</td>\n",
       "      <td>Multiome-v1</td>\n",
       "      <td>Nuclei</td>\n",
       "      <td>AAACAGCCAAGCTACC</td>\n",
       "      <td>ENCFF802AQC</td>\n",
       "    </tr>\n",
       "    <tr>\n",
       "      <th>ENCFF802AQC:AAACAGCCACATTGCA</th>\n",
       "      <td>13.0</td>\n",
       "      <td>ENCFF802AQC</td>\n",
       "      <td>male</td>\n",
       "      <td>WH</td>\n",
       "      <td>Neuronal</td>\n",
       "      <td>ND</td>\n",
       "      <td>Neuronal</td>\n",
       "      <td>ENCODE v4 (Snyder)</td>\n",
       "      <td>Multiome-v1</td>\n",
       "      <td>Nuclei</td>\n",
       "      <td>AAACAGCCACATTGCA</td>\n",
       "      <td>ENCFF802AQC</td>\n",
       "    </tr>\n",
       "    <tr>\n",
       "      <th>ENCFF802AQC:AAACATGCAATCCCTT</th>\n",
       "      <td>13.0</td>\n",
       "      <td>ENCFF802AQC</td>\n",
       "      <td>male</td>\n",
       "      <td>WH</td>\n",
       "      <td>Endocardial</td>\n",
       "      <td>ND</td>\n",
       "      <td>Endocardial</td>\n",
       "      <td>ENCODE v4 (Snyder)</td>\n",
       "      <td>Multiome-v1</td>\n",
       "      <td>Nuclei</td>\n",
       "      <td>AAACATGCAATCCCTT</td>\n",
       "      <td>ENCFF802AQC</td>\n",
       "    </tr>\n",
       "    <tr>\n",
       "      <th>ENCFF802AQC:AAACATGCAGCAACAG</th>\n",
       "      <td>13.0</td>\n",
       "      <td>ENCFF802AQC</td>\n",
       "      <td>male</td>\n",
       "      <td>WH</td>\n",
       "      <td>Cardiomyocyte</td>\n",
       "      <td>ND</td>\n",
       "      <td>Cardiomyocyte</td>\n",
       "      <td>ENCODE v4 (Snyder)</td>\n",
       "      <td>Multiome-v1</td>\n",
       "      <td>Nuclei</td>\n",
       "      <td>AAACATGCAGCAACAG</td>\n",
       "      <td>ENCFF802AQC</td>\n",
       "    </tr>\n",
       "    <tr>\n",
       "      <th>ENCFF802AQC:AAACATGCAGGCGAGT</th>\n",
       "      <td>13.0</td>\n",
       "      <td>ENCFF802AQC</td>\n",
       "      <td>male</td>\n",
       "      <td>WH</td>\n",
       "      <td>Endocardial</td>\n",
       "      <td>ND</td>\n",
       "      <td>Endocardial</td>\n",
       "      <td>ENCODE v4 (Snyder)</td>\n",
       "      <td>Multiome-v1</td>\n",
       "      <td>Nuclei</td>\n",
       "      <td>AAACATGCAGGCGAGT</td>\n",
       "      <td>ENCFF802AQC</td>\n",
       "    </tr>\n",
       "  </tbody>\n",
       "</table>\n",
       "</div>"
      ],
      "text/plain": [
       "                               age     donor_id   sex region      cell_type  \\\n",
       "index                                                                         \n",
       "ENCFF802AQC:AAACAGCCAAGCTACC  13.0  ENCFF802AQC  male     WH  Cardiomyocyte   \n",
       "ENCFF802AQC:AAACAGCCACATTGCA  13.0  ENCFF802AQC  male     WH       Neuronal   \n",
       "ENCFF802AQC:AAACATGCAATCCCTT  13.0  ENCFF802AQC  male     WH    Endocardial   \n",
       "ENCFF802AQC:AAACATGCAGCAACAG  13.0  ENCFF802AQC  male     WH  Cardiomyocyte   \n",
       "ENCFF802AQC:AAACATGCAGGCGAGT  13.0  ENCFF802AQC  male     WH    Endocardial   \n",
       "\n",
       "                             disease consistent_cell_type               study  \\\n",
       "index                                                                           \n",
       "ENCFF802AQC:AAACAGCCAAGCTACC      ND        Cardiomyocyte  ENCODE v4 (Snyder)   \n",
       "ENCFF802AQC:AAACAGCCACATTGCA      ND             Neuronal  ENCODE v4 (Snyder)   \n",
       "ENCFF802AQC:AAACATGCAATCCCTT      ND          Endocardial  ENCODE v4 (Snyder)   \n",
       "ENCFF802AQC:AAACATGCAGCAACAG      ND        Cardiomyocyte  ENCODE v4 (Snyder)   \n",
       "ENCFF802AQC:AAACATGCAGGCGAGT      ND          Endocardial  ENCODE v4 (Snyder)   \n",
       "\n",
       "                               technology cell_or_nuclei           barcode  \\\n",
       "index                                                                        \n",
       "ENCFF802AQC:AAACAGCCAAGCTACC  Multiome-v1         Nuclei  AAACAGCCAAGCTACC   \n",
       "ENCFF802AQC:AAACAGCCACATTGCA  Multiome-v1         Nuclei  AAACAGCCACATTGCA   \n",
       "ENCFF802AQC:AAACATGCAATCCCTT  Multiome-v1         Nuclei  AAACATGCAATCCCTT   \n",
       "ENCFF802AQC:AAACATGCAGCAACAG  Multiome-v1         Nuclei  AAACATGCAGCAACAG   \n",
       "ENCFF802AQC:AAACATGCAGGCGAGT  Multiome-v1         Nuclei  AAACATGCAGGCGAGT   \n",
       "\n",
       "                                sample_id  \n",
       "index                                      \n",
       "ENCFF802AQC:AAACAGCCAAGCTACC  ENCFF802AQC  \n",
       "ENCFF802AQC:AAACAGCCACATTGCA  ENCFF802AQC  \n",
       "ENCFF802AQC:AAACATGCAATCCCTT  ENCFF802AQC  \n",
       "ENCFF802AQC:AAACATGCAGCAACAG  ENCFF802AQC  \n",
       "ENCFF802AQC:AAACATGCAGGCGAGT  ENCFF802AQC  "
      ]
     },
     "execution_count": 15,
     "metadata": {},
     "output_type": "execute_result"
    }
   ],
   "source": [
    "ENCODE_adata.obs.head()"
   ]
  },
  {
   "cell_type": "markdown",
   "id": "12d0e44c-abbe-42f6-8329-c3d79acc51ea",
   "metadata": {},
   "source": [
    "#### Sim et al. 2020 (Porello Lab)"
   ]
  },
  {
   "cell_type": "code",
   "execution_count": 16,
   "id": "6945bac2-0bd4-4cb0-9b81-9292d5ca1530",
   "metadata": {},
   "outputs": [
    {
     "name": "stdout",
     "output_type": "stream",
     "text": [
      "All raw counts?: True\n",
      "CPU times: user 476 ms, sys: 857 ms, total: 1.33 s\n",
      "Wall time: 1.33 s\n"
     ]
    }
   ],
   "source": [
    "%%time\n",
    "# read in the entire dataset\n",
    "Sim_adata = sc.read_h5ad(\"../external_datasets/fetal_datasets/Sim_et_al_2020/02_Sim_fetal.h5ad\")\n",
    "Sim_adata.X = Sim_adata.layers['counts']\n",
    "Sim_adata.obs['disease'] = \"ND\"\n",
    "print(\"All raw counts?: \" + str (confirm_raw_counts(Sim_adata)) )\n",
    "Sim_adata.obs = Sim_adata.obs[metadata_to_keep]"
   ]
  },
  {
   "cell_type": "code",
   "execution_count": 17,
   "id": "57d7a202-5026-4d77-b615-e2dff244dfae",
   "metadata": {},
   "outputs": [],
   "source": [
    "Sim_adata.obs['barcode'] = Sim_adata.obs_names.str.split(\":\").str[-1]\n",
    "Sim_adata.obs['sample_id'] = Sim_adata.obs['donor_id']"
   ]
  },
  {
   "cell_type": "code",
   "execution_count": 18,
   "id": "d6a845b2-38c3-45ba-b911-b72ed0179295",
   "metadata": {},
   "outputs": [
    {
     "data": {
      "text/plain": [
       "('GSM4742858_Fetal2_processed:AAACCCAAGGCATCGA-1', 1)"
      ]
     },
     "execution_count": 18,
     "metadata": {},
     "output_type": "execute_result"
    }
   ],
   "source": [
    "Counter(Sim_adata.obs_names).most_common(1)[0]"
   ]
  },
  {
   "cell_type": "code",
   "execution_count": 19,
   "id": "30906fce-d188-4591-9dce-67790de19ee1",
   "metadata": {},
   "outputs": [
    {
     "data": {
      "text/html": [
       "<div>\n",
       "<style scoped>\n",
       "    .dataframe tbody tr th:only-of-type {\n",
       "        vertical-align: middle;\n",
       "    }\n",
       "\n",
       "    .dataframe tbody tr th {\n",
       "        vertical-align: top;\n",
       "    }\n",
       "\n",
       "    .dataframe thead th {\n",
       "        text-align: right;\n",
       "    }\n",
       "</style>\n",
       "<table border=\"1\" class=\"dataframe\">\n",
       "  <thead>\n",
       "    <tr style=\"text-align: right;\">\n",
       "      <th></th>\n",
       "      <th>age</th>\n",
       "      <th>donor_id</th>\n",
       "      <th>sex</th>\n",
       "      <th>region</th>\n",
       "      <th>cell_type</th>\n",
       "      <th>disease</th>\n",
       "      <th>consistent_cell_type</th>\n",
       "      <th>study</th>\n",
       "      <th>technology</th>\n",
       "      <th>cell_or_nuclei</th>\n",
       "      <th>barcode</th>\n",
       "      <th>sample_id</th>\n",
       "    </tr>\n",
       "  </thead>\n",
       "  <tbody>\n",
       "    <tr>\n",
       "      <th>GSM4742858_Fetal2_processed:AAACCCAAGGCATCGA-1</th>\n",
       "      <td>19</td>\n",
       "      <td>GSM4742858_Fetal2_processed</td>\n",
       "      <td>male</td>\n",
       "      <td>LV</td>\n",
       "      <td>Cardiomyocyte</td>\n",
       "      <td>ND</td>\n",
       "      <td>Cardiomyocyte</td>\n",
       "      <td>Sim 2021</td>\n",
       "      <td>3prime-v1</td>\n",
       "      <td>Nuclei</td>\n",
       "      <td>AAACCCAAGGCATCGA-1</td>\n",
       "      <td>GSM4742858_Fetal2_processed</td>\n",
       "    </tr>\n",
       "    <tr>\n",
       "      <th>GSM4742858_Fetal2_processed:AAACCCAAGGTAGGCT-1</th>\n",
       "      <td>19</td>\n",
       "      <td>GSM4742858_Fetal2_processed</td>\n",
       "      <td>male</td>\n",
       "      <td>LV</td>\n",
       "      <td>Cardiomyocyte</td>\n",
       "      <td>ND</td>\n",
       "      <td>Cardiomyocyte</td>\n",
       "      <td>Sim 2021</td>\n",
       "      <td>3prime-v1</td>\n",
       "      <td>Nuclei</td>\n",
       "      <td>AAACCCAAGGTAGGCT-1</td>\n",
       "      <td>GSM4742858_Fetal2_processed</td>\n",
       "    </tr>\n",
       "    <tr>\n",
       "      <th>GSM4742858_Fetal2_processed:AAACCCAAGTCAATCC-1</th>\n",
       "      <td>19</td>\n",
       "      <td>GSM4742858_Fetal2_processed</td>\n",
       "      <td>male</td>\n",
       "      <td>LV</td>\n",
       "      <td>Cardiomyocyte</td>\n",
       "      <td>ND</td>\n",
       "      <td>Cardiomyocyte</td>\n",
       "      <td>Sim 2021</td>\n",
       "      <td>3prime-v1</td>\n",
       "      <td>Nuclei</td>\n",
       "      <td>AAACCCAAGTCAATCC-1</td>\n",
       "      <td>GSM4742858_Fetal2_processed</td>\n",
       "    </tr>\n",
       "    <tr>\n",
       "      <th>GSM4742858_Fetal2_processed:AAACCCAAGTGGCAGT-1</th>\n",
       "      <td>19</td>\n",
       "      <td>GSM4742858_Fetal2_processed</td>\n",
       "      <td>male</td>\n",
       "      <td>LV</td>\n",
       "      <td>Cardiomyocyte</td>\n",
       "      <td>ND</td>\n",
       "      <td>Cardiomyocyte</td>\n",
       "      <td>Sim 2021</td>\n",
       "      <td>3prime-v1</td>\n",
       "      <td>Nuclei</td>\n",
       "      <td>AAACCCAAGTGGCAGT-1</td>\n",
       "      <td>GSM4742858_Fetal2_processed</td>\n",
       "    </tr>\n",
       "    <tr>\n",
       "      <th>GSM4742858_Fetal2_processed:AAACCCACAAAGCTAA-1</th>\n",
       "      <td>19</td>\n",
       "      <td>GSM4742858_Fetal2_processed</td>\n",
       "      <td>male</td>\n",
       "      <td>LV</td>\n",
       "      <td>Cardiomyocyte</td>\n",
       "      <td>ND</td>\n",
       "      <td>Cardiomyocyte</td>\n",
       "      <td>Sim 2021</td>\n",
       "      <td>3prime-v1</td>\n",
       "      <td>Nuclei</td>\n",
       "      <td>AAACCCACAAAGCTAA-1</td>\n",
       "      <td>GSM4742858_Fetal2_processed</td>\n",
       "    </tr>\n",
       "  </tbody>\n",
       "</table>\n",
       "</div>"
      ],
      "text/plain": [
       "                                                age  \\\n",
       "GSM4742858_Fetal2_processed:AAACCCAAGGCATCGA-1   19   \n",
       "GSM4742858_Fetal2_processed:AAACCCAAGGTAGGCT-1   19   \n",
       "GSM4742858_Fetal2_processed:AAACCCAAGTCAATCC-1   19   \n",
       "GSM4742858_Fetal2_processed:AAACCCAAGTGGCAGT-1   19   \n",
       "GSM4742858_Fetal2_processed:AAACCCACAAAGCTAA-1   19   \n",
       "\n",
       "                                                                   donor_id  \\\n",
       "GSM4742858_Fetal2_processed:AAACCCAAGGCATCGA-1  GSM4742858_Fetal2_processed   \n",
       "GSM4742858_Fetal2_processed:AAACCCAAGGTAGGCT-1  GSM4742858_Fetal2_processed   \n",
       "GSM4742858_Fetal2_processed:AAACCCAAGTCAATCC-1  GSM4742858_Fetal2_processed   \n",
       "GSM4742858_Fetal2_processed:AAACCCAAGTGGCAGT-1  GSM4742858_Fetal2_processed   \n",
       "GSM4742858_Fetal2_processed:AAACCCACAAAGCTAA-1  GSM4742858_Fetal2_processed   \n",
       "\n",
       "                                                 sex region      cell_type  \\\n",
       "GSM4742858_Fetal2_processed:AAACCCAAGGCATCGA-1  male     LV  Cardiomyocyte   \n",
       "GSM4742858_Fetal2_processed:AAACCCAAGGTAGGCT-1  male     LV  Cardiomyocyte   \n",
       "GSM4742858_Fetal2_processed:AAACCCAAGTCAATCC-1  male     LV  Cardiomyocyte   \n",
       "GSM4742858_Fetal2_processed:AAACCCAAGTGGCAGT-1  male     LV  Cardiomyocyte   \n",
       "GSM4742858_Fetal2_processed:AAACCCACAAAGCTAA-1  male     LV  Cardiomyocyte   \n",
       "\n",
       "                                               disease consistent_cell_type  \\\n",
       "GSM4742858_Fetal2_processed:AAACCCAAGGCATCGA-1      ND        Cardiomyocyte   \n",
       "GSM4742858_Fetal2_processed:AAACCCAAGGTAGGCT-1      ND        Cardiomyocyte   \n",
       "GSM4742858_Fetal2_processed:AAACCCAAGTCAATCC-1      ND        Cardiomyocyte   \n",
       "GSM4742858_Fetal2_processed:AAACCCAAGTGGCAGT-1      ND        Cardiomyocyte   \n",
       "GSM4742858_Fetal2_processed:AAACCCACAAAGCTAA-1      ND        Cardiomyocyte   \n",
       "\n",
       "                                                   study technology  \\\n",
       "GSM4742858_Fetal2_processed:AAACCCAAGGCATCGA-1  Sim 2021  3prime-v1   \n",
       "GSM4742858_Fetal2_processed:AAACCCAAGGTAGGCT-1  Sim 2021  3prime-v1   \n",
       "GSM4742858_Fetal2_processed:AAACCCAAGTCAATCC-1  Sim 2021  3prime-v1   \n",
       "GSM4742858_Fetal2_processed:AAACCCAAGTGGCAGT-1  Sim 2021  3prime-v1   \n",
       "GSM4742858_Fetal2_processed:AAACCCACAAAGCTAA-1  Sim 2021  3prime-v1   \n",
       "\n",
       "                                               cell_or_nuclei  \\\n",
       "GSM4742858_Fetal2_processed:AAACCCAAGGCATCGA-1         Nuclei   \n",
       "GSM4742858_Fetal2_processed:AAACCCAAGGTAGGCT-1         Nuclei   \n",
       "GSM4742858_Fetal2_processed:AAACCCAAGTCAATCC-1         Nuclei   \n",
       "GSM4742858_Fetal2_processed:AAACCCAAGTGGCAGT-1         Nuclei   \n",
       "GSM4742858_Fetal2_processed:AAACCCACAAAGCTAA-1         Nuclei   \n",
       "\n",
       "                                                           barcode  \\\n",
       "GSM4742858_Fetal2_processed:AAACCCAAGGCATCGA-1  AAACCCAAGGCATCGA-1   \n",
       "GSM4742858_Fetal2_processed:AAACCCAAGGTAGGCT-1  AAACCCAAGGTAGGCT-1   \n",
       "GSM4742858_Fetal2_processed:AAACCCAAGTCAATCC-1  AAACCCAAGTCAATCC-1   \n",
       "GSM4742858_Fetal2_processed:AAACCCAAGTGGCAGT-1  AAACCCAAGTGGCAGT-1   \n",
       "GSM4742858_Fetal2_processed:AAACCCACAAAGCTAA-1  AAACCCACAAAGCTAA-1   \n",
       "\n",
       "                                                                  sample_id  \n",
       "GSM4742858_Fetal2_processed:AAACCCAAGGCATCGA-1  GSM4742858_Fetal2_processed  \n",
       "GSM4742858_Fetal2_processed:AAACCCAAGGTAGGCT-1  GSM4742858_Fetal2_processed  \n",
       "GSM4742858_Fetal2_processed:AAACCCAAGTCAATCC-1  GSM4742858_Fetal2_processed  \n",
       "GSM4742858_Fetal2_processed:AAACCCAAGTGGCAGT-1  GSM4742858_Fetal2_processed  \n",
       "GSM4742858_Fetal2_processed:AAACCCACAAAGCTAA-1  GSM4742858_Fetal2_processed  "
      ]
     },
     "execution_count": 19,
     "metadata": {},
     "output_type": "execute_result"
    }
   ],
   "source": [
    "Sim_adata.obs.head()"
   ]
  },
  {
   "cell_type": "markdown",
   "id": "77ebd6ba-719b-4a77-9d37-e8ef1607649f",
   "metadata": {},
   "source": [
    "### Combine together"
   ]
  },
  {
   "cell_type": "code",
   "execution_count": 20,
   "id": "dc24348d-c3b0-4733-86a2-47a1e7d1c07f",
   "metadata": {},
   "outputs": [],
   "source": [
    "# run this so that adata won't complain\n",
    "def convert_indices_to_string(adata):\n",
    "    adata.obs.index = adata.obs.index.astype(str)\n",
    "    adata.var.index = adata.var.index.astype(str)\n",
    "    return adata"
   ]
  },
  {
   "cell_type": "code",
   "execution_count": 21,
   "id": "af2854fb-c434-4d7f-891b-5a821be5c70a",
   "metadata": {},
   "outputs": [],
   "source": [
    "# Convert indices for all adata\n",
    "Penn_adata = convert_indices_to_string(Penn_adata)\n",
    "ENCODE_adata = convert_indices_to_string(ENCODE_adata)\n",
    "Sim_adata = convert_indices_to_string(Sim_adata)"
   ]
  },
  {
   "cell_type": "markdown",
   "id": "c42ead03-5e02-4aa7-a511-5e312785978f",
   "metadata": {},
   "source": [
    "The inner join for features (genes), rather than outer join is more appropriate as many of the datasets removed mitochondrial transcripts entirely from their analysis."
   ]
  },
  {
   "cell_type": "code",
   "execution_count": 24,
   "id": "753e3b3c-799a-4485-892a-34e333e16703",
   "metadata": {},
   "outputs": [
    {
     "data": {
      "text/plain": [
       "AnnData object with n_obs × n_vars = 150161 × 19214\n",
       "    obs: 'age', 'donor_id', 'sex', 'region', 'cell_type', 'disease', 'consistent_cell_type', 'study', 'technology', 'cell_or_nuclei', 'sample_id', 'barcode'\n",
       "    obsm: 'X_pca', 'X_pca_harmony', 'X_umap'\n",
       "    layers: 'counts'"
      ]
     },
     "execution_count": 24,
     "metadata": {},
     "output_type": "execute_result"
    }
   ],
   "source": [
    "# merge the adata together\n",
    "all_adata = ad.concat([Penn_adata,\n",
    "                       ENCODE_adata,\n",
    "                       Sim_adata])\n",
    "all_adata"
   ]
  },
  {
   "cell_type": "code",
   "execution_count": 25,
   "id": "6f5cab06-a12a-4a2d-a71b-a53fb8ae3938",
   "metadata": {},
   "outputs": [
    {
     "data": {
      "text/html": [
       "<div>\n",
       "<style scoped>\n",
       "    .dataframe tbody tr th:only-of-type {\n",
       "        vertical-align: middle;\n",
       "    }\n",
       "\n",
       "    .dataframe tbody tr th {\n",
       "        vertical-align: top;\n",
       "    }\n",
       "\n",
       "    .dataframe thead th {\n",
       "        text-align: right;\n",
       "    }\n",
       "</style>\n",
       "<table border=\"1\" class=\"dataframe\">\n",
       "  <thead>\n",
       "    <tr style=\"text-align: right;\">\n",
       "      <th></th>\n",
       "      <th>age</th>\n",
       "      <th>donor_id</th>\n",
       "      <th>sex</th>\n",
       "      <th>region</th>\n",
       "      <th>cell_type</th>\n",
       "      <th>disease</th>\n",
       "      <th>consistent_cell_type</th>\n",
       "      <th>study</th>\n",
       "      <th>technology</th>\n",
       "      <th>cell_or_nuclei</th>\n",
       "      <th>sample_id</th>\n",
       "      <th>barcode</th>\n",
       "    </tr>\n",
       "  </thead>\n",
       "  <tbody>\n",
       "    <tr>\n",
       "      <th>Fetal-1st-LV-0315-2-run1n2:AAAAAAACTGGC</th>\n",
       "      <td>18.0</td>\n",
       "      <td>Penn_F1</td>\n",
       "      <td>female</td>\n",
       "      <td>LV</td>\n",
       "      <td>Cardiomyocyte</td>\n",
       "      <td>ND</td>\n",
       "      <td>Cardiomyocyte</td>\n",
       "      <td>Penn</td>\n",
       "      <td>Dropseq</td>\n",
       "      <td>Nuclei</td>\n",
       "      <td>Fetal-1st-LV-0315-2-run1n2</td>\n",
       "      <td>AAAAAAACTGGC</td>\n",
       "    </tr>\n",
       "    <tr>\n",
       "      <th>Fetal-1st-LV-0315-2-run1n2:AAAAAAGCCCCT</th>\n",
       "      <td>18.0</td>\n",
       "      <td>Penn_F1</td>\n",
       "      <td>female</td>\n",
       "      <td>LV</td>\n",
       "      <td>Cardiomyocyte</td>\n",
       "      <td>ND</td>\n",
       "      <td>Cardiomyocyte</td>\n",
       "      <td>Penn</td>\n",
       "      <td>Dropseq</td>\n",
       "      <td>Nuclei</td>\n",
       "      <td>Fetal-1st-LV-0315-2-run1n2</td>\n",
       "      <td>AAAAAAGCCCCT</td>\n",
       "    </tr>\n",
       "    <tr>\n",
       "      <th>Fetal-1st-LV-0315-2-run1n2:AAAAAAGGGCGG</th>\n",
       "      <td>18.0</td>\n",
       "      <td>Penn_F1</td>\n",
       "      <td>female</td>\n",
       "      <td>LV</td>\n",
       "      <td>Cardiomyocyte</td>\n",
       "      <td>ND</td>\n",
       "      <td>Cardiomyocyte</td>\n",
       "      <td>Penn</td>\n",
       "      <td>Dropseq</td>\n",
       "      <td>Nuclei</td>\n",
       "      <td>Fetal-1st-LV-0315-2-run1n2</td>\n",
       "      <td>AAAAAAGGGCGG</td>\n",
       "    </tr>\n",
       "    <tr>\n",
       "      <th>Fetal-1st-LV-0315-2-run1n2:AAAAAGAAATCC</th>\n",
       "      <td>18.0</td>\n",
       "      <td>Penn_F1</td>\n",
       "      <td>female</td>\n",
       "      <td>LV</td>\n",
       "      <td>Cardiomyocyte</td>\n",
       "      <td>ND</td>\n",
       "      <td>Cardiomyocyte</td>\n",
       "      <td>Penn</td>\n",
       "      <td>Dropseq</td>\n",
       "      <td>Nuclei</td>\n",
       "      <td>Fetal-1st-LV-0315-2-run1n2</td>\n",
       "      <td>AAAAAGAAATCC</td>\n",
       "    </tr>\n",
       "    <tr>\n",
       "      <th>Fetal-1st-LV-0315-2-run1n2:AAAAAGACTCTT</th>\n",
       "      <td>18.0</td>\n",
       "      <td>Penn_F1</td>\n",
       "      <td>female</td>\n",
       "      <td>LV</td>\n",
       "      <td>Endothelial</td>\n",
       "      <td>ND</td>\n",
       "      <td>Endothelial</td>\n",
       "      <td>Penn</td>\n",
       "      <td>Dropseq</td>\n",
       "      <td>Nuclei</td>\n",
       "      <td>Fetal-1st-LV-0315-2-run1n2</td>\n",
       "      <td>AAAAAGACTCTT</td>\n",
       "    </tr>\n",
       "  </tbody>\n",
       "</table>\n",
       "</div>"
      ],
      "text/plain": [
       "                                          age donor_id     sex region  \\\n",
       "Fetal-1st-LV-0315-2-run1n2:AAAAAAACTGGC  18.0  Penn_F1  female     LV   \n",
       "Fetal-1st-LV-0315-2-run1n2:AAAAAAGCCCCT  18.0  Penn_F1  female     LV   \n",
       "Fetal-1st-LV-0315-2-run1n2:AAAAAAGGGCGG  18.0  Penn_F1  female     LV   \n",
       "Fetal-1st-LV-0315-2-run1n2:AAAAAGAAATCC  18.0  Penn_F1  female     LV   \n",
       "Fetal-1st-LV-0315-2-run1n2:AAAAAGACTCTT  18.0  Penn_F1  female     LV   \n",
       "\n",
       "                                             cell_type disease  \\\n",
       "Fetal-1st-LV-0315-2-run1n2:AAAAAAACTGGC  Cardiomyocyte      ND   \n",
       "Fetal-1st-LV-0315-2-run1n2:AAAAAAGCCCCT  Cardiomyocyte      ND   \n",
       "Fetal-1st-LV-0315-2-run1n2:AAAAAAGGGCGG  Cardiomyocyte      ND   \n",
       "Fetal-1st-LV-0315-2-run1n2:AAAAAGAAATCC  Cardiomyocyte      ND   \n",
       "Fetal-1st-LV-0315-2-run1n2:AAAAAGACTCTT    Endothelial      ND   \n",
       "\n",
       "                                        consistent_cell_type study technology  \\\n",
       "Fetal-1st-LV-0315-2-run1n2:AAAAAAACTGGC        Cardiomyocyte  Penn    Dropseq   \n",
       "Fetal-1st-LV-0315-2-run1n2:AAAAAAGCCCCT        Cardiomyocyte  Penn    Dropseq   \n",
       "Fetal-1st-LV-0315-2-run1n2:AAAAAAGGGCGG        Cardiomyocyte  Penn    Dropseq   \n",
       "Fetal-1st-LV-0315-2-run1n2:AAAAAGAAATCC        Cardiomyocyte  Penn    Dropseq   \n",
       "Fetal-1st-LV-0315-2-run1n2:AAAAAGACTCTT          Endothelial  Penn    Dropseq   \n",
       "\n",
       "                                        cell_or_nuclei  \\\n",
       "Fetal-1st-LV-0315-2-run1n2:AAAAAAACTGGC         Nuclei   \n",
       "Fetal-1st-LV-0315-2-run1n2:AAAAAAGCCCCT         Nuclei   \n",
       "Fetal-1st-LV-0315-2-run1n2:AAAAAAGGGCGG         Nuclei   \n",
       "Fetal-1st-LV-0315-2-run1n2:AAAAAGAAATCC         Nuclei   \n",
       "Fetal-1st-LV-0315-2-run1n2:AAAAAGACTCTT         Nuclei   \n",
       "\n",
       "                                                          sample_id  \\\n",
       "Fetal-1st-LV-0315-2-run1n2:AAAAAAACTGGC  Fetal-1st-LV-0315-2-run1n2   \n",
       "Fetal-1st-LV-0315-2-run1n2:AAAAAAGCCCCT  Fetal-1st-LV-0315-2-run1n2   \n",
       "Fetal-1st-LV-0315-2-run1n2:AAAAAAGGGCGG  Fetal-1st-LV-0315-2-run1n2   \n",
       "Fetal-1st-LV-0315-2-run1n2:AAAAAGAAATCC  Fetal-1st-LV-0315-2-run1n2   \n",
       "Fetal-1st-LV-0315-2-run1n2:AAAAAGACTCTT  Fetal-1st-LV-0315-2-run1n2   \n",
       "\n",
       "                                              barcode  \n",
       "Fetal-1st-LV-0315-2-run1n2:AAAAAAACTGGC  AAAAAAACTGGC  \n",
       "Fetal-1st-LV-0315-2-run1n2:AAAAAAGCCCCT  AAAAAAGCCCCT  \n",
       "Fetal-1st-LV-0315-2-run1n2:AAAAAAGGGCGG  AAAAAAGGGCGG  \n",
       "Fetal-1st-LV-0315-2-run1n2:AAAAAGAAATCC  AAAAAGAAATCC  \n",
       "Fetal-1st-LV-0315-2-run1n2:AAAAAGACTCTT  AAAAAGACTCTT  "
      ]
     },
     "execution_count": 25,
     "metadata": {},
     "output_type": "execute_result"
    }
   ],
   "source": [
    "all_adata.obs.head()"
   ]
  },
  {
   "cell_type": "code",
   "execution_count": 26,
   "id": "a0ad0d32-a486-4b3d-af2e-5e0557507e47",
   "metadata": {},
   "outputs": [
    {
     "data": {
      "text/plain": [
       "('Fetal-1st-LV-0315-2-run1n2:AAAAAAACTGGC', 1)"
      ]
     },
     "execution_count": 26,
     "metadata": {},
     "output_type": "execute_result"
    }
   ],
   "source": [
    "Counter(all_adata.obs_names).most_common()[0]"
   ]
  },
  {
   "cell_type": "markdown",
   "id": "4a7346af-5237-463f-a215-c377e023530d",
   "metadata": {},
   "source": [
    "### Visualize metadata about the datasets\n",
    "\n",
    "This is also a way to check that the metadata is consistent"
   ]
  },
  {
   "cell_type": "markdown",
   "id": "0f407e9d-fb1d-422c-bb00-097bc994faa4",
   "metadata": {},
   "source": [
    "#### Age representation across all datasets"
   ]
  },
  {
   "cell_type": "code",
   "execution_count": 27,
   "id": "1af83803-a38d-4854-8e94-6ce83a329d07",
   "metadata": {},
   "outputs": [
    {
     "data": {
      "text/html": [
       "<div>\n",
       "<style scoped>\n",
       "    .dataframe tbody tr th:only-of-type {\n",
       "        vertical-align: middle;\n",
       "    }\n",
       "\n",
       "    .dataframe tbody tr th {\n",
       "        vertical-align: top;\n",
       "    }\n",
       "\n",
       "    .dataframe thead th {\n",
       "        text-align: right;\n",
       "    }\n",
       "</style>\n",
       "<table border=\"1\" class=\"dataframe\">\n",
       "  <thead>\n",
       "    <tr style=\"text-align: right;\">\n",
       "      <th></th>\n",
       "      <th>sex</th>\n",
       "      <th>donor_id</th>\n",
       "      <th>age</th>\n",
       "      <th>study</th>\n",
       "      <th>technology</th>\n",
       "    </tr>\n",
       "  </thead>\n",
       "  <tbody>\n",
       "    <tr>\n",
       "      <th>0</th>\n",
       "      <td>female</td>\n",
       "      <td>Penn_F1</td>\n",
       "      <td>18.0</td>\n",
       "      <td>Penn</td>\n",
       "      <td>Dropseq</td>\n",
       "    </tr>\n",
       "    <tr>\n",
       "      <th>1</th>\n",
       "      <td>male</td>\n",
       "      <td>Penn_F2</td>\n",
       "      <td>18.0</td>\n",
       "      <td>Penn</td>\n",
       "      <td>Dropseq</td>\n",
       "    </tr>\n",
       "    <tr>\n",
       "      <th>2</th>\n",
       "      <td>male</td>\n",
       "      <td>ENCFF802AQC</td>\n",
       "      <td>13.0</td>\n",
       "      <td>ENCODE v4 (Snyder)</td>\n",
       "      <td>Multiome-v1</td>\n",
       "    </tr>\n",
       "    <tr>\n",
       "      <th>3</th>\n",
       "      <td>male</td>\n",
       "      <td>ENCFF248EWR</td>\n",
       "      <td>15.0</td>\n",
       "      <td>ENCODE v4 (Snyder)</td>\n",
       "      <td>Multiome-v1</td>\n",
       "    </tr>\n",
       "    <tr>\n",
       "      <th>4</th>\n",
       "      <td>female</td>\n",
       "      <td>ENCFF849ALE</td>\n",
       "      <td>16.0</td>\n",
       "      <td>ENCODE v4 (Snyder)</td>\n",
       "      <td>Multiome-v1</td>\n",
       "    </tr>\n",
       "    <tr>\n",
       "      <th>5</th>\n",
       "      <td>female</td>\n",
       "      <td>ENCFF775ANN</td>\n",
       "      <td>15.0</td>\n",
       "      <td>ENCODE v4 (Snyder)</td>\n",
       "      <td>Multiome-v1</td>\n",
       "    </tr>\n",
       "    <tr>\n",
       "      <th>6</th>\n",
       "      <td>female</td>\n",
       "      <td>ENCFF805YRY</td>\n",
       "      <td>18.0</td>\n",
       "      <td>ENCODE v4 (Snyder)</td>\n",
       "      <td>Multiome-v1</td>\n",
       "    </tr>\n",
       "    <tr>\n",
       "      <th>7</th>\n",
       "      <td>female</td>\n",
       "      <td>ENCFF727JRO</td>\n",
       "      <td>17.0</td>\n",
       "      <td>ENCODE v4 (Snyder)</td>\n",
       "      <td>Multiome-v1</td>\n",
       "    </tr>\n",
       "    <tr>\n",
       "      <th>8</th>\n",
       "      <td>female</td>\n",
       "      <td>ENCFF776DQR</td>\n",
       "      <td>12.0</td>\n",
       "      <td>ENCODE v4 (Snyder)</td>\n",
       "      <td>Multiome-v1</td>\n",
       "    </tr>\n",
       "    <tr>\n",
       "      <th>9</th>\n",
       "      <td>female</td>\n",
       "      <td>ENCFF684YRB</td>\n",
       "      <td>10.0</td>\n",
       "      <td>ENCODE v4 (Snyder)</td>\n",
       "      <td>Multiome-v1</td>\n",
       "    </tr>\n",
       "    <tr>\n",
       "      <th>10</th>\n",
       "      <td>male</td>\n",
       "      <td>GSM4742858_Fetal2_processed</td>\n",
       "      <td>19.0</td>\n",
       "      <td>Sim 2021</td>\n",
       "      <td>3prime-v1</td>\n",
       "    </tr>\n",
       "    <tr>\n",
       "      <th>11</th>\n",
       "      <td>female</td>\n",
       "      <td>GSM4742859_Fetal3_processed</td>\n",
       "      <td>20.0</td>\n",
       "      <td>Sim 2021</td>\n",
       "      <td>3prime-v1</td>\n",
       "    </tr>\n",
       "    <tr>\n",
       "      <th>12</th>\n",
       "      <td>male</td>\n",
       "      <td>GSM4742857_Fetal1_processed</td>\n",
       "      <td>19.0</td>\n",
       "      <td>Sim 2021</td>\n",
       "      <td>3prime-v1</td>\n",
       "    </tr>\n",
       "  </tbody>\n",
       "</table>\n",
       "</div>"
      ],
      "text/plain": [
       "       sex                     donor_id   age               study   technology\n",
       "0   female                      Penn_F1  18.0                Penn      Dropseq\n",
       "1     male                      Penn_F2  18.0                Penn      Dropseq\n",
       "2     male                  ENCFF802AQC  13.0  ENCODE v4 (Snyder)  Multiome-v1\n",
       "3     male                  ENCFF248EWR  15.0  ENCODE v4 (Snyder)  Multiome-v1\n",
       "4   female                  ENCFF849ALE  16.0  ENCODE v4 (Snyder)  Multiome-v1\n",
       "5   female                  ENCFF775ANN  15.0  ENCODE v4 (Snyder)  Multiome-v1\n",
       "6   female                  ENCFF805YRY  18.0  ENCODE v4 (Snyder)  Multiome-v1\n",
       "7   female                  ENCFF727JRO  17.0  ENCODE v4 (Snyder)  Multiome-v1\n",
       "8   female                  ENCFF776DQR  12.0  ENCODE v4 (Snyder)  Multiome-v1\n",
       "9   female                  ENCFF684YRB  10.0  ENCODE v4 (Snyder)  Multiome-v1\n",
       "10    male  GSM4742858_Fetal2_processed  19.0            Sim 2021    3prime-v1\n",
       "11  female  GSM4742859_Fetal3_processed  20.0            Sim 2021    3prime-v1\n",
       "12    male  GSM4742857_Fetal1_processed  19.0            Sim 2021    3prime-v1"
      ]
     },
     "execution_count": 27,
     "metadata": {},
     "output_type": "execute_result"
    }
   ],
   "source": [
    "donor_information = ( all_adata.obs.reset_index(drop = True)[[\"sex\", \"donor_id\", \"age\", \"study\", \"technology\"]]\n",
    "                     .drop_duplicates()\n",
    "                     .reset_index(drop = True) )\n",
    "donor_information"
   ]
  },
  {
   "cell_type": "code",
   "execution_count": 28,
   "id": "433b64a9-1300-4dd8-b672-34e77b221fed",
   "metadata": {},
   "outputs": [
    {
     "data": {
      "image/png": "[encoded data removed]",
      "text/plain": [
       "<Figure size 640x480 with 1 Axes>"
      ]
     },
     "metadata": {},
     "output_type": "display_data"
    }
   ],
   "source": [
    "plt.hist(donor_information['age'], bins = 30)\n",
    "plt.xlabel(\"age\")\n",
    "plt.ylabel(\"count\")\n",
    "plt.show()"
   ]
  },
  {
   "cell_type": "code",
   "execution_count": 29,
   "id": "b0fb539d-1db8-4e9e-879e-abae09593d5a",
   "metadata": {},
   "outputs": [],
   "source": [
    "donor_information['study'] = pd.Categorical(donor_information['study'])\n",
    "donor_information['technology'] = pd.Categorical(donor_information['technology'])\n",
    "donor_information['sex'] = pd.Categorical(donor_information['sex'])"
   ]
  },
  {
   "cell_type": "code",
   "execution_count": 30,
   "id": "eeffa197-7688-40fa-ade8-8d34000a5fb9",
   "metadata": {},
   "outputs": [
    {
     "data": {
      "text/plain": [
       "<matplotlib.legend.Legend at 0x7fc5d2eda390>"
      ]
     },
     "execution_count": 30,
     "metadata": {},
     "output_type": "execute_result"
    },
    {
     "data": {
      "image/png": "[encoded data removed]",
      "text/plain": [
       "<Figure size 640x480 with 1 Axes>"
      ]
     },
     "metadata": {},
     "output_type": "display_data"
    }
   ],
   "source": [
    "sns.swarmplot(data = donor_information, x='age', y='study', hue = 'sex', alpha=1)\n",
    "plt.legend(bbox_to_anchor=(1.05, 1), loc='upper left')"
   ]
  },
  {
   "cell_type": "markdown",
   "id": "6c68315d-d5f5-476c-9e95-44df697d133b",
   "metadata": {},
   "source": [
    "### Examine sex-specific expression\n",
    "Based on the analysis of some sex-specific genes"
   ]
  },
  {
   "cell_type": "code",
   "execution_count": 31,
   "id": "2c600711-7f84-41d6-b40d-1bfce076bb86",
   "metadata": {},
   "outputs": [],
   "source": [
    "metadata_at_donor_level = all_adata.obs.reset_index(drop = True)[[\"age\", \"sex\", \"donor_id\"]].drop_duplicates()\n",
    "\n",
    "# pseudobulk\n",
    "pseudobulked_adata = sc.get.aggregate(all_adata, by=[\"donor_id\"], func=\"sum\")\n",
    "pseudobulked_adata.X = pseudobulked_adata.layers['sum']"
   ]
  },
  {
   "cell_type": "code",
   "execution_count": 32,
   "id": "8b287948-28c4-4bbd-9d1b-f613af71771d",
   "metadata": {},
   "outputs": [],
   "source": [
    "# These are genes that have strong sex-specific expression\n",
    "female_sex_specific_genes = ['TSIX', 'XIST']\n",
    "male_sex_specific_genes = ['DDX3Y', 'EIF1AY', 'KDM5D', 'LINC00278', 'RPS4Y1',\n",
    "                             'TMSB4Y', 'TTTY10', 'TTTY14', 'USP9Y', 'UTY', 'ZFY', 'ZFY-AS1']\n",
    "combined_sex_specific_genes = female_sex_specific_genes + male_sex_specific_genes"
   ]
  },
  {
   "cell_type": "code",
   "execution_count": 33,
   "id": "be958c94-9854-41a2-96c7-c9578d07b509",
   "metadata": {},
   "outputs": [],
   "source": [
    "pseudobulked_adata.X = pseudobulked_adata.layers['sum']"
   ]
  },
  {
   "cell_type": "code",
   "execution_count": 34,
   "id": "4faeec84-93e3-4c15-9563-6a977ad1cc0d",
   "metadata": {},
   "outputs": [
    {
     "name": "stderr",
     "output_type": "stream",
     "text": [
      "/home/william/anaconda3/envs/r-kernel/lib/python3.12/site-packages/anndata/_core/anndata.py:618: FutureWarning: You are attempting to set `X` to a matrix on a view which has non-unique indices. The resulting `adata.X` will likely not equal the value to which you set it. To avoid this potential issue, please make a copy of the data first. In the future, this operation will throw an error.\n",
      "  warnings.warn(msg, FutureWarning, stacklevel=1)\n"
     ]
    }
   ],
   "source": [
    "sex_specific_pseudobulked_adata = pseudobulked_adata[:, pseudobulked_adata.var.index.isin(combined_sex_specific_genes)]\n",
    "sex_specific_pseudobulked_adata.X = sex_specific_pseudobulked_adata.layers['sum']"
   ]
  },
  {
   "cell_type": "code",
   "execution_count": 35,
   "id": "d1371f5e-f710-4938-afe6-84c5ed7d112e",
   "metadata": {},
   "outputs": [
    {
     "name": "stdout",
     "output_type": "stream",
     "text": [
      "CPU times: user 32.2 ms, sys: 4.18 ms, total: 36.4 ms\n",
      "Wall time: 34.7 ms\n"
     ]
    },
    {
     "name": "stderr",
     "output_type": "stream",
     "text": [
      "/home/william/anaconda3/envs/r-kernel/lib/python3.12/site-packages/scanpy/preprocessing/_normalization.py:207: UserWarning: Received a view of an AnnData. Making a copy.\n",
      "  view_to_actual(adata)\n"
     ]
    }
   ],
   "source": [
    "%%time\n",
    "sc.pp.normalize_total(sex_specific_pseudobulked_adata)\n",
    "sc.pp.log1p(sex_specific_pseudobulked_adata)\n",
    "sc.pp.scale(sex_specific_pseudobulked_adata)\n",
    "sc.pp.highly_variable_genes(sex_specific_pseudobulked_adata, n_top_genes=100)\n",
    "sc.tl.pca(sex_specific_pseudobulked_adata)"
   ]
  },
  {
   "cell_type": "code",
   "execution_count": 36,
   "id": "f97ebafe-8981-40ec-ad0d-6663265212e1",
   "metadata": {},
   "outputs": [],
   "source": [
    "# add more metadata to the pseudobulked metadata\n",
    "sex_specific_pseudobulked_adata.obs = sex_specific_pseudobulked_adata.obs.merge(metadata_at_donor_level, on = \"donor_id\", how = \"inner\")"
   ]
  },
  {
   "cell_type": "markdown",
   "id": "024c7ec9-ac3c-40bd-9452-02338796dc67",
   "metadata": {},
   "source": [
    "#### Visualize PCA clusters in easier to edit format"
   ]
  },
  {
   "cell_type": "code",
   "execution_count": 37,
   "id": "6c68569d-dcc8-46e1-8781-ce250eceb629",
   "metadata": {},
   "outputs": [],
   "source": [
    "pseudobulked_metadata = sex_specific_pseudobulked_adata.obs"
   ]
  },
  {
   "cell_type": "code",
   "execution_count": 38,
   "id": "6502245a-59ef-4cf3-9253-bd0f20ca210d",
   "metadata": {},
   "outputs": [],
   "source": [
    "pseudobulked_metadata['PC1'] = sex_specific_pseudobulked_adata.obsm['X_pca'][:, 0]\n",
    "pseudobulked_metadata['PC2'] = sex_specific_pseudobulked_adata.obsm['X_pca'][:, 1]"
   ]
  },
  {
   "cell_type": "code",
   "execution_count": 39,
   "id": "6bbb9121-ecb6-418a-9de4-dad8903ed627",
   "metadata": {},
   "outputs": [
    {
     "data": {
      "text/plain": [
       "<matplotlib.legend.Legend at 0x7fc5d2ed1a30>"
      ]
     },
     "execution_count": 39,
     "metadata": {},
     "output_type": "execute_result"
    },
    {
     "data": {
      "image/png": "[encoded data removed]",
      "text/plain": [
       "<Figure size 640x480 with 1 Axes>"
      ]
     },
     "metadata": {},
     "output_type": "display_data"
    }
   ],
   "source": [
    "sns.scatterplot(data = pseudobulked_metadata,\n",
    "                x = \"PC1\", y = \"PC2\", hue = \"sex\")\n",
    "plt.legend(title='sex', bbox_to_anchor=(1.05, 1), loc='upper left')"
   ]
  },
  {
   "cell_type": "code",
   "execution_count": 40,
   "id": "176aedf1-aa1c-40af-92b9-f9aebe461468",
   "metadata": {},
   "outputs": [
    {
     "data": {
      "text/plain": [
       "Series([], Name: donor_id, dtype: category\n",
       "Categories (13, object): ['ENCFF248EWR', 'ENCFF684YRB', 'ENCFF727JRO', 'ENCFF775ANN', ..., 'GSM4742858_Fetal2_processed', 'GSM4742859_Fetal3_processed', 'Penn_F1', 'Penn_F2'])"
      ]
     },
     "execution_count": 40,
     "metadata": {},
     "output_type": "execute_result"
    }
   ],
   "source": [
    "likely_misclassified_female_donors = pseudobulked_metadata[(pseudobulked_metadata['PC1'] < 0) & (pseudobulked_metadata['sex'] == \"male\")].donor_id\n",
    "likely_misclassified_female_donors"
   ]
  },
  {
   "cell_type": "code",
   "execution_count": 41,
   "id": "5d987e38-e6c1-45e1-8d1f-59ff18e4e2c7",
   "metadata": {},
   "outputs": [
    {
     "data": {
      "text/plain": [
       "Series([], Name: donor_id, dtype: category\n",
       "Categories (13, object): ['ENCFF248EWR', 'ENCFF684YRB', 'ENCFF727JRO', 'ENCFF775ANN', ..., 'GSM4742858_Fetal2_processed', 'GSM4742859_Fetal3_processed', 'Penn_F1', 'Penn_F2'])"
      ]
     },
     "execution_count": 41,
     "metadata": {},
     "output_type": "execute_result"
    }
   ],
   "source": [
    "likely_misclassified_male_donors = pseudobulked_metadata[(pseudobulked_metadata['PC1'] > 0) & (pseudobulked_metadata['sex'] == \"female\")].donor_id\n",
    "likely_misclassified_male_donors"
   ]
  },
  {
   "cell_type": "code",
   "execution_count": 42,
   "id": "ad63f200-e657-47ee-9e15-e7e0fd141f8c",
   "metadata": {},
   "outputs": [],
   "source": [
    "all_adata.obs.loc[all_adata.obs.donor_id.isin(likely_misclassified_male_donors), 'sex'] = \"male\""
   ]
  },
  {
   "cell_type": "code",
   "execution_count": 43,
   "id": "aa15588b-32b2-4862-9151-9172a2432000",
   "metadata": {},
   "outputs": [],
   "source": [
    "all_adata.obs.loc[all_adata.obs.donor_id.isin(likely_misclassified_female_donors), 'sex'] = \"female\""
   ]
  },
  {
   "cell_type": "markdown",
   "id": "4efffd40-4c49-4721-af66-72f7e02fdf93",
   "metadata": {},
   "source": [
    "There seem to be no donors that are misannotated by sex"
   ]
  },
  {
   "cell_type": "markdown",
   "id": "d9108cb8-4869-4ba0-8b29-f6d246028d6a",
   "metadata": {},
   "source": [
    "#### Save the combined adata"
   ]
  },
  {
   "cell_type": "code",
   "execution_count": 44,
   "id": "78bd147c-b605-434c-967a-b9336b40f22c",
   "metadata": {},
   "outputs": [],
   "source": [
    "all_adata.obs['age'] = all_adata.obs['age'].astype('float')\n",
    "all_adata.var_names = all_adata.var_names.astype(str)"
   ]
  },
  {
   "cell_type": "markdown",
   "id": "5df7f242-babf-4dda-9d2f-311a91b72791",
   "metadata": {},
   "source": [
    "Add tech plus study as batch effect"
   ]
  },
  {
   "cell_type": "code",
   "execution_count": 45,
   "id": "3fab2347-26a7-46ce-92a9-5874984441a9",
   "metadata": {},
   "outputs": [],
   "source": [
    "all_adata.obs['tech_plus_study'] = all_adata.obs['technology'].astype(str) + \"_\" + all_adata.obs['study'].astype(str)"
   ]
  },
  {
   "cell_type": "code",
   "execution_count": 46,
   "id": "8fb30583-818f-48c6-8dcf-b21f0ab06619",
   "metadata": {},
   "outputs": [
    {
     "data": {
      "text/plain": [
       "{'3prime-v1_Sim 2021', 'Dropseq_Penn', 'Multiome-v1_ENCODE v4 (Snyder)'}"
      ]
     },
     "execution_count": 46,
     "metadata": {},
     "output_type": "execute_result"
    }
   ],
   "source": [
    "set(all_adata.obs.tech_plus_study)"
   ]
  },
  {
   "cell_type": "code",
   "execution_count": 47,
   "id": "8c8c719a-6656-40b0-ba75-0349833d6395",
   "metadata": {},
   "outputs": [
    {
     "data": {
      "text/plain": [
       "{'Cardiomyocyte',\n",
       " 'Endocardial',\n",
       " 'Endothelial',\n",
       " 'Epicardial',\n",
       " 'Fibroblast',\n",
       " 'Lymphoid',\n",
       " 'Myeloid',\n",
       " 'Neuronal',\n",
       " 'Pericyte',\n",
       " 'Unclear'}"
      ]
     },
     "execution_count": 47,
     "metadata": {},
     "output_type": "execute_result"
    }
   ],
   "source": [
    "set(all_adata.obs.consistent_cell_type)"
   ]
  },
  {
   "cell_type": "code",
   "execution_count": 48,
   "id": "44d16e37-5405-4f49-ac2e-9e3a6f7e79d1",
   "metadata": {},
   "outputs": [
    {
     "data": {
      "text/plain": [
       "{'female', 'male'}"
      ]
     },
     "execution_count": 48,
     "metadata": {},
     "output_type": "execute_result"
    }
   ],
   "source": [
    "set(all_adata.obs.sex)"
   ]
  },
  {
   "cell_type": "code",
   "execution_count": 49,
   "id": "e2a6488d-8417-4cb7-880a-fd46f27d7901",
   "metadata": {},
   "outputs": [
    {
     "data": {
      "text/plain": [
       "AnnData object with n_obs × n_vars = 150161 × 19214\n",
       "    obs: 'age', 'donor_id', 'sex', 'region', 'cell_type', 'disease', 'consistent_cell_type', 'study', 'technology', 'cell_or_nuclei', 'sample_id', 'barcode', 'tech_plus_study'\n",
       "    obsm: 'X_pca', 'X_pca_harmony', 'X_umap'\n",
       "    layers: 'counts'"
      ]
     },
     "execution_count": 49,
     "metadata": {},
     "output_type": "execute_result"
    }
   ],
   "source": [
    "all_adata"
   ]
  },
  {
   "cell_type": "code",
   "execution_count": 50,
   "id": "dcd7e83b-97b0-450d-95c3-caf58cf37925",
   "metadata": {},
   "outputs": [
    {
     "data": {
      "text/plain": [
       "True"
      ]
     },
     "execution_count": 50,
     "metadata": {},
     "output_type": "execute_result"
    }
   ],
   "source": [
    "# finally, reconfirm that these are the raw counts\n",
    "confirm_raw_counts(all_adata)"
   ]
  },
  {
   "cell_type": "markdown",
   "id": "ad52a062-7202-446d-8f36-ca6e48459f2b",
   "metadata": {},
   "source": [
    "### add age status"
   ]
  },
  {
   "cell_type": "code",
   "execution_count": 51,
   "id": "2cdef8fd-d179-429b-90d5-37437d22594b",
   "metadata": {},
   "outputs": [],
   "source": [
    "all_adata.obs['age_status'] = \"fetal\""
   ]
  },
  {
   "cell_type": "code",
   "execution_count": null,
   "id": "ab3d4a91-6193-4d05-b245-e657c8ecfa43",
   "metadata": {},
   "outputs": [],
   "source": [
    "all_adata.write(\"01_combined_LV_fetal.h5ad\")\n",
    "gc.collect()"
   ]
  }
 ],
 "metadata": {
  "kernelspec": {
   "display_name": "Python 3 (ipykernel)",
   "language": "python",
   "name": "python3"
  },
  "language_info": {
   "codemirror_mode": {
    "name": "ipython",
    "version": 3
   },
   "file_extension": ".py",
   "mimetype": "text/x-python",
   "name": "python",
   "nbconvert_exporter": "python",
   "pygments_lexer": "ipython3",
   "version": "3.12.5"
  }
 },
 "nbformat": 4,
 "nbformat_minor": 5
}

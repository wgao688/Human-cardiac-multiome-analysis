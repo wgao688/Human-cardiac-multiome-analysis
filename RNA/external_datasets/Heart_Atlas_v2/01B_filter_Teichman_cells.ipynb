{
 "cells": [
  {
   "cell_type": "markdown",
   "id": "9ae727a3-e68c-42cc-894a-7bb4b07790a8",
   "metadata": {},
   "source": [
    "### Filter to just the cells (not Nuclei)\n",
    "\n",
    "#### Teichman datasets (Litvinkova et al. 2020, Kanemaru et al. 2023)\n",
    "\n",
    "Downloaded the raw counts from Heart Atlas v2\n",
    "\n",
    "1. Technology: there are 3 technologies: 10x Multiome-v1 (Kanemaru), 10x Nuclei_3prime-v2 (Litvinukova), 10x Nuclei_3prime-v3 (Litvinukova)\n",
    "2. Cell vs. nuclei: Both, but we will filter to just the nuclei\n",
    "3. Regions: whole heart ('LV': 148429, 'RV': 104454, 'AX': 102221, 'SP': 99024, 'LA': 74501, 'SAN': 69153, 'RA': 57495, 'AVN': 49019), but we will filter to just LV; AX = apex, SP = interventricular septum"
   ]
  },
  {
   "cell_type": "markdown",
   "id": "00a7385b-d026-4994-af6d-980696cb9cb7",
   "metadata": {},
   "source": [
    "#### This script cleans up the metadata and makes it more consistent with other datasets \n",
    "\n",
    "After this script, run the separate preprocessing steps for each of the different technologies."
   ]
  },
  {
   "cell_type": "code",
   "execution_count": 1,
   "id": "0395cea6-7fef-43a5-85ab-8ee3e2d944af",
   "metadata": {},
   "outputs": [],
   "source": [
    "import numpy as np\n",
    "import pandas as pd\n",
    "import scanpy as sc\n",
    "import os\n",
    "from collections import Counter\n",
    "import re\n",
    "import gc\n",
    "import scanpy.external as sce"
   ]
  },
  {
   "cell_type": "code",
   "execution_count": 2,
   "id": "fadc6871-cb97-494f-b018-16f75b8b1ac7",
   "metadata": {},
   "outputs": [],
   "source": [
    "def age_convertor(input_string):\n",
    "    '''\n",
    "    Convert the age group to the midway value (e.g., 70-75 = 72.5)\n",
    "    '''\n",
    "    \n",
    "    # Split the input string by '-'\n",
    "    parts = input_string.split('-')\n",
    "\n",
    "    # Convert parts to integers\n",
    "    numbers = [int(part) for part in parts]\n",
    "\n",
    "    # Calculate the average\n",
    "    average_value = sum(numbers) / len(numbers)\n",
    "\n",
    "    return average_value"
   ]
  },
  {
   "cell_type": "code",
   "execution_count": 3,
   "id": "55d24a07-815b-483a-91c0-563f85809694",
   "metadata": {},
   "outputs": [],
   "source": [
    "def confirm_raw_counts(adata):\n",
    "    \"\"\"\n",
    "    Check if every value in adata.X.sum(axis=1), the sum of counts across all genes per cell, is an integer.   \n",
    "\n",
    "    Parameters:\n",
    "    adata (AnnData): The AnnData object containing the data matrix (adata.X).\n",
    "\n",
    "    Returns:\n",
    "    bool: True if all sums are integers, False otherwise.\n",
    "    \"\"\"\n",
    "    # Sum across rows (axis=1), which correspond to the genes\n",
    "    sums = adata.X.sum(axis=1)\n",
    "    \n",
    "    # Check if all sums are integers by comparing them to their rounded versions\n",
    "    return np.all(np.equal(sums, np.round(sums)))"
   ]
  },
  {
   "cell_type": "code",
   "execution_count": 4,
   "id": "8a07590e-fd42-4a78-b7e2-2a34d1c28da6",
   "metadata": {},
   "outputs": [
    {
     "name": "stdout",
     "output_type": "stream",
     "text": [
      "CPU times: user 1.85 s, sys: 4.91 s, total: 6.75 s\n",
      "Wall time: 6.75 s\n"
     ]
    }
   ],
   "source": [
    "%%time\n",
    "# read in the entire dataset\n",
    "adata = sc.read_h5ad(\"Global_raw_RNA_counts.h5ad\")"
   ]
  },
  {
   "cell_type": "code",
   "execution_count": 5,
   "id": "399ad814-e326-4342-be62-5fa6067f44f0",
   "metadata": {},
   "outputs": [
    {
     "data": {
      "text/plain": [
       "True"
      ]
     },
     "execution_count": 5,
     "metadata": {},
     "output_type": "execute_result"
    }
   ],
   "source": [
    "# confirm that these are the raw counts\n",
    "confirm_raw_counts(adata)"
   ]
  },
  {
   "cell_type": "code",
   "execution_count": 6,
   "id": "dd692af9-2209-48e9-bf09-f6135f246c7c",
   "metadata": {},
   "outputs": [],
   "source": [
    "# the sinoatrial node region has 'nan' for age\n",
    "# but these correspond to donors AH1 and A61, which per the metadata has age 45-50 and 70-75, respectively\n",
    "adata.obs.loc[adata.obs.age == 'nan', ]\n",
    "adata.obs.loc[adata.obs.donor == \"AH1\", 'age'] = '45-50'\n",
    "adata.obs.loc[adata.obs.donor == \"A61\", 'age'] = '70-75'\n",
    "adata.obs.age = adata.obs.age.cat.remove_unused_categories()"
   ]
  },
  {
   "cell_type": "code",
   "execution_count": 7,
   "id": "ad5e6707-111b-4f04-bdd0-079b32ac98e4",
   "metadata": {},
   "outputs": [
    {
     "data": {
      "text/html": [
       "<div>\n",
       "<style scoped>\n",
       "    .dataframe tbody tr th:only-of-type {\n",
       "        vertical-align: middle;\n",
       "    }\n",
       "\n",
       "    .dataframe tbody tr th {\n",
       "        vertical-align: top;\n",
       "    }\n",
       "\n",
       "    .dataframe thead th {\n",
       "        text-align: right;\n",
       "    }\n",
       "</style>\n",
       "<table border=\"1\" class=\"dataframe\">\n",
       "  <thead>\n",
       "    <tr style=\"text-align: right;\">\n",
       "      <th></th>\n",
       "      <th>donor_id</th>\n",
       "      <th>age</th>\n",
       "      <th>sex</th>\n",
       "      <th>cell_type</th>\n",
       "      <th>technology</th>\n",
       "      <th>region</th>\n",
       "      <th>study</th>\n",
       "      <th>cell_or_nuclei</th>\n",
       "    </tr>\n",
       "    <tr>\n",
       "      <th>barcode</th>\n",
       "      <th></th>\n",
       "      <th></th>\n",
       "      <th></th>\n",
       "      <th></th>\n",
       "      <th></th>\n",
       "      <th></th>\n",
       "      <th></th>\n",
       "      <th></th>\n",
       "    </tr>\n",
       "  </thead>\n",
       "  <tbody>\n",
       "    <tr>\n",
       "      <th>HCAHeart7606896_GATGAGGCACGGCTAC</th>\n",
       "      <td>D1-Cell_3prime-v2</td>\n",
       "      <td>52.5</td>\n",
       "      <td>female</td>\n",
       "      <td>Endothelial cell</td>\n",
       "      <td>3prime-v2</td>\n",
       "      <td>AX</td>\n",
       "      <td>Teichman</td>\n",
       "      <td>Cell</td>\n",
       "    </tr>\n",
       "    <tr>\n",
       "      <th>HCAHeart7606896_CGCTTCACATTTGCCC</th>\n",
       "      <td>D1-Cell_3prime-v2</td>\n",
       "      <td>52.5</td>\n",
       "      <td>female</td>\n",
       "      <td>Mural cell</td>\n",
       "      <td>3prime-v2</td>\n",
       "      <td>AX</td>\n",
       "      <td>Teichman</td>\n",
       "      <td>Cell</td>\n",
       "    </tr>\n",
       "    <tr>\n",
       "      <th>HCAHeart7606896_GTTAAGCAGAGACTAT</th>\n",
       "      <td>D1-Cell_3prime-v2</td>\n",
       "      <td>52.5</td>\n",
       "      <td>female</td>\n",
       "      <td>Endothelial cell</td>\n",
       "      <td>3prime-v2</td>\n",
       "      <td>AX</td>\n",
       "      <td>Teichman</td>\n",
       "      <td>Cell</td>\n",
       "    </tr>\n",
       "    <tr>\n",
       "      <th>HCAHeart7606896_TCGCGTTGTAAGAGGA</th>\n",
       "      <td>D1-Cell_3prime-v2</td>\n",
       "      <td>52.5</td>\n",
       "      <td>female</td>\n",
       "      <td>Mural cell</td>\n",
       "      <td>3prime-v2</td>\n",
       "      <td>AX</td>\n",
       "      <td>Teichman</td>\n",
       "      <td>Cell</td>\n",
       "    </tr>\n",
       "    <tr>\n",
       "      <th>HCAHeart7606896_GCTGCGAGTGTTGGGA</th>\n",
       "      <td>D1-Cell_3prime-v2</td>\n",
       "      <td>52.5</td>\n",
       "      <td>female</td>\n",
       "      <td>Endothelial cell</td>\n",
       "      <td>3prime-v2</td>\n",
       "      <td>AX</td>\n",
       "      <td>Teichman</td>\n",
       "      <td>Cell</td>\n",
       "    </tr>\n",
       "  </tbody>\n",
       "</table>\n",
       "</div>"
      ],
      "text/plain": [
       "                                           donor_id   age     sex  \\\n",
       "barcode                                                             \n",
       "HCAHeart7606896_GATGAGGCACGGCTAC  D1-Cell_3prime-v2  52.5  female   \n",
       "HCAHeart7606896_CGCTTCACATTTGCCC  D1-Cell_3prime-v2  52.5  female   \n",
       "HCAHeart7606896_GTTAAGCAGAGACTAT  D1-Cell_3prime-v2  52.5  female   \n",
       "HCAHeart7606896_TCGCGTTGTAAGAGGA  D1-Cell_3prime-v2  52.5  female   \n",
       "HCAHeart7606896_GCTGCGAGTGTTGGGA  D1-Cell_3prime-v2  52.5  female   \n",
       "\n",
       "                                         cell_type technology region  \\\n",
       "barcode                                                                \n",
       "HCAHeart7606896_GATGAGGCACGGCTAC  Endothelial cell  3prime-v2     AX   \n",
       "HCAHeart7606896_CGCTTCACATTTGCCC        Mural cell  3prime-v2     AX   \n",
       "HCAHeart7606896_GTTAAGCAGAGACTAT  Endothelial cell  3prime-v2     AX   \n",
       "HCAHeart7606896_TCGCGTTGTAAGAGGA        Mural cell  3prime-v2     AX   \n",
       "HCAHeart7606896_GCTGCGAGTGTTGGGA  Endothelial cell  3prime-v2     AX   \n",
       "\n",
       "                                     study cell_or_nuclei  \n",
       "barcode                                                    \n",
       "HCAHeart7606896_GATGAGGCACGGCTAC  Teichman           Cell  \n",
       "HCAHeart7606896_CGCTTCACATTTGCCC  Teichman           Cell  \n",
       "HCAHeart7606896_GTTAAGCAGAGACTAT  Teichman           Cell  \n",
       "HCAHeart7606896_TCGCGTTGTAAGAGGA  Teichman           Cell  \n",
       "HCAHeart7606896_GCTGCGAGTGTTGGGA  Teichman           Cell  "
      ]
     },
     "execution_count": 7,
     "metadata": {},
     "output_type": "execute_result"
    }
   ],
   "source": [
    "# extract the relevant metadata\n",
    "metadata = adata.obs[['donor', 'age', 'gender', 'scANVI_predictions', 'batch', 'region']]\n",
    "\n",
    "# for later consistency, change the column names\n",
    "metadata = metadata.rename(\n",
    "    columns={'scANVI_predictions': 'cell_type', \n",
    "             'gender': 'sex', \n",
    "             'donor': 'donor_id', \n",
    "             'batch': 'technology'})\n",
    "\n",
    "# convert age to numerical value\n",
    "metadata.age = metadata.age.apply(lambda x: age_convertor(x))\n",
    "\n",
    "# add technology\n",
    "metadata.technology = metadata.technology.apply(lambda x: x.split('_', 1)[-1])\n",
    "\n",
    "# since some donors have runs on 10X GEX and Multiome, concatenate these as the donor_id\n",
    "metadata['donor_id'] = metadata['donor_id'].astype('str')\n",
    "metadata['technology'] = metadata['technology'].astype('str')\n",
    "metadata['donor_id'] = metadata['donor_id'] + \"-\" + metadata['technology']\n",
    "\n",
    "# add additional columns to metadata\n",
    "metadata['study'] = 'Teichman'\n",
    "metadata['sex'] = metadata['sex'].str.lower() # make sex lowercase \n",
    "\n",
    "# extract the sample type (cell or nuclei) from the technology column\n",
    "split_data = metadata['technology'].str.split('_', n=1, expand=True)\n",
    "\n",
    "metadata['cell_or_nuclei'] = split_data[0]\n",
    "metadata['technology'] = split_data[1]\n",
    "\n",
    "# add back metadata to adata\n",
    "adata.obs = metadata\n",
    "adata.obs.head()"
   ]
  },
  {
   "cell_type": "code",
   "execution_count": 8,
   "id": "82dacfc5-d39f-4af9-a98d-00f14bec447f",
   "metadata": {},
   "outputs": [
    {
     "data": {
      "text/plain": [
       "Counter({'LV': 148429,\n",
       "         'RV': 104454,\n",
       "         'AX': 102221,\n",
       "         'SP': 99024,\n",
       "         'LA': 74501,\n",
       "         'SAN': 69153,\n",
       "         'RA': 57495,\n",
       "         'AVN': 49019})"
      ]
     },
     "execution_count": 8,
     "metadata": {},
     "output_type": "execute_result"
    }
   ],
   "source": [
    "Counter(adata.obs.region)"
   ]
  },
  {
   "cell_type": "markdown",
   "id": "e5de1b3d-81a8-4208-b6f3-0a5eb61999bd",
   "metadata": {},
   "source": [
    "### Filter to just LV"
   ]
  },
  {
   "cell_type": "code",
   "execution_count": 9,
   "id": "bc94e057-065e-4392-8a79-cd34f383f3f5",
   "metadata": {},
   "outputs": [],
   "source": [
    "adata = adata[adata.obs.region == \"LV\"]"
   ]
  },
  {
   "cell_type": "code",
   "execution_count": 10,
   "id": "5361dfbe-9c66-4666-86f5-194747c72d9e",
   "metadata": {},
   "outputs": [
    {
     "data": {
      "text/plain": [
       "Counter({'LV': 148429})"
      ]
     },
     "execution_count": 10,
     "metadata": {},
     "output_type": "execute_result"
    }
   ],
   "source": [
    "Counter(adata.obs.region)"
   ]
  },
  {
   "cell_type": "markdown",
   "id": "43c7173b-5055-4bcd-a23c-88f2a47162f1",
   "metadata": {},
   "source": [
    "### Filter to just nuclei"
   ]
  },
  {
   "cell_type": "code",
   "execution_count": 11,
   "id": "421838c4-add7-4e68-8cf0-1352e67bd5cf",
   "metadata": {},
   "outputs": [],
   "source": [
    "adata = adata[adata.obs.cell_or_nuclei == \"Cell\"]"
   ]
  },
  {
   "cell_type": "code",
   "execution_count": 12,
   "id": "99f7efb9-d2b7-4a6d-9312-32c700410120",
   "metadata": {},
   "outputs": [
    {
     "data": {
      "text/plain": [
       "Counter({'Cell': 25803})"
      ]
     },
     "execution_count": 12,
     "metadata": {},
     "output_type": "execute_result"
    }
   ],
   "source": [
    "Counter(adata.obs.cell_or_nuclei)"
   ]
  },
  {
   "cell_type": "markdown",
   "id": "7e8b0d08-4ffc-4df2-8213-19943eb3b32d",
   "metadata": {},
   "source": [
    "### Make the gene symbol the adata.var rather than the ENSEMBL ID"
   ]
  },
  {
   "cell_type": "code",
   "execution_count": 13,
   "id": "0c7cdba5-3ee6-465c-9dfc-a0ea87073d56",
   "metadata": {},
   "outputs": [
    {
     "name": "stderr",
     "output_type": "stream",
     "text": [
      "/mnt/data1/william/tmp/ipykernel_380902/3557197988.py:1: ImplicitModificationWarning: Trying to modify attribute `.var` of view, initializing view as actual.\n",
      "  adata.var['ensembl_id'] = adata.var.index\n"
     ]
    }
   ],
   "source": [
    "adata.var['ensembl_id'] = adata.var.index\n",
    "adata.var.index = adata.var['gene_name-new'].astype(str)\n",
    "adata.var = adata.var.drop(columns = ['gene_name-new'])\n",
    "adata.var_names_make_unique()\n",
    "adata.var_names = adata.var.index.astype(str)"
   ]
  },
  {
   "cell_type": "markdown",
   "id": "70498021-c6bd-4d9c-a652-e72221c9fa4d",
   "metadata": {},
   "source": [
    "#### Create a new adata.obs column called consistent_cell_type based on the original studies' annotation"
   ]
  },
  {
   "cell_type": "code",
   "execution_count": 14,
   "id": "c56754a0-4916-4a7f-a3ff-105dc37b3197",
   "metadata": {},
   "outputs": [
    {
     "data": {
      "text/plain": [
       "Counter({'Endothelial cell': 16931,\n",
       "         'Mural cell': 4307,\n",
       "         'Lymphoid': 2040,\n",
       "         'Myeloid': 2000,\n",
       "         'Ventricular Cardiomyocyte': 238,\n",
       "         'Fibroblast': 193,\n",
       "         'Neuronal cell': 50,\n",
       "         'Lymphatic Endothelial cell': 30,\n",
       "         'Mesothelial cell': 14})"
      ]
     },
     "execution_count": 14,
     "metadata": {},
     "output_type": "execute_result"
    }
   ],
   "source": [
    "Counter(adata.obs.cell_type)"
   ]
  },
  {
   "cell_type": "code",
   "execution_count": 15,
   "id": "3f1c25e4-1d59-4149-bcf3-aa3210270a36",
   "metadata": {},
   "outputs": [
    {
     "data": {
      "text/plain": [
       "Counter({'Endothelial': 16931,\n",
       "         'Pericyte': 4307,\n",
       "         'Lymphoid': 2040,\n",
       "         'Myeloid': 2000,\n",
       "         'Cardiomyocyte': 238,\n",
       "         'Fibroblast': 193,\n",
       "         'Neuronal': 50,\n",
       "         'LEC': 30,\n",
       "         'Epicardial': 14})"
      ]
     },
     "execution_count": 15,
     "metadata": {},
     "output_type": "execute_result"
    }
   ],
   "source": [
    "# add a consistent cell type label \n",
    "adata.obs[\"consistent_cell_type\"] = adata.obs['cell_type'].map(\n",
    "    {\n",
    "        \"Ventricular Cardiomyocyte\": \"Cardiomyocyte\",\n",
    "        \"Atrial Cardiomyocyte\": \"Cardiomyocyte\",\n",
    "        \"Endothelial cell\": \"Endothelial\", \n",
    "        \"Mural cell\": \"Pericyte\", \n",
    "        \"Lymphoid\": \"Lymphoid\",\n",
    "        \"Adipocyte\": \"Adipocyte\",\n",
    "        \"Fibroblast\": \"Fibroblast\",\n",
    "        \"Myeloid\": \"Myeloid\",\n",
    "        \"Neuronal cell\": \"Neuronal\", \n",
    "        \"Mast cell\": \"Mast\", \n",
    "        \"Lymphatic Endothelial cell\": \"LEC\", \n",
    "        \"Mesothelial cell\": \"Epicardial\", \n",
    "    }\n",
    ")\n",
    "\n",
    "# view the unique labels\n",
    "Counter(adata.obs.consistent_cell_type)"
   ]
  },
  {
   "cell_type": "code",
   "execution_count": 16,
   "id": "1f1669bb-d785-4b3a-b1ed-db120eeec4a8",
   "metadata": {},
   "outputs": [
    {
     "data": {
      "image/png": "[encoded data removed]",
      "text/plain": [
       "<Figure size 640x480 with 1 Axes>"
      ]
     },
     "metadata": {},
     "output_type": "display_data"
    }
   ],
   "source": [
    "sc.pl.umap(adata, color = \"consistent_cell_type\", legend_loc = \"on data\")"
   ]
  },
  {
   "cell_type": "code",
   "execution_count": 17,
   "id": "8bc69d8a-66c0-4c55-88df-9c0b39ed5042",
   "metadata": {},
   "outputs": [
    {
     "data": {
      "text/plain": [
       "AnnData object with n_obs × n_vars = 25803 × 32732\n",
       "    obs: 'donor_id', 'age', 'sex', 'cell_type', 'technology', 'region', 'study', 'cell_or_nuclei', 'consistent_cell_type'\n",
       "    var: 'gene_name_scRNA-0-original', 'gene_name_snRNA-1-original', 'gene_name_multiome-2-original', 'ensembl_id'\n",
       "    uns: 'cell_or_nuclei_colors', 'cell_state_colors', 'cell_type_colors', 'donor_colors', 'donor_type_colors', 'facility_colors', 'flushed_colors', 'gender_colors', 'kit_10x_colors', 'leiden', 'modality_colors', 'neighbors', 'original_or_new_colors', 'region_colors', 'region_finest_colors', 'scANVI_predictions_colors', 'umap', 'consistent_cell_type_colors'\n",
       "    obsm: 'X_scArches', 'X_umap'\n",
       "    obsp: 'connectivities', 'distances'"
      ]
     },
     "execution_count": 17,
     "metadata": {},
     "output_type": "execute_result"
    }
   ],
   "source": [
    "adata"
   ]
  },
  {
   "cell_type": "code",
   "execution_count": 18,
   "id": "69901b1b-fea4-4e14-8f3d-91777d07e5ee",
   "metadata": {},
   "outputs": [],
   "source": [
    "# add counts layer\n",
    "adata.layers['counts'] = adata.X"
   ]
  },
  {
   "cell_type": "code",
   "execution_count": 19,
   "id": "4f10b503-eced-41d1-8fcb-ba9bf300f205",
   "metadata": {},
   "outputs": [],
   "source": [
    "adata.write(\"Teichman_LV_cell.h5ad\")"
   ]
  }
 ],
 "metadata": {
  "kernelspec": {
   "display_name": "Python 3 (ipykernel)",
   "language": "python",
   "name": "python3"
  },
  "language_info": {
   "codemirror_mode": {
    "name": "ipython",
    "version": 3
   },
   "file_extension": ".py",
   "mimetype": "text/x-python",
   "name": "python",
   "nbconvert_exporter": "python",
   "pygments_lexer": "ipython3",
   "version": "3.12.5"
  }
 },
 "nbformat": 4,
 "nbformat_minor": 5
}

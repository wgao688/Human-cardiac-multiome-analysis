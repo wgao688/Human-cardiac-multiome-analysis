{
 "cells": [
  {
   "cell_type": "code",
   "execution_count": 1,
   "id": "057cea87-bbca-4c5f-b27f-44340c0b8aa9",
   "metadata": {},
   "outputs": [],
   "source": [
    "import numpy as np\n",
    "import pandas as pd\n",
    "import scanpy as sc\n",
    "import os\n",
    "from collections import Counter\n",
    "import re\n",
    "import scanpy.external as sce"
   ]
  },
  {
   "cell_type": "markdown",
   "id": "7f0d6348-61be-47fa-9de2-f9802e549f0d",
   "metadata": {},
   "source": [
    "Load in the scRNA + snRNA Koenig adata"
   ]
  },
  {
   "cell_type": "code",
   "execution_count": 2,
   "id": "aaf7325a-60cf-41c7-a8fb-2aeb9d7274cc",
   "metadata": {},
   "outputs": [],
   "source": [
    "adata = sc.read_h5ad(\"Koenig_all_sc_snRNA.h5ad\")"
   ]
  },
  {
   "cell_type": "code",
   "execution_count": 3,
   "id": "a5b090fb-0778-4cbf-b745-97143e99a694",
   "metadata": {},
   "outputs": [
    {
     "data": {
      "text/plain": [
       "matrix([[1245],\n",
       "        [1464],\n",
       "        [1668],\n",
       "        ...,\n",
       "        [5454],\n",
       "        [5947],\n",
       "        [8425]])"
      ]
     },
     "execution_count": 3,
     "metadata": {},
     "output_type": "execute_result"
    }
   ],
   "source": [
    "adata.X.sum(axis = 1)"
   ]
  },
  {
   "cell_type": "code",
   "execution_count": 4,
   "id": "ce1b3b6b-7eeb-45d0-8d18-dce1fd6a6865",
   "metadata": {},
   "outputs": [],
   "source": [
    "# store the raw counts\n",
    "adata.layers[\"counts\"] = adata.X"
   ]
  },
  {
   "cell_type": "code",
   "execution_count": 5,
   "id": "618643f7-f368-485e-bf96-b60e0a0bb71f",
   "metadata": {},
   "outputs": [
    {
     "data": {
      "text/html": [
       "<div>\n",
       "<style scoped>\n",
       "    .dataframe tbody tr th:only-of-type {\n",
       "        vertical-align: middle;\n",
       "    }\n",
       "\n",
       "    .dataframe tbody tr th {\n",
       "        vertical-align: top;\n",
       "    }\n",
       "\n",
       "    .dataframe thead th {\n",
       "        text-align: right;\n",
       "    }\n",
       "</style>\n",
       "<table border=\"1\" class=\"dataframe\">\n",
       "  <thead>\n",
       "    <tr style=\"text-align: right;\">\n",
       "      <th></th>\n",
       "      <th>Sex</th>\n",
       "      <th>Names</th>\n",
       "      <th>orig.ident</th>\n",
       "      <th>condition</th>\n",
       "      <th>tech</th>\n",
       "    </tr>\n",
       "  </thead>\n",
       "  <tbody>\n",
       "    <tr>\n",
       "      <th>H_ZC-11-292_TAAGTGCAGCAGGTCA</th>\n",
       "      <td>Male</td>\n",
       "      <td>Endocardium</td>\n",
       "      <td>H_ZC-11-292</td>\n",
       "      <td>Donor</td>\n",
       "      <td>SN</td>\n",
       "    </tr>\n",
       "    <tr>\n",
       "      <th>H_ZC-11-292_ACAGCCGGTCATACTG</th>\n",
       "      <td>Male</td>\n",
       "      <td>Endocardium</td>\n",
       "      <td>H_ZC-11-292</td>\n",
       "      <td>Donor</td>\n",
       "      <td>SN</td>\n",
       "    </tr>\n",
       "    <tr>\n",
       "      <th>H_ZC-11-292_AACTCCCTCTTTAGTC</th>\n",
       "      <td>Male</td>\n",
       "      <td>Endocardium</td>\n",
       "      <td>H_ZC-11-292</td>\n",
       "      <td>Donor</td>\n",
       "      <td>SN</td>\n",
       "    </tr>\n",
       "    <tr>\n",
       "      <th>H_ZC-11-292_CTGATCCGTTATTCTC</th>\n",
       "      <td>Male</td>\n",
       "      <td>Endocardium</td>\n",
       "      <td>H_ZC-11-292</td>\n",
       "      <td>Donor</td>\n",
       "      <td>SN</td>\n",
       "    </tr>\n",
       "    <tr>\n",
       "      <th>H_ZC-11-292_GCACTCTTCTCGTATT</th>\n",
       "      <td>Male</td>\n",
       "      <td>Endocardium</td>\n",
       "      <td>H_ZC-11-292</td>\n",
       "      <td>Donor</td>\n",
       "      <td>SN</td>\n",
       "    </tr>\n",
       "  </tbody>\n",
       "</table>\n",
       "</div>"
      ],
      "text/plain": [
       "                               Sex        Names   orig.ident condition tech\n",
       "H_ZC-11-292_TAAGTGCAGCAGGTCA  Male  Endocardium  H_ZC-11-292     Donor   SN\n",
       "H_ZC-11-292_ACAGCCGGTCATACTG  Male  Endocardium  H_ZC-11-292     Donor   SN\n",
       "H_ZC-11-292_AACTCCCTCTTTAGTC  Male  Endocardium  H_ZC-11-292     Donor   SN\n",
       "H_ZC-11-292_CTGATCCGTTATTCTC  Male  Endocardium  H_ZC-11-292     Donor   SN\n",
       "H_ZC-11-292_GCACTCTTCTCGTATT  Male  Endocardium  H_ZC-11-292     Donor   SN"
      ]
     },
     "execution_count": 5,
     "metadata": {},
     "output_type": "execute_result"
    }
   ],
   "source": [
    "adata.obs.head()"
   ]
  },
  {
   "cell_type": "markdown",
   "id": "d653b05f-7089-434e-8f23-71d018260067",
   "metadata": {},
   "source": [
    "Add age information from donor metadata file"
   ]
  },
  {
   "cell_type": "code",
   "execution_count": 6,
   "id": "c6f9625f-8c39-42a2-abfc-0a47bcf5f5d1",
   "metadata": {},
   "outputs": [
    {
     "data": {
      "text/html": [
       "<div>\n",
       "<style scoped>\n",
       "    .dataframe tbody tr th:only-of-type {\n",
       "        vertical-align: middle;\n",
       "    }\n",
       "\n",
       "    .dataframe tbody tr th {\n",
       "        vertical-align: top;\n",
       "    }\n",
       "\n",
       "    .dataframe thead th {\n",
       "        text-align: right;\n",
       "    }\n",
       "</style>\n",
       "<table border=\"1\" class=\"dataframe\">\n",
       "  <thead>\n",
       "    <tr style=\"text-align: right;\">\n",
       "      <th></th>\n",
       "      <th>donor_id</th>\n",
       "      <th>age</th>\n",
       "      <th>sex</th>\n",
       "      <th>disease</th>\n",
       "    </tr>\n",
       "  </thead>\n",
       "  <tbody>\n",
       "    <tr>\n",
       "      <th>0</th>\n",
       "      <td>H_ZC-11-292</td>\n",
       "      <td>68.0</td>\n",
       "      <td>male</td>\n",
       "      <td>Healthy</td>\n",
       "    </tr>\n",
       "    <tr>\n",
       "      <th>1</th>\n",
       "      <td>H_ZC-LVAD</td>\n",
       "      <td>58.0</td>\n",
       "      <td>male</td>\n",
       "      <td>DCM</td>\n",
       "    </tr>\n",
       "    <tr>\n",
       "      <th>2</th>\n",
       "      <td>TWCM-10-5</td>\n",
       "      <td>53.0</td>\n",
       "      <td>female</td>\n",
       "      <td>DCM</td>\n",
       "    </tr>\n",
       "    <tr>\n",
       "      <th>3</th>\n",
       "      <td>TWCM-10-68</td>\n",
       "      <td>62.0</td>\n",
       "      <td>female</td>\n",
       "      <td>Healthy</td>\n",
       "    </tr>\n",
       "    <tr>\n",
       "      <th>4</th>\n",
       "      <td>TWCM-11-3</td>\n",
       "      <td>NaN</td>\n",
       "      <td>female</td>\n",
       "      <td>DCM</td>\n",
       "    </tr>\n",
       "  </tbody>\n",
       "</table>\n",
       "</div>"
      ],
      "text/plain": [
       "      donor_id   age     sex  disease\n",
       "0  H_ZC-11-292  68.0    male  Healthy\n",
       "1    H_ZC-LVAD  58.0    male      DCM\n",
       "2    TWCM-10-5  53.0  female      DCM\n",
       "3   TWCM-10-68  62.0  female  Healthy\n",
       "4    TWCM-11-3   NaN  female      DCM"
      ]
     },
     "execution_count": 6,
     "metadata": {},
     "output_type": "execute_result"
    }
   ],
   "source": [
    "donor_information_df = pd.read_csv(\"00_donor_metadata.txt\", delim_whitespace=True, header = None)\n",
    "donor_information_df.columns = [\"donor_id\", \"age\", \"sex\", \"disease\"]\n",
    "donor_information_df.head()"
   ]
  },
  {
   "cell_type": "code",
   "execution_count": 7,
   "id": "6654bdb8-bfd3-4b5f-b661-e38bf60ad11c",
   "metadata": {},
   "outputs": [],
   "source": [
    "# add the age information by merging \n",
    "adata.obs = adata.obs.reset_index()\n",
    "merged_df = adata.obs.merge(donor_information_df, left_on = \"orig.ident\", right_on = \"donor_id\")\n",
    "merged_df.index = merged_df['index']"
   ]
  },
  {
   "cell_type": "code",
   "execution_count": 8,
   "id": "b5f4b9d2-ab15-48ad-984d-95143f50d7a7",
   "metadata": {},
   "outputs": [],
   "source": [
    "adata.obs.index = adata.obs['index']\n",
    "adata.obs = adata.obs.drop(columns = [\"index\"])"
   ]
  },
  {
   "cell_type": "code",
   "execution_count": 9,
   "id": "c63debf2-6245-4970-a6f0-7b4b11d42a89",
   "metadata": {},
   "outputs": [],
   "source": [
    "adata = adata[merged_df.index, :].copy()\n",
    "adata.obs = merged_df\n",
    "adata.obs = adata.obs.drop(columns = \"index\")"
   ]
  },
  {
   "cell_type": "code",
   "execution_count": 10,
   "id": "0d26b219-e0dc-4c7e-936f-e50021d043e0",
   "metadata": {},
   "outputs": [
    {
     "data": {
      "text/html": [
       "<div>\n",
       "<style scoped>\n",
       "    .dataframe tbody tr th:only-of-type {\n",
       "        vertical-align: middle;\n",
       "    }\n",
       "\n",
       "    .dataframe tbody tr th {\n",
       "        vertical-align: top;\n",
       "    }\n",
       "\n",
       "    .dataframe thead th {\n",
       "        text-align: right;\n",
       "    }\n",
       "</style>\n",
       "<table border=\"1\" class=\"dataframe\">\n",
       "  <thead>\n",
       "    <tr style=\"text-align: right;\">\n",
       "      <th></th>\n",
       "      <th>sex</th>\n",
       "      <th>cell_type</th>\n",
       "      <th>donor_id</th>\n",
       "      <th>age</th>\n",
       "      <th>disease</th>\n",
       "      <th>cell_or_nuclei</th>\n",
       "      <th>study</th>\n",
       "      <th>technology</th>\n",
       "      <th>region</th>\n",
       "    </tr>\n",
       "    <tr>\n",
       "      <th>index</th>\n",
       "      <th></th>\n",
       "      <th></th>\n",
       "      <th></th>\n",
       "      <th></th>\n",
       "      <th></th>\n",
       "      <th></th>\n",
       "      <th></th>\n",
       "      <th></th>\n",
       "      <th></th>\n",
       "    </tr>\n",
       "  </thead>\n",
       "  <tbody>\n",
       "    <tr>\n",
       "      <th>H_ZC-11-292_TAAGTGCAGCAGGTCA</th>\n",
       "      <td>male</td>\n",
       "      <td>Endocardium</td>\n",
       "      <td>H_ZC-11-292</td>\n",
       "      <td>68.0</td>\n",
       "      <td>Healthy</td>\n",
       "      <td>Nuclei</td>\n",
       "      <td>Koenig 2022</td>\n",
       "      <td>5prime-v1</td>\n",
       "      <td>LV</td>\n",
       "    </tr>\n",
       "    <tr>\n",
       "      <th>H_ZC-11-292_ACAGCCGGTCATACTG</th>\n",
       "      <td>male</td>\n",
       "      <td>Endocardium</td>\n",
       "      <td>H_ZC-11-292</td>\n",
       "      <td>68.0</td>\n",
       "      <td>Healthy</td>\n",
       "      <td>Nuclei</td>\n",
       "      <td>Koenig 2022</td>\n",
       "      <td>5prime-v1</td>\n",
       "      <td>LV</td>\n",
       "    </tr>\n",
       "    <tr>\n",
       "      <th>H_ZC-11-292_AACTCCCTCTTTAGTC</th>\n",
       "      <td>male</td>\n",
       "      <td>Endocardium</td>\n",
       "      <td>H_ZC-11-292</td>\n",
       "      <td>68.0</td>\n",
       "      <td>Healthy</td>\n",
       "      <td>Nuclei</td>\n",
       "      <td>Koenig 2022</td>\n",
       "      <td>5prime-v1</td>\n",
       "      <td>LV</td>\n",
       "    </tr>\n",
       "    <tr>\n",
       "      <th>H_ZC-11-292_CTGATCCGTTATTCTC</th>\n",
       "      <td>male</td>\n",
       "      <td>Endocardium</td>\n",
       "      <td>H_ZC-11-292</td>\n",
       "      <td>68.0</td>\n",
       "      <td>Healthy</td>\n",
       "      <td>Nuclei</td>\n",
       "      <td>Koenig 2022</td>\n",
       "      <td>5prime-v1</td>\n",
       "      <td>LV</td>\n",
       "    </tr>\n",
       "    <tr>\n",
       "      <th>H_ZC-11-292_GCACTCTTCTCGTATT</th>\n",
       "      <td>male</td>\n",
       "      <td>Endocardium</td>\n",
       "      <td>H_ZC-11-292</td>\n",
       "      <td>68.0</td>\n",
       "      <td>Healthy</td>\n",
       "      <td>Nuclei</td>\n",
       "      <td>Koenig 2022</td>\n",
       "      <td>5prime-v1</td>\n",
       "      <td>LV</td>\n",
       "    </tr>\n",
       "  </tbody>\n",
       "</table>\n",
       "</div>"
      ],
      "text/plain": [
       "                               sex    cell_type     donor_id   age  disease  \\\n",
       "index                                                                         \n",
       "H_ZC-11-292_TAAGTGCAGCAGGTCA  male  Endocardium  H_ZC-11-292  68.0  Healthy   \n",
       "H_ZC-11-292_ACAGCCGGTCATACTG  male  Endocardium  H_ZC-11-292  68.0  Healthy   \n",
       "H_ZC-11-292_AACTCCCTCTTTAGTC  male  Endocardium  H_ZC-11-292  68.0  Healthy   \n",
       "H_ZC-11-292_CTGATCCGTTATTCTC  male  Endocardium  H_ZC-11-292  68.0  Healthy   \n",
       "H_ZC-11-292_GCACTCTTCTCGTATT  male  Endocardium  H_ZC-11-292  68.0  Healthy   \n",
       "\n",
       "                             cell_or_nuclei        study technology region  \n",
       "index                                                                       \n",
       "H_ZC-11-292_TAAGTGCAGCAGGTCA         Nuclei  Koenig 2022  5prime-v1     LV  \n",
       "H_ZC-11-292_ACAGCCGGTCATACTG         Nuclei  Koenig 2022  5prime-v1     LV  \n",
       "H_ZC-11-292_AACTCCCTCTTTAGTC         Nuclei  Koenig 2022  5prime-v1     LV  \n",
       "H_ZC-11-292_CTGATCCGTTATTCTC         Nuclei  Koenig 2022  5prime-v1     LV  \n",
       "H_ZC-11-292_GCACTCTTCTCGTATT         Nuclei  Koenig 2022  5prime-v1     LV  "
      ]
     },
     "execution_count": 10,
     "metadata": {},
     "output_type": "execute_result"
    }
   ],
   "source": [
    "# extract the relevant metadata \n",
    "metadata = adata.obs[['sex', 'Names', 'donor_id', 'age', 'disease', 'tech']]\n",
    "\n",
    "# for later consistency, change the column names\n",
    "metadata = metadata.rename(columns={'Names': 'cell_type',\n",
    "                                    'tech': 'cell_or_nuclei'})\n",
    "\n",
    "# add additional metadata columns\n",
    "metadata['study'] = 'Koenig 2022'\n",
    "metadata['sex'] = metadata['sex'].str.lower() # make sex lowercase \n",
    "metadata['technology'] = '5prime-v1'\n",
    "metadata['region'] = 'LV'\n",
    "\n",
    "# reformat cell and nuclei\n",
    "metadata['cell_or_nuclei'] = metadata['cell_or_nuclei'].map(\n",
    "    {'SC': 'Cell',\n",
    "    'SN': 'Nuclei'}\n",
    ")\n",
    "\n",
    "# add back the metadata\n",
    "adata.obs = metadata\n",
    "adata.obs.head()"
   ]
  },
  {
   "cell_type": "markdown",
   "id": "970ae461-36f8-4c9a-983a-ddb577f9dd48",
   "metadata": {},
   "source": [
    "Make cell types consistent"
   ]
  },
  {
   "cell_type": "code",
   "execution_count": 11,
   "id": "f26447fb-9584-4202-a95e-ba22642bb1f4",
   "metadata": {},
   "outputs": [
    {
     "data": {
      "text/plain": [
       "{'Adipocytes',\n",
       " 'B-Cells',\n",
       " 'Cardiomyocytes',\n",
       " 'Endocardium',\n",
       " 'Endothelium',\n",
       " 'Epicardium',\n",
       " 'Fibroblasts',\n",
       " 'Lymphatic',\n",
       " 'Mast',\n",
       " 'Myeloid',\n",
       " 'NK/T-Cells',\n",
       " 'Neurons',\n",
       " 'Pericytes',\n",
       " 'Smooth_Muscle'}"
      ]
     },
     "execution_count": 11,
     "metadata": {},
     "output_type": "execute_result"
    }
   ],
   "source": [
    "set(adata.obs.cell_type)"
   ]
  },
  {
   "cell_type": "code",
   "execution_count": 12,
   "id": "8607e565-a4d7-498e-b556-a74372987607",
   "metadata": {},
   "outputs": [],
   "source": [
    "adata.obs['consistent_cell_type'] = adata.obs['cell_type'].map(\n",
    "    {\n",
    "        \"Adipocytes\": \"Adipocyte\",\n",
    "        \"B-Cells\": \"Lymphoid\",\n",
    "        \"Cardiomyocytes\": \"Cardiomyocyte\",\n",
    "        \"Endocardium\": \"Endocardial\",\n",
    "        \"Endothelium\": \"Endothelial\",\n",
    "        \"Epicardium\": \"Epicardial\",\n",
    "        \"Fibroblasts\": \"Fibroblast\",\n",
    "        \"Lymphatic\": \"LEC\",\n",
    "        \"Mast\": \"Mast\",\n",
    "        \"Myeloid\": \"Myeloid\",\n",
    "        \"NK/T-Cells\": \"Lymphoid\",\n",
    "        \"Neurons\": \"Neuronal\",\n",
    "        \"Pericytes\": \"Pericyte\",\n",
    "        \"Smooth_Muscle\": \"vSMC\"\n",
    "    }\n",
    ")"
   ]
  },
  {
   "cell_type": "code",
   "execution_count": 13,
   "id": "ecad6e49-ee1f-4cc0-9fb8-dbd0b6192124",
   "metadata": {},
   "outputs": [
    {
     "data": {
      "text/plain": [
       "{'Adipocyte',\n",
       " 'Cardiomyocyte',\n",
       " 'Endocardial',\n",
       " 'Endothelial',\n",
       " 'Epicardial',\n",
       " 'Fibroblast',\n",
       " 'LEC',\n",
       " 'Lymphoid',\n",
       " 'Mast',\n",
       " 'Myeloid',\n",
       " 'Neuronal',\n",
       " 'Pericyte',\n",
       " 'vSMC'}"
      ]
     },
     "execution_count": 13,
     "metadata": {},
     "output_type": "execute_result"
    }
   ],
   "source": [
    "set(adata.obs.consistent_cell_type)"
   ]
  },
  {
   "cell_type": "code",
   "execution_count": 14,
   "id": "fb17d6db-06cd-4ebe-8750-330564710ce7",
   "metadata": {},
   "outputs": [],
   "source": [
    "adata.write(\"03_processed_all_Koenig.h5ad\")"
   ]
  }
 ],
 "metadata": {
  "kernelspec": {
   "display_name": "Python 3 (ipykernel)",
   "language": "python",
   "name": "python3"
  },
  "language_info": {
   "codemirror_mode": {
    "name": "ipython",
    "version": 3
   },
   "file_extension": ".py",
   "mimetype": "text/x-python",
   "name": "python",
   "nbconvert_exporter": "python",
   "pygments_lexer": "ipython3",
   "version": "3.12.5"
  }
 },
 "nbformat": 4,
 "nbformat_minor": 5
}

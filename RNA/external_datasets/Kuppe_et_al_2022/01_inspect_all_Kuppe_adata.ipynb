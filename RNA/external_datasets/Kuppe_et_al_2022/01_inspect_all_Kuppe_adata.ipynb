{
 "cells": [
  {
   "cell_type": "code",
   "execution_count": 1,
   "id": "07071dbe-4059-417e-be3d-206a38da9210",
   "metadata": {},
   "outputs": [],
   "source": [
    "import numpy as np\n",
    "import pandas as pd\n",
    "import scanpy as sc\n",
    "import os\n",
    "from collections import Counter\n",
    "import re\n",
    "import scanpy.external as sce"
   ]
  },
  {
   "cell_type": "code",
   "execution_count": 2,
   "id": "5f5df473-abdf-44ef-bb32-331cbc4b5047",
   "metadata": {},
   "outputs": [
    {
     "name": "stdout",
     "output_type": "stream",
     "text": [
      "CPU times: user 20.2 s, sys: 2.94 s, total: 23.1 s\n",
      "Wall time: 23.1 s\n"
     ]
    },
    {
     "data": {
      "text/plain": [
       "AnnData object with n_obs × n_vars = 191795 × 28975\n",
       "    obs: 'sample', 'n_counts', 'n_genes', 'percent_mito', 'doublet_score', 'dissociation_score', 'cell_type_original', 'patient_region_id', 'donor_id', 'patient_group', 'major_labl', 'final_cluster', 'assay_ontology_term_id', 'development_stage_ontology_term_id', 'disease_ontology_term_id', 'self_reported_ethnicity_ontology_term_id', 'is_primary_data', 'organism_ontology_term_id', 'sex_ontology_term_id', 'tissue_ontology_term_id', 'cell_type_ontology_term_id', 'suspension_type', 'tissue_type', 'cell_type', 'assay', 'disease', 'organism', 'sex', 'tissue', 'self_reported_ethnicity', 'development_stage', 'observation_joinid'\n",
       "    var: 'feature_is_filtered', 'feature_name', 'feature_reference', 'feature_biotype', 'feature_length'\n",
       "    uns: 'X_approximate_distribution', 'batch_condition', 'cell_type_original_colors', 'citation', 'default_embedding', 'schema_reference', 'schema_version', 'title'\n",
       "    obsm: 'X_harmony', 'X_pca', 'X_umap'"
      ]
     },
     "execution_count": 2,
     "metadata": {},
     "output_type": "execute_result"
    }
   ],
   "source": [
    "%%time\n",
    "adata = sc.read_h5ad(\"Kuppe_et_al_snRNA.h5ad\")\n",
    "adata"
   ]
  },
  {
   "cell_type": "code",
   "execution_count": 3,
   "id": "12691529-3cb4-452e-9943-258edc5b9807",
   "metadata": {},
   "outputs": [
    {
     "data": {
      "text/plain": [
       "AAACCCACAAAGGAGA-1_1_1_1_1_1_1_1_1_1_1_1_1_1_1                   normal\n",
       "AAACCCACAGAGATGC-1_1_1_1_1_1_1_1_1_1_1_1_1_1_1                   normal\n",
       "AAACCCAGTAACGGTG-1_1_1_1_1_1_1_1_1_1_1_1_1_1_1                   normal\n",
       "AAACCCAGTCCAGAAG-1_1_1_1_1_1_1_1_1_1_1_1_1_1_1                   normal\n",
       "AAACCCAGTCGTCGGT-1_1_1_1_1_1_1_1_1_1_1_1_1_1_1                   normal\n",
       "                                                          ...          \n",
       "TTTCATGGTCTTGCTC-1                                myocardial infarction\n",
       "TTTCCTCAGGTTCATC-1                                myocardial infarction\n",
       "TTTCGATTCCGGTAAT-1                                myocardial infarction\n",
       "TTTGACTTCGCCAACG-1                                myocardial infarction\n",
       "TTTGGTTGTGCCCAGT-1                                myocardial infarction\n",
       "Name: disease, Length: 191795, dtype: category\n",
       "Categories (2, object): ['myocardial infarction', 'normal']"
      ]
     },
     "execution_count": 3,
     "metadata": {},
     "output_type": "execute_result"
    }
   ],
   "source": [
    "adata.obs.disease"
   ]
  },
  {
   "cell_type": "code",
   "execution_count": 4,
   "id": "fb07c543-a4e9-4f82-882d-48fa3a189d38",
   "metadata": {},
   "outputs": [
    {
     "data": {
      "text/plain": [
       "AAACCCACAAAGGAGA-1_1_1_1_1_1_1_1_1_1_1_1_1_1_1    myogenic\n",
       "AAACCCACAGAGATGC-1_1_1_1_1_1_1_1_1_1_1_1_1_1_1    myogenic\n",
       "AAACCCAGTAACGGTG-1_1_1_1_1_1_1_1_1_1_1_1_1_1_1    myogenic\n",
       "AAACCCAGTCCAGAAG-1_1_1_1_1_1_1_1_1_1_1_1_1_1_1    myogenic\n",
       "AAACCCAGTCGTCGGT-1_1_1_1_1_1_1_1_1_1_1_1_1_1_1    myogenic\n",
       "                                                    ...   \n",
       "TTTCATGGTCTTGCTC-1                                ischemic\n",
       "TTTCCTCAGGTTCATC-1                                ischemic\n",
       "TTTCGATTCCGGTAAT-1                                ischemic\n",
       "TTTGACTTCGCCAACG-1                                ischemic\n",
       "TTTGGTTGTGCCCAGT-1                                ischemic\n",
       "Name: patient_group, Length: 191795, dtype: category\n",
       "Categories (3, object): ['fibrotic', 'ischemic', 'myogenic']"
      ]
     },
     "execution_count": 4,
     "metadata": {},
     "output_type": "execute_result"
    }
   ],
   "source": [
    "adata.obs.patient_group"
   ]
  },
  {
   "cell_type": "code",
   "execution_count": 5,
   "id": "aaa43e59-96c2-41d4-bc28-3d94082ee016",
   "metadata": {},
   "outputs": [
    {
     "data": {
      "text/plain": [
       "AAACCCACAAAGGAGA-1_1_1_1_1_1_1_1_1_1_1_1_1_1_1     P1\n",
       "AAACCCACAGAGATGC-1_1_1_1_1_1_1_1_1_1_1_1_1_1_1     P1\n",
       "AAACCCAGTAACGGTG-1_1_1_1_1_1_1_1_1_1_1_1_1_1_1     P1\n",
       "AAACCCAGTCCAGAAG-1_1_1_1_1_1_1_1_1_1_1_1_1_1_1     P1\n",
       "AAACCCAGTCGTCGGT-1_1_1_1_1_1_1_1_1_1_1_1_1_1_1     P1\n",
       "                                                 ... \n",
       "TTTCATGGTCTTGCTC-1                                P16\n",
       "TTTCCTCAGGTTCATC-1                                P16\n",
       "TTTCGATTCCGGTAAT-1                                P16\n",
       "TTTGACTTCGCCAACG-1                                P16\n",
       "TTTGGTTGTGCCCAGT-1                                P16\n",
       "Name: donor_id, Length: 191795, dtype: category\n",
       "Categories (20, object): ['P1', 'P2', 'P3', 'P4', ..., 'P17', 'P18', 'P19', 'P20']"
      ]
     },
     "execution_count": 5,
     "metadata": {},
     "output_type": "execute_result"
    }
   ],
   "source": [
    "adata.obs.donor_id"
   ]
  },
  {
   "cell_type": "markdown",
   "id": "33419ab6-65d1-4401-801a-25214761a410",
   "metadata": {},
   "source": [
    "#### The disease state is called \"MI\" for all of the diseased patients, but per Supplemental Table 1, it turns out that some of these donors are actually ICM."
   ]
  },
  {
   "cell_type": "code",
   "execution_count": 6,
   "id": "e446b0c3-e282-4957-98a9-ce22955f9536",
   "metadata": {},
   "outputs": [
    {
     "data": {
      "text/html": [
       "<div>\n",
       "<style scoped>\n",
       "    .dataframe tbody tr th:only-of-type {\n",
       "        vertical-align: middle;\n",
       "    }\n",
       "\n",
       "    .dataframe tbody tr th {\n",
       "        vertical-align: top;\n",
       "    }\n",
       "\n",
       "    .dataframe thead th {\n",
       "        text-align: right;\n",
       "    }\n",
       "</style>\n",
       "<table border=\"1\" class=\"dataframe\">\n",
       "  <thead>\n",
       "    <tr style=\"text-align: right;\">\n",
       "      <th></th>\n",
       "      <th>patient</th>\n",
       "      <th>region_novel</th>\n",
       "      <th>patient_region_id</th>\n",
       "      <th>region_zone_description</th>\n",
       "      <th>age (years)</th>\n",
       "      <th>gender</th>\n",
       "      <th>sampling location (segment area 17-model AHA)</th>\n",
       "      <th>infarction location</th>\n",
       "      <th>days after infarction</th>\n",
       "      <th>disease</th>\n",
       "      <th>pathologists description HE staining cryo section</th>\n",
       "      <th>donor information</th>\n",
       "      <th>Unnamed: 12</th>\n",
       "      <th>Unnamed: 13</th>\n",
       "      <th>Unnamed: 14</th>\n",
       "    </tr>\n",
       "  </thead>\n",
       "  <tbody>\n",
       "    <tr>\n",
       "      <th>0</th>\n",
       "      <td>P1</td>\n",
       "      <td>control</td>\n",
       "      <td>control_P1</td>\n",
       "      <td>CTRL</td>\n",
       "      <td>44</td>\n",
       "      <td>m</td>\n",
       "      <td>LV free wall</td>\n",
       "      <td>n.a.</td>\n",
       "      <td>control</td>\n",
       "      <td>control</td>\n",
       "      <td>Normal myocardium</td>\n",
       "      <td>NaN</td>\n",
       "      <td>NaN</td>\n",
       "      <td>NaN</td>\n",
       "      <td>NaN</td>\n",
       "    </tr>\n",
       "    <tr>\n",
       "      <th>1</th>\n",
       "      <td>P17</td>\n",
       "      <td>control</td>\n",
       "      <td>control_P17</td>\n",
       "      <td>CTRL</td>\n",
       "      <td>61</td>\n",
       "      <td>m</td>\n",
       "      <td>LV free wall</td>\n",
       "      <td>n.a.</td>\n",
       "      <td>control</td>\n",
       "      <td>control</td>\n",
       "      <td>Normal myocardium</td>\n",
       "      <td>NaN</td>\n",
       "      <td>NaN</td>\n",
       "      <td>NaN</td>\n",
       "      <td>NaN</td>\n",
       "    </tr>\n",
       "    <tr>\n",
       "      <th>2</th>\n",
       "      <td>P7</td>\n",
       "      <td>control</td>\n",
       "      <td>control_P7</td>\n",
       "      <td>CTRL</td>\n",
       "      <td>55</td>\n",
       "      <td>f</td>\n",
       "      <td>LV free wall</td>\n",
       "      <td>n.a.</td>\n",
       "      <td>control</td>\n",
       "      <td>control</td>\n",
       "      <td>Normal myocardium</td>\n",
       "      <td>declined for transplation due to CAD</td>\n",
       "      <td>NaN</td>\n",
       "      <td>NaN</td>\n",
       "      <td>NaN</td>\n",
       "    </tr>\n",
       "    <tr>\n",
       "      <th>3</th>\n",
       "      <td>P8</td>\n",
       "      <td>control</td>\n",
       "      <td>control_P8</td>\n",
       "      <td>CTRL</td>\n",
       "      <td>44</td>\n",
       "      <td>m</td>\n",
       "      <td>LV free wall</td>\n",
       "      <td>n.a.</td>\n",
       "      <td>control</td>\n",
       "      <td>control</td>\n",
       "      <td>Normal myocardium</td>\n",
       "      <td>declined due to calcified aortic valves</td>\n",
       "      <td>NaN</td>\n",
       "      <td>NaN</td>\n",
       "      <td>NaN</td>\n",
       "    </tr>\n",
       "    <tr>\n",
       "      <th>4</th>\n",
       "      <td>P14</td>\n",
       "      <td>FZ</td>\n",
       "      <td>FZ_P14</td>\n",
       "      <td>FZ</td>\n",
       "      <td>59</td>\n",
       "      <td>m</td>\n",
       "      <td>LV APEX</td>\n",
       "      <td>anterior LV</td>\n",
       "      <td>62</td>\n",
       "      <td>ICM</td>\n",
       "      <td>Young scar with fibroblasts and some collagen</td>\n",
       "      <td>NaN</td>\n",
       "      <td>NaN</td>\n",
       "      <td>NaN</td>\n",
       "      <td>NaN</td>\n",
       "    </tr>\n",
       "  </tbody>\n",
       "</table>\n",
       "</div>"
      ],
      "text/plain": [
       "  patient region_novel patient_region_id region_zone_description  age (years)  \\\n",
       "0      P1      control        control_P1                    CTRL           44   \n",
       "1     P17      control       control_P17                    CTRL           61   \n",
       "2      P7      control        control_P7                    CTRL           55   \n",
       "3      P8      control        control_P8                    CTRL           44   \n",
       "4     P14           FZ            FZ_P14                      FZ           59   \n",
       "\n",
       "  gender sampling location (segment area 17-model AHA) infarction location  \\\n",
       "0      m                                  LV free wall                n.a.   \n",
       "1      m                                  LV free wall                n.a.   \n",
       "2      f                                  LV free wall                n.a.   \n",
       "3      m                                  LV free wall                n.a.   \n",
       "4      m                                       LV APEX         anterior LV   \n",
       "\n",
       "  days after infarction   disease  \\\n",
       "0                control  control   \n",
       "1                control  control   \n",
       "2                control  control   \n",
       "3                control  control   \n",
       "4                     62      ICM   \n",
       "\n",
       "  pathologists description HE staining cryo section  \\\n",
       "0                                 Normal myocardium   \n",
       "1                                 Normal myocardium   \n",
       "2                                 Normal myocardium   \n",
       "3                                 Normal myocardium   \n",
       "4     Young scar with fibroblasts and some collagen   \n",
       "\n",
       "                           donor information  Unnamed: 12  Unnamed: 13  \\\n",
       "0                                        NaN          NaN          NaN   \n",
       "1                                        NaN          NaN          NaN   \n",
       "2       declined for transplation due to CAD          NaN          NaN   \n",
       "3  declined due to calcified aortic valves            NaN          NaN   \n",
       "4                                        NaN          NaN          NaN   \n",
       "\n",
       "   Unnamed: 14  \n",
       "0          NaN  \n",
       "1          NaN  \n",
       "2          NaN  \n",
       "3          NaN  \n",
       "4          NaN  "
      ]
     },
     "execution_count": 6,
     "metadata": {},
     "output_type": "execute_result"
    }
   ],
   "source": [
    "donor_info_df = pd.read_csv(\"Kuppe_supplemental_Table_1.csv\")\n",
    "donor_info_df.head()"
   ]
  },
  {
   "cell_type": "code",
   "execution_count": 7,
   "id": "f162b6c4-d4fd-41ea-adc6-4f3b9d56ad6e",
   "metadata": {},
   "outputs": [
    {
     "data": {
      "text/html": [
       "<div>\n",
       "<style scoped>\n",
       "    .dataframe tbody tr th:only-of-type {\n",
       "        vertical-align: middle;\n",
       "    }\n",
       "\n",
       "    .dataframe tbody tr th {\n",
       "        vertical-align: top;\n",
       "    }\n",
       "\n",
       "    .dataframe thead th {\n",
       "        text-align: right;\n",
       "    }\n",
       "</style>\n",
       "<table border=\"1\" class=\"dataframe\">\n",
       "  <thead>\n",
       "    <tr style=\"text-align: right;\">\n",
       "      <th></th>\n",
       "      <th>patient</th>\n",
       "      <th>disease</th>\n",
       "    </tr>\n",
       "  </thead>\n",
       "  <tbody>\n",
       "    <tr>\n",
       "      <th>0</th>\n",
       "      <td>P1</td>\n",
       "      <td>control</td>\n",
       "    </tr>\n",
       "    <tr>\n",
       "      <th>1</th>\n",
       "      <td>P17</td>\n",
       "      <td>control</td>\n",
       "    </tr>\n",
       "    <tr>\n",
       "      <th>2</th>\n",
       "      <td>P7</td>\n",
       "      <td>control</td>\n",
       "    </tr>\n",
       "    <tr>\n",
       "      <th>3</th>\n",
       "      <td>P8</td>\n",
       "      <td>control</td>\n",
       "    </tr>\n",
       "    <tr>\n",
       "      <th>4</th>\n",
       "      <td>P14</td>\n",
       "      <td>ICM</td>\n",
       "    </tr>\n",
       "    <tr>\n",
       "      <th>5</th>\n",
       "      <td>P18</td>\n",
       "      <td>ICM</td>\n",
       "    </tr>\n",
       "    <tr>\n",
       "      <th>6</th>\n",
       "      <td>P20</td>\n",
       "      <td>ICM</td>\n",
       "    </tr>\n",
       "    <tr>\n",
       "      <th>7</th>\n",
       "      <td>P19</td>\n",
       "      <td>ICM</td>\n",
       "    </tr>\n",
       "    <tr>\n",
       "      <th>8</th>\n",
       "      <td>P4</td>\n",
       "      <td>ICM</td>\n",
       "    </tr>\n",
       "    <tr>\n",
       "      <th>9</th>\n",
       "      <td>P13</td>\n",
       "      <td>ICM</td>\n",
       "    </tr>\n",
       "    <tr>\n",
       "      <th>10</th>\n",
       "      <td>P15</td>\n",
       "      <td>AMI</td>\n",
       "    </tr>\n",
       "    <tr>\n",
       "      <th>11</th>\n",
       "      <td>P9</td>\n",
       "      <td>AMI</td>\n",
       "    </tr>\n",
       "    <tr>\n",
       "      <th>12</th>\n",
       "      <td>P10</td>\n",
       "      <td>AMI</td>\n",
       "    </tr>\n",
       "    <tr>\n",
       "      <th>13</th>\n",
       "      <td>P16</td>\n",
       "      <td>AMI</td>\n",
       "    </tr>\n",
       "    <tr>\n",
       "      <th>14</th>\n",
       "      <td>P3</td>\n",
       "      <td>AMI</td>\n",
       "    </tr>\n",
       "    <tr>\n",
       "      <th>15</th>\n",
       "      <td>P2</td>\n",
       "      <td>AMI</td>\n",
       "    </tr>\n",
       "    <tr>\n",
       "      <th>16</th>\n",
       "      <td>P11</td>\n",
       "      <td>ICM</td>\n",
       "    </tr>\n",
       "    <tr>\n",
       "      <th>17</th>\n",
       "      <td>P6</td>\n",
       "      <td>AMI</td>\n",
       "    </tr>\n",
       "    <tr>\n",
       "      <th>18</th>\n",
       "      <td>P12</td>\n",
       "      <td>ICM</td>\n",
       "    </tr>\n",
       "    <tr>\n",
       "      <th>19</th>\n",
       "      <td>P5</td>\n",
       "      <td>CAD, HF</td>\n",
       "    </tr>\n",
       "    <tr>\n",
       "      <th>20</th>\n",
       "      <td>P21</td>\n",
       "      <td>AMI</td>\n",
       "    </tr>\n",
       "    <tr>\n",
       "      <th>21</th>\n",
       "      <td>P22</td>\n",
       "      <td>AMI</td>\n",
       "    </tr>\n",
       "    <tr>\n",
       "      <th>22</th>\n",
       "      <td>P23</td>\n",
       "      <td>AMI</td>\n",
       "    </tr>\n",
       "  </tbody>\n",
       "</table>\n",
       "</div>"
      ],
      "text/plain": [
       "   patient  disease\n",
       "0       P1  control\n",
       "1      P17  control\n",
       "2       P7  control\n",
       "3       P8  control\n",
       "4      P14      ICM\n",
       "5      P18      ICM\n",
       "6      P20      ICM\n",
       "7      P19      ICM\n",
       "8       P4      ICM\n",
       "9      P13      ICM\n",
       "10     P15      AMI\n",
       "11      P9      AMI\n",
       "12     P10      AMI\n",
       "13     P16      AMI\n",
       "14      P3      AMI\n",
       "15      P2      AMI\n",
       "16     P11      ICM\n",
       "17      P6      AMI\n",
       "18     P12      ICM\n",
       "19      P5  CAD, HF\n",
       "20     P21      AMI\n",
       "21     P22      AMI\n",
       "22     P23      AMI"
      ]
     },
     "execution_count": 7,
     "metadata": {},
     "output_type": "execute_result"
    }
   ],
   "source": [
    "donor_info_df = donor_info_df[[\"patient\", \"disease\"]].drop_duplicates().reset_index(drop=True)\n",
    "donor_info_df"
   ]
  },
  {
   "cell_type": "markdown",
   "id": "ae87f4bf-7211-4b0b-9181-7a36e766b4f0",
   "metadata": {},
   "source": [
    "#### As we don't know much about the heart failure status of P5 (CAD, HF), we will drop this patient"
   ]
  },
  {
   "cell_type": "code",
   "execution_count": 8,
   "id": "c8ad1a1f-f439-4433-afd8-b907fa18af8d",
   "metadata": {},
   "outputs": [
    {
     "name": "stdout",
     "output_type": "stream",
     "text": [
      "Overlapping: 20\n",
      "Overlapping: 0\n",
      "Overlapping: 3\n"
     ]
    }
   ],
   "source": [
    "# confirm that these adata and the donor_ids in this Supplemental Table overlap\n",
    "print(f\"Overlapping: {len(set(adata.obs.donor_id) & set(donor_info_df.patient))}\")\n",
    "print(f\"Overlapping: {len(set(adata.obs.donor_id) - set(donor_info_df.patient))}\")\n",
    "print(f\"Overlapping: {len(set(donor_info_df.patient) - set(adata.obs.donor_id))}\")"
   ]
  },
  {
   "cell_type": "code",
   "execution_count": 9,
   "id": "9421816c-9355-47ea-959f-d14231910aec",
   "metadata": {},
   "outputs": [
    {
     "data": {
      "text/plain": [
       "{'P21', 'P22', 'P23'}"
      ]
     },
     "execution_count": 9,
     "metadata": {},
     "output_type": "execute_result"
    }
   ],
   "source": [
    "(set(donor_info_df.patient) - set(adata.obs.donor_id))"
   ]
  },
  {
   "cell_type": "markdown",
   "id": "327e28b9-8d97-4eb6-b5f7-42bb34a9ce15",
   "metadata": {},
   "source": [
    "Based on Supplemental Table 2 and Supplemental Table 3, it seems like P21, P22, and P23 were somehow not used in the snRNA-seq or snATAC-seq samples"
   ]
  },
  {
   "cell_type": "markdown",
   "id": "43bb8340-8713-4998-b4b8-45fa7e231736",
   "metadata": {},
   "source": [
    "### Merge this disease information to the adata"
   ]
  },
  {
   "cell_type": "code",
   "execution_count": 10,
   "id": "313edf6a-4f25-46a4-aec0-a11e2b22df08",
   "metadata": {},
   "outputs": [
    {
     "data": {
      "text/plain": [
       "(191795, 32)"
      ]
     },
     "execution_count": 10,
     "metadata": {},
     "output_type": "execute_result"
    }
   ],
   "source": [
    "adata.obs.shape"
   ]
  },
  {
   "cell_type": "code",
   "execution_count": 11,
   "id": "279c25d3-3168-4157-a180-1460cd213555",
   "metadata": {},
   "outputs": [
    {
     "data": {
      "text/plain": [
       "(191795, 35)"
      ]
     },
     "execution_count": 11,
     "metadata": {},
     "output_type": "execute_result"
    }
   ],
   "source": [
    "new_metadata = adata.obs.reset_index().merge(donor_info_df, left_on = \"donor_id\", right_on = \"patient\", how = \"inner\")\n",
    "new_metadata.shape"
   ]
  },
  {
   "cell_type": "code",
   "execution_count": 12,
   "id": "43c430ab-76de-4db7-8704-99bd85c07c84",
   "metadata": {},
   "outputs": [
    {
     "data": {
      "text/html": [
       "<div>\n",
       "<style scoped>\n",
       "    .dataframe tbody tr th:only-of-type {\n",
       "        vertical-align: middle;\n",
       "    }\n",
       "\n",
       "    .dataframe tbody tr th {\n",
       "        vertical-align: top;\n",
       "    }\n",
       "\n",
       "    .dataframe thead th {\n",
       "        text-align: right;\n",
       "    }\n",
       "</style>\n",
       "<table border=\"1\" class=\"dataframe\">\n",
       "  <thead>\n",
       "    <tr style=\"text-align: right;\">\n",
       "      <th></th>\n",
       "      <th>cell_type_original</th>\n",
       "      <th>sex</th>\n",
       "      <th>donor_id</th>\n",
       "      <th>development_stage</th>\n",
       "      <th>disease_y</th>\n",
       "    </tr>\n",
       "    <tr>\n",
       "      <th>index</th>\n",
       "      <th></th>\n",
       "      <th></th>\n",
       "      <th></th>\n",
       "      <th></th>\n",
       "      <th></th>\n",
       "    </tr>\n",
       "  </thead>\n",
       "  <tbody>\n",
       "    <tr>\n",
       "      <th>AAACCCACAAAGGAGA-1_1_1_1_1_1_1_1_1_1_1_1_1_1_1</th>\n",
       "      <td>Fibroblast</td>\n",
       "      <td>male</td>\n",
       "      <td>P1</td>\n",
       "      <td>44-year-old human stage</td>\n",
       "      <td>control</td>\n",
       "    </tr>\n",
       "    <tr>\n",
       "      <th>AAACCCACAGAGATGC-1_1_1_1_1_1_1_1_1_1_1_1_1_1_1</th>\n",
       "      <td>Cardiomyocyte</td>\n",
       "      <td>male</td>\n",
       "      <td>P1</td>\n",
       "      <td>44-year-old human stage</td>\n",
       "      <td>control</td>\n",
       "    </tr>\n",
       "    <tr>\n",
       "      <th>AAACCCAGTAACGGTG-1_1_1_1_1_1_1_1_1_1_1_1_1_1_1</th>\n",
       "      <td>Cardiomyocyte</td>\n",
       "      <td>male</td>\n",
       "      <td>P1</td>\n",
       "      <td>44-year-old human stage</td>\n",
       "      <td>control</td>\n",
       "    </tr>\n",
       "    <tr>\n",
       "      <th>AAACCCAGTCCAGAAG-1_1_1_1_1_1_1_1_1_1_1_1_1_1_1</th>\n",
       "      <td>Fibroblast</td>\n",
       "      <td>male</td>\n",
       "      <td>P1</td>\n",
       "      <td>44-year-old human stage</td>\n",
       "      <td>control</td>\n",
       "    </tr>\n",
       "    <tr>\n",
       "      <th>AAACCCAGTCGTCGGT-1_1_1_1_1_1_1_1_1_1_1_1_1_1_1</th>\n",
       "      <td>Cardiomyocyte</td>\n",
       "      <td>male</td>\n",
       "      <td>P1</td>\n",
       "      <td>44-year-old human stage</td>\n",
       "      <td>control</td>\n",
       "    </tr>\n",
       "  </tbody>\n",
       "</table>\n",
       "</div>"
      ],
      "text/plain": [
       "                                               cell_type_original   sex  \\\n",
       "index                                                                     \n",
       "AAACCCACAAAGGAGA-1_1_1_1_1_1_1_1_1_1_1_1_1_1_1         Fibroblast  male   \n",
       "AAACCCACAGAGATGC-1_1_1_1_1_1_1_1_1_1_1_1_1_1_1      Cardiomyocyte  male   \n",
       "AAACCCAGTAACGGTG-1_1_1_1_1_1_1_1_1_1_1_1_1_1_1      Cardiomyocyte  male   \n",
       "AAACCCAGTCCAGAAG-1_1_1_1_1_1_1_1_1_1_1_1_1_1_1         Fibroblast  male   \n",
       "AAACCCAGTCGTCGGT-1_1_1_1_1_1_1_1_1_1_1_1_1_1_1      Cardiomyocyte  male   \n",
       "\n",
       "                                               donor_id  \\\n",
       "index                                                     \n",
       "AAACCCACAAAGGAGA-1_1_1_1_1_1_1_1_1_1_1_1_1_1_1       P1   \n",
       "AAACCCACAGAGATGC-1_1_1_1_1_1_1_1_1_1_1_1_1_1_1       P1   \n",
       "AAACCCAGTAACGGTG-1_1_1_1_1_1_1_1_1_1_1_1_1_1_1       P1   \n",
       "AAACCCAGTCCAGAAG-1_1_1_1_1_1_1_1_1_1_1_1_1_1_1       P1   \n",
       "AAACCCAGTCGTCGGT-1_1_1_1_1_1_1_1_1_1_1_1_1_1_1       P1   \n",
       "\n",
       "                                                      development_stage  \\\n",
       "index                                                                     \n",
       "AAACCCACAAAGGAGA-1_1_1_1_1_1_1_1_1_1_1_1_1_1_1  44-year-old human stage   \n",
       "AAACCCACAGAGATGC-1_1_1_1_1_1_1_1_1_1_1_1_1_1_1  44-year-old human stage   \n",
       "AAACCCAGTAACGGTG-1_1_1_1_1_1_1_1_1_1_1_1_1_1_1  44-year-old human stage   \n",
       "AAACCCAGTCCAGAAG-1_1_1_1_1_1_1_1_1_1_1_1_1_1_1  44-year-old human stage   \n",
       "AAACCCAGTCGTCGGT-1_1_1_1_1_1_1_1_1_1_1_1_1_1_1  44-year-old human stage   \n",
       "\n",
       "                                               disease_y  \n",
       "index                                                     \n",
       "AAACCCACAAAGGAGA-1_1_1_1_1_1_1_1_1_1_1_1_1_1_1   control  \n",
       "AAACCCACAGAGATGC-1_1_1_1_1_1_1_1_1_1_1_1_1_1_1   control  \n",
       "AAACCCAGTAACGGTG-1_1_1_1_1_1_1_1_1_1_1_1_1_1_1   control  \n",
       "AAACCCAGTCCAGAAG-1_1_1_1_1_1_1_1_1_1_1_1_1_1_1   control  \n",
       "AAACCCAGTCGTCGGT-1_1_1_1_1_1_1_1_1_1_1_1_1_1_1   control  "
      ]
     },
     "execution_count": 12,
     "metadata": {},
     "output_type": "execute_result"
    }
   ],
   "source": [
    "# keep the relevant metadata\n",
    "new_metadata = new_metadata[['cell_type_original', 'sex', 'donor_id', 'development_stage', 'disease_y', 'index']]\n",
    "new_metadata.index = new_metadata['index']\n",
    "new_metadata = new_metadata.drop(columns = ['index'])\n",
    "new_metadata.head()"
   ]
  },
  {
   "cell_type": "code",
   "execution_count": 13,
   "id": "7a0571cf-52fb-4b7e-927e-5ec2d61847bc",
   "metadata": {},
   "outputs": [],
   "source": [
    "# for later consistency, change the column names\n",
    "new_metadata = new_metadata.rename(columns={'cell_type_original': 'cell_type', \n",
    "                                                'development_stage': 'age'})\n",
    "\n",
    "# To extract just the integer age, remove the '-year-old-human-stage' from the age string\n",
    "new_metadata['age'] = new_metadata['age'].str.extract(r'(\\d+)').astype(int)\n",
    "\n",
    "# add additional columns\n",
    "new_metadata['study'] = 'Kuppe 2022'\n",
    "new_metadata['technology'] = '3prime-v3'\n",
    "new_metadata['cell_or_nuclei'] = 'Nuclei'\n",
    "new_metadata['region'] = 'LV'"
   ]
  },
  {
   "cell_type": "code",
   "execution_count": 14,
   "id": "a790ec7b-36f2-40ac-99a4-fedc7b87c91c",
   "metadata": {},
   "outputs": [
    {
     "data": {
      "text/plain": [
       "array(['control', 'CAD, HF', 'AMI', 'ICM'], dtype=object)"
      ]
     },
     "execution_count": 14,
     "metadata": {},
     "output_type": "execute_result"
    }
   ],
   "source": [
    "new_metadata.disease_y.unique()"
   ]
  },
  {
   "cell_type": "code",
   "execution_count": 15,
   "id": "9394ca17-ff28-4bb5-8b63-efa64551689e",
   "metadata": {},
   "outputs": [],
   "source": [
    "new_metadata['disease'] = new_metadata['disease_y'].map(\n",
    "    {\n",
    "        \"control\": \"ND\",\n",
    "        \"CAD, HF\": \"CAD, HF\",\n",
    "        \"AMI\": \"AMI\",\n",
    "        \"ICM\": \"ICM\"\n",
    "    }\n",
    ")\n",
    "\n",
    "new_metadata = new_metadata.drop(columns = \"disease_y\")"
   ]
  },
  {
   "cell_type": "code",
   "execution_count": 16,
   "id": "785df96d-f1cd-4eef-8610-c5be62fcc215",
   "metadata": {},
   "outputs": [
    {
     "data": {
      "text/html": [
       "<div>\n",
       "<style scoped>\n",
       "    .dataframe tbody tr th:only-of-type {\n",
       "        vertical-align: middle;\n",
       "    }\n",
       "\n",
       "    .dataframe tbody tr th {\n",
       "        vertical-align: top;\n",
       "    }\n",
       "\n",
       "    .dataframe thead th {\n",
       "        text-align: right;\n",
       "    }\n",
       "</style>\n",
       "<table border=\"1\" class=\"dataframe\">\n",
       "  <thead>\n",
       "    <tr style=\"text-align: right;\">\n",
       "      <th></th>\n",
       "      <th>cell_type</th>\n",
       "      <th>sex</th>\n",
       "      <th>donor_id</th>\n",
       "      <th>age</th>\n",
       "      <th>study</th>\n",
       "      <th>technology</th>\n",
       "      <th>cell_or_nuclei</th>\n",
       "      <th>region</th>\n",
       "      <th>disease</th>\n",
       "    </tr>\n",
       "    <tr>\n",
       "      <th>index</th>\n",
       "      <th></th>\n",
       "      <th></th>\n",
       "      <th></th>\n",
       "      <th></th>\n",
       "      <th></th>\n",
       "      <th></th>\n",
       "      <th></th>\n",
       "      <th></th>\n",
       "      <th></th>\n",
       "    </tr>\n",
       "  </thead>\n",
       "  <tbody>\n",
       "    <tr>\n",
       "      <th>AAACCCACAAAGGAGA-1_1_1_1_1_1_1_1_1_1_1_1_1_1_1</th>\n",
       "      <td>Fibroblast</td>\n",
       "      <td>male</td>\n",
       "      <td>P1</td>\n",
       "      <td>44</td>\n",
       "      <td>Kuppe 2022</td>\n",
       "      <td>3prime-v3</td>\n",
       "      <td>Nuclei</td>\n",
       "      <td>LV</td>\n",
       "      <td>ND</td>\n",
       "    </tr>\n",
       "    <tr>\n",
       "      <th>AAACCCACAGAGATGC-1_1_1_1_1_1_1_1_1_1_1_1_1_1_1</th>\n",
       "      <td>Cardiomyocyte</td>\n",
       "      <td>male</td>\n",
       "      <td>P1</td>\n",
       "      <td>44</td>\n",
       "      <td>Kuppe 2022</td>\n",
       "      <td>3prime-v3</td>\n",
       "      <td>Nuclei</td>\n",
       "      <td>LV</td>\n",
       "      <td>ND</td>\n",
       "    </tr>\n",
       "    <tr>\n",
       "      <th>AAACCCAGTAACGGTG-1_1_1_1_1_1_1_1_1_1_1_1_1_1_1</th>\n",
       "      <td>Cardiomyocyte</td>\n",
       "      <td>male</td>\n",
       "      <td>P1</td>\n",
       "      <td>44</td>\n",
       "      <td>Kuppe 2022</td>\n",
       "      <td>3prime-v3</td>\n",
       "      <td>Nuclei</td>\n",
       "      <td>LV</td>\n",
       "      <td>ND</td>\n",
       "    </tr>\n",
       "    <tr>\n",
       "      <th>AAACCCAGTCCAGAAG-1_1_1_1_1_1_1_1_1_1_1_1_1_1_1</th>\n",
       "      <td>Fibroblast</td>\n",
       "      <td>male</td>\n",
       "      <td>P1</td>\n",
       "      <td>44</td>\n",
       "      <td>Kuppe 2022</td>\n",
       "      <td>3prime-v3</td>\n",
       "      <td>Nuclei</td>\n",
       "      <td>LV</td>\n",
       "      <td>ND</td>\n",
       "    </tr>\n",
       "    <tr>\n",
       "      <th>AAACCCAGTCGTCGGT-1_1_1_1_1_1_1_1_1_1_1_1_1_1_1</th>\n",
       "      <td>Cardiomyocyte</td>\n",
       "      <td>male</td>\n",
       "      <td>P1</td>\n",
       "      <td>44</td>\n",
       "      <td>Kuppe 2022</td>\n",
       "      <td>3prime-v3</td>\n",
       "      <td>Nuclei</td>\n",
       "      <td>LV</td>\n",
       "      <td>ND</td>\n",
       "    </tr>\n",
       "  </tbody>\n",
       "</table>\n",
       "</div>"
      ],
      "text/plain": [
       "                                                    cell_type   sex donor_id  \\\n",
       "index                                                                          \n",
       "AAACCCACAAAGGAGA-1_1_1_1_1_1_1_1_1_1_1_1_1_1_1     Fibroblast  male       P1   \n",
       "AAACCCACAGAGATGC-1_1_1_1_1_1_1_1_1_1_1_1_1_1_1  Cardiomyocyte  male       P1   \n",
       "AAACCCAGTAACGGTG-1_1_1_1_1_1_1_1_1_1_1_1_1_1_1  Cardiomyocyte  male       P1   \n",
       "AAACCCAGTCCAGAAG-1_1_1_1_1_1_1_1_1_1_1_1_1_1_1     Fibroblast  male       P1   \n",
       "AAACCCAGTCGTCGGT-1_1_1_1_1_1_1_1_1_1_1_1_1_1_1  Cardiomyocyte  male       P1   \n",
       "\n",
       "                                                age       study technology  \\\n",
       "index                                                                        \n",
       "AAACCCACAAAGGAGA-1_1_1_1_1_1_1_1_1_1_1_1_1_1_1   44  Kuppe 2022  3prime-v3   \n",
       "AAACCCACAGAGATGC-1_1_1_1_1_1_1_1_1_1_1_1_1_1_1   44  Kuppe 2022  3prime-v3   \n",
       "AAACCCAGTAACGGTG-1_1_1_1_1_1_1_1_1_1_1_1_1_1_1   44  Kuppe 2022  3prime-v3   \n",
       "AAACCCAGTCCAGAAG-1_1_1_1_1_1_1_1_1_1_1_1_1_1_1   44  Kuppe 2022  3prime-v3   \n",
       "AAACCCAGTCGTCGGT-1_1_1_1_1_1_1_1_1_1_1_1_1_1_1   44  Kuppe 2022  3prime-v3   \n",
       "\n",
       "                                               cell_or_nuclei region disease  \n",
       "index                                                                         \n",
       "AAACCCACAAAGGAGA-1_1_1_1_1_1_1_1_1_1_1_1_1_1_1         Nuclei     LV      ND  \n",
       "AAACCCACAGAGATGC-1_1_1_1_1_1_1_1_1_1_1_1_1_1_1         Nuclei     LV      ND  \n",
       "AAACCCAGTAACGGTG-1_1_1_1_1_1_1_1_1_1_1_1_1_1_1         Nuclei     LV      ND  \n",
       "AAACCCAGTCCAGAAG-1_1_1_1_1_1_1_1_1_1_1_1_1_1_1         Nuclei     LV      ND  \n",
       "AAACCCAGTCGTCGGT-1_1_1_1_1_1_1_1_1_1_1_1_1_1_1         Nuclei     LV      ND  "
      ]
     },
     "execution_count": 16,
     "metadata": {},
     "output_type": "execute_result"
    }
   ],
   "source": [
    "new_metadata.head()"
   ]
  },
  {
   "cell_type": "code",
   "execution_count": 19,
   "id": "45527fc2-2294-4a8e-8ea8-a149ac649945",
   "metadata": {},
   "outputs": [],
   "source": [
    "# reorder the adata to the metadata order\n",
    "adata = adata[new_metadata.index, :]"
   ]
  },
  {
   "cell_type": "code",
   "execution_count": 20,
   "id": "b741c3fb-a6ec-401b-b872-0f2ed9c914a1",
   "metadata": {},
   "outputs": [],
   "source": [
    "# add back to the adata \n",
    "adata.obs = new_metadata"
   ]
  },
  {
   "cell_type": "code",
   "execution_count": 21,
   "id": "74f7ee63-0ad4-4da1-ad5a-9d9790fe5576",
   "metadata": {},
   "outputs": [],
   "source": [
    "# extract the raw counts \n",
    "adata = adata.raw.to_adata()"
   ]
  },
  {
   "cell_type": "code",
   "execution_count": 22,
   "id": "dcd739d0-ffcf-464f-b53a-90913842ae9a",
   "metadata": {},
   "outputs": [
    {
     "data": {
      "text/plain": [
       "matrix([[ 2597.],\n",
       "        [12988.],\n",
       "        [ 6358.],\n",
       "        ...,\n",
       "        [18578.],\n",
       "        [ 1790.],\n",
       "        [ 1339.]], dtype=float32)"
      ]
     },
     "execution_count": 22,
     "metadata": {},
     "output_type": "execute_result"
    }
   ],
   "source": [
    "adata.X.sum(axis = 1)"
   ]
  },
  {
   "cell_type": "code",
   "execution_count": 23,
   "id": "11039be0-40f6-4835-9ab8-492abf8e2cb5",
   "metadata": {},
   "outputs": [],
   "source": [
    "adata.layers['counts'] = adata.X"
   ]
  },
  {
   "cell_type": "markdown",
   "id": "55e28c30-7da8-46ef-9a8a-d990d46b738e",
   "metadata": {},
   "source": [
    "#### Make sure that adata.var as gene symbols"
   ]
  },
  {
   "cell_type": "code",
   "execution_count": 24,
   "id": "bc462f55-0782-4c99-a342-44afaf9040da",
   "metadata": {},
   "outputs": [
    {
     "data": {
      "text/plain": [
       "Index(['ENSG00000177613', 'ENSG00000128918', 'ENSG00000143977',\n",
       "       'ENSG00000196177', 'ENSG00000244482', 'ENSG00000234426',\n",
       "       'ENSG00000158578', 'ENSG00000133393', 'ENSG00000149091',\n",
       "       'ENSG00000272444',\n",
       "       ...\n",
       "       'ENSG00000263711', 'ENSG00000245864', 'ENSG00000108946',\n",
       "       'ENSG00000078246', 'ENSG00000229694', 'ENSG00000179152',\n",
       "       'ENSG00000248174', 'ENSG00000249875', 'ENSG00000215251',\n",
       "       'ENSG00000171858'],\n",
       "      dtype='object', length=28975)"
      ]
     },
     "execution_count": 24,
     "metadata": {},
     "output_type": "execute_result"
    }
   ],
   "source": [
    "# check that the vars are the gene symbols, not ENSEMBL id\n",
    "adata.var_names"
   ]
  },
  {
   "cell_type": "code",
   "execution_count": 25,
   "id": "470496c1-5f7f-496a-9368-434a802958b6",
   "metadata": {},
   "outputs": [],
   "source": [
    "# as current the vars are the ENSEMBL_id, change them\n",
    "adata.var['ensembl_id'] = adata.var.index\n",
    "adata.var.index = adata.var.feature_name.astype(str)\n",
    "adata.var = adata.var.drop(columns = [\"feature_name\"])"
   ]
  },
  {
   "cell_type": "code",
   "execution_count": 26,
   "id": "1570a8d6-280d-4f73-9825-32b1afe2065e",
   "metadata": {},
   "outputs": [
    {
     "data": {
      "text/plain": [
       "['Fibroblast', 'Cardiomyocyte', 'Endothelial', 'Myeloid', 'Neuronal', ..., 'Mast', 'Lymphoid', 'Cycling cells', 'vSMCs', 'Adipocyte']\n",
       "Length: 11\n",
       "Categories (11, object): ['Adipocyte', 'Cardiomyocyte', 'Cycling cells', 'Endothelial', ..., 'Myeloid', 'Neuronal', 'Pericyte', 'vSMCs']"
      ]
     },
     "execution_count": 26,
     "metadata": {},
     "output_type": "execute_result"
    }
   ],
   "source": [
    "adata.obs.cell_type.unique()"
   ]
  },
  {
   "cell_type": "code",
   "execution_count": 27,
   "id": "24cdebf4-3e8b-47f8-b600-5f9bdaebf1e0",
   "metadata": {},
   "outputs": [],
   "source": [
    "adata.obs[\"consistent_cell_type\"] = adata.obs[\"cell_type\"].map(\n",
    "    {\n",
    "        \"Adipocyte\": \"Adipocyte\",\n",
    "        \"Cardiomyocyte\": \"Cardiomyocyte\",\n",
    "        \"Cycling cells\": \"Myeloid\",\n",
    "        \"Endothelial\": \"Endothelial\",\n",
    "        \"Fibroblast\": \"Fibroblast\",\n",
    "        \"Lymphoid\": \"Lymphoid\",\n",
    "        \"Mast\": \"Mast\",\n",
    "        \"Myeloid\": \"Myeloid\",\n",
    "        \"Neuronal\": \"Neuronal\",\n",
    "        \"Pericyte\": \"Pericyte\",\n",
    "        \"vSMCs\": \"vSMC\",\n",
    "    }\n",
    ")"
   ]
  },
  {
   "cell_type": "code",
   "execution_count": 30,
   "id": "5f7f1989-fe96-40ab-826f-dbf9443517e6",
   "metadata": {},
   "outputs": [
    {
     "data": {
      "image/png": "[encoded data removed]",
      "text/plain": [
       "<Figure size 640x480 with 1 Axes>"
      ]
     },
     "metadata": {},
     "output_type": "display_data"
    }
   ],
   "source": [
    "sc.pl.umap(adata, color = \"consistent_cell_type\", legend_loc = \"on data\")"
   ]
  },
  {
   "cell_type": "code",
   "execution_count": 31,
   "id": "441d3c6a-37f6-4a83-ba01-428ed85b3da8",
   "metadata": {},
   "outputs": [],
   "source": [
    "adata.write(\"01_updated_Kuppe_all.h5ad\")"
   ]
  }
 ],
 "metadata": {
  "kernelspec": {
   "display_name": "Python 3 (ipykernel)",
   "language": "python",
   "name": "python3"
  },
  "language_info": {
   "codemirror_mode": {
    "name": "ipython",
    "version": 3
   },
   "file_extension": ".py",
   "mimetype": "text/x-python",
   "name": "python",
   "nbconvert_exporter": "python",
   "pygments_lexer": "ipython3",
   "version": "3.12.5"
  }
 },
 "nbformat": 4,
 "nbformat_minor": 5
}

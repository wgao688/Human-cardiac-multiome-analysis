{
 "cells": [
  {
   "cell_type": "markdown",
   "id": "5d5b6729-ec90-4068-a1fa-0b437c96fbe7",
   "metadata": {},
   "source": [
    "### Reformat some adata.obs information to conform with other adata files"
   ]
  },
  {
   "cell_type": "code",
   "execution_count": 1,
   "id": "3d684cdd-377e-4657-b6d7-350f4063d17e",
   "metadata": {},
   "outputs": [],
   "source": [
    "import scanpy as sc\n",
    "import numpy as np\n",
    "from collections import Counter"
   ]
  },
  {
   "cell_type": "code",
   "execution_count": 2,
   "id": "2dda89ec-cc54-4dba-b66d-1f81dddd9dc1",
   "metadata": {},
   "outputs": [
    {
     "data": {
      "text/plain": [
       "AnnData object with n_obs × n_vars = 74029 × 58780\n",
       "    obs: 'donor_id', 'age', 'sex', 'region', 'study', 'technology', 'cell_or_nuclei', 'n_genes_by_counts', 'log1p_n_genes_by_counts', 'total_counts', 'log1p_total_counts', 'pct_counts_in_top_50_genes', 'pct_counts_in_top_100_genes', 'pct_counts_in_top_200_genes', 'pct_counts_in_top_500_genes', 'total_counts_mt', 'log1p_total_counts_mt', 'pct_counts_mt', 'total_counts_ribo', 'log1p_total_counts_ribo', 'pct_counts_ribo', 'total_counts_hb', 'log1p_total_counts_hb', 'pct_counts_hb', 'n_genes', 'doublet_score', 'predicted_doublet', 'leiden', 'cell_type', 'consistent_cell_type'\n",
       "    var: 'mt', 'ribo', 'hb', 'n_cells_by_counts', 'mean_counts', 'log1p_mean_counts', 'pct_dropout_by_counts', 'total_counts', 'log1p_total_counts', 'highly_variable', 'means', 'dispersions', 'dispersions_norm', 'highly_variable_nbatches', 'highly_variable_intersection'\n",
       "    uns: 'consistent_cell_type_colors', 'dendrogram_leiden', 'donor_id_colors', 'hvg', 'leiden', 'leiden_colors', 'log1p', 'neighbors', 'pca', 'rank_genes_groups', 'scrublet', 'umap'\n",
       "    obsm: 'X_pca', 'X_pca_harmony', 'X_umap'\n",
       "    varm: 'PCs'\n",
       "    layers: 'counts'\n",
       "    obsp: 'connectivities', 'distances'"
      ]
     },
     "execution_count": 2,
     "metadata": {},
     "output_type": "execute_result"
    }
   ],
   "source": [
    "adata = sc.read_h5ad(\"02_fetal_ENCODE.h5ad\")\n",
    "adata"
   ]
  },
  {
   "cell_type": "markdown",
   "id": "17c09da2-65ad-42dd-9567-fdb864273b23",
   "metadata": {},
   "source": [
    "### Make the age in gestational weeks, rather than gestational days"
   ]
  },
  {
   "cell_type": "code",
   "execution_count": 3,
   "id": "6111d2ca-5984-43be-a149-13e22d3814f0",
   "metadata": {},
   "outputs": [
    {
     "data": {
      "text/plain": [
       "index\n",
       "ENCFF802AQC:AAACAGCCAAGCTACC    13.0\n",
       "ENCFF802AQC:AAACAGCCACATTGCA    13.0\n",
       "ENCFF802AQC:AAACATGCAATCCCTT    13.0\n",
       "ENCFF802AQC:AAACATGCAGCAACAG    13.0\n",
       "ENCFF802AQC:AAACATGCAGGCGAGT    13.0\n",
       "                                ... \n",
       "ENCFF684YRB:TTTGTGTTCTACCTGC    10.0\n",
       "ENCFF684YRB:TTTGTTGGTACTAAAC    10.0\n",
       "ENCFF684YRB:TTTGTTGGTCGTAATG    10.0\n",
       "ENCFF684YRB:TTTGTTGGTTAGAGGG    10.0\n",
       "ENCFF684YRB:TTTGTTGGTTCATTTG    10.0\n",
       "Name: age, Length: 74029, dtype: float64"
      ]
     },
     "execution_count": 3,
     "metadata": {},
     "output_type": "execute_result"
    }
   ],
   "source": [
    "adata.obs.age = np.round(adata.obs.age / 7)\n",
    "adata.obs.age"
   ]
  },
  {
   "cell_type": "markdown",
   "id": "7ac39365-a229-46f8-8b6b-c13cc6d7a5d5",
   "metadata": {},
   "source": [
    "### Make sex male and female, rather than M and F"
   ]
  },
  {
   "cell_type": "code",
   "execution_count": 4,
   "id": "9a865fb2-bd79-4058-9565-2fd929950b32",
   "metadata": {},
   "outputs": [
    {
     "data": {
      "text/plain": [
       "Counter({'female': 53960, 'male': 20069})"
      ]
     },
     "execution_count": 4,
     "metadata": {},
     "output_type": "execute_result"
    }
   ],
   "source": [
    "adata.obs.sex = adata.obs.sex.astype(str)\n",
    "adata.obs.loc[adata.obs.sex == \"M\", 'sex'] = \"male\"\n",
    "adata.obs.loc[adata.obs.sex == \"F\", 'sex'] = \"female\"\n",
    "Counter(adata.obs.sex)"
   ]
  },
  {
   "cell_type": "code",
   "execution_count": 5,
   "id": "1cfb0586-66a1-41c1-9b8d-78a2e27be3c7",
   "metadata": {},
   "outputs": [],
   "source": [
    "adata.write(\"03_reformatted_ENCODE_fetal.h5ad\")"
   ]
  },
  {
   "cell_type": "code",
   "execution_count": 6,
   "id": "1121741b-7043-4325-a5d0-de08b405af51",
   "metadata": {},
   "outputs": [
    {
     "data": {
      "text/plain": [
       "Counter({'ENCFF775ANN': 16642,\n",
       "         'ENCFF248EWR': 16230,\n",
       "         'ENCFF727JRO': 9524,\n",
       "         'ENCFF776DQR': 7612,\n",
       "         'ENCFF684YRB': 7442,\n",
       "         'ENCFF849ALE': 7424,\n",
       "         'ENCFF805YRY': 5316,\n",
       "         'ENCFF802AQC': 3839})"
      ]
     },
     "execution_count": 6,
     "metadata": {},
     "output_type": "execute_result"
    }
   ],
   "source": [
    "Counter(adata.obs.donor_id)"
   ]
  }
 ],
 "metadata": {
  "kernelspec": {
   "display_name": "Python 3 (ipykernel)",
   "language": "python",
   "name": "python3"
  },
  "language_info": {
   "codemirror_mode": {
    "name": "ipython",
    "version": 3
   },
   "file_extension": ".py",
   "mimetype": "text/x-python",
   "name": "python",
   "nbconvert_exporter": "python",
   "pygments_lexer": "ipython3",
   "version": "3.12.5"
  }
 },
 "nbformat": 4,
 "nbformat_minor": 5
}

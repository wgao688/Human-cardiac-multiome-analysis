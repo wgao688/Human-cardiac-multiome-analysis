{
 "cells": [
  {
   "cell_type": "markdown",
   "id": "4dc833c7-e17b-4562-b811-e01b0f6f7c1c",
   "metadata": {},
   "source": [
    "### Sim et al. 2021\n",
    "\n",
    "#### Convert the Sim directories to scanpy h5ad\n",
    "\n",
    "-Single-nucleus RNA sequencing of 54 140 nuclei from 9 human donors. All samples are LV\n",
    "\n",
    "Currently, there are there 9 directories (3 adult, 3 young, 3 fetal)\n",
    "which each have these files inside: \n",
    "1. barcodes.tsv.gz\n",
    "2. features.tsv.gz\n",
    "3. matrix.mtx.gz\n",
    "\n",
    "which is the 10X format\n",
    "\n",
    "Per GEO: Sequenced read were processed, aligned to human genome (GRCh38.96/hg38), counted and filtered using Cell Ranger (v3.0.2).\n",
    "Genome_build: GRCh38.96/hg38. Supplementary_files_format_and_content: *_processed.tar: Tar files include barcodes.tsv, features.tsv, matrix.mtx. Filtered counts of sequencing reads."
   ]
  },
  {
   "cell_type": "markdown",
   "id": "99137869-7fc2-4cb2-b810-8c386d704192",
   "metadata": {},
   "source": [
    "#### Convert these to scanpy h5ad, so that they are compatible with the script that combines all of the datasets together\n",
    "#### Additionally, we will perform QC filtering steps in scanpy"
   ]
  },
  {
   "cell_type": "code",
   "execution_count": 1,
   "id": "88167ff7-c647-445c-a2c5-707d1993b60c",
   "metadata": {},
   "outputs": [],
   "source": [
    "import os\n",
    "import pandas as pd\n",
    "import numpy as np\n",
    "import scanpy as sc\n",
    "import scanpy.external as sce\n",
    "from collections import Counter"
   ]
  },
  {
   "cell_type": "markdown",
   "id": "39eb554f-cfe3-4f72-9252-e3cbb995dfde",
   "metadata": {},
   "source": [
    "### Information based on supplemental files for the donors\n",
    "\n",
    "1. Adult1 - GSM4742854 - F, 35\n",
    "2. Adult2 - GSM4742855 - M, 42\n",
    "3. Adult3 - GSM4742856 - M, 42\n",
    "4. Young1 - GSM4742860 - M, 4\n",
    "5. Young2 - GSM4742861 - F, 10\n",
    "6. Young3 - GSM4742862 - M, 14\n",
    "7. Fetal1 - GSM4742857 - M, -19 \n",
    "8. Fetal2 - GSM4742858 - M, -19\n",
    "9. Fetal3 - GSM4742859 - F, -20"
   ]
  },
  {
   "cell_type": "code",
   "execution_count": 2,
   "id": "023dc4d7-44e6-4f36-9ab9-89274cf0a1d9",
   "metadata": {},
   "outputs": [
    {
     "data": {
      "text/plain": [
       "['GSM4742855_Adult2_processed',\n",
       " 'GSM4742862_Young3_processed',\n",
       " 'GSM4742858_Fetal2_processed',\n",
       " 'GSM4742860_Young1_processed',\n",
       " 'GSM4742859_Fetal3_processed',\n",
       " 'GSM4742857_Fetal1_processed',\n",
       " 'GSM4742856_Adult3_processed',\n",
       " 'GSM4742854_Adult1_processed',\n",
       " 'GSM4742861_Young2_processed']"
      ]
     },
     "execution_count": 2,
     "metadata": {},
     "output_type": "execute_result"
    }
   ],
   "source": [
    "directory_path = os.getcwd()\n",
    "\n",
    "subdirectories = [name for name in os.listdir(directory_path) if os.path.isdir(os.path.join(directory_path, name)) \n",
    "                  and not name.startswith('.')]\n",
    "subdirectories"
   ]
  },
  {
   "cell_type": "markdown",
   "id": "498e0816-1b63-48f5-b892-9732767078fa",
   "metadata": {},
   "source": [
    "Per the supplemental tables, here are the correspond ages and sex, in the same order as above\n",
    "\n",
    "To make it remain an integer, we are encoding gestational weeks in the `age` column. We will denote the fetal status by the `age_status` column. Note that the positive integers are years, not weeks."
   ]
  },
  {
   "cell_type": "code",
   "execution_count": 3,
   "id": "1f122d3e-7993-45e2-aad0-f3cedd58c1ee",
   "metadata": {},
   "outputs": [],
   "source": [
    "age_list = [42, 14, 19, 4, 20, 19, 42, 35, 10]\n",
    "sex_list = [\"male\", \"male\", \"male\", \"male\", \"female\", \"male\", \"male\", \"female\", \"female\"]\n",
    "age_status_list = ['Postnatal', 'Postnatal', 'Fetal', 'Postnatal', 'Fetal', 'Fetal', 'Postnatal', 'Postnatal', 'Postnatal']"
   ]
  },
  {
   "cell_type": "markdown",
   "id": "bac83ceb-ec70-45f2-b0ed-0f29dca5cd24",
   "metadata": {},
   "source": [
    "### Iteratively load in all of the adata files"
   ]
  },
  {
   "cell_type": "code",
   "execution_count": 4,
   "id": "0be55645-630a-4b18-912a-94d1a55023e9",
   "metadata": {},
   "outputs": [
    {
     "name": "stdout",
     "output_type": "stream",
     "text": [
      "CPU times: user 4min 6s, sys: 5.37 s, total: 4min 11s\n",
      "Wall time: 4min 11s\n"
     ]
    }
   ],
   "source": [
    "%%time\n",
    "adatas = []\n",
    "\n",
    "for subdir, age, sex, age_status in zip(subdirectories, age_list, sex_list, age_status_list):\n",
    "    adata = sc.read_10x_mtx(subdir)\n",
    "    adata.obs['donor_id'] = subdir # use the \n",
    "    adata.obs['age'] = age\n",
    "    adata.obs['sex'] = sex\n",
    "    adata.obs['age_status'] = age_status\n",
    "    \n",
    "    # add the adata to the growing list\n",
    "    adatas.append(adata)"
   ]
  },
  {
   "cell_type": "code",
   "execution_count": 5,
   "id": "c3288e4b-8656-44d2-9e15-ce65d8a2f9dc",
   "metadata": {},
   "outputs": [
    {
     "name": "stderr",
     "output_type": "stream",
     "text": [
      "/home/william/anaconda3/envs/r-kernel/lib/python3.12/site-packages/anndata/_core/anndata.py:1754: UserWarning: Observation names are not unique. To make them unique, call `.obs_names_make_unique`.\n",
      "  utils.warn_names_duplicates(\"obs\")\n"
     ]
    }
   ],
   "source": [
    "# since they all use the same features, concatenate all of them together\n",
    "concatenated_adata = sc.concat(adatas)"
   ]
  },
  {
   "cell_type": "code",
   "execution_count": 6,
   "id": "22f1f2a4-b42a-418c-9a58-b5b6d189301e",
   "metadata": {},
   "outputs": [],
   "source": [
    "concatenated_adata.obs_names = concatenated_adata.obs.donor_id.astype(str) + \":\" + concatenated_adata.obs_names"
   ]
  },
  {
   "cell_type": "code",
   "execution_count": 7,
   "id": "06501df0-1e24-4475-be2a-8b93c8d26dd1",
   "metadata": {},
   "outputs": [
    {
     "data": {
      "text/html": [
       "<div>\n",
       "<style scoped>\n",
       "    .dataframe tbody tr th:only-of-type {\n",
       "        vertical-align: middle;\n",
       "    }\n",
       "\n",
       "    .dataframe tbody tr th {\n",
       "        vertical-align: top;\n",
       "    }\n",
       "\n",
       "    .dataframe thead th {\n",
       "        text-align: right;\n",
       "    }\n",
       "</style>\n",
       "<table border=\"1\" class=\"dataframe\">\n",
       "  <thead>\n",
       "    <tr style=\"text-align: right;\">\n",
       "      <th></th>\n",
       "      <th>donor_id</th>\n",
       "      <th>age</th>\n",
       "      <th>sex</th>\n",
       "      <th>age_status</th>\n",
       "    </tr>\n",
       "  </thead>\n",
       "  <tbody>\n",
       "    <tr>\n",
       "      <th>GSM4742855_Adult2_processed:AAACCCAAGATCGACG-1</th>\n",
       "      <td>GSM4742855_Adult2_processed</td>\n",
       "      <td>42</td>\n",
       "      <td>male</td>\n",
       "      <td>Postnatal</td>\n",
       "    </tr>\n",
       "    <tr>\n",
       "      <th>GSM4742855_Adult2_processed:AAACCCAAGCCACTCG-1</th>\n",
       "      <td>GSM4742855_Adult2_processed</td>\n",
       "      <td>42</td>\n",
       "      <td>male</td>\n",
       "      <td>Postnatal</td>\n",
       "    </tr>\n",
       "    <tr>\n",
       "      <th>GSM4742855_Adult2_processed:AAACCCAGTATCGAGG-1</th>\n",
       "      <td>GSM4742855_Adult2_processed</td>\n",
       "      <td>42</td>\n",
       "      <td>male</td>\n",
       "      <td>Postnatal</td>\n",
       "    </tr>\n",
       "    <tr>\n",
       "      <th>GSM4742855_Adult2_processed:AAACCCAGTTGGATCT-1</th>\n",
       "      <td>GSM4742855_Adult2_processed</td>\n",
       "      <td>42</td>\n",
       "      <td>male</td>\n",
       "      <td>Postnatal</td>\n",
       "    </tr>\n",
       "    <tr>\n",
       "      <th>GSM4742855_Adult2_processed:AAACCCAGTTTCGGCG-1</th>\n",
       "      <td>GSM4742855_Adult2_processed</td>\n",
       "      <td>42</td>\n",
       "      <td>male</td>\n",
       "      <td>Postnatal</td>\n",
       "    </tr>\n",
       "  </tbody>\n",
       "</table>\n",
       "</div>"
      ],
      "text/plain": [
       "                                                                   donor_id  \\\n",
       "GSM4742855_Adult2_processed:AAACCCAAGATCGACG-1  GSM4742855_Adult2_processed   \n",
       "GSM4742855_Adult2_processed:AAACCCAAGCCACTCG-1  GSM4742855_Adult2_processed   \n",
       "GSM4742855_Adult2_processed:AAACCCAGTATCGAGG-1  GSM4742855_Adult2_processed   \n",
       "GSM4742855_Adult2_processed:AAACCCAGTTGGATCT-1  GSM4742855_Adult2_processed   \n",
       "GSM4742855_Adult2_processed:AAACCCAGTTTCGGCG-1  GSM4742855_Adult2_processed   \n",
       "\n",
       "                                                age   sex age_status  \n",
       "GSM4742855_Adult2_processed:AAACCCAAGATCGACG-1   42  male  Postnatal  \n",
       "GSM4742855_Adult2_processed:AAACCCAAGCCACTCG-1   42  male  Postnatal  \n",
       "GSM4742855_Adult2_processed:AAACCCAGTATCGAGG-1   42  male  Postnatal  \n",
       "GSM4742855_Adult2_processed:AAACCCAGTTGGATCT-1   42  male  Postnatal  \n",
       "GSM4742855_Adult2_processed:AAACCCAGTTTCGGCG-1   42  male  Postnatal  "
      ]
     },
     "execution_count": 7,
     "metadata": {},
     "output_type": "execute_result"
    }
   ],
   "source": [
    "concatenated_adata.obs.head()"
   ]
  },
  {
   "cell_type": "code",
   "execution_count": 8,
   "id": "2384a155-a322-4fac-b2f9-eea540a43480",
   "metadata": {},
   "outputs": [
    {
     "data": {
      "text/plain": [
       "('GSM4742855_Adult2_processed:AAACCCAAGATCGACG-1', 1)"
      ]
     },
     "execution_count": 8,
     "metadata": {},
     "output_type": "execute_result"
    }
   ],
   "source": [
    "Counter(concatenated_adata.obs_names).most_common()[0]"
   ]
  },
  {
   "cell_type": "markdown",
   "id": "408199e3-5abb-4c63-b43b-ddbb8a9787c3",
   "metadata": {},
   "source": [
    "### Add metadata common to all cells"
   ]
  },
  {
   "cell_type": "code",
   "execution_count": 12,
   "id": "62019314-5dc6-4656-bd5e-b8e720ac8b9a",
   "metadata": {},
   "outputs": [],
   "source": [
    "concatenated_adata.obs['region'] = \"LV\"\n",
    "concatenated_adata.obs['cell_or_nuclei'] = \"Nuclei\"\n",
    "concatenated_adata.obs['technology'] = '3prime-v1'\n",
    "concatenated_adata.obs['study'] = 'Sim 2021'\n",
    "concatenated_adata.obs['disease'] = \"ND\""
   ]
  },
  {
   "cell_type": "code",
   "execution_count": 10,
   "id": "90b56402-c3f7-46c1-9515-a42650419201",
   "metadata": {},
   "outputs": [],
   "source": [
    "adata = concatenated_adata\n",
    "adata.layers[\"counts\"] = adata.X"
   ]
  },
  {
   "cell_type": "markdown",
   "id": "4e557132-ddd0-468f-8deb-b61bff35c55d",
   "metadata": {},
   "source": [
    "### Save adata"
   ]
  },
  {
   "cell_type": "code",
   "execution_count": 13,
   "id": "f14523f9-aacd-4536-a879-db776660d2bc",
   "metadata": {},
   "outputs": [],
   "source": [
    "adata.write(\"01_Sim_adata.h5ad\")"
   ]
  }
 ],
 "metadata": {
  "kernelspec": {
   "display_name": "Python 3 (ipykernel)",
   "language": "python",
   "name": "python3"
  },
  "language_info": {
   "codemirror_mode": {
    "name": "ipython",
    "version": 3
   },
   "file_extension": ".py",
   "mimetype": "text/x-python",
   "name": "python",
   "nbconvert_exporter": "python",
   "pygments_lexer": "ipython3",
   "version": "3.12.5"
  }
 },
 "nbformat": 4,
 "nbformat_minor": 5
}

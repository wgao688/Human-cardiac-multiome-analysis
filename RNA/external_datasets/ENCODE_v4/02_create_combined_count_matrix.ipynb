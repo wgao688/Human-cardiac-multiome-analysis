{
 "cells": [
  {
   "cell_type": "markdown",
   "id": "d05eeab5-7cbc-4897-a952-871b2d34585f",
   "metadata": {},
   "source": [
    "#### Loads each of the count matrix directories from the ENCODE snRNA-seq project together into an overall project"
   ]
  },
  {
   "cell_type": "code",
   "execution_count": 1,
   "id": "98f01141-739d-4ec3-9b3c-56e439ef8a54",
   "metadata": {},
   "outputs": [],
   "source": [
    "import numpy as np\n",
    "import scanpy as sc \n",
    "import pandas as pd \n",
    "import matplotlib.pyplot as plt\n",
    "import re\n",
    "import os"
   ]
  },
  {
   "cell_type": "code",
   "execution_count": 2,
   "id": "71b7066b-f9f5-43b3-a4a4-b5afc54a11d4",
   "metadata": {},
   "outputs": [
    {
     "data": {
      "text/html": [
       "<div>\n",
       "<style scoped>\n",
       "    .dataframe tbody tr th:only-of-type {\n",
       "        vertical-align: middle;\n",
       "    }\n",
       "\n",
       "    .dataframe tbody tr th {\n",
       "        vertical-align: top;\n",
       "    }\n",
       "\n",
       "    .dataframe thead th {\n",
       "        text-align: right;\n",
       "    }\n",
       "</style>\n",
       "<table border=\"1\" class=\"dataframe\">\n",
       "  <thead>\n",
       "    <tr style=\"text-align: right;\">\n",
       "      <th></th>\n",
       "      <th>Accession</th>\n",
       "      <th>age</th>\n",
       "      <th>sex</th>\n",
       "    </tr>\n",
       "  </thead>\n",
       "  <tbody>\n",
       "    <tr>\n",
       "      <th>0</th>\n",
       "      <td>ENCSR814LMX</td>\n",
       "      <td>31</td>\n",
       "      <td>male</td>\n",
       "    </tr>\n",
       "    <tr>\n",
       "      <th>1</th>\n",
       "      <td>ENCSR630LZS</td>\n",
       "      <td>41</td>\n",
       "      <td>male</td>\n",
       "    </tr>\n",
       "    <tr>\n",
       "      <th>2</th>\n",
       "      <td>ENCSR012APQ</td>\n",
       "      <td>66</td>\n",
       "      <td>male</td>\n",
       "    </tr>\n",
       "    <tr>\n",
       "      <th>3</th>\n",
       "      <td>ENCSR763BII</td>\n",
       "      <td>42</td>\n",
       "      <td>female</td>\n",
       "    </tr>\n",
       "    <tr>\n",
       "      <th>4</th>\n",
       "      <td>ENCSR002SMQ</td>\n",
       "      <td>68</td>\n",
       "      <td>male</td>\n",
       "    </tr>\n",
       "  </tbody>\n",
       "</table>\n",
       "</div>"
      ],
      "text/plain": [
       "     Accession  age     sex\n",
       "0  ENCSR814LMX   31    male\n",
       "1  ENCSR630LZS   41    male\n",
       "2  ENCSR012APQ   66    male\n",
       "3  ENCSR763BII   42  female\n",
       "4  ENCSR002SMQ   68    male"
      ]
     },
     "execution_count": 2,
     "metadata": {},
     "output_type": "execute_result"
    }
   ],
   "source": [
    "metadata_df = pd.read_csv(\"filtered_metadata.tsv\", index_col = 0)\n",
    "metadata_df = metadata_df[[\"Accession\", \"age\", \"sex\"]]\n",
    "metadata_df.head()"
   ]
  },
  {
   "cell_type": "code",
   "execution_count": 3,
   "id": "92f1ffb0-5816-40a4-b8e4-5fdbe572b914",
   "metadata": {},
   "outputs": [
    {
     "name": "stdout",
     "output_type": "stream",
     "text": [
      "Directories starting with 'ENC':\n",
      "['ENCFF201LRF', 'ENCFF768IJQ', 'ENCFF507PDS', 'ENCFF351UZO', 'ENCFF220HCP', 'ENCFF718XQH', 'ENCFF828HKS', 'ENCFF332PIV', 'ENCFF861LPM', 'ENCFF750OIR', 'ENCFF944XQK', 'ENCFF861QBB', 'ENCFF552HTP', 'ENCFF612FUI', 'ENCFF392PCC', 'ENCFF845YIP', 'ENCFF616DEQ', 'ENCFF431AQJ', 'ENCFF238ACZ', 'ENCFF858WYU', 'ENCFF356UPT', 'ENCFF243GIK', 'ENCFF141HGZ', 'ENCFF775IKH', 'ENCFF484HHL', 'ENCFF518WAA', 'ENCFF459HJH', 'ENCFF091JBK', 'ENCFF538RCL', 'ENCFF474ZVW', 'ENCFF568KOS', 'ENCFF474XJS', 'ENCFF802HTG', 'ENCFF669JZO', 'ENCFF500LDR', 'ENCFF323OMW', 'ENCFF907UBD', 'ENCFF169FQE', 'ENCFF544USL', 'ENCFF760MXT', 'ENCFF594SCL', 'ENCFF588EOL', 'ENCFF286MIT', 'ENCFF568GHX', 'ENCFF046HGL', 'ENCFF381ZJP', 'ENCFF936XYF', 'ENCFF625DIE', 'ENCFF128XVA', 'ENCFF672RPX', 'ENCFF696DZL', 'ENCFF435HFL', 'ENCFF379FXA', 'ENCFF004QRO']\n"
     ]
    }
   ],
   "source": [
    "# Directory path\n",
    "directory = 'tarballs/'\n",
    "\n",
    "# List to store directories starting with \"ENC\"\n",
    "enc_directories = []\n",
    "\n",
    "# Iterate through all entries in the directory\n",
    "for entry in os.listdir(directory):\n",
    "    # Check if entry is a directory and starts with \"ENC\"\n",
    "    if os.path.isdir(os.path.join(directory, entry)) and entry.startswith('ENC'):\n",
    "        enc_directories.append(entry)\n",
    "\n",
    "# Print the list of directories\n",
    "print(\"Directories starting with 'ENC':\")\n",
    "print(enc_directories)"
   ]
  },
  {
   "cell_type": "code",
   "execution_count": 4,
   "id": "6b97e8eb-a4f4-4f71-88bc-ce914ff8ea50",
   "metadata": {},
   "outputs": [
    {
     "data": {
      "text/plain": [
       "54"
      ]
     },
     "execution_count": 4,
     "metadata": {},
     "output_type": "execute_result"
    }
   ],
   "source": [
    "len(enc_directories)"
   ]
  },
  {
   "cell_type": "markdown",
   "id": "1aef0b9f-79f1-4bd4-9890-40a5317394eb",
   "metadata": {},
   "source": [
    "Identify the experimental accessions (which is linked to age and sex of each donor) with the tarball names"
   ]
  },
  {
   "cell_type": "code",
   "execution_count": 5,
   "id": "2007846d-9a7b-4352-b811-e5d084d5b0d7",
   "metadata": {},
   "outputs": [],
   "source": [
    "def determine_corresponding_accession(directory):\n",
    "    sample_name_path = \"tarballs/\" + directory + \"/filtered/ENCODE_Accession.txt\"\n",
    "    with open(sample_name_path, 'r') as file:\n",
    "        line = file.readline().strip()\n",
    "    return(line)"
   ]
  },
  {
   "cell_type": "code",
   "execution_count": 6,
   "id": "2c292518-c58b-4154-8281-38bbabdaa9ac",
   "metadata": {},
   "outputs": [],
   "source": [
    "corresponding_accessions = [determine_corresponding_accession(directory) for directory in enc_directories]"
   ]
  },
  {
   "cell_type": "code",
   "execution_count": 7,
   "id": "3b06c363-ab7b-4382-a085-0060dc828f03",
   "metadata": {},
   "outputs": [
    {
     "data": {
      "text/html": [
       "<div>\n",
       "<style scoped>\n",
       "    .dataframe tbody tr th:only-of-type {\n",
       "        vertical-align: middle;\n",
       "    }\n",
       "\n",
       "    .dataframe tbody tr th {\n",
       "        vertical-align: top;\n",
       "    }\n",
       "\n",
       "    .dataframe thead th {\n",
       "        text-align: right;\n",
       "    }\n",
       "</style>\n",
       "<table border=\"1\" class=\"dataframe\">\n",
       "  <thead>\n",
       "    <tr style=\"text-align: right;\">\n",
       "      <th></th>\n",
       "      <th>directory</th>\n",
       "      <th>accession</th>\n",
       "    </tr>\n",
       "  </thead>\n",
       "  <tbody>\n",
       "    <tr>\n",
       "      <th>0</th>\n",
       "      <td>ENCFF201LRF</td>\n",
       "      <td>ENCSR906MRL</td>\n",
       "    </tr>\n",
       "    <tr>\n",
       "      <th>1</th>\n",
       "      <td>ENCFF768IJQ</td>\n",
       "      <td>ENCSR084XKX</td>\n",
       "    </tr>\n",
       "    <tr>\n",
       "      <th>2</th>\n",
       "      <td>ENCFF507PDS</td>\n",
       "      <td>ENCSR352DXB</td>\n",
       "    </tr>\n",
       "    <tr>\n",
       "      <th>3</th>\n",
       "      <td>ENCFF351UZO</td>\n",
       "      <td>ENCSR237HWJ</td>\n",
       "    </tr>\n",
       "    <tr>\n",
       "      <th>4</th>\n",
       "      <td>ENCFF220HCP</td>\n",
       "      <td>ENCSR485GOL</td>\n",
       "    </tr>\n",
       "  </tbody>\n",
       "</table>\n",
       "</div>"
      ],
      "text/plain": [
       "     directory    accession\n",
       "0  ENCFF201LRF  ENCSR906MRL\n",
       "1  ENCFF768IJQ  ENCSR084XKX\n",
       "2  ENCFF507PDS  ENCSR352DXB\n",
       "3  ENCFF351UZO  ENCSR237HWJ\n",
       "4  ENCFF220HCP  ENCSR485GOL"
      ]
     },
     "execution_count": 7,
     "metadata": {},
     "output_type": "execute_result"
    }
   ],
   "source": [
    "ENCODE_df = pd.DataFrame({'directory': enc_directories, 'accession': corresponding_accessions})\n",
    "ENCODE_df.head()"
   ]
  },
  {
   "cell_type": "code",
   "execution_count": 8,
   "id": "0d4ad714-1b02-476c-b876-d1de3ca9f9a6",
   "metadata": {},
   "outputs": [
    {
     "data": {
      "text/html": [
       "<div>\n",
       "<style scoped>\n",
       "    .dataframe tbody tr th:only-of-type {\n",
       "        vertical-align: middle;\n",
       "    }\n",
       "\n",
       "    .dataframe tbody tr th {\n",
       "        vertical-align: top;\n",
       "    }\n",
       "\n",
       "    .dataframe thead th {\n",
       "        text-align: right;\n",
       "    }\n",
       "</style>\n",
       "<table border=\"1\" class=\"dataframe\">\n",
       "  <thead>\n",
       "    <tr style=\"text-align: right;\">\n",
       "      <th></th>\n",
       "      <th>directory</th>\n",
       "      <th>accession</th>\n",
       "      <th>age</th>\n",
       "      <th>sex</th>\n",
       "    </tr>\n",
       "  </thead>\n",
       "  <tbody>\n",
       "    <tr>\n",
       "      <th>0</th>\n",
       "      <td>ENCFF201LRF</td>\n",
       "      <td>ENCSR906MRL</td>\n",
       "      <td>44</td>\n",
       "      <td>male</td>\n",
       "    </tr>\n",
       "    <tr>\n",
       "      <th>1</th>\n",
       "      <td>ENCFF768IJQ</td>\n",
       "      <td>ENCSR084XKX</td>\n",
       "      <td>30</td>\n",
       "      <td>male</td>\n",
       "    </tr>\n",
       "    <tr>\n",
       "      <th>2</th>\n",
       "      <td>ENCFF507PDS</td>\n",
       "      <td>ENCSR352DXB</td>\n",
       "      <td>57</td>\n",
       "      <td>male</td>\n",
       "    </tr>\n",
       "    <tr>\n",
       "      <th>3</th>\n",
       "      <td>ENCFF351UZO</td>\n",
       "      <td>ENCSR237HWJ</td>\n",
       "      <td>64</td>\n",
       "      <td>male</td>\n",
       "    </tr>\n",
       "    <tr>\n",
       "      <th>4</th>\n",
       "      <td>ENCFF220HCP</td>\n",
       "      <td>ENCSR485GOL</td>\n",
       "      <td>51</td>\n",
       "      <td>male</td>\n",
       "    </tr>\n",
       "  </tbody>\n",
       "</table>\n",
       "</div>"
      ],
      "text/plain": [
       "     directory    accession  age   sex\n",
       "0  ENCFF201LRF  ENCSR906MRL   44  male\n",
       "1  ENCFF768IJQ  ENCSR084XKX   30  male\n",
       "2  ENCFF507PDS  ENCSR352DXB   57  male\n",
       "3  ENCFF351UZO  ENCSR237HWJ   64  male\n",
       "4  ENCFF220HCP  ENCSR485GOL   51  male"
      ]
     },
     "execution_count": 8,
     "metadata": {},
     "output_type": "execute_result"
    }
   ],
   "source": [
    "merged_ENCODE_df = ENCODE_df.merge(metadata_df, left_on = \"accession\", right_on = \"Accession\", how = \"inner\")\n",
    "merged_ENCODE_df = merged_ENCODE_df[[\"directory\", \"accession\", \"age\", \"sex\"]]\n",
    "merged_ENCODE_df.head()"
   ]
  },
  {
   "cell_type": "markdown",
   "id": "d9ac9416-7f23-496b-99b4-954287ffc297",
   "metadata": {},
   "source": [
    "#### Iterate through the directories, adding to adata_list"
   ]
  },
  {
   "cell_type": "code",
   "execution_count": 14,
   "id": "259c680a-cd64-4591-98ed-d632f5f58991",
   "metadata": {},
   "outputs": [],
   "source": [
    "def create_adata(directory):\n",
    "    count_directory_path = \"tarballs/\" + directory + \"/filtered/\" \n",
    "    count_matrix_path = count_directory_path + \"matrix.mtx.gz\"\n",
    "    # read in count matrix and take transpose so that cells are the rows and the genes are the columns\n",
    "    adata = sc.read_mtx(count_matrix_path)\n",
    "    adata = adata.T\n",
    "\n",
    "    # add the features to adata.var\n",
    "    features_path = count_directory_path + \"features.tsv.gz\"\n",
    "    features = pd.read_csv(features_path, delimiter = \"\\t\", index_col = 0, header = None,\n",
    "                        names = ['gene_id', 'gene_name', 'feature_type'])\n",
    "\n",
    "    adata.var = features\n",
    "\n",
    "    # add the barcodes to adata.obs\n",
    "    barcodes_path = count_directory_path + \"barcodes.tsv.gz\"\n",
    "    barcodes = pd.read_csv(barcodes_path, delimiter = \"\\t\", index_col = 0, header = None, \n",
    "                       names = [\"barcode\"])\n",
    "\n",
    "    adata.obs = barcodes\n",
    "\n",
    "    return(adata)"
   ]
  },
  {
   "cell_type": "markdown",
   "id": "b9546fdb-93c2-40c0-88bc-e8801a5bc603",
   "metadata": {},
   "source": [
    "Create a list of individual adata files and combine them"
   ]
  },
  {
   "cell_type": "code",
   "execution_count": 15,
   "id": "feeae1ff-1652-454e-863f-016974683534",
   "metadata": {},
   "outputs": [],
   "source": [
    "adata_list = list()"
   ]
  },
  {
   "cell_type": "code",
   "execution_count": 16,
   "id": "6af30271-312e-4152-94f4-2462a1d7dfc2",
   "metadata": {},
   "outputs": [],
   "source": [
    "directory_names = merged_ENCODE_df['directory']\n",
    "accession_names = merged_ENCODE_df['accession']\n",
    "corresponding_ages = merged_ENCODE_df['age']\n",
    "corresponding_sexes = merged_ENCODE_df['sex']"
   ]
  },
  {
   "cell_type": "code",
   "execution_count": 17,
   "id": "9c017c24-fe14-4864-816c-1391498e2b9f",
   "metadata": {},
   "outputs": [
    {
     "name": "stdout",
     "output_type": "stream",
     "text": [
      "ENCFF201LRF\n",
      "ENCFF768IJQ\n",
      "ENCFF507PDS\n",
      "ENCFF351UZO\n",
      "ENCFF220HCP\n",
      "ENCFF718XQH\n",
      "ENCFF828HKS\n",
      "ENCFF332PIV\n",
      "ENCFF861LPM\n",
      "ENCFF750OIR\n",
      "ENCFF944XQK\n",
      "ENCFF861QBB\n",
      "ENCFF552HTP\n",
      "ENCFF612FUI\n",
      "ENCFF392PCC\n",
      "ENCFF845YIP\n",
      "ENCFF616DEQ\n",
      "ENCFF431AQJ\n",
      "ENCFF238ACZ\n",
      "ENCFF858WYU\n",
      "ENCFF356UPT\n",
      "ENCFF243GIK\n",
      "ENCFF141HGZ\n",
      "ENCFF775IKH\n",
      "ENCFF484HHL\n",
      "ENCFF518WAA\n",
      "ENCFF459HJH\n",
      "ENCFF091JBK\n",
      "ENCFF538RCL\n",
      "ENCFF474ZVW\n",
      "ENCFF568KOS\n",
      "ENCFF474XJS\n",
      "ENCFF802HTG\n",
      "ENCFF669JZO\n",
      "ENCFF500LDR\n",
      "ENCFF323OMW\n",
      "ENCFF907UBD\n",
      "ENCFF169FQE\n",
      "ENCFF544USL\n",
      "ENCFF760MXT\n",
      "ENCFF594SCL\n",
      "ENCFF588EOL\n",
      "ENCFF286MIT\n",
      "ENCFF568GHX\n",
      "ENCFF046HGL\n",
      "ENCFF381ZJP\n",
      "ENCFF936XYF\n",
      "ENCFF625DIE\n",
      "ENCFF128XVA\n",
      "ENCFF672RPX\n",
      "ENCFF696DZL\n",
      "ENCFF435HFL\n",
      "ENCFF379FXA\n",
      "ENCFF004QRO\n",
      "CPU times: user 12min 29s, sys: 1min 21s, total: 13min 50s\n",
      "Wall time: 8min 57s\n"
     ]
    }
   ],
   "source": [
    "%%time \n",
    "\n",
    "for i in np.arange(len(directory_names)):\n",
    "    directory_name = directory_names[i]\n",
    "    accession_name = accession_names[i]\n",
    "    age = corresponding_ages[i]\n",
    "    sex = corresponding_sexes[i]\n",
    "\n",
    "    adata = create_adata(directory_name)\n",
    "    adata.obs['age'] = age\n",
    "    adata.obs['sex'] = sex\n",
    "    adata.obs['sample'] = accession_name\n",
    "    adata.obs['directory'] = directory_name\n",
    "\n",
    "    adata_list.append(adata)\n",
    "    print(directory_name)"
   ]
  },
  {
   "cell_type": "code",
   "execution_count": 18,
   "id": "e3831eb5-c833-47a0-8e54-785226e47312",
   "metadata": {},
   "outputs": [
    {
     "name": "stderr",
     "output_type": "stream",
     "text": [
      "/home/william/anaconda3/envs/r-kernel/lib/python3.12/site-packages/anndata/_core/anndata.py:1754: UserWarning: Observation names are not unique. To make them unique, call `.obs_names_make_unique`.\n",
      "  utils.warn_names_duplicates(\"obs\")\n"
     ]
    }
   ],
   "source": [
    "combined_adata = sc.concat(adata_list)"
   ]
  },
  {
   "cell_type": "code",
   "execution_count": 30,
   "id": "cf3dd36f-300d-468c-b659-fa177d89cacd",
   "metadata": {},
   "outputs": [],
   "source": [
    "# add the sample to the obs_names to ensure uniqueness \n",
    "combined_adata.obs_names = combined_adata.obs['sample'].astype(str) + \":\" + combined_adata.obs_names"
   ]
  },
  {
   "cell_type": "code",
   "execution_count": 31,
   "id": "c250e2fb-1ef6-412b-87ce-aa3c8234ca2f",
   "metadata": {},
   "outputs": [],
   "source": [
    "adata_var_with_more_info = adata_list[0].var.reset_index()"
   ]
  },
  {
   "cell_type": "markdown",
   "id": "9737c6f8-a8bc-4401-81fc-557b23555b76",
   "metadata": {},
   "source": [
    "Retain the information in adata.var lost after concatenation: "
   ]
  },
  {
   "cell_type": "code",
   "execution_count": 32,
   "id": "a2612550-2ad6-44a9-8874-88a22d12dd18",
   "metadata": {},
   "outputs": [
    {
     "name": "stderr",
     "output_type": "stream",
     "text": [
      "/home/william/anaconda3/envs/r-kernel/lib/python3.12/site-packages/anndata/_core/anndata.py:747: UserWarning: \n",
      "AnnData expects .var.index to contain strings, but got values like:\n",
      "    [0, 1, 2, 3, 4]\n",
      "\n",
      "    Inferred to be: integer\n",
      "\n",
      "  value_idx = self._prep_dim_index(value.index, attr)\n",
      "/home/william/anaconda3/envs/r-kernel/lib/python3.12/site-packages/anndata/_core/anndata.py:1756: UserWarning: Variable names are not unique. To make them unique, call `.var_names_make_unique`.\n",
      "  utils.warn_names_duplicates(\"var\")\n"
     ]
    }
   ],
   "source": [
    "combined_adata.var = combined_adata.var.reset_index().merge(adata_var_with_more_info, on = \"gene_id\")\n",
    "combined_adata.var_names = combined_adata.var['gene_name']\n",
    "combined_adata.var = combined_adata.var.drop(columns = [\"gene_name\"])\n",
    "\n",
    "# remove the spikeins \n",
    "combined_adata.var[\"spikein\"] = combined_adata.var_names.str.startswith(\"gSpikein\")\n",
    "combined_adata = combined_adata[:, combined_adata.var[\"spikein\"] == False]\n",
    "combined_adata.var_names_make_unique()"
   ]
  },
  {
   "cell_type": "code",
   "execution_count": 33,
   "id": "57065465-8fdd-4547-89c4-7bb637b2eae6",
   "metadata": {},
   "outputs": [],
   "source": [
    "combined_adata.var = combined_adata.var.drop(columns = [\"spikein\"])"
   ]
  },
  {
   "cell_type": "code",
   "execution_count": 23,
   "id": "a8ff08a8-a3ef-4ad1-9ad3-f893a4181bd6",
   "metadata": {},
   "outputs": [],
   "source": [
    "combined_adata.write(\"02_combined_ENCODE_LV_snRNA.h5ad\")"
   ]
  }
 ],
 "metadata": {
  "kernelspec": {
   "display_name": "Python 3 (ipykernel)",
   "language": "python",
   "name": "python3"
  },
  "language_info": {
   "codemirror_mode": {
    "name": "ipython",
    "version": 3
   },
   "file_extension": ".py",
   "mimetype": "text/x-python",
   "name": "python",
   "nbconvert_exporter": "python",
   "pygments_lexer": "ipython3",
   "version": "3.12.5"
  }
 },
 "nbformat": 4,
 "nbformat_minor": 5
}

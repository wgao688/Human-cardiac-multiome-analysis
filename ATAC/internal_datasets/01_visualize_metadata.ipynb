{
 "cells": [
  {
   "cell_type": "code",
   "execution_count": 2,
   "id": "990094eb-29c2-4629-a1b6-a7aa4c5a8225",
   "metadata": {},
   "outputs": [],
   "source": [
    "import pandas as pd\n",
    "import numpy as np\n",
    "import matplotlib.pyplot as plt\n",
    "import seaborn as sns"
   ]
  },
  {
   "cell_type": "code",
   "execution_count": 3,
   "id": "3217c279-f1d9-4b59-8b3f-08aaf481879b",
   "metadata": {},
   "outputs": [],
   "source": [
    "metadata_df = pd.read_csv(\"01_metadata.txt\", delim_whitespace = True)"
   ]
  },
  {
   "cell_type": "markdown",
   "id": "141664ee-2800-45ee-9d92-a76e90f099be",
   "metadata": {},
   "source": [
    "### Filter to in vitro"
   ]
  },
  {
   "cell_type": "code",
   "execution_count": 4,
   "id": "a3139d4c-dbbb-4876-9cf5-6c4d0f80ebac",
   "metadata": {},
   "outputs": [
    {
     "data": {
      "text/html": [
       "<div>\n",
       "<style scoped>\n",
       "    .dataframe tbody tr th:only-of-type {\n",
       "        vertical-align: middle;\n",
       "    }\n",
       "\n",
       "    .dataframe tbody tr th {\n",
       "        vertical-align: top;\n",
       "    }\n",
       "\n",
       "    .dataframe thead th {\n",
       "        text-align: right;\n",
       "    }\n",
       "</style>\n",
       "<table border=\"1\" class=\"dataframe\">\n",
       "  <thead>\n",
       "    <tr style=\"text-align: right;\">\n",
       "      <th></th>\n",
       "      <th>run_date</th>\n",
       "      <th>sample</th>\n",
       "      <th>type</th>\n",
       "      <th>age</th>\n",
       "      <th>sex</th>\n",
       "      <th>donor</th>\n",
       "    </tr>\n",
       "  </thead>\n",
       "  <tbody>\n",
       "    <tr>\n",
       "      <th>0</th>\n",
       "      <td>190212</td>\n",
       "      <td>H7CM-D20-1</td>\n",
       "      <td>in_vitro</td>\n",
       "      <td>20</td>\n",
       "      <td>NaN</td>\n",
       "      <td>H7CM-D20-1</td>\n",
       "    </tr>\n",
       "    <tr>\n",
       "      <th>1</th>\n",
       "      <td>190212</td>\n",
       "      <td>H7CM-D328-1</td>\n",
       "      <td>in_vitro</td>\n",
       "      <td>328</td>\n",
       "      <td>NaN</td>\n",
       "      <td>H7CM-D328-1</td>\n",
       "    </tr>\n",
       "    <tr>\n",
       "      <th>20</th>\n",
       "      <td>201021</td>\n",
       "      <td>H7CM-D20-2</td>\n",
       "      <td>in_vitro</td>\n",
       "      <td>20</td>\n",
       "      <td>NaN</td>\n",
       "      <td>H7CM-D20-2</td>\n",
       "    </tr>\n",
       "    <tr>\n",
       "      <th>21</th>\n",
       "      <td>201021</td>\n",
       "      <td>H7CM-D328-2</td>\n",
       "      <td>in_vitro</td>\n",
       "      <td>328</td>\n",
       "      <td>NaN</td>\n",
       "      <td>H7CM-D328-2</td>\n",
       "    </tr>\n",
       "  </tbody>\n",
       "</table>\n",
       "</div>"
      ],
      "text/plain": [
       "    run_date       sample      type  age  sex        donor\n",
       "0     190212   H7CM-D20-1  in_vitro   20  NaN   H7CM-D20-1\n",
       "1     190212  H7CM-D328-1  in_vitro  328  NaN  H7CM-D328-1\n",
       "20    201021   H7CM-D20-2  in_vitro   20  NaN   H7CM-D20-2\n",
       "21    201021  H7CM-D328-2  in_vitro  328  NaN  H7CM-D328-2"
      ]
     },
     "execution_count": 4,
     "metadata": {},
     "output_type": "execute_result"
    }
   ],
   "source": [
    "in_vitro_df = metadata_df[metadata_df['type'] == \"in_vitro\"]\n",
    "in_vitro_df"
   ]
  },
  {
   "cell_type": "markdown",
   "id": "2e64e14d-b19b-474a-b01b-07d241ef1221",
   "metadata": {},
   "source": [
    "#### There are 4 in vitro iPSC-to-CM differentiation samples, with days post differentiation being 20, 20, 328, and 328"
   ]
  },
  {
   "cell_type": "markdown",
   "id": "977e690d-c7bf-4198-8407-a1f271cc6564",
   "metadata": {},
   "source": [
    "### Filter to postnatal human hearts"
   ]
  },
  {
   "cell_type": "code",
   "execution_count": 5,
   "id": "e72f93b3-79b6-4f2a-a7cd-75a9651037b6",
   "metadata": {},
   "outputs": [
    {
     "data": {
      "text/html": [
       "<div>\n",
       "<style scoped>\n",
       "    .dataframe tbody tr th:only-of-type {\n",
       "        vertical-align: middle;\n",
       "    }\n",
       "\n",
       "    .dataframe tbody tr th {\n",
       "        vertical-align: top;\n",
       "    }\n",
       "\n",
       "    .dataframe thead th {\n",
       "        text-align: right;\n",
       "    }\n",
       "</style>\n",
       "<table border=\"1\" class=\"dataframe\">\n",
       "  <thead>\n",
       "    <tr style=\"text-align: right;\">\n",
       "      <th></th>\n",
       "      <th>donor</th>\n",
       "      <th>age</th>\n",
       "      <th>sex</th>\n",
       "    </tr>\n",
       "  </thead>\n",
       "  <tbody>\n",
       "    <tr>\n",
       "      <th>0</th>\n",
       "      <td>NDRI15755</td>\n",
       "      <td>65</td>\n",
       "      <td>male</td>\n",
       "    </tr>\n",
       "    <tr>\n",
       "      <th>1</th>\n",
       "      <td>K1485</td>\n",
       "      <td>78</td>\n",
       "      <td>male</td>\n",
       "    </tr>\n",
       "    <tr>\n",
       "      <th>2</th>\n",
       "      <td>K1488</td>\n",
       "      <td>81</td>\n",
       "      <td>male</td>\n",
       "    </tr>\n",
       "    <tr>\n",
       "      <th>3</th>\n",
       "      <td>K1584</td>\n",
       "      <td>22</td>\n",
       "      <td>male</td>\n",
       "    </tr>\n",
       "    <tr>\n",
       "      <th>4</th>\n",
       "      <td>K1647</td>\n",
       "      <td>34</td>\n",
       "      <td>male</td>\n",
       "    </tr>\n",
       "    <tr>\n",
       "      <th>5</th>\n",
       "      <td>K1727</td>\n",
       "      <td>40</td>\n",
       "      <td>male</td>\n",
       "    </tr>\n",
       "  </tbody>\n",
       "</table>\n",
       "</div>"
      ],
      "text/plain": [
       "       donor age   sex\n",
       "0  NDRI15755  65  male\n",
       "1      K1485  78  male\n",
       "2      K1488  81  male\n",
       "3      K1584  22  male\n",
       "4      K1647  34  male\n",
       "5      K1727  40  male"
      ]
     },
     "execution_count": 5,
     "metadata": {},
     "output_type": "execute_result"
    }
   ],
   "source": [
    "human_heart_df = metadata_df[metadata_df['type'] == \"postnatal\"][[\"donor\", \"age\", \"sex\"]].drop_duplicates().reset_index(drop = True)\n",
    "human_heart_df"
   ]
  },
  {
   "cell_type": "code",
   "execution_count": 30,
   "id": "f4246f66-3c3d-4adf-aa7e-9a363f9f8d03",
   "metadata": {},
   "outputs": [],
   "source": [
    "human_heart_df['age'] = human_heart_df['age'].astype(int)"
   ]
  },
  {
   "cell_type": "code",
   "execution_count": 32,
   "id": "b1c6d9a4-b04f-4a36-9d99-6c49861738e7",
   "metadata": {},
   "outputs": [
    {
     "data": {
      "text/plain": [
       "<Axes: xlabel='age'>"
      ]
     },
     "execution_count": 32,
     "metadata": {},
     "output_type": "execute_result"
    },
    {
     "data": {
      "image/png": "[encoded data removed]",
      "text/plain": [
       "<Figure size 640x480 with 1 Axes>"
      ]
     },
     "metadata": {},
     "output_type": "display_data"
    }
   ],
   "source": [
    "sns.stripplot(data = human_heart_df, x = 'age', hue = 'sex')"
   ]
  }
 ],
 "metadata": {
  "kernelspec": {
   "display_name": "Python 3 (ipykernel)",
   "language": "python",
   "name": "python3"
  },
  "language_info": {
   "codemirror_mode": {
    "name": "ipython",
    "version": 3
   },
   "file_extension": ".py",
   "mimetype": "text/x-python",
   "name": "python",
   "nbconvert_exporter": "python",
   "pygments_lexer": "ipython3",
   "version": "3.12.5"
  }
 },
 "nbformat": 4,
 "nbformat_minor": 5
}

{
 "cells": [
  {
   "cell_type": "markdown",
   "id": "60766559-c9e2-4a9e-8b4b-db32d349497d",
   "metadata": {},
   "source": [
    "#### Performs `donor_id` (not `sample_id`) pseudobulking of ATAC-seq peaks\n",
    "#### Uses the peak matrix (called by MACS3), not the tile matrix"
   ]
  },
  {
   "cell_type": "code",
   "execution_count": 1,
   "id": "ac4a2944-cdae-4742-8eca-a631d1dd4b2d",
   "metadata": {},
   "outputs": [],
   "source": [
    "import snapatac2 as snap\n",
    "import scanpy as sc\n",
    "import numpy as np\n",
    "import tempfile\n",
    "import os\n",
    "from collections import Counter\n",
    "import pandas as pd\n",
    "import matplotlib.pyplot as plt\n",
    "import seaborn as sns\n",
    "# Get the temporary directory path\n",
    "tmp_dir = tempfile.gettempdir()\n",
    "import statsmodels.api as sm\n",
    "import shutil"
   ]
  },
  {
   "cell_type": "code",
   "execution_count": 2,
   "id": "32a3c636-78ec-4df4-aad1-81cf279bf25c",
   "metadata": {},
   "outputs": [],
   "source": [
    "plots_dir = \"../../../paper_figures/\""
   ]
  },
  {
   "cell_type": "markdown",
   "id": "af807389-ef5e-462a-9172-387bd258408d",
   "metadata": {},
   "source": [
    "Load the matrix with the merged peaks called by MACS3."
   ]
  },
  {
   "cell_type": "code",
   "execution_count": 3,
   "id": "77a52b81-8dc6-47e9-b3c2-3dc2ec78d636",
   "metadata": {},
   "outputs": [
    {
     "name": "stdout",
     "output_type": "stream",
     "text": [
      "CPU times: user 4.77 s, sys: 41.7 s, total: 46.5 s\n",
      "Wall time: 1min 25s\n"
     ]
    },
    {
     "data": {
      "text/plain": [
       "AnnData object with n_obs × n_vars = 690044 × 654221\n",
       "    obs: 'ATAC_barcode', 'sample_id', 'leiden', 'donor_id', 'study', 'age_status', 'age', 'sex', 'region', 'disease_binary', 'technology', 'fragment_file', 'full_path', 'file', 'nfrag', 'tsse', 'cell_type', 'tech_plus_study', 'age_group', 'decade', 'final_cell_type', 'cell_or_nuclei', 'disease'\n",
       "    var: 'count', 'selected'\n",
       "    uns: 'age_status_colors', 'cell_type_colors', 'leiden', 'leiden_colors', 'neighbors', 'spectral_eigenvalue', 'study_colors'\n",
       "    obsm: 'X_spectral', 'X_spectral_harmony', 'X_umap'\n",
       "    obsp: 'connectivities', 'distances'"
      ]
     },
     "execution_count": 3,
     "metadata": {},
     "output_type": "execute_result"
    }
   ],
   "source": [
    "%%time\n",
    "peak_mat = sc.read_h5ad(\"../07_final_ATAC.h5ad\")\n",
    "peak_mat"
   ]
  },
  {
   "cell_type": "markdown",
   "id": "5bc36170-a283-4306-b9c6-7165326dfa42",
   "metadata": {},
   "source": [
    "### Extract the relevant metadata for the design matrix\n",
    "\n",
    "The design we will use is: \n",
    "\n",
    "- `accessibility ~ age_status + sex + disease_binary + tech_plus_study` (major batch effect)"
   ]
  },
  {
   "cell_type": "code",
   "execution_count": 4,
   "id": "958a7b02-0e7d-47e0-b4f2-bee816863248",
   "metadata": {},
   "outputs": [
    {
     "data": {
      "text/html": [
       "<div>\n",
       "<style scoped>\n",
       "    .dataframe tbody tr th:only-of-type {\n",
       "        vertical-align: middle;\n",
       "    }\n",
       "\n",
       "    .dataframe tbody tr th {\n",
       "        vertical-align: top;\n",
       "    }\n",
       "\n",
       "    .dataframe thead th {\n",
       "        text-align: right;\n",
       "    }\n",
       "</style>\n",
       "<table border=\"1\" class=\"dataframe\">\n",
       "  <thead>\n",
       "    <tr style=\"text-align: right;\">\n",
       "      <th></th>\n",
       "      <th>donor_id</th>\n",
       "      <th>age_status</th>\n",
       "      <th>age_group</th>\n",
       "      <th>sex</th>\n",
       "      <th>disease_binary</th>\n",
       "      <th>tech_plus_study</th>\n",
       "      <th>technology</th>\n",
       "      <th>study</th>\n",
       "    </tr>\n",
       "  </thead>\n",
       "  <tbody>\n",
       "    <tr>\n",
       "      <th>0</th>\n",
       "      <td>ENCODE v4 (Snyder):ENCSR556UHL</td>\n",
       "      <td>postnatal</td>\n",
       "      <td>old</td>\n",
       "      <td>male</td>\n",
       "      <td>N</td>\n",
       "      <td>Multiome-v1_ENCODE v4 (Snyder)</td>\n",
       "      <td>Multiome-v1</td>\n",
       "      <td>ENCODE v4 (Snyder)</td>\n",
       "    </tr>\n",
       "    <tr>\n",
       "      <th>1</th>\n",
       "      <td>ENCODE v4 (Snyder):ENCSR913OAS</td>\n",
       "      <td>postnatal</td>\n",
       "      <td>old</td>\n",
       "      <td>male</td>\n",
       "      <td>N</td>\n",
       "      <td>Multiome-v1_ENCODE v4 (Snyder)</td>\n",
       "      <td>Multiome-v1</td>\n",
       "      <td>ENCODE v4 (Snyder)</td>\n",
       "    </tr>\n",
       "    <tr>\n",
       "      <th>2</th>\n",
       "      <td>ENCODE v4 (Snyder):ENCSR455MGH</td>\n",
       "      <td>postnatal</td>\n",
       "      <td>young</td>\n",
       "      <td>female</td>\n",
       "      <td>N</td>\n",
       "      <td>Multiome-v1_ENCODE v4 (Snyder)</td>\n",
       "      <td>Multiome-v1</td>\n",
       "      <td>ENCODE v4 (Snyder)</td>\n",
       "    </tr>\n",
       "    <tr>\n",
       "      <th>3</th>\n",
       "      <td>ENCODE v4 (Snyder):ENCSR080TZR</td>\n",
       "      <td>postnatal</td>\n",
       "      <td>old</td>\n",
       "      <td>male</td>\n",
       "      <td>N</td>\n",
       "      <td>Multiome-v1_ENCODE v4 (Snyder)</td>\n",
       "      <td>Multiome-v1</td>\n",
       "      <td>ENCODE v4 (Snyder)</td>\n",
       "    </tr>\n",
       "    <tr>\n",
       "      <th>4</th>\n",
       "      <td>ENCODE v4 (Snyder):ENCSR008CVR</td>\n",
       "      <td>postnatal</td>\n",
       "      <td>old</td>\n",
       "      <td>male</td>\n",
       "      <td>N</td>\n",
       "      <td>Multiome-v1_ENCODE v4 (Snyder)</td>\n",
       "      <td>Multiome-v1</td>\n",
       "      <td>ENCODE v4 (Snyder)</td>\n",
       "    </tr>\n",
       "    <tr>\n",
       "      <th>...</th>\n",
       "      <td>...</td>\n",
       "      <td>...</td>\n",
       "      <td>...</td>\n",
       "      <td>...</td>\n",
       "      <td>...</td>\n",
       "      <td>...</td>\n",
       "      <td>...</td>\n",
       "      <td>...</td>\n",
       "    </tr>\n",
       "    <tr>\n",
       "      <th>101</th>\n",
       "      <td>ENCODE v4 (Snyder):ENCSR540DHJ</td>\n",
       "      <td>postnatal</td>\n",
       "      <td>middle</td>\n",
       "      <td>female</td>\n",
       "      <td>N</td>\n",
       "      <td>Multiome-v1_ENCODE v4 (Snyder)</td>\n",
       "      <td>Multiome-v1</td>\n",
       "      <td>ENCODE v4 (Snyder)</td>\n",
       "    </tr>\n",
       "    <tr>\n",
       "      <th>102</th>\n",
       "      <td>ENCODE v4 (Snyder):ENCSR489URW</td>\n",
       "      <td>postnatal</td>\n",
       "      <td>old</td>\n",
       "      <td>male</td>\n",
       "      <td>N</td>\n",
       "      <td>Multiome-v1_ENCODE v4 (Snyder)</td>\n",
       "      <td>Multiome-v1</td>\n",
       "      <td>ENCODE v4 (Snyder)</td>\n",
       "    </tr>\n",
       "    <tr>\n",
       "      <th>103</th>\n",
       "      <td>ENCODE v4 (Snyder):ENCSR056QLB</td>\n",
       "      <td>postnatal</td>\n",
       "      <td>middle</td>\n",
       "      <td>male</td>\n",
       "      <td>N</td>\n",
       "      <td>Multiome-v1_ENCODE v4 (Snyder)</td>\n",
       "      <td>Multiome-v1</td>\n",
       "      <td>ENCODE v4 (Snyder)</td>\n",
       "    </tr>\n",
       "    <tr>\n",
       "      <th>104</th>\n",
       "      <td>ENCODE v4 (Snyder):ENCFF775ANN</td>\n",
       "      <td>fetal</td>\n",
       "      <td>fetal</td>\n",
       "      <td>female</td>\n",
       "      <td>N</td>\n",
       "      <td>Multiome-v1_ENCODE v4 (Snyder)</td>\n",
       "      <td>Multiome-v1</td>\n",
       "      <td>ENCODE v4 (Snyder)</td>\n",
       "    </tr>\n",
       "    <tr>\n",
       "      <th>105</th>\n",
       "      <td>ENCODE v4 (Snyder):ENCSR288RQI</td>\n",
       "      <td>postnatal</td>\n",
       "      <td>middle</td>\n",
       "      <td>male</td>\n",
       "      <td>N</td>\n",
       "      <td>Multiome-v1_ENCODE v4 (Snyder)</td>\n",
       "      <td>Multiome-v1</td>\n",
       "      <td>ENCODE v4 (Snyder)</td>\n",
       "    </tr>\n",
       "  </tbody>\n",
       "</table>\n",
       "<p>106 rows × 8 columns</p>\n",
       "</div>"
      ],
      "text/plain": [
       "                           donor_id age_status age_group     sex  \\\n",
       "0    ENCODE v4 (Snyder):ENCSR556UHL  postnatal       old    male   \n",
       "1    ENCODE v4 (Snyder):ENCSR913OAS  postnatal       old    male   \n",
       "2    ENCODE v4 (Snyder):ENCSR455MGH  postnatal     young  female   \n",
       "3    ENCODE v4 (Snyder):ENCSR080TZR  postnatal       old    male   \n",
       "4    ENCODE v4 (Snyder):ENCSR008CVR  postnatal       old    male   \n",
       "..                              ...        ...       ...     ...   \n",
       "101  ENCODE v4 (Snyder):ENCSR540DHJ  postnatal    middle  female   \n",
       "102  ENCODE v4 (Snyder):ENCSR489URW  postnatal       old    male   \n",
       "103  ENCODE v4 (Snyder):ENCSR056QLB  postnatal    middle    male   \n",
       "104  ENCODE v4 (Snyder):ENCFF775ANN      fetal     fetal  female   \n",
       "105  ENCODE v4 (Snyder):ENCSR288RQI  postnatal    middle    male   \n",
       "\n",
       "    disease_binary                 tech_plus_study   technology  \\\n",
       "0                N  Multiome-v1_ENCODE v4 (Snyder)  Multiome-v1   \n",
       "1                N  Multiome-v1_ENCODE v4 (Snyder)  Multiome-v1   \n",
       "2                N  Multiome-v1_ENCODE v4 (Snyder)  Multiome-v1   \n",
       "3                N  Multiome-v1_ENCODE v4 (Snyder)  Multiome-v1   \n",
       "4                N  Multiome-v1_ENCODE v4 (Snyder)  Multiome-v1   \n",
       "..             ...                             ...          ...   \n",
       "101              N  Multiome-v1_ENCODE v4 (Snyder)  Multiome-v1   \n",
       "102              N  Multiome-v1_ENCODE v4 (Snyder)  Multiome-v1   \n",
       "103              N  Multiome-v1_ENCODE v4 (Snyder)  Multiome-v1   \n",
       "104              N  Multiome-v1_ENCODE v4 (Snyder)  Multiome-v1   \n",
       "105              N  Multiome-v1_ENCODE v4 (Snyder)  Multiome-v1   \n",
       "\n",
       "                  study  \n",
       "0    ENCODE v4 (Snyder)  \n",
       "1    ENCODE v4 (Snyder)  \n",
       "2    ENCODE v4 (Snyder)  \n",
       "3    ENCODE v4 (Snyder)  \n",
       "4    ENCODE v4 (Snyder)  \n",
       "..                  ...  \n",
       "101  ENCODE v4 (Snyder)  \n",
       "102  ENCODE v4 (Snyder)  \n",
       "103  ENCODE v4 (Snyder)  \n",
       "104  ENCODE v4 (Snyder)  \n",
       "105  ENCODE v4 (Snyder)  \n",
       "\n",
       "[106 rows x 8 columns]"
      ]
     },
     "execution_count": 4,
     "metadata": {},
     "output_type": "execute_result"
    }
   ],
   "source": [
    "metadata = peak_mat.obs[[\"donor_id\", \"age_status\", \"age_group\",\n",
    "                         \"sex\", \"disease_binary\", \"tech_plus_study\",\n",
    "                        \"technology\", \"study\"]].drop_duplicates().reset_index(drop = True)\n",
    "metadata"
   ]
  },
  {
   "cell_type": "markdown",
   "id": "3f94e00c-919e-422f-af8e-bb7a5d6cce66",
   "metadata": {},
   "source": [
    "### Get the pseudobulked adata counts"
   ]
  },
  {
   "cell_type": "code",
   "execution_count": 5,
   "id": "e12e6513-f9e9-4bc8-a65d-2e50bf4d1eca",
   "metadata": {},
   "outputs": [
    {
     "name": "stdout",
     "output_type": "stream",
     "text": [
      "Directory 'pseudobulked_counts/' created successfully (if it didn't already exist).\n"
     ]
    }
   ],
   "source": [
    "directory_path = \"pseudobulked_counts/\"\n",
    "#shutil.rmtree(directory_path)\n",
    "os.makedirs(directory_path, exist_ok=True)\n",
    "print(f\"Directory '{directory_path}' created successfully (if it didn't already exist).\")"
   ]
  },
  {
   "cell_type": "markdown",
   "id": "570d367f-2552-4e8d-a675-7f72def64b4a",
   "metadata": {},
   "source": [
    "### Pseudobulk the counts per cell type per donor\n",
    "- Filter the peaks to those that are are least the mean TPM > 1 "
   ]
  },
  {
   "cell_type": "code",
   "execution_count": 6,
   "id": "bc388d04-c84f-48b6-b9bb-286743ff9b64",
   "metadata": {},
   "outputs": [
    {
     "data": {
      "text/plain": [
       "['Adipocyte', 'Cardiomyocyte', 'Endothelial', 'Epicardial', 'Fibroblast', ..., 'Myeloid', 'Lymphoid', 'Mast', 'Neuronal', 'vSMC']\n",
       "Length: 11\n",
       "Categories (11, object): ['Adipocyte', 'Cardiomyocyte', 'Endothelial', 'Epicardial', ..., 'Myeloid', 'Neuronal', 'Pericyte', 'vSMC']"
      ]
     },
     "execution_count": 6,
     "metadata": {},
     "output_type": "execute_result"
    }
   ],
   "source": [
    "cell_types_to_study = peak_mat.obs.cell_type.unique()\n",
    "cell_types_to_study"
   ]
  },
  {
   "cell_type": "code",
   "execution_count": 7,
   "id": "0efcadf8-387e-4b4a-a8f5-0d00716ba4c5",
   "metadata": {},
   "outputs": [],
   "source": [
    "# specify the donor key to pseudobulk on, and the TPM threshold (technically cuts per million)\n",
    "donor_key = \"donor_id\"\n",
    "TPM_threshold = 1.0"
   ]
  },
  {
   "cell_type": "code",
   "execution_count": 8,
   "id": "db8efb63-07d7-4b00-9ff9-6cace87c5d10",
   "metadata": {},
   "outputs": [
    {
     "name": "stdout",
     "output_type": "stream",
     "text": [
      "Adipocyte\n",
      "Cardiomyocyte\n",
      "Endothelial\n",
      "Epicardial\n",
      "Fibroblast\n",
      "Pericyte\n",
      "Myeloid\n",
      "Lymphoid\n",
      "Mast\n",
      "Neuronal\n",
      "vSMC\n",
      "CPU times: user 6min 59s, sys: 7min 52s, total: 14min 51s\n",
      "Wall time: 14min 56s\n"
     ]
    }
   ],
   "source": [
    "%%time\n",
    "\n",
    "for cell_type in cell_types_to_study:\n",
    "    \n",
    "    print(cell_type, flush = True)\n",
    "    \n",
    "    # subset on the peak matrix adata (peak_mat)\n",
    "    subset_adata = peak_mat[peak_mat.obs.cell_type == cell_type, :]\n",
    "    pseudobulked_adata = sc.get.aggregate(subset_adata, by = donor_key, func = 'sum').copy()\n",
    "\n",
    "    # add back the metadata info (donor_id, study)\n",
    "    pseudobulked_adata.obs = pseudobulked_adata.obs.merge(metadata, on = donor_key, how = \"inner\")\n",
    "    pseudobulked_adata.obs_names = pseudobulked_adata.obs_names.astype(str)\n",
    "    pseudobulked_adata.X = pseudobulked_adata.layers['sum'] \n",
    "\n",
    "    # calculate TPM and filter peaks to those above the mean TPM threshold \n",
    "    TPM_values = pd.DataFrame(pseudobulked_adata.X)\n",
    "    TPM_values = TPM_values.div(TPM_values.sum(axis = 1), axis = 0) * 1e6\n",
    "\n",
    "    # calculate the mean \n",
    "    mean_TPM_values = TPM_values.mean(axis = 0)\n",
    "    TPM_values_greater_than_threshold = mean_TPM_values > TPM_threshold\n",
    "\n",
    "    # keep only those peaks with TPM values greater than the threshold\n",
    "    filtered_pseudobulked_adata = pseudobulked_adata[:, TPM_values_greater_than_threshold]\n",
    "\n",
    "    # create csv files to save\n",
    "    filtered_pseudobulked_counts = pd.DataFrame(filtered_pseudobulked_adata.layers['sum'])\n",
    "    filtered_pseudobulked_counts.columns = filtered_pseudobulked_adata.var.index\n",
    "    filtered_pseudobulked_counts.index = filtered_pseudobulked_adata.obs.index\n",
    "\n",
    "    # save count matrix\n",
    "    filtered_pseudobulked_counts.to_csv(directory_path + cell_type + \"_count_matrix.csv\")\n",
    "    # save metadata\n",
    "    filtered_pseudobulked_adata.obs.to_csv(directory_path + cell_type + \"_metadata.csv\")"
   ]
  }
 ],
 "metadata": {
  "kernelspec": {
   "display_name": "Python 3 (ipykernel)",
   "language": "python",
   "name": "python3"
  },
  "language_info": {
   "codemirror_mode": {
    "name": "ipython",
    "version": 3
   },
   "file_extension": ".py",
   "mimetype": "text/x-python",
   "name": "python",
   "nbconvert_exporter": "python",
   "pygments_lexer": "ipython3",
   "version": "3.12.5"
  }
 },
 "nbformat": 4,
 "nbformat_minor": 5
}

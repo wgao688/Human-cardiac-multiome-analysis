{
 "cells": [
  {
   "cell_type": "markdown",
   "id": "b0fa9ea0-b591-4cab-8667-ee8b809590e6",
   "metadata": {},
   "source": [
    "#### Extract the number of differentially accessible regions per contrast and per cell type and produce plots displaying the number of DARs"
   ]
  },
  {
   "cell_type": "code",
   "execution_count": 1,
   "id": "9bfd4b73-ca78-40eb-ac22-4056b3892ff0",
   "metadata": {},
   "outputs": [
    {
     "name": "stderr",
     "output_type": "stream",
     "text": [
      "── \u001b[1mAttaching core tidyverse packages\u001b[22m ─────────────────────────────────────────────────────────────────────────────────────────────────────── tidyverse 2.0.0 ──\n",
      "\u001b[32m✔\u001b[39m \u001b[34mdplyr    \u001b[39m 1.1.4     \u001b[32m✔\u001b[39m \u001b[34mreadr    \u001b[39m 2.1.5\n",
      "\u001b[32m✔\u001b[39m \u001b[34mforcats  \u001b[39m 1.0.0     \u001b[32m✔\u001b[39m \u001b[34mstringr  \u001b[39m 1.5.1\n",
      "\u001b[32m✔\u001b[39m \u001b[34mggplot2  \u001b[39m 3.5.1     \u001b[32m✔\u001b[39m \u001b[34mtibble   \u001b[39m 3.2.1\n",
      "\u001b[32m✔\u001b[39m \u001b[34mlubridate\u001b[39m 1.9.4     \u001b[32m✔\u001b[39m \u001b[34mtidyr    \u001b[39m 1.3.1\n",
      "\u001b[32m✔\u001b[39m \u001b[34mpurrr    \u001b[39m 1.0.2     \n",
      "── \u001b[1mConflicts\u001b[22m ───────────────────────────────────────────────────────────────────────────────────────────────────────────────────────── tidyverse_conflicts() ──\n",
      "\u001b[31m✖\u001b[39m \u001b[34mdplyr\u001b[39m::\u001b[32mfilter()\u001b[39m masks \u001b[34mstats\u001b[39m::filter()\n",
      "\u001b[31m✖\u001b[39m \u001b[34mdplyr\u001b[39m::\u001b[32mlag()\u001b[39m    masks \u001b[34mstats\u001b[39m::lag()\n",
      "\u001b[36mℹ\u001b[39m Use the conflicted package (\u001b[3m\u001b[34m<http://conflicted.r-lib.org/>\u001b[39m\u001b[23m) to force all conflicts to become errors\n"
     ]
    }
   ],
   "source": [
    "library(tidyverse)"
   ]
  },
  {
   "cell_type": "code",
   "execution_count": 2,
   "id": "47bddcf7-c090-413b-9215-3fe0c1378131",
   "metadata": {},
   "outputs": [],
   "source": [
    "contrasts <- c(\"age\", \"fetal\", \"sex\", \"disease\")\n",
    "num_contrasts <- length(contrasts)\n",
    "\n",
    "corresponding_contrast_file_names <- c(\"age-group_old_vs_young\", \"age-group_fetal_vs_young\",\n",
    "                              \"sex_male_vs_female\", \"disease-binary_Y_vs_N\")\n",
    "\n",
    "cell_types <- c(\"Cardiomyocyte\", \"Endothelial\", \"Fibroblast\", \"Lymphoid\", \"Myeloid\", \"Pericyte\")\n",
    "\n",
    "q_val_threshold <- 0.05\n",
    "log2_FC_threshold <- 0.5"
   ]
  },
  {
   "cell_type": "code",
   "execution_count": 3,
   "id": "f28bf238-3c02-4bc4-a14a-4c0701dcd422",
   "metadata": {},
   "outputs": [],
   "source": [
    "significant_peaks_dir = \"significant_peak_csvs/\"\n",
    "dir.create(significant_peaks_dir)"
   ]
  },
  {
   "cell_type": "code",
   "execution_count": 18,
   "id": "7b637938-adb4-4efd-9219-1eeffdfea7b6",
   "metadata": {},
   "outputs": [],
   "source": [
    "# iterate through cell types and contrasts\n",
    "for (cell_type in cell_types) {\n",
    "\n",
    "    for (i in 1:num_contrasts) {\n",
    "        contrast_file_name <- corresponding_contrast_file_names[i]\n",
    "        contrast_file_path <- paste0(\"pydeseq2_results/\", cell_type, \"_\", contrast_file_name, \"_results.csv\")\n",
    "\n",
    "        if (file.exists(contrast_file_path)) {\n",
    "            df <- read.csv(contrast_file_path, row.names = 1)\n",
    "            df <- df %>% rename(neg_log10_p = `X.log10.padj.`)\n",
    "\n",
    "            # filter to the significant\n",
    "            significant_df <- df[df$significant == \"True\",]\n",
    "\n",
    "            write.csv(significant_df, paste0(significant_peaks_dir, cell_type, \"_\", contrast_file_name, \"_significant_results.csv\"))\n",
    "            \n",
    "        }\n",
    "         else {\n",
    "            print(paste0(\"File does not exist:\", contrast_file_path))\n",
    "        }\n",
    "    }\n",
    "}"
   ]
  }
 ],
 "metadata": {
  "kernelspec": {
   "display_name": "R",
   "language": "R",
   "name": "ir"
  },
  "language_info": {
   "codemirror_mode": "r",
   "file_extension": ".r",
   "mimetype": "text/x-r-source",
   "name": "R",
   "pygments_lexer": "r",
   "version": "4.4.1"
  }
 },
 "nbformat": 4,
 "nbformat_minor": 5
}

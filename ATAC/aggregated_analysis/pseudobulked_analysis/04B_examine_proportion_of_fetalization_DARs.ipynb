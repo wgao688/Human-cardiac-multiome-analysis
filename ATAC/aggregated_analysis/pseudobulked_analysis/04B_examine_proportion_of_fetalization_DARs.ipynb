{
 "cells": [
  {
   "cell_type": "markdown",
   "id": "528cc0d6-f0d3-44d4-814f-45d2570ea000",
   "metadata": {},
   "source": [
    "### Specifically determine the percentage of total # of fetal DARs that overlap with aging "
   ]
  },
  {
   "cell_type": "code",
   "execution_count": 1,
   "id": "692ffe8e-169a-4411-a133-a612398a6660",
   "metadata": {},
   "outputs": [],
   "source": [
    "import pandas as pd\n",
    "import numpy as np\n",
    "import matplotlib.pyplot as plt \n",
    "import seaborn as sns"
   ]
  },
  {
   "cell_type": "markdown",
   "id": "e392e93d-32e9-4649-8422-a4bc46c33174",
   "metadata": {},
   "source": [
    "#### Create function for assessing the percentage of overlapping DARs"
   ]
  },
  {
   "cell_type": "code",
   "execution_count": 2,
   "id": "2fd7cd23-e1dc-458b-a715-7e9d4df3ba01",
   "metadata": {},
   "outputs": [],
   "source": [
    "def determine_DAR_proportional_overlap(overlap_df_path, disease_DAR_path, fetal_DAR_path):\n",
    "    '''Loads in the three dfs from the prior DAR analysis to identify the percentage of fetal DARs that are in the unidirectional\n",
    "    overlap categories, and the percentage of disease DARs that are in the unidirectional overlap categories. \n",
    "\n",
    "    Returns the percentage of (1) up shared DARs / total disease up; (2) up shared DARs / total fetal up;\n",
    "    (3) down shared DARs / total disease down; (4) down shared DARs / total fetal down \n",
    "    '''\n",
    "    \n",
    "    overlap_df = pd.read_csv(overlap_df_path)\n",
    "    # get the number of overlapping up and down genes\n",
    "    up_both = overlap_df['up_both'].iloc[0]\n",
    "    down_both = overlap_df['down_both'].iloc[0]\n",
    "\n",
    "    # get the number of disease DARs\n",
    "    disease_DARs = pd.read_csv(disease_DAR_path, index_col = 0)\n",
    "    num_disease_up_DARs = disease_DARs[(disease_DARs['significant'] == True) & (disease_DARs['log2FoldChange'] > 0)].shape[0]\n",
    "    num_disease_down_DARs = disease_DARs[(disease_DARs['significant'] == True) & (disease_DARs['log2FoldChange'] < 0)].shape[0]\n",
    "\n",
    "    # get the number of fetal DARs\n",
    "    fetal_DARs = pd.read_csv(fetal_DAR_path, index_col = 0)\n",
    "    num_fetal_up_DARs = fetal_DARs[(fetal_DARs['significant'] == True) & (fetal_DARs['log2FoldChange'] > 0)].shape[0]\n",
    "    num_fetal_down_DARs = fetal_DARs[(fetal_DARs['significant'] == True) & (fetal_DARs['log2FoldChange'] < 0)].shape[0]\n",
    "\n",
    "    # get the overlap percentages\n",
    "    perc_up_overlap_in_disease = up_both / num_disease_up_DARs\n",
    "    perc_down_overlap_in_disease = down_both / num_disease_down_DARs\n",
    "\n",
    "    perc_up_overlap_in_fetal = up_both / num_fetal_up_DARs\n",
    "    perc_down_overlap_in_fetal = down_both / num_fetal_down_DARs\n",
    "\n",
    "    return [perc_up_overlap_in_disease, perc_down_overlap_in_disease, perc_up_overlap_in_fetal, perc_down_overlap_in_fetal]"
   ]
  },
  {
   "cell_type": "markdown",
   "id": "0e4573a2-573e-441f-984f-7aa168e38132",
   "metadata": {},
   "source": [
    "### Perform this for all cell types besides Adipocytes, which do not have the fetal contrast"
   ]
  },
  {
   "cell_type": "code",
   "execution_count": 3,
   "id": "16037b03-e9b4-4272-bfbb-89385fd8466e",
   "metadata": {},
   "outputs": [],
   "source": [
    "cell_types = [\"Cardiomyocyte\", \"Endothelial\", \"Fibroblast\", \"Lymphoid\", \"Myeloid\", \"Pericyte\"]"
   ]
  },
  {
   "cell_type": "code",
   "execution_count": 4,
   "id": "dc2fefc2-d8d9-41fc-a685-5f3830eba706",
   "metadata": {},
   "outputs": [
    {
     "name": "stderr",
     "output_type": "stream",
     "text": [
      "/mnt/data1/william/tmp/ipykernel_406610/1369227831.py:25: RuntimeWarning: invalid value encountered in scalar divide\n",
      "  perc_up_overlap_in_disease = up_both / num_disease_up_DARs\n",
      "/mnt/data1/william/tmp/ipykernel_406610/1369227831.py:26: RuntimeWarning: invalid value encountered in scalar divide\n",
      "  perc_down_overlap_in_disease = down_both / num_disease_down_DARs\n"
     ]
    }
   ],
   "source": [
    "proportion_list = []\n",
    "\n",
    "for cell_type in cell_types: \n",
    "    overlap_df_path = \"DAR_contrasts_intersection_plots/\" + cell_type + \"_fetal_disease_overlap_contrast_analysis.csv\"\n",
    "    disease_DAR_path = \"pydeseq2_results/\" + cell_type + \"_disease-binary_Y_vs_N_results.csv\"\n",
    "    fetal_DAR_path = \"pydeseq2_results/\" + cell_type + \"_age-group_fetal_vs_young_results.csv\"\n",
    "    \n",
    "    results = determine_DAR_proportional_overlap(overlap_df_path = overlap_df_path, \n",
    "                                      disease_DAR_path = disease_DAR_path,\n",
    "                                      fetal_DAR_path = fetal_DAR_path)\n",
    "    proportion_list.append(results)"
   ]
  },
  {
   "cell_type": "code",
   "execution_count": 5,
   "id": "4f06380c-73e8-4027-92b5-0225530208a2",
   "metadata": {},
   "outputs": [],
   "source": [
    "proportion_df = pd.DataFrame(proportion_list)\n",
    "proportion_df.index = cell_types\n",
    "proportion_df.columns = [\"overlap_up_disease\", \"overlap_down_disease\", \"overlap_up_fetal\", \"overlap_down_fetal\"]\n",
    "proportion_df = proportion_df * 100 # get percentages\n",
    "proportion_df = proportion_df.reset_index().rename(columns = {\"index\": \"cell_type\"})"
   ]
  },
  {
   "cell_type": "code",
   "execution_count": 7,
   "id": "122b788b-e1fe-4d67-8052-43b715a3c285",
   "metadata": {},
   "outputs": [],
   "source": [
    "# make this tidy\n",
    "\n",
    "tidy_df = pd.melt(\n",
    "    proportion_df, \n",
    "    id_vars=[\"cell_type\"], \n",
    "    value_vars=[\"overlap_up_disease\", \"overlap_down_disease\", \"overlap_up_fetal\", \"overlap_down_fetal\"],\n",
    "    var_name=\"category\", \n",
    "    value_name=\"value\"\n",
    ")\n",
    "\n",
    "# Extract `direction` and `contrast` from the `category` column\n",
    "tidy_df[\"direction\"] = tidy_df[\"category\"].str.extract(r\"_(up|down)\")\n",
    "tidy_df[\"contrast\"] = tidy_df[\"category\"].str.extract(r\"_(disease|fetal)\")\n",
    "\n",
    "tidy_df.to_csv(\"04B_overlap_percentage_fetal_disease.csv\")"
   ]
  },
  {
   "cell_type": "markdown",
   "id": "b97450bf-cb43-4e29-b2c8-51772ad513bb",
   "metadata": {},
   "source": [
    "### Proceed to step 06C for producing the ggplot version since we want to use the same plotting and color scheme"
   ]
  }
 ],
 "metadata": {
  "kernelspec": {
   "display_name": "Python 3 (ipykernel)",
   "language": "python",
   "name": "python3"
  },
  "language_info": {
   "codemirror_mode": {
    "name": "ipython",
    "version": 3
   },
   "file_extension": ".py",
   "mimetype": "text/x-python",
   "name": "python",
   "nbconvert_exporter": "python",
   "pygments_lexer": "ipython3",
   "version": "3.12.5"
  }
 },
 "nbformat": 4,
 "nbformat_minor": 5
}

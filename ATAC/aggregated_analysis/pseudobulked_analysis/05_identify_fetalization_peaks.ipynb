{
 "cells": [
  {
   "cell_type": "markdown",
   "id": "eb5ce203-d48c-4c5f-83d4-10cce68c5be9",
   "metadata": {},
   "source": [
    "### Identify fetalization DARs across all cell types and compare their similarity across cell types"
   ]
  },
  {
   "cell_type": "code",
   "execution_count": 1,
   "id": "dba54ed2-9d3a-455e-a73f-067b012ed285",
   "metadata": {},
   "outputs": [],
   "source": [
    "import pandas as pd \n",
    "import numpy as np\n",
    "import pickle\n",
    "import os\n",
    "import itertools\n",
    "import matplotlib.pyplot as plt \n",
    "import seaborn as sns\n",
    "import matplotlib.colors as mcolors\n",
    "import matplotlib\n",
    "matplotlib.rcParams['pdf.fonttype'] = 42\n",
    "matplotlib.rcParams['ps.fonttype'] = 42"
   ]
  },
  {
   "cell_type": "code",
   "execution_count": 2,
   "id": "bd7dae97-2bea-4400-97a2-80627c8c3c18",
   "metadata": {},
   "outputs": [],
   "source": [
    "fetalization_genes_dir = \"fetalization_peaks/\"\n",
    "os.makedirs(fetalization_genes_dir, exist_ok=True)\n",
    "plots_dir = \"../../../paper_figures/\""
   ]
  },
  {
   "cell_type": "code",
   "execution_count": 3,
   "id": "e45431aa-9c30-4db4-8c06-1e121d28ccd8",
   "metadata": {},
   "outputs": [
    {
     "data": {
      "text/plain": [
       "5"
      ]
     },
     "execution_count": 3,
     "metadata": {},
     "output_type": "execute_result"
    }
   ],
   "source": [
    "# include all cell types besides Adipocytes which don't have fetal cells\n",
    "cell_types = [\"Cardiomyocyte\", \"Endothelial\", \"Fibroblast\", \"Myeloid\", \"Pericyte\"]\n",
    "len(cell_types)"
   ]
  },
  {
   "cell_type": "code",
   "execution_count": 6,
   "id": "9cc3b955-81d7-4db6-9548-250ba5752feb",
   "metadata": {},
   "outputs": [],
   "source": [
    "def run_ORA_analysis(cell_type, log2FC_threshold = 0.5, p_adj_threshold=0.05):\n",
    "    '''For a particular cell type, load in the fetal and disease DEGs, and run ORA for those genes that are \n",
    "    up in both and down in both. \n",
    "\n",
    "    Inputs: \n",
    "    - cell_type: The cell type for which to perform the analysis (loads in the results_dict) \n",
    "    - gene_set_gmt: The path to the gene sets to search for overrepresentation against\n",
    "    - log2FC threshold and p_adj_threshold for DEGs \n",
    "    '''\n",
    "    # open the results dictionary\n",
    "    with open(\"pydeseq2_results/\" + cell_type + \"_results_dict.pkl\", \"rb\") as f:\n",
    "        results_dict = pickle.load(f)\n",
    "\n",
    "    # get the disease and fetal results df\n",
    "    disease_results_df = results_dict['disease-binary_Y_vs_N']\n",
    "    fetal_results_df = results_dict['age-group_fetal_vs_young']\n",
    "\n",
    "    # get the up and down genes for disease and fetal contrasts\n",
    "    up_in_disease =  (disease_results_df[(disease_results_df['log2FoldChange'] > log2FC_threshold) & \n",
    "                  (disease_results_df['padj'] < p_adj_threshold) ])\n",
    "\n",
    "    down_in_disease =  (disease_results_df[(disease_results_df['log2FoldChange'] < -log2FC_threshold) & \n",
    "                  (disease_results_df['padj'] < p_adj_threshold) ])\n",
    "\n",
    "    up_in_fetal =  (fetal_results_df[(fetal_results_df['log2FoldChange'] > log2FC_threshold) & \n",
    "                      (fetal_results_df['padj'] < p_adj_threshold) ])\n",
    "    \n",
    "    down_in_fetal =  (fetal_results_df[(fetal_results_df['log2FoldChange'] < -log2FC_threshold) & \n",
    "                      (fetal_results_df['padj'] < p_adj_threshold) ])\n",
    "\n",
    "    # extract the intersecting up genes\n",
    "    up_in_disease_genes = up_in_disease.index\n",
    "    up_in_fetal_genes = up_in_fetal.index\n",
    "    intersecting_disease_fetal_up_genes = list ( set(up_in_disease_genes) & set(up_in_fetal_genes) )\n",
    "\n",
    "    # extract the intersecting down genes\n",
    "    down_in_disease_genes = down_in_disease.index\n",
    "    down_in_fetal_genes = down_in_fetal.index    \n",
    "    intersecting_disease_fetal_down_genes = list ( set(down_in_disease_genes) & set(down_in_fetal_genes) )\n",
    "\n",
    "    return([intersecting_disease_fetal_up_genes, intersecting_disease_fetal_down_genes])"
   ]
  },
  {
   "cell_type": "code",
   "execution_count": 7,
   "id": "e7458a75-704b-4553-893e-82ed07cf7cc4",
   "metadata": {},
   "outputs": [],
   "source": [
    "# test this for one cell type\n",
    "for cell_type in cell_types:\n",
    "    \n",
    "    intersecting_disease_fetalization_up_genes, intersecting_disease_fetalization_down_genes = run_ORA_analysis(cell_type = cell_type)\n",
    "\n",
    "    intersecting_disease_fetalization_up_genes = pd.DataFrame(intersecting_disease_fetalization_up_genes)\n",
    "    intersecting_disease_fetalization_down_genes = pd.DataFrame(intersecting_disease_fetalization_down_genes)\n",
    "    \n",
    "    # save to csv\n",
    "    fetal_up_path = fetalization_genes_dir + cell_type + \"_up_fetalization_genes.csv\"\n",
    "    fetal_down_path = fetalization_genes_dir + cell_type + \"_down_fetalization_genes.csv\"\n",
    "    \n",
    "    intersecting_disease_fetalization_up_genes.to_csv(fetal_up_path, index=False)\n",
    "    intersecting_disease_fetalization_down_genes.to_csv(fetal_down_path, index=False)"
   ]
  },
  {
   "cell_type": "markdown",
   "id": "8f81d107-0a21-49ae-8d6d-f098ae889026",
   "metadata": {},
   "source": [
    "### Check degree of similarity between fetalization genes across all cell types"
   ]
  },
  {
   "cell_type": "code",
   "execution_count": 8,
   "id": "587af19a-4e3b-4c88-aff5-1461ace0dd24",
   "metadata": {},
   "outputs": [],
   "source": [
    "def jaccard_similarity(set1, set2):\n",
    "    intersection = len(set1 & set2)\n",
    "    union = len(set1 | set2)\n",
    "    return intersection / union if union != 0 else 0"
   ]
  },
  {
   "cell_type": "code",
   "execution_count": 9,
   "id": "31ed7fc6-6f9b-4b14-8566-51c7b220e298",
   "metadata": {},
   "outputs": [],
   "source": [
    "# load fetalization gene sets for all cell types\n",
    "fetal_up_genes = {}\n",
    "fetal_down_genes = {}\n",
    "\n",
    "for cell_type in cell_types:\n",
    "    up_path = os.path.join(fetalization_genes_dir, f\"{cell_type}_up_fetalization_genes.csv\")\n",
    "    down_path = os.path.join(fetalization_genes_dir, f\"{cell_type}_down_fetalization_genes.csv\")\n",
    "\n",
    "    # check if file exists and is not empty\n",
    "    try:\n",
    "        if os.path.exists(up_path) and os.path.getsize(up_path) > 0: \n",
    "            fetal_up_genes[cell_type] = set(pd.read_csv(up_path).iloc[:, 0].dropna())\n",
    "\n",
    "        if os.path.exists(down_path) and os.path.getsize(down_path) > 0:\n",
    "            fetal_down_genes[cell_type] = set(pd.read_csv(down_path).iloc[:, 0].dropna())\n",
    "\n",
    "    except pd.errors.EmptyDataError:\n",
    "        print(f\"Warning: {cell_type} file is empty. Skipping...\")\n",
    "\n",
    "# compute pairwise Jaccard similarity matrices\n",
    "cell_type_pairs = list(itertools.combinations(cell_types, 2))\n",
    "\n",
    "jaccard_matrix_up = pd.DataFrame(0.0, index=cell_types, columns=cell_types)\n",
    "jaccard_matrix_down = pd.DataFrame(0.0, index=cell_types, columns=cell_types)\n",
    "\n",
    "for cell1, cell2 in cell_type_pairs:\n",
    "    if cell1 in fetal_up_genes and cell2 in fetal_up_genes:\n",
    "        jaccard_matrix_up.loc[cell1, cell2] = jaccard_similarity(fetal_up_genes[cell1], fetal_up_genes[cell2])\n",
    "        jaccard_matrix_up.loc[cell2, cell1] = jaccard_matrix_up.loc[cell1, cell2] \n",
    "    if cell1 in fetal_down_genes and cell2 in fetal_down_genes:\n",
    "        jaccard_matrix_down.loc[cell1, cell2] = jaccard_similarity(fetal_down_genes[cell1], fetal_down_genes[cell2])\n",
    "        jaccard_matrix_down.loc[cell2, cell1] = jaccard_matrix_down.loc[cell1, cell2] \n",
    "\n",
    "# diagonal = 1\n",
    "np.fill_diagonal(jaccard_matrix_up.values, 1)\n",
    "np.fill_diagonal(jaccard_matrix_down.values, 1)\n",
    "\n",
    "# round values \n",
    "jaccard_matrix_up = np.round(jaccard_matrix_up, 2)\n",
    "jaccard_matrix_down = np.round(jaccard_matrix_down, 2)"
   ]
  },
  {
   "cell_type": "code",
   "execution_count": null,
   "id": "63d4742d-e6da-466a-8c4a-38673422f420",
   "metadata": {},
   "outputs": [],
   "source": [
    "# plot heatmaps\n",
    "fig, axes = plt.subplots(1, 2, figsize=(14, 6))\n",
    "\n",
    "# get max value that is not along diagonals\n",
    "max_non_diagonal = jaccard_matrix_up[jaccard_matrix_up < 1].max().max() * 1.5\n",
    "norm = mcolors.Normalize(vmin=0, vmax=max_non_diagonal)\n",
    "sns.heatmap(jaccard_matrix_up, annot=True, cmap=\"Blues\", ax=axes[0], norm=norm)\n",
    "axes[0].set_title(\"Jaccard similarity for fetalization up genes across cell types\")\n",
    "\n",
    "max_non_diagonal = jaccard_matrix_down[jaccard_matrix_down < 1].max().max() * 1.5\n",
    "norm = mcolors.Normalize(vmin=0, vmax=max_non_diagonal)\n",
    "sns.heatmap(jaccard_matrix_down, annot=True, cmap=\"Reds\", ax=axes[1], norm=norm)\n",
    "axes[1].set_title(\"Jaccard similarity for fetalization down genes across cell types\")\n",
    "\n",
    "plt.tight_layout()\n",
    "plt.savefig(plots_dir + \"fetalization_DAR_Jaccard_similarity.pdf\")\n",
    "plt.show()"
   ]
  }
 ],
 "metadata": {
  "kernelspec": {
   "display_name": "Python 3 (ipykernel)",
   "language": "python",
   "name": "python3"
  },
  "language_info": {
   "codemirror_mode": {
    "name": "ipython",
    "version": 3
   },
   "file_extension": ".py",
   "mimetype": "text/x-python",
   "name": "python",
   "nbconvert_exporter": "python",
   "pygments_lexer": "ipython3",
   "version": "3.12.5"
  }
 },
 "nbformat": 4,
 "nbformat_minor": 5
}

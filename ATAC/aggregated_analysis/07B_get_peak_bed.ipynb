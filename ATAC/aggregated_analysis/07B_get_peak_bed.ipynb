{
 "cells": [
  {
   "cell_type": "code",
   "execution_count": 1,
   "id": "e5c4f203-e949-4e51-9885-a8115814749c",
   "metadata": {},
   "outputs": [],
   "source": [
    "import pandas as pd\n",
    "import numpy as np\n",
    "import scanpy as sc"
   ]
  },
  {
   "cell_type": "code",
   "execution_count": 2,
   "id": "a9077923-20e6-450a-bf73-98909f15cf42",
   "metadata": {},
   "outputs": [
    {
     "name": "stdout",
     "output_type": "stream",
     "text": [
      "CPU times: user 4.34 s, sys: 28.3 s, total: 32.7 s\n",
      "Wall time: 32.7 s\n"
     ]
    },
    {
     "data": {
      "text/plain": [
       "AnnData object with n_obs × n_vars = 690044 × 654221\n",
       "    obs: 'ATAC_barcode', 'sample_id', 'leiden', 'donor_id', 'study', 'age_status', 'age', 'sex', 'region', 'disease_binary', 'technology', 'fragment_file', 'full_path', 'file', 'nfrag', 'tsse', 'cell_type', 'tech_plus_study', 'age_group', 'decade', 'final_cell_type', 'cell_or_nuclei', 'disease'\n",
       "    var: 'count', 'selected'\n",
       "    uns: 'age_status_colors', 'cell_type_colors', 'leiden', 'leiden_colors', 'neighbors', 'spectral_eigenvalue', 'study_colors'\n",
       "    obsm: 'X_spectral', 'X_spectral_harmony', 'X_umap'\n",
       "    obsp: 'connectivities', 'distances'"
      ]
     },
     "execution_count": 2,
     "metadata": {},
     "output_type": "execute_result"
    }
   ],
   "source": [
    "%%time\n",
    "peak_mat = sc.read_h5ad(\"07_final_ATAC.h5ad\")\n",
    "peak_mat"
   ]
  },
  {
   "cell_type": "code",
   "execution_count": 3,
   "id": "a12d592f-11cb-4e92-9bd9-8d68b326a975",
   "metadata": {},
   "outputs": [],
   "source": [
    "def extract_genome_coordinates(peak_df, column_name):\n",
    "    '''Convert a column of a pandas df that is of the format (chr:start-end) to three different columns, \n",
    "    called chr, start, and end. Specify the column_name for original column.'''\n",
    "\n",
    "    peak_df[[\"chr\", \"coords\"]] =  peak_df[column_name].str.split(\":\", expand=True)\n",
    "    peak_df[[\"start\", \"end\"]] = peak_df[\"coords\"].str.split(\"-\", expand=True)\n",
    "    peak_df = peak_df.drop(columns=[\"coords\"])\n",
    "\n",
    "    return peak_df"
   ]
  },
  {
   "cell_type": "code",
   "execution_count": 4,
   "id": "293f511d-8ea3-4ab1-849c-e420176e5de7",
   "metadata": {},
   "outputs": [],
   "source": [
    "peak_names_df = peak_mat.var\n",
    "peak_names_df = peak_names_df.reset_index().rename(columns = {'index': 'coordinates'})\n",
    "peak_names_df = extract_genome_coordinates(peak_names_df, column_name = \"coordinates\")"
   ]
  },
  {
   "cell_type": "code",
   "execution_count": 5,
   "id": "5bc27216-b580-45f3-a296-3ca7f9203e36",
   "metadata": {},
   "outputs": [
    {
     "data": {
      "text/plain": [
       "(654221, 6)"
      ]
     },
     "execution_count": 5,
     "metadata": {},
     "output_type": "execute_result"
    }
   ],
   "source": [
    "peak_names_df.shape"
   ]
  },
  {
   "cell_type": "code",
   "execution_count": 6,
   "id": "f446cf3a-15f1-4949-94a5-558c521c5ba6",
   "metadata": {},
   "outputs": [
    {
     "data": {
      "text/html": [
       "<div>\n",
       "<style scoped>\n",
       "    .dataframe tbody tr th:only-of-type {\n",
       "        vertical-align: middle;\n",
       "    }\n",
       "\n",
       "    .dataframe tbody tr th {\n",
       "        vertical-align: top;\n",
       "    }\n",
       "\n",
       "    .dataframe thead th {\n",
       "        text-align: right;\n",
       "    }\n",
       "</style>\n",
       "<table border=\"1\" class=\"dataframe\">\n",
       "  <thead>\n",
       "    <tr style=\"text-align: right;\">\n",
       "      <th></th>\n",
       "      <th>coordinates</th>\n",
       "      <th>count</th>\n",
       "      <th>selected</th>\n",
       "      <th>chr</th>\n",
       "      <th>start</th>\n",
       "      <th>end</th>\n",
       "    </tr>\n",
       "  </thead>\n",
       "  <tbody>\n",
       "    <tr>\n",
       "      <th>0</th>\n",
       "      <td>chr1:794224-794725</td>\n",
       "      <td>2242.0</td>\n",
       "      <td>False</td>\n",
       "      <td>chr1</td>\n",
       "      <td>794224</td>\n",
       "      <td>794725</td>\n",
       "    </tr>\n",
       "    <tr>\n",
       "      <th>1</th>\n",
       "      <td>chr1:794869-795370</td>\n",
       "      <td>5710.0</td>\n",
       "      <td>False</td>\n",
       "      <td>chr1</td>\n",
       "      <td>794869</td>\n",
       "      <td>795370</td>\n",
       "    </tr>\n",
       "    <tr>\n",
       "      <th>2</th>\n",
       "      <td>chr1:798148-798649</td>\n",
       "      <td>993.0</td>\n",
       "      <td>False</td>\n",
       "      <td>chr1</td>\n",
       "      <td>798148</td>\n",
       "      <td>798649</td>\n",
       "    </tr>\n",
       "    <tr>\n",
       "      <th>3</th>\n",
       "      <td>chr1:802009-802510</td>\n",
       "      <td>1454.0</td>\n",
       "      <td>False</td>\n",
       "      <td>chr1</td>\n",
       "      <td>802009</td>\n",
       "      <td>802510</td>\n",
       "    </tr>\n",
       "    <tr>\n",
       "      <th>4</th>\n",
       "      <td>chr1:806996-807497</td>\n",
       "      <td>1576.0</td>\n",
       "      <td>False</td>\n",
       "      <td>chr1</td>\n",
       "      <td>806996</td>\n",
       "      <td>807497</td>\n",
       "    </tr>\n",
       "  </tbody>\n",
       "</table>\n",
       "</div>"
      ],
      "text/plain": [
       "          coordinates   count  selected   chr   start     end\n",
       "0  chr1:794224-794725  2242.0     False  chr1  794224  794725\n",
       "1  chr1:794869-795370  5710.0     False  chr1  794869  795370\n",
       "2  chr1:798148-798649   993.0     False  chr1  798148  798649\n",
       "3  chr1:802009-802510  1454.0     False  chr1  802009  802510\n",
       "4  chr1:806996-807497  1576.0     False  chr1  806996  807497"
      ]
     },
     "execution_count": 6,
     "metadata": {},
     "output_type": "execute_result"
    }
   ],
   "source": [
    "peak_names_df.head()"
   ]
  },
  {
   "cell_type": "markdown",
   "id": "fa1dae70-478f-4ce3-99ed-21077b95c0a5",
   "metadata": {},
   "source": [
    "### Save in a BED format file"
   ]
  },
  {
   "cell_type": "code",
   "execution_count": 8,
   "id": "c9d4f9a9-7da5-49d8-8c16-8dfd3faed040",
   "metadata": {},
   "outputs": [],
   "source": [
    "peak_names_bed = peak_names_df[[\"chr\", \"start\", \"end\"]]\n",
    "peak_names_bed.to_csv(\"07B_snATAC_peaks.bed\", header=False, index=None, sep = \"\\t\")"
   ]
  }
 ],
 "metadata": {
  "kernelspec": {
   "display_name": "Python 3 (ipykernel)",
   "language": "python",
   "name": "python3"
  },
  "language_info": {
   "codemirror_mode": {
    "name": "ipython",
    "version": 3
   },
   "file_extension": ".py",
   "mimetype": "text/x-python",
   "name": "python",
   "nbconvert_exporter": "python",
   "pygments_lexer": "ipython3",
   "version": "3.12.5"
  }
 },
 "nbformat": 4,
 "nbformat_minor": 5
}

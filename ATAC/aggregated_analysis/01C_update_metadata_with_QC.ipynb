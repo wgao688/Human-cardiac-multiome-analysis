{
 "cells": [
  {
   "cell_type": "markdown",
   "id": "fb3ac74c-b95d-4787-ac23-cbafd3a205be",
   "metadata": {},
   "source": [
    "#### Add QC filters for all samples, which is located in `01B_QC_filter_per_sample.txt` into the metadata"
   ]
  },
  {
   "cell_type": "code",
   "execution_count": 1,
   "id": "933f2362-a8f5-47ce-ad65-eff864b87104",
   "metadata": {},
   "outputs": [],
   "source": [
    "import pandas as pd\n",
    "import numpy as np\n",
    "import scanpy as sc\n",
    "from collections import Counter\n",
    "import os"
   ]
  },
  {
   "cell_type": "code",
   "execution_count": 2,
   "id": "e760aba2-e921-4f85-a342-602b378ce19e",
   "metadata": {},
   "outputs": [
    {
     "data": {
      "text/plain": [
       "(130, 11)"
      ]
     },
     "execution_count": 2,
     "metadata": {},
     "output_type": "execute_result"
    }
   ],
   "source": [
    "metadata_df = pd.read_csv(\"00_updated_metadata.csv\", index_col = 0)\n",
    "metadata_df.shape"
   ]
  },
  {
   "cell_type": "code",
   "execution_count": 3,
   "id": "413f306d-ca12-4214-8a30-e814a2b07397",
   "metadata": {},
   "outputs": [
    {
     "data": {
      "text/html": [
       "<div>\n",
       "<style scoped>\n",
       "    .dataframe tbody tr th:only-of-type {\n",
       "        vertical-align: middle;\n",
       "    }\n",
       "\n",
       "    .dataframe tbody tr th {\n",
       "        vertical-align: top;\n",
       "    }\n",
       "\n",
       "    .dataframe thead th {\n",
       "        text-align: right;\n",
       "    }\n",
       "</style>\n",
       "<table border=\"1\" class=\"dataframe\">\n",
       "  <thead>\n",
       "    <tr style=\"text-align: right;\">\n",
       "      <th></th>\n",
       "      <th>sample_id</th>\n",
       "      <th>donor_id</th>\n",
       "      <th>study</th>\n",
       "      <th>age_status</th>\n",
       "      <th>age</th>\n",
       "      <th>sex</th>\n",
       "      <th>region</th>\n",
       "      <th>disease_binary</th>\n",
       "      <th>technology</th>\n",
       "      <th>fragment_file</th>\n",
       "      <th>full_path</th>\n",
       "    </tr>\n",
       "  </thead>\n",
       "  <tbody>\n",
       "    <tr>\n",
       "      <th>0</th>\n",
       "      <td>10X_ATAC_CK166</td>\n",
       "      <td>Kuppe 2022:P1</td>\n",
       "      <td>Kuppe 2022</td>\n",
       "      <td>Postnatal</td>\n",
       "      <td>44.0</td>\n",
       "      <td>male</td>\n",
       "      <td>LV</td>\n",
       "      <td>N</td>\n",
       "      <td>10X_ATAC</td>\n",
       "      <td>10X_ATAC_CK166.tsv.gz</td>\n",
       "      <td>/mnt/data1/william/human_heart_project/Final_m...</td>\n",
       "    </tr>\n",
       "    <tr>\n",
       "      <th>1</th>\n",
       "      <td>10X_ATAC_CK337</td>\n",
       "      <td>Kuppe 2022:P7</td>\n",
       "      <td>Kuppe 2022</td>\n",
       "      <td>Postnatal</td>\n",
       "      <td>55.0</td>\n",
       "      <td>female</td>\n",
       "      <td>LV</td>\n",
       "      <td>N</td>\n",
       "      <td>10X_ATAC</td>\n",
       "      <td>10X_ATAC_CK337.tsv.gz</td>\n",
       "      <td>/mnt/data1/william/human_heart_project/Final_m...</td>\n",
       "    </tr>\n",
       "    <tr>\n",
       "      <th>2</th>\n",
       "      <td>10X_ATAC_CK338</td>\n",
       "      <td>Kuppe 2022:P8</td>\n",
       "      <td>Kuppe 2022</td>\n",
       "      <td>Postnatal</td>\n",
       "      <td>44.0</td>\n",
       "      <td>male</td>\n",
       "      <td>LV</td>\n",
       "      <td>N</td>\n",
       "      <td>10X_ATAC</td>\n",
       "      <td>10X_ATAC_CK338.tsv.gz</td>\n",
       "      <td>/mnt/data1/william/human_heart_project/Final_m...</td>\n",
       "    </tr>\n",
       "    <tr>\n",
       "      <th>3</th>\n",
       "      <td>10X_ATAC_CK353</td>\n",
       "      <td>Kuppe 2022:P17</td>\n",
       "      <td>Kuppe 2022</td>\n",
       "      <td>Postnatal</td>\n",
       "      <td>61.0</td>\n",
       "      <td>male</td>\n",
       "      <td>LV</td>\n",
       "      <td>N</td>\n",
       "      <td>10X_ATAC</td>\n",
       "      <td>10X_ATAC_CK353.tsv.gz</td>\n",
       "      <td>/mnt/data1/william/human_heart_project/Final_m...</td>\n",
       "    </tr>\n",
       "    <tr>\n",
       "      <th>4</th>\n",
       "      <td>10X_ATAC_CK381</td>\n",
       "      <td>Kuppe 2022:P17</td>\n",
       "      <td>Kuppe 2022</td>\n",
       "      <td>Postnatal</td>\n",
       "      <td>61.0</td>\n",
       "      <td>male</td>\n",
       "      <td>LV</td>\n",
       "      <td>N</td>\n",
       "      <td>10X_ATAC</td>\n",
       "      <td>10X_ATAC_CK381.tsv.gz</td>\n",
       "      <td>/mnt/data1/william/human_heart_project/Final_m...</td>\n",
       "    </tr>\n",
       "  </tbody>\n",
       "</table>\n",
       "</div>"
      ],
      "text/plain": [
       "        sample_id        donor_id       study age_status   age     sex region  \\\n",
       "0  10X_ATAC_CK166   Kuppe 2022:P1  Kuppe 2022  Postnatal  44.0    male     LV   \n",
       "1  10X_ATAC_CK337   Kuppe 2022:P7  Kuppe 2022  Postnatal  55.0  female     LV   \n",
       "2  10X_ATAC_CK338   Kuppe 2022:P8  Kuppe 2022  Postnatal  44.0    male     LV   \n",
       "3  10X_ATAC_CK353  Kuppe 2022:P17  Kuppe 2022  Postnatal  61.0    male     LV   \n",
       "4  10X_ATAC_CK381  Kuppe 2022:P17  Kuppe 2022  Postnatal  61.0    male     LV   \n",
       "\n",
       "  disease_binary technology          fragment_file  \\\n",
       "0              N   10X_ATAC  10X_ATAC_CK166.tsv.gz   \n",
       "1              N   10X_ATAC  10X_ATAC_CK337.tsv.gz   \n",
       "2              N   10X_ATAC  10X_ATAC_CK338.tsv.gz   \n",
       "3              N   10X_ATAC  10X_ATAC_CK353.tsv.gz   \n",
       "4              N   10X_ATAC  10X_ATAC_CK381.tsv.gz   \n",
       "\n",
       "                                           full_path  \n",
       "0  /mnt/data1/william/human_heart_project/Final_m...  \n",
       "1  /mnt/data1/william/human_heart_project/Final_m...  \n",
       "2  /mnt/data1/william/human_heart_project/Final_m...  \n",
       "3  /mnt/data1/william/human_heart_project/Final_m...  \n",
       "4  /mnt/data1/william/human_heart_project/Final_m...  "
      ]
     },
     "execution_count": 3,
     "metadata": {},
     "output_type": "execute_result"
    }
   ],
   "source": [
    "metadata_df.head()"
   ]
  },
  {
   "cell_type": "code",
   "execution_count": 4,
   "id": "728fc451-ab8a-43df-ba6d-a74e694212c2",
   "metadata": {},
   "outputs": [
    {
     "data": {
      "text/html": [
       "<div>\n",
       "<style scoped>\n",
       "    .dataframe tbody tr th:only-of-type {\n",
       "        vertical-align: middle;\n",
       "    }\n",
       "\n",
       "    .dataframe tbody tr th {\n",
       "        vertical-align: top;\n",
       "    }\n",
       "\n",
       "    .dataframe thead th {\n",
       "        text-align: right;\n",
       "    }\n",
       "</style>\n",
       "<table border=\"1\" class=\"dataframe\">\n",
       "  <thead>\n",
       "    <tr style=\"text-align: right;\">\n",
       "      <th></th>\n",
       "      <th>file</th>\n",
       "      <th>nfrag</th>\n",
       "      <th>tsse</th>\n",
       "    </tr>\n",
       "  </thead>\n",
       "  <tbody>\n",
       "    <tr>\n",
       "      <th>0</th>\n",
       "      <td>10X_ATAC_CK166_pre_trimmed_tsse_v_nfrags.png</td>\n",
       "      <td>5000</td>\n",
       "      <td>5</td>\n",
       "    </tr>\n",
       "    <tr>\n",
       "      <th>1</th>\n",
       "      <td>10X_ATAC_CK168_pre_trimmed_tsse_v_nfrags.png</td>\n",
       "      <td>5000</td>\n",
       "      <td>5</td>\n",
       "    </tr>\n",
       "    <tr>\n",
       "      <th>2</th>\n",
       "      <td>10X_ATAC_CK170_pre_trimmed_tsse_v_nfrags.png</td>\n",
       "      <td>5000</td>\n",
       "      <td>5</td>\n",
       "    </tr>\n",
       "    <tr>\n",
       "      <th>3</th>\n",
       "      <td>10X_ATAC_CK171_pre_trimmed_tsse_v_nfrags.png</td>\n",
       "      <td>5000</td>\n",
       "      <td>5</td>\n",
       "    </tr>\n",
       "    <tr>\n",
       "      <th>4</th>\n",
       "      <td>10X_ATAC_CK173_pre_trimmed_tsse_v_nfrags.png</td>\n",
       "      <td>5000</td>\n",
       "      <td>5</td>\n",
       "    </tr>\n",
       "  </tbody>\n",
       "</table>\n",
       "</div>"
      ],
      "text/plain": [
       "                                           file  nfrag  tsse\n",
       "0  10X_ATAC_CK166_pre_trimmed_tsse_v_nfrags.png   5000     5\n",
       "1  10X_ATAC_CK168_pre_trimmed_tsse_v_nfrags.png   5000     5\n",
       "2  10X_ATAC_CK170_pre_trimmed_tsse_v_nfrags.png   5000     5\n",
       "3  10X_ATAC_CK171_pre_trimmed_tsse_v_nfrags.png   5000     5\n",
       "4  10X_ATAC_CK173_pre_trimmed_tsse_v_nfrags.png   5000     5"
      ]
     },
     "execution_count": 4,
     "metadata": {},
     "output_type": "execute_result"
    }
   ],
   "source": [
    "### load in the QC information\n",
    "QC_filters_df = pd.read_csv(\"01B_QC_filter_per_sample.txt\", index_col = 0, delim_whitespace=True).reset_index()\n",
    "QC_filters_df.head()"
   ]
  },
  {
   "cell_type": "code",
   "execution_count": 5,
   "id": "1df4d441-9caa-4774-9b29-a73ab6c61b72",
   "metadata": {},
   "outputs": [],
   "source": [
    "QC_filters_df['sample_id'] = QC_filters_df['file'].str.replace(\"_pre_trimmed_tsse_v_nfrags.png\", \"\")"
   ]
  },
  {
   "cell_type": "code",
   "execution_count": 6,
   "id": "9d7c7432-7d77-4015-8fe4-5c565f467541",
   "metadata": {},
   "outputs": [],
   "source": [
    "merged_df = metadata_df.merge(QC_filters_df, on = \"sample_id\")"
   ]
  },
  {
   "cell_type": "code",
   "execution_count": 9,
   "id": "d240157b-eeaa-4e58-9e2a-582060ed78ca",
   "metadata": {},
   "outputs": [
    {
     "data": {
      "text/plain": [
       "106"
      ]
     },
     "execution_count": 9,
     "metadata": {},
     "output_type": "execute_result"
    }
   ],
   "source": [
    "len ( merged_df.donor_id.unique() )"
   ]
  },
  {
   "cell_type": "code",
   "execution_count": 10,
   "id": "1196d602-1263-40c4-8c5e-c12091d9ffb6",
   "metadata": {},
   "outputs": [],
   "source": [
    "merged_df.to_csv(\"01C_QC_updated_metadata.csv\")"
   ]
  }
 ],
 "metadata": {
  "kernelspec": {
   "display_name": "Python 3 (ipykernel)",
   "language": "python",
   "name": "python3"
  },
  "language_info": {
   "codemirror_mode": {
    "name": "ipython",
    "version": 3
   },
   "file_extension": ".py",
   "mimetype": "text/x-python",
   "name": "python",
   "nbconvert_exporter": "python",
   "pygments_lexer": "ipython3",
   "version": "3.12.5"
  }
 },
 "nbformat": 4,
 "nbformat_minor": 5
}

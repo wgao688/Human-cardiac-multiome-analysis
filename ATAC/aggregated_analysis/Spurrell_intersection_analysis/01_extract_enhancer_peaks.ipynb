{
 "cells": [
  {
   "cell_type": "code",
   "execution_count": 1,
   "id": "692f717d-7baf-4077-96cd-00cdb8a1e14b",
   "metadata": {},
   "outputs": [],
   "source": [
    "import pandas as pd \n",
    "import numpy as np\n",
    "import matplotlib.pyplot as plt"
   ]
  },
  {
   "cell_type": "code",
   "execution_count": 2,
   "id": "86cb234f-5c48-4388-a7a2-b30334f56e1a",
   "metadata": {},
   "outputs": [
    {
     "data": {
      "text/plain": [
       "(654221, 17)"
      ]
     },
     "execution_count": 2,
     "metadata": {},
     "output_type": "execute_result"
    }
   ],
   "source": [
    "all_peaks_df = pd.read_csv(\"../07C_annotated_peaks.csv\")\n",
    "all_peaks_df.shape"
   ]
  },
  {
   "cell_type": "markdown",
   "id": "a6ff58cc-3765-4b7c-8dd8-ecfb415506c1",
   "metadata": {},
   "source": [
    "### Get enhancers, using the Spurrell 2022 definition (>1kb nucleotides away from TSS)"
   ]
  },
  {
   "cell_type": "code",
   "execution_count": 3,
   "id": "0984df8f-19fd-414d-86e2-b5bda0a53da8",
   "metadata": {},
   "outputs": [
    {
     "data": {
      "text/plain": [
       "(566203, 17)"
      ]
     },
     "execution_count": 3,
     "metadata": {},
     "output_type": "execute_result"
    }
   ],
   "source": [
    "enhancer_peak_df = all_peaks_df[np.abs(all_peaks_df['distanceToTSS']) > 1000]\n",
    "enhancer_peak_df.shape"
   ]
  },
  {
   "cell_type": "code",
   "execution_count": 4,
   "id": "037e249e-2f53-456b-ac87-c878ef18d537",
   "metadata": {},
   "outputs": [
    {
     "name": "stdout",
     "output_type": "stream",
     "text": [
      "Proportion of enhancers: 86.54613655018717%\n"
     ]
    }
   ],
   "source": [
    "print(f\"Proportion of enhancers: {100 * enhancer_peak_df.shape[0] / all_peaks_df.shape[0]}%\")"
   ]
  },
  {
   "cell_type": "markdown",
   "id": "cbdf69ef-17eb-4ab0-aa3b-5eb5860eb7bb",
   "metadata": {},
   "source": [
    "### Save in bed format"
   ]
  },
  {
   "cell_type": "code",
   "execution_count": 5,
   "id": "b1a2b4bd-a948-4c71-b99f-0863c8694764",
   "metadata": {},
   "outputs": [],
   "source": [
    "filt_enhancer_peak_df = enhancer_peak_df[[\"seqnames\", \"start\", \"end\"]].reset_index(drop=True)\n",
    "filt_enhancer_peak_df.to_csv(\"01_snATAC_enhancer_peaks.bed\", header=None, sep = \"\\t\", index=None)"
   ]
  },
  {
   "cell_type": "markdown",
   "id": "8ff5bae8-a3c0-46b8-b8c6-79ca5015920b",
   "metadata": {},
   "source": [
    "### Convert the Spurrell 2022 enhancer peaks to BED format as well"
   ]
  },
  {
   "cell_type": "code",
   "execution_count": 6,
   "id": "d6fff2f1-0671-46d5-96e8-b4d067d4bc2f",
   "metadata": {},
   "outputs": [
    {
     "data": {
      "text/plain": [
       "(33317, 5)"
      ]
     },
     "execution_count": 6,
     "metadata": {},
     "output_type": "execute_result"
    }
   ],
   "source": [
    "Spurrell_enhancer_df = pd.read_csv(\"Spurrell_healthy_enhancers.csv\")\n",
    "Spurrell_enhancer_df.shape"
   ]
  },
  {
   "cell_type": "code",
   "execution_count": 7,
   "id": "2a545e39-0ebb-4695-a0c8-083d50f04041",
   "metadata": {},
   "outputs": [
    {
     "data": {
      "text/html": [
       "<div>\n",
       "<style scoped>\n",
       "    .dataframe tbody tr th:only-of-type {\n",
       "        vertical-align: middle;\n",
       "    }\n",
       "\n",
       "    .dataframe tbody tr th {\n",
       "        vertical-align: top;\n",
       "    }\n",
       "\n",
       "    .dataframe thead th {\n",
       "        text-align: right;\n",
       "    }\n",
       "</style>\n",
       "<table border=\"1\" class=\"dataframe\">\n",
       "  <thead>\n",
       "    <tr style=\"text-align: right;\">\n",
       "      <th></th>\n",
       "      <th>Chromosome</th>\n",
       "      <th>Start</th>\n",
       "      <th>End</th>\n",
       "      <th>Number of healthy samples with peak (out of 26 total)</th>\n",
       "      <th>Overlaps validated VISTA heart enhancer</th>\n",
       "    </tr>\n",
       "  </thead>\n",
       "  <tbody>\n",
       "    <tr>\n",
       "      <th>0</th>\n",
       "      <td>chr1</td>\n",
       "      <td>836153</td>\n",
       "      <td>837500</td>\n",
       "      <td>6</td>\n",
       "      <td>.</td>\n",
       "    </tr>\n",
       "    <tr>\n",
       "      <th>1</th>\n",
       "      <td>chr1</td>\n",
       "      <td>864654</td>\n",
       "      <td>866686</td>\n",
       "      <td>12</td>\n",
       "      <td>.</td>\n",
       "    </tr>\n",
       "    <tr>\n",
       "      <th>2</th>\n",
       "      <td>chr1</td>\n",
       "      <td>1004411</td>\n",
       "      <td>1006406</td>\n",
       "      <td>7</td>\n",
       "      <td>.</td>\n",
       "    </tr>\n",
       "    <tr>\n",
       "      <th>3</th>\n",
       "      <td>chr1</td>\n",
       "      <td>1022693</td>\n",
       "      <td>1026419</td>\n",
       "      <td>2</td>\n",
       "      <td>.</td>\n",
       "    </tr>\n",
       "    <tr>\n",
       "      <th>4</th>\n",
       "      <td>chr1</td>\n",
       "      <td>1079279</td>\n",
       "      <td>1081182</td>\n",
       "      <td>12</td>\n",
       "      <td>.</td>\n",
       "    </tr>\n",
       "    <tr>\n",
       "      <th>...</th>\n",
       "      <td>...</td>\n",
       "      <td>...</td>\n",
       "      <td>...</td>\n",
       "      <td>...</td>\n",
       "      <td>...</td>\n",
       "    </tr>\n",
       "    <tr>\n",
       "      <th>33312</th>\n",
       "      <td>chr22</td>\n",
       "      <td>50612205</td>\n",
       "      <td>50614502</td>\n",
       "      <td>14</td>\n",
       "      <td>.</td>\n",
       "    </tr>\n",
       "    <tr>\n",
       "      <th>33313</th>\n",
       "      <td>chr22</td>\n",
       "      <td>50637541</td>\n",
       "      <td>50646017</td>\n",
       "      <td>25</td>\n",
       "      <td>.</td>\n",
       "    </tr>\n",
       "    <tr>\n",
       "      <th>33314</th>\n",
       "      <td>chr22</td>\n",
       "      <td>50652258</td>\n",
       "      <td>50661593</td>\n",
       "      <td>26</td>\n",
       "      <td>.</td>\n",
       "    </tr>\n",
       "    <tr>\n",
       "      <th>33315</th>\n",
       "      <td>chr22</td>\n",
       "      <td>50683063</td>\n",
       "      <td>50685434</td>\n",
       "      <td>3</td>\n",
       "      <td>.</td>\n",
       "    </tr>\n",
       "    <tr>\n",
       "      <th>33316</th>\n",
       "      <td>chr22</td>\n",
       "      <td>50690861</td>\n",
       "      <td>50734271</td>\n",
       "      <td>20</td>\n",
       "      <td>.</td>\n",
       "    </tr>\n",
       "  </tbody>\n",
       "</table>\n",
       "<p>33317 rows × 5 columns</p>\n",
       "</div>"
      ],
      "text/plain": [
       "      Chromosome     Start       End  \\\n",
       "0           chr1    836153    837500   \n",
       "1           chr1    864654    866686   \n",
       "2           chr1   1004411   1006406   \n",
       "3           chr1   1022693   1026419   \n",
       "4           chr1   1079279   1081182   \n",
       "...          ...       ...       ...   \n",
       "33312      chr22  50612205  50614502   \n",
       "33313      chr22  50637541  50646017   \n",
       "33314      chr22  50652258  50661593   \n",
       "33315      chr22  50683063  50685434   \n",
       "33316      chr22  50690861  50734271   \n",
       "\n",
       "       Number of healthy samples with peak (out of 26 total)  \\\n",
       "0                                                      6       \n",
       "1                                                     12       \n",
       "2                                                      7       \n",
       "3                                                      2       \n",
       "4                                                     12       \n",
       "...                                                  ...       \n",
       "33312                                                 14       \n",
       "33313                                                 25       \n",
       "33314                                                 26       \n",
       "33315                                                  3       \n",
       "33316                                                 20       \n",
       "\n",
       "      Overlaps validated VISTA heart enhancer  \n",
       "0                                           .  \n",
       "1                                           .  \n",
       "2                                           .  \n",
       "3                                           .  \n",
       "4                                           .  \n",
       "...                                       ...  \n",
       "33312                                       .  \n",
       "33313                                       .  \n",
       "33314                                       .  \n",
       "33315                                       .  \n",
       "33316                                       .  \n",
       "\n",
       "[33317 rows x 5 columns]"
      ]
     },
     "execution_count": 7,
     "metadata": {},
     "output_type": "execute_result"
    }
   ],
   "source": [
    "Spurrell_enhancer_df"
   ]
  },
  {
   "cell_type": "code",
   "execution_count": 8,
   "id": "afbc4621-9c00-4cd8-a6dc-fea176d25c3b",
   "metadata": {},
   "outputs": [],
   "source": [
    "Spurrell_enhancer_df['length'] = Spurrell_enhancer_df['End'] - Spurrell_enhancer_df['Start']"
   ]
  },
  {
   "cell_type": "code",
   "execution_count": 9,
   "id": "7d4c14b5-f1a3-4747-91e7-46e3a620b584",
   "metadata": {},
   "outputs": [
    {
     "data": {
      "text/plain": [
       "4244.0"
      ]
     },
     "execution_count": 9,
     "metadata": {},
     "output_type": "execute_result"
    }
   ],
   "source": [
    "np.median(Spurrell_enhancer_df['length'])"
   ]
  },
  {
   "cell_type": "code",
   "execution_count": 12,
   "id": "5045b3f2-4254-498a-875b-91332cc2f1be",
   "metadata": {},
   "outputs": [
    {
     "data": {
      "image/png": "[encoded data removed]",
      "text/plain": [
       "<Figure size 640x480 with 1 Axes>"
      ]
     },
     "metadata": {},
     "output_type": "display_data"
    }
   ],
   "source": [
    "plt.hist(np.log10(Spurrell_enhancer_df['length']))\n",
    "plt.xlabel(\"log10(distance) from closest TSS\")\n",
    "plt.ylabel(\"number of enhancers\")\n",
    "plt.title(\"Spurrell enhancer distance from TSS\")\n",
    "plt.show()"
   ]
  },
  {
   "cell_type": "code",
   "execution_count": 11,
   "id": "90daffd8-d43c-4d8f-af34-3b1edea19666",
   "metadata": {},
   "outputs": [],
   "source": [
    "filt_Spurrell_enhancer_df = Spurrell_enhancer_df[[\"Chromosome\", \"Start\", \"End\"]]\n",
    "filt_Spurrell_enhancer_df.to_csv(\"Spurrell_healthy_enhancers.bed\", header=None, sep = \"\\t\", index=None)"
   ]
  }
 ],
 "metadata": {
  "kernelspec": {
   "display_name": "Python 3 (ipykernel)",
   "language": "python",
   "name": "python3"
  },
  "language_info": {
   "codemirror_mode": {
    "name": "ipython",
    "version": 3
   },
   "file_extension": ".py",
   "mimetype": "text/x-python",
   "name": "python",
   "nbconvert_exporter": "python",
   "pygments_lexer": "ipython3",
   "version": "3.12.5"
  }
 },
 "nbformat": 4,
 "nbformat_minor": 5
}

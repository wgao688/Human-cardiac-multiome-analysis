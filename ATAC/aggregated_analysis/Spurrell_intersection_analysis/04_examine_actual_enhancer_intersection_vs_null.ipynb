{
 "cells": [
  {
   "cell_type": "markdown",
   "id": "6175f41d-2a5b-4e9b-b8f2-a2c3cf2c9aba",
   "metadata": {},
   "source": [
    "### Examine the number of enhancer peaks that have at least 1 snATAC-seq called peak overlapping them, versus null sets of snATAC-seq peaks created using bedtools shuffle"
   ]
  },
  {
   "cell_type": "code",
   "execution_count": 1,
   "id": "52d55c01-e9db-4d43-b516-8b829b733db4",
   "metadata": {},
   "outputs": [],
   "source": [
    "import pandas as pd\n",
    "import numpy as np\n",
    "import matplotlib.pyplot as plt \n",
    "import seaborn as sns\n",
    "import subprocess\n",
    "import os"
   ]
  },
  {
   "cell_type": "code",
   "execution_count": 2,
   "id": "f1e12b0f-062e-4314-a21c-9c5999234fbf",
   "metadata": {},
   "outputs": [],
   "source": [
    "import matplotlib\n",
    "matplotlib.rcParams['pdf.fonttype'] = 42\n",
    "matplotlib.rcParams['ps.fonttype'] = 42"
   ]
  },
  {
   "cell_type": "code",
   "execution_count": 3,
   "id": "3e3c4915-ef24-4725-964a-11c10d2abc8f",
   "metadata": {},
   "outputs": [],
   "source": [
    "plots_dir = \"plots/\"\n",
    "os.makedirs(plots_dir, exist_ok=True)"
   ]
  },
  {
   "cell_type": "code",
   "execution_count": 4,
   "id": "c4cea6de-3295-4a07-8d39-9e3e9e34720a",
   "metadata": {},
   "outputs": [
    {
     "data": {
      "text/html": [
       "<div>\n",
       "<style scoped>\n",
       "    .dataframe tbody tr th:only-of-type {\n",
       "        vertical-align: middle;\n",
       "    }\n",
       "\n",
       "    .dataframe tbody tr th {\n",
       "        vertical-align: top;\n",
       "    }\n",
       "\n",
       "    .dataframe thead th {\n",
       "        text-align: right;\n",
       "    }\n",
       "</style>\n",
       "<table border=\"1\" class=\"dataframe\">\n",
       "  <thead>\n",
       "    <tr style=\"text-align: right;\">\n",
       "      <th></th>\n",
       "      <th>num_intersecting</th>\n",
       "    </tr>\n",
       "  </thead>\n",
       "  <tbody>\n",
       "    <tr>\n",
       "      <th>0</th>\n",
       "      <td>19474</td>\n",
       "    </tr>\n",
       "    <tr>\n",
       "      <th>1</th>\n",
       "      <td>19392</td>\n",
       "    </tr>\n",
       "    <tr>\n",
       "      <th>2</th>\n",
       "      <td>19305</td>\n",
       "    </tr>\n",
       "    <tr>\n",
       "      <th>3</th>\n",
       "      <td>19442</td>\n",
       "    </tr>\n",
       "    <tr>\n",
       "      <th>4</th>\n",
       "      <td>19348</td>\n",
       "    </tr>\n",
       "  </tbody>\n",
       "</table>\n",
       "</div>"
      ],
      "text/plain": [
       "   num_intersecting\n",
       "0             19474\n",
       "1             19392\n",
       "2             19305\n",
       "3             19442\n",
       "4             19348"
      ]
     },
     "execution_count": 4,
     "metadata": {},
     "output_type": "execute_result"
    }
   ],
   "source": [
    "null_intersections = pd.read_csv(\"null_dist_results.txt\", header=None)\n",
    "null_intersections.columns = ['num_intersecting']\n",
    "null_intersections.head()"
   ]
  },
  {
   "cell_type": "code",
   "execution_count": 5,
   "id": "1c233d72-62fa-43ce-9a3e-5de5f4fede21",
   "metadata": {},
   "outputs": [
    {
     "data": {
      "text/html": [
       "<div>\n",
       "<style scoped>\n",
       "    .dataframe tbody tr th:only-of-type {\n",
       "        vertical-align: middle;\n",
       "    }\n",
       "\n",
       "    .dataframe tbody tr th {\n",
       "        vertical-align: top;\n",
       "    }\n",
       "\n",
       "    .dataframe thead th {\n",
       "        text-align: right;\n",
       "    }\n",
       "</style>\n",
       "<table border=\"1\" class=\"dataframe\">\n",
       "  <thead>\n",
       "    <tr style=\"text-align: right;\">\n",
       "      <th></th>\n",
       "      <th>chr</th>\n",
       "      <th>start</th>\n",
       "      <th>end</th>\n",
       "      <th>n_intersect_with_snATAC_peak</th>\n",
       "    </tr>\n",
       "  </thead>\n",
       "  <tbody>\n",
       "    <tr>\n",
       "      <th>0</th>\n",
       "      <td>chr1</td>\n",
       "      <td>836153</td>\n",
       "      <td>837500</td>\n",
       "      <td>0</td>\n",
       "    </tr>\n",
       "    <tr>\n",
       "      <th>1</th>\n",
       "      <td>chr1</td>\n",
       "      <td>864654</td>\n",
       "      <td>866686</td>\n",
       "      <td>1</td>\n",
       "    </tr>\n",
       "    <tr>\n",
       "      <th>2</th>\n",
       "      <td>chr1</td>\n",
       "      <td>1004411</td>\n",
       "      <td>1006406</td>\n",
       "      <td>1</td>\n",
       "    </tr>\n",
       "    <tr>\n",
       "      <th>3</th>\n",
       "      <td>chr1</td>\n",
       "      <td>1022693</td>\n",
       "      <td>1026419</td>\n",
       "      <td>3</td>\n",
       "    </tr>\n",
       "    <tr>\n",
       "      <th>4</th>\n",
       "      <td>chr1</td>\n",
       "      <td>1079279</td>\n",
       "      <td>1081182</td>\n",
       "      <td>3</td>\n",
       "    </tr>\n",
       "  </tbody>\n",
       "</table>\n",
       "</div>"
      ],
      "text/plain": [
       "    chr    start      end  n_intersect_with_snATAC_peak\n",
       "0  chr1   836153   837500                             0\n",
       "1  chr1   864654   866686                             1\n",
       "2  chr1  1004411  1006406                             1\n",
       "3  chr1  1022693  1026419                             3\n",
       "4  chr1  1079279  1081182                             3"
      ]
     },
     "execution_count": 5,
     "metadata": {},
     "output_type": "execute_result"
    }
   ],
   "source": [
    "Spurrell_peak_intersection_df = pd.read_csv(\"enhancer_snATAC_peak_intersection.bed\", delim_whitespace=True, header=None)\n",
    "Spurrell_peak_intersection_df.columns = [\"chr\", \"start\", \"end\", \"n_intersect_with_snATAC_peak\"]\n",
    "Spurrell_peak_intersection_df.head()"
   ]
  },
  {
   "cell_type": "code",
   "execution_count": 6,
   "id": "e9f7cad6-ff47-4196-a7f1-6e4c88fed75c",
   "metadata": {},
   "outputs": [
    {
     "name": "stdout",
     "output_type": "stream",
     "text": [
      "Number of enhancers overlapping with snATAC-seq peaks: 32525\n",
      "Proportion of enhancers overlapping with snATAC-seq peaks: 0.9762283518924273\n"
     ]
    }
   ],
   "source": [
    "# number of enhancers from Spurrell et al. 2022 that have some intersection with ATAC-seq peaks\n",
    "num_overlapping_enhancers = Spurrell_peak_intersection_df[Spurrell_peak_intersection_df['n_intersect_with_snATAC_peak'] > 0]\n",
    "\n",
    "print(f\"Number of enhancers overlapping with snATAC-seq peaks: {num_overlapping_enhancers.shape[0]}\")\n",
    "\n",
    "prop_overlapping_enhancers = num_overlapping_enhancers.shape[0] / Spurrell_peak_intersection_df.shape[0]\n",
    "print(f\"Proportion of enhancers overlapping with snATAC-seq peaks: {prop_overlapping_enhancers}\")"
   ]
  },
  {
   "cell_type": "markdown",
   "id": "f9478882-9bcf-4a35-aa58-682cade49bd3",
   "metadata": {},
   "source": [
    "### Compare actual overlap with random shuffles"
   ]
  },
  {
   "cell_type": "markdown",
   "id": "7c2feb14-3774-42ee-b1b8-d30ffaeb2076",
   "metadata": {},
   "source": [
    "#### Calculate Z-score"
   ]
  },
  {
   "cell_type": "code",
   "execution_count": 8,
   "id": "7d412f46-7b67-44c2-b9bb-8610e7d7b7f8",
   "metadata": {},
   "outputs": [
    {
     "name": "stdout",
     "output_type": "stream",
     "text": [
      "Actual number of Spurrell enhancers with at least 1 snATAC-seq peak overlapping 32525\n",
      "Z-score: 161.65132712832488\n"
     ]
    },
    {
     "name": "stderr",
     "output_type": "stream",
     "text": [
      "/mnt/data1/william/tmp/ipykernel_915438/792507836.py:2: FutureWarning: Series.__getitem__ treating keys as positions is deprecated. In a future version, integer keys will always be treated as labels (consistent with DataFrame behavior). To access a value by position, use `ser.iloc[pos]`\n",
      "  std_null = np.std(null_intersections)[0]\n"
     ]
    }
   ],
   "source": [
    "mean_null = np.mean(null_intersections)\n",
    "std_null = np.std(null_intersections)[0]\n",
    "\n",
    "# actual overlap \n",
    "actual_overlap = num_overlapping_enhancers.shape[0]\n",
    "print(f\"Actual number of Spurrell enhancers with at least 1 snATAC-seq peak overlapping {actual_overlap}\")\n",
    "\n",
    "z_score = (actual_overlap - mean_null) / std_null\n",
    "\n",
    "print(f\"Z-score: {z_score}\")"
   ]
  },
  {
   "cell_type": "code",
   "execution_count": null,
   "id": "ba71cbea-eff0-4c29-abc5-f3c654bea313",
   "metadata": {},
   "outputs": [],
   "source": [
    "# produce histogram\n",
    "\n",
    "plt.hist(null_intersections)\n",
    "plt.axvline(actual_overlap, color = \"red\", linestyle= \"--\")\n",
    "\n",
    "# add the z-score in the top-right corner\n",
    "plt.text(\n",
    "    x=np.max(null_intersections) * 1.4,\n",
    "    y=plt.ylim()[1] * 0.9,\n",
    "    s=f\"Z-score: {z_score:.2f}\",\n",
    "    fontsize=12,\n",
    "    color=\"blue\",\n",
    ")\n",
    "\n",
    "plt.title(\"actual number of bulk H3K27ac peaks (Spurrell et al. 2022) \\n intersecting with snATAC-seq peaks, \\n versus null distribution\", size = 10)\n",
    "plt.xlabel(\"number of intersecting peaks\")\n",
    "plt.ylabel(\"num simulations\")\n",
    "plt.savefig(plots_dir + \"actual_Spurrell_intersection_vs_null.pdf\")\n",
    "plt.show()"
   ]
  },
  {
   "cell_type": "markdown",
   "id": "10fdc96b-b92a-46c1-9728-328e61710be6",
   "metadata": {},
   "source": [
    "#### Conclusion: A much higher overlap of the Spurrell enhancers with open chromatin regions of snATAC-seq than expected simply through shuffling"
   ]
  }
 ],
 "metadata": {
  "kernelspec": {
   "display_name": "Python 3 (ipykernel)",
   "language": "python",
   "name": "python3"
  },
  "language_info": {
   "codemirror_mode": {
    "name": "ipython",
    "version": 3
   },
   "file_extension": ".py",
   "mimetype": "text/x-python",
   "name": "python",
   "nbconvert_exporter": "python",
   "pygments_lexer": "ipython3",
   "version": "3.12.5"
  }
 },
 "nbformat": 4,
 "nbformat_minor": 5
}

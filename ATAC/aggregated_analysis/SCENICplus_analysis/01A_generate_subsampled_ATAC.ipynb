{
 "cells": [
  {
   "cell_type": "code",
   "execution_count": 1,
   "id": "95f7655c-14dd-45fa-8c0c-d87ae941a514",
   "metadata": {},
   "outputs": [],
   "source": [
    "import pandas as pd \n",
    "import scanpy as sc \n",
    "import numpy as np\n",
    "import snapatac2 as snap\n",
    "from collections import Counter"
   ]
  },
  {
   "cell_type": "code",
   "execution_count": 2,
   "id": "04f12fdb-27c4-4f43-b518-625d4862c833",
   "metadata": {},
   "outputs": [
    {
     "name": "stdout",
     "output_type": "stream",
     "text": [
      "CPU times: user 6.38 s, sys: 50.2 s, total: 56.6 s\n",
      "Wall time: 3min 8s\n"
     ]
    },
    {
     "data": {
      "text/plain": [
       "AnnData object with n_obs × n_vars = 690044 × 654221\n",
       "    obs: 'ATAC_barcode', 'sample_id', 'leiden', 'donor_id', 'study', 'age_status', 'age', 'sex', 'region', 'disease_binary', 'technology', 'fragment_file', 'full_path', 'file', 'nfrag', 'tsse', 'cell_type', 'tech_plus_study', 'age_group', 'decade', 'final_cell_type', 'cell_or_nuclei', 'disease'\n",
       "    var: 'count', 'selected'\n",
       "    uns: 'age_status_colors', 'cell_type_colors', 'leiden', 'leiden_colors', 'neighbors', 'spectral_eigenvalue', 'study_colors'\n",
       "    obsm: 'X_spectral', 'X_spectral_harmony', 'X_umap'\n",
       "    obsp: 'connectivities', 'distances'"
      ]
     },
     "execution_count": 2,
     "metadata": {},
     "output_type": "execute_result"
    }
   ],
   "source": [
    "%%time\n",
    "adata = sc.read_h5ad(\"../07_final_ATAC.h5ad\")\n",
    "adata"
   ]
  },
  {
   "cell_type": "code",
   "execution_count": 3,
   "id": "8cb687bd-fb9d-49f7-955a-90c2935c8298",
   "metadata": {},
   "outputs": [
    {
     "data": {
      "text/plain": [
       "Counter({'postnatal': 567322, 'fetal': 122722})"
      ]
     },
     "execution_count": 3,
     "metadata": {},
     "output_type": "execute_result"
    }
   ],
   "source": [
    "Counter(adata.obs.age_status)"
   ]
  },
  {
   "cell_type": "code",
   "execution_count": 4,
   "id": "b86265c8-e49e-4a84-b448-63eb00e008a3",
   "metadata": {},
   "outputs": [
    {
     "data": {
      "text/plain": [
       "Counter({'N': 662539, 'Y': 27505})"
      ]
     },
     "execution_count": 4,
     "metadata": {},
     "output_type": "execute_result"
    }
   ],
   "source": [
    "Counter(adata.obs.disease_binary)"
   ]
  },
  {
   "cell_type": "code",
   "execution_count": 5,
   "id": "bf65232c-20d8-4e05-831a-76bc1ec94225",
   "metadata": {},
   "outputs": [],
   "source": [
    "# add disease and binary status\n",
    "adata.obs['disease_and_age_status'] = adata.obs['disease_binary'].astype(str) + \":\" + adata.obs['age_status'].astype(str)"
   ]
  },
  {
   "cell_type": "code",
   "execution_count": 6,
   "id": "c5e47460-61e8-4ed0-9bc7-5b023a3410c2",
   "metadata": {},
   "outputs": [
    {
     "data": {
      "text/plain": [
       "Counter({'N:postnatal': 539817, 'N:fetal': 122722, 'Y:postnatal': 27505})"
      ]
     },
     "execution_count": 6,
     "metadata": {},
     "output_type": "execute_result"
    }
   ],
   "source": [
    "Counter(adata.obs.disease_and_age_status)"
   ]
  },
  {
   "cell_type": "code",
   "execution_count": 7,
   "id": "17e003b0-dfc3-480e-9ffc-0b5931bb1f6f",
   "metadata": {},
   "outputs": [],
   "source": [
    "adata_metadata = adata.obs "
   ]
  },
  {
   "cell_type": "code",
   "execution_count": 8,
   "id": "ce7ae334-2d9b-47e3-bf66-b6702d2e3db4",
   "metadata": {},
   "outputs": [
    {
     "name": "stderr",
     "output_type": "stream",
     "text": [
      "/mnt/data1/william/tmp/ipykernel_2106110/842106779.py:1: FutureWarning: The default of observed=False is deprecated and will be changed to True in a future version of pandas. Pass observed=False to retain current behavior or observed=True to adopt the future default and silence this warning.\n",
      "  adata_metadata.groupby([\"disease_and_age_status\", \"final_cell_type\"])['ATAC_barcode'].count()\n"
     ]
    },
    {
     "data": {
      "text/plain": [
       "disease_and_age_status  final_cell_type\n",
       "N:fetal                 Adipocyte               0\n",
       "                        Cardiomyocyte       78897\n",
       "                        Endothelial         14497\n",
       "                        Epicardial              8\n",
       "                        Fibroblast          20855\n",
       "                        Lymphoid             2116\n",
       "                        Mast                   12\n",
       "                        Myeloid              2096\n",
       "                        Neuronal              472\n",
       "                        Pericyte             3758\n",
       "                        vSMC                   11\n",
       "N:postnatal             Adipocyte             935\n",
       "                        Cardiomyocyte      199287\n",
       "                        Endothelial         96908\n",
       "                        Epicardial           2291\n",
       "                        Fibroblast         113718\n",
       "                        Lymphoid            15808\n",
       "                        Mast                 1280\n",
       "                        Myeloid             52336\n",
       "                        Neuronal             2730\n",
       "                        Pericyte            48631\n",
       "                        vSMC                 5893\n",
       "Y:postnatal             Adipocyte               0\n",
       "                        Cardiomyocyte       13214\n",
       "                        Endothelial          3865\n",
       "                        Epicardial              0\n",
       "                        Fibroblast           4664\n",
       "                        Lymphoid              878\n",
       "                        Mast                   11\n",
       "                        Myeloid              2559\n",
       "                        Neuronal              163\n",
       "                        Pericyte             2151\n",
       "                        vSMC                    0\n",
       "Name: ATAC_barcode, dtype: int64"
      ]
     },
     "execution_count": 8,
     "metadata": {},
     "output_type": "execute_result"
    }
   ],
   "source": [
    "adata_metadata.groupby([\"disease_and_age_status\", \"final_cell_type\"])['ATAC_barcode'].count()"
   ]
  },
  {
   "cell_type": "markdown",
   "id": "5f37e842-3c5c-4e17-a112-f59e3bfbb582",
   "metadata": {},
   "source": [
    "### If we use a threshold of at least 750 cells for each particular age/disease status, then the only cell types that satisfy this are: \n",
    "\n",
    "- Cardiomyocyte\n",
    "- Endothelial\n",
    "- Fibroblast\n",
    "- Lymphoid\n",
    "- Myeloid\n",
    "- Pericyte"
   ]
  },
  {
   "cell_type": "markdown",
   "id": "b0b24544-eebe-4f9c-8719-daec33ab31e9",
   "metadata": {},
   "source": [
    "### Sample equally from each of the age + disease status & cell type categories; set n=750"
   ]
  },
  {
   "cell_type": "code",
   "execution_count": 9,
   "id": "9f456cbf-8c3c-4b4b-90ea-0425df89b997",
   "metadata": {},
   "outputs": [
    {
     "name": "stdout",
     "output_type": "stream",
     "text": [
      "Total cells subsampled: 13500\n",
      "CPU times: user 31.9 s, sys: 4min 11s, total: 4min 43s\n",
      "Wall time: 4min 47s\n"
     ]
    }
   ],
   "source": [
    "%%time \n",
    "\n",
    "cell_types_to_keep = [\"Cardiomyocyte\", \"Endothelial\", \"Fibroblast\", \"Lymphoid\", \"Myeloid\", \"Pericyte\"]\n",
    "\n",
    "filtered_adata = adata[adata.obs.cell_type.isin(cell_types_to_keep)].copy()\n",
    "\n",
    "n_cells = 750 \n",
    "\n",
    "filtered_adata.obs['group'] = filtered_adata.obs['disease_and_age_status'].astype(str) + \"_\" + filtered_adata.obs['cell_type'].astype(str)\n",
    "groups = filtered_adata.obs.group.unique()\n",
    "\n",
    "subsampled_indices = []\n",
    "for group in groups:\n",
    "    group_indices = filtered_adata.obs.index[filtered_adata.obs['group'] == group]\n",
    "    sampled_indices = np.random.choice(group_indices, n_cells, replace=False)\n",
    "    # add to growing list\n",
    "    subsampled_indices.extend(sampled_indices)\n",
    "\n",
    "adata_subsampled = filtered_adata[subsampled_indices].copy()\n",
    "print(f\"Total cells subsampled: {adata_subsampled.n_obs}\")"
   ]
  },
  {
   "cell_type": "code",
   "execution_count": 10,
   "id": "d0b3909b-b7c6-449b-b67f-910489eb74bb",
   "metadata": {},
   "outputs": [
    {
     "name": "stderr",
     "output_type": "stream",
     "text": [
      "... storing 'disease_and_age_status' as categorical\n",
      "... storing 'group' as categorical\n"
     ]
    }
   ],
   "source": [
    "adata_subsampled.write(\"01_subsampled_ATAC.h5ad\")"
   ]
  }
 ],
 "metadata": {
  "kernelspec": {
   "display_name": "Python 3 (ipykernel)",
   "language": "python",
   "name": "python3"
  },
  "language_info": {
   "codemirror_mode": {
    "name": "ipython",
    "version": 3
   },
   "file_extension": ".py",
   "mimetype": "text/x-python",
   "name": "python",
   "nbconvert_exporter": "python",
   "pygments_lexer": "ipython3",
   "version": "3.12.5"
  }
 },
 "nbformat": 4,
 "nbformat_minor": 5
}

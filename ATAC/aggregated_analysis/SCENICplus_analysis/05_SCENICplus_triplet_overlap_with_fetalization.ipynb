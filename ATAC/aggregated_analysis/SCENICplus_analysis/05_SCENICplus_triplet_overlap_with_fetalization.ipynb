{
 "cells": [
  {
   "cell_type": "markdown",
   "id": "c0f0ea29-775f-4b64-8a80-9496ab2450b0",
   "metadata": {},
   "source": [
    "### Find examples of fetalization eRegulons with associated DARs and DEGs"
   ]
  },
  {
   "cell_type": "code",
   "execution_count": 1,
   "id": "3ff47f89-e98b-43ef-8f5f-8419e3930641",
   "metadata": {},
   "outputs": [],
   "source": [
    "import pandas as pd\n",
    "from collections import Counter\n",
    "import matplotlib.pyplot as plt \n",
    "import seaborn as sns"
   ]
  },
  {
   "cell_type": "code",
   "execution_count": 53,
   "id": "de49af16-1458-48ef-80f1-84b5e56f19ef",
   "metadata": {},
   "outputs": [],
   "source": [
    "import matplotlib\n",
    "matplotlib.rcParams['pdf.fonttype'] = 42\n",
    "matplotlib.rcParams['ps.fonttype'] = 42"
   ]
  },
  {
   "cell_type": "markdown",
   "id": "cf8af1d9-ceed-4e5e-9fac-8fcef7213a6a",
   "metadata": {},
   "source": [
    "- Load in the TF->enhancer->gene triplets identified by SCENIC+"
   ]
  },
  {
   "cell_type": "code",
   "execution_count": 29,
   "id": "cc874204-773e-4088-984c-298ed421a7a8",
   "metadata": {},
   "outputs": [
    {
     "data": {
      "text/html": [
       "<div>\n",
       "<style scoped>\n",
       "    .dataframe tbody tr th:only-of-type {\n",
       "        vertical-align: middle;\n",
       "    }\n",
       "\n",
       "    .dataframe tbody tr th {\n",
       "        vertical-align: top;\n",
       "    }\n",
       "\n",
       "    .dataframe thead th {\n",
       "        text-align: right;\n",
       "    }\n",
       "</style>\n",
       "<table border=\"1\" class=\"dataframe\">\n",
       "  <thead>\n",
       "    <tr style=\"text-align: right;\">\n",
       "      <th></th>\n",
       "      <th>Region</th>\n",
       "      <th>Gene</th>\n",
       "      <th>importance_R2G</th>\n",
       "      <th>rho_R2G</th>\n",
       "      <th>importance_x_rho</th>\n",
       "      <th>importance_x_abs_rho</th>\n",
       "      <th>TF</th>\n",
       "      <th>is_extended</th>\n",
       "      <th>eRegulon_name</th>\n",
       "      <th>Gene_signature_name</th>\n",
       "      <th>Region_signature_name</th>\n",
       "      <th>importance_TF2G</th>\n",
       "      <th>regulation</th>\n",
       "      <th>rho_TF2G</th>\n",
       "      <th>triplet_rank</th>\n",
       "    </tr>\n",
       "  </thead>\n",
       "  <tbody>\n",
       "    <tr>\n",
       "      <th>11842</th>\n",
       "      <td>chr6:56555311-56555812</td>\n",
       "      <td>DST</td>\n",
       "      <td>0.122007</td>\n",
       "      <td>0.394807</td>\n",
       "      <td>0.048169</td>\n",
       "      <td>0.048169</td>\n",
       "      <td>MEIS2</td>\n",
       "      <td>False</td>\n",
       "      <td>MEIS2_direct_+/+</td>\n",
       "      <td>MEIS2_direct_+/+_(121g)</td>\n",
       "      <td>MEIS2_direct_+/+_(140r)</td>\n",
       "      <td>7.094421</td>\n",
       "      <td>1</td>\n",
       "      <td>0.294117</td>\n",
       "      <td>0</td>\n",
       "    </tr>\n",
       "    <tr>\n",
       "      <th>1609</th>\n",
       "      <td>chr10:94545512-94546013</td>\n",
       "      <td>HELLS</td>\n",
       "      <td>0.168279</td>\n",
       "      <td>0.151243</td>\n",
       "      <td>0.025451</td>\n",
       "      <td>0.025451</td>\n",
       "      <td>E2F1</td>\n",
       "      <td>False</td>\n",
       "      <td>E2F1_direct_+/+</td>\n",
       "      <td>E2F1_direct_+/+_(27g)</td>\n",
       "      <td>E2F1_direct_+/+_(57r)</td>\n",
       "      <td>1.452035</td>\n",
       "      <td>1</td>\n",
       "      <td>0.131914</td>\n",
       "      <td>1</td>\n",
       "    </tr>\n",
       "    <tr>\n",
       "      <th>8587</th>\n",
       "      <td>chr10:19815953-19816454</td>\n",
       "      <td>PLXDC2</td>\n",
       "      <td>0.145726</td>\n",
       "      <td>0.468607</td>\n",
       "      <td>0.068288</td>\n",
       "      <td>0.068288</td>\n",
       "      <td>FLI1</td>\n",
       "      <td>False</td>\n",
       "      <td>FLI1_direct_+/+</td>\n",
       "      <td>FLI1_direct_+/+_(389g)</td>\n",
       "      <td>FLI1_direct_+/+_(1898r)</td>\n",
       "      <td>5.697750</td>\n",
       "      <td>1</td>\n",
       "      <td>0.217382</td>\n",
       "      <td>2</td>\n",
       "    </tr>\n",
       "    <tr>\n",
       "      <th>2805</th>\n",
       "      <td>chr8:25922882-25923383</td>\n",
       "      <td>EBF2</td>\n",
       "      <td>0.058900</td>\n",
       "      <td>0.653548</td>\n",
       "      <td>0.038494</td>\n",
       "      <td>0.038494</td>\n",
       "      <td>EBF2</td>\n",
       "      <td>False</td>\n",
       "      <td>EBF2_direct_+/+</td>\n",
       "      <td>EBF2_direct_+/+_(258g)</td>\n",
       "      <td>EBF2_direct_+/+_(532r)</td>\n",
       "      <td>43.331950</td>\n",
       "      <td>1</td>\n",
       "      <td>1.000000</td>\n",
       "      <td>3</td>\n",
       "    </tr>\n",
       "    <tr>\n",
       "      <th>5015</th>\n",
       "      <td>chr7:122802129-122802630</td>\n",
       "      <td>CADPS2</td>\n",
       "      <td>0.116453</td>\n",
       "      <td>0.370728</td>\n",
       "      <td>0.043172</td>\n",
       "      <td>0.043172</td>\n",
       "      <td>ERG</td>\n",
       "      <td>False</td>\n",
       "      <td>ERG_direct_+/+</td>\n",
       "      <td>ERG_direct_+/+_(366g)</td>\n",
       "      <td>ERG_direct_+/+_(1332r)</td>\n",
       "      <td>5.647128</td>\n",
       "      <td>1</td>\n",
       "      <td>0.307433</td>\n",
       "      <td>4</td>\n",
       "    </tr>\n",
       "  </tbody>\n",
       "</table>\n",
       "</div>"
      ],
      "text/plain": [
       "                         Region    Gene  importance_R2G   rho_R2G  \\\n",
       "11842    chr6:56555311-56555812     DST        0.122007  0.394807   \n",
       "1609    chr10:94545512-94546013   HELLS        0.168279  0.151243   \n",
       "8587    chr10:19815953-19816454  PLXDC2        0.145726  0.468607   \n",
       "2805     chr8:25922882-25923383    EBF2        0.058900  0.653548   \n",
       "5015   chr7:122802129-122802630  CADPS2        0.116453  0.370728   \n",
       "\n",
       "       importance_x_rho  importance_x_abs_rho     TF  is_extended  \\\n",
       "11842          0.048169              0.048169  MEIS2        False   \n",
       "1609           0.025451              0.025451   E2F1        False   \n",
       "8587           0.068288              0.068288   FLI1        False   \n",
       "2805           0.038494              0.038494   EBF2        False   \n",
       "5015           0.043172              0.043172    ERG        False   \n",
       "\n",
       "          eRegulon_name      Gene_signature_name    Region_signature_name  \\\n",
       "11842  MEIS2_direct_+/+  MEIS2_direct_+/+_(121g)  MEIS2_direct_+/+_(140r)   \n",
       "1609    E2F1_direct_+/+    E2F1_direct_+/+_(27g)    E2F1_direct_+/+_(57r)   \n",
       "8587    FLI1_direct_+/+   FLI1_direct_+/+_(389g)  FLI1_direct_+/+_(1898r)   \n",
       "2805    EBF2_direct_+/+   EBF2_direct_+/+_(258g)   EBF2_direct_+/+_(532r)   \n",
       "5015     ERG_direct_+/+    ERG_direct_+/+_(366g)   ERG_direct_+/+_(1332r)   \n",
       "\n",
       "       importance_TF2G  regulation  rho_TF2G  triplet_rank  \n",
       "11842         7.094421           1  0.294117             0  \n",
       "1609          1.452035           1  0.131914             1  \n",
       "8587          5.697750           1  0.217382             2  \n",
       "2805         43.331950           1  1.000000             3  \n",
       "5015          5.647128           1  0.307433             4  "
      ]
     },
     "execution_count": 29,
     "metadata": {},
     "output_type": "execute_result"
    }
   ],
   "source": [
    "triplets_df = pd.read_csv(\"04_SCENICplus_direct_regulons.csv\", index_col = 0)\n",
    "triplets_df.head()"
   ]
  },
  {
   "cell_type": "markdown",
   "id": "d2b09977-a481-4bcf-b398-6c2f4d36229f",
   "metadata": {},
   "source": [
    "- Load in the fetalization TFs predicted by SCENIC+ (>2 fold activity in fetal and diseased hearts)"
   ]
  },
  {
   "cell_type": "code",
   "execution_count": 30,
   "id": "dd46bffc-7062-4b53-a3c9-ae299ac99853",
   "metadata": {},
   "outputs": [],
   "source": [
    "fetalization_TFs = pd.read_csv(\"04B_fetal_disease_regulons.csv\", index_col = 0)"
   ]
  },
  {
   "cell_type": "markdown",
   "id": "8c30ecf2-e5fe-4e9e-8358-6d6b330236a7",
   "metadata": {},
   "source": [
    "### Fetalization genes for fibroblasts"
   ]
  },
  {
   "cell_type": "code",
   "execution_count": 34,
   "id": "0734b06c-a998-4da9-8b24-d649a4d12d89",
   "metadata": {},
   "outputs": [],
   "source": [
    "cell_type = \"Fibroblast\"\n",
    "\n",
    "# DARs\n",
    "cell_type_fetalization_peaks = pd.read_csv(\"../pseudobulked_analysis/fetalization_peaks/\" + cell_type + \"_up_fetalization_genes.csv\")\n",
    "cell_type_fetalization_peaks_list = cell_type_fetalization_peaks['0']\n",
    "\n",
    "# DEGs\n",
    "cell_type_fetalization_genes = pd.read_csv(\"../../../RNA/aggregated_analysis/pseudobulked_analysis/pydeseq2/fetalization_genes/\" + cell_type + \"_up_fetalization_genes.csv\")\n",
    "cell_type_fetalization_genes_list = cell_type_fetalization_genes['0']"
   ]
  },
  {
   "cell_type": "markdown",
   "id": "8b5489ac-2892-4344-8155-3e9a5973f059",
   "metadata": {},
   "source": [
    "- Filter the triplets df to those that:\n",
    "\n",
    "1. Involve the TF being a fetalization TF\n",
    "2. Have the gene as a fetalization DEG\n",
    "3. Have the linked peak as a fetalization DAR"
   ]
  },
  {
   "cell_type": "code",
   "execution_count": 35,
   "id": "230dee03-7c34-4e66-8517-ec6755c49ad0",
   "metadata": {},
   "outputs": [],
   "source": [
    "cell_type_specific_fetalization_TFs = list(set(fetalization_TFs[fetalization_TFs['cell_type'] == cell_type]['TF']))\n",
    "\n",
    "# first, filter the triplets df to those cell-type specific fetalization TFs\n",
    "filtered_triplet_df = triplets_df[triplets_df['TF'].isin(cell_type_specific_fetalization_TFs)]\n",
    "\n",
    "# then filter it to where the gene is a DEG\n",
    "filtered_triplet_df = filtered_triplet_df[filtered_triplet_df['Gene'].isin(cell_type_fetalization_genes_list)]\n",
    "\n",
    "# finally, filter it to where the peak is a DAR\n",
    "filtered_triplet_df = filtered_triplet_df[filtered_triplet_df['Region'].isin(cell_type_fetalization_peaks_list)]"
   ]
  },
  {
   "cell_type": "code",
   "execution_count": 36,
   "id": "2c05ce32-584b-4f2e-a8d9-0a9f31939e76",
   "metadata": {},
   "outputs": [
    {
     "data": {
      "text/html": [
       "<div>\n",
       "<style scoped>\n",
       "    .dataframe tbody tr th:only-of-type {\n",
       "        vertical-align: middle;\n",
       "    }\n",
       "\n",
       "    .dataframe tbody tr th {\n",
       "        vertical-align: top;\n",
       "    }\n",
       "\n",
       "    .dataframe thead th {\n",
       "        text-align: right;\n",
       "    }\n",
       "</style>\n",
       "<table border=\"1\" class=\"dataframe\">\n",
       "  <thead>\n",
       "    <tr style=\"text-align: right;\">\n",
       "      <th></th>\n",
       "      <th>Region</th>\n",
       "      <th>Gene</th>\n",
       "      <th>importance_R2G</th>\n",
       "      <th>rho_R2G</th>\n",
       "      <th>importance_x_rho</th>\n",
       "      <th>importance_x_abs_rho</th>\n",
       "      <th>TF</th>\n",
       "      <th>is_extended</th>\n",
       "      <th>eRegulon_name</th>\n",
       "      <th>Gene_signature_name</th>\n",
       "      <th>Region_signature_name</th>\n",
       "      <th>importance_TF2G</th>\n",
       "      <th>regulation</th>\n",
       "      <th>rho_TF2G</th>\n",
       "      <th>triplet_rank</th>\n",
       "    </tr>\n",
       "  </thead>\n",
       "  <tbody>\n",
       "    <tr>\n",
       "      <th>1379</th>\n",
       "      <td>chr6:143806275-143806776</td>\n",
       "      <td>PLAGL1</td>\n",
       "      <td>0.030197</td>\n",
       "      <td>0.187933</td>\n",
       "      <td>0.005675</td>\n",
       "      <td>0.005675</td>\n",
       "      <td>BNC2</td>\n",
       "      <td>False</td>\n",
       "      <td>BNC2_direct_+/+</td>\n",
       "      <td>BNC2_direct_+/+_(175g)</td>\n",
       "      <td>BNC2_direct_+/+_(386r)</td>\n",
       "      <td>2.690165</td>\n",
       "      <td>1</td>\n",
       "      <td>0.203603</td>\n",
       "      <td>16052</td>\n",
       "    </tr>\n",
       "  </tbody>\n",
       "</table>\n",
       "</div>"
      ],
      "text/plain": [
       "                        Region    Gene  importance_R2G   rho_R2G  \\\n",
       "1379  chr6:143806275-143806776  PLAGL1        0.030197  0.187933   \n",
       "\n",
       "      importance_x_rho  importance_x_abs_rho    TF  is_extended  \\\n",
       "1379          0.005675              0.005675  BNC2        False   \n",
       "\n",
       "        eRegulon_name     Gene_signature_name   Region_signature_name  \\\n",
       "1379  BNC2_direct_+/+  BNC2_direct_+/+_(175g)  BNC2_direct_+/+_(386r)   \n",
       "\n",
       "      importance_TF2G  regulation  rho_TF2G  triplet_rank  \n",
       "1379         2.690165           1  0.203603         16052  "
      ]
     },
     "execution_count": 36,
     "metadata": {},
     "output_type": "execute_result"
    }
   ],
   "source": [
    "filtered_triplet_df"
   ]
  },
  {
   "cell_type": "markdown",
   "id": "ae2711e3-d495-4c17-b4e4-c6455acd3d48",
   "metadata": {},
   "source": [
    "### Visualize the expression of PLAGL1 in the scRNA-seq data"
   ]
  },
  {
   "cell_type": "code",
   "execution_count": 58,
   "id": "b29ec1ef-3e0b-4c21-bcd4-73399f118318",
   "metadata": {},
   "outputs": [],
   "source": [
    "import scanpy as sc\n",
    "sc._settings.settings._vector_friendly=True"
   ]
  },
  {
   "cell_type": "code",
   "execution_count": 39,
   "id": "84c9eeaa-b85b-4c49-b394-f3e00c585873",
   "metadata": {},
   "outputs": [],
   "source": [
    "%%time\n",
    "RNA_adata = sc.read_h5ad(\"../../../RNA/aggregated_analysis/07_final_RNA_without_scvi.h5ad\")"
   ]
  },
  {
   "cell_type": "code",
   "execution_count": 42,
   "id": "929b060c-6197-498e-af5c-0816ad5ed3b3",
   "metadata": {},
   "outputs": [
    {
     "name": "stdout",
     "output_type": "stream",
     "text": [
      "CPU times: user 11.8 s, sys: 23.3 s, total: 35.1 s\n",
      "Wall time: 35.1 s\n"
     ]
    }
   ],
   "source": [
    "%%time\n",
    "fibroblast_adata = RNA_adata[RNA_adata.obs.final_cell_type == \"Fibroblast\"].copy()"
   ]
  },
  {
   "cell_type": "code",
   "execution_count": 48,
   "id": "35cae7c7-52fe-4c0f-b5da-8fc23993cd98",
   "metadata": {},
   "outputs": [],
   "source": [
    "fibroblast_adata.obs['age_disease_status'] = fibroblast_adata.obs['age_status'].astype(str) + \":\" + fibroblast_adata.obs['disease_binary'].astype(str)"
   ]
  },
  {
   "cell_type": "code",
   "execution_count": 60,
   "id": "3c561890-0616-46b5-997a-06e18f1b42d3",
   "metadata": {},
   "outputs": [
    {
     "data": {
      "image/png": "[encoded data removed]",
      "text/plain": [
       "<Figure size 804.6x480 with 1 Axes>"
      ]
     },
     "metadata": {},
     "output_type": "display_data"
    }
   ],
   "source": [
    "with plt.rc_context():\n",
    "    sc.pl.violin(fibroblast_adata, keys = \"PLAGL1\", groupby=\"age_disease_status\", size = 0.1, show=False, stripplot=False)\n",
    "    plt.savefig(\"../../../paper_figures/PLAGL1_gene_expression.pdf\")"
   ]
  }
 ],
 "metadata": {
  "kernelspec": {
   "display_name": "Python 3 (ipykernel)",
   "language": "python",
   "name": "python3"
  },
  "language_info": {
   "codemirror_mode": {
    "name": "ipython",
    "version": 3
   },
   "file_extension": ".py",
   "mimetype": "text/x-python",
   "name": "python",
   "nbconvert_exporter": "python",
   "pygments_lexer": "ipython3",
   "version": "3.12.5"
  }
 },
 "nbformat": 4,
 "nbformat_minor": 5
}

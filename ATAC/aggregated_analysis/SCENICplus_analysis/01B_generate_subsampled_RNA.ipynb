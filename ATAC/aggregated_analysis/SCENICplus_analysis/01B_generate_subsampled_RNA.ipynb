{
 "cells": [
  {
   "cell_type": "code",
   "execution_count": 1,
   "id": "498e3054-721c-4639-903b-0f198b76bb0b",
   "metadata": {},
   "outputs": [],
   "source": [
    "import scanpy as sc \n",
    "import numpy as np\n",
    "from collections import Counter"
   ]
  },
  {
   "cell_type": "markdown",
   "id": "2aef41c1-9ccb-4cad-a6fe-cd7bb4cd143f",
   "metadata": {},
   "source": [
    "#### Since ATAC has fewer nuclei, it is more likely to be the limitation in terms of which cell types have at least 750 nuclei\n",
    "\n",
    "- Cardiomyocyte\n",
    "- Endothelial\n",
    "- Fibroblast\n",
    "- Lymphoid\n",
    "- Myeloid\n",
    "- Pericyte"
   ]
  },
  {
   "cell_type": "markdown",
   "id": "bbdc1336-a6e6-484b-b4e4-6eae382efa37",
   "metadata": {},
   "source": [
    "#### Since ATAC has fewer nuclei, it is more likely to be the limitation in terms of which cell types have at least 750 nuclei"
   ]
  },
  {
   "cell_type": "code",
   "execution_count": 2,
   "id": "4673776d-818d-48b9-aca7-feae85321201",
   "metadata": {},
   "outputs": [
    {
     "name": "stdout",
     "output_type": "stream",
     "text": [
      "CPU times: user 17.7 s, sys: 1min 56s, total: 2min 14s\n",
      "Wall time: 4min 56s\n"
     ]
    },
    {
     "data": {
      "text/plain": [
       "AnnData object with n_obs × n_vars = 2305964 × 16115\n",
       "    obs: 'age', 'donor_id', 'sex', 'region', 'cell_type', 'disease', 'consistent_cell_type', 'study', 'technology', 'cell_or_nuclei', 'barcode', 'sample_id', 'age_status', 'tech_plus_study', 'disease_binary', 'decade', 'age_group', '_scvi_batch', '_scvi_labels', 'leiden_scVI', 'scvi_cell_type', 'redo_leiden_0.5', 'UMAP1', 'UMAP2', 'v2_scvi_cell_type', 'final_cell_type'\n",
       "    obsm: 'X_scVI', 'X_umap', '_scvi_extra_categorical_covs'\n",
       "    layers: 'counts'"
      ]
     },
     "execution_count": 2,
     "metadata": {},
     "output_type": "execute_result"
    }
   ],
   "source": [
    "%%time\n",
    "adata = sc.read_h5ad(\"../../../RNA/aggregated_analysis/07_final_RNA_without_scvi.h5ad\")\n",
    "adata"
   ]
  },
  {
   "cell_type": "code",
   "execution_count": 3,
   "id": "a39eb97c-129c-4e54-9fbb-8708c0cce394",
   "metadata": {},
   "outputs": [
    {
     "data": {
      "text/plain": [
       "Counter({'postnatal': 2235017, 'fetal': 70947})"
      ]
     },
     "execution_count": 3,
     "metadata": {},
     "output_type": "execute_result"
    }
   ],
   "source": [
    "Counter(adata.obs.age_status)"
   ]
  },
  {
   "cell_type": "code",
   "execution_count": 4,
   "id": "1371b818-0383-4d97-a656-fb5c726c2c5b",
   "metadata": {},
   "outputs": [
    {
     "data": {
      "text/plain": [
       "Counter({'N': 1212319, 'Y': 1093645})"
      ]
     },
     "execution_count": 4,
     "metadata": {},
     "output_type": "execute_result"
    }
   ],
   "source": [
    "Counter(adata.obs.disease_binary)"
   ]
  },
  {
   "cell_type": "code",
   "execution_count": 5,
   "id": "2a8b68f3-86f8-459b-bacc-aa76b93c103e",
   "metadata": {},
   "outputs": [],
   "source": [
    "# add disease and binary status\n",
    "adata.obs['disease_and_age_status'] = adata.obs['disease_binary'].astype(str) + \":\" + adata.obs['age_status'].astype(str)"
   ]
  },
  {
   "cell_type": "code",
   "execution_count": 6,
   "id": "488d1ad8-2c96-48a8-8ff1-5dbd5990217e",
   "metadata": {},
   "outputs": [],
   "source": [
    "adata_metadata = adata.obs "
   ]
  },
  {
   "cell_type": "code",
   "execution_count": 7,
   "id": "23c92232-45e4-45fb-85e5-1c2307ae4060",
   "metadata": {},
   "outputs": [
    {
     "data": {
      "text/plain": [
       "disease_and_age_status  final_cell_type\n",
       "N:fetal                 Adipocyte               3\n",
       "                        Cardiomyocyte       24448\n",
       "                        Endocardial          6997\n",
       "                        Endothelial          4344\n",
       "                        Epicardial           2748\n",
       "                        Fibroblast          19818\n",
       "                        LEC                   800\n",
       "                        Lymphoid             4074\n",
       "                        Mast                   82\n",
       "                        Myeloid              2291\n",
       "                        Neuronal             1182\n",
       "                        Pericyte             2689\n",
       "                        vSMC                 1471\n",
       "N:postnatal             Adipocyte            6649\n",
       "                        Cardiomyocyte      365026\n",
       "                        Endocardial         22569\n",
       "                        Endothelial        110727\n",
       "                        Epicardial           3498\n",
       "                        Fibroblast         274170\n",
       "                        LEC                  5279\n",
       "                        Lymphoid            35010\n",
       "                        Mast                 5837\n",
       "                        Myeloid            136597\n",
       "                        Neuronal            10834\n",
       "                        Pericyte           142217\n",
       "                        vSMC                22959\n",
       "Y:postnatal             Adipocyte            5446\n",
       "                        Cardiomyocyte      287180\n",
       "                        Endocardial         13016\n",
       "                        Endothelial        202053\n",
       "                        Epicardial           5747\n",
       "                        Fibroblast         254625\n",
       "                        LEC                  7644\n",
       "                        Lymphoid            30044\n",
       "                        Mast                 3039\n",
       "                        Myeloid            102449\n",
       "                        Neuronal            10597\n",
       "                        Pericyte           136878\n",
       "                        vSMC                34927\n",
       "Name: barcode, dtype: int64"
      ]
     },
     "execution_count": 7,
     "metadata": {},
     "output_type": "execute_result"
    }
   ],
   "source": [
    "adata_metadata.groupby([\"disease_and_age_status\", \"final_cell_type\"])['barcode'].count()"
   ]
  },
  {
   "cell_type": "code",
   "execution_count": 17,
   "id": "0b854363-515f-46a9-abe4-7c8a3ffc5ae3",
   "metadata": {},
   "outputs": [
    {
     "name": "stdout",
     "output_type": "stream",
     "text": [
      "Total cells subsampled: 13500\n",
      "CPU times: user 1min 10s, sys: 14min 8s, total: 15min 19s\n",
      "Wall time: 18min 32s\n"
     ]
    }
   ],
   "source": [
    "%%time \n",
    "\n",
    "cell_types_to_keep = [\"Cardiomyocyte\", \"Endothelial\", \"Fibroblast\", \"Lymphoid\", \"Myeloid\", \"Pericyte\"]\n",
    "\n",
    "filtered_adata = adata[adata.obs['final_cell_type'].isin(cell_types_to_keep)].copy()\n",
    "\n",
    "n_cells = 750 \n",
    "\n",
    "filtered_adata.obs['group'] = filtered_adata.obs['disease_and_age_status'].astype(str) + \"_\" + filtered_adata.obs['final_cell_type'].astype(str)\n",
    "groups = filtered_adata.obs.group.unique()\n",
    "\n",
    "subsampled_indices = []\n",
    "for group in groups:\n",
    "    group_indices = filtered_adata.obs.index[filtered_adata.obs['group'] == group]\n",
    "    sampled_indices = np.random.choice(group_indices, n_cells, replace=False)\n",
    "    # add to growing list\n",
    "    subsampled_indices.extend(sampled_indices)\n",
    "\n",
    "adata_subsampled = filtered_adata[subsampled_indices].copy()\n",
    "print(f\"Total cells subsampled: {adata_subsampled.n_obs}\")"
   ]
  },
  {
   "cell_type": "code",
   "execution_count": 18,
   "id": "d73c124e-89ec-4b3a-aea8-c044f2b555be",
   "metadata": {},
   "outputs": [
    {
     "data": {
      "text/plain": [
       "Counter({'N:fetal_Endothelial': 750,\n",
       "         'Y:postnatal_Endothelial': 750,\n",
       "         'N:postnatal_Endothelial': 750,\n",
       "         'N:fetal_Lymphoid': 750,\n",
       "         'Y:postnatal_Lymphoid': 750,\n",
       "         'N:postnatal_Lymphoid': 750,\n",
       "         'N:fetal_Fibroblast': 750,\n",
       "         'Y:postnatal_Fibroblast': 750,\n",
       "         'N:postnatal_Fibroblast': 750,\n",
       "         'N:fetal_Cardiomyocyte': 750,\n",
       "         'Y:postnatal_Cardiomyocyte': 750,\n",
       "         'N:postnatal_Cardiomyocyte': 750,\n",
       "         'N:fetal_Pericyte': 750,\n",
       "         'Y:postnatal_Pericyte': 750,\n",
       "         'N:postnatal_Pericyte': 750,\n",
       "         'N:fetal_Myeloid': 750,\n",
       "         'Y:postnatal_Myeloid': 750,\n",
       "         'N:postnatal_Myeloid': 750})"
      ]
     },
     "execution_count": 18,
     "metadata": {},
     "output_type": "execute_result"
    }
   ],
   "source": [
    "Counter(adata_subsampled.obs['group'])"
   ]
  },
  {
   "cell_type": "code",
   "execution_count": 19,
   "id": "00addbcd-33be-46c4-8484-a83936987874",
   "metadata": {},
   "outputs": [],
   "source": [
    "adata_subsampled.write(\"01_subsampled_RNA.h5ad\")"
   ]
  }
 ],
 "metadata": {
  "kernelspec": {
   "display_name": "Python 3 (ipykernel)",
   "language": "python",
   "name": "python3"
  },
  "language_info": {
   "codemirror_mode": {
    "name": "ipython",
    "version": 3
   },
   "file_extension": ".py",
   "mimetype": "text/x-python",
   "name": "python",
   "nbconvert_exporter": "python",
   "pygments_lexer": "ipython3",
   "version": "3.11.8"
  }
 },
 "nbformat": 4,
 "nbformat_minor": 5
}

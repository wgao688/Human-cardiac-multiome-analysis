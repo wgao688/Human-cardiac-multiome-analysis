{
 "cells": [
  {
   "cell_type": "markdown",
   "id": "26c7bd47-9db7-4ed3-8a35-8fcb67480ec8",
   "metadata": {},
   "source": [
    "#### Make the metadata columns consistent between RNA and ATAC finalized objects. For cases where there are any inconsistencies in `06D_filtered_peak_matrix.h5ad` (ATAC object), we will make it cohere with the RNA finalized object (`07_final_RNA_without_scvi.h5ad`)"
   ]
  },
  {
   "cell_type": "code",
   "execution_count": 1,
   "id": "5df65d5a-ce23-4150-90da-ca4b13d98d35",
   "metadata": {},
   "outputs": [],
   "source": [
    "import scanpy as sc \n",
    "import snapatac2 as snap\n",
    "import pandas as pd\n",
    "import numpy as np\n",
    "from collections import Counter"
   ]
  },
  {
   "cell_type": "code",
   "execution_count": 2,
   "id": "76eec071-b01d-4489-869c-43e907eb4577",
   "metadata": {},
   "outputs": [
    {
     "name": "stdout",
     "output_type": "stream",
     "text": [
      "CPU times: user 3.85 s, sys: 22.9 s, total: 26.8 s\n",
      "Wall time: 26.7 s\n"
     ]
    },
    {
     "data": {
      "text/plain": [
       "AnnData object with n_obs × n_vars = 690044 × 654221\n",
       "    obs: 'ATAC_barcode', 'sample_id', 'leiden', 'donor_id', 'study', 'age_status', 'age', 'sex', 'region', 'disease_binary', 'technology', 'fragment_file', 'full_path', 'file', 'nfrag', 'tsse', 'cell_type', 'tech_plus_study'\n",
       "    var: 'count', 'selected'\n",
       "    uns: 'age_status_colors', 'cell_type_colors', 'leiden', 'leiden_colors', 'neighbors', 'spectral_eigenvalue', 'study_colors'\n",
       "    obsm: 'X_spectral', 'X_spectral_harmony', 'X_umap'\n",
       "    obsp: 'connectivities', 'distances'"
      ]
     },
     "execution_count": 2,
     "metadata": {},
     "output_type": "execute_result"
    }
   ],
   "source": [
    "%%time\n",
    "ATAC_adata = sc.read_h5ad(\"06D_filtered_peak_matrix.h5ad\")\n",
    "ATAC_adata"
   ]
  },
  {
   "cell_type": "code",
   "execution_count": 3,
   "id": "43ba8e32-6bbe-4abe-b0a5-3e10955ef769",
   "metadata": {},
   "outputs": [
    {
     "name": "stdout",
     "output_type": "stream",
     "text": [
      "CPU times: user 14.2 s, sys: 1min 41s, total: 1min 55s\n",
      "Wall time: 2min 24s\n"
     ]
    },
    {
     "data": {
      "text/plain": [
       "AnnData object with n_obs × n_vars = 2305964 × 16115\n",
       "    obs: 'age', 'donor_id', 'sex', 'region', 'cell_type', 'disease', 'consistent_cell_type', 'study', 'technology', 'cell_or_nuclei', 'barcode', 'sample_id', 'age_status', 'tech_plus_study', 'disease_binary', 'decade', 'age_group', '_scvi_batch', '_scvi_labels', 'leiden_scVI', 'scvi_cell_type', 'redo_leiden_0.5', 'UMAP1', 'UMAP2', 'v2_scvi_cell_type', 'final_cell_type'\n",
       "    obsm: 'X_scVI', 'X_umap', '_scvi_extra_categorical_covs'\n",
       "    layers: 'counts'"
      ]
     },
     "execution_count": 3,
     "metadata": {},
     "output_type": "execute_result"
    }
   ],
   "source": [
    "%%time\n",
    "RNA_adata = sc.read_h5ad(\"../../RNA/aggregated_analysis/07_final_RNA_without_scvi.h5ad\")\n",
    "RNA_adata"
   ]
  },
  {
   "cell_type": "markdown",
   "id": "0dff8266-9638-42c3-827c-aca7cfd2cda2",
   "metadata": {},
   "source": [
    "### Check the columns"
   ]
  },
  {
   "cell_type": "code",
   "execution_count": 4,
   "id": "0527bf58-d7fe-4fcc-8312-67ad9e0fe106",
   "metadata": {},
   "outputs": [],
   "source": [
    "ATAC_metadata_columns = list(ATAC_adata.obs.columns)\n",
    "RNA_metadata_columns = list(RNA_adata.obs.columns)"
   ]
  },
  {
   "cell_type": "code",
   "execution_count": 5,
   "id": "a7d2f03c-108a-4e5f-99ec-c3c6e09acede",
   "metadata": {},
   "outputs": [
    {
     "data": {
      "text/plain": [
       "{'ATAC_barcode',\n",
       " 'file',\n",
       " 'fragment_file',\n",
       " 'full_path',\n",
       " 'leiden',\n",
       " 'nfrag',\n",
       " 'tsse'}"
      ]
     },
     "execution_count": 5,
     "metadata": {},
     "output_type": "execute_result"
    }
   ],
   "source": [
    "set(ATAC_metadata_columns) - set(RNA_metadata_columns)"
   ]
  },
  {
   "cell_type": "code",
   "execution_count": 6,
   "id": "f3f8da78-b2c4-4c60-85ed-da8e4b4d2173",
   "metadata": {},
   "outputs": [
    {
     "data": {
      "text/plain": [
       "{'UMAP1',\n",
       " 'UMAP2',\n",
       " '_scvi_batch',\n",
       " '_scvi_labels',\n",
       " 'age_group',\n",
       " 'barcode',\n",
       " 'cell_or_nuclei',\n",
       " 'consistent_cell_type',\n",
       " 'decade',\n",
       " 'disease',\n",
       " 'final_cell_type',\n",
       " 'leiden_scVI',\n",
       " 'redo_leiden_0.5',\n",
       " 'scvi_cell_type',\n",
       " 'v2_scvi_cell_type'}"
      ]
     },
     "execution_count": 6,
     "metadata": {},
     "output_type": "execute_result"
    }
   ],
   "source": [
    "set(RNA_metadata_columns) - set(ATAC_metadata_columns)"
   ]
  },
  {
   "cell_type": "code",
   "execution_count": 7,
   "id": "1d3f3edb-9c60-4c5c-b7e6-12773071d0ca",
   "metadata": {},
   "outputs": [
    {
     "data": {
      "text/plain": [
       "{'age',\n",
       " 'age_status',\n",
       " 'cell_type',\n",
       " 'disease_binary',\n",
       " 'donor_id',\n",
       " 'region',\n",
       " 'sample_id',\n",
       " 'sex',\n",
       " 'study',\n",
       " 'tech_plus_study',\n",
       " 'technology'}"
      ]
     },
     "execution_count": 7,
     "metadata": {},
     "output_type": "execute_result"
    }
   ],
   "source": [
    "set(RNA_metadata_columns) & set(ATAC_metadata_columns)"
   ]
  },
  {
   "cell_type": "markdown",
   "id": "2485ed5d-223e-4451-b451-3a2c8085c70b",
   "metadata": {},
   "source": [
    "#### First, we will add any metadata missing in the ATAC_adata that is present in the RNA adata and vice versa:\n",
    "\n",
    "- Missing in the RNA adata: none, since the columns in the ATAC only are specific to that assay\n",
    "- Missing in the ATAC adata: cell_or_nuclei (all nuclei); age_group, decade, and disease (AMI for the ATAC), final_cell_type\n",
    "\n",
    "#### Then we will make sure that the naming scheme is consistent for the ATAC and RNA for the shared columns"
   ]
  },
  {
   "cell_type": "code",
   "execution_count": 8,
   "id": "3347ad5c-b8e4-4b5e-9c5f-4948c231efa9",
   "metadata": {},
   "outputs": [],
   "source": [
    "def get_age_group(age):\n",
    "    '''\n",
    "    Add age group to categorize age into three discrete categories based on the decade of donor\n",
    "    '''\n",
    "    if age < 40:\n",
    "        age_group = \"young\"\n",
    "    elif (age >= 40) & (age < 60):\n",
    "        age_group = \"middle\"\n",
    "    elif (age >= 60):\n",
    "        age_group = \"old\"\n",
    "    return(age_group)"
   ]
  },
  {
   "cell_type": "code",
   "execution_count": 9,
   "id": "3e2ecff5-1ea6-4a00-aba3-d16ff0e3ccbe",
   "metadata": {},
   "outputs": [
    {
     "name": "stdout",
     "output_type": "stream",
     "text": [
      "CPU times: user 160 ms, sys: 5.19 ms, total: 166 ms\n",
      "Wall time: 164 ms\n"
     ]
    }
   ],
   "source": [
    "%%time\n",
    "# add age group and decade\n",
    "ATAC_adata.obs['age_group'] = ATAC_adata.obs['age'].apply(lambda x: get_age_group(x))\n",
    "# set fetal as an age group\n",
    "ATAC_adata.obs.loc[ATAC_adata.obs.age_status == \"Fetal\", 'age_group'] = \"fetal\"\n",
    "\n",
    "ATAC_adata.obs['decade'] = np.floor(ATAC_adata.obs['age'] / 10)"
   ]
  },
  {
   "cell_type": "code",
   "execution_count": 10,
   "id": "c77684a1-b6f8-403a-9da4-1a57a337a9f0",
   "metadata": {},
   "outputs": [],
   "source": [
    "ATAC_adata.obs['final_cell_type'] = ATAC_adata.obs['cell_type']"
   ]
  },
  {
   "cell_type": "code",
   "execution_count": 11,
   "id": "a5c5e2d4-5e43-4547-80ba-9ed60d04b807",
   "metadata": {},
   "outputs": [],
   "source": [
    "ATAC_adata.obs['cell_or_nuclei'] = \"Nuclei\""
   ]
  },
  {
   "cell_type": "code",
   "execution_count": 12,
   "id": "40593322-916c-4b53-a0a7-31645fad9e31",
   "metadata": {},
   "outputs": [
    {
     "data": {
      "text/plain": [
       "Counter({'ND': 1212319,\n",
       "         'DCM': 564000,\n",
       "         'HCM': 225919,\n",
       "         'pediatric HF': 92121,\n",
       "         'ICM': 69611,\n",
       "         'ARVC': 67834,\n",
       "         'AMI': 66978,\n",
       "         'NCCM': 7182})"
      ]
     },
     "execution_count": 12,
     "metadata": {},
     "output_type": "execute_result"
    }
   ],
   "source": [
    "Counter(RNA_adata.obs.disease)"
   ]
  },
  {
   "cell_type": "code",
   "execution_count": 13,
   "id": "0c49aabb-ba95-4ae8-ac06-eb78d349da82",
   "metadata": {},
   "outputs": [
    {
     "data": {
      "text/plain": [
       "Counter({'N': 662539, 'Y': 27505})"
      ]
     },
     "execution_count": 13,
     "metadata": {},
     "output_type": "execute_result"
    }
   ],
   "source": [
    "Counter(ATAC_adata.obs.disease_binary)"
   ]
  },
  {
   "cell_type": "code",
   "execution_count": 14,
   "id": "c74c3ffb-aabd-459f-a8ad-75446c998399",
   "metadata": {},
   "outputs": [],
   "source": [
    "# add disease\n",
    "ATAC_adata.obs['disease'] = \"ND\"\n",
    "ATAC_adata.obs.loc[ATAC_adata.obs.disease_binary == \"Y\", 'disease'] = \"AMI\""
   ]
  },
  {
   "cell_type": "markdown",
   "id": "1daa17e5-dede-4b4b-8948-33a5744012a8",
   "metadata": {},
   "source": [
    "Now check the ATAC and RNA shared columns"
   ]
  },
  {
   "cell_type": "code",
   "execution_count": 15,
   "id": "c2d7105d-fbac-40c0-a54a-6de0aa071050",
   "metadata": {},
   "outputs": [
    {
     "data": {
      "text/plain": [
       "{'UMAP1',\n",
       " 'UMAP2',\n",
       " '_scvi_batch',\n",
       " '_scvi_labels',\n",
       " 'barcode',\n",
       " 'consistent_cell_type',\n",
       " 'leiden_scVI',\n",
       " 'redo_leiden_0.5',\n",
       " 'scvi_cell_type',\n",
       " 'v2_scvi_cell_type'}"
      ]
     },
     "execution_count": 15,
     "metadata": {},
     "output_type": "execute_result"
    }
   ],
   "source": [
    "ATAC_metadata_columns = list(ATAC_adata.obs.columns)\n",
    "RNA_metadata_columns = list(RNA_adata.obs.columns)\n",
    "\n",
    "set(RNA_metadata_columns) - set(ATAC_metadata_columns)"
   ]
  },
  {
   "cell_type": "code",
   "execution_count": 16,
   "id": "45dbf827-4b44-4190-b486-9c0e3d6e4eae",
   "metadata": {},
   "outputs": [],
   "source": [
    "shared_metadata_columns = list( set(RNA_metadata_columns) & set(ATAC_metadata_columns) )"
   ]
  },
  {
   "cell_type": "code",
   "execution_count": 17,
   "id": "b10232ff-48a0-4b27-a80f-4c8b5bddc3e4",
   "metadata": {},
   "outputs": [
    {
     "name": "stdout",
     "output_type": "stream",
     "text": [
      "tech_plus_study\n",
      "only in ATAC:\n",
      "{'nan_Ameen 2022', 'nan_Kuppe 2022', 'nan_ENCODE v4 (Snyder)', 'nan_Kanemaru 2023', '10X_ATAC_Penn'}\n",
      "only in RNA:\n",
      "{'Multiome-v1_Kanemaru 2023', '3prime-v2_Litvinukova 2020', '3prime-v3_Simonson 2023', '3prime-v3_Kuppe 2022', '3prime-v3_Reichart 2022', 'Multiome-v1_ENCODE v4 (Snyder)', '3prime-v3_Hill 2022', '3prime-v3_Chaffin 2022', '3prime-v1_Sim 2021', '5prime-v1_Koenig 2022', '3prime-v3_Litvinukova 2020', 'Dropseq_Penn'}\n",
      "shared:\n",
      "set()\n",
      "\n",
      "\n",
      "disease\n",
      "only in ATAC:\n",
      "set()\n",
      "only in RNA:\n",
      "{'NCCM', 'DCM', 'ICM', 'HCM', 'ARVC', 'pediatric HF'}\n",
      "shared:\n",
      "{'ND', 'AMI'}\n",
      "\n",
      "\n",
      "final_cell_type\n",
      "only in ATAC:\n",
      "set()\n",
      "only in RNA:\n",
      "{'Endocardial', 'LEC'}\n",
      "shared:\n",
      "{'Pericyte', 'Fibroblast', 'Mast', 'Neuronal', 'Cardiomyocyte', 'vSMC', 'Epicardial', 'Endothelial', 'Adipocyte', 'Myeloid', 'Lymphoid'}\n",
      "\n",
      "\n",
      "study\n",
      "only in ATAC:\n",
      "{'Ameen 2022'}\n",
      "only in RNA:\n",
      "{'Sim 2021', 'Simonson 2023', 'Koenig 2022', 'Reichart 2022', 'Chaffin 2022', 'Hill 2022', 'Litvinukova 2020'}\n",
      "shared:\n",
      "{'Penn', 'Kanemaru 2023', 'ENCODE v4 (Snyder)', 'Kuppe 2022'}\n",
      "\n",
      "\n",
      "region\n",
      "only in ATAC:\n",
      "{'IZ/BZ', 'RZ/BZ', 'FZ/GT', 'IZ', 'GT/IZ', 'FZ', 'RZ'}\n",
      "only in RNA:\n",
      "{'Atria'}\n",
      "shared:\n",
      "{'LRV', 'OFT', 'LV', 'WH'}\n",
      "\n",
      "\n",
      "sex\n",
      "only in ATAC:\n",
      "set()\n",
      "only in RNA:\n",
      "set()\n",
      "shared:\n",
      "{'female', 'male'}\n",
      "\n",
      "\n",
      "disease_binary\n",
      "only in ATAC:\n",
      "set()\n",
      "only in RNA:\n",
      "set()\n",
      "shared:\n",
      "{'N', 'Y'}\n",
      "\n",
      "\n",
      "age_group\n",
      "only in ATAC:\n",
      "set()\n",
      "only in RNA:\n",
      "set()\n",
      "shared:\n",
      "{'old', 'young', 'middle', 'fetal'}\n",
      "\n",
      "\n",
      "age\n",
      "only in ATAC:\n",
      "{6.0}\n",
      "only in RNA:\n",
      "{0.0, 3.0, 4.5, 4.0, 9.0, 11.0, 14.5, 24.5, 27.0, 29.0, 33.0, 34.5, 35.0, 42.5, 44.5, 49.0, 52.5, 54.5, 64.5, 67.5, 71.0, 72.5, 72.0, 74.5, 75.0, 84.5, 91.0}\n",
      "shared:\n",
      "{8.0, 10.0, 12.0, 13.0, 14.0, 15.0, 16.0, 17.0, 18.0, 19.0, 20.0, 21.0, 22.0, 25.0, 30.0, 31.0, 32.0, 34.0, 37.0, 38.0, 39.0, 40.0, 41.0, 42.0, 43.0, 44.0, 45.0, 46.0, 47.5, 47.0, 48.0, 50.0, 51.0, 52.0, 53.0, 54.0, 55.0, 56.0, 57.5, 58.0, 57.0, 60.0, 59.0, 61.0, 62.0, 63.0, 64.0, 65.0, 66.0, 67.0, 68.0, 69.0, 62.5, 73.0, 74.0, 78.0, 81.0}\n",
      "\n",
      "\n",
      "cell_or_nuclei\n",
      "only in ATAC:\n",
      "set()\n",
      "only in RNA:\n",
      "set()\n",
      "shared:\n",
      "{'Nuclei'}\n",
      "\n",
      "\n",
      "technology\n",
      "only in ATAC:\n",
      "{'10X_ATAC', nan}\n",
      "only in RNA:\n",
      "{'Dropseq', '3prime-v3', 'Multiome-v1', '5prime-v1', '3prime-v2', '3prime-v1'}\n",
      "shared:\n",
      "set()\n",
      "\n",
      "\n",
      "age_status\n",
      "only in ATAC:\n",
      "{'Fetal', 'Postnatal'}\n",
      "only in RNA:\n",
      "{'postnatal', 'fetal'}\n",
      "shared:\n",
      "set()\n",
      "\n",
      "\n",
      "decade\n",
      "only in ATAC:\n",
      "set()\n",
      "only in RNA:\n",
      "{9.0}\n",
      "shared:\n",
      "{0.0, 1.0, 2.0, 3.0, 4.0, 5.0, 6.0, 7.0, 8.0}\n",
      "\n",
      "\n"
     ]
    }
   ],
   "source": [
    "for metadata_col in shared_metadata_columns:\n",
    "    if not metadata_col in [\"barcode\", \"cell_type\", \"sample_id\", \"donor_id\"]:\n",
    "        print(metadata_col)\n",
    "        \n",
    "        print(\"only in ATAC:\")\n",
    "        print(set(ATAC_adata.obs[metadata_col]) - set(RNA_adata.obs[metadata_col]))\n",
    "        \n",
    "        print(\"only in RNA:\")\n",
    "        print(set(RNA_adata.obs[metadata_col]) - set(ATAC_adata.obs[metadata_col]))\n",
    "        \n",
    "        print(\"shared:\") \n",
    "        print(set(RNA_adata.obs[metadata_col]) & set(ATAC_adata.obs[metadata_col]))\n",
    "        \n",
    "        print(\"\\n\")"
   ]
  },
  {
   "cell_type": "markdown",
   "id": "7aedc476-2534-414d-a2a3-d2c9466ca194",
   "metadata": {},
   "source": [
    "### Make the metadata consistent\n",
    "\n",
    "- age_status: make Postnatal and Fetal in ATAC lowercase\n",
    "- technology, tech_plus_study: investigate why some of them are nan and fix this"
   ]
  },
  {
   "cell_type": "code",
   "execution_count": 18,
   "id": "96c3cbdc-ce9c-446d-99ec-34f1eccaf5ba",
   "metadata": {},
   "outputs": [
    {
     "name": "stdout",
     "output_type": "stream",
     "text": [
      "CPU times: user 12 ms, sys: 60 μs, total: 12.1 ms\n",
      "Wall time: 10.8 ms\n"
     ]
    }
   ],
   "source": [
    "%%time\n",
    "\n",
    "# make age status lowercase\n",
    "ATAC_adata.obs['age_status'] = ATAC_adata.obs['age_status'].str.lower()"
   ]
  },
  {
   "cell_type": "code",
   "execution_count": 19,
   "id": "bdbfaa36-5048-400a-8522-e5fd3b220611",
   "metadata": {},
   "outputs": [
    {
     "data": {
      "text/plain": [
       "Counter({'ENCODE v4 (Snyder)': 494790,\n",
       "         'Penn': 117876,\n",
       "         'Kuppe 2022': 34319,\n",
       "         'Kanemaru 2023': 28952,\n",
       "         'Ameen 2022': 14107})"
      ]
     },
     "execution_count": 19,
     "metadata": {},
     "output_type": "execute_result"
    }
   ],
   "source": [
    "Counter(ATAC_adata.obs.study)"
   ]
  },
  {
   "cell_type": "code",
   "execution_count": 20,
   "id": "19cf188b-22bc-4cae-85c9-22b132edc6f3",
   "metadata": {},
   "outputs": [
    {
     "data": {
      "text/plain": [
       "Counter({nan: 572168, '10X_ATAC': 117876})"
      ]
     },
     "execution_count": 20,
     "metadata": {},
     "output_type": "execute_result"
    }
   ],
   "source": [
    "Counter(ATAC_adata.obs.technology)"
   ]
  },
  {
   "cell_type": "code",
   "execution_count": 21,
   "id": "3d4a9f83-c3ea-46ab-9123-a3a34e4b62d2",
   "metadata": {},
   "outputs": [],
   "source": [
    "# reassign the technology based on the studies\n",
    "ATAC_adata.obs['technology'] = ATAC_adata.obs['study'].map(\n",
    "    {\n",
    "        \"ENCODE v4 (Snyder)\": \"Multiome-v1\", \n",
    "        \"Penn\": \"10X_ATAC\",\n",
    "        \"Kuppe 2022\": \"10X_ATAC\",\n",
    "        \"Kanemaru 2023\": \"Multiome-v1\",\n",
    "        \"Ameen 2022\": \"10X_ATAC\"\n",
    "    }\n",
    ")"
   ]
  },
  {
   "cell_type": "code",
   "execution_count": 22,
   "id": "78f4ad52-8632-4dff-a80d-c7ce9d91162d",
   "metadata": {},
   "outputs": [
    {
     "data": {
      "text/plain": [
       "Counter({'Multiome-v1': 523742, '10X_ATAC': 166302})"
      ]
     },
     "execution_count": 22,
     "metadata": {},
     "output_type": "execute_result"
    }
   ],
   "source": [
    "Counter(ATAC_adata.obs.technology)"
   ]
  },
  {
   "cell_type": "code",
   "execution_count": 23,
   "id": "fa613830-982f-4366-8ec6-e6c561f6945b",
   "metadata": {},
   "outputs": [],
   "source": [
    "ATAC_adata.obs['tech_plus_study'] = ATAC_adata.obs['technology'].astype(str) + \"_\" + ATAC_adata.obs['study'].astype(str)"
   ]
  },
  {
   "cell_type": "markdown",
   "id": "51cc17d0-b0de-44c6-9c84-e72f78f341fa",
   "metadata": {},
   "source": [
    "### Recheck the consistency of the metadata"
   ]
  },
  {
   "cell_type": "code",
   "execution_count": 24,
   "id": "a05bd3f4-4fca-443c-b752-947bf6e02e1e",
   "metadata": {},
   "outputs": [],
   "source": [
    "shared_metadata_columns = list( set(RNA_metadata_columns) & set(ATAC_metadata_columns) )"
   ]
  },
  {
   "cell_type": "code",
   "execution_count": 25,
   "id": "aac53292-f26a-489e-8973-929c615e4325",
   "metadata": {},
   "outputs": [
    {
     "name": "stdout",
     "output_type": "stream",
     "text": [
      "tech_plus_study\n",
      "only in ATAC:\n",
      "{'10X_ATAC_Ameen 2022', '10X_ATAC_Penn', '10X_ATAC_Kuppe 2022'}\n",
      "only in RNA:\n",
      "{'3prime-v2_Litvinukova 2020', '3prime-v3_Simonson 2023', '3prime-v3_Kuppe 2022', '3prime-v3_Reichart 2022', '3prime-v3_Hill 2022', '3prime-v3_Chaffin 2022', '3prime-v1_Sim 2021', '5prime-v1_Koenig 2022', '3prime-v3_Litvinukova 2020', 'Dropseq_Penn'}\n",
      "shared:\n",
      "{'Multiome-v1_Kanemaru 2023', 'Multiome-v1_ENCODE v4 (Snyder)'}\n",
      "\n",
      "\n",
      "disease\n",
      "only in ATAC:\n",
      "set()\n",
      "only in RNA:\n",
      "{'NCCM', 'DCM', 'ICM', 'HCM', 'ARVC', 'pediatric HF'}\n",
      "shared:\n",
      "{'ND', 'AMI'}\n",
      "\n",
      "\n",
      "final_cell_type\n",
      "only in ATAC:\n",
      "set()\n",
      "only in RNA:\n",
      "{'Endocardial', 'LEC'}\n",
      "shared:\n",
      "{'Pericyte', 'Fibroblast', 'Mast', 'Neuronal', 'Cardiomyocyte', 'vSMC', 'Epicardial', 'Endothelial', 'Adipocyte', 'Myeloid', 'Lymphoid'}\n",
      "\n",
      "\n",
      "study\n",
      "only in ATAC:\n",
      "{'Ameen 2022'}\n",
      "only in RNA:\n",
      "{'Sim 2021', 'Simonson 2023', 'Koenig 2022', 'Reichart 2022', 'Chaffin 2022', 'Hill 2022', 'Litvinukova 2020'}\n",
      "shared:\n",
      "{'Penn', 'Kanemaru 2023', 'ENCODE v4 (Snyder)', 'Kuppe 2022'}\n",
      "\n",
      "\n",
      "region\n",
      "only in ATAC:\n",
      "{'IZ/BZ', 'RZ/BZ', 'FZ/GT', 'IZ', 'GT/IZ', 'FZ', 'RZ'}\n",
      "only in RNA:\n",
      "{'Atria'}\n",
      "shared:\n",
      "{'LRV', 'OFT', 'LV', 'WH'}\n",
      "\n",
      "\n",
      "sex\n",
      "only in ATAC:\n",
      "set()\n",
      "only in RNA:\n",
      "set()\n",
      "shared:\n",
      "{'female', 'male'}\n",
      "\n",
      "\n",
      "disease_binary\n",
      "only in ATAC:\n",
      "set()\n",
      "only in RNA:\n",
      "set()\n",
      "shared:\n",
      "{'N', 'Y'}\n",
      "\n",
      "\n",
      "age_group\n",
      "only in ATAC:\n",
      "set()\n",
      "only in RNA:\n",
      "set()\n",
      "shared:\n",
      "{'old', 'young', 'middle', 'fetal'}\n",
      "\n",
      "\n",
      "age\n",
      "only in ATAC:\n",
      "{6.0}\n",
      "only in RNA:\n",
      "{0.0, 3.0, 4.5, 4.0, 9.0, 11.0, 14.5, 24.5, 27.0, 29.0, 33.0, 34.5, 35.0, 42.5, 44.5, 49.0, 52.5, 54.5, 64.5, 67.5, 71.0, 72.5, 72.0, 74.5, 75.0, 84.5, 91.0}\n",
      "shared:\n",
      "{8.0, 10.0, 12.0, 13.0, 14.0, 15.0, 16.0, 17.0, 18.0, 19.0, 20.0, 21.0, 22.0, 25.0, 30.0, 31.0, 32.0, 34.0, 37.0, 38.0, 39.0, 40.0, 41.0, 42.0, 43.0, 44.0, 45.0, 46.0, 47.5, 47.0, 48.0, 50.0, 51.0, 52.0, 53.0, 54.0, 55.0, 56.0, 57.5, 58.0, 57.0, 60.0, 59.0, 61.0, 62.0, 63.0, 64.0, 65.0, 66.0, 67.0, 68.0, 69.0, 62.5, 73.0, 74.0, 78.0, 81.0}\n",
      "\n",
      "\n",
      "cell_or_nuclei\n",
      "only in ATAC:\n",
      "set()\n",
      "only in RNA:\n",
      "set()\n",
      "shared:\n",
      "{'Nuclei'}\n",
      "\n",
      "\n",
      "technology\n",
      "only in ATAC:\n",
      "{'10X_ATAC'}\n",
      "only in RNA:\n",
      "{'Dropseq', '3prime-v3', '5prime-v1', '3prime-v2', '3prime-v1'}\n",
      "shared:\n",
      "{'Multiome-v1'}\n",
      "\n",
      "\n",
      "age_status\n",
      "only in ATAC:\n",
      "set()\n",
      "only in RNA:\n",
      "set()\n",
      "shared:\n",
      "{'postnatal', 'fetal'}\n",
      "\n",
      "\n",
      "decade\n",
      "only in ATAC:\n",
      "set()\n",
      "only in RNA:\n",
      "{9.0}\n",
      "shared:\n",
      "{0.0, 1.0, 2.0, 3.0, 4.0, 5.0, 6.0, 7.0, 8.0}\n",
      "\n",
      "\n"
     ]
    }
   ],
   "source": [
    "for metadata_col in shared_metadata_columns:\n",
    "    if not metadata_col in [\"barcode\", \"cell_type\", \"sample_id\", \"donor_id\"]:\n",
    "        print(metadata_col)\n",
    "        \n",
    "        print(\"only in ATAC:\")\n",
    "        print(set(ATAC_adata.obs[metadata_col]) - set(RNA_adata.obs[metadata_col]))\n",
    "        \n",
    "        print(\"only in RNA:\")\n",
    "        print(set(RNA_adata.obs[metadata_col]) - set(ATAC_adata.obs[metadata_col]))\n",
    "        \n",
    "        print(\"shared:\") \n",
    "        print(set(RNA_adata.obs[metadata_col]) & set(ATAC_adata.obs[metadata_col]))\n",
    "        \n",
    "        print(\"\\n\")"
   ]
  },
  {
   "cell_type": "markdown",
   "id": "ee9bdf6e-d0ea-410c-92d2-8f5c8126add1",
   "metadata": {},
   "source": [
    "### Now that the metadata is consistent with the RNA adata, save this final ATAC adata"
   ]
  },
  {
   "cell_type": "code",
   "execution_count": 26,
   "id": "37f6f9fd-e781-4d82-902a-021ad70adc0d",
   "metadata": {},
   "outputs": [
    {
     "data": {
      "text/plain": [
       "AnnData object with n_obs × n_vars = 690044 × 654221\n",
       "    obs: 'ATAC_barcode', 'sample_id', 'leiden', 'donor_id', 'study', 'age_status', 'age', 'sex', 'region', 'disease_binary', 'technology', 'fragment_file', 'full_path', 'file', 'nfrag', 'tsse', 'cell_type', 'tech_plus_study', 'age_group', 'decade', 'final_cell_type', 'cell_or_nuclei', 'disease'\n",
       "    var: 'count', 'selected'\n",
       "    uns: 'age_status_colors', 'cell_type_colors', 'leiden', 'leiden_colors', 'neighbors', 'spectral_eigenvalue', 'study_colors'\n",
       "    obsm: 'X_spectral', 'X_spectral_harmony', 'X_umap'\n",
       "    obsp: 'connectivities', 'distances'"
      ]
     },
     "execution_count": 26,
     "metadata": {},
     "output_type": "execute_result"
    }
   ],
   "source": [
    "ATAC_adata"
   ]
  },
  {
   "cell_type": "code",
   "execution_count": null,
   "id": "e815afdd-b635-4926-b506-c996341ee658",
   "metadata": {},
   "outputs": [
    {
     "name": "stderr",
     "output_type": "stream",
     "text": [
      "... storing 'age_status' as categorical\n",
      "... storing 'technology' as categorical\n",
      "... storing 'tech_plus_study' as categorical\n",
      "... storing 'age_group' as categorical\n",
      "... storing 'cell_or_nuclei' as categorical\n",
      "... storing 'disease' as categorical\n"
     ]
    }
   ],
   "source": [
    "%%time\n",
    "ATAC_adata.write(\"07_final_ATAC.h5ad\")"
   ]
  }
 ],
 "metadata": {
  "kernelspec": {
   "display_name": "Python 3 (ipykernel)",
   "language": "python",
   "name": "python3"
  },
  "language_info": {
   "codemirror_mode": {
    "name": "ipython",
    "version": 3
   },
   "file_extension": ".py",
   "mimetype": "text/x-python",
   "name": "python",
   "nbconvert_exporter": "python",
   "pygments_lexer": "ipython3",
   "version": "3.12.5"
  }
 },
 "nbformat": 4,
 "nbformat_minor": 5
}

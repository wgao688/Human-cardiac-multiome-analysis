{
 "cells": [
  {
   "cell_type": "code",
   "execution_count": 1,
   "id": "30894c82-280e-44ce-9426-088e4f1433f6",
   "metadata": {},
   "outputs": [
    {
     "name": "stderr",
     "output_type": "stream",
     "text": [
      "\n",
      "                                                   / |\n",
      "                                                 /    \\\n",
      "            .                                  /      |.\n",
      "            \\\\\\                              /        |.\n",
      "              \\\\\\                          /           `|.\n",
      "                \\\\\\                      /              |.\n",
      "                  \\                    /                |\\\n",
      "                  \\\\#####\\           /                  ||\n",
      "                ==###########>      /                   ||\n",
      "                 \\\\##==......\\    /                     ||\n",
      "            ______ =       =|__ /__                     ||      \\\\\\\n",
      "        ,--' ,----`-,__ ___/'  --,-`-===================##========>\n",
      "       \\               '        ##_______ _____ ,--,__,=##,__   ///\n",
      "        ,    __==    ___,-,__,--'#'  ==='      `-'    | ##,-/\n",
      "        -,____,---'       \\\\####\\\\________________,--\\\\_##,/\n",
      "           ___      .______        ______  __    __  .______      \n",
      "          /   \\     |   _  \\      /      ||  |  |  | |   _  \\     \n",
      "         /  ^  \\    |  |_)  |    |  ,----'|  |__|  | |  |_)  |    \n",
      "        /  /_\\  \\   |      /     |  |     |   __   | |      /     \n",
      "       /  _____  \\  |  |\\  \\\\___ |  `----.|  |  |  | |  |\\  \\\\___.\n",
      "      /__/     \\__\\ | _| `._____| \\______||__|  |__| | _| `._____|\n",
      "    \n",
      "\n",
      "ArchR : Version 1.0.2\n",
      "For more information see our website : www.ArchRProject.com\n",
      "If you encounter a bug please report : https://github.com/GreenleafLab/ArchR/issues\n",
      "\n",
      "Loading Required Packages...\n",
      "\n",
      "\tLoading Package : grid v4.4.1\n",
      "\n",
      "\tLoading Package : gridExtra v2.3\n",
      "\n",
      "\tLoading Package : gtools v3.9.5\n",
      "\n",
      "\tLoading Package : gtable v0.3.6\n",
      "\n",
      "\tLoading Package : ggplot2 v3.5.1\n",
      "\n",
      "\tLoading Package : magrittr v2.0.3\n",
      "\n",
      "\tLoading Package : plyr v1.8.9\n",
      "\n",
      "\tLoading Package : stringr v1.5.1\n",
      "\n",
      "\tLoading Package : data.table v1.16.4\n",
      "\n",
      "\tLoading Package : matrixStats v1.5.0\n",
      "\n",
      "\tLoading Package : S4Vectors v0.42.1\n",
      "\n",
      "\tLoading Package : GenomicRanges v1.56.2\n",
      "\n",
      "\tLoading Package : BiocGenerics v0.50.0\n",
      "\n",
      "\tLoading Package : Matrix v1.7.1\n",
      "\n",
      "\tLoading Package : Rcpp v1.0.14\n",
      "\n",
      "Warning message:\n",
      "“package ‘Rcpp’ was built under R version 4.4.2”\n",
      "\tLoading Package : SummarizedExperiment v1.34.0\n",
      "\n",
      "\tLoading Package : rhdf5 v2.48.0\n",
      "\n",
      "Setting default number of Parallel threads to 32.\n",
      "\n",
      "Setting default genome to Hg38.\n",
      "\n"
     ]
    }
   ],
   "source": [
    "library(ArchR)\n",
    "library(\"unixtools\")\n",
    "set.tempdir(\"/mnt/data1/william/tmp\")\n",
    "addArchRThreads(threads = 32)\n",
    "addArchRGenome(\"hg38\")\n",
    "library(pheatmap)\n",
    "`%notin%` = Negate(`%in%`)"
   ]
  },
  {
   "cell_type": "code",
   "execution_count": 2,
   "id": "1a2f5078-dad2-4bf8-ae5b-43466efcafd3",
   "metadata": {},
   "outputs": [
    {
     "name": "stderr",
     "output_type": "stream",
     "text": [
      "Successfully loaded ArchRProject!\n",
      "\n"
     ]
    }
   ],
   "source": [
    "working_dir <- paste0(getwd(), \"/harmonized_ArchRproject\")\n",
    "proj3 <- loadArchRProject(path = working_dir,\n",
    "                          force = FALSE,\n",
    "                          showLogo = FALSE)"
   ]
  },
  {
   "cell_type": "code",
   "execution_count": 3,
   "id": "db49d4bf-910a-445d-904b-cfc0eab264e6",
   "metadata": {},
   "outputs": [
    {
     "data": {
      "text/html": [
       "<style>\n",
       ".list-inline {list-style: none; margin:0; padding: 0}\n",
       ".list-inline>li {display: inline-block}\n",
       ".list-inline>li:not(:last-child)::after {content: \"\\00b7\"; padding: 0 .5ex}\n",
       "</style>\n",
       "<ol class=list-inline><li>569502</li><li>15</li></ol>\n"
      ],
      "text/latex": [
       "\\begin{enumerate*}\n",
       "\\item 569502\n",
       "\\item 15\n",
       "\\end{enumerate*}\n"
      ],
      "text/markdown": [
       "1. 569502\n",
       "2. 15\n",
       "\n",
       "\n"
      ],
      "text/plain": [
       "[1] 569502     15"
      ]
     },
     "metadata": {},
     "output_type": "display_data"
    }
   ],
   "source": [
    "metadata <- getCellColData(proj3)\n",
    "dim(metadata)"
   ]
  },
  {
   "cell_type": "code",
   "execution_count": 4,
   "id": "de2994b3-adca-4d68-af29-3d4981dad623",
   "metadata": {},
   "outputs": [
    {
     "data": {
      "text/html": [
       "<style>\n",
       ".list-inline {list-style: none; margin:0; padding: 0}\n",
       ".list-inline>li {display: inline-block}\n",
       ".list-inline>li:not(:last-child)::after {content: \"\\00b7\"; padding: 0 .5ex}\n",
       "</style>\n",
       "<ol class=list-inline><li>'Sample'</li><li>'TSSEnrichment'</li><li>'ReadsInTSS'</li><li>'ReadsInPromoter'</li><li>'ReadsInBlacklist'</li><li>'PromoterRatio'</li><li>'PassQC'</li><li>'NucleosomeRatio'</li><li>'nMultiFrags'</li><li>'nMonoFrags'</li><li>'nFrags'</li><li>'nDiFrags'</li><li>'DoubletScore'</li><li>'DoubletEnrichment'</li><li>'BlacklistRatio'</li></ol>\n"
      ],
      "text/latex": [
       "\\begin{enumerate*}\n",
       "\\item 'Sample'\n",
       "\\item 'TSSEnrichment'\n",
       "\\item 'ReadsInTSS'\n",
       "\\item 'ReadsInPromoter'\n",
       "\\item 'ReadsInBlacklist'\n",
       "\\item 'PromoterRatio'\n",
       "\\item 'PassQC'\n",
       "\\item 'NucleosomeRatio'\n",
       "\\item 'nMultiFrags'\n",
       "\\item 'nMonoFrags'\n",
       "\\item 'nFrags'\n",
       "\\item 'nDiFrags'\n",
       "\\item 'DoubletScore'\n",
       "\\item 'DoubletEnrichment'\n",
       "\\item 'BlacklistRatio'\n",
       "\\end{enumerate*}\n"
      ],
      "text/markdown": [
       "1. 'Sample'\n",
       "2. 'TSSEnrichment'\n",
       "3. 'ReadsInTSS'\n",
       "4. 'ReadsInPromoter'\n",
       "5. 'ReadsInBlacklist'\n",
       "6. 'PromoterRatio'\n",
       "7. 'PassQC'\n",
       "8. 'NucleosomeRatio'\n",
       "9. 'nMultiFrags'\n",
       "10. 'nMonoFrags'\n",
       "11. 'nFrags'\n",
       "12. 'nDiFrags'\n",
       "13. 'DoubletScore'\n",
       "14. 'DoubletEnrichment'\n",
       "15. 'BlacklistRatio'\n",
       "\n",
       "\n"
      ],
      "text/plain": [
       " [1] \"Sample\"            \"TSSEnrichment\"     \"ReadsInTSS\"       \n",
       " [4] \"ReadsInPromoter\"   \"ReadsInBlacklist\"  \"PromoterRatio\"    \n",
       " [7] \"PassQC\"            \"NucleosomeRatio\"   \"nMultiFrags\"      \n",
       "[10] \"nMonoFrags\"        \"nFrags\"            \"nDiFrags\"         \n",
       "[13] \"DoubletScore\"      \"DoubletEnrichment\" \"BlacklistRatio\"   "
      ]
     },
     "metadata": {},
     "output_type": "display_data"
    }
   ],
   "source": [
    "colnames(metadata)"
   ]
  },
  {
   "cell_type": "code",
   "execution_count": 5,
   "id": "5955da26-ae21-4eed-896a-242793eb4fd1",
   "metadata": {},
   "outputs": [],
   "source": [
    "metadata$ATAC_barcode <- sub(\".*#\", \"\", rownames(metadata))"
   ]
  },
  {
   "cell_type": "code",
   "execution_count": 6,
   "id": "b85ed258-0acc-43fe-b581-e90f9848967f",
   "metadata": {},
   "outputs": [
    {
     "data": {
      "text/html": [
       "<style>\n",
       ".list-inline {list-style: none; margin:0; padding: 0}\n",
       ".list-inline>li {display: inline-block}\n",
       ".list-inline>li:not(:last-child)::after {content: \"\\00b7\"; padding: 0 .5ex}\n",
       "</style>\n",
       "<ol class=list-inline><li>'ENCSR803QTN:TGGGTTAAGACAACGC'</li><li>'ENCSR803QTN:ATCCTGCAGGTTACAA'</li><li>'ENCSR803QTN:AACTGGTCATACAACC'</li><li>'ENCSR803QTN:GGAATCTAGGTCGGTA'</li><li>'ENCSR803QTN:GGGAACAAGATCTAAG'</li><li>'ENCSR803QTN:CAACGGCTCGAGCGCT'</li></ol>\n"
      ],
      "text/latex": [
       "\\begin{enumerate*}\n",
       "\\item 'ENCSR803QTN:TGGGTTAAGACAACGC'\n",
       "\\item 'ENCSR803QTN:ATCCTGCAGGTTACAA'\n",
       "\\item 'ENCSR803QTN:AACTGGTCATACAACC'\n",
       "\\item 'ENCSR803QTN:GGAATCTAGGTCGGTA'\n",
       "\\item 'ENCSR803QTN:GGGAACAAGATCTAAG'\n",
       "\\item 'ENCSR803QTN:CAACGGCTCGAGCGCT'\n",
       "\\end{enumerate*}\n"
      ],
      "text/markdown": [
       "1. 'ENCSR803QTN:TGGGTTAAGACAACGC'\n",
       "2. 'ENCSR803QTN:ATCCTGCAGGTTACAA'\n",
       "3. 'ENCSR803QTN:AACTGGTCATACAACC'\n",
       "4. 'ENCSR803QTN:GGAATCTAGGTCGGTA'\n",
       "5. 'ENCSR803QTN:GGGAACAAGATCTAAG'\n",
       "6. 'ENCSR803QTN:CAACGGCTCGAGCGCT'\n",
       "\n",
       "\n"
      ],
      "text/plain": [
       "[1] \"ENCSR803QTN:TGGGTTAAGACAACGC\" \"ENCSR803QTN:ATCCTGCAGGTTACAA\"\n",
       "[3] \"ENCSR803QTN:AACTGGTCATACAACC\" \"ENCSR803QTN:GGAATCTAGGTCGGTA\"\n",
       "[5] \"ENCSR803QTN:GGGAACAAGATCTAAG\" \"ENCSR803QTN:CAACGGCTCGAGCGCT\""
      ]
     },
     "metadata": {},
     "output_type": "display_data"
    }
   ],
   "source": [
    "metadata$ATAC_barcode %>% head()"
   ]
  },
  {
   "cell_type": "markdown",
   "id": "eca20aa0-d54a-458a-95e3-c0069cb7234e",
   "metadata": {},
   "source": [
    "### Transfer the annotation from SnapATAC2"
   ]
  },
  {
   "cell_type": "code",
   "execution_count": 7,
   "id": "d803bcf9-26b0-4dbe-a9e8-69df8679881e",
   "metadata": {},
   "outputs": [],
   "source": [
    "SnapATAC_metadata <- read.csv(\"../../metadata_plots/01_ATAC_cell_level_metadata.csv\")"
   ]
  },
  {
   "cell_type": "code",
   "execution_count": 8,
   "id": "238b3d97-b39f-4611-877c-3be9828f15ca",
   "metadata": {},
   "outputs": [
    {
     "data": {
      "text/html": [
       "569502"
      ],
      "text/latex": [
       "569502"
      ],
      "text/markdown": [
       "569502"
      ],
      "text/plain": [
       "[1] 569502"
      ]
     },
     "metadata": {},
     "output_type": "display_data"
    }
   ],
   "source": [
    "intersecting_barcodes <- intersect(metadata$ATAC_barcode, SnapATAC_metadata$ATAC_barcode)\n",
    "length(intersecting_barcodes)"
   ]
  },
  {
   "cell_type": "code",
   "execution_count": 9,
   "id": "a32f029f-9bd4-4217-951a-4c6ea149e074",
   "metadata": {},
   "outputs": [
    {
     "data": {
      "text/html": [
       "<table class=\"dataframe\">\n",
       "<caption>A data.frame: 6 × 24</caption>\n",
       "<thead>\n",
       "\t<tr><th></th><th scope=col>X</th><th scope=col>ATAC_barcode</th><th scope=col>sample_id</th><th scope=col>leiden</th><th scope=col>donor_id</th><th scope=col>study</th><th scope=col>age_status</th><th scope=col>age</th><th scope=col>sex</th><th scope=col>region</th><th scope=col>⋯</th><th scope=col>file</th><th scope=col>nfrag</th><th scope=col>tsse</th><th scope=col>cell_type</th><th scope=col>tech_plus_study</th><th scope=col>age_group</th><th scope=col>decade</th><th scope=col>final_cell_type</th><th scope=col>cell_or_nuclei</th><th scope=col>disease</th></tr>\n",
       "\t<tr><th></th><th scope=col>&lt;chr&gt;</th><th scope=col>&lt;chr&gt;</th><th scope=col>&lt;chr&gt;</th><th scope=col>&lt;int&gt;</th><th scope=col>&lt;chr&gt;</th><th scope=col>&lt;chr&gt;</th><th scope=col>&lt;chr&gt;</th><th scope=col>&lt;dbl&gt;</th><th scope=col>&lt;chr&gt;</th><th scope=col>&lt;chr&gt;</th><th scope=col>⋯</th><th scope=col>&lt;chr&gt;</th><th scope=col>&lt;int&gt;</th><th scope=col>&lt;int&gt;</th><th scope=col>&lt;chr&gt;</th><th scope=col>&lt;chr&gt;</th><th scope=col>&lt;chr&gt;</th><th scope=col>&lt;dbl&gt;</th><th scope=col>&lt;chr&gt;</th><th scope=col>&lt;chr&gt;</th><th scope=col>&lt;chr&gt;</th></tr>\n",
       "</thead>\n",
       "<tbody>\n",
       "\t<tr><th scope=row>1</th><td>ENCSR556UHL:AAAGGATTCATTCTCA</td><td>ENCSR556UHL:AAAGGATTCATTCTCA</td><td>ENCSR556UHL</td><td>0</td><td>ENCODE v4 (Snyder):ENCSR556UHL</td><td>ENCODE v4 (Snyder)</td><td>postnatal</td><td>61</td><td>male</td><td>LV</td><td>⋯</td><td>ENCSR556UHL_pre_trimmed_tsse_v_nfrags.png</td><td>2000</td><td>5</td><td>Adipocyte</td><td>Multiome-v1_ENCODE v4 (Snyder)</td><td>old</td><td>6</td><td>Adipocyte</td><td>Nuclei</td><td>ND</td></tr>\n",
       "\t<tr><th scope=row>2</th><td>ENCSR556UHL:GTAATCGCATTACCTT</td><td>ENCSR556UHL:GTAATCGCATTACCTT</td><td>ENCSR556UHL</td><td>0</td><td>ENCODE v4 (Snyder):ENCSR556UHL</td><td>ENCODE v4 (Snyder)</td><td>postnatal</td><td>61</td><td>male</td><td>LV</td><td>⋯</td><td>ENCSR556UHL_pre_trimmed_tsse_v_nfrags.png</td><td>2000</td><td>5</td><td>Adipocyte</td><td>Multiome-v1_ENCODE v4 (Snyder)</td><td>old</td><td>6</td><td>Adipocyte</td><td>Nuclei</td><td>ND</td></tr>\n",
       "\t<tr><th scope=row>3</th><td>ENCSR556UHL:TACGGATAGGAGACTC</td><td>ENCSR556UHL:TACGGATAGGAGACTC</td><td>ENCSR556UHL</td><td>0</td><td>ENCODE v4 (Snyder):ENCSR556UHL</td><td>ENCODE v4 (Snyder)</td><td>postnatal</td><td>61</td><td>male</td><td>LV</td><td>⋯</td><td>ENCSR556UHL_pre_trimmed_tsse_v_nfrags.png</td><td>2000</td><td>5</td><td>Adipocyte</td><td>Multiome-v1_ENCODE v4 (Snyder)</td><td>old</td><td>6</td><td>Adipocyte</td><td>Nuclei</td><td>ND</td></tr>\n",
       "\t<tr><th scope=row>4</th><td>ENCSR556UHL:TCAAGACTCACGTGTA</td><td>ENCSR556UHL:TCAAGACTCACGTGTA</td><td>ENCSR556UHL</td><td>0</td><td>ENCODE v4 (Snyder):ENCSR556UHL</td><td>ENCODE v4 (Snyder)</td><td>postnatal</td><td>61</td><td>male</td><td>LV</td><td>⋯</td><td>ENCSR556UHL_pre_trimmed_tsse_v_nfrags.png</td><td>2000</td><td>5</td><td>Adipocyte</td><td>Multiome-v1_ENCODE v4 (Snyder)</td><td>old</td><td>6</td><td>Adipocyte</td><td>Nuclei</td><td>ND</td></tr>\n",
       "\t<tr><th scope=row>5</th><td>ENCSR913OAS:AAACTCGAGCGAATAT</td><td>ENCSR913OAS:AAACTCGAGCGAATAT</td><td>ENCSR913OAS</td><td>0</td><td>ENCODE v4 (Snyder):ENCSR913OAS</td><td>ENCODE v4 (Snyder)</td><td>postnatal</td><td>66</td><td>male</td><td>LV</td><td>⋯</td><td>ENCSR913OAS_pre_trimmed_tsse_v_nfrags.png</td><td>2000</td><td>5</td><td>Adipocyte</td><td>Multiome-v1_ENCODE v4 (Snyder)</td><td>old</td><td>6</td><td>Adipocyte</td><td>Nuclei</td><td>ND</td></tr>\n",
       "\t<tr><th scope=row>6</th><td>ENCSR913OAS:AAACTCGGTGGACCAA</td><td>ENCSR913OAS:AAACTCGGTGGACCAA</td><td>ENCSR913OAS</td><td>0</td><td>ENCODE v4 (Snyder):ENCSR913OAS</td><td>ENCODE v4 (Snyder)</td><td>postnatal</td><td>66</td><td>male</td><td>LV</td><td>⋯</td><td>ENCSR913OAS_pre_trimmed_tsse_v_nfrags.png</td><td>2000</td><td>5</td><td>Adipocyte</td><td>Multiome-v1_ENCODE v4 (Snyder)</td><td>old</td><td>6</td><td>Adipocyte</td><td>Nuclei</td><td>ND</td></tr>\n",
       "</tbody>\n",
       "</table>\n"
      ],
      "text/latex": [
       "A data.frame: 6 × 24\n",
       "\\begin{tabular}{r|lllllllllllllllllllll}\n",
       "  & X & ATAC\\_barcode & sample\\_id & leiden & donor\\_id & study & age\\_status & age & sex & region & ⋯ & file & nfrag & tsse & cell\\_type & tech\\_plus\\_study & age\\_group & decade & final\\_cell\\_type & cell\\_or\\_nuclei & disease\\\\\n",
       "  & <chr> & <chr> & <chr> & <int> & <chr> & <chr> & <chr> & <dbl> & <chr> & <chr> & ⋯ & <chr> & <int> & <int> & <chr> & <chr> & <chr> & <dbl> & <chr> & <chr> & <chr>\\\\\n",
       "\\hline\n",
       "\t1 & ENCSR556UHL:AAAGGATTCATTCTCA & ENCSR556UHL:AAAGGATTCATTCTCA & ENCSR556UHL & 0 & ENCODE v4 (Snyder):ENCSR556UHL & ENCODE v4 (Snyder) & postnatal & 61 & male & LV & ⋯ & ENCSR556UHL\\_pre\\_trimmed\\_tsse\\_v\\_nfrags.png & 2000 & 5 & Adipocyte & Multiome-v1\\_ENCODE v4 (Snyder) & old & 6 & Adipocyte & Nuclei & ND\\\\\n",
       "\t2 & ENCSR556UHL:GTAATCGCATTACCTT & ENCSR556UHL:GTAATCGCATTACCTT & ENCSR556UHL & 0 & ENCODE v4 (Snyder):ENCSR556UHL & ENCODE v4 (Snyder) & postnatal & 61 & male & LV & ⋯ & ENCSR556UHL\\_pre\\_trimmed\\_tsse\\_v\\_nfrags.png & 2000 & 5 & Adipocyte & Multiome-v1\\_ENCODE v4 (Snyder) & old & 6 & Adipocyte & Nuclei & ND\\\\\n",
       "\t3 & ENCSR556UHL:TACGGATAGGAGACTC & ENCSR556UHL:TACGGATAGGAGACTC & ENCSR556UHL & 0 & ENCODE v4 (Snyder):ENCSR556UHL & ENCODE v4 (Snyder) & postnatal & 61 & male & LV & ⋯ & ENCSR556UHL\\_pre\\_trimmed\\_tsse\\_v\\_nfrags.png & 2000 & 5 & Adipocyte & Multiome-v1\\_ENCODE v4 (Snyder) & old & 6 & Adipocyte & Nuclei & ND\\\\\n",
       "\t4 & ENCSR556UHL:TCAAGACTCACGTGTA & ENCSR556UHL:TCAAGACTCACGTGTA & ENCSR556UHL & 0 & ENCODE v4 (Snyder):ENCSR556UHL & ENCODE v4 (Snyder) & postnatal & 61 & male & LV & ⋯ & ENCSR556UHL\\_pre\\_trimmed\\_tsse\\_v\\_nfrags.png & 2000 & 5 & Adipocyte & Multiome-v1\\_ENCODE v4 (Snyder) & old & 6 & Adipocyte & Nuclei & ND\\\\\n",
       "\t5 & ENCSR913OAS:AAACTCGAGCGAATAT & ENCSR913OAS:AAACTCGAGCGAATAT & ENCSR913OAS & 0 & ENCODE v4 (Snyder):ENCSR913OAS & ENCODE v4 (Snyder) & postnatal & 66 & male & LV & ⋯ & ENCSR913OAS\\_pre\\_trimmed\\_tsse\\_v\\_nfrags.png & 2000 & 5 & Adipocyte & Multiome-v1\\_ENCODE v4 (Snyder) & old & 6 & Adipocyte & Nuclei & ND\\\\\n",
       "\t6 & ENCSR913OAS:AAACTCGGTGGACCAA & ENCSR913OAS:AAACTCGGTGGACCAA & ENCSR913OAS & 0 & ENCODE v4 (Snyder):ENCSR913OAS & ENCODE v4 (Snyder) & postnatal & 66 & male & LV & ⋯ & ENCSR913OAS\\_pre\\_trimmed\\_tsse\\_v\\_nfrags.png & 2000 & 5 & Adipocyte & Multiome-v1\\_ENCODE v4 (Snyder) & old & 6 & Adipocyte & Nuclei & ND\\\\\n",
       "\\end{tabular}\n"
      ],
      "text/markdown": [
       "\n",
       "A data.frame: 6 × 24\n",
       "\n",
       "| <!--/--> | X &lt;chr&gt; | ATAC_barcode &lt;chr&gt; | sample_id &lt;chr&gt; | leiden &lt;int&gt; | donor_id &lt;chr&gt; | study &lt;chr&gt; | age_status &lt;chr&gt; | age &lt;dbl&gt; | sex &lt;chr&gt; | region &lt;chr&gt; | ⋯ ⋯ | file &lt;chr&gt; | nfrag &lt;int&gt; | tsse &lt;int&gt; | cell_type &lt;chr&gt; | tech_plus_study &lt;chr&gt; | age_group &lt;chr&gt; | decade &lt;dbl&gt; | final_cell_type &lt;chr&gt; | cell_or_nuclei &lt;chr&gt; | disease &lt;chr&gt; |\n",
       "|---|---|---|---|---|---|---|---|---|---|---|---|---|---|---|---|---|---|---|---|---|---|\n",
       "| 1 | ENCSR556UHL:AAAGGATTCATTCTCA | ENCSR556UHL:AAAGGATTCATTCTCA | ENCSR556UHL | 0 | ENCODE v4 (Snyder):ENCSR556UHL | ENCODE v4 (Snyder) | postnatal | 61 | male | LV | ⋯ | ENCSR556UHL_pre_trimmed_tsse_v_nfrags.png | 2000 | 5 | Adipocyte | Multiome-v1_ENCODE v4 (Snyder) | old | 6 | Adipocyte | Nuclei | ND |\n",
       "| 2 | ENCSR556UHL:GTAATCGCATTACCTT | ENCSR556UHL:GTAATCGCATTACCTT | ENCSR556UHL | 0 | ENCODE v4 (Snyder):ENCSR556UHL | ENCODE v4 (Snyder) | postnatal | 61 | male | LV | ⋯ | ENCSR556UHL_pre_trimmed_tsse_v_nfrags.png | 2000 | 5 | Adipocyte | Multiome-v1_ENCODE v4 (Snyder) | old | 6 | Adipocyte | Nuclei | ND |\n",
       "| 3 | ENCSR556UHL:TACGGATAGGAGACTC | ENCSR556UHL:TACGGATAGGAGACTC | ENCSR556UHL | 0 | ENCODE v4 (Snyder):ENCSR556UHL | ENCODE v4 (Snyder) | postnatal | 61 | male | LV | ⋯ | ENCSR556UHL_pre_trimmed_tsse_v_nfrags.png | 2000 | 5 | Adipocyte | Multiome-v1_ENCODE v4 (Snyder) | old | 6 | Adipocyte | Nuclei | ND |\n",
       "| 4 | ENCSR556UHL:TCAAGACTCACGTGTA | ENCSR556UHL:TCAAGACTCACGTGTA | ENCSR556UHL | 0 | ENCODE v4 (Snyder):ENCSR556UHL | ENCODE v4 (Snyder) | postnatal | 61 | male | LV | ⋯ | ENCSR556UHL_pre_trimmed_tsse_v_nfrags.png | 2000 | 5 | Adipocyte | Multiome-v1_ENCODE v4 (Snyder) | old | 6 | Adipocyte | Nuclei | ND |\n",
       "| 5 | ENCSR913OAS:AAACTCGAGCGAATAT | ENCSR913OAS:AAACTCGAGCGAATAT | ENCSR913OAS | 0 | ENCODE v4 (Snyder):ENCSR913OAS | ENCODE v4 (Snyder) | postnatal | 66 | male | LV | ⋯ | ENCSR913OAS_pre_trimmed_tsse_v_nfrags.png | 2000 | 5 | Adipocyte | Multiome-v1_ENCODE v4 (Snyder) | old | 6 | Adipocyte | Nuclei | ND |\n",
       "| 6 | ENCSR913OAS:AAACTCGGTGGACCAA | ENCSR913OAS:AAACTCGGTGGACCAA | ENCSR913OAS | 0 | ENCODE v4 (Snyder):ENCSR913OAS | ENCODE v4 (Snyder) | postnatal | 66 | male | LV | ⋯ | ENCSR913OAS_pre_trimmed_tsse_v_nfrags.png | 2000 | 5 | Adipocyte | Multiome-v1_ENCODE v4 (Snyder) | old | 6 | Adipocyte | Nuclei | ND |\n",
       "\n"
      ],
      "text/plain": [
       "  X                            ATAC_barcode                 sample_id   leiden\n",
       "1 ENCSR556UHL:AAAGGATTCATTCTCA ENCSR556UHL:AAAGGATTCATTCTCA ENCSR556UHL 0     \n",
       "2 ENCSR556UHL:GTAATCGCATTACCTT ENCSR556UHL:GTAATCGCATTACCTT ENCSR556UHL 0     \n",
       "3 ENCSR556UHL:TACGGATAGGAGACTC ENCSR556UHL:TACGGATAGGAGACTC ENCSR556UHL 0     \n",
       "4 ENCSR556UHL:TCAAGACTCACGTGTA ENCSR556UHL:TCAAGACTCACGTGTA ENCSR556UHL 0     \n",
       "5 ENCSR913OAS:AAACTCGAGCGAATAT ENCSR913OAS:AAACTCGAGCGAATAT ENCSR913OAS 0     \n",
       "6 ENCSR913OAS:AAACTCGGTGGACCAA ENCSR913OAS:AAACTCGGTGGACCAA ENCSR913OAS 0     \n",
       "  donor_id                       study              age_status age sex  region\n",
       "1 ENCODE v4 (Snyder):ENCSR556UHL ENCODE v4 (Snyder) postnatal  61  male LV    \n",
       "2 ENCODE v4 (Snyder):ENCSR556UHL ENCODE v4 (Snyder) postnatal  61  male LV    \n",
       "3 ENCODE v4 (Snyder):ENCSR556UHL ENCODE v4 (Snyder) postnatal  61  male LV    \n",
       "4 ENCODE v4 (Snyder):ENCSR556UHL ENCODE v4 (Snyder) postnatal  61  male LV    \n",
       "5 ENCODE v4 (Snyder):ENCSR913OAS ENCODE v4 (Snyder) postnatal  66  male LV    \n",
       "6 ENCODE v4 (Snyder):ENCSR913OAS ENCODE v4 (Snyder) postnatal  66  male LV    \n",
       "  ⋯ file                                      nfrag tsse cell_type\n",
       "1 ⋯ ENCSR556UHL_pre_trimmed_tsse_v_nfrags.png 2000  5    Adipocyte\n",
       "2 ⋯ ENCSR556UHL_pre_trimmed_tsse_v_nfrags.png 2000  5    Adipocyte\n",
       "3 ⋯ ENCSR556UHL_pre_trimmed_tsse_v_nfrags.png 2000  5    Adipocyte\n",
       "4 ⋯ ENCSR556UHL_pre_trimmed_tsse_v_nfrags.png 2000  5    Adipocyte\n",
       "5 ⋯ ENCSR913OAS_pre_trimmed_tsse_v_nfrags.png 2000  5    Adipocyte\n",
       "6 ⋯ ENCSR913OAS_pre_trimmed_tsse_v_nfrags.png 2000  5    Adipocyte\n",
       "  tech_plus_study                age_group decade final_cell_type\n",
       "1 Multiome-v1_ENCODE v4 (Snyder) old       6      Adipocyte      \n",
       "2 Multiome-v1_ENCODE v4 (Snyder) old       6      Adipocyte      \n",
       "3 Multiome-v1_ENCODE v4 (Snyder) old       6      Adipocyte      \n",
       "4 Multiome-v1_ENCODE v4 (Snyder) old       6      Adipocyte      \n",
       "5 Multiome-v1_ENCODE v4 (Snyder) old       6      Adipocyte      \n",
       "6 Multiome-v1_ENCODE v4 (Snyder) old       6      Adipocyte      \n",
       "  cell_or_nuclei disease\n",
       "1 Nuclei         ND     \n",
       "2 Nuclei         ND     \n",
       "3 Nuclei         ND     \n",
       "4 Nuclei         ND     \n",
       "5 Nuclei         ND     \n",
       "6 Nuclei         ND     "
      ]
     },
     "metadata": {},
     "output_type": "display_data"
    }
   ],
   "source": [
    "SnapATAC_metadata %>% head()"
   ]
  },
  {
   "cell_type": "code",
   "execution_count": 10,
   "id": "76315a0d-1e77-40e6-8c2e-f25a1d735b29",
   "metadata": {},
   "outputs": [],
   "source": [
    "filtered_SnapATAC_metadata <- SnapATAC_metadata[, c(\"final_cell_type\", \"ATAC_barcode\", \"sample_id\", \n",
    "                                                    \"donor_id\", \"study\", \"age_status\", \"disease\", \"cell_or_nuclei\",\n",
    "                                                   \"tech_plus_study\", \"sex\", \"age\")]"
   ]
  },
  {
   "cell_type": "code",
   "execution_count": 11,
   "id": "2776a9e6-2e9f-4c0b-93f4-ffb6c4ddea83",
   "metadata": {},
   "outputs": [],
   "source": [
    "updated_metadata <- metadata %>% merge(filtered_SnapATAC_metadata, on = c(\"final_cell_type\", \"ATAC_barcode\"),\n",
    "                                        all.x = TRUE,  sort = FALSE)\n",
    "\n",
    "updated_metadata <- updated_metadata[match(metadata$ATAC_barcode, updated_metadata$ATAC_barcode), ]"
   ]
  },
  {
   "cell_type": "code",
   "execution_count": 12,
   "id": "d83d71e8-e76d-4dfd-a5ee-504745993bac",
   "metadata": {},
   "outputs": [],
   "source": [
    "updated_metadata$cell_type <- updated_metadata$final_cell_type"
   ]
  },
  {
   "cell_type": "code",
   "execution_count": 13,
   "id": "337ff175-fa95-474d-84d7-cb4d834401e5",
   "metadata": {},
   "outputs": [],
   "source": [
    "proj3$cell_type <- updated_metadata$cell_type\n",
    "proj3$ATAC_barcode <-  updated_metadata$ATAC_barcode\n",
    "proj3$sample_id <-  updated_metadata$sample_id\n",
    "proj3$donor_id <-  updated_metadata$donor_id\n",
    "proj3$study <-  updated_metadata$study\n",
    "proj3$age_status <-  updated_metadata$age_status\n",
    "proj3$disease <-  updated_metadata$disease\n",
    "proj3$cell_or_nuclei <- updated_metadata$cell_or_nuclei\n",
    "proj3$tech_plus_study <- updated_metadata$tech_plus_study\n",
    "proj3$sex <- updated_metadata$sex\n",
    "proj3$age <- updated_metadata$sex"
   ]
  },
  {
   "cell_type": "code",
   "execution_count": 14,
   "id": "95fc21e2-2de9-4b48-a8c6-317aba4bb3b6",
   "metadata": {},
   "outputs": [],
   "source": [
    "updated_proj_metadata <- getCellColData(proj3)\n",
    "updated_proj_metadata_df <- as.data.frame(updated_proj_metadata)\n",
    "write.csv(updated_proj_metadata_df, \"proj3_metadata.csv\", row.names = TRUE)"
   ]
  },
  {
   "cell_type": "code",
   "execution_count": 15,
   "id": "89179179-24fe-446c-8a42-c388c803cd69",
   "metadata": {},
   "outputs": [
    {
     "name": "stderr",
     "output_type": "stream",
     "text": [
      "ArchR logging to : ArchRLogs/ArchR-plotEmbedding-5469718bd99ea-Date-2025-02-10_Time-19-18-55.904179.log\n",
      "If there is an issue, please report to github with logFile!\n",
      "\n",
      "Getting UMAP Embedding\n",
      "\n",
      "ColorBy = cellColData\n",
      "\n",
      "Plotting Embedding\n",
      "\n",
      "1 \n",
      "\n",
      "\n",
      "ArchR logging successful to : ArchRLogs/ArchR-plotEmbedding-5469718bd99ea-Date-2025-02-10_Time-19-18-55.904179.log\n",
      "\n"
     ]
    },
    {
     "data": {
      "image/png": "[encoded data removed]",
      "text/plain": [
       "plot without title"
      ]
     },
     "metadata": {
      "image/png": {
       "height": 480,
       "width": 720
      }
     },
     "output_type": "display_data"
    }
   ],
   "source": [
    "options(repr.plot.width = 12, repr.plot.height = 8)\n",
    "p1 <- plotEmbedding(ArchRProj = proj3, colorBy = \"cellColData\", name = \"cell_type\", \n",
    "                    embedding = \"UMAPHarmony\", baseSize=14)\n",
    "\n",
    "# Modify legend size and font size\n",
    "p1 <- p1 + theme(\n",
    "  legend.key.size = unit(1.5, \"cm\"),  # Increase the size of the legend keys\n",
    "  legend.text = element_text(size = 14),  # Increase the font size of the legend labels\n",
    "  legend.title = element_text(size = 16)  # Increase the font size of the legend title\n",
    ")\n",
    "\n",
    "p1\n",
    "\n",
    "ggsave(p1, file = \"UMAP_by_cell_type.pdf\", width = 12, height = 8)"
   ]
  },
  {
   "cell_type": "markdown",
   "id": "b7b0722d-3bc0-48a9-b724-56e8880cdbdc",
   "metadata": {},
   "source": [
    "### Produce plot of marker genes"
   ]
  },
  {
   "cell_type": "code",
   "execution_count": 16,
   "id": "c1952f2f-7dae-48bf-8cce-8e317d4b3e73",
   "metadata": {},
   "outputs": [],
   "source": [
    "markerGenes  <- c(\n",
    "    \"PPARG\",  # Adipocyte\n",
    "    \"TTN\", # CM\n",
    "    \"VWF\", # Endothelial\n",
    "    \"WT1\", # Epicardial\n",
    "    \"DCN\", # Fibroblast\n",
    "    \"SKAP1\", # Lymphoid\n",
    "    \"KIT\", # Mast\n",
    "    \"CD163\", # Myeloid\n",
    "    \"NRXN1\", # Neuronal\n",
    "    \"PDGFRB\", # Pericyte\n",
    "    \"MYH11\" # vSMC \n",
    "  )"
   ]
  },
  {
   "cell_type": "code",
   "execution_count": 17,
   "id": "8f00d1b6-7a06-4b2f-a566-f5975c0f4e64",
   "metadata": {},
   "outputs": [
    {
     "name": "stderr",
     "output_type": "stream",
     "text": [
      "ArchR logging to : ArchRLogs/ArchR-plotBrowserTrack-54697c974952-Date-2025-02-10_Time-19-19-26.248852.log\n",
      "If there is an issue, please report to github with logFile!\n",
      "\n",
      "2025-02-10 19:19:26.317897 : Validating Region, 0.001 mins elapsed.\n",
      "\n"
     ]
    },
    {
     "name": "stdout",
     "output_type": "stream",
     "text": [
      "GRanges object with 11 ranges and 2 metadata columns:\n",
      "       seqnames              ranges strand |     gene_id      symbol\n",
      "          <Rle>           <IRanges>  <Rle> | <character> <character>\n",
      "   [1]     chr3   12287368-12434356      + |        5468       PPARG\n",
      "   [2]     chr2 178525989-178830802      - |        7273         TTN\n",
      "   [3]    chr12     5948874-6124770      - |        7450         VWF\n",
      "   [4]    chr11   32387775-32435630      - |        7490         WT1\n",
      "   [5]    chr12   91140484-91183123      - |        1634         DCN\n",
      "   [6]    chr17   48133440-48430275      - |        8631       SKAP1\n",
      "   [7]     chr4   54657918-54740715      + |        3815         KIT\n",
      "   [8]    chr12     7470813-7503893      - |        9332       CD163\n",
      "   [9]     chr2   49918505-51082864      - |        9378       NRXN1\n",
      "  [10]     chr5 150113837-150155872      - |        5159      PDGFRB\n",
      "  [11]    chr16   15703135-15857033      - |        4629       MYH11\n",
      "  -------\n",
      "  seqinfo: 24 sequences from hg38 genome\n"
     ]
    },
    {
     "name": "stderr",
     "output_type": "stream",
     "text": [
      "2025-02-10 19:19:26.454812 : Adding Bulk Tracks (1 of 11), 0.003 mins elapsed.\n",
      "\n",
      "2025-02-10 19:19:48.834865 : Adding Gene Tracks (1 of 11), 0.376 mins elapsed.\n",
      "\n",
      "2025-02-10 19:19:49.297206 : Plotting, 0.384 mins elapsed.\n",
      "\n",
      "2025-02-10 19:19:50.090543 : Adding Bulk Tracks (2 of 11), 0.397 mins elapsed.\n",
      "\n",
      "2025-02-10 19:20:05.958679 : Adding Gene Tracks (2 of 11), 0.662 mins elapsed.\n",
      "\n",
      "2025-02-10 19:20:06.237767 : Plotting, 0.666 mins elapsed.\n",
      "\n",
      "2025-02-10 19:20:07.087622 : Adding Bulk Tracks (3 of 11), 0.681 mins elapsed.\n",
      "\n",
      "2025-02-10 19:20:23.5886 : Adding Gene Tracks (3 of 11), 0.956 mins elapsed.\n",
      "\n",
      "2025-02-10 19:20:23.877042 : Plotting, 0.96 mins elapsed.\n",
      "\n",
      "2025-02-10 19:20:24.713208 : Adding Bulk Tracks (4 of 11), 0.974 mins elapsed.\n",
      "\n",
      "2025-02-10 19:20:41.532229 : Adding Gene Tracks (4 of 11), 1.255 mins elapsed.\n",
      "\n",
      "2025-02-10 19:20:41.808831 : Plotting, 1.259 mins elapsed.\n",
      "\n",
      "2025-02-10 19:20:42.683966 : Adding Bulk Tracks (5 of 11), 1.274 mins elapsed.\n",
      "\n",
      "2025-02-10 19:20:59.260332 : Adding Gene Tracks (5 of 11), 1.55 mins elapsed.\n",
      "\n",
      "2025-02-10 19:20:59.551433 : Plotting, 1.555 mins elapsed.\n",
      "\n",
      "2025-02-10 19:21:00.468624 : Adding Bulk Tracks (6 of 11), 1.57 mins elapsed.\n",
      "\n",
      "2025-02-10 19:21:19.316926 : Adding Gene Tracks (6 of 11), 1.884 mins elapsed.\n",
      "\n",
      "2025-02-10 19:21:19.646177 : Plotting, 1.89 mins elapsed.\n",
      "\n",
      "2025-02-10 19:21:20.824082 : Adding Bulk Tracks (7 of 11), 1.91 mins elapsed.\n",
      "\n",
      "2025-02-10 19:21:41.002233 : Adding Gene Tracks (7 of 11), 2.246 mins elapsed.\n",
      "\n",
      "2025-02-10 19:21:41.319529 : Plotting, 2.251 mins elapsed.\n",
      "\n",
      "2025-02-10 19:21:42.208378 : Adding Bulk Tracks (8 of 11), 2.266 mins elapsed.\n",
      "\n",
      "2025-02-10 19:22:00.880025 : Adding Gene Tracks (8 of 11), 2.577 mins elapsed.\n",
      "\n",
      "2025-02-10 19:22:01.225718 : Plotting, 2.583 mins elapsed.\n",
      "\n",
      "2025-02-10 19:22:02.210229 : Adding Bulk Tracks (9 of 11), 2.599 mins elapsed.\n",
      "\n",
      "2025-02-10 19:22:21.403789 : Adding Gene Tracks (9 of 11), 2.919 mins elapsed.\n",
      "\n",
      "2025-02-10 19:22:21.687168 : Plotting, 2.924 mins elapsed.\n",
      "\n",
      "2025-02-10 19:22:22.700151 : Adding Bulk Tracks (10 of 11), 2.941 mins elapsed.\n",
      "\n",
      "2025-02-10 19:22:41.225382 : Adding Gene Tracks (10 of 11), 3.25 mins elapsed.\n",
      "\n",
      "2025-02-10 19:22:41.572716 : Plotting, 3.255 mins elapsed.\n",
      "\n",
      "2025-02-10 19:22:42.477225 : Adding Bulk Tracks (11 of 11), 3.27 mins elapsed.\n",
      "\n",
      "2025-02-10 19:23:09.795233 : Adding Gene Tracks (11 of 11), 3.726 mins elapsed.\n",
      "\n",
      "2025-02-10 19:23:10.127338 : Plotting, 3.731 mins elapsed.\n",
      "\n",
      "ArchR logging successful to : ArchRLogs/ArchR-plotBrowserTrack-54697c974952-Date-2025-02-10_Time-19-19-26.248852.log\n",
      "\n"
     ]
    }
   ],
   "source": [
    "p <- plotBrowserTrack(\n",
    "    ArchRProj = proj3, \n",
    "    groupBy = \"cell_type\", \n",
    "    geneSymbol = markerGenes, \n",
    "    upstream = 5000,\n",
    "    downstream = 5000,\n",
    "    baseSize = 8, # font size \n",
    "    facetbaseSize = 7 # font size for the gray cell type labels\n",
    ")"
   ]
  },
  {
   "cell_type": "code",
   "execution_count": 18,
   "id": "073d450e-a291-4571-a74e-8c78c9415eb7",
   "metadata": {},
   "outputs": [],
   "source": [
    "options(repr.plot.width = 8, repr.plot.height = 8)\n",
    "\n",
    "for (gene in markerGenes) {\n",
    "    grid::grid.newpage()\n",
    "    grid::grid.draw(p$gene)\n",
    "}"
   ]
  },
  {
   "cell_type": "code",
   "execution_count": 20,
   "id": "c10c6cce-9f71-45e0-86dd-491d11948b32",
   "metadata": {},
   "outputs": [
    {
     "name": "stderr",
     "output_type": "stream",
     "text": [
      "Plotting Gtable!\n",
      "\n"
     ]
    },
    {
     "name": "stdout",
     "output_type": "stream",
     "text": [
      "NULL\n"
     ]
    },
    {
     "name": "stderr",
     "output_type": "stream",
     "text": [
      "Plotting Gtable!\n",
      "\n"
     ]
    },
    {
     "name": "stdout",
     "output_type": "stream",
     "text": [
      "NULL\n"
     ]
    },
    {
     "name": "stderr",
     "output_type": "stream",
     "text": [
      "Plotting Gtable!\n",
      "\n"
     ]
    },
    {
     "name": "stdout",
     "output_type": "stream",
     "text": [
      "NULL\n"
     ]
    },
    {
     "name": "stderr",
     "output_type": "stream",
     "text": [
      "Plotting Gtable!\n",
      "\n"
     ]
    },
    {
     "name": "stdout",
     "output_type": "stream",
     "text": [
      "NULL\n"
     ]
    },
    {
     "name": "stderr",
     "output_type": "stream",
     "text": [
      "Plotting Gtable!\n",
      "\n"
     ]
    },
    {
     "name": "stdout",
     "output_type": "stream",
     "text": [
      "NULL\n"
     ]
    },
    {
     "name": "stderr",
     "output_type": "stream",
     "text": [
      "Plotting Gtable!\n",
      "\n"
     ]
    },
    {
     "name": "stdout",
     "output_type": "stream",
     "text": [
      "NULL\n"
     ]
    },
    {
     "name": "stderr",
     "output_type": "stream",
     "text": [
      "Plotting Gtable!\n",
      "\n"
     ]
    },
    {
     "name": "stdout",
     "output_type": "stream",
     "text": [
      "NULL\n"
     ]
    },
    {
     "name": "stderr",
     "output_type": "stream",
     "text": [
      "Plotting Gtable!\n",
      "\n"
     ]
    },
    {
     "name": "stdout",
     "output_type": "stream",
     "text": [
      "NULL\n"
     ]
    },
    {
     "name": "stderr",
     "output_type": "stream",
     "text": [
      "Plotting Gtable!\n",
      "\n"
     ]
    },
    {
     "name": "stdout",
     "output_type": "stream",
     "text": [
      "NULL\n"
     ]
    },
    {
     "name": "stderr",
     "output_type": "stream",
     "text": [
      "Plotting Gtable!\n",
      "\n"
     ]
    },
    {
     "name": "stdout",
     "output_type": "stream",
     "text": [
      "NULL\n"
     ]
    },
    {
     "name": "stderr",
     "output_type": "stream",
     "text": [
      "Plotting Gtable!\n",
      "\n"
     ]
    },
    {
     "name": "stdout",
     "output_type": "stream",
     "text": [
      "NULL\n"
     ]
    }
   ],
   "source": [
    "plotPDF(plotList = p, \n",
    "    name = \"Plot-Tracks-Marker-Genes.pdf\", \n",
    "    ArchRProj = proj3, \n",
    "    addDOC = FALSE, \n",
    "        width = 5, height = 5)"
   ]
  },
  {
   "cell_type": "markdown",
   "id": "09db7c30-53c4-460a-8223-75b31b75685b",
   "metadata": {},
   "source": [
    "### Save the ArchR project with the cell type labels"
   ]
  },
  {
   "cell_type": "code",
   "execution_count": 21,
   "id": "237118ad-881a-4d4d-93c2-76e1d5f18f70",
   "metadata": {},
   "outputs": [
    {
     "name": "stderr",
     "output_type": "stream",
     "text": [
      "Copying ArchRProject to new outputDirectory : /mnt/data1/william/human_heart_project/Final_manuscript_analysis/ATAC/aggregated_analysis/ArchR_analysis/run_ArchR\n",
      "\n",
      "Copying Arrow Files...\n",
      "\n",
      "Copying Arrow Files (1 of 130)\n",
      "\n",
      "Copying Arrow Files (2 of 130)\n",
      "\n",
      "Copying Arrow Files (3 of 130)\n",
      "\n",
      "Copying Arrow Files (4 of 130)\n",
      "\n",
      "Copying Arrow Files (5 of 130)\n",
      "\n",
      "Copying Arrow Files (6 of 130)\n",
      "\n",
      "Copying Arrow Files (7 of 130)\n",
      "\n",
      "Copying Arrow Files (8 of 130)\n",
      "\n",
      "Copying Arrow Files (9 of 130)\n",
      "\n",
      "Copying Arrow Files (10 of 130)\n",
      "\n",
      "Copying Arrow Files (11 of 130)\n",
      "\n",
      "Copying Arrow Files (12 of 130)\n",
      "\n",
      "Copying Arrow Files (13 of 130)\n",
      "\n",
      "Copying Arrow Files (14 of 130)\n",
      "\n",
      "Copying Arrow Files (15 of 130)\n",
      "\n",
      "Copying Arrow Files (16 of 130)\n",
      "\n",
      "Copying Arrow Files (17 of 130)\n",
      "\n",
      "Copying Arrow Files (18 of 130)\n",
      "\n",
      "Copying Arrow Files (19 of 130)\n",
      "\n",
      "Copying Arrow Files (20 of 130)\n",
      "\n",
      "Copying Arrow Files (21 of 130)\n",
      "\n",
      "Copying Arrow Files (22 of 130)\n",
      "\n",
      "Copying Arrow Files (23 of 130)\n",
      "\n",
      "Copying Arrow Files (24 of 130)\n",
      "\n",
      "Copying Arrow Files (25 of 130)\n",
      "\n",
      "Copying Arrow Files (26 of 130)\n",
      "\n",
      "Copying Arrow Files (27 of 130)\n",
      "\n",
      "Copying Arrow Files (28 of 130)\n",
      "\n",
      "Copying Arrow Files (29 of 130)\n",
      "\n",
      "Copying Arrow Files (30 of 130)\n",
      "\n",
      "Copying Arrow Files (31 of 130)\n",
      "\n",
      "Copying Arrow Files (32 of 130)\n",
      "\n",
      "Copying Arrow Files (33 of 130)\n",
      "\n",
      "Copying Arrow Files (34 of 130)\n",
      "\n",
      "Copying Arrow Files (35 of 130)\n",
      "\n",
      "Copying Arrow Files (36 of 130)\n",
      "\n",
      "Copying Arrow Files (37 of 130)\n",
      "\n",
      "Copying Arrow Files (38 of 130)\n",
      "\n",
      "Copying Arrow Files (39 of 130)\n",
      "\n",
      "Copying Arrow Files (40 of 130)\n",
      "\n",
      "Copying Arrow Files (41 of 130)\n",
      "\n",
      "Copying Arrow Files (42 of 130)\n",
      "\n",
      "Copying Arrow Files (43 of 130)\n",
      "\n",
      "Copying Arrow Files (44 of 130)\n",
      "\n",
      "Copying Arrow Files (45 of 130)\n",
      "\n",
      "Copying Arrow Files (46 of 130)\n",
      "\n",
      "Copying Arrow Files (47 of 130)\n",
      "\n",
      "Copying Arrow Files (48 of 130)\n",
      "\n",
      "Copying Arrow Files (49 of 130)\n",
      "\n",
      "Copying Arrow Files (50 of 130)\n",
      "\n",
      "Copying Arrow Files (51 of 130)\n",
      "\n",
      "Copying Arrow Files (52 of 130)\n",
      "\n",
      "Copying Arrow Files (53 of 130)\n",
      "\n",
      "Copying Arrow Files (54 of 130)\n",
      "\n",
      "Copying Arrow Files (55 of 130)\n",
      "\n",
      "Copying Arrow Files (56 of 130)\n",
      "\n",
      "Copying Arrow Files (57 of 130)\n",
      "\n",
      "Copying Arrow Files (58 of 130)\n",
      "\n",
      "Copying Arrow Files (59 of 130)\n",
      "\n",
      "Copying Arrow Files (60 of 130)\n",
      "\n",
      "Copying Arrow Files (61 of 130)\n",
      "\n",
      "Copying Arrow Files (62 of 130)\n",
      "\n",
      "Copying Arrow Files (63 of 130)\n",
      "\n",
      "Copying Arrow Files (64 of 130)\n",
      "\n",
      "Copying Arrow Files (65 of 130)\n",
      "\n",
      "Copying Arrow Files (66 of 130)\n",
      "\n",
      "Copying Arrow Files (67 of 130)\n",
      "\n",
      "Copying Arrow Files (68 of 130)\n",
      "\n",
      "Copying Arrow Files (69 of 130)\n",
      "\n",
      "Copying Arrow Files (70 of 130)\n",
      "\n",
      "Copying Arrow Files (71 of 130)\n",
      "\n",
      "Copying Arrow Files (72 of 130)\n",
      "\n",
      "Copying Arrow Files (73 of 130)\n",
      "\n",
      "Copying Arrow Files (74 of 130)\n",
      "\n",
      "Copying Arrow Files (75 of 130)\n",
      "\n",
      "Copying Arrow Files (76 of 130)\n",
      "\n",
      "Copying Arrow Files (77 of 130)\n",
      "\n",
      "Copying Arrow Files (78 of 130)\n",
      "\n",
      "Copying Arrow Files (79 of 130)\n",
      "\n",
      "Copying Arrow Files (80 of 130)\n",
      "\n",
      "Copying Arrow Files (81 of 130)\n",
      "\n",
      "Copying Arrow Files (82 of 130)\n",
      "\n",
      "Copying Arrow Files (83 of 130)\n",
      "\n",
      "Copying Arrow Files (84 of 130)\n",
      "\n",
      "Copying Arrow Files (85 of 130)\n",
      "\n",
      "Copying Arrow Files (86 of 130)\n",
      "\n",
      "Copying Arrow Files (87 of 130)\n",
      "\n",
      "Copying Arrow Files (88 of 130)\n",
      "\n",
      "Copying Arrow Files (89 of 130)\n",
      "\n",
      "Copying Arrow Files (90 of 130)\n",
      "\n",
      "Copying Arrow Files (91 of 130)\n",
      "\n",
      "Copying Arrow Files (92 of 130)\n",
      "\n",
      "Copying Arrow Files (93 of 130)\n",
      "\n",
      "Copying Arrow Files (94 of 130)\n",
      "\n",
      "Copying Arrow Files (95 of 130)\n",
      "\n",
      "Copying Arrow Files (96 of 130)\n",
      "\n",
      "Copying Arrow Files (97 of 130)\n",
      "\n",
      "Copying Arrow Files (98 of 130)\n",
      "\n",
      "Copying Arrow Files (99 of 130)\n",
      "\n",
      "Copying Arrow Files (100 of 130)\n",
      "\n",
      "Copying Arrow Files (101 of 130)\n",
      "\n",
      "Copying Arrow Files (102 of 130)\n",
      "\n",
      "Copying Arrow Files (103 of 130)\n",
      "\n",
      "Copying Arrow Files (104 of 130)\n",
      "\n",
      "Copying Arrow Files (105 of 130)\n",
      "\n",
      "Copying Arrow Files (106 of 130)\n",
      "\n",
      "Copying Arrow Files (107 of 130)\n",
      "\n",
      "Copying Arrow Files (108 of 130)\n",
      "\n",
      "Copying Arrow Files (109 of 130)\n",
      "\n",
      "Copying Arrow Files (110 of 130)\n",
      "\n",
      "Copying Arrow Files (111 of 130)\n",
      "\n",
      "Copying Arrow Files (112 of 130)\n",
      "\n",
      "Copying Arrow Files (113 of 130)\n",
      "\n",
      "Copying Arrow Files (114 of 130)\n",
      "\n",
      "Copying Arrow Files (115 of 130)\n",
      "\n",
      "Copying Arrow Files (116 of 130)\n",
      "\n",
      "Copying Arrow Files (117 of 130)\n",
      "\n",
      "Copying Arrow Files (118 of 130)\n",
      "\n",
      "Copying Arrow Files (119 of 130)\n",
      "\n",
      "Copying Arrow Files (120 of 130)\n",
      "\n",
      "Copying Arrow Files (121 of 130)\n",
      "\n",
      "Copying Arrow Files (122 of 130)\n",
      "\n",
      "Copying Arrow Files (123 of 130)\n",
      "\n",
      "Copying Arrow Files (124 of 130)\n",
      "\n",
      "Copying Arrow Files (125 of 130)\n",
      "\n",
      "Copying Arrow Files (126 of 130)\n",
      "\n",
      "Copying Arrow Files (127 of 130)\n",
      "\n",
      "Copying Arrow Files (128 of 130)\n",
      "\n",
      "Copying Arrow Files (129 of 130)\n",
      "\n",
      "Copying Arrow Files (130 of 130)\n",
      "\n",
      "Getting ImputeWeights\n",
      "\n",
      "No imputeWeights found, returning NULL\n",
      "\n",
      "Copying Other Files...\n",
      "\n",
      "Copying Other Files (1 of 3): Embeddings\n",
      "\n",
      "Copying Other Files (2 of 3): IterativeLSI\n",
      "\n",
      "Copying Other Files (3 of 3): Plots\n",
      "\n",
      "Saving ArchRProject...\n",
      "\n",
      "Loading ArchRProject...\n",
      "\n",
      "Successfully loaded ArchRProject!\n",
      "\n",
      "\n",
      "                                                   / |\n",
      "                                                 /    \\\n",
      "            .                                  /      |.\n",
      "            \\\\\\                              /        |.\n",
      "              \\\\\\                          /           `|.\n",
      "                \\\\\\                      /              |.\n",
      "                  \\                    /                |\\\n",
      "                  \\\\#####\\           /                  ||\n",
      "                ==###########>      /                   ||\n",
      "                 \\\\##==......\\    /                     ||\n",
      "            ______ =       =|__ /__                     ||      \\\\\\\n",
      "        ,--' ,----`-,__ ___/'  --,-`-===================##========>\n",
      "       \\               '        ##_______ _____ ,--,__,=##,__   ///\n",
      "        ,    __==    ___,-,__,--'#'  ==='      `-'    | ##,-/\n",
      "        -,____,---'       \\\\####\\\\________________,--\\\\_##,/\n",
      "           ___      .______        ______  __    __  .______      \n",
      "          /   \\     |   _  \\      /      ||  |  |  | |   _  \\     \n",
      "         /  ^  \\    |  |_)  |    |  ,----'|  |__|  | |  |_)  |    \n",
      "        /  /_\\  \\   |      /     |  |     |   __   | |      /     \n",
      "       /  _____  \\  |  |\\  \\\\___ |  `----.|  |  |  | |  |\\  \\\\___.\n",
      "      /__/     \\__\\ | _| `._____| \\______||__|  |__| | _| `._____|\n",
      "    \n",
      "\n",
      "\n",
      "           ___      .______        ______  __    __  .______      \n",
      "          /   \\     |   _  \\      /      ||  |  |  | |   _  \\     \n",
      "         /  ^  \\    |  |_)  |    |  ,----'|  |__|  | |  |_)  |    \n",
      "        /  /_\\  \\   |      /     |  |     |   __   | |      /     \n",
      "       /  _____  \\  |  |\\  \\\\___ |  `----.|  |  |  | |  |\\  \\\\___.\n",
      "      /__/     \\__\\ | _| `._____| \\______||__|  |__| | _| `._____|\n",
      "    \n",
      "\n"
     ]
    },
    {
     "data": {
      "text/plain": [
       "class: ArchRProject \n",
       "outputDirectory: /mnt/data1/william/human_heart_project/Final_manuscript_analysis/ATAC/aggregated_analysis/ArchR_analysis/run_ArchR \n",
       "samples(130): ENCSR051ECW HCAHeartST10773166_HCAHeartST10781063 ...\n",
       "  10X_ATAC_CK174 10X_ATAC_CK349\n",
       "sampleColData names(1): ArrowFiles\n",
       "cellColData names(26): Sample TSSEnrichment ... sex age\n",
       "numberOfCells(1): 569502\n",
       "medianTSS(1): 10.206\n",
       "medianFrags(1): 5829"
      ]
     },
     "metadata": {},
     "output_type": "display_data"
    }
   ],
   "source": [
    "# save the ArchR project in its current directory\n",
    "saveArchRProject(\n",
    "  ArchRProj = proj3,           \n",
    "  outputDirectory = getwd(),   \n",
    "  overwrite = TRUE             \n",
    ")"
   ]
  }
 ],
 "metadata": {
  "kernelspec": {
   "display_name": "R",
   "language": "R",
   "name": "ir"
  },
  "language_info": {
   "codemirror_mode": "r",
   "file_extension": ".r",
   "mimetype": "text/x-r-source",
   "name": "R",
   "pygments_lexer": "r",
   "version": "4.4.1"
  }
 },
 "nbformat": 4,
 "nbformat_minor": 5
}

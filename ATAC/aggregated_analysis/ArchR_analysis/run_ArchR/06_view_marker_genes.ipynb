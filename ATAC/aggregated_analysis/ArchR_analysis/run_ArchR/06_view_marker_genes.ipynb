{
 "cells": [
  {
   "cell_type": "code",
   "execution_count": 1,
   "id": "30894c82-280e-44ce-9426-088e4f1433f6",
   "metadata": {},
   "outputs": [
    {
     "name": "stderr",
     "output_type": "stream",
     "text": [
      "\n",
      "                                                   / |\n",
      "                                                 /    \\\n",
      "            .                                  /      |.\n",
      "            \\\\\\                              /        |.\n",
      "              \\\\\\                          /           `|.\n",
      "                \\\\\\                      /              |.\n",
      "                  \\                    /                |\\\n",
      "                  \\\\#####\\           /                  ||\n",
      "                ==###########>      /                   ||\n",
      "                 \\\\##==......\\    /                     ||\n",
      "            ______ =       =|__ /__                     ||      \\\\\\\n",
      "        ,--' ,----`-,__ ___/'  --,-`-===================##========>\n",
      "       \\               '        ##_______ _____ ,--,__,=##,__   ///\n",
      "        ,    __==    ___,-,__,--'#'  ==='      `-'    | ##,-/\n",
      "        -,____,---'       \\\\####\\\\________________,--\\\\_##,/\n",
      "           ___      .______        ______  __    __  .______      \n",
      "          /   \\     |   _  \\      /      ||  |  |  | |   _  \\     \n",
      "         /  ^  \\    |  |_)  |    |  ,----'|  |__|  | |  |_)  |    \n",
      "        /  /_\\  \\   |      /     |  |     |   __   | |      /     \n",
      "       /  _____  \\  |  |\\  \\\\___ |  `----.|  |  |  | |  |\\  \\\\___.\n",
      "      /__/     \\__\\ | _| `._____| \\______||__|  |__| | _| `._____|\n",
      "    \n",
      "\n",
      "ArchR : Version 1.0.2\n",
      "For more information see our website : www.ArchRProject.com\n",
      "If you encounter a bug please report : https://github.com/GreenleafLab/ArchR/issues\n",
      "\n",
      "Loading Required Packages...\n",
      "\n",
      "\tLoading Package : grid v4.4.1\n",
      "\n",
      "\tLoading Package : gridExtra v2.3\n",
      "\n",
      "\tLoading Package : gtools v3.9.5\n",
      "\n",
      "\tLoading Package : gtable v0.3.6\n",
      "\n",
      "\tLoading Package : ggplot2 v3.5.1\n",
      "\n",
      "\tLoading Package : magrittr v2.0.3\n",
      "\n",
      "\tLoading Package : plyr v1.8.9\n",
      "\n",
      "\tLoading Package : stringr v1.5.1\n",
      "\n",
      "\tLoading Package : data.table v1.16.4\n",
      "\n",
      "\tLoading Package : matrixStats v1.5.0\n",
      "\n",
      "\tLoading Package : S4Vectors v0.42.1\n",
      "\n",
      "\tLoading Package : GenomicRanges v1.56.2\n",
      "\n",
      "\tLoading Package : BiocGenerics v0.50.0\n",
      "\n",
      "\tLoading Package : Matrix v1.7.1\n",
      "\n",
      "\tLoading Package : Rcpp v1.0.14\n",
      "\n",
      "Warning message:\n",
      "“package ‘Rcpp’ was built under R version 4.4.2”\n",
      "\tLoading Package : SummarizedExperiment v1.34.0\n",
      "\n",
      "\tLoading Package : rhdf5 v2.48.0\n",
      "\n",
      "Setting default number of Parallel threads to 32.\n",
      "\n",
      "Setting default genome to Hg38.\n",
      "\n"
     ]
    }
   ],
   "source": [
    "library(ArchR)\n",
    "library(\"unixtools\")\n",
    "set.tempdir(\"/mnt/data1/william/tmp\")\n",
    "addArchRThreads(threads = 32)\n",
    "addArchRGenome(\"hg38\")\n",
    "library(pheatmap)\n",
    "`%notin%` = Negate(`%in%`)"
   ]
  },
  {
   "cell_type": "code",
   "execution_count": 2,
   "id": "1a2f5078-dad2-4bf8-ae5b-43466efcafd3",
   "metadata": {},
   "outputs": [
    {
     "name": "stderr",
     "output_type": "stream",
     "text": [
      "Successfully loaded ArchRProject!\n",
      "\n"
     ]
    }
   ],
   "source": [
    "working_dir <- paste0(getwd())\n",
    "proj3 <- loadArchRProject(path = working_dir,\n",
    "                          force = FALSE,\n",
    "                          showLogo = FALSE)"
   ]
  },
  {
   "cell_type": "code",
   "execution_count": 3,
   "id": "193a9ec6-df05-41b6-b137-df51d0d2c793",
   "metadata": {},
   "outputs": [],
   "source": [
    "markerGenes  <- c(\n",
    "    \"PPARG\",  # Adipocyte\n",
    "    \"TTN\", # CM\n",
    "    \"VWF\", # Endothelial\n",
    "    \"WT1\", # Epicardial\n",
    "    \"DCN\", # Fibroblast\n",
    "    \"SKAP1\", # Lymphoid\n",
    "    \"KIT\", # Mast\n",
    "    \"CD163\", # Myeloid\n",
    "    \"NRXN1\", # Neuronal\n",
    "    \"PDGFRB\", # Pericyte\n",
    "    \"MYH11\" # vSMC \n",
    "  )"
   ]
  },
  {
   "cell_type": "code",
   "execution_count": 4,
   "id": "23afc5c9-8660-43d5-8378-a13d3edf3fe7",
   "metadata": {},
   "outputs": [
    {
     "name": "stderr",
     "output_type": "stream",
     "text": [
      "ArchR logging to : ArchRLogs/ArchR-plotBrowserTrack-54d837b26f355-Date-2025-02-10_Time-19-25-41.276122.log\n",
      "If there is an issue, please report to github with logFile!\n",
      "\n",
      "2025-02-10 19:25:41.442281 : Validating Region, 0.003 mins elapsed.\n",
      "\n"
     ]
    },
    {
     "name": "stdout",
     "output_type": "stream",
     "text": [
      "GRanges object with 11 ranges and 2 metadata columns:\n",
      "       seqnames              ranges strand |     gene_id      symbol\n",
      "          <Rle>           <IRanges>  <Rle> | <character> <character>\n",
      "   [1]     chr3   12287368-12434356      + |        5468       PPARG\n",
      "   [2]     chr2 178525989-178830802      - |        7273         TTN\n",
      "   [3]    chr12     5948874-6124770      - |        7450         VWF\n",
      "   [4]    chr11   32387775-32435630      - |        7490         WT1\n",
      "   [5]    chr12   91140484-91183123      - |        1634         DCN\n",
      "   [6]    chr17   48133440-48430275      - |        8631       SKAP1\n",
      "   [7]     chr4   54657918-54740715      + |        3815         KIT\n",
      "   [8]    chr12     7470813-7503893      - |        9332       CD163\n",
      "   [9]     chr2   49918505-51082864      - |        9378       NRXN1\n",
      "  [10]     chr5 150113837-150155872      - |        5159      PDGFRB\n",
      "  [11]    chr16   15703135-15857033      - |        4629       MYH11\n",
      "  -------\n",
      "  seqinfo: 24 sequences from hg38 genome\n"
     ]
    },
    {
     "name": "stderr",
     "output_type": "stream",
     "text": [
      "2025-02-10 19:25:41.582883 : Adding Bulk Tracks (1 of 11), 0.005 mins elapsed.\n",
      "\n",
      "2025-02-10 19:26:03.459748 : Adding Feature Tracks (1 of 11), 0.37 mins elapsed.\n",
      "\n",
      "2025-02-10 19:26:03.573129 : Adding Gene Tracks (1 of 11), 0.372 mins elapsed.\n",
      "\n",
      "2025-02-10 19:26:03.959687 : Plotting, 0.378 mins elapsed.\n",
      "\n",
      "2025-02-10 19:26:06.25951 : Adding Bulk Tracks (2 of 11), 0.416 mins elapsed.\n",
      "\n",
      "2025-02-10 19:26:17.369735 : Adding Feature Tracks (2 of 11), 0.602 mins elapsed.\n",
      "\n",
      "2025-02-10 19:26:17.434602 : Adding Gene Tracks (2 of 11), 0.603 mins elapsed.\n",
      "\n",
      "2025-02-10 19:26:19.011989 : Plotting, 0.629 mins elapsed.\n",
      "\n",
      "2025-02-10 19:26:19.774988 : Adding Bulk Tracks (3 of 11), 0.642 mins elapsed.\n",
      "\n"
     ]
    },
    {
     "name": "stdout",
     "output_type": "stream",
     "text": [
      "R_zmq_msg_send errno: 4 strerror: Interrupted system call\n"
     ]
    },
    {
     "name": "stderr",
     "output_type": "stream",
     "text": [
      "2025-02-10 19:26:26.59864 : Adding Feature Tracks (3 of 11), 0.755 mins elapsed.\n",
      "\n",
      "2025-02-10 19:26:26.66841 : Adding Gene Tracks (3 of 11), 0.757 mins elapsed.\n",
      "\n",
      "2025-02-10 19:26:27.043241 : Plotting, 0.763 mins elapsed.\n",
      "\n",
      "2025-02-10 19:26:27.704379 : Adding Bulk Tracks (4 of 11), 0.774 mins elapsed.\n",
      "\n"
     ]
    },
    {
     "name": "stdout",
     "output_type": "stream",
     "text": [
      "R_zmq_msg_send errno: 4 strerror: Interrupted system call\n"
     ]
    },
    {
     "name": "stderr",
     "output_type": "stream",
     "text": [
      "2025-02-10 19:26:35.058424 : Adding Feature Tracks (4 of 11), 0.896 mins elapsed.\n",
      "\n",
      "2025-02-10 19:26:35.126967 : Adding Gene Tracks (4 of 11), 0.898 mins elapsed.\n",
      "\n",
      "2025-02-10 19:26:35.530192 : Plotting, 0.904 mins elapsed.\n",
      "\n",
      "2025-02-10 19:26:36.383804 : Adding Bulk Tracks (5 of 11), 0.918 mins elapsed.\n",
      "\n"
     ]
    },
    {
     "name": "stdout",
     "output_type": "stream",
     "text": [
      "R_zmq_msg_send errno: 4 strerror: Interrupted system call\n"
     ]
    },
    {
     "name": "stderr",
     "output_type": "stream",
     "text": [
      "2025-02-10 19:26:43.454361 : Adding Feature Tracks (5 of 11), 1.036 mins elapsed.\n",
      "\n",
      "2025-02-10 19:26:43.518287 : Adding Gene Tracks (5 of 11), 1.037 mins elapsed.\n",
      "\n",
      "2025-02-10 19:26:43.78227 : Plotting, 1.042 mins elapsed.\n",
      "\n",
      "2025-02-10 19:26:44.679546 : Adding Bulk Tracks (6 of 11), 1.057 mins elapsed.\n",
      "\n"
     ]
    },
    {
     "name": "stdout",
     "output_type": "stream",
     "text": [
      "R_zmq_msg_send errno: 4 strerror: Interrupted system call\n"
     ]
    },
    {
     "name": "stderr",
     "output_type": "stream",
     "text": [
      "2025-02-10 19:26:52.261497 : Adding Feature Tracks (6 of 11), 1.183 mins elapsed.\n",
      "\n",
      "2025-02-10 19:26:52.338272 : Adding Gene Tracks (6 of 11), 1.184 mins elapsed.\n",
      "\n",
      "2025-02-10 19:26:52.890595 : Plotting, 1.194 mins elapsed.\n",
      "\n",
      "2025-02-10 19:26:53.513278 : Adding Bulk Tracks (7 of 11), 1.204 mins elapsed.\n",
      "\n"
     ]
    },
    {
     "name": "stdout",
     "output_type": "stream",
     "text": [
      "R_zmq_msg_send errno: 4 strerror: Interrupted system call\n"
     ]
    },
    {
     "name": "stderr",
     "output_type": "stream",
     "text": [
      "2025-02-10 19:27:00.495252 : Adding Feature Tracks (7 of 11), 1.32 mins elapsed.\n",
      "\n",
      "2025-02-10 19:27:00.572982 : Adding Gene Tracks (7 of 11), 1.322 mins elapsed.\n",
      "\n",
      "2025-02-10 19:27:00.899622 : Plotting, 1.327 mins elapsed.\n",
      "\n",
      "2025-02-10 19:27:01.730779 : Adding Bulk Tracks (8 of 11), 1.341 mins elapsed.\n",
      "\n"
     ]
    },
    {
     "name": "stdout",
     "output_type": "stream",
     "text": [
      "R_zmq_msg_send errno: 4 strerror: Interrupted system call\n"
     ]
    },
    {
     "name": "stderr",
     "output_type": "stream",
     "text": [
      "2025-02-10 19:27:09.103034 : Adding Feature Tracks (8 of 11), 1.464 mins elapsed.\n",
      "\n",
      "2025-02-10 19:27:09.171242 : Adding Gene Tracks (8 of 11), 1.465 mins elapsed.\n",
      "\n",
      "2025-02-10 19:27:09.538123 : Plotting, 1.471 mins elapsed.\n",
      "\n",
      "2025-02-10 19:27:10.189576 : Adding Bulk Tracks (9 of 11), 1.482 mins elapsed.\n",
      "\n"
     ]
    },
    {
     "name": "stdout",
     "output_type": "stream",
     "text": [
      "R_zmq_msg_send errno: 4 strerror: Interrupted system call\n"
     ]
    },
    {
     "name": "stderr",
     "output_type": "stream",
     "text": [
      "2025-02-10 19:27:18.003377 : Adding Feature Tracks (9 of 11), 1.612 mins elapsed.\n",
      "\n",
      "2025-02-10 19:27:18.084992 : Adding Gene Tracks (9 of 11), 1.614 mins elapsed.\n",
      "\n",
      "2025-02-10 19:27:18.358547 : Plotting, 1.618 mins elapsed.\n",
      "\n",
      "2025-02-10 19:27:19.115706 : Adding Bulk Tracks (10 of 11), 1.631 mins elapsed.\n",
      "\n"
     ]
    },
    {
     "name": "stdout",
     "output_type": "stream",
     "text": [
      "R_zmq_msg_send errno: 4 strerror: Interrupted system call\n"
     ]
    },
    {
     "name": "stderr",
     "output_type": "stream",
     "text": [
      "2025-02-10 19:27:26.753861 : Adding Feature Tracks (10 of 11), 1.758 mins elapsed.\n",
      "\n",
      "2025-02-10 19:27:26.838684 : Adding Gene Tracks (10 of 11), 1.759 mins elapsed.\n",
      "\n",
      "2025-02-10 19:27:27.300017 : Plotting, 1.767 mins elapsed.\n",
      "\n",
      "2025-02-10 19:27:28.183123 : Adding Bulk Tracks (11 of 11), 1.782 mins elapsed.\n",
      "\n",
      "2025-02-10 19:27:35.33952 : Adding Feature Tracks (11 of 11), 1.901 mins elapsed.\n",
      "\n",
      "2025-02-10 19:27:35.40396 : Adding Gene Tracks (11 of 11), 1.902 mins elapsed.\n",
      "\n",
      "2025-02-10 19:27:35.668438 : Plotting, 1.907 mins elapsed.\n",
      "\n",
      "ArchR logging successful to : ArchRLogs/ArchR-plotBrowserTrack-54d837b26f355-Date-2025-02-10_Time-19-25-41.276122.log\n",
      "\n"
     ]
    }
   ],
   "source": [
    "p <- plotBrowserTrack(\n",
    "    ArchRProj = proj3, \n",
    "    groupBy = \"cell_type\", \n",
    "    geneSymbol = markerGenes, \n",
    "    upstream = 5000,\n",
    "    downstream = 5000,\n",
    "    baseSize = 8, # font size \n",
    "    facetbaseSize = 7 # font size for the gray cell type labels\n",
    ")"
   ]
  },
  {
   "cell_type": "code",
   "execution_count": 5,
   "id": "ccca9d7d-00c9-46a2-b055-3fbe467fe282",
   "metadata": {},
   "outputs": [],
   "source": [
    "options(repr.plot.width = 8, repr.plot.height = 8)\n",
    "\n",
    "for (gene in markerGenes) {\n",
    "    grid::grid.newpage()\n",
    "    grid::grid.draw(p$gene)\n",
    "}"
   ]
  },
  {
   "cell_type": "code",
   "execution_count": 6,
   "id": "ec5a1311-7f4b-4b5f-a746-0d47e980ecd0",
   "metadata": {},
   "outputs": [
    {
     "name": "stderr",
     "output_type": "stream",
     "text": [
      "Plotting Gtable!\n",
      "\n"
     ]
    },
    {
     "name": "stdout",
     "output_type": "stream",
     "text": [
      "NULL\n"
     ]
    },
    {
     "name": "stderr",
     "output_type": "stream",
     "text": [
      "Plotting Gtable!\n",
      "\n"
     ]
    },
    {
     "name": "stdout",
     "output_type": "stream",
     "text": [
      "NULL\n"
     ]
    },
    {
     "name": "stderr",
     "output_type": "stream",
     "text": [
      "Plotting Gtable!\n",
      "\n"
     ]
    },
    {
     "name": "stdout",
     "output_type": "stream",
     "text": [
      "NULL\n"
     ]
    },
    {
     "name": "stderr",
     "output_type": "stream",
     "text": [
      "Plotting Gtable!\n",
      "\n"
     ]
    },
    {
     "name": "stdout",
     "output_type": "stream",
     "text": [
      "NULL\n"
     ]
    },
    {
     "name": "stderr",
     "output_type": "stream",
     "text": [
      "Plotting Gtable!\n",
      "\n"
     ]
    },
    {
     "name": "stdout",
     "output_type": "stream",
     "text": [
      "NULL\n"
     ]
    },
    {
     "name": "stderr",
     "output_type": "stream",
     "text": [
      "Plotting Gtable!\n",
      "\n"
     ]
    },
    {
     "name": "stdout",
     "output_type": "stream",
     "text": [
      "NULL\n"
     ]
    },
    {
     "name": "stderr",
     "output_type": "stream",
     "text": [
      "Plotting Gtable!\n",
      "\n"
     ]
    },
    {
     "name": "stdout",
     "output_type": "stream",
     "text": [
      "NULL\n"
     ]
    },
    {
     "name": "stderr",
     "output_type": "stream",
     "text": [
      "Plotting Gtable!\n",
      "\n"
     ]
    },
    {
     "name": "stdout",
     "output_type": "stream",
     "text": [
      "NULL\n"
     ]
    },
    {
     "name": "stderr",
     "output_type": "stream",
     "text": [
      "Plotting Gtable!\n",
      "\n"
     ]
    },
    {
     "name": "stdout",
     "output_type": "stream",
     "text": [
      "NULL\n"
     ]
    },
    {
     "name": "stderr",
     "output_type": "stream",
     "text": [
      "Plotting Gtable!\n",
      "\n"
     ]
    },
    {
     "name": "stdout",
     "output_type": "stream",
     "text": [
      "NULL\n"
     ]
    },
    {
     "name": "stderr",
     "output_type": "stream",
     "text": [
      "Plotting Gtable!\n",
      "\n"
     ]
    },
    {
     "name": "stdout",
     "output_type": "stream",
     "text": [
      "NULL\n"
     ]
    }
   ],
   "source": [
    "plotPDF(plotList = p, \n",
    "    name = \"Plot-Tracks-Marker-Genes.pdf\", \n",
    "    ArchRProj = proj3, \n",
    "    addDOC = FALSE, \n",
    "        width = 5, height = 5)"
   ]
  },
  {
   "cell_type": "code",
   "execution_count": 7,
   "id": "5b5b30ea-a278-4ac4-afa7-921699945d61",
   "metadata": {},
   "outputs": [
    {
     "name": "stderr",
     "output_type": "stream",
     "text": [
      "Saving ArchRProject...\n",
      "\n",
      "Loading ArchRProject...\n",
      "\n",
      "Successfully loaded ArchRProject!\n",
      "\n",
      "\n",
      "                                                   / |\n",
      "                                                 /    \\\n",
      "            .                                  /      |.\n",
      "            \\\\\\                              /        |.\n",
      "              \\\\\\                          /           `|.\n",
      "                \\\\\\                      /              |.\n",
      "                  \\                    /                |\\\n",
      "                  \\\\#####\\           /                  ||\n",
      "                ==###########>      /                   ||\n",
      "                 \\\\##==......\\    /                     ||\n",
      "            ______ =       =|__ /__                     ||      \\\\\\\n",
      "        ,--' ,----`-,__ ___/'  --,-`-===================##========>\n",
      "       \\               '        ##_______ _____ ,--,__,=##,__   ///\n",
      "        ,    __==    ___,-,__,--'#'  ==='      `-'    | ##,-/\n",
      "        -,____,---'       \\\\####\\\\________________,--\\\\_##,/\n",
      "           ___      .______        ______  __    __  .______      \n",
      "          /   \\     |   _  \\      /      ||  |  |  | |   _  \\     \n",
      "         /  ^  \\    |  |_)  |    |  ,----'|  |__|  | |  |_)  |    \n",
      "        /  /_\\  \\   |      /     |  |     |   __   | |      /     \n",
      "       /  _____  \\  |  |\\  \\\\___ |  `----.|  |  |  | |  |\\  \\\\___.\n",
      "      /__/     \\__\\ | _| `._____| \\______||__|  |__| | _| `._____|\n",
      "    \n",
      "\n",
      "\n",
      "           ___      .______        ______  __    __  .______      \n",
      "          /   \\     |   _  \\      /      ||  |  |  | |   _  \\     \n",
      "         /  ^  \\    |  |_)  |    |  ,----'|  |__|  | |  |_)  |    \n",
      "        /  /_\\  \\   |      /     |  |     |   __   | |      /     \n",
      "       /  _____  \\  |  |\\  \\\\___ |  `----.|  |  |  | |  |\\  \\\\___.\n",
      "      /__/     \\__\\ | _| `._____| \\______||__|  |__| | _| `._____|\n",
      "    \n",
      "\n"
     ]
    },
    {
     "data": {
      "text/plain": [
       "class: ArchRProject \n",
       "outputDirectory: /mnt/data1/william/human_heart_project/Final_manuscript_analysis/ATAC/aggregated_analysis/ArchR_analysis/run_ArchR \n",
       "samples(130): ENCSR051ECW HCAHeartST10773166_HCAHeartST10781063 ...\n",
       "  10X_ATAC_CK174 10X_ATAC_CK349\n",
       "sampleColData names(1): ArrowFiles\n",
       "cellColData names(32): Sample TSSEnrichment ... ReadsInPeaks FRIP\n",
       "numberOfCells(1): 259472\n",
       "medianTSS(1): 10.899\n",
       "medianFrags(1): 5772"
      ]
     },
     "metadata": {},
     "output_type": "display_data"
    }
   ],
   "source": [
    "# save the ArchR project in its current directory\n",
    "saveArchRProject(\n",
    "  ArchRProj = proj3,           \n",
    "  outputDirectory = getwd(),   \n",
    "  overwrite = TRUE             \n",
    ")"
   ]
  }
 ],
 "metadata": {
  "kernelspec": {
   "display_name": "R",
   "language": "R",
   "name": "ir"
  },
  "language_info": {
   "codemirror_mode": "r",
   "file_extension": ".r",
   "mimetype": "text/x-r-source",
   "name": "R",
   "pygments_lexer": "r",
   "version": "4.4.1"
  }
 },
 "nbformat": 4,
 "nbformat_minor": 5
}
